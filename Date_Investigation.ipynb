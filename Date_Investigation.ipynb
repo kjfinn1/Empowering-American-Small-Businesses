{
 "cells": [
  {
   "cell_type": "code",
   "execution_count": 1,
   "id": "9756457d-a748-498d-88be-22b06d34cbad",
   "metadata": {
    "tags": []
   },
   "outputs": [],
   "source": [
    "import pandas as pd\n",
    "import polars as pl\n",
    "import numpy as np"
   ]
  },
  {
   "cell_type": "code",
   "execution_count": 2,
   "id": "8bb1386b-08d8-4641-8ff0-2a578cbc8e59",
   "metadata": {
    "tags": []
   },
   "outputs": [],
   "source": [
    "cols = ['IDV_SIGNED_DATE', 'IDV_EFFECTIVE_DATE', 'IDV_LAST_DATE_TO_ORDER', 'AWARD_FISCAL_YEAR',\n",
    "       'BASE_DATE_SIGNED', 'CLOSED_DATE', 'HIERARCHY_START_DATE', 'FISCAL_YEAR']"
   ]
  },
  {
   "cell_type": "code",
   "execution_count": 3,
   "id": "688d4a49-6182-4068-a80b-d661c56f7802",
   "metadata": {
    "tags": []
   },
   "outputs": [
    {
     "name": "stdout",
     "output_type": "stream",
     "text": [
      "CPU times: user 1.91 s, sys: 3.22 s, total: 5.13 s\n",
      "Wall time: 3.54 s\n"
     ]
    }
   ],
   "source": [
    "%%time\n",
    "test_2022 = pl.read_parquet('2022.parquet', columns=cols)"
   ]
  },
  {
   "cell_type": "code",
   "execution_count": 5,
   "id": "8eef37c9-cf3e-47da-97e7-29a93edefe6f",
   "metadata": {
    "tags": []
   },
   "outputs": [
    {
     "data": {
      "text/plain": [
       "(6088454, 8)"
      ]
     },
     "execution_count": 5,
     "metadata": {},
     "output_type": "execute_result"
    }
   ],
   "source": [
    "test_2022.shape"
   ]
  },
  {
   "cell_type": "code",
   "execution_count": 6,
   "id": "a3a83f7f-9092-429c-8609-e5aa403fcb23",
   "metadata": {
    "tags": []
   },
   "outputs": [
    {
     "data": {
      "text/html": [
       "<div><style>\n",
       ".dataframe > thead > tr > th,\n",
       ".dataframe > tbody > tr > td {\n",
       "  text-align: right;\n",
       "  white-space: pre-wrap;\n",
       "}\n",
       "</style>\n",
       "<small>shape: (9, 9)</small><table border=\"1\" class=\"dataframe\"><thead><tr><th>describe</th><th>IDV_SIGNED_DATE</th><th>IDV_EFFECTIVE_DATE</th><th>IDV_LAST_DATE_TO_ORDER</th><th>AWARD_FISCAL_YEAR</th><th>BASE_DATE_SIGNED</th><th>CLOSED_DATE</th><th>HIERARCHY_START_DATE</th><th>FISCAL_YEAR</th></tr><tr><td>str</td><td>str</td><td>str</td><td>str</td><td>str</td><td>str</td><td>str</td><td>str</td><td>str</td></tr></thead><tbody><tr><td>&quot;count&quot;</td><td>&quot;6088454&quot;</td><td>&quot;6088454&quot;</td><td>&quot;6088454&quot;</td><td>&quot;6088454&quot;</td><td>&quot;6088454&quot;</td><td>&quot;6088454&quot;</td><td>&quot;6088454&quot;</td><td>&quot;6088454&quot;</td></tr><tr><td>&quot;null_count&quot;</td><td>&quot;1149809&quot;</td><td>&quot;1149822&quot;</td><td>&quot;1149877&quot;</td><td>&quot;0&quot;</td><td>&quot;4&quot;</td><td>&quot;3063185&quot;</td><td>&quot;0&quot;</td><td>&quot;6088454&quot;</td></tr><tr><td>&quot;mean&quot;</td><td>null</td><td>null</td><td>null</td><td>null</td><td>null</td><td>null</td><td>null</td><td>null</td></tr><tr><td>&quot;std&quot;</td><td>null</td><td>null</td><td>null</td><td>null</td><td>null</td><td>null</td><td>null</td><td>null</td></tr><tr><td>&quot;min&quot;</td><td>&quot;1981-02-15 00:…</td><td>&quot;1981-02-15 00:…</td><td>&quot;1996-03-15 00:…</td><td>&quot;2022&quot;</td><td>&quot;1962-05-01 00:…</td><td>&quot;2008-12-18 11:…</td><td>&quot;2001-10-01 00:…</td><td>null</td></tr><tr><td>&quot;25%&quot;</td><td>null</td><td>null</td><td>null</td><td>null</td><td>null</td><td>null</td><td>null</td><td>null</td></tr><tr><td>&quot;50%&quot;</td><td>null</td><td>null</td><td>null</td><td>null</td><td>null</td><td>null</td><td>null</td><td>null</td></tr><tr><td>&quot;75%&quot;</td><td>null</td><td>null</td><td>null</td><td>null</td><td>null</td><td>null</td><td>null</td><td>null</td></tr><tr><td>&quot;max&quot;</td><td>&quot;2023-02-14 00:…</td><td>&quot;2028-08-30 00:…</td><td>&quot;9999-12-31 00:…</td><td>&quot;2022&quot;</td><td>&quot;2022-09-30 23:…</td><td>&quot;2023-02-22 23:…</td><td>&quot;2022-09-01 00:…</td><td>null</td></tr></tbody></table></div>"
      ],
      "text/plain": [
       "shape: (9, 9)\n",
       "┌───────────┬───────────┬───────────┬───────────┬───┬───────────┬───────────┬───────────┬──────────┐\n",
       "│ describe  ┆ IDV_SIGNE ┆ IDV_EFFEC ┆ IDV_LAST_ ┆ … ┆ BASE_DATE ┆ CLOSED_DA ┆ HIERARCHY ┆ FISCAL_Y │\n",
       "│ ---       ┆ D_DATE    ┆ TIVE_DATE ┆ DATE_TO_O ┆   ┆ _SIGNED   ┆ TE        ┆ _START_DA ┆ EAR      │\n",
       "│ str       ┆ ---       ┆ ---       ┆ RDER      ┆   ┆ ---       ┆ ---       ┆ TE        ┆ ---      │\n",
       "│           ┆ str       ┆ str       ┆ ---       ┆   ┆ str       ┆ str       ┆ ---       ┆ str      │\n",
       "│           ┆           ┆           ┆ str       ┆   ┆           ┆           ┆ str       ┆          │\n",
       "╞═══════════╪═══════════╪═══════════╪═══════════╪═══╪═══════════╪═══════════╪═══════════╪══════════╡\n",
       "│ count     ┆ 6088454   ┆ 6088454   ┆ 6088454   ┆ … ┆ 6088454   ┆ 6088454   ┆ 6088454   ┆ 6088454  │\n",
       "│ null_coun ┆ 1149809   ┆ 1149822   ┆ 1149877   ┆ … ┆ 4         ┆ 3063185   ┆ 0         ┆ 6088454  │\n",
       "│ t         ┆           ┆           ┆           ┆   ┆           ┆           ┆           ┆          │\n",
       "│ mean      ┆ null      ┆ null      ┆ null      ┆ … ┆ null      ┆ null      ┆ null      ┆ null     │\n",
       "│ std       ┆ null      ┆ null      ┆ null      ┆ … ┆ null      ┆ null      ┆ null      ┆ null     │\n",
       "│ min       ┆ 1981-02-1 ┆ 1981-02-1 ┆ 1996-03-1 ┆ … ┆ 1962-05-0 ┆ 2008-12-1 ┆ 2001-10-0 ┆ null     │\n",
       "│           ┆ 5         ┆ 5         ┆ 5         ┆   ┆ 1         ┆ 8         ┆ 1         ┆          │\n",
       "│           ┆ 00:00:00  ┆ 00:00:00  ┆ 00:00:00  ┆   ┆ 00:00:00  ┆ 11:30:55  ┆ 00:00:00  ┆          │\n",
       "│ 25%       ┆ null      ┆ null      ┆ null      ┆ … ┆ null      ┆ null      ┆ null      ┆ null     │\n",
       "│ 50%       ┆ null      ┆ null      ┆ null      ┆ … ┆ null      ┆ null      ┆ null      ┆ null     │\n",
       "│ 75%       ┆ null      ┆ null      ┆ null      ┆ … ┆ null      ┆ null      ┆ null      ┆ null     │\n",
       "│ max       ┆ 2023-02-1 ┆ 2028-08-3 ┆ 9999-12-3 ┆ … ┆ 2022-09-3 ┆ 2023-02-2 ┆ 2022-09-0 ┆ null     │\n",
       "│           ┆ 4         ┆ 0         ┆ 1         ┆   ┆ 0         ┆ 2         ┆ 1         ┆          │\n",
       "│           ┆ 00:00:00  ┆ 00:00:00  ┆ 00:00:00  ┆   ┆ 23:52:03  ┆ 23:55:01  ┆ 00:00:00  ┆          │\n",
       "└───────────┴───────────┴───────────┴───────────┴───┴───────────┴───────────┴───────────┴──────────┘"
      ]
     },
     "execution_count": 6,
     "metadata": {},
     "output_type": "execute_result"
    }
   ],
   "source": [
    "test_2022.describe()"
   ]
  },
  {
   "cell_type": "code",
   "execution_count": 8,
   "id": "b8b1e414-7d06-45c7-9e44-b0ed16ac851d",
   "metadata": {
    "tags": []
   },
   "outputs": [
    {
     "data": {
      "text/html": [
       "<div><style>\n",
       ".dataframe > thead > tr > th,\n",
       ".dataframe > tbody > tr > td {\n",
       "  text-align: right;\n",
       "  white-space: pre-wrap;\n",
       "}\n",
       "</style>\n",
       "<small>shape: (10, 8)</small><table border=\"1\" class=\"dataframe\"><thead><tr><th>IDV_SIGNED_DATE</th><th>IDV_EFFECTIVE_DATE</th><th>IDV_LAST_DATE_TO_ORDER</th><th>AWARD_FISCAL_YEAR</th><th>BASE_DATE_SIGNED</th><th>CLOSED_DATE</th><th>HIERARCHY_START_DATE</th><th>FISCAL_YEAR</th></tr><tr><td>datetime[ms]</td><td>datetime[ms]</td><td>datetime[ms]</td><td>str</td><td>datetime[ms]</td><td>datetime[ms]</td><td>datetime[ms]</td><td>str</td></tr></thead><tbody><tr><td>2019-12-11 00:00:00</td><td>2020-08-09 00:00:00</td><td>2022-08-08 00:00:00</td><td>&quot;2022&quot;</td><td>2022-05-03 00:00:00</td><td>null</td><td>2016-04-01 00:00:00</td><td>null</td></tr><tr><td>2023-01-24 00:00:00</td><td>2020-07-22 00:00:00</td><td>2025-11-04 00:00:00</td><td>&quot;2022&quot;</td><td>2022-09-29 00:00:00</td><td>null</td><td>2016-04-01 00:00:00</td><td>null</td></tr><tr><td>2020-01-01 00:00:00</td><td>2022-06-28 00:00:00</td><td>2027-08-27 00:00:00</td><td>&quot;2022&quot;</td><td>2022-09-07 00:00:00</td><td>2022-09-29 09:31:12</td><td>2019-11-12 00:00:00</td><td>null</td></tr><tr><td>2021-05-06 00:00:00</td><td>2020-08-03 11:17:47</td><td>2025-08-02 18:16:08</td><td>&quot;2022&quot;</td><td>2022-09-29 00:00:00</td><td>null</td><td>2016-04-01 00:00:00</td><td>null</td></tr><tr><td>2020-01-01 00:00:00</td><td>2022-06-28 00:00:00</td><td>2027-08-27 00:00:00</td><td>&quot;2022&quot;</td><td>2022-09-16 00:00:00</td><td>2022-10-13 09:41:05</td><td>2019-11-12 00:00:00</td><td>null</td></tr><tr><td>2022-02-16 00:00:00</td><td>2022-03-01 00:00:00</td><td>2028-02-27 00:00:00</td><td>&quot;2022&quot;</td><td>2022-05-04 00:00:00</td><td>null</td><td>2003-10-01 00:00:00</td><td>null</td></tr><tr><td>null</td><td>null</td><td>null</td><td>&quot;2022&quot;</td><td>2015-09-10 00:00:00</td><td>null</td><td>2018-10-01 00:00:00</td><td>null</td></tr><tr><td>2020-09-28 00:00:00</td><td>2020-08-03 11:17:51</td><td>2025-08-02 08:39:12</td><td>&quot;2022&quot;</td><td>2022-09-22 00:00:00</td><td>null</td><td>2016-04-01 00:00:00</td><td>null</td></tr><tr><td>2019-09-24 00:00:00</td><td>2019-09-24 00:00:00</td><td>2024-09-23 00:00:00</td><td>&quot;2022&quot;</td><td>2022-09-16 00:00:00</td><td>null</td><td>2016-04-01 00:00:00</td><td>null</td></tr><tr><td>null</td><td>null</td><td>null</td><td>&quot;2022&quot;</td><td>2017-09-28 00:00:00</td><td>null</td><td>2016-04-01 00:00:00</td><td>null</td></tr></tbody></table></div>"
      ],
      "text/plain": [
       "shape: (10, 8)\n",
       "┌────────────┬────────────┬────────────┬───────────┬───────────┬───────────┬───────────┬───────────┐\n",
       "│ IDV_SIGNED ┆ IDV_EFFECT ┆ IDV_LAST_D ┆ AWARD_FIS ┆ BASE_DATE ┆ CLOSED_DA ┆ HIERARCHY ┆ FISCAL_YE │\n",
       "│ _DATE      ┆ IVE_DATE   ┆ ATE_TO_ORD ┆ CAL_YEAR  ┆ _SIGNED   ┆ TE        ┆ _START_DA ┆ AR        │\n",
       "│ ---        ┆ ---        ┆ ER         ┆ ---       ┆ ---       ┆ ---       ┆ TE        ┆ ---       │\n",
       "│ datetime[m ┆ datetime[m ┆ ---        ┆ str       ┆ datetime[ ┆ datetime[ ┆ ---       ┆ str       │\n",
       "│ s]         ┆ s]         ┆ datetime[m ┆           ┆ ms]       ┆ ms]       ┆ datetime[ ┆           │\n",
       "│            ┆            ┆ s]         ┆           ┆           ┆           ┆ ms]       ┆           │\n",
       "╞════════════╪════════════╪════════════╪═══════════╪═══════════╪═══════════╪═══════════╪═══════════╡\n",
       "│ 2019-12-11 ┆ 2020-08-09 ┆ 2022-08-08 ┆ 2022      ┆ 2022-05-0 ┆ null      ┆ 2016-04-0 ┆ null      │\n",
       "│ 00:00:00   ┆ 00:00:00   ┆ 00:00:00   ┆           ┆ 3         ┆           ┆ 1         ┆           │\n",
       "│            ┆            ┆            ┆           ┆ 00:00:00  ┆           ┆ 00:00:00  ┆           │\n",
       "│ 2023-01-24 ┆ 2020-07-22 ┆ 2025-11-04 ┆ 2022      ┆ 2022-09-2 ┆ null      ┆ 2016-04-0 ┆ null      │\n",
       "│ 00:00:00   ┆ 00:00:00   ┆ 00:00:00   ┆           ┆ 9         ┆           ┆ 1         ┆           │\n",
       "│            ┆            ┆            ┆           ┆ 00:00:00  ┆           ┆ 00:00:00  ┆           │\n",
       "│ 2020-01-01 ┆ 2022-06-28 ┆ 2027-08-27 ┆ 2022      ┆ 2022-09-0 ┆ 2022-09-2 ┆ 2019-11-1 ┆ null      │\n",
       "│ 00:00:00   ┆ 00:00:00   ┆ 00:00:00   ┆           ┆ 7         ┆ 9         ┆ 2         ┆           │\n",
       "│            ┆            ┆            ┆           ┆ 00:00:00  ┆ 09:31:12  ┆ 00:00:00  ┆           │\n",
       "│ 2021-05-06 ┆ 2020-08-03 ┆ 2025-08-02 ┆ 2022      ┆ 2022-09-2 ┆ null      ┆ 2016-04-0 ┆ null      │\n",
       "│ 00:00:00   ┆ 11:17:47   ┆ 18:16:08   ┆           ┆ 9         ┆           ┆ 1         ┆           │\n",
       "│            ┆            ┆            ┆           ┆ 00:00:00  ┆           ┆ 00:00:00  ┆           │\n",
       "│ …          ┆ …          ┆ …          ┆ …         ┆ …         ┆ …         ┆ …         ┆ …         │\n",
       "│ null       ┆ null       ┆ null       ┆ 2022      ┆ 2015-09-1 ┆ null      ┆ 2018-10-0 ┆ null      │\n",
       "│            ┆            ┆            ┆           ┆ 0         ┆           ┆ 1         ┆           │\n",
       "│            ┆            ┆            ┆           ┆ 00:00:00  ┆           ┆ 00:00:00  ┆           │\n",
       "│ 2020-09-28 ┆ 2020-08-03 ┆ 2025-08-02 ┆ 2022      ┆ 2022-09-2 ┆ null      ┆ 2016-04-0 ┆ null      │\n",
       "│ 00:00:00   ┆ 11:17:51   ┆ 08:39:12   ┆           ┆ 2         ┆           ┆ 1         ┆           │\n",
       "│            ┆            ┆            ┆           ┆ 00:00:00  ┆           ┆ 00:00:00  ┆           │\n",
       "│ 2019-09-24 ┆ 2019-09-24 ┆ 2024-09-23 ┆ 2022      ┆ 2022-09-1 ┆ null      ┆ 2016-04-0 ┆ null      │\n",
       "│ 00:00:00   ┆ 00:00:00   ┆ 00:00:00   ┆           ┆ 6         ┆           ┆ 1         ┆           │\n",
       "│            ┆            ┆            ┆           ┆ 00:00:00  ┆           ┆ 00:00:00  ┆           │\n",
       "│ null       ┆ null       ┆ null       ┆ 2022      ┆ 2017-09-2 ┆ null      ┆ 2016-04-0 ┆ null      │\n",
       "│            ┆            ┆            ┆           ┆ 8         ┆           ┆ 1         ┆           │\n",
       "│            ┆            ┆            ┆           ┆ 00:00:00  ┆           ┆ 00:00:00  ┆           │\n",
       "└────────────┴────────────┴────────────┴───────────┴───────────┴───────────┴───────────┴───────────┘"
      ]
     },
     "execution_count": 8,
     "metadata": {},
     "output_type": "execute_result"
    }
   ],
   "source": [
    "test_2022.tail(10)"
   ]
  }
 ],
 "metadata": {
  "kernelspec": {
   "display_name": "Python 3 (ipykernel)",
   "language": "python",
   "name": "python3"
  },
  "language_info": {
   "codemirror_mode": {
    "name": "ipython",
    "version": 3
   },
   "file_extension": ".py",
   "mimetype": "text/x-python",
   "name": "python",
   "nbconvert_exporter": "python",
   "pygments_lexer": "ipython3",
   "version": "3.11.4"
  }
 },
 "nbformat": 4,
 "nbformat_minor": 5
}
