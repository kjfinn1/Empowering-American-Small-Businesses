{
 "cells": [
  {
   "cell_type": "code",
   "execution_count": 125,
   "id": "0781ba92-d584-4ed5-921c-cab270f18d31",
   "metadata": {},
   "outputs": [],
   "source": [
    "import pandas as pd\n",
    "import numpy as np"
   ]
  },
  {
   "cell_type": "markdown",
   "id": "a8af5f20-0588-4723-b39b-016cfe7445f2",
   "metadata": {},
   "source": [
    "After merging: \n",
    "- filter only for unique contracts over the years - do we assume MODIFICATION == 0 shows up only once for each contract"
   ]
  },
  {
   "cell_type": "markdown",
   "id": "98d4f1e7-bc79-4fbe-86b2-6ddbe21b6889",
   "metadata": {},
   "source": [
    "### Cols for Classification Model "
   ]
  },
  {
   "cell_type": "code",
   "execution_count": 126,
   "id": "8135de6f-38e8-4972-8732-374727085650",
   "metadata": {},
   "outputs": [],
   "source": [
    "cols = [# RESPONSE VARIABLE\n",
    "        #'FUNDING_AGENCY_NAME',\n",
    "        'FUNDING_OFFICE_NAME', # use for main model \n",
    "        #'FUNDING_DEPARTMENT_NAME',\n",
    "    \n",
    "        # IDENTIFIERS\n",
    "        'PIID',\n",
    "        'IDV_PIID', # Indefinite delivery vehicle procurement instrument identifiers\n",
    "        'FUNDING_DEPARTMENT_ID',\n",
    "        # Funding Department ID + IDV PIID + PIID concatenated should give unique ID for a contract\n",
    "        # null IDV PIID + PIID gives the non-IDV contracts\n",
    "        'CAGE_CODE', # Code for the entity\n",
    "        # CAGE Code has been used for the entire dataset so can act as a unique entity ID\n",
    "        # Unique Entity ID\n",
    "        # 'VENDOR_UEI', # these two don't match about half the time \n",
    "        # 'ULTIMATE_UEI', # check previous years - DUNS before 2022\n",
    "\n",
    "        # OTHER\n",
    "        'AWARD_FISCAL_YEAR',\n",
    "        'VENDOR_ADDRESS_ZIP_CODE', #use only first 5 digits, drop NAs, least amount of NAs \n",
    "        'TYPE_OF_SET_ASIDE', # Type of Set Aside determined for the contract action 10N in dictionary \n",
    "        'DATE_SIGNED', # The date that a mutually binding agreement was reached. \"2022-09-15\"\n",
    "        'EVALUATED_PREFERENCE', #------------\n",
    "        # Evaluated Preference makes all non-HUBZone entities’ bid prices up 10% when evaluating\n",
    "    \n",
    "        # Number of Offers\n",
    "        'NUMBER_OF_OFFERS_RECEIVED', #a lot of NaNs\n",
    "        # The number of actual offers/bids received in response to the solicitation.\n",
    "        'IDV_NUMBER_OF_OFFERS',\n",
    "        'AWARD_OR_IDV', # award or IDV - mostly Award \n",
    "\n",
    "\n",
    "        # FILTERING\n",
    "        'CO_BUS_SIZE_DETERMINATION', # ==\"SMALL BUSSINES\" / \"OTHER THAN SMALL BUSINESS\"\n",
    "        'VENDOR_ADDRESS_COUNTRY_NAME', # == USA filter \n",
    "        'MODIFICATION_NUMBER', # filtering == 0 \n",
    "        'EXTENT_COMPETED', # see notes, possibly filter by A,D,E,CDO\n",
    "\n",
    "        # CONTRACT VALUE\n",
    "        'ULTIMATE_CONTRACT_VALUE', # Mutually agreed upon TOTAL contract value including all options \n",
    "        #(also includes estimated value of all potential orders for IDVs)\n",
    "    \n",
    "        # NAICS\n",
    "        'PRINCIPAL_NAICS_CODE', # 'number' (NAICS codes are updated every 5 years(2012,2017,2022), incosistencies? \n",
    "        #The first two digits of the code designate the sector, the third digit designates the subsector, \n",
    "        #the fourth digit designates the industry group, the fifth digit designates the NAICS industry, \n",
    "        #and the sixth digit designates the national industry. \n",
    "\n",
    "\n",
    "        ## GENERAL BUSINESS QUESTIONS + add Indian\n",
    "        'CORP_ENTITY_NOT_TAX_EXEMPT', #YES/NO, no nan\n",
    "        'CORP_ENTITY_TAX_EXEMPT', #YES/NO, no nan \n",
    "        'LIMITED_LIABILITY_CORPORATION', #YES/NO, no nan\n",
    "        'PARTNERSHIP_OR_LLP', #YES/NO, no nan\n",
    "        'SOLE_PROPREITORSHIP', #YES/NO, no nan\n",
    "        'SMALL_AGRICULTURAL_COOPERATIVE', #YES/NO, no nan\n",
    "        'INTERNATIONAL_ORGANIZATION',  #YES/NO, no nan\n",
    "        'ARCHITECTURE_AND_ENGINEERING', #YES/NO, no nan\n",
    "        'COMMUNITY_CORP_OWNED_FIRM', #YES/NO, no nan\n",
    "        'CONSTRUCTION_FIRM', #YES/NO, no nan\n",
    "        'DOMESTIC_SHELTER', #YES/NO, no nan\n",
    "        'FOUNDATION', #YES/NO, no nan\n",
    "        'RESEARCH_AND_DEVELOPMENT', #YES/NO, no nan\n",
    "        'VETERINARY_HOSPITAL', #YES/NO, no nan\n",
    "        'HISPANIC_SERVICING_INSTITUTION', #YES/NO, no nan\n",
    "        'FOR_PROFIT_ORGANIZATION', #YES/NO, no nan\n",
    "        'EDUCATIONAL_INSTITUTION_FLAG', #YES/NO, no nan\n",
    "        'MANUFACTURER_OF_GOODS', #YES/NO, no nan\n",
    "        'SERVICE_PROVIDER', #YES/NO, no nan\n",
    "        'INDIAN_TRIBE', #YES/NO, no nan # Buy Indian\n",
    "\n",
    "        # MANUFACTURE - is the product you're selling made in the US \n",
    "        # YES, NO, Not a manufactured end product \n",
    "        # 'PLACE_OF_MANUFACTURE_CLASS'\n",
    "        'PLACE_OF_MANUFACTURE', \n",
    "        \n",
    "\n",
    "        # NON-CERTIFIED \n",
    "        #Veteran-Owned Business\n",
    "        'VETERAN_OWNED_FLAG',\n",
    "        #Service-Disabled Veteran-Owned Business\n",
    "        'SRDVOB_FLAG',\n",
    "        # Women-Owned Business\n",
    "        'WOMEN_OWNED_FLAG']"
   ]
  },
  {
   "cell_type": "code",
   "execution_count": null,
   "id": "73bf112d-744c-4e31-af7a-32d18440debe",
   "metadata": {},
   "outputs": [],
   "source": [
    "### From SAM DataSet \n",
    "\n",
    "        # NON-CERTIFIED\n",
    "\n",
    "        [#Minority-Owned Business\n",
    "        'SELF_8A',\n",
    "        #Women-Owned Small Business\n",
    "        'SELF_WOSB',\n",
    "        # Economically Disadvantaged Women-Owned Small Business\n",
    "        'SELF_EDWOSB',\n",
    "        #Self-Certified Small Disadvantaged Business\n",
    "        'SELF_SDB',\n",
    "\n",
    "        # CERTIFIED \n",
    "        \n",
    "        #SBA Certified 8(a) Program Participant\n",
    "        'CERT_8A',\n",
    "        #SBA Certified Small Disadvantaged Business\n",
    "        'CERT_SDB',\n",
    "        #SBA-Certified Women-Owned Small Business\n",
    "        'CERT_WOSB',\n",
    "        #SBA-Certified Economically Disadvantaged Women-Owned Small Business\n",
    "        'CERT_EDWOSB',\n",
    "        \n",
    "        #SBA Certified HUBZone Firm - How can we use this?\n",
    "        # Evaluated Preference makes all non-HUBZone entities’ bid prices up 10% when evaluating\n",
    "        'CERT_HUBZone']"
   ]
  },
  {
   "cell_type": "code",
   "execution_count": 127,
   "id": "e5e586e7-4f26-47cd-a549-06bcc3488ed5",
   "metadata": {},
   "outputs": [],
   "source": [
    "test_2022 = pd.read_parquet('2022.parquet', engine='pyarrow',columns=cols)"
   ]
  },
  {
   "cell_type": "code",
   "execution_count": 137,
   "id": "c06a6f47-ddea-44fa-b8bc-758ea9cd9933",
   "metadata": {},
   "outputs": [],
   "source": [
    "test_2020 = pd.read_parquet('2020.parquet', engine='pyarrow',columns=cols)"
   ]
  },
  {
   "cell_type": "code",
   "execution_count": 134,
   "id": "5fc44efe-9543-45cf-8600-aa40dfb74691",
   "metadata": {},
   "outputs": [
    {
     "data": {
      "text/plain": [
       "(4692742, 43)"
      ]
     },
     "execution_count": 134,
     "metadata": {},
     "output_type": "execute_result"
    }
   ],
   "source": [
    "filtered_data.shape"
   ]
  },
  {
   "cell_type": "code",
   "execution_count": 138,
   "id": "a8f447a6-c90a-43b6-9e05-0afb7cd078a1",
   "metadata": {},
   "outputs": [
    {
     "data": {
      "text/html": [
       "<div>\n",
       "<style scoped>\n",
       "    .dataframe tbody tr th:only-of-type {\n",
       "        vertical-align: middle;\n",
       "    }\n",
       "\n",
       "    .dataframe tbody tr th {\n",
       "        vertical-align: top;\n",
       "    }\n",
       "\n",
       "    .dataframe thead th {\n",
       "        text-align: right;\n",
       "    }\n",
       "</style>\n",
       "<table border=\"1\" class=\"dataframe\">\n",
       "  <thead>\n",
       "    <tr style=\"text-align: right;\">\n",
       "      <th></th>\n",
       "      <th>VENDOR_UEI</th>\n",
       "      <th>ULTIMATE_UEI</th>\n",
       "      <th>CAGE_CODE</th>\n",
       "    </tr>\n",
       "  </thead>\n",
       "  <tbody>\n",
       "    <tr>\n",
       "      <th>0</th>\n",
       "      <td>None</td>\n",
       "      <td>None</td>\n",
       "      <td>1XUY5</td>\n",
       "    </tr>\n",
       "    <tr>\n",
       "      <th>1</th>\n",
       "      <td>None</td>\n",
       "      <td>None</td>\n",
       "      <td>1R074</td>\n",
       "    </tr>\n",
       "    <tr>\n",
       "      <th>2</th>\n",
       "      <td>None</td>\n",
       "      <td>None</td>\n",
       "      <td>6D0X3</td>\n",
       "    </tr>\n",
       "    <tr>\n",
       "      <th>3</th>\n",
       "      <td>None</td>\n",
       "      <td>None</td>\n",
       "      <td>8ATX9</td>\n",
       "    </tr>\n",
       "    <tr>\n",
       "      <th>4</th>\n",
       "      <td>None</td>\n",
       "      <td>None</td>\n",
       "      <td>1CR65</td>\n",
       "    </tr>\n",
       "  </tbody>\n",
       "</table>\n",
       "</div>"
      ],
      "text/plain": [
       "  VENDOR_UEI ULTIMATE_UEI CAGE_CODE\n",
       "0       None         None     1XUY5\n",
       "1       None         None     1R074\n",
       "2       None         None     6D0X3\n",
       "3       None         None     8ATX9\n",
       "4       None         None     1CR65"
      ]
     },
     "execution_count": 138,
     "metadata": {},
     "output_type": "execute_result"
    }
   ],
   "source": [
    "test_2020[['VENDOR_UEI','ULTIMATE_UEI','CAGE_CODE']][0:5]"
   ]
  },
  {
   "cell_type": "code",
   "execution_count": 131,
   "id": "9eee0e14-ba2b-4b51-ae40-eae3581c2e26",
   "metadata": {},
   "outputs": [
    {
     "data": {
      "text/plain": [
       "2355971"
      ]
     },
     "execution_count": 131,
     "metadata": {},
     "output_type": "execute_result"
    }
   ],
   "source": [
    "same_values_count = (filtered_data['VENDOR_UEI'] == filtered_data['ULTIMATE_UEI']).sum()\n",
    "same_values_count"
   ]
  },
  {
   "cell_type": "code",
   "execution_count": 124,
   "id": "ba59a1a7-469b-42d9-bd6c-e43d6d3236f3",
   "metadata": {},
   "outputs": [
    {
     "data": {
      "text/plain": [
       "TYPE_OF_SET_ASIDE\n",
       "NONE        3842742\n",
       "SBA          748902\n",
       "SDVOSBC       31359\n",
       "8A            28879\n",
       "HZC           20196\n",
       "SBP           11634\n",
       "WOSB           5384\n",
       "8AN            1619\n",
       "ISBEE           549\n",
       "SDVOSBS         426\n",
       "VSA             350\n",
       "EDWOSB          232\n",
       "BI              169\n",
       "WOSBSS          109\n",
       "IEE              86\n",
       "HZS              85\n",
       "EDWOSBSS         12\n",
       "RSB               7\n",
       "HMT               1\n",
       "HMP               1\n",
       "Name: count, dtype: int64"
      ]
     },
     "execution_count": 124,
     "metadata": {},
     "output_type": "execute_result"
    }
   ],
   "source": [
    "filtered_data['TYPE_OF_SET_ASIDE'].value_counts()"
   ]
  },
  {
   "cell_type": "code",
   "execution_count": 37,
   "id": "f5dbca70-d184-4018-bf47-6660c12f21e4",
   "metadata": {},
   "outputs": [
    {
     "data": {
      "text/plain": [
       "EXTENT_COMPETED\n",
       "A    3274938\n",
       "D     701452\n",
       "E          6\n",
       "Name: count, dtype: int64"
      ]
     },
     "execution_count": 37,
     "metadata": {},
     "output_type": "execute_result"
    }
   ],
   "source": [
    "new_data['EXTENT_COMPETED'].value_counts()"
   ]
  },
  {
   "cell_type": "code",
   "execution_count": 56,
   "id": "4b05952e-a149-46e0-bd9c-3d6e672a5baf",
   "metadata": {},
   "outputs": [
    {
     "data": {
      "text/plain": [
       "NUMBER_OF_OFFERS_RECEIVED\n",
       "22.0     188162\n",
       "5.0       59647\n",
       "1.0       49425\n",
       "999.0     42675\n",
       "3.0       30677\n",
       "          ...  \n",
       "150.0         1\n",
       "130.0         1\n",
       "173.0         1\n",
       "53.0          1\n",
       "48.0          1\n",
       "Name: count, Length: 79, dtype: int64"
      ]
     },
     "execution_count": 56,
     "metadata": {},
     "output_type": "execute_result"
    }
   ],
   "source": [
    "cleaned_data['NUMBER_OF_OFFERS_RECEIVED'].value_counts()"
   ]
  },
  {
   "cell_type": "code",
   "execution_count": 57,
   "id": "4a76181d-4a84-4880-a44d-a99cd80d8db7",
   "metadata": {},
   "outputs": [
    {
     "data": {
      "text/plain": [
       "IDV_NUMBER_OF_OFFERS\n",
       "22.0     188498\n",
       "999.0     83746\n",
       "5.0       57450\n",
       "29.0      28375\n",
       "10.0      23929\n",
       "          ...  \n",
       "111.0         1\n",
       "106.0         1\n",
       "600.0         1\n",
       "120.0         1\n",
       "94.0          1\n",
       "Name: count, Length: 156, dtype: int64"
      ]
     },
     "execution_count": 57,
     "metadata": {},
     "output_type": "execute_result"
    }
   ],
   "source": [
    "cleaned_data['IDV_NUMBER_OF_OFFERS'].value_counts()"
   ]
  },
  {
   "cell_type": "code",
   "execution_count": 13,
   "id": "7a2228cb-d572-434b-b492-6369c099b2b4",
   "metadata": {},
   "outputs": [],
   "source": [
    "pd.set_option('display.max_rows', None)"
   ]
  },
  {
   "cell_type": "code",
   "execution_count": null,
   "id": "ff7a582c-1224-40bb-88a2-8d15595a0c4e",
   "metadata": {},
   "outputs": [],
   "source": []
  },
  {
   "cell_type": "code",
   "execution_count": 141,
   "id": "a60ce2a4-ceae-40eb-a08b-085b38112bb1",
   "metadata": {},
   "outputs": [
    {
     "data": {
      "text/plain": [
       "EVALUATED_PREFERENCE\n",
       "NONE    4682257\n",
       "HZE         642\n",
       "SPS           3\n",
       "Name: count, dtype: int64"
      ]
     },
     "execution_count": 141,
     "metadata": {},
     "output_type": "execute_result"
    }
   ],
   "source": [
    "filtered_data['EVALUATED_PREFERENCE'].value_counts()"
   ]
  },
  {
   "cell_type": "markdown",
   "id": "25f04d03-821e-460a-a79a-71a534e33b07",
   "metadata": {},
   "source": [
    "### Notes:\n",
    "**EXTENT_COMPETED**\n",
    "1. A - **Full and Open Competition**\n",
    "   - Report this code if the action resulted from an award pursuant to FAR 6.102(a) - sealed bid, FAR 6.102(b) - competitive proposal, FAR 6.102(c) - Combination, or any other competitive method that did not exclude sources of any type\n",
    "2. B - **Not Available for Competition**\n",
    "   - Select this code when the contract is not available for competition\n",
    "3. C - **Not Competed**\n",
    "   - Select this code when the contract is not competed.\n",
    "4. D - **Full and Open Competition after exclusion of sources**\n",
    "   - Select this code when some sources are excluded before competition\n",
    "5. E - **Follow On to Competed Action**\n",
    "   - Select this code when the action is a follow on to an existing competed contract. FAR 6.302-1. (Note: This is not applicable to Version 1.4/1.5 documents.)\n",
    "6. F - **Competed under SAP**\n",
    "   - Select this code when the action is competed under the Simplified Acquisition Procedures.\n",
    "7. G - **Not Competed under SAP**\n",
    "   - Select this code when the action is NOT competed under the Simplified Acquisition Procedures.\n",
    "8. CDO - **Competitive Delivery Order**\n",
    "   - Apply to Full and Open Competition pursuant to FAR 6.1 and only apply to Delivery Orders) Report this code if the IDV Type is a Federal Schedule. Report this code when the Order delivery/task order award was made pursuant to a process that permitted each contract awardee a fair opportunity to be considered. See FAR Part 16.505(b)(1). Report this code if the action is for the award of a multiple award schedule or an order against a multiple award schedule pursuant to FAR 6.102(d)(3) and the applicable provisions referenced there under. (Note: This is not applicable to Version 1.4/1.5 documents.)\n",
    "9. NDO - **Non-Competitive Delivery Order**\n",
    "    - Report this code when competitive procedures are not used in awarding the delivery order for a reason not included above (when the action was non-competitive). (Note: This is not applicable to Version 1.4/1.5 documents.)\n"
   ]
  },
  {
   "cell_type": "markdown",
   "id": "b97fa20e-2808-40a2-8e43-448279544875",
   "metadata": {},
   "source": [
    "**TYPE_OF_SET_ASIDE**\n",
    "1. NONE - **No set aside used**\n",
    "   - Report this code if the contract award was not a socio-economic program set-aside.\n",
    "3. SBA - **Small Business Set Aside - Total**\n",
    "   - Report this code for a small business set aside.      \n",
    "5. SDVOSBC - **Service-Disabled Veteran-Owned Small Business Set-Aside**\n",
    "   - Report this code for contract awards exceeding the micro purchase threshold set-aside for competition restricted to service-disabled\n",
    "     veteran-owned small business concerns. \n",
    "7. 8A - **8A Competed**\n",
    "   - Report this code for an 8a award pursuant to            \n",
    "9. HZC - **HUBZone Set-Aside**\n",
    "    - Report this code if the award was made to a HUBZone small business concern after being competed among only HUBZone small business\n",
    "      concerns      \n",
    "11. SBP - **Small Business Set-Aside -- Partial**\n",
    "    - Report this code for a partial small business set aside made pursuant to FAR 19.502-3.\n",
    "12. ESB - **Emerging Small Business Set-Aside**\n",
    "    - Enter this code if the action was an emerging small business reserve award (set-aside) within a designated industry group under the\n",
    "      Small Business Competitiveness Demonstration Program\n",
    "13. WOSB - **Women-Owned Small Business**\n",
    "    - Report this code for a Women-Owned Small Business Set-Aside made pursuant to FAR 19.15. This code is only valid for actions signed on\n",
    "      or after 4/01/2011.\n",
    "15. 8AN - **8(a) Sole Source**\n",
    "    - Report this code for actions with the Small Business Administration pursuant to FAR 19.8, or directly with an 8(a) contractor pursuant\n",
    "      to a memorandum of understanding between the SBA and the reporting agency per 219.811   \n",
    "16. ISBEE - **Indian Small Business Economic Enterprise**\n",
    "    - Report this code if applicable. This value can only be used by the Department of Interior. The start date is 7/8/2013.      \n",
    "17. SDVOSBS - **Service-Disabled Veteran-Owned Small Business Set-Aside**\n",
    "    - Report this code for contract awards exceeding the micro purchase threshold set-aside for competition restricted to service-disabled\n",
    "      veteran-owned small business concerns.\n",
    "18. VSA - **Veteran Set Aside**\n",
    "    - Report this code for actions with Veteran-Owned Businesses             \n",
    "20. EDWOSB - **Economically Disadvantaged Women-Owned Small Business**\n",
    "    - Report this code for an Economically Disadvantaged Women-Owned Small Business Set-Aside made pursuant to FAR 19.15. This code is only\n",
    "      valid for actions signed on or after 4/01/2011.       \n",
    "22. BI - **Buy Indian**\n",
    "    - Report this code if applicable. As of 7/8/2013 this value can no longer be used by the Department of Interior. This code can still be\n",
    "      used by the Indian Health Service of the Department of Health and Human Services.           \n",
    "23. WOSBSS - **Women-Owned Small Business Sole Source**\n",
    "    - Report this code for a Women-Owned Small Business Sole Source made pursuant to FAR 19.15. This code is only valid for actions signed\n",
    "      on or after 11/13/2015.    \n",
    "25. IEE - **Indian Economic Enterprise**\n",
    "    - Report this code if applicable. This value can only be used by the Department of Interior. The start date is 7/8/2013.           \n",
    "26. HZS - **HUBZone Sole Source**\n",
    "    - Report this code if the award was made through noncompetitive procedures to a HUBZone small business concern under the authority of\n",
    "      FAR 19.1306.            \n",
    "27. EDWOSBSS - **Economically Disadvantaged Women-Owned Small Business Sole Source**\n",
    "    - Report this code for an Economically Disadvantaged Women-Owned Small Business Sole Source made pursuant to FAR 19.15. This code is\n",
    "      only valid for actions signed on or after 11/13/2015.       \n",
    "29. RSB - **Reserved for Small Business**\n",
    "    - Report this code if awards exceeds the micro-purchase threshold but does not exceed the simplified acquisition threshold. FAR 13. This\n",
    "      code is valid until 10/31/2009               \n",
    "30. HMT - **HBCU or MI Set-Aside -- Total**\n",
    "    - Report this code for an award directed to a Historically Black College/University or Minority Institution          \n",
    "31. HMP - **HBCU or MI Set-Aside -- Partial**\n",
    "    - Report this code for contract awards directed to Historically Black College/University of Minority Institution per DFARS 235.016\n",
    "32. SDVOSBS - **SDVOSB Sole Source**\n",
    "    - Report this code for contract awards exceeding the micro purchase threshold set-aside for non competitive award to service-disabled\n",
    "      veteran-owned small business concerns.\n",
    "33. VSS - **Veteran Sole Source**\n",
    "    - Report this code for actions with Veteran-Owned Businesses.\n"
   ]
  },
  {
   "cell_type": "markdown",
   "id": "1b36d93d-4d93-469b-be8b-a386c6ed348b",
   "metadata": {},
   "source": [
    "**EVALUATED_PREFERENCE**\n",
    "\n",
    "1. NONE - **No Preference used**\n",
    "2. HZE - **HUBZone Price Evaluation**\n",
    "   - Report this code if the award was made through full and open competition with award to a HUBZone small business concern as a result of\n",
    "     the HUBZone price evaluation preference. See FAR 19.1307\n",
    "3. SPS - **SDB Preferential Consideration Partial SB Set Aside**\n",
    "   - Report this code if the award was made through Full and Open Competition after Exclusion of Sources pursuant to FAR 6.2. Enter this\n",
    "     code if the action was a partial set-aside for small business and - Partial SB Set-Aside preferential consideration resulted in an\n",
    "     award to an SDB.\n",
    "4. SDA - **SDB Price Evaluation**\n",
    "   - Report this code for an award made through full and open competition with award to a small disadvantaged business as a result of the\n",
    "     application of a price evaluation adjustment pursuant to FAR 19.11.\n",
    "5. HSD - **Combined HUB/SDB Preference**\n",
    "   - Report this code if the award was made through full and open competition after the application of both the HUBZone Price Evaluation\n",
    "     Adjustment Preference (FAR 19.13) and the Small Disadvantaged Business Price Evaluation Adjustment per FAR 19.11"
   ]
  },
  {
   "cell_type": "markdown",
   "id": "ad8dcc41-823e-4c74-96e1-0d130a256620",
   "metadata": {},
   "source": [
    "### Feature engineering"
   ]
  },
  {
   "cell_type": "code",
   "execution_count": 95,
   "id": "af7ee206-ea06-4941-8ed1-6aaa7d5bcb98",
   "metadata": {},
   "outputs": [],
   "source": [
    "# PLACE_OF_MANUFACTURE\n",
    "# PLACE_OF_MANUFACTURE_CLASS\n",
    "# Make NaN into N/A\n",
    "filtered_data['PLACE_OF_MANUFACTURE'] = filtered_data['PLACE_OF_MANUFACTURE'].fillna('N/A')\n",
    "# create new  column \n",
    "# YES - made in US\n",
    "# NO - not made in US\n",
    "# NONE - Not selling a product \n",
    "\n",
    "def convert_place_of_manufacture(value):\n",
    "    if value == 'D':\n",
    "        return 'YES'\n",
    "    elif value == 'C':\n",
    "        return 'NO'\n",
    "    elif value in ['N/A', 'A', 'G', 'E', 'H', 'L', 'J', 'F', 'K', 'B', 'I']:\n",
    "        return 'NONE'\n",
    "    else:\n",
    "        return 'NONE'\n",
    "\n",
    "filtered_data['PLACE_OF_MANUFACTURE_CLASS'] = filtered_data['PLACE_OF_MANUFACTURE'].apply(convert_place_of_manufacture)\n"
   ]
  },
  {
   "cell_type": "code",
   "execution_count": null,
   "id": "3dac0113-dc43-4ace-9601-7aebe2d0dc36",
   "metadata": {},
   "outputs": [],
   "source": []
  },
  {
   "cell_type": "markdown",
   "id": "1b4a50bf-7921-402a-8f08-c09dc043b479",
   "metadata": {},
   "source": [
    "### Transform "
   ]
  },
  {
   "cell_type": "code",
   "execution_count": 31,
   "id": "de035dab-304f-4bc3-8fa5-c3da131a6cb8",
   "metadata": {},
   "outputs": [],
   "source": [
    "# zip code was in long format, change to standard 5 digits \n",
    "test_2022['VENDOR_ADDRESS_ZIP_CODE'] = test_2022['VENDOR_ADDRESS_ZIP_CODE'].astype(str).str[:5]"
   ]
  },
  {
   "cell_type": "code",
   "execution_count": 114,
   "id": "f25f6cb6-7a5a-4d0a-838d-7928deb863d4",
   "metadata": {},
   "outputs": [],
   "source": [
    "# assume missing values (not that many) are NONE\n",
    "test_2022['TYPE_OF_SET_ASIDE'] = test_2022['TYPE_OF_SET_ASIDE'].fillna('NONE')"
   ]
  },
  {
   "cell_type": "code",
   "execution_count": null,
   "id": "2494a717-a778-43bb-af9b-561259e82717",
   "metadata": {},
   "outputs": [],
   "source": []
  },
  {
   "cell_type": "code",
   "execution_count": null,
   "id": "76421c5d-2e1d-4837-b895-e0ae1bf6df0e",
   "metadata": {},
   "outputs": [],
   "source": []
  },
  {
   "cell_type": "code",
   "execution_count": null,
   "id": "af1a204b-913e-4812-becf-be492f9891c9",
   "metadata": {},
   "outputs": [],
   "source": []
  },
  {
   "cell_type": "code",
   "execution_count": null,
   "id": "4c588690-6c05-4f5b-9d34-0844e1599569",
   "metadata": {},
   "outputs": [],
   "source": []
  },
  {
   "cell_type": "code",
   "execution_count": null,
   "id": "7a7b90e3-e1fc-447f-8c6a-3a6bc42e1614",
   "metadata": {},
   "outputs": [],
   "source": []
  },
  {
   "cell_type": "markdown",
   "id": "efae1bd2-f307-49f9-8075-fb5d5f01e5e2",
   "metadata": {},
   "source": [
    "### Filter"
   ]
  },
  {
   "cell_type": "code",
   "execution_count": 129,
   "id": "8c9a3f10-9e29-4120-a9ff-773f53c4152b",
   "metadata": {},
   "outputs": [],
   "source": [
    "# filter for only small businesses \n",
    "filtered_data = test_2022[test_2022['CO_BUS_SIZE_DETERMINATION'] == \"SMALL BUSINESS\"]\n",
    "# first time the contract showed up \n",
    "filtered_data = test_2022[test_2022['MODIFICATION_NUMBER'] == \"0\"]\n",
    "# only US businesses \n",
    "filtered_data = test_2022[test_2022['VENDOR_ADDRESS_COUNTRY_NAME'] == \"UNITED STATES\"]\n",
    "# contracts only open to competition\n",
    "filtered_data = filtered_data[filtered_data['EXTENT_COMPETED'].isin([\"A\", \"D\", \"E\", \"CDO\"])]"
   ]
  },
  {
   "cell_type": "code",
   "execution_count": null,
   "id": "f739e77c-685f-4d96-835b-0f367f42a321",
   "metadata": {},
   "outputs": [],
   "source": []
  },
  {
   "cell_type": "markdown",
   "id": "b1fb5e92-d559-4424-87d1-887f0fac55e0",
   "metadata": {},
   "source": [
    "### Drop "
   ]
  },
  {
   "cell_type": "code",
   "execution_count": 116,
   "id": "62f13275-217c-4766-8bbd-5f3765900cca",
   "metadata": {},
   "outputs": [],
   "source": [
    "filtered_data = filtered_data.drop('CO_BUS_SIZE_DETERMINATION', axis=1)\n",
    "filtered_data = filtered_data.drop('MODIFICATION_NUMBER', axis=1)\n",
    "filtered_data = filtered_data.drop('VENDOR_ADDRESS_COUNTRY_NAME', axis=1)"
   ]
  },
  {
   "cell_type": "code",
   "execution_count": null,
   "id": "11e7585a-b041-4658-8d27-5fd1748e8a92",
   "metadata": {},
   "outputs": [],
   "source": []
  },
  {
   "cell_type": "markdown",
   "id": "94c33642-3294-46f9-bbdc-04e353472a63",
   "metadata": {},
   "source": [
    "### Drop NA - after everything else is done "
   ]
  },
  {
   "cell_type": "markdown",
   "id": "2c4224c7-7551-4a37-a781-28859d21096a",
   "metadata": {},
   "source": [
    "- clean first -> check for NAs"
   ]
  },
  {
   "cell_type": "code",
   "execution_count": 87,
   "id": "f3518ca4-8043-4a6f-b67b-194ff6faab24",
   "metadata": {},
   "outputs": [],
   "source": [
    "test_2022 = test_2022.dropna(subset=['VENDOR_ADDRESS_ZIP_CODE'])"
   ]
  },
  {
   "cell_type": "code",
   "execution_count": null,
   "id": "321feda8-e7be-4cd5-aa4f-5c6ea26dc0ab",
   "metadata": {},
   "outputs": [],
   "source": []
  },
  {
   "cell_type": "code",
   "execution_count": null,
   "id": "d9253ab2-8220-475d-992f-6600e11b6423",
   "metadata": {},
   "outputs": [],
   "source": []
  },
  {
   "cell_type": "code",
   "execution_count": null,
   "id": "0df7e138-fc24-47e4-b812-a4cc8ff613d3",
   "metadata": {},
   "outputs": [],
   "source": []
  },
  {
   "cell_type": "code",
   "execution_count": null,
   "id": "1732d02c-eeeb-44d1-8399-5e9e6c5a4149",
   "metadata": {},
   "outputs": [],
   "source": []
  },
  {
   "cell_type": "code",
   "execution_count": null,
   "id": "86720b3a-382f-4f26-8376-2870f98ae582",
   "metadata": {},
   "outputs": [],
   "source": []
  },
  {
   "cell_type": "code",
   "execution_count": null,
   "id": "8addf585-10f1-444d-93cf-ae3fadbf5d01",
   "metadata": {},
   "outputs": [],
   "source": []
  },
  {
   "cell_type": "code",
   "execution_count": null,
   "id": "865975c6-62b6-44a5-ae22-d7e81a42ede6",
   "metadata": {},
   "outputs": [],
   "source": []
  },
  {
   "cell_type": "code",
   "execution_count": null,
   "id": "10e4798a-f445-4ef1-9b60-b015a01b4c71",
   "metadata": {},
   "outputs": [],
   "source": []
  },
  {
   "cell_type": "code",
   "execution_count": null,
   "id": "f3611ee1-ac85-4d1c-990f-c6d72aa6bd7c",
   "metadata": {},
   "outputs": [],
   "source": []
  },
  {
   "cell_type": "code",
   "execution_count": null,
   "id": "f6cf14f9-5247-4dd4-800b-51fe01920b42",
   "metadata": {},
   "outputs": [],
   "source": []
  },
  {
   "cell_type": "code",
   "execution_count": null,
   "id": "5507ce9e-5236-4acb-a5b4-f28a4c5c17af",
   "metadata": {},
   "outputs": [],
   "source": []
  },
  {
   "cell_type": "code",
   "execution_count": null,
   "id": "8faa37ea-3e4b-4282-9ee3-2c44ab1663f1",
   "metadata": {},
   "outputs": [],
   "source": []
  }
 ],
 "metadata": {
  "kernelspec": {
   "display_name": "Python 3 (ipykernel)",
   "language": "python",
   "name": "python3"
  },
  "language_info": {
   "codemirror_mode": {
    "name": "ipython",
    "version": 3
   },
   "file_extension": ".py",
   "mimetype": "text/x-python",
   "name": "python",
   "nbconvert_exporter": "python",
   "pygments_lexer": "ipython3",
   "version": "3.11.4"
  }
 },
 "nbformat": 4,
 "nbformat_minor": 5
}
