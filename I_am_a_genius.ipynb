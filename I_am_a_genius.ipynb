{
 "cells": [
  {
   "cell_type": "code",
   "execution_count": 1,
   "id": "b5f3dc89-396b-417f-91e4-0df406514d48",
   "metadata": {},
   "outputs": [],
   "source": [
    "import pandas as pd\n",
    "import numpy as np\n",
    "import polars as pl"
   ]
  },
  {
   "cell_type": "code",
   "execution_count": 2,
   "id": "ebbea319-4d8b-48ae-9ec5-d10257bdfb5a",
   "metadata": {},
   "outputs": [],
   "source": [
    "cols = [# RESPONSE VARIABLE\n",
    "        #'FUNDING_AGENCY_NAME',\n",
    "        'FUNDING_OFFICE_NAME', # use for main model \n",
    "        #'FUNDING_DEPARTMENT_NAME',\n",
    "    \n",
    "        # IDENTIFIERS\n",
    "        'PIID',\n",
    "        'IDV_PIID', # Indefinite delivery vehicle procurement instrument identifiers\n",
    "        'FUNDING_DEPARTMENT_ID',\n",
    "        # Funding Department ID + IDV PIID + PIID concatenated should give unique ID for a contract\n",
    "        # null IDV PIID + PIID gives the non-IDV contracts\n",
    "        'CAGE_CODE', # Code for the entity\n",
    "        # CAGE Code has been used for the entire dataset so can act as a unique entity ID\n",
    "        # Unique Entity ID\n",
    "        #'VENDOR_UEI', # these two don't match about half the time \n",
    "        #'ULTIMATE_UEI', # check previous years - DUNS before 2022\n",
    "        'SOLICITATION_ID',\n",
    "\n",
    "        # OTHER\n",
    "        'AWARD_FISCAL_YEAR',\n",
    "        'VENDOR_ADDRESS_ZIP_CODE', #use only first 5 digits, drop NAs, least amount of NAs \n",
    "        'TYPE_OF_SET_ASIDE', # Type of Set Aside determined for the contract action 10N in dictionary \n",
    "        'DATE_SIGNED', # The date that a mutually binding agreement was reached. \"2022-09-15\"\n",
    "        'EVALUATED_PREFERENCE', #------------\n",
    "        # Evaluated Preference makes all non-HUBZone entities’ bid prices up 10% when evaluating\n",
    "    \n",
    "        # Number of Offers\n",
    "        'NUMBER_OF_OFFERS_RECEIVED', #a lot of NaNs\n",
    "        # The number of actual offers/bids received in response to the solicitation.\n",
    "        'IDV_NUMBER_OF_OFFERS',\n",
    "        'AWARD_OR_IDV', # award or IDV - mostly Award \n",
    "\n",
    "\n",
    "        \n",
    "        # FILTERING\n",
    "        'CO_BUS_SIZE_DETERMINATION', # ==\"SMALL BUSSINES\" / \"OTHER THAN SMALL BUSINESS\"\n",
    "        'VENDOR_ADDRESS_COUNTRY_NAME', # == USA filter \n",
    "        'MODIFICATION_NUMBER', # filtering == 0 \n",
    "        'EXTENT_COMPETED', # see notes, possibly filter by A,D,E,CDO\n",
    "\n",
    "        # CONTRACT VALUE\n",
    "        #'ULTIMATE_CONTRACT_VALUE', # Mutually agreed upon TOTAL contract value including all options \n",
    "        #(also includes estimated value of all potential orders for IDVs)\n",
    "        'DOLLARS_OBLIGATED',\n",
    "\n",
    "        \n",
    "\n",
    "    \n",
    "        # NAICS\n",
    "        'PRINCIPAL_NAICS_CODE', # 'number' (NAICS codes are updated every 5 years(2012,2017,2022), incosistencies? \n",
    "        #The first two digits of the code designate the sector, the third digit designates the subsector, \n",
    "        #the fourth digit designates the industry group, the fifth digit designates the NAICS industry, \n",
    "        #and the sixth digit designates the national industry. \n",
    "\n",
    "\n",
    "        ## GENERAL BUSINESS QUESTIONS\n",
    "        'CORP_ENTITY_NOT_TAX_EXEMPT', #YES/NO, no nan\n",
    "        'CORP_ENTITY_TAX_EXEMPT', #YES/NO, no nan \n",
    "        'LIMITED_LIABILITY_CORPORATION', #YES/NO, no nan\n",
    "        'PARTNERSHIP_OR_LLP', #YES/NO, no nan\n",
    "        'SOLE_PROPREITORSHIP', #YES/NO, no nan\n",
    "        'SMALL_AGRICULTURAL_COOPERATIVE', #YES/NO, no nan\n",
    "        'INTERNATIONAL_ORGANIZATION',  #YES/NO, no nan\n",
    "        'ARCHITECTURE_AND_ENGINEERING', #YES/NO, no nan\n",
    "        'COMMUNITY_CORP_OWNED_FIRM', #YES/NO, no nan\n",
    "        'CONSTRUCTION_FIRM', #YES/NO, no nan\n",
    "        'DOMESTIC_SHELTER', #YES/NO, no nan\n",
    "        'FOUNDATION', #YES/NO, no nan\n",
    "        'RESEARCH_AND_DEVELOPMENT', #YES/NO, no nan\n",
    "        'VETERINARY_HOSPITAL', #YES/NO, no nan\n",
    "        'HISPANIC_SERVICING_INSTITUTION', #YES/NO, no nan\n",
    "        'FOR_PROFIT_ORGANIZATION', #YES/NO, no nan\n",
    "        'EDUCATIONAL_INSTITUTION_FLAG', #YES/NO, no nan\n",
    "        'MANUFACTURER_OF_GOODS', #YES/NO, no nan\n",
    "        'SERVICE_PROVIDER', #YES/NO, no nan\n",
    "        'INDIAN_TRIBE', #YES/NO, no nan # Buy Indian\n",
    "\n",
    "        # MANUFACTURE - is the product you're selling made in the US \n",
    "        # YES, NO, Not a manufactured end product \n",
    "        # 'PLACE_OF_MANUFACTURE_CLASS'\n",
    "        'PLACE_OF_MANUFACTURE', \n",
    "        \n",
    "\n",
    "        # NON-CERTIFIED \n",
    "        #Veteran-Owned Business\n",
    "        'VETERAN_OWNED_FLAG',\n",
    "        #Service-Disabled Veteran-Owned Business\n",
    "        'SRDVOB_FLAG',\n",
    "        # Women-Owned Business\n",
    "        'WOMEN_OWNED_FLAG']"
   ]
  },
  {
   "cell_type": "code",
   "execution_count": 3,
   "id": "4b03009b-ec75-4a00-b4b6-316d519a2a76",
   "metadata": {
    "tags": []
   },
   "outputs": [],
   "source": [
    "SAM = pd.read_csv('SAM.csv')"
   ]
  },
  {
   "cell_type": "markdown",
   "id": "080cee3f-4669-47c8-b08a-bc0b996cb684",
   "metadata": {},
   "source": [
    "### 2019"
   ]
  },
  {
   "cell_type": "code",
   "execution_count": 4,
   "id": "d33e7e93-6cf1-4b71-b888-f71774df59d7",
   "metadata": {
    "tags": []
   },
   "outputs": [],
   "source": [
    "test_2019 = pd.read_parquet('2019.parquet', engine='pyarrow',columns=cols)"
   ]
  },
  {
   "cell_type": "code",
   "execution_count": 5,
   "id": "4eb1393d-733d-4190-9395-6b083c331172",
   "metadata": {
    "tags": []
   },
   "outputs": [],
   "source": [
    "test_2019 = test_2019[test_2019['CO_BUS_SIZE_DETERMINATION'] == \"SMALL BUSINESS\"]\n",
    "test_2019 = test_2019[test_2019['VENDOR_ADDRESS_COUNTRY_NAME'] == \"UNITED STATES\"]\n",
    "test_2019 = test_2019[test_2019['EXTENT_COMPETED'].isin([\"A\", \"D\", \"E\", \"CDO\"])]\n",
    "test_2019['FUNDING_DEPARTMENT_ID'] = test_2019['FUNDING_DEPARTMENT_ID'].str.strip()\n",
    "test_2019['IDV_PIID'] = test_2019['IDV_PIID'].str.strip()\n",
    "test_2019['PIID'] = test_2019['PIID'].str.strip()\n",
    "test_2019['DOLLARS_OBLIGATED'] = pd.to_numeric(test_2019['DOLLARS_OBLIGATED'], errors='coerce')\n",
    "m_2019 = pd.merge(test_2019, SAM, on=\"CAGE_CODE\", how=\"inner\")\n",
    "idx = m_2019.groupby(['SOLICITATION_ID','CAGE_CODE'])['DOLLARS_OBLIGATED'].idxmax()\n",
    "m_2019 = m_2019.loc[idx]\n",
    "m_2019 = m_2019[m_2019['DOLLARS_OBLIGATED'] > 0]"
   ]
  },
  {
   "cell_type": "code",
   "execution_count": 6,
   "id": "b7376a2c-bac9-4443-8953-2efa7bebc5cf",
   "metadata": {
    "tags": []
   },
   "outputs": [
    {
     "data": {
      "text/plain": [
       "(35241, 58)"
      ]
     },
     "execution_count": 6,
     "metadata": {},
     "output_type": "execute_result"
    }
   ],
   "source": [
    "m_2019.shape"
   ]
  },
  {
   "cell_type": "markdown",
   "id": "70454497-81d3-49a7-8652-d2ab1d997507",
   "metadata": {},
   "source": [
    "### 2020"
   ]
  },
  {
   "cell_type": "code",
   "execution_count": 7,
   "id": "8c023cef-6868-4a66-92f7-91525c662d1a",
   "metadata": {},
   "outputs": [],
   "source": [
    "test_2020 = pd.read_parquet('2020.parquet', engine='pyarrow',columns=cols)"
   ]
  },
  {
   "cell_type": "code",
   "execution_count": 8,
   "id": "f1a56de9-c682-4e89-801a-66914d5958ae",
   "metadata": {
    "tags": []
   },
   "outputs": [],
   "source": [
    "test_2020 = test_2020[test_2020['CO_BUS_SIZE_DETERMINATION'] == \"SMALL BUSINESS\"]\n",
    "test_2020 = test_2020[test_2020['VENDOR_ADDRESS_COUNTRY_NAME'] == \"UNITED STATES\"]\n",
    "test_2020 = test_2020[test_2020['EXTENT_COMPETED'].isin([\"A\", \"D\", \"E\", \"CDO\"])]\n",
    "test_2020['FUNDING_DEPARTMENT_ID'] = test_2020['FUNDING_DEPARTMENT_ID'].str.strip()\n",
    "test_2020['IDV_PIID'] = test_2020['IDV_PIID'].str.strip()\n",
    "test_2020['PIID'] = test_2020['PIID'].str.strip()\n",
    "test_2020['DOLLARS_OBLIGATED'] = pd.to_numeric(test_2020['DOLLARS_OBLIGATED'], errors='coerce')\n",
    "m_2020 = pd.merge(test_2020, SAM, on=\"CAGE_CODE\", how=\"inner\")\n",
    "idx = m_2020.groupby(['SOLICITATION_ID','CAGE_CODE'])['DOLLARS_OBLIGATED'].idxmax()\n",
    "m_2020 = m_2020.loc[idx]\n",
    "m_2020 = m_2020[m_2020['DOLLARS_OBLIGATED'] > 0]"
   ]
  },
  {
   "cell_type": "code",
   "execution_count": 9,
   "id": "37e5e66f-cb3a-4253-b447-118734095ac1",
   "metadata": {
    "tags": []
   },
   "outputs": [
    {
     "data": {
      "text/plain": [
       "(36674, 58)"
      ]
     },
     "execution_count": 9,
     "metadata": {},
     "output_type": "execute_result"
    }
   ],
   "source": [
    "m_2020.shape"
   ]
  },
  {
   "cell_type": "markdown",
   "id": "dee38102-d747-4d5c-b489-0888afee3dc8",
   "metadata": {},
   "source": [
    "### 2021"
   ]
  },
  {
   "cell_type": "code",
   "execution_count": 10,
   "id": "f64e5517-f82f-4be3-a51b-329566af40bd",
   "metadata": {
    "tags": []
   },
   "outputs": [],
   "source": [
    "test_2021 = pd.read_parquet('2021.parquet', engine='pyarrow',columns=cols)"
   ]
  },
  {
   "cell_type": "code",
   "execution_count": 11,
   "id": "2589967c-9eb4-4f68-997a-c763058183af",
   "metadata": {
    "tags": []
   },
   "outputs": [],
   "source": [
    "test_2021 = test_2021[test_2021['CO_BUS_SIZE_DETERMINATION'] == \"SMALL BUSINESS\"]\n",
    "test_2021 = test_2021[test_2021['VENDOR_ADDRESS_COUNTRY_NAME'] == \"UNITED STATES\"]\n",
    "test_2021 = test_2021[test_2021['EXTENT_COMPETED'].isin([\"A\", \"D\", \"E\", \"CDO\"])]\n",
    "test_2021['FUNDING_DEPARTMENT_ID'] = test_2021['FUNDING_DEPARTMENT_ID'].str.strip()\n",
    "test_2021['IDV_PIID'] = test_2021['IDV_PIID'].str.strip()\n",
    "test_2021['PIID'] = test_2021['PIID'].str.strip()\n",
    "test_2021['DOLLARS_OBLIGATED'] = pd.to_numeric(test_2021['DOLLARS_OBLIGATED'], errors='coerce')\n",
    "m_2021 = pd.merge(test_2021, SAM, on=\"CAGE_CODE\", how=\"inner\")\n",
    "idx = m_2021.groupby(['SOLICITATION_ID','CAGE_CODE'])['DOLLARS_OBLIGATED'].idxmax()\n",
    "m_2021 = m_2021.loc[idx]\n",
    "m_2021 = m_2021[m_2021['DOLLARS_OBLIGATED'] > 0]"
   ]
  },
  {
   "cell_type": "code",
   "execution_count": 12,
   "id": "ba820ff6-3359-4c40-855e-dd0dec238736",
   "metadata": {
    "tags": []
   },
   "outputs": [
    {
     "data": {
      "text/plain": [
       "(38526, 58)"
      ]
     },
     "execution_count": 12,
     "metadata": {},
     "output_type": "execute_result"
    }
   ],
   "source": [
    "m_2021.shape"
   ]
  },
  {
   "cell_type": "markdown",
   "id": "39380e2b-16a6-476f-b447-05552d1cf989",
   "metadata": {},
   "source": [
    "### 2022"
   ]
  },
  {
   "cell_type": "code",
   "execution_count": 13,
   "id": "8f319c20-66a9-455e-9f75-c8714aff1a7a",
   "metadata": {
    "tags": []
   },
   "outputs": [],
   "source": [
    "test_2022 = pd.read_parquet('2022.parquet', engine='pyarrow',columns=cols)"
   ]
  },
  {
   "cell_type": "code",
   "execution_count": 14,
   "id": "ba8a396c-3cfb-4bac-86e0-eba2f442eacb",
   "metadata": {
    "tags": []
   },
   "outputs": [],
   "source": [
    "test_2022 = test_2022[test_2022['CO_BUS_SIZE_DETERMINATION'] == \"SMALL BUSINESS\"]\n",
    "test_2022 = test_2022[test_2022['VENDOR_ADDRESS_COUNTRY_NAME'] == \"UNITED STATES\"]\n",
    "test_2022 = test_2022[test_2022['EXTENT_COMPETED'].isin([\"A\", \"D\", \"E\", \"CDO\"])]\n",
    "test_2022['FUNDING_DEPARTMENT_ID'] = test_2022['FUNDING_DEPARTMENT_ID'].str.strip()\n",
    "test_2022['IDV_PIID'] = test_2022['IDV_PIID'].str.strip()\n",
    "test_2022['PIID'] = test_2022['PIID'].str.strip()\n",
    "test_2022['DOLLARS_OBLIGATED'] = pd.to_numeric(test_2022['DOLLARS_OBLIGATED'], errors='coerce')\n",
    "m_2022 = pd.merge(test_2022, SAM, on=\"CAGE_CODE\", how=\"inner\")\n",
    "idx = m_2022.groupby(['SOLICITATION_ID','CAGE_CODE'])['DOLLARS_OBLIGATED'].idxmax()\n",
    "m_2022 = m_2022.loc[idx]\n",
    "m_2022 = m_2022[m_2022['DOLLARS_OBLIGATED'] > 0]"
   ]
  },
  {
   "cell_type": "code",
   "execution_count": 15,
   "id": "99c8b285-0d81-45c4-ad99-fc12bfd82b3e",
   "metadata": {
    "tags": []
   },
   "outputs": [
    {
     "data": {
      "text/plain": [
       "(38767, 58)"
      ]
     },
     "execution_count": 15,
     "metadata": {},
     "output_type": "execute_result"
    }
   ],
   "source": [
    "m_2022.shape"
   ]
  },
  {
   "cell_type": "markdown",
   "id": "360ee0f6-ab6b-4d76-9637-7f14db93bef6",
   "metadata": {},
   "source": [
    "### 2023"
   ]
  },
  {
   "cell_type": "code",
   "execution_count": 16,
   "id": "b6f5a356-02df-472d-bdda-674ed34681aa",
   "metadata": {
    "tags": []
   },
   "outputs": [],
   "source": [
    "test_2023 = pd.read_parquet('FY23_SC_prelim.parquet', engine='pyarrow',columns=cols)"
   ]
  },
  {
   "cell_type": "code",
   "execution_count": 17,
   "id": "da218265-822a-41d5-95f9-f76313e44afa",
   "metadata": {
    "tags": []
   },
   "outputs": [],
   "source": [
    "test_2023 = test_2023[test_2023['CO_BUS_SIZE_DETERMINATION'] == \"SMALL BUSINESS\"]\n",
    "test_2023 = test_2023[test_2023['VENDOR_ADDRESS_COUNTRY_NAME'] == \"UNITED STATES\"]\n",
    "test_2023 = test_2023[test_2023['EXTENT_COMPETED'].isin([\"A\", \"D\", \"E\", \"CDO\"])]\n",
    "test_2023['FUNDING_DEPARTMENT_ID'] = test_2023['FUNDING_DEPARTMENT_ID'].str.strip()\n",
    "test_2023['IDV_PIID'] = test_2023['IDV_PIID'].str.strip()\n",
    "test_2023['PIID'] = test_2023['PIID'].str.strip()\n",
    "test_2023['DOLLARS_OBLIGATED'] = pd.to_numeric(test_2023['DOLLARS_OBLIGATED'], errors='coerce')\n",
    "m_2023 = pd.merge(test_2023, SAM, on=\"CAGE_CODE\", how=\"inner\")\n",
    "idx = m_2023.groupby(['SOLICITATION_ID','CAGE_CODE'])['DOLLARS_OBLIGATED'].idxmax()\n",
    "m_2023 = m_2023.loc[idx]\n",
    "m_2023 = m_2023[m_2023['DOLLARS_OBLIGATED'] > 0]"
   ]
  },
  {
   "cell_type": "code",
   "execution_count": 18,
   "id": "6adb680f-b6b0-4cd4-9492-4ab1ede31672",
   "metadata": {
    "tags": []
   },
   "outputs": [
    {
     "data": {
      "text/plain": [
       "(41382, 58)"
      ]
     },
     "execution_count": 18,
     "metadata": {},
     "output_type": "execute_result"
    }
   ],
   "source": [
    "m_2023.shape"
   ]
  },
  {
   "cell_type": "markdown",
   "id": "4e024c1b-5b64-4bcf-ad57-0ad5c57b1b6b",
   "metadata": {},
   "source": [
    "### MERGE EVERYTHING"
   ]
  },
  {
   "cell_type": "code",
   "execution_count": 19,
   "id": "fa407d7a-f7da-4692-93a6-790f477137ec",
   "metadata": {
    "tags": []
   },
   "outputs": [],
   "source": [
    "merged_df = pd.concat([m_2019, m_2020, m_2021, m_2022, m_2023], ignore_index=True)"
   ]
  },
  {
   "cell_type": "code",
   "execution_count": 20,
   "id": "fa5392aa-75c5-470e-87ac-fed209006baa",
   "metadata": {
    "tags": []
   },
   "outputs": [
    {
     "data": {
      "text/plain": [
       "(190590, 58)"
      ]
     },
     "execution_count": 20,
     "metadata": {},
     "output_type": "execute_result"
    }
   ],
   "source": [
    "merged_df.shape"
   ]
  },
  {
   "cell_type": "code",
   "execution_count": 35,
   "id": "e7add118-b29a-49d2-8e10-ca6f0f54ce7d",
   "metadata": {
    "tags": []
   },
   "outputs": [
    {
     "data": {
      "text/plain": [
       "Index(['FUNDING_OFFICE_NAME', 'PIID', 'IDV_PIID', 'FUNDING_DEPARTMENT_ID',\n",
       "       'CAGE_CODE', 'SOLICITATION_ID', 'AWARD_FISCAL_YEAR',\n",
       "       'VENDOR_ADDRESS_ZIP_CODE', 'TYPE_OF_SET_ASIDE', 'DATE_SIGNED',\n",
       "       'EVALUATED_PREFERENCE', 'NUMBER_OF_OFFERS_RECEIVED',\n",
       "       'IDV_NUMBER_OF_OFFERS', 'AWARD_OR_IDV', 'CO_BUS_SIZE_DETERMINATION',\n",
       "       'VENDOR_ADDRESS_COUNTRY_NAME', 'MODIFICATION_NUMBER', 'EXTENT_COMPETED',\n",
       "       'DOLLARS_OBLIGATED', 'PRINCIPAL_NAICS_CODE',\n",
       "       'CORP_ENTITY_NOT_TAX_EXEMPT', 'CORP_ENTITY_TAX_EXEMPT',\n",
       "       'LIMITED_LIABILITY_CORPORATION', 'PARTNERSHIP_OR_LLP',\n",
       "       'SOLE_PROPREITORSHIP', 'SMALL_AGRICULTURAL_COOPERATIVE',\n",
       "       'INTERNATIONAL_ORGANIZATION', 'ARCHITECTURE_AND_ENGINEERING',\n",
       "       'COMMUNITY_CORP_OWNED_FIRM', 'CONSTRUCTION_FIRM', 'DOMESTIC_SHELTER',\n",
       "       'FOUNDATION', 'RESEARCH_AND_DEVELOPMENT', 'VETERINARY_HOSPITAL',\n",
       "       'HISPANIC_SERVICING_INSTITUTION', 'FOR_PROFIT_ORGANIZATION',\n",
       "       'EDUCATIONAL_INSTITUTION_FLAG', 'MANUFACTURER_OF_GOODS',\n",
       "       'SERVICE_PROVIDER', 'INDIAN_TRIBE', 'PLACE_OF_MANUFACTURE',\n",
       "       'VETERAN_OWNED_FLAG', 'SRDVOB_FLAG', 'WOMEN_OWNED_FLAG',\n",
       "       'BUS TYPE STRING', 'SBA BUSINESS TYPES STRING', 'SELF_8A', 'CERT_8A',\n",
       "       'CERT_HUBZone', 'SELF_SDB', 'CERT_SDB', 'SELF_WOSB', 'CERT_WOSB',\n",
       "       'SELF_EDWOSB', 'CERT_EDWOSB', 'SELF_VOSB', 'SELF_SDVOSB',\n",
       "       'SELF_SDVOSBJV'],\n",
       "      dtype='object')"
      ]
     },
     "execution_count": 35,
     "metadata": {},
     "output_type": "execute_result"
    }
   ],
   "source": [
    "merged_df.columns"
   ]
  },
  {
   "cell_type": "code",
   "execution_count": 21,
   "id": "72a9e4be-6a4f-4881-a311-e9f6c66721fb",
   "metadata": {
    "tags": []
   },
   "outputs": [],
   "source": [
    "idx = merged_df.groupby(['SOLICITATION_ID','CAGE_CODE'])['DOLLARS_OBLIGATED'].idxmax()\n",
    "filtered_merged_df = merged_df.loc[idx]"
   ]
  },
  {
   "cell_type": "code",
   "execution_count": 23,
   "id": "c89de55d-5b38-4049-853b-38f827d1b473",
   "metadata": {
    "tags": []
   },
   "outputs": [
    {
     "data": {
      "text/plain": [
       "(190590, 58)"
      ]
     },
     "execution_count": 23,
     "metadata": {},
     "output_type": "execute_result"
    }
   ],
   "source": [
    "merged_df.shape"
   ]
  },
  {
   "cell_type": "code",
   "execution_count": 37,
   "id": "3e80768d-cc72-41a6-b542-bf68a2fc6c4e",
   "metadata": {
    "tags": []
   },
   "outputs": [
    {
     "data": {
      "text/plain": [
       "(123980, 59)"
      ]
     },
     "execution_count": 37,
     "metadata": {},
     "output_type": "execute_result"
    }
   ],
   "source": [
    "filtered_merged_df.shape"
   ]
  },
  {
   "cell_type": "code",
   "execution_count": 24,
   "id": "e0a93199-3a1b-482d-ba10-6bdce379fd76",
   "metadata": {
    "tags": []
   },
   "outputs": [],
   "source": [
    "# PLACE_OF_MANUFACTURE\n",
    "# PLACE_OF_MANUFACTURE_CLASS\n",
    "# Make NaN into N/A\n",
    "filtered_merged_df['PLACE_OF_MANUFACTURE'] = filtered_merged_df['PLACE_OF_MANUFACTURE'].fillna('N/A')\n",
    "# create new  column \n",
    "# YES - made in US\n",
    "# NO - not made in US\n",
    "# NONE - Not selling a product \n",
    "\n",
    "def convert_place_of_manufacture(value):\n",
    "    if value == 'D':\n",
    "        return 'YES'\n",
    "    elif value == 'C':\n",
    "        return 'NO'\n",
    "    elif value in ['N/A', 'A', 'G', 'E', 'H', 'L', 'J', 'F', 'K', 'B', 'I']:\n",
    "        return 'NONE'\n",
    "    else:\n",
    "        return 'NONE'\n",
    "\n",
    "filtered_merged_df['PLACE_OF_MANUFACTURE_CLASS'] = filtered_merged_df['PLACE_OF_MANUFACTURE'].apply(convert_place_of_manufacture)\n"
   ]
  },
  {
   "cell_type": "code",
   "execution_count": 26,
   "id": "c1db4830-9e16-46b7-8310-cc03d80526a0",
   "metadata": {
    "tags": []
   },
   "outputs": [],
   "source": [
    "# zip code was in long format, change to standard 5 digits \n",
    "filtered_merged_df['VENDOR_ADDRESS_ZIP_CODE'] = filtered_merged_df['VENDOR_ADDRESS_ZIP_CODE'].astype(str).str[:5]"
   ]
  },
  {
   "cell_type": "code",
   "execution_count": 29,
   "id": "48bf6ca5-b076-4f32-8bb9-89fd6117ecf5",
   "metadata": {
    "tags": []
   },
   "outputs": [],
   "source": [
    "# assume missing values (not that many) are NONE\n",
    "filtered_merged_df['TYPE_OF_SET_ASIDE'] = filtered_merged_df['TYPE_OF_SET_ASIDE'].fillna('NONE')"
   ]
  },
  {
   "cell_type": "code",
   "execution_count": 31,
   "id": "3bab1911-dba5-4019-9d35-e8fb5c3b4281",
   "metadata": {
    "tags": []
   },
   "outputs": [],
   "source": [
    "filtered_merged_df['EVALUATED_PREFERENCE'] = filtered_merged_df['EVALUATED_PREFERENCE'].fillna('NONE')"
   ]
  },
  {
   "cell_type": "code",
   "execution_count": 33,
   "id": "770a94a3-6127-41be-aea8-256b5c05d3eb",
   "metadata": {
    "tags": []
   },
   "outputs": [],
   "source": [
    "filtered_merged_df = filtered_merged_df.dropna(subset=['CORP_ENTITY_NOT_TAX_EXEMPT'])"
   ]
  },
  {
   "cell_type": "code",
   "execution_count": 35,
   "id": "b03f3129-775c-426c-b42a-e78a68e45e8e",
   "metadata": {
    "tags": []
   },
   "outputs": [],
   "source": [
    "filtered_merged_df = filtered_merged_df.dropna(subset=['FUNDING_OFFICE_NAME'])"
   ]
  },
  {
   "cell_type": "code",
   "execution_count": null,
   "id": "84ae582e-4a9f-433b-9821-4d9677b08448",
   "metadata": {},
   "outputs": [],
   "source": []
  },
  {
   "cell_type": "markdown",
   "id": "c16f4043-b3d0-423d-bc99-5352fbf0bf25",
   "metadata": {},
   "source": [
    "### FINAL SET FOR MODELING"
   ]
  },
  {
   "cell_type": "code",
   "execution_count": 42,
   "id": "36c2a151-bff8-4095-ba27-48b6563c8e9b",
   "metadata": {},
   "outputs": [],
   "source": [
    "cols = ['FUNDING_OFFICE_NAME',\n",
    "        #'CO_BUS_SIZE_DETERMINATION',\n",
    "        #'VENDOR_ADDRESS_COUNTRY_NAME',\n",
    "        #'EXTENT_COMPETED',\n",
    "        #'CAGE_CODE', \n",
    "        #'SOLICITATION_ID', \n",
    "        #'AWARD_FISCAL_YEAR',\n",
    "        'VENDOR_ADDRESS_ZIP_CODE', \n",
    "        'TYPE_OF_SET_ASIDE', \n",
    "        #'DATE_SIGNED',\n",
    "        'EVALUATED_PREFERENCE', \n",
    "        #'NUMBER_OF_OFFERS_RECEIVED', \n",
    "        #'DOLLARS_OBLIGATED', \n",
    "        'PRINCIPAL_NAICS_CODE',\n",
    "        'CORP_ENTITY_NOT_TAX_EXEMPT', \n",
    "        'LIMITED_LIABILITY_CORPORATION', \n",
    "        'PARTNERSHIP_OR_LLP',\n",
    "        'SOLE_PROPREITORSHIP', \n",
    "        'FOR_PROFIT_ORGANIZATION',\n",
    "        'MANUFACTURER_OF_GOODS',\n",
    "        'SERVICE_PROVIDER', \n",
    "        'INDIAN_TRIBE', \n",
    "        'PLACE_OF_MANUFACTURE_CLASS',\n",
    "        'SELF_8A', \n",
    "        'CERT_8A',\n",
    "        'CERT_HUBZone', \n",
    "        'SELF_SDB', \n",
    "        'SELF_WOSB', \n",
    "        'CERT_WOSB',\n",
    "        'SELF_EDWOSB', \n",
    "        'CERT_EDWOSB', \n",
    "        'SELF_VOSB', \n",
    "        'SELF_SDVOSB']"
   ]
  },
  {
   "cell_type": "code",
   "execution_count": 43,
   "id": "2615725e-abdf-49ed-9267-a353bc300372",
   "metadata": {
    "tags": []
   },
   "outputs": [],
   "source": [
    "final_df = filtered_merged_df[cols]"
   ]
  },
  {
   "cell_type": "code",
   "execution_count": 44,
   "id": "75cd3457-1fa1-414b-93a6-1f613b113cd2",
   "metadata": {
    "tags": []
   },
   "outputs": [
    {
     "data": {
      "text/plain": [
       "(123980, 24)"
      ]
     },
     "execution_count": 44,
     "metadata": {},
     "output_type": "execute_result"
    }
   ],
   "source": [
    "final_df.shape"
   ]
  },
  {
   "cell_type": "code",
   "execution_count": null,
   "id": "98a54ffa-cc0e-47f8-9ce2-b9bfa110819b",
   "metadata": {},
   "outputs": [],
   "source": []
  },
  {
   "cell_type": "code",
   "execution_count": 27,
   "id": "31ac1c37-7961-4630-91b1-8cc574f70c02",
   "metadata": {
    "tags": []
   },
   "outputs": [],
   "source": [
    "#pd.set_option('display.float_format', '{:.2f}'.format)"
   ]
  },
  {
   "cell_type": "code",
   "execution_count": 45,
   "id": "be03e866-0d47-4475-8816-b059828cf069",
   "metadata": {
    "tags": []
   },
   "outputs": [
    {
     "data": {
      "text/plain": [
       "count       123980.00\n",
       "mean       1043814.28\n",
       "std        5585954.93\n",
       "min              0.01\n",
       "25%          31563.67\n",
       "50%         139852.18\n",
       "75%         644211.94\n",
       "max     1275000000.00\n",
       "Name: DOLLARS_OBLIGATED, dtype: float64"
      ]
     },
     "execution_count": 45,
     "metadata": {},
     "output_type": "execute_result"
    }
   ],
   "source": [
    "#filtered_merged_df['DOLLARS_OBLIGATED'].describe()"
   ]
  },
  {
   "cell_type": "code",
   "execution_count": null,
   "id": "65c812a8-debb-41e9-b5a9-b50a827dd2eb",
   "metadata": {},
   "outputs": [],
   "source": []
  }
 ],
 "metadata": {
  "kernelspec": {
   "display_name": "Python 3 (ipykernel)",
   "language": "python",
   "name": "python3"
  },
  "language_info": {
   "codemirror_mode": {
    "name": "ipython",
    "version": 3
   },
   "file_extension": ".py",
   "mimetype": "text/x-python",
   "name": "python",
   "nbconvert_exporter": "python",
   "pygments_lexer": "ipython3",
   "version": "3.11.4"
  }
 },
 "nbformat": 4,
 "nbformat_minor": 5
}
