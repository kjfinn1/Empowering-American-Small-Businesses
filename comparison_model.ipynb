{
 "cells": [
  {
   "cell_type": "code",
   "execution_count": 1,
   "id": "9644706b-d3fe-4c33-9d75-ee403a29237b",
   "metadata": {
    "tags": []
   },
   "outputs": [],
   "source": [
    "import pandas as pd\n",
    "import numpy as np\n",
    "from sklearn.preprocessing import LabelEncoder, StandardScaler\n",
    "from sklearn.linear_model import LogisticRegression, SGDClassifier\n",
    "from sklearn.ensemble import RandomForestClassifier\n",
    "from sklearn.model_selection import train_test_split\n",
    "from sklearn.metrics import accuracy_score\n",
    "import pickle"
   ]
  },
  {
   "cell_type": "code",
   "execution_count": 2,
   "id": "4a6ea30d-eb8e-445e-a2c0-f49083d9209d",
   "metadata": {
    "tags": []
   },
   "outputs": [],
   "source": [
    "seed = 23\n",
    "protected = False\n",
    "sam = False\n",
    "import_cols = [\n",
    "    'RESEARCH_AND_DEVELOPMENT',\n",
    "    'DOMESTIC_SHELTER',\n",
    "    'TYPE_OF_SET_ASIDE',\n",
    "    'SOLICITATION_ID',\n",
    "    'CONSTRUCTION_FIRM',\n",
    "    'CO_BUS_SIZE_DETERMINATION',\n",
    "    'CAGE_CODE',\n",
    "    'VETERAN_OWNED_FLAG',\n",
    "    'CORP_ENTITY_NOT_TAX_EXEMPT',\n",
    "    'FUNDING_DEPARTMENT_ID',\n",
    "    # 'FUNDING_AGENCY_NAME',\n",
    "    'FUNDING_AGENCY_ID',\n",
    "    # 'FUNDING_OFFICE_NAME',\n",
    "    # 'FUNDING_OFFICE_ID',\n",
    "    'SERVICE_PROVIDER',\n",
    "    'PRODUCT_OR_SERVICE_TYPE',\n",
    "    # 'MODIFICATION_NUMBER',\n",
    "    'PIID',\n",
    "    'FOUNDATION',\n",
    "    # 'EVALUATED_PREFERENCE',\n",
    "    'SRDVOB_FLAG',\n",
    "    'CORP_ENTITY_TAX_EXEMPT',\n",
    "    'MANUFACTURER_OF_GOODS',\n",
    "    'VENDOR_ADDRESS_COUNTRY_NAME',\n",
    "    'VENDOR_ADDRESS_ZIP_CODE',\n",
    "    'SDB',\n",
    "    'VETERINARY_HOSPITAL',\n",
    "    'COMMUNITY_CORP_OWNED_FIRM',\n",
    "    'DOT_CERTIFIED_DISADV_BUS',\n",
    "    'PRINCIPAL_NAICS_CODE',\n",
    "    'EDUCATIONAL_INSTITUTION_FLAG',\n",
    "    'LIMITED_LIABILITY_CORPORATION',\n",
    "    'EXTENT_COMPETED',\n",
    "    'FEDERALLY_FUNDED_R_AND_D_CORP',\n",
    "    'SOLE_PROPREITORSHIP',\n",
    "    'WOMEN_OWNED_FLAG',\n",
    "    'ARCHITECTURE_AND_ENGINEERING',\n",
    "    'HISPANIC_SERVICING_INSTITUTION',\n",
    "    'IDV_PIID',\n",
    "    'PLACE_OF_MANUFACTURE',\n",
    "    # 'IDV_EXTENT_COMPETED',\n",
    "    'AWARD_FISCAL_YEAR',\n",
    "    # 'IDV_SIGNED_DATE',\n",
    "    'FIRM_8A_FLAG',\n",
    "    'SMALL_AGRICULTURAL_COOPERATIVE',\n",
    "    'PARTNERSHIP_OR_LLP',\n",
    "    'DOLLARS_OBLIGATED',\n",
    "    # 'IDV_NUMBER_OF_OFFERS',\n",
    "    'FOR_PROFIT_ORGANIZATION',\n",
    "    # 'AWARD_OR_IDV',\n",
    "    'FIRM8A_JOINT_VENTURE',\n",
    "    # 'IDV_CONTRACTING_AGENCY_ID',\n",
    "    'NUMBER_OF_OFFERS_RECEIVED'\n",
    "]\n",
    "if protected:\n",
    "    import_cols = import_cols + ['ANNUAL_REVENUE', 'NUMBER_OF_EMPLOYEES']\n",
    "\n",
    "\n",
    "import_years = [2019, 2020, 2021, 2022, 2023]\n",
    "top_n_agencies = 0\n",
    "min_class_size = 20\n",
    "\n",
    "model_cols = [\n",
    "    'RESPONSE',\n",
    "    # 'RESEARCH_AND_DEVELOPMENT',\n",
    "    # 'DOMESTIC_SHELTER',\n",
    "    # 'TYPE_OF_SET_ASIDE',\n",
    "    # 'CONSTRUCTION_FIRM',\n",
    "    # 'VETERAN_OWNED_FLAG',\n",
    "    # 'CORP_ENTITY_NOT_TAX_EXEMPT',\n",
    "    # 'SERVICE_PROVIDER',\n",
    "    # 'PRODUCT_OR_SERVICE_TYPE',\n",
    "    # 'MODIFICATION_NUMBER',\n",
    "    # 'PIID',\n",
    "    # 'FOUNDATION',\n",
    "    # 'EVALUATED_PREFERENCE',\n",
    "    # 'SRDVOB_FLAG',\n",
    "    # 'CORP_ENTITY_TAX_EXEMPT',\n",
    "    # 'MANUFACTURER_OF_GOODS',\n",
    "    # 'VENDOR_ADDRESS_ZIP_CODE',\n",
    "    #'VENDOR_STATE', #FEATURE ENGINEERED BELOW\n",
    "    # 'SDB',\n",
    "    # 'VETERINARY_HOSPITAL',\n",
    "    # 'COMMUNITY_CORP_OWNED_FIRM',\n",
    "    # 'DOT_CERTIFIED_DISADV_BUS',\n",
    "    'PRINCIPAL_NAICS_CODE',\n",
    "    # 'EDUCATIONAL_INSTITUTION_FLAG',\n",
    "    # 'LIMITED_LIABILITY_CORPORATION',\n",
    "    # 'FEDERALLY_FUNDED_R_AND_D_CORP',\n",
    "    # 'SOLE_PROPREITORSHIP',\n",
    "    # 'WOMEN_OWNED_FLAG',\n",
    "    # 'ARCHITECTURE_AND_ENGINEERING',\n",
    "    # 'HISPANIC_SERVICING_INSTITUTION',\n",
    "    # 'IDV_PIID',\n",
    "    # 'PLACE_OF_MANUFACTURE_CLASS',\n",
    "    # 'IDV_EXTENT_COMPETED',\n",
    "    # 'AWARD_FISCAL_YEAR',\n",
    "    # 'IDV_SIGNED_DATE',\n",
    "    # 'FIRM_8A_FLAG',\n",
    "    # 'SMALL_AGRICULTURAL_COOPERATIVE',\n",
    "    # 'PARTNERSHIP_OR_LLP',\n",
    "    # 'IDV_NUMBER_OF_OFFERS',\n",
    "    # 'FOR_PROFIT_ORGANIZATION',\n",
    "    # 'AWARD_OR_IDV',\n",
    "    # 'FIRM8A_JOINT_VENTURE',\n",
    "    # 'IDV_CONTRACTING_AGENCY_ID',\n",
    "    # 'CONTRACTS_PER_YEAR'\n",
    "]\n",
    "if protected:\n",
    "    model_cols = model_cols + ['ANNUAL_REVENUE', 'NUMBER_OF_EMPLOYEES']\n",
    "\n",
    "min_importance = 0.001 #at 0.015 we finally get zip, \n",
    "col_tree_depth = 10\n",
    "hard = False\n",
    "\n",
    "n_trees = 250\n",
    "max_depth = 25\n",
    "top_n_classes = 20"
   ]
  },
  {
   "cell_type": "markdown",
   "id": "968a9b74-1fad-4dc0-bee9-04853e025d2c",
   "metadata": {
    "tags": []
   },
   "source": [
    "## Import Data"
   ]
  },
  {
   "cell_type": "code",
   "execution_count": 3,
   "id": "df01b96f-8896-455f-a831-f9d164906546",
   "metadata": {
    "tags": []
   },
   "outputs": [],
   "source": [
    "def import_dataset(import_cols, years, sam=True):\n",
    "    \"\"\"\n",
    "    Imports, cleans, and joins our data with specified columns and years\n",
    "    Inputs: \n",
    "        import_cols (list [str] of column names)\n",
    "        years (list [int] of years to import)\n",
    "        sam (bool of whether to merge with sam dataset)\n",
    "    Output:\n",
    "        Cleaned, filtered, and joined dataframe\n",
    "    \"\"\"\n",
    "    if sam:\n",
    "        SAM = pd.read_csv('SAM.CSV') #imports SAM df\n",
    "    \n",
    "    year_dfs = []\n",
    "    for year in years:\n",
    "        if protected: #whether we're using protected columns or not\n",
    "            temp_df = pd.read_parquet('fy' + str(year) + '.parquet', columns=import_cols)\n",
    "        else:\n",
    "            temp_df = pd.read_parquet(str(year) + '.parquet', columns=import_cols) #import year's data\n",
    "        \n",
    "        temp_df = temp_df[temp_df['CO_BUS_SIZE_DETERMINATION'] == \"SMALL BUSINESS\"] #filter for small business\n",
    "        temp_df = temp_df[temp_df['VENDOR_ADDRESS_COUNTRY_NAME'] == \"UNITED STATES\"] #filter for US\n",
    "        temp_df = temp_df[temp_df['EXTENT_COMPETED'].isin([\"A\", \"D\", \"E\", \"CDO\"])] #filter for competition\n",
    "        \n",
    "        # temp_df['DOLLARS_OBLIGATED'] = pd.to_numeric(temp_df['DOLLARS_OBLIGATED'], errors='coerce') #make numeric\n",
    "        \n",
    "        if sam:\n",
    "            temp_m = pd.merge(temp_df, SAM, on=\"CAGE_CODE\", how=\"inner\") #merge with SAM\n",
    "        else:\n",
    "            temp_m = temp_df\n",
    "        \n",
    "        # idx = temp_m.groupby(['SOLICITATION_ID','CAGE_CODE'])['DOLLARS_OBLIGATED'].idxmax() #find initial contract win\n",
    "        # temp_m = temp_m.loc[idx] #filter to initial contract win\n",
    "        \n",
    "        temp_m = temp_m[temp_m['DOLLARS_OBLIGATED'] > 0] #filter DOLLARS_OBLIGATED\n",
    "        \n",
    "        print(f'{year} shape: {temp_m.shape}')\n",
    "        year_dfs.append(temp_m) #append year dataset to list of year datasets\n",
    "    \n",
    "    merged_df = pd.concat(year_dfs, ignore_index=True) #merge all years\n",
    "    \n",
    "    for df in year_dfs:\n",
    "        del df\n",
    "    del year_dfs #delete the individual dfs from memory\n",
    "    \n",
    "    merged_df['contract_id'] = merged_df['PIID'] + merged_df['IDV_PIID']\n",
    "    # idx = merged_df.groupby(['SOLICITATION_ID','CAGE_CODE'])['DOLLARS_OBLIGATED'].idxmax() #find initial contracts\n",
    "    idx = merged_df.groupby(['contract_id', 'CAGE_CODE'])['DOLLARS_OBLIGATED'].idxmax() #find initial contracts a different way lmao\n",
    "    filtered_merged_df = merged_df.loc[idx] #filter to initial contract\n",
    "    \n",
    "    print(f'total shape: {filtered_merged_df.shape}')\n",
    "    \n",
    "    #place of manufacture conversion\n",
    "    def convert_place_of_manufacture(value):\n",
    "        if value == 'D':\n",
    "            return 'YES' #manufactured in US\n",
    "        elif value == 'C':\n",
    "            return 'NO' #not manufactured in US\n",
    "        elif value in ['N/A', 'A', 'G', 'E', 'H', 'L', 'J', 'F', 'K', 'B', 'I']:\n",
    "            return 'NONE'\n",
    "        else:\n",
    "            return 'NONE' #N/A (provides a service or doesn't qualify fully)\n",
    "    \n",
    "    if protected:\n",
    "        filtered_merged_df['ANNUAL_REVENUE'] = filtered_merged_df['ANNUAL_REVENUE'].astype(float)\n",
    "    # filtered_merged_df['IDV_PIID'] = filtered_merged_df['IDV_PIID'].str.strip() #clean IDV PIID\n",
    "    # filtered_merged_df['PIID'] = filtered_merged_df['PIID'].str.strip() #clean PIID\n",
    "    filtered_merged_df['PLACE_OF_MANUFACTURE_CLASS'] = filtered_merged_df['PLACE_OF_MANUFACTURE'].apply(convert_place_of_manufacture) #clean PLACE_OF_MANUFACTURE\n",
    "    filtered_merged_df['VENDOR_ADDRESS_ZIP_CODE'] = filtered_merged_df['VENDOR_ADDRESS_ZIP_CODE'].astype(str).str[:5] #clean ZIP to 5-digit\n",
    "    filtered_merged_df = filtered_merged_df[filtered_merged_df['VENDOR_ADDRESS_ZIP_CODE'].str.len()==5]\n",
    "    filtered_merged_df['TYPE_OF_SET_ASIDE'] = filtered_merged_df['TYPE_OF_SET_ASIDE'].fillna('NONE') #assume NA = NONE\n",
    "    \n",
    "    filtered_merged_df = filtered_merged_df.dropna(subset=filtered_merged_df.columns.difference(['PLACE_OF_MANUFACTURE'])) #remove rows with NAs here\n",
    "    \n",
    "    print(f'total filtered shape: {filtered_merged_df.shape}')\n",
    "    \n",
    "    return filtered_merged_df"
   ]
  },
  {
   "cell_type": "code",
   "execution_count": 4,
   "id": "cd32e73f-cb72-46e7-841b-c82efa5e8e94",
   "metadata": {
    "tags": []
   },
   "outputs": [
    {
     "name": "stdout",
     "output_type": "stream",
     "text": [
      "2019 shape: (1772611, 43)\n",
      "2020 shape: (1659942, 43)\n",
      "2021 shape: (1916684, 43)\n",
      "2022 shape: (1979453, 43)\n",
      "2023 shape: (1866515, 43)\n",
      "total shape: (8616491, 44)\n",
      "total filtered shape: (266059, 45)\n"
     ]
    }
   ],
   "source": [
    "df0 = import_dataset(import_cols, import_years, sam=False)"
   ]
  },
  {
   "cell_type": "markdown",
   "id": "d4bf358c-5c9d-4c74-b100-968d0968eec3",
   "metadata": {},
   "source": [
    "## Create Response Variable"
   ]
  },
  {
   "cell_type": "code",
   "execution_count": 5,
   "id": "72c60556-1c13-4d77-909b-a5067ec74e3c",
   "metadata": {
    "tags": []
   },
   "outputs": [],
   "source": [
    "def response_var(df, top_n, min_class_size=1):\n",
    "    \"\"\"\n",
    "    Creates a new response variable by splitting the top_n most common agencies into their respective offices,\n",
    "    then filter the dataframe so only classes with at least min_class_size rows remain\n",
    "    Inputs:\n",
    "        df (dataframe output from import_dataset())\n",
    "        top_n (integer of top n agencies [0, max])\n",
    "        min_class_size (integer of minimum # of observations a class can have to be a valid response)\n",
    "    Outputs:\n",
    "        dataframe with additional RESPONSE column, filtered\n",
    "    \"\"\"\n",
    "    if top_n > 0:\n",
    "        n_agencies = df['FUNDING_AGENCY_ID'].value_counts().nlargest(top_n).index #get top n most common agencies\n",
    "        df['RESPONSE'] = np.where(df['FUNDING_AGENCY_ID'].isin(n_agencies), df['FUNDING_OFFICE_ID'], df['FUNDING_AGENCY_ID']) #make RESPONSE, splitting most common agencies into offices\n",
    "    else:\n",
    "        df['RESPONSE'] = df['FUNDING_AGENCY_ID']\n",
    "    \n",
    "    class_sizes = df['RESPONSE'].value_counts()\n",
    "    classes_to_keep = class_sizes[class_sizes >= min_class_size].index\n",
    "    df = df[df['RESPONSE'].isin(classes_to_keep)]\n",
    "    \n",
    "    print(f\"{df['RESPONSE'].nunique()} unique response classes\")\n",
    "    \n",
    "    return df"
   ]
  },
  {
   "cell_type": "code",
   "execution_count": 6,
   "id": "7a638aba-b7c2-4f75-8986-a11d6793fc93",
   "metadata": {
    "tags": []
   },
   "outputs": [
    {
     "name": "stdout",
     "output_type": "stream",
     "text": [
      "163 unique response classes\n"
     ]
    }
   ],
   "source": [
    "df = response_var(df0, top_n_agencies, min_class_size)"
   ]
  },
  {
   "cell_type": "markdown",
   "id": "71aa7e4e-d5d3-4ad2-9ad9-47fb7806b042",
   "metadata": {
    "tags": []
   },
   "source": [
    "## Perform any Feature Engineering Here"
   ]
  },
  {
   "cell_type": "code",
   "execution_count": 7,
   "id": "5455bf99-d140-4aae-8c48-930e2969d1be",
   "metadata": {
    "tags": []
   },
   "outputs": [],
   "source": [
    "df.loc[:,'PRINCIPAL_NAICS_CODE'] = df['PRINCIPAL_NAICS_CODE'].str[:4]"
   ]
  },
  {
   "cell_type": "code",
   "execution_count": 8,
   "id": "3386711e-1707-439f-9af1-a039a798ff69",
   "metadata": {
    "tags": []
   },
   "outputs": [],
   "source": [
    "# contracts_per_year = df.groupby(['CAGE_CODE', 'AWARD_FISCAL_YEAR']).size().to_frame().reset_index()\n",
    "# contracts_per_year.columns = list(contracts_per_year.columns[:2]) + ['CONTRACTS_PER_YEAR']\n",
    "# df = df.merge(contracts_per_year, on=['CAGE_CODE', 'AWARD_FISCAL_YEAR'])"
   ]
  },
  {
   "cell_type": "code",
   "execution_count": 9,
   "id": "34d0018a-1557-430b-9d8a-498ac13cc2cb",
   "metadata": {},
   "outputs": [],
   "source": [
    "# zip_df = pd.read_csv('zip_code_database.csv', converters={'zip': str})\n",
    "# zcdb = pd.Series(zip_df['state'].values,index=zip_df['zip']).to_dict()\n",
    "# df.loc[:,'VENDOR_STATE'] = df[\"VENDOR_ADDRESS_ZIP_CODE\"].map(zcdb, na_action='ignore')\n",
    "# df = df[~df['VENDOR_STATE'].isna()]"
   ]
  },
  {
   "cell_type": "code",
   "execution_count": 10,
   "id": "a6146a4c-2f4e-44b0-a170-4bf78744e96d",
   "metadata": {
    "tags": []
   },
   "outputs": [],
   "source": [
    "# df.loc[:,'VENDOR_ADDRESS_ZIP_CODE'] = df['VENDOR_ADDRESS_ZIP_CODE'].str[:1]"
   ]
  },
  {
   "cell_type": "markdown",
   "id": "357a9e42-dd05-4969-b4e0-dbf24e806e1e",
   "metadata": {},
   "source": [
    "## Model Preprocessing"
   ]
  },
  {
   "cell_type": "code",
   "execution_count": 11,
   "id": "eeb9a655-b76e-42de-b6dc-25d8746a3308",
   "metadata": {
    "tags": []
   },
   "outputs": [],
   "source": [
    "def preprocess_data(df, model_cols, train_test=True, train_size=0.8, scale_quant=True):\n",
    "    \"\"\"\n",
    "    Preprocesses the dataframe appropriately after creating the response variable and after feature engineering\n",
    "    Input:\n",
    "        df (dataframe output from response_var())\n",
    "        model_cols (list [str] of cols to use to model)\n",
    "        train_test (bool of whether to split the data into train/test groups)\n",
    "        train_size (float [0, 1] of proportion of training data to whole data)\n",
    "        scale_quant (bool of whether to scale quantitative variables)\n",
    "        \n",
    "    Output:\n",
    "        X (df of X values to be used in modeling, dummy encoded & scaled)\n",
    "        y (series of y values for modeling, label encoded)\n",
    "    \"\"\"\n",
    "    Xy = df[model_cols] #select only the modeling columns\n",
    "    \n",
    "    y = Xy['RESPONSE'] #initialize y\n",
    "    X = Xy.drop('RESPONSE', axis=1) #initialize X\n",
    "    \n",
    "    enc = LabelEncoder()\n",
    "    y = enc.fit_transform(y) #transform y into labeled column\n",
    "    global class_ids \n",
    "    class_ids = enc.classes_\n",
    "    \n",
    "    categoricals = X.select_dtypes(include=['object', 'category']).columns.tolist()\n",
    "    X_cat = pd.get_dummies(X[categoricals]) #one-hot encode categorical columns\n",
    "    \n",
    "    quantitatives = X.columns.difference(categoricals)\n",
    "    if scale_quant and len(quantitatives) > 0:\n",
    "        global scaler\n",
    "        scaler = StandardScaler()\n",
    "        X_quant = scaler.fit_transform(X[quantitatives]) #scale quantitative columns\n",
    "        X_quant = pd.DataFrame(X_quant, columns=quantitatives)\n",
    "        X_cat = X_cat.reset_index()\n",
    "    else:\n",
    "        X_quant = X[quantitatives]\n",
    "    \n",
    "    X = pd.concat([X_cat, X_quant], axis=1) #combine quant & cat subsets back into one df\n",
    "    \n",
    "    if train_test:\n",
    "        X_train, X_test, y_train, y_test = train_test_split(X, y, train_size=train_size, random_state=seed)\n",
    "        return X_train, X_test, y_train, y_test\n",
    "    else:\n",
    "        return X, y"
   ]
  },
  {
   "cell_type": "code",
   "execution_count": 12,
   "id": "9e3defba-b87b-464c-89ea-ef66b5f2190c",
   "metadata": {},
   "outputs": [],
   "source": [
    "X_train, X_test, y_train, y_test = preprocess_data(df, model_cols, train_test=True, train_size=0.8, scale_quant=True)"
   ]
  },
  {
   "cell_type": "code",
   "execution_count": 13,
   "id": "e07a9c97-5b33-4040-b3c5-817b26d8c783",
   "metadata": {
    "tags": []
   },
   "outputs": [],
   "source": [
    "# pickle.dump(scaler, open('Dashboard_Scaler.pkl', 'wb'))"
   ]
  },
  {
   "cell_type": "markdown",
   "id": "121da76a-4434-4d5b-a559-60356b5315ec",
   "metadata": {},
   "source": [
    "## Column Selection"
   ]
  },
  {
   "cell_type": "code",
   "execution_count": 14,
   "id": "c06cc798-505e-4c7b-b6f0-564596adc2e3",
   "metadata": {
    "tags": []
   },
   "outputs": [],
   "source": [
    "final_cols = [\n",
    "    'PRINCIPAL_NAICS_CODE_1129',\n",
    " 'PRINCIPAL_NAICS_CODE_1132',\n",
    " 'PRINCIPAL_NAICS_CODE_1151',\n",
    " 'PRINCIPAL_NAICS_CODE_1152',\n",
    " 'PRINCIPAL_NAICS_CODE_1153',\n",
    " 'PRINCIPAL_NAICS_CODE_2123',\n",
    " 'PRINCIPAL_NAICS_CODE_2131',\n",
    " 'PRINCIPAL_NAICS_CODE_2211',\n",
    " 'PRINCIPAL_NAICS_CODE_2362',\n",
    " 'PRINCIPAL_NAICS_CODE_2371',\n",
    " 'PRINCIPAL_NAICS_CODE_2373',\n",
    " 'PRINCIPAL_NAICS_CODE_2379',\n",
    " 'PRINCIPAL_NAICS_CODE_2381',\n",
    " 'PRINCIPAL_NAICS_CODE_2382',\n",
    " 'PRINCIPAL_NAICS_CODE_2383',\n",
    " 'PRINCIPAL_NAICS_CODE_2389',\n",
    " 'PRINCIPAL_NAICS_CODE_3111',\n",
    " 'PRINCIPAL_NAICS_CODE_3112',\n",
    " 'PRINCIPAL_NAICS_CODE_3114',\n",
    " 'PRINCIPAL_NAICS_CODE_3115',\n",
    " 'PRINCIPAL_NAICS_CODE_3116',\n",
    " 'PRINCIPAL_NAICS_CODE_3117',\n",
    " 'PRINCIPAL_NAICS_CODE_3119',\n",
    " 'PRINCIPAL_NAICS_CODE_3121',\n",
    " 'PRINCIPAL_NAICS_CODE_3132',\n",
    " 'PRINCIPAL_NAICS_CODE_3133',\n",
    " 'PRINCIPAL_NAICS_CODE_3141',\n",
    " 'PRINCIPAL_NAICS_CODE_3149',\n",
    " 'PRINCIPAL_NAICS_CODE_3151',\n",
    " 'PRINCIPAL_NAICS_CODE_3152',\n",
    " 'PRINCIPAL_NAICS_CODE_3159',\n",
    " 'PRINCIPAL_NAICS_CODE_3162',\n",
    " 'PRINCIPAL_NAICS_CODE_3169',\n",
    " 'PRINCIPAL_NAICS_CODE_3219',\n",
    " 'PRINCIPAL_NAICS_CODE_3221',\n",
    " 'PRINCIPAL_NAICS_CODE_3222',\n",
    " 'PRINCIPAL_NAICS_CODE_3231',\n",
    " 'PRINCIPAL_NAICS_CODE_3241',\n",
    " 'PRINCIPAL_NAICS_CODE_3251',\n",
    " 'PRINCIPAL_NAICS_CODE_3252',\n",
    " 'PRINCIPAL_NAICS_CODE_3253',\n",
    " 'PRINCIPAL_NAICS_CODE_3254',\n",
    " 'PRINCIPAL_NAICS_CODE_3255',\n",
    " 'PRINCIPAL_NAICS_CODE_3256',\n",
    " 'PRINCIPAL_NAICS_CODE_3259',\n",
    " 'PRINCIPAL_NAICS_CODE_3261',\n",
    " 'PRINCIPAL_NAICS_CODE_3262',\n",
    " 'PRINCIPAL_NAICS_CODE_3271',\n",
    " 'PRINCIPAL_NAICS_CODE_3273',\n",
    " 'PRINCIPAL_NAICS_CODE_3279',\n",
    " 'PRINCIPAL_NAICS_CODE_3313',\n",
    " 'PRINCIPAL_NAICS_CODE_3314',\n",
    " 'PRINCIPAL_NAICS_CODE_3322',\n",
    " 'PRINCIPAL_NAICS_CODE_3323',\n",
    " 'PRINCIPAL_NAICS_CODE_3324',\n",
    " 'PRINCIPAL_NAICS_CODE_3325',\n",
    " 'PRINCIPAL_NAICS_CODE_3326',\n",
    " 'PRINCIPAL_NAICS_CODE_3327',\n",
    " 'PRINCIPAL_NAICS_CODE_3328',\n",
    " 'PRINCIPAL_NAICS_CODE_3329',\n",
    " 'PRINCIPAL_NAICS_CODE_3331',\n",
    " 'PRINCIPAL_NAICS_CODE_3332',\n",
    " 'PRINCIPAL_NAICS_CODE_3333',\n",
    " 'PRINCIPAL_NAICS_CODE_3334',\n",
    " 'PRINCIPAL_NAICS_CODE_3335',\n",
    " 'PRINCIPAL_NAICS_CODE_3336',\n",
    " 'PRINCIPAL_NAICS_CODE_3339',\n",
    " 'PRINCIPAL_NAICS_CODE_3341',\n",
    " 'PRINCIPAL_NAICS_CODE_3342',\n",
    " 'PRINCIPAL_NAICS_CODE_3343',\n",
    " 'PRINCIPAL_NAICS_CODE_3344',\n",
    " 'PRINCIPAL_NAICS_CODE_3345',\n",
    " 'PRINCIPAL_NAICS_CODE_3346',\n",
    " 'PRINCIPAL_NAICS_CODE_3351',\n",
    " 'PRINCIPAL_NAICS_CODE_3352',\n",
    " 'PRINCIPAL_NAICS_CODE_3353',\n",
    " 'PRINCIPAL_NAICS_CODE_3359',\n",
    " 'PRINCIPAL_NAICS_CODE_3361',\n",
    " 'PRINCIPAL_NAICS_CODE_3362',\n",
    " 'PRINCIPAL_NAICS_CODE_3363',\n",
    " 'PRINCIPAL_NAICS_CODE_3364',\n",
    " 'PRINCIPAL_NAICS_CODE_3365',\n",
    " 'PRINCIPAL_NAICS_CODE_3366',\n",
    " 'PRINCIPAL_NAICS_CODE_3369',\n",
    " 'PRINCIPAL_NAICS_CODE_3371',\n",
    " 'PRINCIPAL_NAICS_CODE_3372',\n",
    " 'PRINCIPAL_NAICS_CODE_3379',\n",
    " 'PRINCIPAL_NAICS_CODE_3391',\n",
    " 'PRINCIPAL_NAICS_CODE_3399',\n",
    " 'PRINCIPAL_NAICS_CODE_4221',\n",
    " 'PRINCIPAL_NAICS_CODE_4231',\n",
    " 'PRINCIPAL_NAICS_CODE_4232',\n",
    " 'PRINCIPAL_NAICS_CODE_4233',\n",
    " 'PRINCIPAL_NAICS_CODE_4234',\n",
    " 'PRINCIPAL_NAICS_CODE_4236',\n",
    " 'PRINCIPAL_NAICS_CODE_4237',\n",
    " 'PRINCIPAL_NAICS_CODE_4238',\n",
    " 'PRINCIPAL_NAICS_CODE_4239',\n",
    " 'PRINCIPAL_NAICS_CODE_4241',\n",
    " 'PRINCIPAL_NAICS_CODE_4244',\n",
    " 'PRINCIPAL_NAICS_CODE_4247',\n",
    " 'PRINCIPAL_NAICS_CODE_4249',\n",
    " 'PRINCIPAL_NAICS_CODE_4251',\n",
    " 'PRINCIPAL_NAICS_CODE_4412',\n",
    " 'PRINCIPAL_NAICS_CODE_4413',\n",
    " 'PRINCIPAL_NAICS_CODE_4431',\n",
    " 'PRINCIPAL_NAICS_CODE_4441',\n",
    " 'PRINCIPAL_NAICS_CODE_4442',\n",
    " 'PRINCIPAL_NAICS_CODE_4481',\n",
    " 'PRINCIPAL_NAICS_CODE_4511',\n",
    " 'PRINCIPAL_NAICS_CODE_4529',\n",
    " 'PRINCIPAL_NAICS_CODE_4532',\n",
    " 'PRINCIPAL_NAICS_CODE_4539',\n",
    " 'PRINCIPAL_NAICS_CODE_4541',\n",
    " 'PRINCIPAL_NAICS_CODE_4811',\n",
    " 'PRINCIPAL_NAICS_CODE_4812',\n",
    " 'PRINCIPAL_NAICS_CODE_4831',\n",
    " 'PRINCIPAL_NAICS_CODE_4841',\n",
    " 'PRINCIPAL_NAICS_CODE_4842',\n",
    " 'PRINCIPAL_NAICS_CODE_4853',\n",
    " 'PRINCIPAL_NAICS_CODE_4854',\n",
    " 'PRINCIPAL_NAICS_CODE_4859',\n",
    " 'PRINCIPAL_NAICS_CODE_4881',\n",
    " 'PRINCIPAL_NAICS_CODE_4883',\n",
    " 'PRINCIPAL_NAICS_CODE_4889',\n",
    " 'PRINCIPAL_NAICS_CODE_4921',\n",
    " 'PRINCIPAL_NAICS_CODE_4922',\n",
    " 'PRINCIPAL_NAICS_CODE_4931',\n",
    " 'PRINCIPAL_NAICS_CODE_5111',\n",
    " 'PRINCIPAL_NAICS_CODE_5112',\n",
    " 'PRINCIPAL_NAICS_CODE_5121',\n",
    " 'PRINCIPAL_NAICS_CODE_5131',\n",
    " 'PRINCIPAL_NAICS_CODE_5132',\n",
    " 'PRINCIPAL_NAICS_CODE_5151',\n",
    " 'PRINCIPAL_NAICS_CODE_5171',\n",
    " 'PRINCIPAL_NAICS_CODE_5172',\n",
    " 'PRINCIPAL_NAICS_CODE_5173',\n",
    " 'PRINCIPAL_NAICS_CODE_5174',\n",
    " 'PRINCIPAL_NAICS_CODE_5179',\n",
    " 'PRINCIPAL_NAICS_CODE_5181',\n",
    " 'PRINCIPAL_NAICS_CODE_5182',\n",
    " 'PRINCIPAL_NAICS_CODE_5191',\n",
    " 'PRINCIPAL_NAICS_CODE_5221',\n",
    " 'PRINCIPAL_NAICS_CODE_5223',\n",
    " 'PRINCIPAL_NAICS_CODE_5231',\n",
    " 'PRINCIPAL_NAICS_CODE_5239',\n",
    " 'PRINCIPAL_NAICS_CODE_5242',\n",
    " 'PRINCIPAL_NAICS_CODE_5259',\n",
    " 'PRINCIPAL_NAICS_CODE_5311',\n",
    " 'PRINCIPAL_NAICS_CODE_5312',\n",
    " 'PRINCIPAL_NAICS_CODE_5313',\n",
    " 'PRINCIPAL_NAICS_CODE_5321',\n",
    " 'PRINCIPAL_NAICS_CODE_5322',\n",
    " 'PRINCIPAL_NAICS_CODE_5323',\n",
    " 'PRINCIPAL_NAICS_CODE_5324',\n",
    " 'PRINCIPAL_NAICS_CODE_5411',\n",
    " 'PRINCIPAL_NAICS_CODE_5412',\n",
    " 'PRINCIPAL_NAICS_CODE_5413',\n",
    " 'PRINCIPAL_NAICS_CODE_5414',\n",
    " 'PRINCIPAL_NAICS_CODE_5415',\n",
    " 'PRINCIPAL_NAICS_CODE_5416',\n",
    " 'PRINCIPAL_NAICS_CODE_5417',\n",
    " 'PRINCIPAL_NAICS_CODE_5418',\n",
    " 'PRINCIPAL_NAICS_CODE_5419',\n",
    " 'PRINCIPAL_NAICS_CODE_5611',\n",
    " 'PRINCIPAL_NAICS_CODE_5612',\n",
    " 'PRINCIPAL_NAICS_CODE_5613',\n",
    " 'PRINCIPAL_NAICS_CODE_5614',\n",
    " 'PRINCIPAL_NAICS_CODE_5615',\n",
    " 'PRINCIPAL_NAICS_CODE_5616',\n",
    " 'PRINCIPAL_NAICS_CODE_5617',\n",
    " 'PRINCIPAL_NAICS_CODE_5619',\n",
    " 'PRINCIPAL_NAICS_CODE_5621',\n",
    " 'PRINCIPAL_NAICS_CODE_5622',\n",
    " 'PRINCIPAL_NAICS_CODE_5629',\n",
    " 'PRINCIPAL_NAICS_CODE_6113',\n",
    " 'PRINCIPAL_NAICS_CODE_6114',\n",
    " 'PRINCIPAL_NAICS_CODE_6115',\n",
    " 'PRINCIPAL_NAICS_CODE_6116',\n",
    " 'PRINCIPAL_NAICS_CODE_6117',\n",
    " 'PRINCIPAL_NAICS_CODE_6211',\n",
    " 'PRINCIPAL_NAICS_CODE_6212',\n",
    " 'PRINCIPAL_NAICS_CODE_6213',\n",
    " 'PRINCIPAL_NAICS_CODE_6215',\n",
    " 'PRINCIPAL_NAICS_CODE_6219',\n",
    " 'PRINCIPAL_NAICS_CODE_6221',\n",
    " 'PRINCIPAL_NAICS_CODE_6231',\n",
    " 'PRINCIPAL_NAICS_CODE_6241',\n",
    " 'PRINCIPAL_NAICS_CODE_6242',\n",
    " 'PRINCIPAL_NAICS_CODE_6243',\n",
    " 'PRINCIPAL_NAICS_CODE_7111',\n",
    " 'PRINCIPAL_NAICS_CODE_7121',\n",
    " 'PRINCIPAL_NAICS_CODE_7139',\n",
    " 'PRINCIPAL_NAICS_CODE_7211',\n",
    " 'PRINCIPAL_NAICS_CODE_7212',\n",
    " 'PRINCIPAL_NAICS_CODE_8111',\n",
    " 'PRINCIPAL_NAICS_CODE_8112',\n",
    " 'PRINCIPAL_NAICS_CODE_8113',\n",
    " 'PRINCIPAL_NAICS_CODE_8114',\n",
    " 'PRINCIPAL_NAICS_CODE_8129',\n",
    "]"
   ]
  },
  {
   "cell_type": "code",
   "execution_count": 15,
   "id": "1a9ef2af-b7eb-456a-b50f-bbc2f6d018b5",
   "metadata": {
    "tags": []
   },
   "outputs": [],
   "source": [
    "# pickle.dump(final_cols, open('Dashboard_Columns.pkl', 'wb'))"
   ]
  },
  {
   "cell_type": "markdown",
   "id": "11cb0ac5-6dc5-45c4-b429-e4c9c50fa569",
   "metadata": {
    "tags": []
   },
   "source": [
    "## Train Random Forest & Assess"
   ]
  },
  {
   "cell_type": "code",
   "execution_count": 16,
   "id": "1331018d-fa9c-44ac-bd40-bc42aa6e062f",
   "metadata": {
    "tags": []
   },
   "outputs": [],
   "source": [
    "def train_models(X_train, X_test, y_train, y_test, columns, top_n_classes, n_trees=1000, max_depth=2):\n",
    "    X_train = X_train[columns]\n",
    "    X_test = X_test[columns]\n",
    "    \n",
    "    # Initialize the Random Forest model\n",
    "    random_forest = RandomForestClassifier(n_estimators=n_trees, max_depth=max_depth, random_state=seed,\n",
    "                                           criterion=\"log_loss\", class_weight=\"balanced_subsample\", n_jobs=-1)\n",
    "    # boost_model = GradientBoostingClassifier(n_estimators=40, learning_rate=0.05, max_depth=4, random_state=seed)\n",
    "\n",
    "    # Train the Random Forest model on the training data\n",
    "    random_forest.fit(X_train, y_train)\n",
    "    # boost_model.fit(X_train, y_train)\n",
    "    \n",
    "    return None, random_forest"
   ]
  },
  {
   "cell_type": "code",
   "execution_count": 17,
   "id": "3beafeb7-8fad-4069-a806-f94247cb5849",
   "metadata": {
    "tags": []
   },
   "outputs": [],
   "source": [
    "def assess_models(model):\n",
    "    top_ns = []\n",
    "    accuracies = []\n",
    "    probabilities = model.predict_proba(X_test[final_cols])\n",
    "    for i in [1, 5, 10, 15, 20]:\n",
    "        # Get the top n predicted classes for each sample\n",
    "        top_n_indices = np.argsort(probabilities, axis=1)[:, -i:]\n",
    "\n",
    "        # Check if the true label is in the top n predicted classes for each sample\n",
    "        predicted_labels = model.classes_[top_n_indices]\n",
    "        accurate_predictions = np.any(predicted_labels == y_test[:, np.newaxis], axis=1)\n",
    "\n",
    "        # Calculate accuracy based on whether the true label is in the top n predicted classes\n",
    "        accuracy = np.mean(accurate_predictions)\n",
    "        accuracies += [accuracy]\n",
    "        top_ns += [i]\n",
    "    \n",
    "    return pd.DataFrame({'Top-n': top_ns, 'Accuracy': accuracies})"
   ]
  },
  {
   "cell_type": "markdown",
   "id": "dec4a6a6-fe46-4179-9024-4df05a8722f7",
   "metadata": {},
   "source": [
    "## NAICS Model"
   ]
  },
  {
   "cell_type": "code",
   "execution_count": 187,
   "id": "30335973-a8f0-44d4-ac87-8d68d0b0c732",
   "metadata": {
    "tags": []
   },
   "outputs": [
    {
     "name": "stdout",
     "output_type": "stream",
     "text": [
      "CPU times: user 1min 19s, sys: 1.22 s, total: 1min 20s\n",
      "Wall time: 12.1 s\n"
     ]
    }
   ],
   "source": [
    "%%time\n",
    "boosted_model, forest_model = train_models(X_train, X_test, y_train, y_test,\n",
    "                                                columns=final_cols, top_n_classes=top_n_classes,\n",
    "                                                n_trees=250, max_depth=25)"
   ]
  },
  {
   "cell_type": "code",
   "execution_count": 188,
   "id": "b22e53e7-4d0b-41c5-b4db-698e93141a36",
   "metadata": {
    "tags": []
   },
   "outputs": [
    {
     "data": {
      "text/html": [
       "<div>\n",
       "<style scoped>\n",
       "    .dataframe tbody tr th:only-of-type {\n",
       "        vertical-align: middle;\n",
       "    }\n",
       "\n",
       "    .dataframe tbody tr th {\n",
       "        vertical-align: top;\n",
       "    }\n",
       "\n",
       "    .dataframe thead th {\n",
       "        text-align: right;\n",
       "    }\n",
       "</style>\n",
       "<table border=\"1\" class=\"dataframe\">\n",
       "  <thead>\n",
       "    <tr style=\"text-align: right;\">\n",
       "      <th></th>\n",
       "      <th>Top-n</th>\n",
       "      <th>Accuracy</th>\n",
       "    </tr>\n",
       "  </thead>\n",
       "  <tbody>\n",
       "    <tr>\n",
       "      <th>0</th>\n",
       "      <td>1</td>\n",
       "      <td>0.496569</td>\n",
       "    </tr>\n",
       "    <tr>\n",
       "      <th>1</th>\n",
       "      <td>5</td>\n",
       "      <td>0.692946</td>\n",
       "    </tr>\n",
       "    <tr>\n",
       "      <th>2</th>\n",
       "      <td>10</td>\n",
       "      <td>0.737454</td>\n",
       "    </tr>\n",
       "    <tr>\n",
       "      <th>3</th>\n",
       "      <td>15</td>\n",
       "      <td>0.788467</td>\n",
       "    </tr>\n",
       "    <tr>\n",
       "      <th>4</th>\n",
       "      <td>20</td>\n",
       "      <td>0.822098</td>\n",
       "    </tr>\n",
       "  </tbody>\n",
       "</table>\n",
       "</div>"
      ],
      "text/plain": [
       "   Top-n  Accuracy\n",
       "0      1  0.496569\n",
       "1      5  0.692946\n",
       "2     10  0.737454\n",
       "3     15  0.788467\n",
       "4     20  0.822098"
      ]
     },
     "execution_count": 188,
     "metadata": {},
     "output_type": "execute_result"
    }
   ],
   "source": [
    "assess_df = assess_models(forest_model)\n",
    "assess_df"
   ]
  },
  {
   "cell_type": "markdown",
   "id": "106787d1-31b2-4d4b-be67-e637f212d50b",
   "metadata": {},
   "source": [
    "## Top Agency Model"
   ]
  },
  {
   "cell_type": "code",
   "execution_count": 96,
   "id": "3082060e-a403-4d08-9f23-91e77f31e507",
   "metadata": {
    "tags": []
   },
   "outputs": [],
   "source": [
    "def top_agency_model(n, repeats):\n",
    "    topn_agencies = list(pd.Series(y_train).value_counts().head(n).index)\n",
    "    accs = []\n",
    "    for i in range(repeats):\n",
    "        accs.append(pd.Series(y_test).apply(lambda x: x in topn_agencies).sum() / len(y_test))\n",
    "    return np.mean(accs)"
   ]
  },
  {
   "cell_type": "code",
   "execution_count": 97,
   "id": "1b2969aa-2063-48d6-af44-a420008428ee",
   "metadata": {
    "tags": []
   },
   "outputs": [
    {
     "data": {
      "text/html": [
       "<div>\n",
       "<style scoped>\n",
       "    .dataframe tbody tr th:only-of-type {\n",
       "        vertical-align: middle;\n",
       "    }\n",
       "\n",
       "    .dataframe tbody tr th {\n",
       "        vertical-align: top;\n",
       "    }\n",
       "\n",
       "    .dataframe thead th {\n",
       "        text-align: right;\n",
       "    }\n",
       "</style>\n",
       "<table border=\"1\" class=\"dataframe\">\n",
       "  <thead>\n",
       "    <tr style=\"text-align: right;\">\n",
       "      <th></th>\n",
       "      <th>Top-n</th>\n",
       "      <th>Accuracy</th>\n",
       "    </tr>\n",
       "  </thead>\n",
       "  <tbody>\n",
       "    <tr>\n",
       "      <th>0</th>\n",
       "      <td>1</td>\n",
       "      <td>0.537724</td>\n",
       "    </tr>\n",
       "    <tr>\n",
       "      <th>1</th>\n",
       "      <td>5</td>\n",
       "      <td>0.797832</td>\n",
       "    </tr>\n",
       "    <tr>\n",
       "      <th>2</th>\n",
       "      <td>10</td>\n",
       "      <td>0.851128</td>\n",
       "    </tr>\n",
       "    <tr>\n",
       "      <th>3</th>\n",
       "      <td>15</td>\n",
       "      <td>0.879578</td>\n",
       "    </tr>\n",
       "    <tr>\n",
       "      <th>4</th>\n",
       "      <td>20</td>\n",
       "      <td>0.899393</td>\n",
       "    </tr>\n",
       "  </tbody>\n",
       "</table>\n",
       "</div>"
      ],
      "text/plain": [
       "   Top-n  Accuracy\n",
       "0      1  0.537724\n",
       "1      5  0.797832\n",
       "2     10  0.851128\n",
       "3     15  0.879578\n",
       "4     20  0.899393"
      ]
     },
     "execution_count": 97,
     "metadata": {},
     "output_type": "execute_result"
    }
   ],
   "source": [
    "top_20 = top_agency_model(20, 1000)\n",
    "top_15 = top_agency_model(15, 1000)\n",
    "top_10 = top_agency_model(10, 1000)\n",
    "top_5 = top_agency_model(5, 1000)\n",
    "top_1= top_agency_model(1, 1000)\n",
    "\n",
    "pd.DataFrame({'Top-n': [1, 5, 10, 15, 20],\n",
    "             'Accuracy': [top_1, top_5, top_10, top_15, top_20]})"
   ]
  },
  {
   "cell_type": "markdown",
   "id": "a569ad6a-5e96-43a3-8ceb-c7814863cf64",
   "metadata": {},
   "source": [
    "## Empirical Distribution Random Model"
   ]
  },
  {
   "cell_type": "code",
   "execution_count": 84,
   "id": "53fec5bc-b4bd-464e-8cd9-0b4547d20f02",
   "metadata": {
    "tags": []
   },
   "outputs": [],
   "source": [
    "def random_model(n):\n",
    "    y_numpy = pd.Series(y_train).to_frame()\\\n",
    "    .merge(pd.Series(y_train).value_counts(normalize=True).to_frame().reset_index(),\n",
    "           left_on=0, right_on='index')[['index', 'proportion']].drop_duplicates().to_numpy()\n",
    "    y_probs = y_numpy[:,1]\n",
    "    y_vals = y_numpy[:, 0]\n",
    "    return np.random.choice(y_vals, n, p=y_probs, replace=False).astype(int)"
   ]
  },
  {
   "cell_type": "code",
   "execution_count": 19,
   "id": "29d41624-4aa2-44f6-b821-e876725dfc01",
   "metadata": {
    "tags": []
   },
   "outputs": [],
   "source": [
    "y_numpy = pd.Series(y_train).to_frame()\\\n",
    "    .merge(pd.Series(y_train).value_counts(normalize=True).to_frame().reset_index(),\n",
    "           left_on=0, right_on='index')[['index', 'proportion']].drop_duplicates().to_numpy()"
   ]
  },
  {
   "cell_type": "code",
   "execution_count": 78,
   "id": "263709bb-3537-451d-bcf6-e06483ff28d6",
   "metadata": {
    "tags": []
   },
   "outputs": [],
   "source": [
    "def assess_random(n, repeats):\n",
    "    accs = []\n",
    "    for i in range(repeats):\n",
    "        top_n_random = random_model(n)\n",
    "        accs.append(pd.Series(y_test).apply(lambda x: x in top_n_random).sum() / len(y_test))\n",
    "    \n",
    "    return np.mean(accs)"
   ]
  },
  {
   "cell_type": "code",
   "execution_count": 81,
   "id": "2ce8d262-d053-44cc-ab03-7ab38bc27153",
   "metadata": {
    "tags": []
   },
   "outputs": [
    {
     "data": {
      "text/html": [
       "<div>\n",
       "<style scoped>\n",
       "    .dataframe tbody tr th:only-of-type {\n",
       "        vertical-align: middle;\n",
       "    }\n",
       "\n",
       "    .dataframe tbody tr th {\n",
       "        vertical-align: top;\n",
       "    }\n",
       "\n",
       "    .dataframe thead th {\n",
       "        text-align: right;\n",
       "    }\n",
       "</style>\n",
       "<table border=\"1\" class=\"dataframe\">\n",
       "  <thead>\n",
       "    <tr style=\"text-align: right;\">\n",
       "      <th></th>\n",
       "      <th>Top-n</th>\n",
       "      <th>Accuracy</th>\n",
       "    </tr>\n",
       "  </thead>\n",
       "  <tbody>\n",
       "    <tr>\n",
       "      <th>0</th>\n",
       "      <td>1</td>\n",
       "      <td>0.330721</td>\n",
       "    </tr>\n",
       "    <tr>\n",
       "      <th>1</th>\n",
       "      <td>5</td>\n",
       "      <td>0.709589</td>\n",
       "    </tr>\n",
       "    <tr>\n",
       "      <th>2</th>\n",
       "      <td>10</td>\n",
       "      <td>0.799872</td>\n",
       "    </tr>\n",
       "    <tr>\n",
       "      <th>3</th>\n",
       "      <td>15</td>\n",
       "      <td>0.833551</td>\n",
       "    </tr>\n",
       "    <tr>\n",
       "      <th>4</th>\n",
       "      <td>20</td>\n",
       "      <td>0.856998</td>\n",
       "    </tr>\n",
       "  </tbody>\n",
       "</table>\n",
       "</div>"
      ],
      "text/plain": [
       "   Top-n  Accuracy\n",
       "0      1  0.330721\n",
       "1      5  0.709589\n",
       "2     10  0.799872\n",
       "3     15  0.833551\n",
       "4     20  0.856998"
      ]
     },
     "execution_count": 81,
     "metadata": {},
     "output_type": "execute_result"
    }
   ],
   "source": [
    "random_20 = assess_random(20, 1000)\n",
    "random_15 = assess_random(15, 1000)\n",
    "random_10 = assess_random(10, 1000)\n",
    "random_5 = assess_random(5, 1000)\n",
    "random_1 = assess_random(1, 1000)\n",
    "\n",
    "pd.DataFrame({'Top-n': [1, 5, 10, 15, 20],\n",
    "             'Accuracy': [random_1, random_5, random_10, random_15, random_20]})"
   ]
  },
  {
   "cell_type": "markdown",
   "id": "e7c96275-dba0-4300-84c3-efae68d36167",
   "metadata": {},
   "source": [
    "## Fully Random Model"
   ]
  },
  {
   "cell_type": "code",
   "execution_count": 86,
   "id": "41caa470-7965-44a6-94fa-ccea3d05e022",
   "metadata": {
    "tags": []
   },
   "outputs": [],
   "source": [
    "def random_model_full(n):\n",
    "    y_vals = np.unique(y_train)\n",
    "    return np.random.choice(y_vals, n, replace=False).astype(int)"
   ]
  },
  {
   "cell_type": "code",
   "execution_count": 87,
   "id": "bc07c63a-3309-476b-874e-83a0407ccbe5",
   "metadata": {
    "tags": []
   },
   "outputs": [],
   "source": [
    "def assess_random_full(n, repeats):\n",
    "    accs = []\n",
    "    for i in range(repeats):\n",
    "        top_n_random = random_model_full(n)\n",
    "        accs.append(pd.Series(y_test).apply(lambda x: x in top_n_random).sum() / len(y_test))\n",
    "    \n",
    "    return np.mean(accs)"
   ]
  },
  {
   "cell_type": "code",
   "execution_count": 88,
   "id": "ff57fe49-76d0-4d0e-b94f-77e3445273d4",
   "metadata": {
    "tags": []
   },
   "outputs": [
    {
     "data": {
      "text/html": [
       "<div>\n",
       "<style scoped>\n",
       "    .dataframe tbody tr th:only-of-type {\n",
       "        vertical-align: middle;\n",
       "    }\n",
       "\n",
       "    .dataframe tbody tr th {\n",
       "        vertical-align: top;\n",
       "    }\n",
       "\n",
       "    .dataframe thead th {\n",
       "        text-align: right;\n",
       "    }\n",
       "</style>\n",
       "<table border=\"1\" class=\"dataframe\">\n",
       "  <thead>\n",
       "    <tr style=\"text-align: right;\">\n",
       "      <th></th>\n",
       "      <th>Top-n</th>\n",
       "      <th>Accuracy</th>\n",
       "    </tr>\n",
       "  </thead>\n",
       "  <tbody>\n",
       "    <tr>\n",
       "      <th>0</th>\n",
       "      <td>1</td>\n",
       "      <td>0.008811</td>\n",
       "    </tr>\n",
       "    <tr>\n",
       "      <th>1</th>\n",
       "      <td>5</td>\n",
       "      <td>0.025091</td>\n",
       "    </tr>\n",
       "    <tr>\n",
       "      <th>2</th>\n",
       "      <td>10</td>\n",
       "      <td>0.061811</td>\n",
       "    </tr>\n",
       "    <tr>\n",
       "      <th>3</th>\n",
       "      <td>15</td>\n",
       "      <td>0.082204</td>\n",
       "    </tr>\n",
       "    <tr>\n",
       "      <th>4</th>\n",
       "      <td>20</td>\n",
       "      <td>0.111644</td>\n",
       "    </tr>\n",
       "  </tbody>\n",
       "</table>\n",
       "</div>"
      ],
      "text/plain": [
       "   Top-n  Accuracy\n",
       "0      1  0.008811\n",
       "1      5  0.025091\n",
       "2     10  0.061811\n",
       "3     15  0.082204\n",
       "4     20  0.111644"
      ]
     },
     "execution_count": 88,
     "metadata": {},
     "output_type": "execute_result"
    }
   ],
   "source": [
    "random_full_20 = assess_random_full(20, 1000)\n",
    "random_full_15 = assess_random_full(15, 1000)\n",
    "random_full_10 = assess_random_full(10, 1000)\n",
    "random_full_5 = assess_random_full(5, 1000)\n",
    "random_full_1 = assess_random_full(1, 1000)\n",
    "\n",
    "pd.DataFrame({'Top-n': [1, 5, 10, 15, 20],\n",
    "             'Accuracy': [random_full_1, random_full_5, random_full_10, random_full_15, random_full_20]})"
   ]
  }
 ],
 "metadata": {
  "kernelspec": {
   "display_name": "Python 3 (ipykernel)",
   "language": "python",
   "name": "python3"
  },
  "language_info": {
   "codemirror_mode": {
    "name": "ipython",
    "version": 3
   },
   "file_extension": ".py",
   "mimetype": "text/x-python",
   "name": "python",
   "nbconvert_exporter": "python",
   "pygments_lexer": "ipython3",
   "version": "3.11.4"
  }
 },
 "nbformat": 4,
 "nbformat_minor": 5
}
