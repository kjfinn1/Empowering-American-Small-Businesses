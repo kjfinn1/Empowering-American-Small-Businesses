{
 "cells": [
  {
   "cell_type": "code",
   "execution_count": 1,
   "id": "b5f3dc89-396b-417f-91e4-0df406514d48",
   "metadata": {},
   "outputs": [],
   "source": [
    "import pandas as pd\n",
    "import numpy as np\n",
    "import polars as pl\n",
    "import plotly.express as px"
   ]
  },
  {
   "cell_type": "code",
   "execution_count": 2,
   "id": "ebbea319-4d8b-48ae-9ec5-d10257bdfb5a",
   "metadata": {},
   "outputs": [],
   "source": [
    "cols = [# RESPONSE VARIABLE\n",
    "        'FUNDING_AGENCY_NAME',\n",
    "        'FUNDING_OFFICE_NAME',\n",
    "        'FUNDING_AGENCY_ID', # use for main model \n",
    "        #'FUNDING_DEPARTMENT_NAME',\n",
    "    \n",
    "        # IDENTIFIERS\n",
    "        'PIID',\n",
    "        'IDV_PIID', # Indefinite delivery vehicle procurement instrument identifiers\n",
    "        'FUNDING_DEPARTMENT_ID',\n",
    "        # Funding Department ID + IDV PIID + PIID concatenated should give unique ID for a contract\n",
    "        # null IDV PIID + PIID gives the non-IDV contracts\n",
    "        'CAGE_CODE', # Code for the entity\n",
    "        # CAGE Code has been used for the entire dataset so can act as a unique entity ID\n",
    "        # Unique Entity ID\n",
    "        #'VENDOR_UEI', # these two don't match about half the time \n",
    "        #'ULTIMATE_UEI', # check previous years - DUNS before 2022\n",
    "        'SOLICITATION_ID',\n",
    "\n",
    "        # OTHER\n",
    "        'AWARD_FISCAL_YEAR',\n",
    "        'VENDOR_ADDRESS_ZIP_CODE', #use only first 5 digits, drop NAs, least amount of NAs \n",
    "        'TYPE_OF_SET_ASIDE', # Type of Set Aside determined for the contract action 10N in dictionary \n",
    "        'DATE_SIGNED', # The date that a mutually binding agreement was reached. \"2022-09-15\"\n",
    "        'EVALUATED_PREFERENCE', #------------\n",
    "        # Evaluated Preference makes all non-HUBZone entities’ bid prices up 10% when evaluating\n",
    "    \n",
    "        # Number of Offers\n",
    "        'NUMBER_OF_OFFERS_RECEIVED', #a lot of NaNs\n",
    "        # The number of actual offers/bids received in response to the solicitation.\n",
    "        'IDV_NUMBER_OF_OFFERS',\n",
    "        'AWARD_OR_IDV', # award or IDV - mostly Award \n",
    "\n",
    "\n",
    "        \n",
    "        # FILTERING\n",
    "        'CO_BUS_SIZE_DETERMINATION', # ==\"SMALL BUSSINES\" / \"OTHER THAN SMALL BUSINESS\"\n",
    "        'VENDOR_ADDRESS_COUNTRY_NAME', # == USA filter \n",
    "        'MODIFICATION_NUMBER', # filtering == 0 \n",
    "        'EXTENT_COMPETED', # see notes, possibly filter by A,D,E,CDO\n",
    "\n",
    "        # CONTRACT VALUE\n",
    "        #'ULTIMATE_CONTRACT_VALUE', # Mutually agreed upon TOTAL contract value including all options \n",
    "        #(also includes estimated value of all potential orders for IDVs)\n",
    "        'DOLLARS_OBLIGATED',\n",
    "\n",
    "        \n",
    "\n",
    "    \n",
    "        # NAICS\n",
    "        'PRINCIPAL_NAICS_CODE', # 'number' (NAICS codes are updated every 5 years(2012,2017,2022), incosistencies? \n",
    "        #The first two digits of the code designate the sector, the third digit designates the subsector, \n",
    "        #the fourth digit designates the industry group, the fifth digit designates the NAICS industry, \n",
    "        #and the sixth digit designates the national industry. \n",
    "\n",
    "\n",
    "        ## GENERAL BUSINESS QUESTIONS\n",
    "        'CORP_ENTITY_NOT_TAX_EXEMPT', #YES/NO, no nan\n",
    "        'CORP_ENTITY_TAX_EXEMPT', #YES/NO, no nan \n",
    "        'LIMITED_LIABILITY_CORPORATION', #YES/NO, no nan\n",
    "        'PARTNERSHIP_OR_LLP', #YES/NO, no nan\n",
    "        'SOLE_PROPREITORSHIP', #YES/NO, no nan\n",
    "        'SMALL_AGRICULTURAL_COOPERATIVE', #YES/NO, no nan\n",
    "        'INTERNATIONAL_ORGANIZATION',  #YES/NO, no nan\n",
    "        'ARCHITECTURE_AND_ENGINEERING', #YES/NO, no nan\n",
    "        'COMMUNITY_CORP_OWNED_FIRM', #YES/NO, no nan\n",
    "        'CONSTRUCTION_FIRM', #YES/NO, no nan\n",
    "        'DOMESTIC_SHELTER', #YES/NO, no nan\n",
    "        'FOUNDATION', #YES/NO, no nan\n",
    "        'RESEARCH_AND_DEVELOPMENT', #YES/NO, no nan\n",
    "        'VETERINARY_HOSPITAL', #YES/NO, no nan\n",
    "        'HISPANIC_SERVICING_INSTITUTION', #YES/NO, no nan\n",
    "        'FOR_PROFIT_ORGANIZATION', #YES/NO, no nan\n",
    "        'EDUCATIONAL_INSTITUTION_FLAG', #YES/NO, no nan\n",
    "        'MANUFACTURER_OF_GOODS', #YES/NO, no nan\n",
    "        'SERVICE_PROVIDER', #YES/NO, no nan\n",
    "        'INDIAN_TRIBE', #YES/NO, no nan # Buy Indian\n",
    "\n",
    "        # MANUFACTURE - is the product you're selling made in the US \n",
    "        # YES, NO, Not a manufactured end product \n",
    "        # 'PLACE_OF_MANUFACTURE_CLASS'\n",
    "        'PLACE_OF_MANUFACTURE', \n",
    "        \n",
    "\n",
    "        # NON-CERTIFIED \n",
    "        #Veteran-Owned Business\n",
    "        'VETERAN_OWNED_FLAG',\n",
    "        #Service-Disabled Veteran-Owned Business\n",
    "        'SRDVOB_FLAG',\n",
    "        # Women-Owned Business\n",
    "        'WOMEN_OWNED_FLAG']"
   ]
  },
  {
   "cell_type": "code",
   "execution_count": 3,
   "id": "4b03009b-ec75-4a00-b4b6-316d519a2a76",
   "metadata": {
    "tags": []
   },
   "outputs": [],
   "source": [
    "SAM = pd.read_csv('SAM.csv')"
   ]
  },
  {
   "cell_type": "markdown",
   "id": "080cee3f-4669-47c8-b08a-bc0b996cb684",
   "metadata": {},
   "source": [
    "### 2019"
   ]
  },
  {
   "cell_type": "code",
   "execution_count": 4,
   "id": "d33e7e93-6cf1-4b71-b888-f71774df59d7",
   "metadata": {
    "tags": []
   },
   "outputs": [],
   "source": [
    "test_2019 = pd.read_parquet('2019.parquet', engine='pyarrow',columns=cols)"
   ]
  },
  {
   "cell_type": "code",
   "execution_count": 5,
   "id": "4eb1393d-733d-4190-9395-6b083c331172",
   "metadata": {
    "tags": []
   },
   "outputs": [],
   "source": [
    "test_2019 = test_2019[test_2019['CO_BUS_SIZE_DETERMINATION'] == \"SMALL BUSINESS\"]\n",
    "test_2019 = test_2019[test_2019['VENDOR_ADDRESS_COUNTRY_NAME'] == \"UNITED STATES\"]\n",
    "test_2019 = test_2019[test_2019['EXTENT_COMPETED'].isin([\"A\", \"D\", \"E\", \"CDO\"])]\n",
    "test_2019['FUNDING_DEPARTMENT_ID'] = test_2019['FUNDING_DEPARTMENT_ID'].str.strip()\n",
    "test_2019['IDV_PIID'] = test_2019['IDV_PIID'].str.strip()\n",
    "test_2019['PIID'] = test_2019['PIID'].str.strip()\n",
    "test_2019['DOLLARS_OBLIGATED'] = pd.to_numeric(test_2019['DOLLARS_OBLIGATED'], errors='coerce')\n",
    "m_2019 = pd.merge(test_2019, SAM, on=\"CAGE_CODE\", how=\"inner\")\n",
    "idx = m_2019.groupby(['SOLICITATION_ID','CAGE_CODE'])['DOLLARS_OBLIGATED'].idxmax()\n",
    "m_2019 = m_2019.loc[idx]\n",
    "#m_2019 = m_2019[m_2019['DOLLARS_OBLIGATED'] > 0]"
   ]
  },
  {
   "cell_type": "code",
   "execution_count": 6,
   "id": "b7376a2c-bac9-4443-8953-2efa7bebc5cf",
   "metadata": {
    "tags": []
   },
   "outputs": [
    {
     "data": {
      "text/plain": [
       "(67365, 60)"
      ]
     },
     "execution_count": 6,
     "metadata": {},
     "output_type": "execute_result"
    }
   ],
   "source": [
    "m_2019.shape"
   ]
  },
  {
   "cell_type": "markdown",
   "id": "70454497-81d3-49a7-8652-d2ab1d997507",
   "metadata": {},
   "source": [
    "### 2020"
   ]
  },
  {
   "cell_type": "code",
   "execution_count": 7,
   "id": "8c023cef-6868-4a66-92f7-91525c662d1a",
   "metadata": {},
   "outputs": [],
   "source": [
    "test_2020 = pd.read_parquet('2020.parquet', engine='pyarrow',columns=cols)"
   ]
  },
  {
   "cell_type": "code",
   "execution_count": 8,
   "id": "f1a56de9-c682-4e89-801a-66914d5958ae",
   "metadata": {
    "tags": []
   },
   "outputs": [],
   "source": [
    "test_2020 = test_2020[test_2020['CO_BUS_SIZE_DETERMINATION'] == \"SMALL BUSINESS\"]\n",
    "test_2020 = test_2020[test_2020['VENDOR_ADDRESS_COUNTRY_NAME'] == \"UNITED STATES\"]\n",
    "test_2020 = test_2020[test_2020['EXTENT_COMPETED'].isin([\"A\", \"D\", \"E\", \"CDO\"])]\n",
    "test_2020['FUNDING_DEPARTMENT_ID'] = test_2020['FUNDING_DEPARTMENT_ID'].str.strip()\n",
    "test_2020['IDV_PIID'] = test_2020['IDV_PIID'].str.strip()\n",
    "test_2020['PIID'] = test_2020['PIID'].str.strip()\n",
    "test_2020['DOLLARS_OBLIGATED'] = pd.to_numeric(test_2020['DOLLARS_OBLIGATED'], errors='coerce')\n",
    "m_2020 = pd.merge(test_2020, SAM, on=\"CAGE_CODE\", how=\"inner\")\n",
    "idx = m_2020.groupby(['SOLICITATION_ID','CAGE_CODE'])['DOLLARS_OBLIGATED'].idxmax()\n",
    "m_2020 = m_2020.loc[idx]\n",
    "#m_2020 = m_2020[m_2020['DOLLARS_OBLIGATED'] > 0]"
   ]
  },
  {
   "cell_type": "code",
   "execution_count": 9,
   "id": "37e5e66f-cb3a-4253-b447-118734095ac1",
   "metadata": {
    "tags": []
   },
   "outputs": [
    {
     "data": {
      "text/plain": [
       "(72491, 60)"
      ]
     },
     "execution_count": 9,
     "metadata": {},
     "output_type": "execute_result"
    }
   ],
   "source": [
    "m_2020.shape"
   ]
  },
  {
   "cell_type": "markdown",
   "id": "dee38102-d747-4d5c-b489-0888afee3dc8",
   "metadata": {},
   "source": [
    "### 2021"
   ]
  },
  {
   "cell_type": "code",
   "execution_count": 10,
   "id": "f64e5517-f82f-4be3-a51b-329566af40bd",
   "metadata": {
    "tags": []
   },
   "outputs": [],
   "source": [
    "test_2021 = pd.read_parquet('2021.parquet', engine='pyarrow',columns=cols)"
   ]
  },
  {
   "cell_type": "code",
   "execution_count": 11,
   "id": "2589967c-9eb4-4f68-997a-c763058183af",
   "metadata": {
    "tags": []
   },
   "outputs": [],
   "source": [
    "test_2021 = test_2021[test_2021['CO_BUS_SIZE_DETERMINATION'] == \"SMALL BUSINESS\"]\n",
    "test_2021 = test_2021[test_2021['VENDOR_ADDRESS_COUNTRY_NAME'] == \"UNITED STATES\"]\n",
    "test_2021 = test_2021[test_2021['EXTENT_COMPETED'].isin([\"A\", \"D\", \"E\", \"CDO\"])]\n",
    "test_2021['FUNDING_DEPARTMENT_ID'] = test_2021['FUNDING_DEPARTMENT_ID'].str.strip()\n",
    "test_2021['IDV_PIID'] = test_2021['IDV_PIID'].str.strip()\n",
    "test_2021['PIID'] = test_2021['PIID'].str.strip()\n",
    "test_2021['DOLLARS_OBLIGATED'] = pd.to_numeric(test_2021['DOLLARS_OBLIGATED'], errors='coerce')\n",
    "m_2021 = pd.merge(test_2021, SAM, on=\"CAGE_CODE\", how=\"inner\")\n",
    "idx = m_2021.groupby(['SOLICITATION_ID','CAGE_CODE'])['DOLLARS_OBLIGATED'].idxmax()\n",
    "m_2021 = m_2021.loc[idx]\n",
    "#m_2021 = m_2021[m_2021['DOLLARS_OBLIGATED'] > 0]"
   ]
  },
  {
   "cell_type": "code",
   "execution_count": 12,
   "id": "ba820ff6-3359-4c40-855e-dd0dec238736",
   "metadata": {
    "tags": []
   },
   "outputs": [
    {
     "data": {
      "text/plain": [
       "(74920, 60)"
      ]
     },
     "execution_count": 12,
     "metadata": {},
     "output_type": "execute_result"
    }
   ],
   "source": [
    "m_2021.shape"
   ]
  },
  {
   "cell_type": "markdown",
   "id": "39380e2b-16a6-476f-b447-05552d1cf989",
   "metadata": {},
   "source": [
    "### 2022"
   ]
  },
  {
   "cell_type": "code",
   "execution_count": 13,
   "id": "8f319c20-66a9-455e-9f75-c8714aff1a7a",
   "metadata": {
    "tags": []
   },
   "outputs": [],
   "source": [
    "test_2022 = pd.read_parquet('2022.parquet', engine='pyarrow',columns=cols)"
   ]
  },
  {
   "cell_type": "code",
   "execution_count": 14,
   "id": "ba8a396c-3cfb-4bac-86e0-eba2f442eacb",
   "metadata": {
    "tags": []
   },
   "outputs": [],
   "source": [
    "test_2022 = test_2022[test_2022['CO_BUS_SIZE_DETERMINATION'] == \"SMALL BUSINESS\"]\n",
    "test_2022 = test_2022[test_2022['VENDOR_ADDRESS_COUNTRY_NAME'] == \"UNITED STATES\"]\n",
    "test_2022 = test_2022[test_2022['EXTENT_COMPETED'].isin([\"A\", \"D\", \"E\", \"CDO\"])]\n",
    "test_2022['FUNDING_DEPARTMENT_ID'] = test_2022['FUNDING_DEPARTMENT_ID'].str.strip()\n",
    "test_2022['IDV_PIID'] = test_2022['IDV_PIID'].str.strip()\n",
    "test_2022['PIID'] = test_2022['PIID'].str.strip()\n",
    "test_2022['DOLLARS_OBLIGATED'] = pd.to_numeric(test_2022['DOLLARS_OBLIGATED'], errors='coerce')\n",
    "m_2022 = pd.merge(test_2022, SAM, on=\"CAGE_CODE\", how=\"inner\")\n",
    "idx = m_2022.groupby(['SOLICITATION_ID','CAGE_CODE'])['DOLLARS_OBLIGATED'].idxmax()\n",
    "m_2022 = m_2022.loc[idx]\n",
    "#m_2022 = m_2022[m_2022['DOLLARS_OBLIGATED'] > 0]"
   ]
  },
  {
   "cell_type": "code",
   "execution_count": 15,
   "id": "99c8b285-0d81-45c4-ad99-fc12bfd82b3e",
   "metadata": {
    "tags": []
   },
   "outputs": [
    {
     "data": {
      "text/plain": [
       "(78458, 60)"
      ]
     },
     "execution_count": 15,
     "metadata": {},
     "output_type": "execute_result"
    }
   ],
   "source": [
    "m_2022.shape"
   ]
  },
  {
   "cell_type": "markdown",
   "id": "360ee0f6-ab6b-4d76-9637-7f14db93bef6",
   "metadata": {},
   "source": [
    "### 2023"
   ]
  },
  {
   "cell_type": "code",
   "execution_count": 16,
   "id": "b6f5a356-02df-472d-bdda-674ed34681aa",
   "metadata": {
    "tags": []
   },
   "outputs": [],
   "source": [
    "test_2023 = pd.read_parquet('FY23_SC_prelim.parquet', engine='pyarrow',columns=cols)"
   ]
  },
  {
   "cell_type": "code",
   "execution_count": 17,
   "id": "da218265-822a-41d5-95f9-f76313e44afa",
   "metadata": {
    "tags": []
   },
   "outputs": [],
   "source": [
    "test_2023 = test_2023[test_2023['CO_BUS_SIZE_DETERMINATION'] == \"SMALL BUSINESS\"]\n",
    "test_2023 = test_2023[test_2023['VENDOR_ADDRESS_COUNTRY_NAME'] == \"UNITED STATES\"]\n",
    "test_2023 = test_2023[test_2023['EXTENT_COMPETED'].isin([\"A\", \"D\", \"E\", \"CDO\"])]\n",
    "test_2023['FUNDING_DEPARTMENT_ID'] = test_2023['FUNDING_DEPARTMENT_ID'].str.strip()\n",
    "test_2023['IDV_PIID'] = test_2023['IDV_PIID'].str.strip()\n",
    "test_2023['PIID'] = test_2023['PIID'].str.strip()\n",
    "test_2023['DOLLARS_OBLIGATED'] = pd.to_numeric(test_2023['DOLLARS_OBLIGATED'], errors='coerce')\n",
    "m_2023 = pd.merge(test_2023, SAM, on=\"CAGE_CODE\", how=\"inner\")\n",
    "idx = m_2023.groupby(['SOLICITATION_ID','CAGE_CODE'])['DOLLARS_OBLIGATED'].idxmax()\n",
    "m_2023 = m_2023.loc[idx]\n",
    "#m_2023 = m_2023[m_2023['DOLLARS_OBLIGATED'] > 0]"
   ]
  },
  {
   "cell_type": "code",
   "execution_count": 18,
   "id": "6adb680f-b6b0-4cd4-9492-4ab1ede31672",
   "metadata": {
    "tags": []
   },
   "outputs": [
    {
     "data": {
      "text/plain": [
       "(79365, 60)"
      ]
     },
     "execution_count": 18,
     "metadata": {},
     "output_type": "execute_result"
    }
   ],
   "source": [
    "m_2023.shape"
   ]
  },
  {
   "cell_type": "markdown",
   "id": "4e024c1b-5b64-4bcf-ad57-0ad5c57b1b6b",
   "metadata": {},
   "source": [
    "### MERGE EVERYTHING"
   ]
  },
  {
   "cell_type": "code",
   "execution_count": 19,
   "id": "fa407d7a-f7da-4692-93a6-790f477137ec",
   "metadata": {
    "tags": []
   },
   "outputs": [],
   "source": [
    "merged_df = pd.concat([m_2019, m_2020, m_2021, m_2022, m_2023], ignore_index=True)"
   ]
  },
  {
   "cell_type": "code",
   "execution_count": 20,
   "id": "fa5392aa-75c5-470e-87ac-fed209006baa",
   "metadata": {
    "tags": []
   },
   "outputs": [
    {
     "data": {
      "text/plain": [
       "(372599, 60)"
      ]
     },
     "execution_count": 20,
     "metadata": {},
     "output_type": "execute_result"
    }
   ],
   "source": [
    "merged_df.shape"
   ]
  },
  {
   "cell_type": "code",
   "execution_count": 21,
   "id": "e7add118-b29a-49d2-8e10-ca6f0f54ce7d",
   "metadata": {
    "tags": []
   },
   "outputs": [
    {
     "data": {
      "text/plain": [
       "Index(['FUNDING_AGENCY_NAME', 'FUNDING_OFFICE_NAME', 'FUNDING_AGENCY_ID',\n",
       "       'PIID', 'IDV_PIID', 'FUNDING_DEPARTMENT_ID', 'CAGE_CODE',\n",
       "       'SOLICITATION_ID', 'AWARD_FISCAL_YEAR', 'VENDOR_ADDRESS_ZIP_CODE',\n",
       "       'TYPE_OF_SET_ASIDE', 'DATE_SIGNED', 'EVALUATED_PREFERENCE',\n",
       "       'NUMBER_OF_OFFERS_RECEIVED', 'IDV_NUMBER_OF_OFFERS', 'AWARD_OR_IDV',\n",
       "       'CO_BUS_SIZE_DETERMINATION', 'VENDOR_ADDRESS_COUNTRY_NAME',\n",
       "       'MODIFICATION_NUMBER', 'EXTENT_COMPETED', 'DOLLARS_OBLIGATED',\n",
       "       'PRINCIPAL_NAICS_CODE', 'CORP_ENTITY_NOT_TAX_EXEMPT',\n",
       "       'CORP_ENTITY_TAX_EXEMPT', 'LIMITED_LIABILITY_CORPORATION',\n",
       "       'PARTNERSHIP_OR_LLP', 'SOLE_PROPREITORSHIP',\n",
       "       'SMALL_AGRICULTURAL_COOPERATIVE', 'INTERNATIONAL_ORGANIZATION',\n",
       "       'ARCHITECTURE_AND_ENGINEERING', 'COMMUNITY_CORP_OWNED_FIRM',\n",
       "       'CONSTRUCTION_FIRM', 'DOMESTIC_SHELTER', 'FOUNDATION',\n",
       "       'RESEARCH_AND_DEVELOPMENT', 'VETERINARY_HOSPITAL',\n",
       "       'HISPANIC_SERVICING_INSTITUTION', 'FOR_PROFIT_ORGANIZATION',\n",
       "       'EDUCATIONAL_INSTITUTION_FLAG', 'MANUFACTURER_OF_GOODS',\n",
       "       'SERVICE_PROVIDER', 'INDIAN_TRIBE', 'PLACE_OF_MANUFACTURE',\n",
       "       'VETERAN_OWNED_FLAG', 'SRDVOB_FLAG', 'WOMEN_OWNED_FLAG',\n",
       "       'BUS TYPE STRING', 'SBA BUSINESS TYPES STRING', 'SELF_8A', 'CERT_8A',\n",
       "       'CERT_HUBZone', 'SELF_SDB', 'CERT_SDB', 'SELF_WOSB', 'CERT_WOSB',\n",
       "       'SELF_EDWOSB', 'CERT_EDWOSB', 'SELF_VOSB', 'SELF_SDVOSB',\n",
       "       'SELF_SDVOSBJV'],\n",
       "      dtype='object')"
      ]
     },
     "execution_count": 21,
     "metadata": {},
     "output_type": "execute_result"
    }
   ],
   "source": [
    "merged_df.columns"
   ]
  },
  {
   "cell_type": "code",
   "execution_count": 22,
   "id": "72a9e4be-6a4f-4881-a311-e9f6c66721fb",
   "metadata": {
    "tags": []
   },
   "outputs": [],
   "source": [
    "idx = merged_df.groupby(['SOLICITATION_ID','CAGE_CODE'])['DOLLARS_OBLIGATED'].idxmax()\n",
    "filtered_merged_df = merged_df.loc[idx]"
   ]
  },
  {
   "cell_type": "code",
   "execution_count": 23,
   "id": "c89de55d-5b38-4049-853b-38f827d1b473",
   "metadata": {
    "tags": []
   },
   "outputs": [
    {
     "data": {
      "text/plain": [
       "(372599, 60)"
      ]
     },
     "execution_count": 23,
     "metadata": {},
     "output_type": "execute_result"
    }
   ],
   "source": [
    "merged_df.shape"
   ]
  },
  {
   "cell_type": "code",
   "execution_count": 24,
   "id": "3e80768d-cc72-41a6-b542-bf68a2fc6c4e",
   "metadata": {
    "tags": []
   },
   "outputs": [
    {
     "data": {
      "text/plain": [
       "(183073, 60)"
      ]
     },
     "execution_count": 24,
     "metadata": {},
     "output_type": "execute_result"
    }
   ],
   "source": [
    "filtered_merged_df.shape"
   ]
  },
  {
   "cell_type": "code",
   "execution_count": 25,
   "id": "e0a93199-3a1b-482d-ba10-6bdce379fd76",
   "metadata": {
    "tags": []
   },
   "outputs": [],
   "source": [
    "# PLACE_OF_MANUFACTURE\n",
    "# PLACE_OF_MANUFACTURE_CLASS\n",
    "# Make NaN into N/A\n",
    "filtered_merged_df['PLACE_OF_MANUFACTURE'] = filtered_merged_df['PLACE_OF_MANUFACTURE'].fillna('N/A')\n",
    "# create new  column \n",
    "# YES - made in US\n",
    "# NO - not made in US\n",
    "# NONE - Not selling a product \n",
    "\n",
    "def convert_place_of_manufacture(value):\n",
    "    if value == 'D':\n",
    "        return 'YES'\n",
    "    elif value == 'C':\n",
    "        return 'NO'\n",
    "    elif value in ['N/A', 'A', 'G', 'E', 'H', 'L', 'J', 'F', 'K', 'B', 'I']:\n",
    "        return 'NONE'\n",
    "    else:\n",
    "        return 'NONE'\n",
    "\n",
    "filtered_merged_df['PLACE_OF_MANUFACTURE_CLASS'] = filtered_merged_df['PLACE_OF_MANUFACTURE'].apply(convert_place_of_manufacture)\n"
   ]
  },
  {
   "cell_type": "code",
   "execution_count": 26,
   "id": "c1db4830-9e16-46b7-8310-cc03d80526a0",
   "metadata": {
    "tags": []
   },
   "outputs": [],
   "source": [
    "# zip code was in long format, change to standard 5 digits \n",
    "filtered_merged_df['VENDOR_ADDRESS_ZIP_CODE'] = filtered_merged_df['VENDOR_ADDRESS_ZIP_CODE'].astype(str).str[:5]"
   ]
  },
  {
   "cell_type": "code",
   "execution_count": 27,
   "id": "48bf6ca5-b076-4f32-8bb9-89fd6117ecf5",
   "metadata": {
    "tags": []
   },
   "outputs": [],
   "source": [
    "# assume missing values (not that many) are NONE\n",
    "filtered_merged_df['TYPE_OF_SET_ASIDE'] = filtered_merged_df['TYPE_OF_SET_ASIDE'].fillna('NONE')"
   ]
  },
  {
   "cell_type": "code",
   "execution_count": 28,
   "id": "3bab1911-dba5-4019-9d35-e8fb5c3b4281",
   "metadata": {
    "tags": []
   },
   "outputs": [],
   "source": [
    "filtered_merged_df['EVALUATED_PREFERENCE'] = filtered_merged_df['EVALUATED_PREFERENCE'].fillna('NONE')"
   ]
  },
  {
   "cell_type": "code",
   "execution_count": 29,
   "id": "770a94a3-6127-41be-aea8-256b5c05d3eb",
   "metadata": {
    "tags": []
   },
   "outputs": [],
   "source": [
    "filtered_merged_df = filtered_merged_df.dropna(subset=['CORP_ENTITY_NOT_TAX_EXEMPT'])"
   ]
  },
  {
   "cell_type": "code",
   "execution_count": 30,
   "id": "b03f3129-775c-426c-b42a-e78a68e45e8e",
   "metadata": {
    "tags": []
   },
   "outputs": [],
   "source": [
    "filtered_merged_df = filtered_merged_df.dropna(subset=['FUNDING_OFFICE_NAME'])"
   ]
  },
  {
   "cell_type": "code",
   "execution_count": null,
   "id": "84ae582e-4a9f-433b-9821-4d9677b08448",
   "metadata": {},
   "outputs": [],
   "source": []
  },
  {
   "cell_type": "markdown",
   "id": "c16f4043-b3d0-423d-bc99-5352fbf0bf25",
   "metadata": {},
   "source": [
    "### FINAL SET FOR MODELING"
   ]
  },
  {
   "cell_type": "code",
   "execution_count": 31,
   "id": "36c2a151-bff8-4095-ba27-48b6563c8e9b",
   "metadata": {},
   "outputs": [],
   "source": [
    "cols = ['FUNDING_AGENCY_NAME',\n",
    "        'FUNDING_OFFICE_NAME',\n",
    "        'FUNDING_AGENCY_ID',\n",
    "        #'CO_BUS_SIZE_DETERMINATION',\n",
    "        #'VENDOR_ADDRESS_COUNTRY_NAME',\n",
    "        #'EXTENT_COMPETED',\n",
    "        #'CAGE_CODE', \n",
    "        #'SOLICITATION_ID', \n",
    "        'AWARD_FISCAL_YEAR',\n",
    "        'VENDOR_ADDRESS_ZIP_CODE', \n",
    "        'TYPE_OF_SET_ASIDE', \n",
    "        #'DATE_SIGNED',\n",
    "        'EVALUATED_PREFERENCE', \n",
    "        #'NUMBER_OF_OFFERS_RECEIVED', \n",
    "        'DOLLARS_OBLIGATED', \n",
    "        'PRINCIPAL_NAICS_CODE',\n",
    "        'CORP_ENTITY_NOT_TAX_EXEMPT', \n",
    "        'LIMITED_LIABILITY_CORPORATION', \n",
    "        'PARTNERSHIP_OR_LLP',\n",
    "        'SOLE_PROPREITORSHIP', \n",
    "        'FOR_PROFIT_ORGANIZATION',\n",
    "        'MANUFACTURER_OF_GOODS',\n",
    "        'SERVICE_PROVIDER', \n",
    "        'INDIAN_TRIBE', \n",
    "        'PLACE_OF_MANUFACTURE_CLASS',\n",
    "        'SELF_8A', \n",
    "        'CERT_8A',\n",
    "        'CERT_HUBZone', \n",
    "        'SELF_SDB', \n",
    "        'SELF_WOSB', \n",
    "        'CERT_WOSB',\n",
    "        'SELF_EDWOSB', \n",
    "        'CERT_EDWOSB', \n",
    "        'SELF_VOSB', \n",
    "        'SELF_SDVOSB']"
   ]
  },
  {
   "cell_type": "code",
   "execution_count": 32,
   "id": "2615725e-abdf-49ed-9267-a353bc300372",
   "metadata": {
    "tags": []
   },
   "outputs": [],
   "source": [
    "final_df = filtered_merged_df[cols]"
   ]
  },
  {
   "cell_type": "code",
   "execution_count": 33,
   "id": "75cd3457-1fa1-414b-93a6-1f613b113cd2",
   "metadata": {
    "tags": []
   },
   "outputs": [
    {
     "data": {
      "text/plain": [
       "(181318, 28)"
      ]
     },
     "execution_count": 33,
     "metadata": {},
     "output_type": "execute_result"
    }
   ],
   "source": [
    "final_df.shape"
   ]
  },
  {
   "cell_type": "markdown",
   "id": "5baacf12-7b8f-4bc1-ab1b-783eb784fcbc",
   "metadata": {},
   "source": [
    "## Trend Count Functions"
   ]
  },
  {
   "cell_type": "markdown",
   "id": "b782ef3e-3d1c-43ca-837b-b1b7d3c8e607",
   "metadata": {},
   "source": [
    "**These functions are still a bit rough, can substitute FUNDING_AGENCY_ID with whichever feature we intend to break and group the contract data by(agency and specific offices, first two digits of NAICS code, etc). That would also change the input for plot_yearly_trend, shifting agency_id to the feature used to group the contract data in the first function.**"
   ]
  },
  {
   "cell_type": "code",
   "execution_count": 74,
   "id": "158e89cb-3185-4d7d-9dd2-ac6681d4ace9",
   "metadata": {
    "tags": []
   },
   "outputs": [],
   "source": [
    "def counts_df(df):\n",
    "    \"\"\"\n",
    "    Transforms a merged contract level data set into counts by Year and Agency ID.\n",
    "    AWARD_FISCAL_YEAR, FUNDING_AGENCY_ID, and FUNDING_AGENCY_NAME must be included in df.\n",
    "    \"\"\"\n",
    "    count_df = final_df.groupby(['AWARD_FISCAL_YEAR', \"FUNDING_AGENCY_ID\"]).count().reset_index()\n",
    "    count_df = count_df[['AWARD_FISCAL_YEAR', \"FUNDING_AGENCY_ID\", 'FUNDING_AGENCY_NAME']]\n",
    "    count_df = count_df.rename({\"FUNDING_AGENCY_NAME\":\"CONTRACT_COUNT\"}, axis = 1)\n",
    "    count_df = count_df.pivot(index='AWARD_FISCAL_YEAR', columns='FUNDING_AGENCY_ID', values='CONTRACT_COUNT')\n",
    "    count_df = count_df.replace(np.nan, 0)\n",
    "    return count_df"
   ]
  },
  {
   "cell_type": "code",
   "execution_count": 75,
   "id": "c11f9a12-9e7f-48f8-b116-6becce67a5d3",
   "metadata": {
    "tags": []
   },
   "outputs": [],
   "source": [
    "def plot_yearly_trend(count_df, agency_id):\n",
    "    \"\"\"\n",
    "    Using the dataframe created from counts_df, this function plots the contract count of a \n",
    "    specified funding agency ID, input in the form of a string, by year.\n",
    "    \"\"\"\n",
    "    count_df = count_df.reset_index()[[\"AWARD_FISCAL_YEAR\", agency_id]]\n",
    "    count_df = count_df.rename({\"AWARD_FISCAL_YEAR\":\"YEAR\", agency_id:\"CONTRACT COUNT\"}, axis=1)\n",
    "    fig = px.line(count_df, x=\"YEAR\", y=\"CONTRACT COUNT\", title='Contract Trend: '+ agency_id)\n",
    "    fig.show()"
   ]
  },
  {
   "cell_type": "markdown",
   "id": "9c3c1afe-8459-4cc0-b665-b8864c901381",
   "metadata": {},
   "source": [
    "### Example Code"
   ]
  },
  {
   "cell_type": "code",
   "execution_count": 76,
   "id": "1fee1cfb-d5fa-4d88-946e-3d55a5592f6b",
   "metadata": {
    "tags": []
   },
   "outputs": [],
   "source": [
    "test1 = counts_df(final_df)"
   ]
  },
  {
   "cell_type": "code",
   "execution_count": 77,
   "id": "735ab643-b5ad-4a84-9f46-787b88eb0efb",
   "metadata": {
    "tags": []
   },
   "outputs": [
    {
     "data": {
      "text/html": [
       "<div>\n",
       "<style scoped>\n",
       "    .dataframe tbody tr th:only-of-type {\n",
       "        vertical-align: middle;\n",
       "    }\n",
       "\n",
       "    .dataframe tbody tr th {\n",
       "        vertical-align: top;\n",
       "    }\n",
       "\n",
       "    .dataframe thead th {\n",
       "        text-align: right;\n",
       "    }\n",
       "</style>\n",
       "<table border=\"1\" class=\"dataframe\">\n",
       "  <thead>\n",
       "    <tr style=\"text-align: right;\">\n",
       "      <th>FUNDING_AGENCY_ID</th>\n",
       "      <th>0400</th>\n",
       "      <th>0559</th>\n",
       "      <th>1000</th>\n",
       "      <th>1027</th>\n",
       "      <th>1100</th>\n",
       "      <th>1143</th>\n",
       "      <th>1145</th>\n",
       "      <th>1153</th>\n",
       "      <th>1200</th>\n",
       "      <th>1201</th>\n",
       "      <th>...</th>\n",
       "      <th>97EX</th>\n",
       "      <th>97F1</th>\n",
       "      <th>97F2</th>\n",
       "      <th>97F5</th>\n",
       "      <th>97F6</th>\n",
       "      <th>97GZ</th>\n",
       "      <th>97HW</th>\n",
       "      <th>97JC</th>\n",
       "      <th>97SD</th>\n",
       "      <th>97ZS</th>\n",
       "    </tr>\n",
       "    <tr>\n",
       "      <th>AWARD_FISCAL_YEAR</th>\n",
       "      <th></th>\n",
       "      <th></th>\n",
       "      <th></th>\n",
       "      <th></th>\n",
       "      <th></th>\n",
       "      <th></th>\n",
       "      <th></th>\n",
       "      <th></th>\n",
       "      <th></th>\n",
       "      <th></th>\n",
       "      <th></th>\n",
       "      <th></th>\n",
       "      <th></th>\n",
       "      <th></th>\n",
       "      <th></th>\n",
       "      <th></th>\n",
       "      <th></th>\n",
       "      <th></th>\n",
       "      <th></th>\n",
       "      <th></th>\n",
       "      <th></th>\n",
       "    </tr>\n",
       "  </thead>\n",
       "  <tbody>\n",
       "    <tr>\n",
       "      <th>2019</th>\n",
       "      <td>0.0</td>\n",
       "      <td>10.0</td>\n",
       "      <td>0.0</td>\n",
       "      <td>81.0</td>\n",
       "      <td>20.0</td>\n",
       "      <td>1.0</td>\n",
       "      <td>7.0</td>\n",
       "      <td>49.0</td>\n",
       "      <td>2.0</td>\n",
       "      <td>0.0</td>\n",
       "      <td>...</td>\n",
       "      <td>29.0</td>\n",
       "      <td>40.0</td>\n",
       "      <td>32.0</td>\n",
       "      <td>49.0</td>\n",
       "      <td>3.0</td>\n",
       "      <td>0.0</td>\n",
       "      <td>9.0</td>\n",
       "      <td>27.0</td>\n",
       "      <td>0.0</td>\n",
       "      <td>85.0</td>\n",
       "    </tr>\n",
       "    <tr>\n",
       "      <th>2020</th>\n",
       "      <td>0.0</td>\n",
       "      <td>1.0</td>\n",
       "      <td>1.0</td>\n",
       "      <td>101.0</td>\n",
       "      <td>12.0</td>\n",
       "      <td>2.0</td>\n",
       "      <td>1.0</td>\n",
       "      <td>34.0</td>\n",
       "      <td>1.0</td>\n",
       "      <td>0.0</td>\n",
       "      <td>...</td>\n",
       "      <td>38.0</td>\n",
       "      <td>33.0</td>\n",
       "      <td>20.0</td>\n",
       "      <td>53.0</td>\n",
       "      <td>1.0</td>\n",
       "      <td>0.0</td>\n",
       "      <td>4.0</td>\n",
       "      <td>29.0</td>\n",
       "      <td>1.0</td>\n",
       "      <td>122.0</td>\n",
       "    </tr>\n",
       "    <tr>\n",
       "      <th>2021</th>\n",
       "      <td>1.0</td>\n",
       "      <td>7.0</td>\n",
       "      <td>1.0</td>\n",
       "      <td>137.0</td>\n",
       "      <td>7.0</td>\n",
       "      <td>1.0</td>\n",
       "      <td>10.0</td>\n",
       "      <td>27.0</td>\n",
       "      <td>4.0</td>\n",
       "      <td>0.0</td>\n",
       "      <td>...</td>\n",
       "      <td>31.0</td>\n",
       "      <td>26.0</td>\n",
       "      <td>21.0</td>\n",
       "      <td>58.0</td>\n",
       "      <td>1.0</td>\n",
       "      <td>0.0</td>\n",
       "      <td>4.0</td>\n",
       "      <td>28.0</td>\n",
       "      <td>4.0</td>\n",
       "      <td>60.0</td>\n",
       "    </tr>\n",
       "    <tr>\n",
       "      <th>2022</th>\n",
       "      <td>0.0</td>\n",
       "      <td>14.0</td>\n",
       "      <td>0.0</td>\n",
       "      <td>114.0</td>\n",
       "      <td>5.0</td>\n",
       "      <td>1.0</td>\n",
       "      <td>29.0</td>\n",
       "      <td>24.0</td>\n",
       "      <td>6.0</td>\n",
       "      <td>1.0</td>\n",
       "      <td>...</td>\n",
       "      <td>46.0</td>\n",
       "      <td>27.0</td>\n",
       "      <td>20.0</td>\n",
       "      <td>50.0</td>\n",
       "      <td>0.0</td>\n",
       "      <td>1.0</td>\n",
       "      <td>6.0</td>\n",
       "      <td>14.0</td>\n",
       "      <td>26.0</td>\n",
       "      <td>44.0</td>\n",
       "    </tr>\n",
       "    <tr>\n",
       "      <th>2023</th>\n",
       "      <td>2.0</td>\n",
       "      <td>33.0</td>\n",
       "      <td>4.0</td>\n",
       "      <td>168.0</td>\n",
       "      <td>14.0</td>\n",
       "      <td>1.0</td>\n",
       "      <td>39.0</td>\n",
       "      <td>9.0</td>\n",
       "      <td>5.0</td>\n",
       "      <td>0.0</td>\n",
       "      <td>...</td>\n",
       "      <td>32.0</td>\n",
       "      <td>51.0</td>\n",
       "      <td>18.0</td>\n",
       "      <td>75.0</td>\n",
       "      <td>1.0</td>\n",
       "      <td>2.0</td>\n",
       "      <td>10.0</td>\n",
       "      <td>19.0</td>\n",
       "      <td>0.0</td>\n",
       "      <td>61.0</td>\n",
       "    </tr>\n",
       "  </tbody>\n",
       "</table>\n",
       "<p>5 rows × 300 columns</p>\n",
       "</div>"
      ],
      "text/plain": [
       "FUNDING_AGENCY_ID  0400  0559  1000   1027  1100  1143  1145  1153  1200  \\\n",
       "AWARD_FISCAL_YEAR                                                          \n",
       "2019                0.0  10.0   0.0   81.0  20.0   1.0   7.0  49.0   2.0   \n",
       "2020                0.0   1.0   1.0  101.0  12.0   2.0   1.0  34.0   1.0   \n",
       "2021                1.0   7.0   1.0  137.0   7.0   1.0  10.0  27.0   4.0   \n",
       "2022                0.0  14.0   0.0  114.0   5.0   1.0  29.0  24.0   6.0   \n",
       "2023                2.0  33.0   4.0  168.0  14.0   1.0  39.0   9.0   5.0   \n",
       "\n",
       "FUNDING_AGENCY_ID  1201  ...  97EX  97F1  97F2  97F5  97F6  97GZ  97HW  97JC  \\\n",
       "AWARD_FISCAL_YEAR        ...                                                   \n",
       "2019                0.0  ...  29.0  40.0  32.0  49.0   3.0   0.0   9.0  27.0   \n",
       "2020                0.0  ...  38.0  33.0  20.0  53.0   1.0   0.0   4.0  29.0   \n",
       "2021                0.0  ...  31.0  26.0  21.0  58.0   1.0   0.0   4.0  28.0   \n",
       "2022                1.0  ...  46.0  27.0  20.0  50.0   0.0   1.0   6.0  14.0   \n",
       "2023                0.0  ...  32.0  51.0  18.0  75.0   1.0   2.0  10.0  19.0   \n",
       "\n",
       "FUNDING_AGENCY_ID  97SD   97ZS  \n",
       "AWARD_FISCAL_YEAR               \n",
       "2019                0.0   85.0  \n",
       "2020                1.0  122.0  \n",
       "2021                4.0   60.0  \n",
       "2022               26.0   44.0  \n",
       "2023                0.0   61.0  \n",
       "\n",
       "[5 rows x 300 columns]"
      ]
     },
     "execution_count": 77,
     "metadata": {},
     "output_type": "execute_result"
    }
   ],
   "source": [
    "test1"
   ]
  },
  {
   "cell_type": "code",
   "execution_count": 78,
   "id": "457bb639-4130-4f3a-92d9-cd4f5e50cfae",
   "metadata": {
    "tags": []
   },
   "outputs": [
    {
     "data": {
      "application/vnd.plotly.v1+json": {
       "config": {
        "plotlyServerURL": "https://plot.ly"
       },
       "data": [
        {
         "hovertemplate": "YEAR=%{x}<br>CONTRACT COUNT=%{y}<extra></extra>",
         "legendgroup": "",
         "line": {
          "color": "#636efa",
          "dash": "solid"
         },
         "marker": {
          "symbol": "circle"
         },
         "mode": "lines",
         "name": "",
         "orientation": "v",
         "showlegend": false,
         "type": "scatter",
         "x": [
          "2019",
          "2020",
          "2021",
          "2022",
          "2023"
         ],
         "xaxis": "x",
         "y": [
          10,
          1,
          7,
          14,
          33
         ],
         "yaxis": "y"
        }
       ],
       "layout": {
        "autosize": true,
        "legend": {
         "tracegroupgap": 0
        },
        "template": {
         "data": {
          "bar": [
           {
            "error_x": {
             "color": "#2a3f5f"
            },
            "error_y": {
             "color": "#2a3f5f"
            },
            "marker": {
             "line": {
              "color": "#E5ECF6",
              "width": 0.5
             },
             "pattern": {
              "fillmode": "overlay",
              "size": 10,
              "solidity": 0.2
             }
            },
            "type": "bar"
           }
          ],
          "barpolar": [
           {
            "marker": {
             "line": {
              "color": "#E5ECF6",
              "width": 0.5
             },
             "pattern": {
              "fillmode": "overlay",
              "size": 10,
              "solidity": 0.2
             }
            },
            "type": "barpolar"
           }
          ],
          "carpet": [
           {
            "aaxis": {
             "endlinecolor": "#2a3f5f",
             "gridcolor": "white",
             "linecolor": "white",
             "minorgridcolor": "white",
             "startlinecolor": "#2a3f5f"
            },
            "baxis": {
             "endlinecolor": "#2a3f5f",
             "gridcolor": "white",
             "linecolor": "white",
             "minorgridcolor": "white",
             "startlinecolor": "#2a3f5f"
            },
            "type": "carpet"
           }
          ],
          "choropleth": [
           {
            "colorbar": {
             "outlinewidth": 0,
             "ticks": ""
            },
            "type": "choropleth"
           }
          ],
          "contour": [
           {
            "colorbar": {
             "outlinewidth": 0,
             "ticks": ""
            },
            "colorscale": [
             [
              0,
              "#0d0887"
             ],
             [
              0.1111111111111111,
              "#46039f"
             ],
             [
              0.2222222222222222,
              "#7201a8"
             ],
             [
              0.3333333333333333,
              "#9c179e"
             ],
             [
              0.4444444444444444,
              "#bd3786"
             ],
             [
              0.5555555555555556,
              "#d8576b"
             ],
             [
              0.6666666666666666,
              "#ed7953"
             ],
             [
              0.7777777777777778,
              "#fb9f3a"
             ],
             [
              0.8888888888888888,
              "#fdca26"
             ],
             [
              1,
              "#f0f921"
             ]
            ],
            "type": "contour"
           }
          ],
          "contourcarpet": [
           {
            "colorbar": {
             "outlinewidth": 0,
             "ticks": ""
            },
            "type": "contourcarpet"
           }
          ],
          "heatmap": [
           {
            "colorbar": {
             "outlinewidth": 0,
             "ticks": ""
            },
            "colorscale": [
             [
              0,
              "#0d0887"
             ],
             [
              0.1111111111111111,
              "#46039f"
             ],
             [
              0.2222222222222222,
              "#7201a8"
             ],
             [
              0.3333333333333333,
              "#9c179e"
             ],
             [
              0.4444444444444444,
              "#bd3786"
             ],
             [
              0.5555555555555556,
              "#d8576b"
             ],
             [
              0.6666666666666666,
              "#ed7953"
             ],
             [
              0.7777777777777778,
              "#fb9f3a"
             ],
             [
              0.8888888888888888,
              "#fdca26"
             ],
             [
              1,
              "#f0f921"
             ]
            ],
            "type": "heatmap"
           }
          ],
          "heatmapgl": [
           {
            "colorbar": {
             "outlinewidth": 0,
             "ticks": ""
            },
            "colorscale": [
             [
              0,
              "#0d0887"
             ],
             [
              0.1111111111111111,
              "#46039f"
             ],
             [
              0.2222222222222222,
              "#7201a8"
             ],
             [
              0.3333333333333333,
              "#9c179e"
             ],
             [
              0.4444444444444444,
              "#bd3786"
             ],
             [
              0.5555555555555556,
              "#d8576b"
             ],
             [
              0.6666666666666666,
              "#ed7953"
             ],
             [
              0.7777777777777778,
              "#fb9f3a"
             ],
             [
              0.8888888888888888,
              "#fdca26"
             ],
             [
              1,
              "#f0f921"
             ]
            ],
            "type": "heatmapgl"
           }
          ],
          "histogram": [
           {
            "marker": {
             "pattern": {
              "fillmode": "overlay",
              "size": 10,
              "solidity": 0.2
             }
            },
            "type": "histogram"
           }
          ],
          "histogram2d": [
           {
            "colorbar": {
             "outlinewidth": 0,
             "ticks": ""
            },
            "colorscale": [
             [
              0,
              "#0d0887"
             ],
             [
              0.1111111111111111,
              "#46039f"
             ],
             [
              0.2222222222222222,
              "#7201a8"
             ],
             [
              0.3333333333333333,
              "#9c179e"
             ],
             [
              0.4444444444444444,
              "#bd3786"
             ],
             [
              0.5555555555555556,
              "#d8576b"
             ],
             [
              0.6666666666666666,
              "#ed7953"
             ],
             [
              0.7777777777777778,
              "#fb9f3a"
             ],
             [
              0.8888888888888888,
              "#fdca26"
             ],
             [
              1,
              "#f0f921"
             ]
            ],
            "type": "histogram2d"
           }
          ],
          "histogram2dcontour": [
           {
            "colorbar": {
             "outlinewidth": 0,
             "ticks": ""
            },
            "colorscale": [
             [
              0,
              "#0d0887"
             ],
             [
              0.1111111111111111,
              "#46039f"
             ],
             [
              0.2222222222222222,
              "#7201a8"
             ],
             [
              0.3333333333333333,
              "#9c179e"
             ],
             [
              0.4444444444444444,
              "#bd3786"
             ],
             [
              0.5555555555555556,
              "#d8576b"
             ],
             [
              0.6666666666666666,
              "#ed7953"
             ],
             [
              0.7777777777777778,
              "#fb9f3a"
             ],
             [
              0.8888888888888888,
              "#fdca26"
             ],
             [
              1,
              "#f0f921"
             ]
            ],
            "type": "histogram2dcontour"
           }
          ],
          "mesh3d": [
           {
            "colorbar": {
             "outlinewidth": 0,
             "ticks": ""
            },
            "type": "mesh3d"
           }
          ],
          "parcoords": [
           {
            "line": {
             "colorbar": {
              "outlinewidth": 0,
              "ticks": ""
             }
            },
            "type": "parcoords"
           }
          ],
          "pie": [
           {
            "automargin": true,
            "type": "pie"
           }
          ],
          "scatter": [
           {
            "fillpattern": {
             "fillmode": "overlay",
             "size": 10,
             "solidity": 0.2
            },
            "type": "scatter"
           }
          ],
          "scatter3d": [
           {
            "line": {
             "colorbar": {
              "outlinewidth": 0,
              "ticks": ""
             }
            },
            "marker": {
             "colorbar": {
              "outlinewidth": 0,
              "ticks": ""
             }
            },
            "type": "scatter3d"
           }
          ],
          "scattercarpet": [
           {
            "marker": {
             "colorbar": {
              "outlinewidth": 0,
              "ticks": ""
             }
            },
            "type": "scattercarpet"
           }
          ],
          "scattergeo": [
           {
            "marker": {
             "colorbar": {
              "outlinewidth": 0,
              "ticks": ""
             }
            },
            "type": "scattergeo"
           }
          ],
          "scattergl": [
           {
            "marker": {
             "colorbar": {
              "outlinewidth": 0,
              "ticks": ""
             }
            },
            "type": "scattergl"
           }
          ],
          "scattermapbox": [
           {
            "marker": {
             "colorbar": {
              "outlinewidth": 0,
              "ticks": ""
             }
            },
            "type": "scattermapbox"
           }
          ],
          "scatterpolar": [
           {
            "marker": {
             "colorbar": {
              "outlinewidth": 0,
              "ticks": ""
             }
            },
            "type": "scatterpolar"
           }
          ],
          "scatterpolargl": [
           {
            "marker": {
             "colorbar": {
              "outlinewidth": 0,
              "ticks": ""
             }
            },
            "type": "scatterpolargl"
           }
          ],
          "scatterternary": [
           {
            "marker": {
             "colorbar": {
              "outlinewidth": 0,
              "ticks": ""
             }
            },
            "type": "scatterternary"
           }
          ],
          "surface": [
           {
            "colorbar": {
             "outlinewidth": 0,
             "ticks": ""
            },
            "colorscale": [
             [
              0,
              "#0d0887"
             ],
             [
              0.1111111111111111,
              "#46039f"
             ],
             [
              0.2222222222222222,
              "#7201a8"
             ],
             [
              0.3333333333333333,
              "#9c179e"
             ],
             [
              0.4444444444444444,
              "#bd3786"
             ],
             [
              0.5555555555555556,
              "#d8576b"
             ],
             [
              0.6666666666666666,
              "#ed7953"
             ],
             [
              0.7777777777777778,
              "#fb9f3a"
             ],
             [
              0.8888888888888888,
              "#fdca26"
             ],
             [
              1,
              "#f0f921"
             ]
            ],
            "type": "surface"
           }
          ],
          "table": [
           {
            "cells": {
             "fill": {
              "color": "#EBF0F8"
             },
             "line": {
              "color": "white"
             }
            },
            "header": {
             "fill": {
              "color": "#C8D4E3"
             },
             "line": {
              "color": "white"
             }
            },
            "type": "table"
           }
          ]
         },
         "layout": {
          "annotationdefaults": {
           "arrowcolor": "#2a3f5f",
           "arrowhead": 0,
           "arrowwidth": 1
          },
          "autotypenumbers": "strict",
          "coloraxis": {
           "colorbar": {
            "outlinewidth": 0,
            "ticks": ""
           }
          },
          "colorscale": {
           "diverging": [
            [
             0,
             "#8e0152"
            ],
            [
             0.1,
             "#c51b7d"
            ],
            [
             0.2,
             "#de77ae"
            ],
            [
             0.3,
             "#f1b6da"
            ],
            [
             0.4,
             "#fde0ef"
            ],
            [
             0.5,
             "#f7f7f7"
            ],
            [
             0.6,
             "#e6f5d0"
            ],
            [
             0.7,
             "#b8e186"
            ],
            [
             0.8,
             "#7fbc41"
            ],
            [
             0.9,
             "#4d9221"
            ],
            [
             1,
             "#276419"
            ]
           ],
           "sequential": [
            [
             0,
             "#0d0887"
            ],
            [
             0.1111111111111111,
             "#46039f"
            ],
            [
             0.2222222222222222,
             "#7201a8"
            ],
            [
             0.3333333333333333,
             "#9c179e"
            ],
            [
             0.4444444444444444,
             "#bd3786"
            ],
            [
             0.5555555555555556,
             "#d8576b"
            ],
            [
             0.6666666666666666,
             "#ed7953"
            ],
            [
             0.7777777777777778,
             "#fb9f3a"
            ],
            [
             0.8888888888888888,
             "#fdca26"
            ],
            [
             1,
             "#f0f921"
            ]
           ],
           "sequentialminus": [
            [
             0,
             "#0d0887"
            ],
            [
             0.1111111111111111,
             "#46039f"
            ],
            [
             0.2222222222222222,
             "#7201a8"
            ],
            [
             0.3333333333333333,
             "#9c179e"
            ],
            [
             0.4444444444444444,
             "#bd3786"
            ],
            [
             0.5555555555555556,
             "#d8576b"
            ],
            [
             0.6666666666666666,
             "#ed7953"
            ],
            [
             0.7777777777777778,
             "#fb9f3a"
            ],
            [
             0.8888888888888888,
             "#fdca26"
            ],
            [
             1,
             "#f0f921"
            ]
           ]
          },
          "colorway": [
           "#636efa",
           "#EF553B",
           "#00cc96",
           "#ab63fa",
           "#FFA15A",
           "#19d3f3",
           "#FF6692",
           "#B6E880",
           "#FF97FF",
           "#FECB52"
          ],
          "font": {
           "color": "#2a3f5f"
          },
          "geo": {
           "bgcolor": "white",
           "lakecolor": "white",
           "landcolor": "#E5ECF6",
           "showlakes": true,
           "showland": true,
           "subunitcolor": "white"
          },
          "hoverlabel": {
           "align": "left"
          },
          "hovermode": "closest",
          "mapbox": {
           "style": "light"
          },
          "paper_bgcolor": "white",
          "plot_bgcolor": "#E5ECF6",
          "polar": {
           "angularaxis": {
            "gridcolor": "white",
            "linecolor": "white",
            "ticks": ""
           },
           "bgcolor": "#E5ECF6",
           "radialaxis": {
            "gridcolor": "white",
            "linecolor": "white",
            "ticks": ""
           }
          },
          "scene": {
           "xaxis": {
            "backgroundcolor": "#E5ECF6",
            "gridcolor": "white",
            "gridwidth": 2,
            "linecolor": "white",
            "showbackground": true,
            "ticks": "",
            "zerolinecolor": "white"
           },
           "yaxis": {
            "backgroundcolor": "#E5ECF6",
            "gridcolor": "white",
            "gridwidth": 2,
            "linecolor": "white",
            "showbackground": true,
            "ticks": "",
            "zerolinecolor": "white"
           },
           "zaxis": {
            "backgroundcolor": "#E5ECF6",
            "gridcolor": "white",
            "gridwidth": 2,
            "linecolor": "white",
            "showbackground": true,
            "ticks": "",
            "zerolinecolor": "white"
           }
          },
          "shapedefaults": {
           "line": {
            "color": "#2a3f5f"
           }
          },
          "ternary": {
           "aaxis": {
            "gridcolor": "white",
            "linecolor": "white",
            "ticks": ""
           },
           "baxis": {
            "gridcolor": "white",
            "linecolor": "white",
            "ticks": ""
           },
           "bgcolor": "#E5ECF6",
           "caxis": {
            "gridcolor": "white",
            "linecolor": "white",
            "ticks": ""
           }
          },
          "title": {
           "x": 0.05
          },
          "xaxis": {
           "automargin": true,
           "gridcolor": "white",
           "linecolor": "white",
           "ticks": "",
           "title": {
            "standoff": 15
           },
           "zerolinecolor": "white",
           "zerolinewidth": 2
          },
          "yaxis": {
           "automargin": true,
           "gridcolor": "white",
           "linecolor": "white",
           "ticks": "",
           "title": {
            "standoff": 15
           },
           "zerolinecolor": "white",
           "zerolinewidth": 2
          }
         }
        },
        "title": {
         "text": "Contract Trend: 0559"
        },
        "xaxis": {
         "anchor": "y",
         "autorange": true,
         "domain": [
          0,
          1
         ],
         "range": [
          0,
          4
         ],
         "title": {
          "text": "YEAR"
         },
         "type": "category"
        },
        "yaxis": {
         "anchor": "x",
         "autorange": true,
         "domain": [
          0,
          1
         ],
         "range": [
          -0.7777777777777777,
          34.77777777777778
         ],
         "title": {
          "text": "CONTRACT COUNT"
         },
         "type": "linear"
        }
       }
      },
      "image/png": "[encoded data removed]",
      "text/html": [
       "<div>                            <div id=\"0c9e853d-18f7-452b-bc11-22147138a40c\" class=\"plotly-graph-div\" style=\"height:525px; width:100%;\"></div>            <script type=\"text/javascript\">                require([\"plotly\"], function(Plotly) {                    window.PLOTLYENV=window.PLOTLYENV || {};                                    if (document.getElementById(\"0c9e853d-18f7-452b-bc11-22147138a40c\")) {                    Plotly.newPlot(                        \"0c9e853d-18f7-452b-bc11-22147138a40c\",                        [{\"hovertemplate\":\"YEAR=%{x}\\u003cbr\\u003eCONTRACT COUNT=%{y}\\u003cextra\\u003e\\u003c\\u002fextra\\u003e\",\"legendgroup\":\"\",\"line\":{\"color\":\"#636efa\",\"dash\":\"solid\"},\"marker\":{\"symbol\":\"circle\"},\"mode\":\"lines\",\"name\":\"\",\"orientation\":\"v\",\"showlegend\":false,\"x\":[\"2019\",\"2020\",\"2021\",\"2022\",\"2023\"],\"xaxis\":\"x\",\"y\":[10.0,1.0,7.0,14.0,33.0],\"yaxis\":\"y\",\"type\":\"scatter\"}],                        {\"template\":{\"data\":{\"histogram2dcontour\":[{\"type\":\"histogram2dcontour\",\"colorbar\":{\"outlinewidth\":0,\"ticks\":\"\"},\"colorscale\":[[0.0,\"#0d0887\"],[0.1111111111111111,\"#46039f\"],[0.2222222222222222,\"#7201a8\"],[0.3333333333333333,\"#9c179e\"],[0.4444444444444444,\"#bd3786\"],[0.5555555555555556,\"#d8576b\"],[0.6666666666666666,\"#ed7953\"],[0.7777777777777778,\"#fb9f3a\"],[0.8888888888888888,\"#fdca26\"],[1.0,\"#f0f921\"]]}],\"choropleth\":[{\"type\":\"choropleth\",\"colorbar\":{\"outlinewidth\":0,\"ticks\":\"\"}}],\"histogram2d\":[{\"type\":\"histogram2d\",\"colorbar\":{\"outlinewidth\":0,\"ticks\":\"\"},\"colorscale\":[[0.0,\"#0d0887\"],[0.1111111111111111,\"#46039f\"],[0.2222222222222222,\"#7201a8\"],[0.3333333333333333,\"#9c179e\"],[0.4444444444444444,\"#bd3786\"],[0.5555555555555556,\"#d8576b\"],[0.6666666666666666,\"#ed7953\"],[0.7777777777777778,\"#fb9f3a\"],[0.8888888888888888,\"#fdca26\"],[1.0,\"#f0f921\"]]}],\"heatmap\":[{\"type\":\"heatmap\",\"colorbar\":{\"outlinewidth\":0,\"ticks\":\"\"},\"colorscale\":[[0.0,\"#0d0887\"],[0.1111111111111111,\"#46039f\"],[0.2222222222222222,\"#7201a8\"],[0.3333333333333333,\"#9c179e\"],[0.4444444444444444,\"#bd3786\"],[0.5555555555555556,\"#d8576b\"],[0.6666666666666666,\"#ed7953\"],[0.7777777777777778,\"#fb9f3a\"],[0.8888888888888888,\"#fdca26\"],[1.0,\"#f0f921\"]]}],\"heatmapgl\":[{\"type\":\"heatmapgl\",\"colorbar\":{\"outlinewidth\":0,\"ticks\":\"\"},\"colorscale\":[[0.0,\"#0d0887\"],[0.1111111111111111,\"#46039f\"],[0.2222222222222222,\"#7201a8\"],[0.3333333333333333,\"#9c179e\"],[0.4444444444444444,\"#bd3786\"],[0.5555555555555556,\"#d8576b\"],[0.6666666666666666,\"#ed7953\"],[0.7777777777777778,\"#fb9f3a\"],[0.8888888888888888,\"#fdca26\"],[1.0,\"#f0f921\"]]}],\"contourcarpet\":[{\"type\":\"contourcarpet\",\"colorbar\":{\"outlinewidth\":0,\"ticks\":\"\"}}],\"contour\":[{\"type\":\"contour\",\"colorbar\":{\"outlinewidth\":0,\"ticks\":\"\"},\"colorscale\":[[0.0,\"#0d0887\"],[0.1111111111111111,\"#46039f\"],[0.2222222222222222,\"#7201a8\"],[0.3333333333333333,\"#9c179e\"],[0.4444444444444444,\"#bd3786\"],[0.5555555555555556,\"#d8576b\"],[0.6666666666666666,\"#ed7953\"],[0.7777777777777778,\"#fb9f3a\"],[0.8888888888888888,\"#fdca26\"],[1.0,\"#f0f921\"]]}],\"surface\":[{\"type\":\"surface\",\"colorbar\":{\"outlinewidth\":0,\"ticks\":\"\"},\"colorscale\":[[0.0,\"#0d0887\"],[0.1111111111111111,\"#46039f\"],[0.2222222222222222,\"#7201a8\"],[0.3333333333333333,\"#9c179e\"],[0.4444444444444444,\"#bd3786\"],[0.5555555555555556,\"#d8576b\"],[0.6666666666666666,\"#ed7953\"],[0.7777777777777778,\"#fb9f3a\"],[0.8888888888888888,\"#fdca26\"],[1.0,\"#f0f921\"]]}],\"mesh3d\":[{\"type\":\"mesh3d\",\"colorbar\":{\"outlinewidth\":0,\"ticks\":\"\"}}],\"scatter\":[{\"fillpattern\":{\"fillmode\":\"overlay\",\"size\":10,\"solidity\":0.2},\"type\":\"scatter\"}],\"parcoords\":[{\"type\":\"parcoords\",\"line\":{\"colorbar\":{\"outlinewidth\":0,\"ticks\":\"\"}}}],\"scatterpolargl\":[{\"type\":\"scatterpolargl\",\"marker\":{\"colorbar\":{\"outlinewidth\":0,\"ticks\":\"\"}}}],\"bar\":[{\"error_x\":{\"color\":\"#2a3f5f\"},\"error_y\":{\"color\":\"#2a3f5f\"},\"marker\":{\"line\":{\"color\":\"#E5ECF6\",\"width\":0.5},\"pattern\":{\"fillmode\":\"overlay\",\"size\":10,\"solidity\":0.2}},\"type\":\"bar\"}],\"scattergeo\":[{\"type\":\"scattergeo\",\"marker\":{\"colorbar\":{\"outlinewidth\":0,\"ticks\":\"\"}}}],\"scatterpolar\":[{\"type\":\"scatterpolar\",\"marker\":{\"colorbar\":{\"outlinewidth\":0,\"ticks\":\"\"}}}],\"histogram\":[{\"marker\":{\"pattern\":{\"fillmode\":\"overlay\",\"size\":10,\"solidity\":0.2}},\"type\":\"histogram\"}],\"scattergl\":[{\"type\":\"scattergl\",\"marker\":{\"colorbar\":{\"outlinewidth\":0,\"ticks\":\"\"}}}],\"scatter3d\":[{\"type\":\"scatter3d\",\"line\":{\"colorbar\":{\"outlinewidth\":0,\"ticks\":\"\"}},\"marker\":{\"colorbar\":{\"outlinewidth\":0,\"ticks\":\"\"}}}],\"scattermapbox\":[{\"type\":\"scattermapbox\",\"marker\":{\"colorbar\":{\"outlinewidth\":0,\"ticks\":\"\"}}}],\"scatterternary\":[{\"type\":\"scatterternary\",\"marker\":{\"colorbar\":{\"outlinewidth\":0,\"ticks\":\"\"}}}],\"scattercarpet\":[{\"type\":\"scattercarpet\",\"marker\":{\"colorbar\":{\"outlinewidth\":0,\"ticks\":\"\"}}}],\"carpet\":[{\"aaxis\":{\"endlinecolor\":\"#2a3f5f\",\"gridcolor\":\"white\",\"linecolor\":\"white\",\"minorgridcolor\":\"white\",\"startlinecolor\":\"#2a3f5f\"},\"baxis\":{\"endlinecolor\":\"#2a3f5f\",\"gridcolor\":\"white\",\"linecolor\":\"white\",\"minorgridcolor\":\"white\",\"startlinecolor\":\"#2a3f5f\"},\"type\":\"carpet\"}],\"table\":[{\"cells\":{\"fill\":{\"color\":\"#EBF0F8\"},\"line\":{\"color\":\"white\"}},\"header\":{\"fill\":{\"color\":\"#C8D4E3\"},\"line\":{\"color\":\"white\"}},\"type\":\"table\"}],\"barpolar\":[{\"marker\":{\"line\":{\"color\":\"#E5ECF6\",\"width\":0.5},\"pattern\":{\"fillmode\":\"overlay\",\"size\":10,\"solidity\":0.2}},\"type\":\"barpolar\"}],\"pie\":[{\"automargin\":true,\"type\":\"pie\"}]},\"layout\":{\"autotypenumbers\":\"strict\",\"colorway\":[\"#636efa\",\"#EF553B\",\"#00cc96\",\"#ab63fa\",\"#FFA15A\",\"#19d3f3\",\"#FF6692\",\"#B6E880\",\"#FF97FF\",\"#FECB52\"],\"font\":{\"color\":\"#2a3f5f\"},\"hovermode\":\"closest\",\"hoverlabel\":{\"align\":\"left\"},\"paper_bgcolor\":\"white\",\"plot_bgcolor\":\"#E5ECF6\",\"polar\":{\"bgcolor\":\"#E5ECF6\",\"angularaxis\":{\"gridcolor\":\"white\",\"linecolor\":\"white\",\"ticks\":\"\"},\"radialaxis\":{\"gridcolor\":\"white\",\"linecolor\":\"white\",\"ticks\":\"\"}},\"ternary\":{\"bgcolor\":\"#E5ECF6\",\"aaxis\":{\"gridcolor\":\"white\",\"linecolor\":\"white\",\"ticks\":\"\"},\"baxis\":{\"gridcolor\":\"white\",\"linecolor\":\"white\",\"ticks\":\"\"},\"caxis\":{\"gridcolor\":\"white\",\"linecolor\":\"white\",\"ticks\":\"\"}},\"coloraxis\":{\"colorbar\":{\"outlinewidth\":0,\"ticks\":\"\"}},\"colorscale\":{\"sequential\":[[0.0,\"#0d0887\"],[0.1111111111111111,\"#46039f\"],[0.2222222222222222,\"#7201a8\"],[0.3333333333333333,\"#9c179e\"],[0.4444444444444444,\"#bd3786\"],[0.5555555555555556,\"#d8576b\"],[0.6666666666666666,\"#ed7953\"],[0.7777777777777778,\"#fb9f3a\"],[0.8888888888888888,\"#fdca26\"],[1.0,\"#f0f921\"]],\"sequentialminus\":[[0.0,\"#0d0887\"],[0.1111111111111111,\"#46039f\"],[0.2222222222222222,\"#7201a8\"],[0.3333333333333333,\"#9c179e\"],[0.4444444444444444,\"#bd3786\"],[0.5555555555555556,\"#d8576b\"],[0.6666666666666666,\"#ed7953\"],[0.7777777777777778,\"#fb9f3a\"],[0.8888888888888888,\"#fdca26\"],[1.0,\"#f0f921\"]],\"diverging\":[[0,\"#8e0152\"],[0.1,\"#c51b7d\"],[0.2,\"#de77ae\"],[0.3,\"#f1b6da\"],[0.4,\"#fde0ef\"],[0.5,\"#f7f7f7\"],[0.6,\"#e6f5d0\"],[0.7,\"#b8e186\"],[0.8,\"#7fbc41\"],[0.9,\"#4d9221\"],[1,\"#276419\"]]},\"xaxis\":{\"gridcolor\":\"white\",\"linecolor\":\"white\",\"ticks\":\"\",\"title\":{\"standoff\":15},\"zerolinecolor\":\"white\",\"automargin\":true,\"zerolinewidth\":2},\"yaxis\":{\"gridcolor\":\"white\",\"linecolor\":\"white\",\"ticks\":\"\",\"title\":{\"standoff\":15},\"zerolinecolor\":\"white\",\"automargin\":true,\"zerolinewidth\":2},\"scene\":{\"xaxis\":{\"backgroundcolor\":\"#E5ECF6\",\"gridcolor\":\"white\",\"linecolor\":\"white\",\"showbackground\":true,\"ticks\":\"\",\"zerolinecolor\":\"white\",\"gridwidth\":2},\"yaxis\":{\"backgroundcolor\":\"#E5ECF6\",\"gridcolor\":\"white\",\"linecolor\":\"white\",\"showbackground\":true,\"ticks\":\"\",\"zerolinecolor\":\"white\",\"gridwidth\":2},\"zaxis\":{\"backgroundcolor\":\"#E5ECF6\",\"gridcolor\":\"white\",\"linecolor\":\"white\",\"showbackground\":true,\"ticks\":\"\",\"zerolinecolor\":\"white\",\"gridwidth\":2}},\"shapedefaults\":{\"line\":{\"color\":\"#2a3f5f\"}},\"annotationdefaults\":{\"arrowcolor\":\"#2a3f5f\",\"arrowhead\":0,\"arrowwidth\":1},\"geo\":{\"bgcolor\":\"white\",\"landcolor\":\"#E5ECF6\",\"subunitcolor\":\"white\",\"showland\":true,\"showlakes\":true,\"lakecolor\":\"white\"},\"title\":{\"x\":0.05},\"mapbox\":{\"style\":\"light\"}}},\"xaxis\":{\"anchor\":\"y\",\"domain\":[0.0,1.0],\"title\":{\"text\":\"YEAR\"}},\"yaxis\":{\"anchor\":\"x\",\"domain\":[0.0,1.0],\"title\":{\"text\":\"CONTRACT COUNT\"}},\"legend\":{\"tracegroupgap\":0},\"title\":{\"text\":\"Contract Trend: 0559\"}},                        {\"responsive\": true}                    ).then(function(){\n",
       "                            \n",
       "var gd = document.getElementById('0c9e853d-18f7-452b-bc11-22147138a40c');\n",
       "var x = new MutationObserver(function (mutations, observer) {{\n",
       "        var display = window.getComputedStyle(gd).display;\n",
       "        if (!display || display === 'none') {{\n",
       "            console.log([gd, 'removed!']);\n",
       "            Plotly.purge(gd);\n",
       "            observer.disconnect();\n",
       "        }}\n",
       "}});\n",
       "\n",
       "// Listen for the removal of the full notebook cells\n",
       "var notebookContainer = gd.closest('#notebook-container');\n",
       "if (notebookContainer) {{\n",
       "    x.observe(notebookContainer, {childList: true});\n",
       "}}\n",
       "\n",
       "// Listen for the clearing of the current output cell\n",
       "var outputEl = gd.closest('.output');\n",
       "if (outputEl) {{\n",
       "    x.observe(outputEl, {childList: true});\n",
       "}}\n",
       "\n",
       "                        })                };                });            </script>        </div>"
      ]
     },
     "metadata": {},
     "output_type": "display_data"
    }
   ],
   "source": [
    "plot_yearly_trend(test1, \"0559\")"
   ]
  }
 ],
 "metadata": {
  "kernelspec": {
   "display_name": "Python 3 (ipykernel)",
   "language": "python",
   "name": "python3"
  },
  "language_info": {
   "codemirror_mode": {
    "name": "ipython",
    "version": 3
   },
   "file_extension": ".py",
   "mimetype": "text/x-python",
   "name": "python",
   "nbconvert_exporter": "python",
   "pygments_lexer": "ipython3",
   "version": "3.11.4"
  }
 },
 "nbformat": 4,
 "nbformat_minor": 5
}
