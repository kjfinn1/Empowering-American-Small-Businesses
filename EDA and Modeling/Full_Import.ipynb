{
 "cells": [
  {
   "cell_type": "code",
   "execution_count": 1,
   "id": "14617723-d33a-441c-a4f3-9febfe12dab8",
   "metadata": {
    "tags": []
   },
   "outputs": [
    {
     "name": "stderr",
     "output_type": "stream",
     "text": [
      "/Users/silashayes/anaconda3/lib/python3.11/site-packages/pandas/core/arrays/masked.py:60: UserWarning: Pandas requires version '1.3.6' or newer of 'bottleneck' (version '1.3.5' currently installed).\n",
      "  from pandas.core import (\n"
     ]
    }
   ],
   "source": [
    "import pandas as pd\n",
    "import polars as pl\n",
    "import numpy as np"
   ]
  },
  {
   "cell_type": "code",
   "execution_count": 14,
   "id": "51a014c7-2f74-4896-9c4a-7ef90348b53e",
   "metadata": {
    "tags": []
   },
   "outputs": [],
   "source": [
    "cols = ['VENDOR_UEI', 'VENDOR_ADDRESS_ZIP_CODE', #silas\n",
    "        'VENDOR_ADDRESS_COUNTRY_NAME', 'EDUCATIONAL_INSTITUTION_FLAG', \n",
    "        'FIRM_8A_FLAG', 'WOMEN_OWNED_FLAG', \n",
    "        'WOSB_FLAG', 'JVWOSB_FLAG', 'EDWOSB_FLAG', 'EDJVWOSB_FLAG', \n",
    "        'FIRM8A_JOINT_VENTURE', 'FEDERALLY_FUNDED_R_AND_D_CORP', 'CORP_ENTITY_NOT_TAX_EXEMPT', 'CORP_ENTITY_TAX_EXEMPT', \n",
    "        'PARTNERSHIP_OR_LLP', 'SOLE_PROPREITORSHIP', 'SMALL_AGRICULTURAL_COOPERATIVE', 'INTERNATIONAL_ORGANIZATION', \n",
    "        'ARCHITECTURE_AND_ENGINEERING', 'COMMUNITY_CORP_OWNED_FIRM', 'CONSTRUCTION_FIRM', 'DOMESTIC_SHELTER', \n",
    "        'FOUNDATION', 'MANUFACTURER_OF_GOODS', 'RESEARCH_AND_DEVELOPMENT', 'SERVICE_PROVIDER', \n",
    "        'VETERINARY_HOSPITAL', 'HISPANIC_SERVICING_INSTITUTION', 'LIMITED_LIABILITY_CORPORATION',\n",
    "        'AWARD_OR_IDV','CO_BUS_SIZE_DETERMINATION','PRINCIPAL_NAICS_CODE','PRODUCT_OR_SERVICE_CODE', #karolina\n",
    "        'FUNDING_DEPARTMENT_ID','PIID','IDV_PIID','MODIFICATION_NUMBER', #for unique ID\n",
    "       'IDV_CONTRACTING_AGENCY_NAME', 'IDV_EXTENT_COMPETED', 'IDV_EVALUATED_PREFERENCE', 'PART8_OR_PART13', #kevin\n",
    "       'PRODUCT_OR_SERVICE_TYPE', \n",
    "       'FOR_PROFIT_ORGANIZATION', 'DOT_CERTIFIED_DISADV_BUS', 'SDB', 'DEPARTMENT', 'AGENCY', #david\n",
    "       'FISCAL_YEAR']"
   ]
  },
  {
   "cell_type": "code",
   "execution_count": 15,
   "id": "a6b22982-b476-4309-b99c-e007e34b97b7",
   "metadata": {
    "tags": []
   },
   "outputs": [
    {
     "name": "stdout",
     "output_type": "stream",
     "text": [
      "CPU times: user 7.33 s, sys: 17.2 s, total: 24.5 s\n",
      "Wall time: 10 s\n"
     ]
    }
   ],
   "source": [
    "%%time\n",
    "test_2022 = pl.read_parquet('2022.parquet', columns=cols)"
   ]
  },
  {
   "cell_type": "code",
   "execution_count": 12,
   "id": "5f53f0ec-4a55-43ef-be2a-9a20c87c8cfc",
   "metadata": {
    "tags": []
   },
   "outputs": [
    {
     "data": {
      "text/plain": [
       "(3167065, 45)"
      ]
     },
     "execution_count": 12,
     "metadata": {},
     "output_type": "execute_result"
    }
   ],
   "source": [
    "test_2022 = test_2022.filter(test_2022['CO_BUS_SIZE_DETERMINATION']==\"SMALL BUSINESS\")\n",
    "test_2022.shape"
   ]
  },
  {
   "cell_type": "code",
   "execution_count": 16,
   "id": "1c9ca101-1703-421e-8003-e4441a5b690f",
   "metadata": {
    "tags": []
   },
   "outputs": [],
   "source": [
    "def replace_yes_no_values(column):\n",
    "    return column.map_elements(lambda x: 1 if x == 'YES' else (0 if x == 'NO' else x))\n",
    "\n",
    "flag_columns = ['EDUCATIONAL_INSTITUTION_FLAG', 'FIRM_8A_FLAG', 'WOMEN_OWNED_FLAG',\n",
    "                'WOSB_FLAG', 'JVWOSB_FLAG', 'EDWOSB_FLAG', 'EDJVWOSB_FLAG',\n",
    "                'FIRM8A_JOINT_VENTURE', 'FEDERALLY_FUNDED_R_AND_D_CORP',\n",
    "                'CORP_ENTITY_NOT_TAX_EXEMPT', 'CORP_ENTITY_TAX_EXEMPT',\n",
    "                'PARTNERSHIP_OR_LLP', 'SOLE_PROPREITORSHIP', 'SMALL_AGRICULTURAL_COOPERATIVE',\n",
    "                'INTERNATIONAL_ORGANIZATION', 'ARCHITECTURE_AND_ENGINEERING',\n",
    "                'COMMUNITY_CORP_OWNED_FIRM', 'CONSTRUCTION_FIRM', 'DOMESTIC_SHELTER',\n",
    "                'FOUNDATION', 'MANUFACTURER_OF_GOODS', 'RESEARCH_AND_DEVELOPMENT',\n",
    "                'SERVICE_PROVIDER', 'VETERINARY_HOSPITAL', 'HISPANIC_SERVICING_INSTITUTION',\n",
    "                'LIMITED_LIABILITY_CORPORATION']\n",
    "\n",
    "for col in flag_columns:\n",
    "    test_2022 = test_2022.with_columns(replace_yes_no_values(test_2022[col]))"
   ]
  },
  {
   "cell_type": "code",
   "execution_count": 17,
   "id": "5821020b-4bd3-4315-bf9f-1b0332921360",
   "metadata": {
    "tags": []
   },
   "outputs": [
    {
     "data": {
      "text/plain": [
       "(6088454, 44)"
      ]
     },
     "execution_count": 17,
     "metadata": {},
     "output_type": "execute_result"
    }
   ],
   "source": [
    "#combine women-owned columns into one\n",
    "women_summed = test_2022.select(['WOMEN_OWNED_FLAG', 'WOSB_FLAG', 'JVWOSB_FLAG', 'EDWOSB_FLAG', 'EDJVWOSB_FLAG']).transpose().sum().transpose()\n",
    "test_2022 = test_2022.with_columns(women_summed[\"column_0\"].map_elements(lambda x: 1 if x > 0 else 0).alias(\"WOMEN_OWNED_FLAG\"))\n",
    "test_2022 = test_2022.drop(['WOSB_FLAG', 'JVWOSB_FLAG', 'EDWOSB_FLAG', 'EDJVWOSB_FLAG'])\n",
    "test_2022.shape"
   ]
  },
  {
   "cell_type": "code",
   "execution_count": null,
   "id": "94676a9b-0664-43f4-a6da-da8f7ddcc01d",
   "metadata": {},
   "outputs": [],
   "source": []
  }
 ],
 "metadata": {
  "kernelspec": {
   "display_name": "Python 3 (ipykernel)",
   "language": "python",
   "name": "python3"
  },
  "language_info": {
   "codemirror_mode": {
    "name": "ipython",
    "version": 3
   },
   "file_extension": ".py",
   "mimetype": "text/x-python",
   "name": "python",
   "nbconvert_exporter": "python",
   "pygments_lexer": "ipython3",
   "version": "3.11.4"
  }
 },
 "nbformat": 4,
 "nbformat_minor": 5
}
