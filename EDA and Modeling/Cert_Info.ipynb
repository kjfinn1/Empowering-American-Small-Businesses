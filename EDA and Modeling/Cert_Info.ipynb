{
 "cells": [
  {
   "cell_type": "code",
   "execution_count": 2,
   "id": "4a5fbce7-9834-4d43-a261-85f2969fe4e9",
   "metadata": {},
   "outputs": [
    {
     "data": {
      "text/plain": [
       "<polars.config.Config at 0x7faba212fc70>"
      ]
     },
     "execution_count": 2,
     "metadata": {},
     "output_type": "execute_result"
    }
   ],
   "source": [
    "import polars as pl\n",
    "import pandas as pd\n",
    "import pyarrow as pa\n",
    "pl.Config(fmt_str_lengths=100)"
   ]
  },
  {
   "cell_type": "code",
   "execution_count": 3,
   "id": "a1eeccc1-02fd-4d8e-afa8-5e752d29c080",
   "metadata": {},
   "outputs": [
    {
     "name": "stderr",
     "output_type": "stream",
     "text": [
      "/var/folders/16/qmpjtvq51mbfm9hzlgn30t_r0000gn/T/ipykernel_54564/3453440299.py:1: DeprecationWarning: `the argument read_csv_options` for `read_excel` is deprecated. It has been renamed to `read_options`.\n",
      "  col_names = pl.read_excel('SAM_MASTER_EXTRACT_MAPPING_1Nov2023.xlsx', read_csv_options={'skip_rows':3, 'null_values':'N/A'})\\\n"
     ]
    }
   ],
   "source": [
    "col_names = pl.read_excel('SAM_MASTER_EXTRACT_MAPPING_1Nov2023.xlsx', read_csv_options={'skip_rows':3, 'null_values':'N/A'})\\\n",
    "    .filter(pl.col('Public')=='X')\\\n",
    "    .to_series()\\\n",
    "    .to_list()"
   ]
  },
  {
   "cell_type": "code",
   "execution_count": 4,
   "id": "e7c1cce7-ffcc-475f-b807-a4222b122f3e",
   "metadata": {},
   "outputs": [],
   "source": [
    "full_reg = pl.read_csv('SAM_PUBLIC_MONTHLY_V2_20240303.dat', has_header = False, separator='|', skip_rows=1,\n",
    "           missing_utf8_is_empty_string=True, ignore_errors=True, new_columns=col_names, truncate_ragged_lines=True)"
   ]
  },
  {
   "cell_type": "code",
   "execution_count": 5,
   "id": "15480721-28ec-4fee-a839-7e5f2bf940b6",
   "metadata": {},
   "outputs": [],
   "source": [
    "full_reg=full_reg[['UNIQUE ENTITY ID','CAGE CODE', 'BUS TYPE STRING','SBA BUSINESS TYPES STRING']]"
   ]
  },
  {
   "cell_type": "code",
   "execution_count": 17,
   "id": "3eed01ee-6b63-4d76-9190-a43c6e95b5be",
   "metadata": {},
   "outputs": [
    {
     "data": {
      "text/html": [
       "<div><style>\n",
       ".dataframe > thead > tr,\n",
       ".dataframe > tbody > tr {\n",
       "  text-align: right;\n",
       "  white-space: pre-wrap;\n",
       "}\n",
       "</style>\n",
       "<small>shape: (625_975, 13)</small><table border=\"1\" class=\"dataframe\"><thead><tr><th>UNIQUE ENTITY ID</th><th>CAGE CODE</th><th>BUS TYPE STRING</th><th>SBA BUSINESS TYPES STRING</th><th>SELF_8A</th><th>CERT_8A</th><th>CERT_HUBZone</th><th>SELF_SDB</th><th>CERT_SDB</th><th>SELF_WOSB</th><th>CERT_WOSB</th><th>SELF_EDWOSB</th><th>CERT_EDWOSB</th></tr><tr><td>str</td><td>str</td><td>str</td><td>str</td><td>str</td><td>str</td><td>str</td><td>str</td><td>str</td><td>str</td><td>str</td><td>str</td><td>str</td></tr></thead><tbody><tr><td>&quot;C111ATT311C8&quot;</td><td>&quot;53YC5&quot;</td><td>&quot;2X~8W~A2~HQ~XS&quot;</td><td>&quot;&quot;</td><td>&quot;NO&quot;</td><td>&quot;NO&quot;</td><td>&quot;NO&quot;</td><td>&quot;NO&quot;</td><td>&quot;NO&quot;</td><td>&quot;YES&quot;</td><td>&quot;NO&quot;</td><td>&quot;YES&quot;</td><td>&quot;NO&quot;</td></tr><tr><td>&quot;C111BG66D155&quot;</td><td>&quot;6M9A6&quot;</td><td>&quot;A8&quot;</td><td>&quot;&quot;</td><td>&quot;NO&quot;</td><td>&quot;NO&quot;</td><td>&quot;NO&quot;</td><td>&quot;NO&quot;</td><td>&quot;NO&quot;</td><td>&quot;NO&quot;</td><td>&quot;NO&quot;</td><td>&quot;NO&quot;</td><td>&quot;NO&quot;</td></tr><tr><td>&quot;C111FE1KRJF1&quot;</td><td>&quot;6T4Q4&quot;</td><td>&quot;A8&quot;</td><td>&quot;&quot;</td><td>&quot;NO&quot;</td><td>&quot;NO&quot;</td><td>&quot;NO&quot;</td><td>&quot;NO&quot;</td><td>&quot;NO&quot;</td><td>&quot;NO&quot;</td><td>&quot;NO&quot;</td><td>&quot;NO&quot;</td><td>&quot;NO&quot;</td></tr><tr><td>&quot;C111JJBMS328&quot;</td><td>&quot;6PA87&quot;</td><td>&quot;2X~XS&quot;</td><td>&quot;&quot;</td><td>&quot;NO&quot;</td><td>&quot;NO&quot;</td><td>&quot;NO&quot;</td><td>&quot;NO&quot;</td><td>&quot;NO&quot;</td><td>&quot;NO&quot;</td><td>&quot;NO&quot;</td><td>&quot;NO&quot;</td><td>&quot;NO&quot;</td></tr><tr><td>&quot;C112Q3D8VPM3&quot;</td><td>&quot;50JA8&quot;</td><td>&quot;2X~LJ~MF&quot;</td><td>&quot;&quot;</td><td>&quot;NO&quot;</td><td>&quot;NO&quot;</td><td>&quot;NO&quot;</td><td>&quot;NO&quot;</td><td>&quot;NO&quot;</td><td>&quot;NO&quot;</td><td>&quot;NO&quot;</td><td>&quot;NO&quot;</td><td>&quot;NO&quot;</td></tr><tr><td>&hellip;</td><td>&hellip;</td><td>&hellip;</td><td>&hellip;</td><td>&hellip;</td><td>&hellip;</td><td>&hellip;</td><td>&hellip;</td><td>&hellip;</td><td>&hellip;</td><td>&hellip;</td><td>&hellip;</td><td>&hellip;</td></tr><tr><td>&quot;ZZZVB8W3LAA5&quot;</td><td>&quot;9EFF3&quot;</td><td>&quot;23~27~2X~8E~8W~A2~A5~LJ~OY~QF&quot;</td><td>&quot;&quot;</td><td>&quot;YES&quot;</td><td>&quot;NO&quot;</td><td>&quot;NO&quot;</td><td>&quot;YES&quot;</td><td>&quot;NO&quot;</td><td>&quot;YES&quot;</td><td>&quot;NO&quot;</td><td>&quot;YES&quot;</td><td>&quot;NO&quot;</td></tr><tr><td>&quot;ZZZVZZB9ML33&quot;</td><td>&quot;6P9A9&quot;</td><td>&quot;A8&quot;</td><td>&quot;&quot;</td><td>&quot;NO&quot;</td><td>&quot;NO&quot;</td><td>&quot;NO&quot;</td><td>&quot;NO&quot;</td><td>&quot;NO&quot;</td><td>&quot;NO&quot;</td><td>&quot;NO&quot;</td><td>&quot;NO&quot;</td><td>&quot;NO&quot;</td></tr><tr><td>&quot;ZZZYEL9J3CT6&quot;</td><td>&quot;&quot;</td><td>&quot;23~A8~OY&quot;</td><td>&quot;&quot;</td><td>&quot;YES&quot;</td><td>&quot;NO&quot;</td><td>&quot;NO&quot;</td><td>&quot;NO&quot;</td><td>&quot;NO&quot;</td><td>&quot;NO&quot;</td><td>&quot;NO&quot;</td><td>&quot;NO&quot;</td><td>&quot;NO&quot;</td></tr><tr><td>&quot;ZZZYX351UYF2&quot;</td><td>&quot;9QHS5&quot;</td><td>&quot;23~2X~LJ~OY&quot;</td><td>&quot;&quot;</td><td>&quot;YES&quot;</td><td>&quot;NO&quot;</td><td>&quot;NO&quot;</td><td>&quot;NO&quot;</td><td>&quot;NO&quot;</td><td>&quot;NO&quot;</td><td>&quot;NO&quot;</td><td>&quot;NO&quot;</td><td>&quot;NO&quot;</td></tr><tr><td>&quot;EOF PUBLIC V2 00000000 20240303 0793103 0007645&quot;</td><td>&quot;&quot;</td><td>&quot;&quot;</td><td>&quot;&quot;</td><td>&quot;NO&quot;</td><td>&quot;NO&quot;</td><td>&quot;NO&quot;</td><td>&quot;NO&quot;</td><td>&quot;NO&quot;</td><td>&quot;NO&quot;</td><td>&quot;NO&quot;</td><td>&quot;NO&quot;</td><td>&quot;NO&quot;</td></tr></tbody></table></div>"
      ],
      "text/plain": [
       "shape: (625_975, 13)\n",
       "┌────────────┬───────┬────────────┬────────────┬───┬───────────┬───────────┬───────────┬───────────┐\n",
       "│ UNIQUE     ┆ CAGE  ┆ BUS TYPE   ┆ SBA        ┆ … ┆ SELF_WOSB ┆ CERT_WOSB ┆ SELF_EDWO ┆ CERT_EDWO │\n",
       "│ ENTITY ID  ┆ CODE  ┆ STRING     ┆ BUSINESS   ┆   ┆ ---       ┆ ---       ┆ SB        ┆ SB        │\n",
       "│ ---        ┆ ---   ┆ ---        ┆ TYPES      ┆   ┆ str       ┆ str       ┆ ---       ┆ ---       │\n",
       "│ str        ┆ str   ┆ str        ┆ STRING     ┆   ┆           ┆           ┆ str       ┆ str       │\n",
       "│            ┆       ┆            ┆ ---        ┆   ┆           ┆           ┆           ┆           │\n",
       "│            ┆       ┆            ┆ str        ┆   ┆           ┆           ┆           ┆           │\n",
       "╞════════════╪═══════╪════════════╪════════════╪═══╪═══════════╪═══════════╪═══════════╪═══════════╡\n",
       "│ C111ATT311 ┆ 53YC5 ┆ 2X~8W~A2~H ┆            ┆ … ┆ YES       ┆ NO        ┆ YES       ┆ NO        │\n",
       "│ C8         ┆       ┆ Q~XS       ┆            ┆   ┆           ┆           ┆           ┆           │\n",
       "│ C111BG66D1 ┆ 6M9A6 ┆ A8         ┆            ┆ … ┆ NO        ┆ NO        ┆ NO        ┆ NO        │\n",
       "│ 55         ┆       ┆            ┆            ┆   ┆           ┆           ┆           ┆           │\n",
       "│ C111FE1KRJ ┆ 6T4Q4 ┆ A8         ┆            ┆ … ┆ NO        ┆ NO        ┆ NO        ┆ NO        │\n",
       "│ F1         ┆       ┆            ┆            ┆   ┆           ┆           ┆           ┆           │\n",
       "│ C111JJBMS3 ┆ 6PA87 ┆ 2X~XS      ┆            ┆ … ┆ NO        ┆ NO        ┆ NO        ┆ NO        │\n",
       "│ 28         ┆       ┆            ┆            ┆   ┆           ┆           ┆           ┆           │\n",
       "│ C112Q3D8VP ┆ 50JA8 ┆ 2X~LJ~MF   ┆            ┆ … ┆ NO        ┆ NO        ┆ NO        ┆ NO        │\n",
       "│ M3         ┆       ┆            ┆            ┆   ┆           ┆           ┆           ┆           │\n",
       "│ …          ┆ …     ┆ …          ┆ …          ┆ … ┆ …         ┆ …         ┆ …         ┆ …         │\n",
       "│ ZZZVB8W3LA ┆ 9EFF3 ┆ 23~27~2X~8 ┆            ┆ … ┆ YES       ┆ NO        ┆ YES       ┆ NO        │\n",
       "│ A5         ┆       ┆ E~8W~A2~A5 ┆            ┆   ┆           ┆           ┆           ┆           │\n",
       "│            ┆       ┆ ~LJ~OY~QF  ┆            ┆   ┆           ┆           ┆           ┆           │\n",
       "│ ZZZVZZB9ML ┆ 6P9A9 ┆ A8         ┆            ┆ … ┆ NO        ┆ NO        ┆ NO        ┆ NO        │\n",
       "│ 33         ┆       ┆            ┆            ┆   ┆           ┆           ┆           ┆           │\n",
       "│ ZZZYEL9J3C ┆       ┆ 23~A8~OY   ┆            ┆ … ┆ NO        ┆ NO        ┆ NO        ┆ NO        │\n",
       "│ T6         ┆       ┆            ┆            ┆   ┆           ┆           ┆           ┆           │\n",
       "│ ZZZYX351UY ┆ 9QHS5 ┆ 23~2X~LJ~O ┆            ┆ … ┆ NO        ┆ NO        ┆ NO        ┆ NO        │\n",
       "│ F2         ┆       ┆ Y          ┆            ┆   ┆           ┆           ┆           ┆           │\n",
       "│ EOF PUBLIC ┆       ┆            ┆            ┆ … ┆ NO        ┆ NO        ┆ NO        ┆ NO        │\n",
       "│ V2         ┆       ┆            ┆            ┆   ┆           ┆           ┆           ┆           │\n",
       "│ 00000000   ┆       ┆            ┆            ┆   ┆           ┆           ┆           ┆           │\n",
       "│ 20240303   ┆       ┆            ┆            ┆   ┆           ┆           ┆           ┆           │\n",
       "│ 0793103    ┆       ┆            ┆            ┆   ┆           ┆           ┆           ┆           │\n",
       "│ 0007645    ┆       ┆            ┆            ┆   ┆           ┆           ┆           ┆           │\n",
       "└────────────┴───────┴────────────┴────────────┴───┴───────────┴───────────┴───────────┴───────────┘"
      ]
     },
     "execution_count": 17,
     "metadata": {},
     "output_type": "execute_result"
    }
   ],
   "source": [
    "full_reg"
   ]
  },
  {
   "cell_type": "markdown",
   "id": "d4005821-f601-4d68-ad4f-4d48c1996d78",
   "metadata": {},
   "source": [
    "### 8(a)"
   ]
  },
  {
   "cell_type": "code",
   "execution_count": 7,
   "id": "ced9a2c3-05df-4d85-8c75-2d4b46833739",
   "metadata": {},
   "outputs": [],
   "source": [
    "# Minority-Owned Business\n",
    "self_8a_column = pl.col('BUS TYPE STRING').str.contains('23').map_elements(lambda x: 'YES' if x else 'NO').alias('SELF_8A')\n",
    "full_reg = full_reg.with_columns(self_8a_column)"
   ]
  },
  {
   "cell_type": "code",
   "execution_count": 8,
   "id": "f3cf7aa6-40d4-4225-92ce-76841584b04d",
   "metadata": {},
   "outputs": [],
   "source": [
    "# SBA Certified 8(a) Program Participant\n",
    "cert_8a_column = pl.col('SBA BUSINESS TYPES STRING').str.contains('A6').map_elements(lambda x: 'YES' if x else 'NO').alias('CERT_8A')\n",
    "full_reg = full_reg.with_columns(cert_8a_column)"
   ]
  },
  {
   "cell_type": "markdown",
   "id": "ff2e3b1d-b81e-4935-9085-663aaa049dd9",
   "metadata": {},
   "source": [
    "### HUBZone"
   ]
  },
  {
   "cell_type": "code",
   "execution_count": 9,
   "id": "ace2aa22-21fd-4c6b-9717-db939c614aee",
   "metadata": {},
   "outputs": [],
   "source": [
    "# SBA Certified HUBZone Firm\n",
    "cert_HUBZone_column = pl.col('SBA BUSINESS TYPES STRING').str.contains('XX').map_elements(lambda x: 'YES' if x else 'NO').alias('CERT_HUBZone')\n",
    "full_reg = full_reg.with_columns(cert_HUBZone_column)"
   ]
  },
  {
   "cell_type": "markdown",
   "id": "14c9624f-ed30-4d0a-bfc1-1eca88248388",
   "metadata": {},
   "source": [
    "### Small Disadvantaged Business"
   ]
  },
  {
   "cell_type": "code",
   "execution_count": 10,
   "id": "9f72ad3b-c06a-45f2-8fb5-83da228de0fe",
   "metadata": {},
   "outputs": [],
   "source": [
    "# Self Certified Small Disadvantaged Business\n",
    "self_SDB_column = pl.col('BUS TYPE STRING').str.contains('27').map_elements(lambda x: 'YES' if x else 'NO').alias('SELF_SDB')\n",
    "full_reg = full_reg.with_columns(self_SDB_column)"
   ]
  },
  {
   "cell_type": "code",
   "execution_count": 11,
   "id": "8eb7f36e-a076-4c42-a6c1-b7f241a51982",
   "metadata": {},
   "outputs": [],
   "source": [
    "# SBA Certified Small Disadvantaged Business\n",
    "cert_SDB_column = pl.col('SBA BUSINESS TYPES STRING').str.contains('A4').map_elements(lambda x: 'YES' if x else 'NO').alias('CERT_SDB')\n",
    "full_reg = full_reg.with_columns(cert_SDB_column)"
   ]
  },
  {
   "cell_type": "markdown",
   "id": "d08f3747-7234-4b03-a76c-32dc2c6419b2",
   "metadata": {},
   "source": [
    "### Women-Owned Small Business"
   ]
  },
  {
   "cell_type": "code",
   "execution_count": 12,
   "id": "4b445918-7efe-4d7d-b82b-05e378eb5eb3",
   "metadata": {},
   "outputs": [],
   "source": [
    "# Self Certified Women-Owned Small Business\n",
    "self_WOSB_column = pl.col('BUS TYPE STRING').str.contains('8W').map_elements(lambda x: 'YES' if x else 'NO').alias('SELF_WOSB')\n",
    "full_reg = full_reg.with_columns(self_WOSB_column)"
   ]
  },
  {
   "cell_type": "code",
   "execution_count": 13,
   "id": "868b69d0-2a07-4cdb-a4b6-4a0e7a3b7126",
   "metadata": {},
   "outputs": [],
   "source": [
    "# SBA Certified Women-Owned Small Business\n",
    "cert_WOSB_column = pl.col('SBA BUSINESS TYPES STRING').str.contains('A9').map_elements(lambda x: 'YES' if x else 'NO').alias('CERT_WOSB')\n",
    "full_reg = full_reg.with_columns(cert_WOSB_column)"
   ]
  },
  {
   "cell_type": "markdown",
   "id": "751ffa40-e659-4360-ba8b-1009c93913fb",
   "metadata": {},
   "source": [
    "### Economically Disadvantaged Women-Owned Small Business"
   ]
  },
  {
   "cell_type": "code",
   "execution_count": 14,
   "id": "fce67e6f-5536-43ad-b334-0628090f5faa",
   "metadata": {},
   "outputs": [],
   "source": [
    "# Self Certified Economically Disadvantaged Women-Owned Small Business \n",
    "# Self Certified Women-Owned Small Business + Self Certified Small Disadvantaged Business\n",
    "self_EDWOSB_column = pl.col('BUS TYPE STRING').str.contains('8W|27').map_elements(lambda x: 'YES' if x else 'NO').alias('SELF_EDWOSB')\n",
    "full_reg = full_reg.with_columns(self_EDWOSB_column)"
   ]
  },
  {
   "cell_type": "code",
   "execution_count": 15,
   "id": "8ddd5ca6-9e46-44dd-ae96-00ecd5e866fd",
   "metadata": {},
   "outputs": [],
   "source": [
    "# SBA Certified Economically Disadvantaged Women-Owned Small Business\n",
    "cert_EDWOSB_column = pl.col('SBA BUSINESS TYPES STRING').str.contains('A0').map_elements(lambda x: 'YES' if x else 'NO').alias('CERT_EDWOSB')\n",
    "full_reg = full_reg.with_columns(cert_EDWOSB_column)"
   ]
  },
  {
   "cell_type": "code",
   "execution_count": 16,
   "id": "df0f1cc0-ed30-4290-a887-7ade7f02006c",
   "metadata": {},
   "outputs": [
    {
     "data": {
      "text/plain": [
       "(625975, 13)"
      ]
     },
     "execution_count": 16,
     "metadata": {},
     "output_type": "execute_result"
    }
   ],
   "source": [
    "full_reg.shape"
   ]
  },
  {
   "cell_type": "code",
   "execution_count": null,
   "id": "fa31ad4f-89db-4ee0-a671-6322570e30f4",
   "metadata": {},
   "outputs": [],
   "source": []
  }
 ],
 "metadata": {
  "kernelspec": {
   "display_name": "Python 3 (ipykernel)",
   "language": "python",
   "name": "python3"
  },
  "language_info": {
   "codemirror_mode": {
    "name": "ipython",
    "version": 3
   },
   "file_extension": ".py",
   "mimetype": "text/x-python",
   "name": "python",
   "nbconvert_exporter": "python",
   "pygments_lexer": "ipython3",
   "version": "3.9.18"
  }
 },
 "nbformat": 4,
 "nbformat_minor": 5
}
