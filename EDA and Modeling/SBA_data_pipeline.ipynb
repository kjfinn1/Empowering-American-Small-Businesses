{
 "cells": [
  {
   "cell_type": "markdown",
   "id": "9f066e2b-b8a2-4358-99bd-1aa6af8c5905",
   "metadata": {},
   "source": [
    "# SBA Data Pipeline: Parquet + SAM\n",
    "## **Parquet Files**"
   ]
  },
  {
   "cell_type": "markdown",
   "id": "efb9ab12-fa99-41d1-882b-e68a4f7280a1",
   "metadata": {},
   "source": [
    "### Import necessary libraries"
   ]
  },
  {
   "cell_type": "code",
   "execution_count": 1,
   "id": "1b54f928-b7a1-4701-be97-838d15fd00c5",
   "metadata": {},
   "outputs": [],
   "source": [
    "import pandas as pd\n",
    "import numpy as np\n",
    "import polars as pl"
   ]
  },
  {
   "cell_type": "markdown",
   "id": "57dc3656-f854-4a17-a952-06aae8121dd4",
   "metadata": {},
   "source": [
    "### Configure Polars to show all dataframe rows"
   ]
  },
  {
   "cell_type": "code",
   "execution_count": 2,
   "id": "05b4f55a-bef7-4111-bef5-f66bbff31057",
   "metadata": {
    "tags": []
   },
   "outputs": [
    {
     "data": {
      "text/plain": [
       "polars.config.Config"
      ]
     },
     "execution_count": 2,
     "metadata": {},
     "output_type": "execute_result"
    }
   ],
   "source": [
    "pl.Config.set_tbl_rows(20)"
   ]
  },
  {
   "cell_type": "markdown",
   "id": "bf5df526-9681-4b94-bc3c-740eb9ebdaeb",
   "metadata": {},
   "source": [
    "### Identify Necessary Columns (from Final Columns notebook)"
   ]
  },
  {
   "cell_type": "code",
   "execution_count": 3,
   "id": "d4d05b94-1f87-4eb4-b744-a975652fa744",
   "metadata": {},
   "outputs": [],
   "source": [
    "cols_Kr = ['CO_BUS_SIZE_DETERMINATION', # ==\"SMALL BUSSINES\n",
    "        'PRINCIPAL_NAICS_CODE', \n",
    "        'PIID',\n",
    "        'CURRENT_CONTRACT_VALUE',\n",
    "        'NUMBER_OF_OFFERS_RECEIVED',\n",
    "        'EVALUATED_PREFERENCE',\n",
    "        'EXTENT_COMPETED',\n",
    "        'MODIFICATION_NUMBER',\n",
    "        'DATE_SIGNED',\n",
    "        'FUNDING_AGENCY_NAME',\n",
    "        'FUNDING_OFFICE_NAME',\n",
    "        'FUNDING_DEPARTMENT_NAME']\n",
    "\n",
    "# Silas \n",
    "cols_S = ['VENDOR_UEI',\n",
    "        'TYPE_OF_SET_ASIDE',\n",
    "        'VENDOR_ADDRESS_ZIP_CODE',\n",
    "        'VENDOR_ADDRESS_COUNTRY_NAME', # == USA\n",
    "        'EDUCATIONAL_INSTITUTION_FLAG',\n",
    "        'FIRM_8A_FLAG',\n",
    "        'WOMEN_OWNED_FLAG',\n",
    "        'FIRM8A_JOINT_VENTURE',\n",
    "        'FEDERALLY_FUNDED_R_AND_D_CORP',\n",
    "        'CORP_ENTITY_NOT_TAX_EXEMPT',\n",
    "        'PARTNERSHIP_OR_LLP',\n",
    "        'SOLE_PROPREITORSHIP',\n",
    "        'SMALL_AGRICULTURAL_COOPERATIVE',\n",
    "        'INTERNATIONAL_ORGANIZATION',\n",
    "        'ARCHITECTURE_AND_ENGINEERING',\n",
    "        'COMMUNITY_CORP_OWNED_FIRM',\n",
    "        'CONSTRUCTION_FIRM',\n",
    "        'DOMESTIC_SHELTER',\n",
    "        'FOUNDATION',\n",
    "        'MANUFACTURER_OF_GOODS',\n",
    "        'RESEARCH_AND_DEVELOPMENT',\n",
    "        'SERVICE_PROVIDER',\n",
    "        'VETERINARY_HOSPITAL',\n",
    "        'HISPANIC_SERVICING_INSTITUTION',\n",
    "        'LIMITED_LIABILITY_CORPORATION']\n",
    "        \n",
    "\n",
    "# Kevin \n",
    "cols_Kv = ['IDV_CONTRACTING_AGENCY_NAME',\n",
    "        'IDV_EXTENT_COMPETED',\n",
    "        'IDV_EVALUATED_PREFERENCE',\n",
    "        'IDV_SIGNED_DATE',\n",
    "        'IDV_LAST_DATE_TO_ORDER',\n",
    "        'IDV_NUMBER_OF_OFFERS',\n",
    "        'PART8_OR_PART13',\n",
    "        'AWARD_FISCAL_YEAR',\n",
    "        'PRODUCT_OR_SERVICE_TYPE',\n",
    "        'TOTAL_ESTIMATED_ORDER_VALUE']\n",
    "\n",
    "# David\n",
    "cols_D = ['FOR_PROFIT_ORGANIZATION',\n",
    "        'DOT_CERTIFIED_DISADV_BUS',\n",
    "        'SDB','FISCAL_YEAR', \n",
    "        'CAGE_CODE']"
   ]
  },
  {
   "cell_type": "markdown",
   "id": "204f871e-b41b-476f-a346-fad022be7a31",
   "metadata": {},
   "source": [
    "### Aggregate the columns above into one list (to import data)"
   ]
  },
  {
   "cell_type": "code",
   "execution_count": 4,
   "id": "39f6b3fd-d596-47d3-9eab-35184a583ff2",
   "metadata": {},
   "outputs": [],
   "source": [
    "all_cols = cols_D + cols_Kv + cols_S + cols_Kr"
   ]
  },
  {
   "cell_type": "markdown",
   "id": "89d4911c-cdab-4983-8dcd-90fcbb5f0f10",
   "metadata": {},
   "source": [
    "## Test code to ensure the parquet files are being read in correctly\n",
    "### Read the parquet files into a dataframe using polars"
   ]
  },
  {
   "cell_type": "code",
   "execution_count": 5,
   "id": "33f8d72f-4bd8-4fb3-a115-d3871575dc12",
   "metadata": {
    "tags": []
   },
   "outputs": [],
   "source": [
    "data2022 = pl.read_parquet(\"2022.parquet\", columns = all_cols, n_rows=20)"
   ]
  },
  {
   "cell_type": "code",
   "execution_count": 6,
   "id": "2b02f233-f89a-4262-b450-ddfb7c42f283",
   "metadata": {
    "tags": []
   },
   "outputs": [
    {
     "data": {
      "text/html": [
       "<div><style>\n",
       ".dataframe > thead > tr,\n",
       ".dataframe > tbody > tr {\n",
       "  text-align: right;\n",
       "  white-space: pre-wrap;\n",
       "}\n",
       "</style>\n",
       "<small>shape: (20, 52)</small><table border=\"1\" class=\"dataframe\"><thead><tr><th>FOR_PROFIT_ORGANIZATION</th><th>DOT_CERTIFIED_DISADV_BUS</th><th>SDB</th><th>FISCAL_YEAR</th><th>CAGE_CODE</th><th>IDV_CONTRACTING_AGENCY_NAME</th><th>IDV_EXTENT_COMPETED</th><th>IDV_EVALUATED_PREFERENCE</th><th>IDV_SIGNED_DATE</th><th>IDV_LAST_DATE_TO_ORDER</th><th>IDV_NUMBER_OF_OFFERS</th><th>PART8_OR_PART13</th><th>AWARD_FISCAL_YEAR</th><th>PRODUCT_OR_SERVICE_TYPE</th><th>TOTAL_ESTIMATED_ORDER_VALUE</th><th>VENDOR_UEI</th><th>TYPE_OF_SET_ASIDE</th><th>VENDOR_ADDRESS_ZIP_CODE</th><th>VENDOR_ADDRESS_COUNTRY_NAME</th><th>EDUCATIONAL_INSTITUTION_FLAG</th><th>FIRM_8A_FLAG</th><th>WOMEN_OWNED_FLAG</th><th>FIRM8A_JOINT_VENTURE</th><th>FEDERALLY_FUNDED_R_AND_D_CORP</th><th>CORP_ENTITY_NOT_TAX_EXEMPT</th><th>PARTNERSHIP_OR_LLP</th><th>SOLE_PROPREITORSHIP</th><th>SMALL_AGRICULTURAL_COOPERATIVE</th><th>INTERNATIONAL_ORGANIZATION</th><th>ARCHITECTURE_AND_ENGINEERING</th><th>COMMUNITY_CORP_OWNED_FIRM</th><th>CONSTRUCTION_FIRM</th><th>DOMESTIC_SHELTER</th><th>FOUNDATION</th><th>MANUFACTURER_OF_GOODS</th><th>RESEARCH_AND_DEVELOPMENT</th><th>SERVICE_PROVIDER</th><th>VETERINARY_HOSPITAL</th><th>HISPANIC_SERVICING_INSTITUTION</th><th>LIMITED_LIABILITY_CORPORATION</th><th>CO_BUS_SIZE_DETERMINATION</th><th>PRINCIPAL_NAICS_CODE</th><th>PIID</th><th>CURRENT_CONTRACT_VALUE</th><th>NUMBER_OF_OFFERS_RECEIVED</th><th>EVALUATED_PREFERENCE</th><th>EXTENT_COMPETED</th><th>MODIFICATION_NUMBER</th><th>DATE_SIGNED</th><th>FUNDING_AGENCY_NAME</th><th>FUNDING_OFFICE_NAME</th><th>FUNDING_DEPARTMENT_NAME</th></tr><tr><td>str</td><td>str</td><td>str</td><td>str</td><td>str</td><td>str</td><td>str</td><td>str</td><td>datetime[ms]</td><td>datetime[ms]</td><td>i32</td><td>str</td><td>str</td><td>str</td><td>f64</td><td>str</td><td>str</td><td>str</td><td>str</td><td>str</td><td>str</td><td>str</td><td>str</td><td>str</td><td>str</td><td>str</td><td>str</td><td>str</td><td>str</td><td>str</td><td>str</td><td>str</td><td>str</td><td>str</td><td>str</td><td>str</td><td>str</td><td>str</td><td>str</td><td>str</td><td>str</td><td>str</td><td>str</td><td>f64</td><td>i32</td><td>str</td><td>str</td><td>str</td><td>datetime[ms]</td><td>str</td><td>str</td><td>str</td></tr></thead><tbody><tr><td>&quot;YES&quot;</td><td>&quot;NO&quot;</td><td>&quot;NO&quot;</td><td>null</td><td>&quot;87MR5&quot;</td><td>&quot;DEFENSE LOGIST…</td><td>&quot;A&quot;</td><td>&quot;NONE&quot;</td><td>2019-04-23 00:00:00</td><td>2023-03-31 00:00:00</td><td>148</td><td>null</td><td>&quot;2022&quot;</td><td>&quot;P&quot;</td><td>null</td><td>&quot;G568KMLKNMC5&quot;</td><td>&quot;NONE&quot;</td><td>&quot;773032004&quot;</td><td>&quot;UNITED STATES&quot;</td><td>&quot;NO&quot;</td><td>&quot;NO&quot;</td><td>&quot;NO&quot;</td><td>&quot;NO&quot;</td><td>&quot;NO&quot;</td><td>&quot;NO&quot;</td><td>&quot;NO&quot;</td><td>&quot;YES&quot;</td><td>&quot;NO&quot;</td><td>&quot;NO&quot;</td><td>&quot;NO&quot;</td><td>&quot;NO&quot;</td><td>&quot;NO&quot;</td><td>&quot;NO&quot;</td><td>&quot;NO&quot;</td><td>&quot;NO&quot;</td><td>&quot;NO&quot;</td><td>&quot;NO&quot;</td><td>&quot;NO&quot;</td><td>&quot;NO&quot;</td><td>&quot;NO&quot;</td><td>&quot;SMALL BUSINESS…</td><td>&quot;324110&quot;</td><td>&quot;SPE60722FEULE&quot;</td><td>196.25</td><td>null</td><td>&quot;NONE&quot;</td><td>&quot;A&quot;</td><td>&quot;0&quot;</td><td>2022-08-05 00:00:00</td><td>&quot;DEFENSE LOGIST…</td><td>&quot;DLA ENERGY&quot;</td><td>&quot;DEPT OF DEFENS…</td></tr><tr><td>&quot;YES&quot;</td><td>&quot;NO&quot;</td><td>&quot;NO&quot;</td><td>null</td><td>&quot;0R7C4&quot;</td><td>&quot;DEFENSE LOGIST…</td><td>&quot;A&quot;</td><td>&quot;NONE&quot;</td><td>2018-04-04 00:00:00</td><td>2022-03-31 00:00:00</td><td>1</td><td>null</td><td>&quot;2022&quot;</td><td>&quot;P&quot;</td><td>null</td><td>&quot;Z4SKYSSHK3Z9&quot;</td><td>&quot;NONE&quot;</td><td>&quot;891193257&quot;</td><td>&quot;UNITED STATES&quot;</td><td>&quot;NO&quot;</td><td>&quot;NO&quot;</td><td>&quot;NO&quot;</td><td>&quot;NO&quot;</td><td>&quot;NO&quot;</td><td>&quot;YES&quot;</td><td>&quot;NO&quot;</td><td>&quot;NO&quot;</td><td>&quot;NO&quot;</td><td>&quot;NO&quot;</td><td>&quot;NO&quot;</td><td>&quot;NO&quot;</td><td>&quot;NO&quot;</td><td>&quot;NO&quot;</td><td>&quot;NO&quot;</td><td>&quot;NO&quot;</td><td>&quot;NO&quot;</td><td>&quot;NO&quot;</td><td>&quot;NO&quot;</td><td>&quot;NO&quot;</td><td>&quot;NO&quot;</td><td>&quot;OTHER THAN SMA…</td><td>&quot;324110&quot;</td><td>&quot;SPE60722FD92Y&quot;</td><td>466.78</td><td>null</td><td>&quot;NONE&quot;</td><td>&quot;A&quot;</td><td>&quot;0&quot;</td><td>2022-04-20 00:00:00</td><td>&quot;DEFENSE LOGIST…</td><td>&quot;DLA ENERGY&quot;</td><td>&quot;DEPT OF DEFENS…</td></tr><tr><td>&quot;YES&quot;</td><td>&quot;NO&quot;</td><td>&quot;NO&quot;</td><td>null</td><td>&quot;9T645&quot;</td><td>&quot;DEFENSE LOGIST…</td><td>&quot;A&quot;</td><td>&quot;NONE&quot;</td><td>2020-07-13 00:00:00</td><td>2023-08-05 00:00:00</td><td>2</td><td>null</td><td>&quot;2022&quot;</td><td>&quot;P&quot;</td><td>null</td><td>&quot;F88AH3GNC5T3&quot;</td><td>&quot;NONE&quot;</td><td>&quot;338803433&quot;</td><td>&quot;UNITED STATES&quot;</td><td>&quot;NO&quot;</td><td>&quot;NO&quot;</td><td>&quot;NO&quot;</td><td>&quot;NO&quot;</td><td>&quot;NO&quot;</td><td>&quot;YES&quot;</td><td>&quot;NO&quot;</td><td>&quot;NO&quot;</td><td>&quot;NO&quot;</td><td>&quot;NO&quot;</td><td>&quot;NO&quot;</td><td>&quot;NO&quot;</td><td>&quot;NO&quot;</td><td>&quot;NO&quot;</td><td>&quot;NO&quot;</td><td>&quot;YES&quot;</td><td>&quot;NO&quot;</td><td>&quot;NO&quot;</td><td>&quot;NO&quot;</td><td>&quot;NO&quot;</td><td>&quot;YES&quot;</td><td>&quot;SMALL BUSINESS…</td><td>&quot;311812&quot;</td><td>&quot;SPE30022F30FU&quot;</td><td>162.8</td><td>null</td><td>&quot;NONE&quot;</td><td>&quot;A&quot;</td><td>&quot;0&quot;</td><td>2022-02-23 00:00:00</td><td>&quot;DEFENSE LOGIST…</td><td>&quot;DLA TROOP SUPP…</td><td>&quot;DEPT OF DEFENS…</td></tr><tr><td>&quot;YES&quot;</td><td>&quot;NO&quot;</td><td>&quot;NO&quot;</td><td>null</td><td>&quot;87MR5&quot;</td><td>&quot;DEFENSE LOGIST…</td><td>&quot;A&quot;</td><td>&quot;NONE&quot;</td><td>2019-04-23 00:00:00</td><td>2023-03-31 00:00:00</td><td>148</td><td>null</td><td>&quot;2022&quot;</td><td>&quot;P&quot;</td><td>null</td><td>&quot;G568KMLKNMC5&quot;</td><td>&quot;NONE&quot;</td><td>&quot;773032004&quot;</td><td>&quot;UNITED STATES&quot;</td><td>&quot;NO&quot;</td><td>&quot;NO&quot;</td><td>&quot;NO&quot;</td><td>&quot;NO&quot;</td><td>&quot;NO&quot;</td><td>&quot;NO&quot;</td><td>&quot;NO&quot;</td><td>&quot;YES&quot;</td><td>&quot;NO&quot;</td><td>&quot;NO&quot;</td><td>&quot;NO&quot;</td><td>&quot;NO&quot;</td><td>&quot;NO&quot;</td><td>&quot;NO&quot;</td><td>&quot;NO&quot;</td><td>&quot;NO&quot;</td><td>&quot;NO&quot;</td><td>&quot;NO&quot;</td><td>&quot;NO&quot;</td><td>&quot;NO&quot;</td><td>&quot;NO&quot;</td><td>&quot;SMALL BUSINESS…</td><td>&quot;324110&quot;</td><td>&quot;SPE60722FBG33&quot;</td><td>58.1</td><td>null</td><td>&quot;NONE&quot;</td><td>&quot;A&quot;</td><td>&quot;0&quot;</td><td>2022-01-04 00:00:00</td><td>&quot;DEFENSE LOGIST…</td><td>&quot;DLA ENERGY&quot;</td><td>&quot;DEPT OF DEFENS…</td></tr><tr><td>&quot;YES&quot;</td><td>&quot;NO&quot;</td><td>&quot;NO&quot;</td><td>null</td><td>&quot;5P8G0&quot;</td><td>&quot;DEFENSE LOGIST…</td><td>&quot;A&quot;</td><td>&quot;NONE&quot;</td><td>2019-08-12 00:00:00</td><td>2023-03-31 00:00:00</td><td>145</td><td>null</td><td>&quot;2022&quot;</td><td>&quot;P&quot;</td><td>null</td><td>&quot;G9N5DJF9U275&quot;</td><td>&quot;NONE&quot;</td><td>&quot;365422818&quot;</td><td>&quot;UNITED STATES&quot;</td><td>&quot;NO&quot;</td><td>&quot;NO&quot;</td><td>&quot;NO&quot;</td><td>&quot;NO&quot;</td><td>&quot;NO&quot;</td><td>&quot;YES&quot;</td><td>&quot;NO&quot;</td><td>&quot;NO&quot;</td><td>&quot;NO&quot;</td><td>&quot;NO&quot;</td><td>&quot;NO&quot;</td><td>&quot;NO&quot;</td><td>&quot;NO&quot;</td><td>&quot;NO&quot;</td><td>&quot;NO&quot;</td><td>&quot;NO&quot;</td><td>&quot;NO&quot;</td><td>&quot;NO&quot;</td><td>&quot;NO&quot;</td><td>&quot;NO&quot;</td><td>&quot;NO&quot;</td><td>&quot;SMALL BUSINESS…</td><td>&quot;324110&quot;</td><td>&quot;SPE60722FC1X4&quot;</td><td>4144.78</td><td>null</td><td>&quot;NONE&quot;</td><td>&quot;A&quot;</td><td>&quot;0&quot;</td><td>2022-02-23 00:00:00</td><td>&quot;DEFENSE LOGIST…</td><td>&quot;DLA ENERGY&quot;</td><td>&quot;DEPT OF DEFENS…</td></tr><tr><td>&quot;YES&quot;</td><td>&quot;NO&quot;</td><td>&quot;NO&quot;</td><td>null</td><td>&quot;9T645&quot;</td><td>&quot;DEFENSE LOGIST…</td><td>&quot;A&quot;</td><td>&quot;NONE&quot;</td><td>2020-07-13 00:00:00</td><td>2023-08-05 00:00:00</td><td>2</td><td>null</td><td>&quot;2022&quot;</td><td>&quot;P&quot;</td><td>null</td><td>&quot;F88AH3GNC5T3&quot;</td><td>&quot;NONE&quot;</td><td>&quot;338803433&quot;</td><td>&quot;UNITED STATES&quot;</td><td>&quot;NO&quot;</td><td>&quot;NO&quot;</td><td>&quot;NO&quot;</td><td>&quot;NO&quot;</td><td>&quot;NO&quot;</td><td>&quot;YES&quot;</td><td>&quot;NO&quot;</td><td>&quot;NO&quot;</td><td>&quot;NO&quot;</td><td>&quot;NO&quot;</td><td>&quot;NO&quot;</td><td>&quot;NO&quot;</td><td>&quot;NO&quot;</td><td>&quot;NO&quot;</td><td>&quot;NO&quot;</td><td>&quot;YES&quot;</td><td>&quot;NO&quot;</td><td>&quot;NO&quot;</td><td>&quot;NO&quot;</td><td>&quot;NO&quot;</td><td>&quot;YES&quot;</td><td>&quot;SMALL BUSINESS…</td><td>&quot;311812&quot;</td><td>&quot;SPE30022F3N66&quot;</td><td>153.0</td><td>null</td><td>&quot;NONE&quot;</td><td>&quot;A&quot;</td><td>&quot;0&quot;</td><td>2022-03-25 00:00:00</td><td>&quot;DEFENSE LOGIST…</td><td>&quot;DLA TROOP SUPP…</td><td>&quot;DEPT OF DEFENS…</td></tr><tr><td>&quot;YES&quot;</td><td>&quot;NO&quot;</td><td>&quot;NO&quot;</td><td>null</td><td>&quot;1VZR7&quot;</td><td>&quot;DEFENSE LOGIST…</td><td>&quot;F&quot;</td><td>&quot;NONE&quot;</td><td>2013-11-07 00:00:00</td><td>2014-11-06 00:00:00</td><td>1</td><td>null</td><td>&quot;2022&quot;</td><td>&quot;P&quot;</td><td>null</td><td>&quot;Q5UVH3KMTMD8&quot;</td><td>&quot;SBA&quot;</td><td>&quot;494246407&quot;</td><td>&quot;UNITED STATES&quot;</td><td>&quot;NO&quot;</td><td>&quot;NO&quot;</td><td>&quot;YES&quot;</td><td>&quot;NO&quot;</td><td>&quot;NO&quot;</td><td>&quot;NO&quot;</td><td>&quot;YES&quot;</td><td>&quot;NO&quot;</td><td>&quot;NO&quot;</td><td>&quot;NO&quot;</td><td>&quot;NO&quot;</td><td>&quot;NO&quot;</td><td>&quot;NO&quot;</td><td>&quot;NO&quot;</td><td>&quot;NO&quot;</td><td>&quot;YES&quot;</td><td>&quot;NO&quot;</td><td>&quot;NO&quot;</td><td>&quot;NO&quot;</td><td>&quot;NO&quot;</td><td>&quot;NO&quot;</td><td>&quot;SMALL BUSINESS…</td><td>&quot;334419&quot;</td><td>&quot;SPE4A619F0659&quot;</td><td>-3226.79</td><td>null</td><td>&quot;NONE&quot;</td><td>&quot;F&quot;</td><td>&quot;P00001&quot;</td><td>2022-03-02 00:00:00</td><td>&quot;DEFENSE LOGIST…</td><td>&quot;DLA AVIATION&quot;</td><td>&quot;DEPT OF DEFENS…</td></tr><tr><td>&quot;YES&quot;</td><td>&quot;NO&quot;</td><td>&quot;NO&quot;</td><td>null</td><td>&quot;5CFE9&quot;</td><td>null</td><td>null</td><td>null</td><td>null</td><td>null</td><td>null</td><td>null</td><td>&quot;2022&quot;</td><td>&quot;S&quot;</td><td>null</td><td>&quot;DLZVGV3MGF31&quot;</td><td>&quot;NONE&quot;</td><td>&quot;209014846&quot;</td><td>&quot;UNITED STATES&quot;</td><td>&quot;NO&quot;</td><td>&quot;NO&quot;</td><td>&quot;NO&quot;</td><td>&quot;NO&quot;</td><td>&quot;NO&quot;</td><td>&quot;NO&quot;</td><td>&quot;NO&quot;</td><td>&quot;YES&quot;</td><td>&quot;NO&quot;</td><td>&quot;NO&quot;</td><td>&quot;NO&quot;</td><td>&quot;NO&quot;</td><td>&quot;NO&quot;</td><td>&quot;NO&quot;</td><td>&quot;NO&quot;</td><td>&quot;NO&quot;</td><td>&quot;NO&quot;</td><td>&quot;NO&quot;</td><td>&quot;NO&quot;</td><td>&quot;NO&quot;</td><td>&quot;NO&quot;</td><td>&quot;SMALL BUSINESS…</td><td>&quot;711510&quot;</td><td>&quot;95170020P0012&quot;</td><td>-12250.0</td><td>1</td><td>&quot;NONE&quot;</td><td>&quot;G&quot;</td><td>&quot;P00004&quot;</td><td>2022-09-19 00:00:00</td><td>&quot;UNITED STATES …</td><td>&quot;VOA NEWS CENTE…</td><td>&quot;UNITED STATES …</td></tr><tr><td>&quot;YES&quot;</td><td>&quot;NO&quot;</td><td>&quot;YES&quot;</td><td>null</td><td>&quot;7M0A2&quot;</td><td>null</td><td>null</td><td>null</td><td>null</td><td>null</td><td>null</td><td>null</td><td>&quot;2022&quot;</td><td>&quot;S&quot;</td><td>null</td><td>&quot;R4S8VME25J37&quot;</td><td>&quot;SBA&quot;</td><td>&quot;281179400&quot;</td><td>&quot;UNITED STATES&quot;</td><td>&quot;NO&quot;</td><td>&quot;NO&quot;</td><td>&quot;NO&quot;</td><td>&quot;NO&quot;</td><td>&quot;NO&quot;</td><td>&quot;YES&quot;</td><td>&quot;NO&quot;</td><td>&quot;NO&quot;</td><td>&quot;NO&quot;</td><td>&quot;NO&quot;</td><td>&quot;NO&quot;</td><td>&quot;NO&quot;</td><td>&quot;NO&quot;</td><td>&quot;NO&quot;</td><td>&quot;NO&quot;</td><td>&quot;NO&quot;</td><td>&quot;NO&quot;</td><td>&quot;NO&quot;</td><td>&quot;NO&quot;</td><td>&quot;NO&quot;</td><td>&quot;YES&quot;</td><td>&quot;SMALL BUSINESS…</td><td>&quot;336611&quot;</td><td>&quot;70Z08022PMECP0…</td><td>138653.0</td><td>4</td><td>&quot;NONE&quot;</td><td>&quot;F&quot;</td><td>&quot;0&quot;</td><td>2022-02-02 00:00:00</td><td>&quot;U.S. COAST GUA…</td><td>&quot;USCG FINANCE C…</td><td>&quot;HOMELAND SECUR…</td></tr><tr><td>&quot;YES&quot;</td><td>&quot;NO&quot;</td><td>&quot;NO&quot;</td><td>null</td><td>&quot;8JF28&quot;</td><td>null</td><td>null</td><td>null</td><td>null</td><td>null</td><td>null</td><td>null</td><td>&quot;2022&quot;</td><td>&quot;S&quot;</td><td>null</td><td>&quot;C533SZKRAMH1&quot;</td><td>&quot;8AN&quot;</td><td>&quot;208522952&quot;</td><td>&quot;UNITED STATES&quot;</td><td>&quot;NO&quot;</td><td>&quot;NO&quot;</td><td>&quot;NO&quot;</td><td>&quot;YES&quot;</td><td>&quot;NO&quot;</td><td>&quot;YES&quot;</td><td>&quot;NO&quot;</td><td>&quot;NO&quot;</td><td>&quot;NO&quot;</td><td>&quot;NO&quot;</td><td>&quot;NO&quot;</td><td>&quot;NO&quot;</td><td>&quot;NO&quot;</td><td>&quot;NO&quot;</td><td>&quot;NO&quot;</td><td>&quot;NO&quot;</td><td>&quot;NO&quot;</td><td>&quot;NO&quot;</td><td>&quot;NO&quot;</td><td>&quot;NO&quot;</td><td>&quot;NO&quot;</td><td>&quot;SMALL BUSINESS…</td><td>&quot;541511&quot;</td><td>&quot;80GSFC20C0125&quot;</td><td>0.0</td><td>1</td><td>&quot;NONE&quot;</td><td>&quot;B&quot;</td><td>&quot;P00013&quot;</td><td>2021-11-09 00:00:00</td><td>&quot;NATIONAL AERON…</td><td>&quot;NASA GODDARD S…</td><td>&quot;NATIONAL AERON…</td></tr><tr><td>&quot;YES&quot;</td><td>&quot;NO&quot;</td><td>&quot;YES&quot;</td><td>null</td><td>&quot;1WPT7&quot;</td><td>&quot;EQUAL EMPLOYME…</td><td>null</td><td>null</td><td>2016-09-16 00:00:00</td><td>2017-09-15 00:00:00</td><td>null</td><td>&quot;PART13&quot;</td><td>&quot;2022&quot;</td><td>&quot;S&quot;</td><td>null</td><td>&quot;P2XDMZECYL98&quot;</td><td>&quot;NONE&quot;</td><td>&quot;809206700&quot;</td><td>&quot;UNITED STATES&quot;</td><td>&quot;NO&quot;</td><td>&quot;NO&quot;</td><td>&quot;YES&quot;</td><td>&quot;NO&quot;</td><td>&quot;NO&quot;</td><td>&quot;NO&quot;</td><td>&quot;NO&quot;</td><td>&quot;NO&quot;</td><td>&quot;NO&quot;</td><td>&quot;NO&quot;</td><td>&quot;NO&quot;</td><td>&quot;NO&quot;</td><td>&quot;NO&quot;</td><td>&quot;NO&quot;</td><td>&quot;NO&quot;</td><td>&quot;NO&quot;</td><td>&quot;NO&quot;</td><td>&quot;NO&quot;</td><td>&quot;NO&quot;</td><td>&quot;NO&quot;</td><td>&quot;YES&quot;</td><td>&quot;SMALL BUSINESS…</td><td>&quot;541110&quot;</td><td>&quot;EEC45017F0059&quot;</td><td>-2520.0</td><td>1</td><td>&quot;NONE&quot;</td><td>&quot;G&quot;</td><td>&quot;P00001&quot;</td><td>2022-02-11 00:00:00</td><td>&quot;EQUAL EMPLOYME…</td><td>&quot;EQUAL EMPLOYME…</td><td>&quot;EQUAL EMPLOYME…</td></tr><tr><td>&quot;YES&quot;</td><td>&quot;NO&quot;</td><td>&quot;NO&quot;</td><td>null</td><td>&quot;9T645&quot;</td><td>&quot;DEFENSE LOGIST…</td><td>&quot;A&quot;</td><td>&quot;NONE&quot;</td><td>2020-07-13 00:00:00</td><td>2023-08-05 00:00:00</td><td>2</td><td>null</td><td>&quot;2022&quot;</td><td>&quot;P&quot;</td><td>null</td><td>&quot;F88AH3GNC5T3&quot;</td><td>&quot;NONE&quot;</td><td>&quot;338803433&quot;</td><td>&quot;UNITED STATES&quot;</td><td>&quot;NO&quot;</td><td>&quot;NO&quot;</td><td>&quot;NO&quot;</td><td>&quot;NO&quot;</td><td>&quot;NO&quot;</td><td>&quot;YES&quot;</td><td>&quot;NO&quot;</td><td>&quot;NO&quot;</td><td>&quot;NO&quot;</td><td>&quot;NO&quot;</td><td>&quot;NO&quot;</td><td>&quot;NO&quot;</td><td>&quot;NO&quot;</td><td>&quot;NO&quot;</td><td>&quot;NO&quot;</td><td>&quot;YES&quot;</td><td>&quot;NO&quot;</td><td>&quot;NO&quot;</td><td>&quot;NO&quot;</td><td>&quot;NO&quot;</td><td>&quot;YES&quot;</td><td>&quot;SMALL BUSINESS…</td><td>&quot;311812&quot;</td><td>&quot;SPE30022F6LFP&quot;</td><td>143.34</td><td>null</td><td>&quot;NONE&quot;</td><td>&quot;A&quot;</td><td>&quot;0&quot;</td><td>2022-08-16 00:00:00</td><td>&quot;DEFENSE LOGIST…</td><td>&quot;DLA TROOP SUPP…</td><td>&quot;DEPT OF DEFENS…</td></tr><tr><td>&quot;YES&quot;</td><td>&quot;NO&quot;</td><td>&quot;NO&quot;</td><td>null</td><td>&quot;0YJB5&quot;</td><td>null</td><td>null</td><td>null</td><td>null</td><td>null</td><td>null</td><td>null</td><td>&quot;2022&quot;</td><td>&quot;S&quot;</td><td>null</td><td>&quot;ZH4NVFG3Z526&quot;</td><td>&quot;NONE&quot;</td><td>&quot;920647103&quot;</td><td>&quot;UNITED STATES&quot;</td><td>&quot;NO&quot;</td><td>&quot;NO&quot;</td><td>&quot;NO&quot;</td><td>&quot;NO&quot;</td><td>&quot;NO&quot;</td><td>&quot;YES&quot;</td><td>&quot;NO&quot;</td><td>&quot;NO&quot;</td><td>&quot;NO&quot;</td><td>&quot;NO&quot;</td><td>&quot;NO&quot;</td><td>&quot;NO&quot;</td><td>&quot;NO&quot;</td><td>&quot;NO&quot;</td><td>&quot;NO&quot;</td><td>&quot;YES&quot;</td><td>&quot;NO&quot;</td><td>&quot;NO&quot;</td><td>&quot;NO&quot;</td><td>&quot;NO&quot;</td><td>&quot;NO&quot;</td><td>&quot;OTHER THAN SMA…</td><td>&quot;336411&quot;</td><td>&quot;W58RGZ19C0027&quot;</td><td>0.0</td><td>1</td><td>&quot;NONE&quot;</td><td>&quot;C&quot;</td><td>&quot;P00099&quot;</td><td>2021-11-09 00:00:00</td><td>&quot;DEPT OF THE AR…</td><td>&quot;USA PROGRAM EX…</td><td>&quot;DEPT OF DEFENS…</td></tr><tr><td>&quot;YES&quot;</td><td>&quot;NO&quot;</td><td>&quot;NO&quot;</td><td>null</td><td>&quot;39RW5&quot;</td><td>null</td><td>null</td><td>null</td><td>null</td><td>null</td><td>null</td><td>null</td><td>&quot;2022&quot;</td><td>&quot;S&quot;</td><td>null</td><td>&quot;F59SMR86J7R8&quot;</td><td>&quot;NONE&quot;</td><td>&quot;504381237&quot;</td><td>&quot;UNITED STATES&quot;</td><td>&quot;NO&quot;</td><td>&quot;NO&quot;</td><td>&quot;NO&quot;</td><td>&quot;NO&quot;</td><td>&quot;NO&quot;</td><td>&quot;YES&quot;</td><td>&quot;NO&quot;</td><td>&quot;NO&quot;</td><td>&quot;NO&quot;</td><td>&quot;NO&quot;</td><td>&quot;NO&quot;</td><td>&quot;NO&quot;</td><td>&quot;NO&quot;</td><td>&quot;NO&quot;</td><td>&quot;NO&quot;</td><td>&quot;NO&quot;</td><td>&quot;NO&quot;</td><td>&quot;NO&quot;</td><td>&quot;NO&quot;</td><td>&quot;NO&quot;</td><td>&quot;NO&quot;</td><td>&quot;SMALL BUSINESS…</td><td>&quot;541990&quot;</td><td>&quot;DTFAWA14C00012…</td><td>0.0</td><td>1</td><td>&quot;NONE&quot;</td><td>&quot;C&quot;</td><td>&quot;P00057&quot;</td><td>2021-11-24 00:00:00</td><td>&quot;FEDERAL AVIATI…</td><td>&quot;FAA&quot;</td><td>&quot;TRANSPORTATION…</td></tr><tr><td>&quot;YES&quot;</td><td>&quot;NO&quot;</td><td>&quot;NO&quot;</td><td>null</td><td>&quot;6C8U5&quot;</td><td>null</td><td>null</td><td>null</td><td>null</td><td>null</td><td>null</td><td>null</td><td>&quot;2022&quot;</td><td>&quot;S&quot;</td><td>null</td><td>&quot;LT2VFXJK6KC8&quot;</td><td>&quot;NONE&quot;</td><td>&quot;037661445&quot;</td><td>&quot;UNITED STATES&quot;</td><td>&quot;NO&quot;</td><td>&quot;NO&quot;</td><td>&quot;NO&quot;</td><td>&quot;NO&quot;</td><td>&quot;NO&quot;</td><td>&quot;YES&quot;</td><td>&quot;NO&quot;</td><td>&quot;NO&quot;</td><td>&quot;NO&quot;</td><td>&quot;NO&quot;</td><td>&quot;NO&quot;</td><td>&quot;NO&quot;</td><td>&quot;NO&quot;</td><td>&quot;NO&quot;</td><td>&quot;NO&quot;</td><td>&quot;NO&quot;</td><td>&quot;NO&quot;</td><td>&quot;NO&quot;</td><td>&quot;NO&quot;</td><td>&quot;NO&quot;</td><td>&quot;NO&quot;</td><td>&quot;SMALL BUSINESS…</td><td>&quot;332999&quot;</td><td>&quot;80NSSC22P0096&quot;</td><td>0.0</td><td>1</td><td>&quot;NONE&quot;</td><td>&quot;F&quot;</td><td>&quot;P00002&quot;</td><td>2021-11-02 00:00:00</td><td>&quot;NATIONAL AERON…</td><td>&quot;NASA SHARED SE…</td><td>&quot;NATIONAL AERON…</td></tr><tr><td>&quot;YES&quot;</td><td>&quot;NO&quot;</td><td>&quot;NO&quot;</td><td>null</td><td>&quot;1Z458&quot;</td><td>null</td><td>null</td><td>null</td><td>null</td><td>null</td><td>null</td><td>null</td><td>&quot;2022&quot;</td><td>&quot;P&quot;</td><td>null</td><td>&quot;FMDGKULLPMQ8&quot;</td><td>&quot;NONE&quot;</td><td>&quot;432289641&quot;</td><td>&quot;UNITED STATES&quot;</td><td>&quot;NO&quot;</td><td>&quot;NO&quot;</td><td>&quot;NO&quot;</td><td>&quot;NO&quot;</td><td>&quot;NO&quot;</td><td>&quot;YES&quot;</td><td>&quot;NO&quot;</td><td>&quot;NO&quot;</td><td>&quot;NO&quot;</td><td>&quot;NO&quot;</td><td>&quot;NO&quot;</td><td>&quot;NO&quot;</td><td>&quot;NO&quot;</td><td>&quot;NO&quot;</td><td>&quot;NO&quot;</td><td>&quot;YES&quot;</td><td>&quot;NO&quot;</td><td>&quot;NO&quot;</td><td>&quot;NO&quot;</td><td>&quot;NO&quot;</td><td>&quot;NO&quot;</td><td>&quot;OTHER THAN SMA…</td><td>&quot;332991&quot;</td><td>&quot;SPE4A622V326V&quot;</td><td>1212.0</td><td>3</td><td>&quot;NONE&quot;</td><td>&quot;F&quot;</td><td>&quot;0&quot;</td><td>2022-05-20 00:00:00</td><td>&quot;DEFENSE LOGIST…</td><td>&quot;DLA AVIATION&quot;</td><td>&quot;DEPT OF DEFENS…</td></tr><tr><td>&quot;YES&quot;</td><td>&quot;NO&quot;</td><td>&quot;NO&quot;</td><td>null</td><td>&quot;3XDT5&quot;</td><td>null</td><td>null</td><td>null</td><td>null</td><td>null</td><td>null</td><td>null</td><td>&quot;2022&quot;</td><td>&quot;S&quot;</td><td>null</td><td>&quot;HAYFEH7AD428&quot;</td><td>&quot;NONE&quot;</td><td>&quot;070802409&quot;</td><td>&quot;UNITED STATES&quot;</td><td>&quot;NO&quot;</td><td>&quot;NO&quot;</td><td>&quot;NO&quot;</td><td>&quot;NO&quot;</td><td>&quot;NO&quot;</td><td>&quot;NO&quot;</td><td>&quot;YES&quot;</td><td>&quot;NO&quot;</td><td>&quot;NO&quot;</td><td>&quot;NO&quot;</td><td>&quot;NO&quot;</td><td>&quot;NO&quot;</td><td>&quot;NO&quot;</td><td>&quot;NO&quot;</td><td>&quot;NO&quot;</td><td>&quot;NO&quot;</td><td>&quot;NO&quot;</td><td>&quot;NO&quot;</td><td>&quot;NO&quot;</td><td>&quot;NO&quot;</td><td>&quot;YES&quot;</td><td>&quot;SMALL BUSINESS…</td><td>&quot;325414&quot;</td><td>&quot;75N93019P01042…</td><td>-28310.04</td><td>1</td><td>&quot;NONE&quot;</td><td>&quot;G&quot;</td><td>&quot;P00001&quot;</td><td>2022-02-15 00:00:00</td><td>&quot;NATIONAL INSTI…</td><td>&quot;NATIONAL INSTI…</td><td>&quot;HEALTH AND HUM…</td></tr><tr><td>&quot;YES&quot;</td><td>&quot;NO&quot;</td><td>&quot;NO&quot;</td><td>null</td><td>&quot;6GD25&quot;</td><td>null</td><td>null</td><td>null</td><td>null</td><td>null</td><td>null</td><td>null</td><td>&quot;2022&quot;</td><td>&quot;P&quot;</td><td>null</td><td>&quot;VTMLFLRC7BE5&quot;</td><td>&quot;NONE&quot;</td><td>&quot;503222002&quot;</td><td>&quot;UNITED STATES&quot;</td><td>&quot;NO&quot;</td><td>&quot;NO&quot;</td><td>&quot;NO&quot;</td><td>&quot;NO&quot;</td><td>&quot;NO&quot;</td><td>&quot;YES&quot;</td><td>&quot;NO&quot;</td><td>&quot;NO&quot;</td><td>&quot;NO&quot;</td><td>&quot;NO&quot;</td><td>&quot;NO&quot;</td><td>&quot;NO&quot;</td><td>&quot;NO&quot;</td><td>&quot;NO&quot;</td><td>&quot;NO&quot;</td><td>&quot;NO&quot;</td><td>&quot;NO&quot;</td><td>&quot;NO&quot;</td><td>&quot;NO&quot;</td><td>&quot;NO&quot;</td><td>&quot;NO&quot;</td><td>&quot;SMALL BUSINESS…</td><td>&quot;446120&quot;</td><td>&quot;47QSWA22P0QG7&quot;</td><td>1794.6</td><td>1</td><td>&quot;NONE&quot;</td><td>&quot;F&quot;</td><td>&quot;P00001&quot;</td><td>2022-06-03 00:00:00</td><td>&quot;FEDERAL ACQUIS…</td><td>&quot;GSA/FAS SCIENT…</td><td>&quot;GENERAL SERVIC…</td></tr><tr><td>&quot;YES&quot;</td><td>&quot;NO&quot;</td><td>&quot;NO&quot;</td><td>null</td><td>&quot;0RMF7&quot;</td><td>null</td><td>null</td><td>null</td><td>null</td><td>null</td><td>null</td><td>null</td><td>&quot;2022&quot;</td><td>&quot;P&quot;</td><td>null</td><td>&quot;ME1NKSLXV5T7&quot;</td><td>&quot;SBA&quot;</td><td>&quot;080541566&quot;</td><td>&quot;UNITED STATES&quot;</td><td>&quot;NO&quot;</td><td>&quot;NO&quot;</td><td>&quot;NO&quot;</td><td>&quot;NO&quot;</td><td>&quot;NO&quot;</td><td>&quot;YES&quot;</td><td>&quot;NO&quot;</td><td>&quot;NO&quot;</td><td>&quot;NO&quot;</td><td>&quot;NO&quot;</td><td>&quot;NO&quot;</td><td>&quot;NO&quot;</td><td>&quot;NO&quot;</td><td>&quot;NO&quot;</td><td>&quot;NO&quot;</td><td>&quot;YES&quot;</td><td>&quot;NO&quot;</td><td>&quot;NO&quot;</td><td>&quot;NO&quot;</td><td>&quot;NO&quot;</td><td>&quot;NO&quot;</td><td>&quot;SMALL BUSINESS…</td><td>&quot;333991&quot;</td><td>&quot;SPE4A722PB153&quot;</td><td>24850.0</td><td>3</td><td>&quot;NONE&quot;</td><td>&quot;F&quot;</td><td>&quot;0&quot;</td><td>2022-06-02 00:00:00</td><td>&quot;DEFENSE LOGIST…</td><td>&quot;DLA AVIATION&quot;</td><td>&quot;DEPT OF DEFENS…</td></tr><tr><td>&quot;YES&quot;</td><td>&quot;NO&quot;</td><td>&quot;YES&quot;</td><td>null</td><td>&quot;8EQ30&quot;</td><td>null</td><td>null</td><td>null</td><td>null</td><td>null</td><td>null</td><td>null</td><td>&quot;2022&quot;</td><td>&quot;P&quot;</td><td>null</td><td>&quot;M1WNFFFKYSX6&quot;</td><td>&quot;NONE&quot;</td><td>&quot;787023751&quot;</td><td>&quot;UNITED STATES&quot;</td><td>&quot;NO&quot;</td><td>&quot;NO&quot;</td><td>&quot;YES&quot;</td><td>&quot;NO&quot;</td><td>&quot;NO&quot;</td><td>&quot;YES&quot;</td><td>&quot;NO&quot;</td><td>&quot;NO&quot;</td><td>&quot;NO&quot;</td><td>&quot;NO&quot;</td><td>&quot;NO&quot;</td><td>&quot;NO&quot;</td><td>&quot;NO&quot;</td><td>&quot;NO&quot;</td><td>&quot;NO&quot;</td><td>&quot;NO&quot;</td><td>&quot;NO&quot;</td><td>&quot;NO&quot;</td><td>&quot;NO&quot;</td><td>&quot;NO&quot;</td><td>&quot;YES&quot;</td><td>&quot;SMALL BUSINESS…</td><td>&quot;334418&quot;</td><td>&quot;N6893622P0203&quot;</td><td>27084.27</td><td>2</td><td>&quot;NONE&quot;</td><td>&quot;F&quot;</td><td>&quot;0&quot;</td><td>2022-04-20 00:00:00</td><td>&quot;DEPT OF THE NA…</td><td>&quot;NAVAL AIR WARF…</td><td>&quot;DEPT OF DEFENS…</td></tr></tbody></table></div>"
      ],
      "text/plain": [
       "shape: (20, 52)\n",
       "┌────────────┬────────────┬─────┬────────────┬───┬────────────┬────────────┬───────────┬───────────┐\n",
       "│ FOR_PROFIT ┆ DOT_CERTIF ┆ SDB ┆ FISCAL_YEA ┆ … ┆ DATE_SIGNE ┆ FUNDING_AG ┆ FUNDING_O ┆ FUNDING_D │\n",
       "│ _ORGANIZAT ┆ IED_DISADV ┆ --- ┆ R          ┆   ┆ D          ┆ ENCY_NAME  ┆ FFICE_NAM ┆ EPARTMENT │\n",
       "│ ION        ┆ _BUS       ┆ str ┆ ---        ┆   ┆ ---        ┆ ---        ┆ E         ┆ _NAME     │\n",
       "│ ---        ┆ ---        ┆     ┆ str        ┆   ┆ datetime[m ┆ str        ┆ ---       ┆ ---       │\n",
       "│ str        ┆ str        ┆     ┆            ┆   ┆ s]         ┆            ┆ str       ┆ str       │\n",
       "╞════════════╪════════════╪═════╪════════════╪═══╪════════════╪════════════╪═══════════╪═══════════╡\n",
       "│ YES        ┆ NO         ┆ NO  ┆ null       ┆ … ┆ 2022-08-05 ┆ DEFENSE    ┆ DLA       ┆ DEPT OF   │\n",
       "│            ┆            ┆     ┆            ┆   ┆ 00:00:00   ┆ LOGISTICS  ┆ ENERGY    ┆ DEFENSE   │\n",
       "│            ┆            ┆     ┆            ┆   ┆            ┆ AGENCY     ┆           ┆           │\n",
       "│ YES        ┆ NO         ┆ NO  ┆ null       ┆ … ┆ 2022-04-20 ┆ DEFENSE    ┆ DLA       ┆ DEPT OF   │\n",
       "│            ┆            ┆     ┆            ┆   ┆ 00:00:00   ┆ LOGISTICS  ┆ ENERGY    ┆ DEFENSE   │\n",
       "│            ┆            ┆     ┆            ┆   ┆            ┆ AGENCY     ┆           ┆           │\n",
       "│ YES        ┆ NO         ┆ NO  ┆ null       ┆ … ┆ 2022-02-23 ┆ DEFENSE    ┆ DLA TROOP ┆ DEPT OF   │\n",
       "│            ┆            ┆     ┆            ┆   ┆ 00:00:00   ┆ LOGISTICS  ┆ SUPPORT   ┆ DEFENSE   │\n",
       "│            ┆            ┆     ┆            ┆   ┆            ┆ AGENCY     ┆           ┆           │\n",
       "│ YES        ┆ NO         ┆ NO  ┆ null       ┆ … ┆ 2022-01-04 ┆ DEFENSE    ┆ DLA       ┆ DEPT OF   │\n",
       "│            ┆            ┆     ┆            ┆   ┆ 00:00:00   ┆ LOGISTICS  ┆ ENERGY    ┆ DEFENSE   │\n",
       "│            ┆            ┆     ┆            ┆   ┆            ┆ AGENCY     ┆           ┆           │\n",
       "│ YES        ┆ NO         ┆ NO  ┆ null       ┆ … ┆ 2022-02-23 ┆ DEFENSE    ┆ DLA       ┆ DEPT OF   │\n",
       "│            ┆            ┆     ┆            ┆   ┆ 00:00:00   ┆ LOGISTICS  ┆ ENERGY    ┆ DEFENSE   │\n",
       "│            ┆            ┆     ┆            ┆   ┆            ┆ AGENCY     ┆           ┆           │\n",
       "│ YES        ┆ NO         ┆ NO  ┆ null       ┆ … ┆ 2022-03-25 ┆ DEFENSE    ┆ DLA TROOP ┆ DEPT OF   │\n",
       "│            ┆            ┆     ┆            ┆   ┆ 00:00:00   ┆ LOGISTICS  ┆ SUPPORT   ┆ DEFENSE   │\n",
       "│            ┆            ┆     ┆            ┆   ┆            ┆ AGENCY     ┆           ┆           │\n",
       "│ YES        ┆ NO         ┆ NO  ┆ null       ┆ … ┆ 2022-03-02 ┆ DEFENSE    ┆ DLA       ┆ DEPT OF   │\n",
       "│            ┆            ┆     ┆            ┆   ┆ 00:00:00   ┆ LOGISTICS  ┆ AVIATION  ┆ DEFENSE   │\n",
       "│            ┆            ┆     ┆            ┆   ┆            ┆ AGENCY     ┆           ┆           │\n",
       "│ YES        ┆ NO         ┆ NO  ┆ null       ┆ … ┆ 2022-09-19 ┆ UNITED     ┆ VOA NEWS  ┆ UNITED    │\n",
       "│            ┆            ┆     ┆            ┆   ┆ 00:00:00   ┆ STATES     ┆ CENTER    ┆ STATES    │\n",
       "│            ┆            ┆     ┆            ┆   ┆            ┆ AGENCY FOR ┆ DIVISION  ┆ AGENCY    │\n",
       "│            ┆            ┆     ┆            ┆   ┆            ┆ GLOBAL …   ┆           ┆ FOR       │\n",
       "│            ┆            ┆     ┆            ┆   ┆            ┆            ┆           ┆ GLOBAL …  │\n",
       "│ YES        ┆ NO         ┆ YES ┆ null       ┆ … ┆ 2022-02-02 ┆ U.S. COAST ┆ USCG      ┆ HOMELAND  │\n",
       "│            ┆            ┆     ┆            ┆   ┆ 00:00:00   ┆ GUARD      ┆ FINANCE   ┆ SECURITY, │\n",
       "│            ┆            ┆     ┆            ┆   ┆            ┆            ┆ CENTER    ┆ DEPARTMEN │\n",
       "│            ┆            ┆     ┆            ┆   ┆            ┆            ┆           ┆ T OF      │\n",
       "│ YES        ┆ NO         ┆ NO  ┆ null       ┆ … ┆ 2021-11-09 ┆ NATIONAL   ┆ NASA      ┆ NATIONAL  │\n",
       "│            ┆            ┆     ┆            ┆   ┆ 00:00:00   ┆ AERONAUTIC ┆ GODDARD   ┆ AERONAUTI │\n",
       "│            ┆            ┆     ┆            ┆   ┆            ┆ S AND      ┆ SPACE     ┆ CS AND    │\n",
       "│            ┆            ┆     ┆            ┆   ┆            ┆ SPACE A…   ┆ FLIGHT    ┆ SPACE A…  │\n",
       "│            ┆            ┆     ┆            ┆   ┆            ┆            ┆ CENTER    ┆           │\n",
       "│ YES        ┆ NO         ┆ YES ┆ null       ┆ … ┆ 2022-02-11 ┆ EQUAL      ┆ EQUAL EMP ┆ EQUAL EMP │\n",
       "│            ┆            ┆     ┆            ┆   ┆ 00:00:00   ┆ EMPLOYMENT ┆ LOYMENT   ┆ LOYMENT   │\n",
       "│            ┆            ┆     ┆            ┆   ┆            ┆ OPPORTUNIT ┆ OPPORTUNI ┆ OPPORTUNI │\n",
       "│            ┆            ┆     ┆            ┆   ┆            ┆ Y COM…     ┆ TY COM…   ┆ TY COM…   │\n",
       "│ YES        ┆ NO         ┆ NO  ┆ null       ┆ … ┆ 2022-08-16 ┆ DEFENSE    ┆ DLA TROOP ┆ DEPT OF   │\n",
       "│            ┆            ┆     ┆            ┆   ┆ 00:00:00   ┆ LOGISTICS  ┆ SUPPORT   ┆ DEFENSE   │\n",
       "│            ┆            ┆     ┆            ┆   ┆            ┆ AGENCY     ┆           ┆           │\n",
       "│ YES        ┆ NO         ┆ NO  ┆ null       ┆ … ┆ 2021-11-09 ┆ DEPT OF    ┆ USA       ┆ DEPT OF   │\n",
       "│            ┆            ┆     ┆            ┆   ┆ 00:00:00   ┆ THE ARMY   ┆ PROGRAM   ┆ DEFENSE   │\n",
       "│            ┆            ┆     ┆            ┆   ┆            ┆            ┆ EXECUTIVE ┆           │\n",
       "│            ┆            ┆     ┆            ┆   ┆            ┆            ┆ OFFICE,   ┆           │\n",
       "│            ┆            ┆     ┆            ┆   ┆            ┆            ┆ AV…       ┆           │\n",
       "│ YES        ┆ NO         ┆ NO  ┆ null       ┆ … ┆ 2021-11-24 ┆ FEDERAL    ┆ FAA       ┆ TRANSPORT │\n",
       "│            ┆            ┆     ┆            ┆   ┆ 00:00:00   ┆ AVIATION   ┆           ┆ ATION,    │\n",
       "│            ┆            ┆     ┆            ┆   ┆            ┆ ADMINISTRA ┆           ┆ DEPARTMEN │\n",
       "│            ┆            ┆     ┆            ┆   ┆            ┆ TION       ┆           ┆ T OF      │\n",
       "│ YES        ┆ NO         ┆ NO  ┆ null       ┆ … ┆ 2021-11-02 ┆ NATIONAL   ┆ NASA      ┆ NATIONAL  │\n",
       "│            ┆            ┆     ┆            ┆   ┆ 00:00:00   ┆ AERONAUTIC ┆ SHARED    ┆ AERONAUTI │\n",
       "│            ┆            ┆     ┆            ┆   ┆            ┆ S AND      ┆ SERVICES  ┆ CS AND    │\n",
       "│            ┆            ┆     ┆            ┆   ┆            ┆ SPACE A…   ┆ CENTER    ┆ SPACE A…  │\n",
       "│ YES        ┆ NO         ┆ NO  ┆ null       ┆ … ┆ 2022-05-20 ┆ DEFENSE    ┆ DLA       ┆ DEPT OF   │\n",
       "│            ┆            ┆     ┆            ┆   ┆ 00:00:00   ┆ LOGISTICS  ┆ AVIATION  ┆ DEFENSE   │\n",
       "│            ┆            ┆     ┆            ┆   ┆            ┆ AGENCY     ┆           ┆           │\n",
       "│ YES        ┆ NO         ┆ NO  ┆ null       ┆ … ┆ 2022-02-15 ┆ NATIONAL   ┆ NATIONAL  ┆ HEALTH    │\n",
       "│            ┆            ┆     ┆            ┆   ┆ 00:00:00   ┆ INSTITUTES ┆ INSTITUTE ┆ AND HUMAN │\n",
       "│            ┆            ┆     ┆            ┆   ┆            ┆ OF HEALTH  ┆ S OF      ┆ SERVICES, │\n",
       "│            ┆            ┆     ┆            ┆   ┆            ┆            ┆ HEALTH    ┆ DEPAR…    │\n",
       "│            ┆            ┆     ┆            ┆   ┆            ┆            ┆ NI…       ┆           │\n",
       "│ YES        ┆ NO         ┆ NO  ┆ null       ┆ … ┆ 2022-06-03 ┆ FEDERAL    ┆ GSA/FAS   ┆ GENERAL   │\n",
       "│            ┆            ┆     ┆            ┆   ┆ 00:00:00   ┆ ACQUISITIO ┆ SCIENTFC, ┆ SERVICES  │\n",
       "│            ┆            ┆     ┆            ┆   ┆            ┆ N SERVICE  ┆ TEMP SVCS ┆ ADMINISTR │\n",
       "│            ┆            ┆     ┆            ┆   ┆            ┆            ┆ ,ADINT    ┆ ATION     │\n",
       "│ YES        ┆ NO         ┆ NO  ┆ null       ┆ … ┆ 2022-06-02 ┆ DEFENSE    ┆ DLA       ┆ DEPT OF   │\n",
       "│            ┆            ┆     ┆            ┆   ┆ 00:00:00   ┆ LOGISTICS  ┆ AVIATION  ┆ DEFENSE   │\n",
       "│            ┆            ┆     ┆            ┆   ┆            ┆ AGENCY     ┆           ┆           │\n",
       "│ YES        ┆ NO         ┆ YES ┆ null       ┆ … ┆ 2022-04-20 ┆ DEPT OF    ┆ NAVAL AIR ┆ DEPT OF   │\n",
       "│            ┆            ┆     ┆            ┆   ┆ 00:00:00   ┆ THE NAVY   ┆ WARFARE   ┆ DEFENSE   │\n",
       "│            ┆            ┆     ┆            ┆   ┆            ┆            ┆ CENTER    ┆           │\n",
       "└────────────┴────────────┴─────┴────────────┴───┴────────────┴────────────┴───────────┴───────────┘"
      ]
     },
     "execution_count": 6,
     "metadata": {},
     "output_type": "execute_result"
    }
   ],
   "source": [
    "data2022.head(20)"
   ]
  },
  {
   "cell_type": "markdown",
   "id": "22134221-0b9c-4148-a382-45a195bb60bf",
   "metadata": {},
   "source": [
    "### Replace FISCAL_YEAR's null values with the correct year"
   ]
  },
  {
   "cell_type": "code",
   "execution_count": 7,
   "id": "6bdfaea1-c519-432f-8fad-4af609b047de",
   "metadata": {
    "tags": []
   },
   "outputs": [],
   "source": [
    "data2022 = data2022.with_columns(pl.col(\"FISCAL_YEAR\").fill_null(2022))"
   ]
  },
  {
   "cell_type": "markdown",
   "id": "b3894bd6-0164-4acd-af37-449b189558aa",
   "metadata": {},
   "source": [
    "### Make sure the FISCAL_YEAR value is filled below"
   ]
  },
  {
   "cell_type": "code",
   "execution_count": 8,
   "id": "cb399278-017b-4a7f-900a-38313d6da7bf",
   "metadata": {
    "tags": []
   },
   "outputs": [
    {
     "data": {
      "text/html": [
       "<div><style>\n",
       ".dataframe > thead > tr,\n",
       ".dataframe > tbody > tr {\n",
       "  text-align: right;\n",
       "  white-space: pre-wrap;\n",
       "}\n",
       "</style>\n",
       "<small>shape: (20, 52)</small><table border=\"1\" class=\"dataframe\"><thead><tr><th>FOR_PROFIT_ORGANIZATION</th><th>DOT_CERTIFIED_DISADV_BUS</th><th>SDB</th><th>FISCAL_YEAR</th><th>CAGE_CODE</th><th>IDV_CONTRACTING_AGENCY_NAME</th><th>IDV_EXTENT_COMPETED</th><th>IDV_EVALUATED_PREFERENCE</th><th>IDV_SIGNED_DATE</th><th>IDV_LAST_DATE_TO_ORDER</th><th>IDV_NUMBER_OF_OFFERS</th><th>PART8_OR_PART13</th><th>AWARD_FISCAL_YEAR</th><th>PRODUCT_OR_SERVICE_TYPE</th><th>TOTAL_ESTIMATED_ORDER_VALUE</th><th>VENDOR_UEI</th><th>TYPE_OF_SET_ASIDE</th><th>VENDOR_ADDRESS_ZIP_CODE</th><th>VENDOR_ADDRESS_COUNTRY_NAME</th><th>EDUCATIONAL_INSTITUTION_FLAG</th><th>FIRM_8A_FLAG</th><th>WOMEN_OWNED_FLAG</th><th>FIRM8A_JOINT_VENTURE</th><th>FEDERALLY_FUNDED_R_AND_D_CORP</th><th>CORP_ENTITY_NOT_TAX_EXEMPT</th><th>PARTNERSHIP_OR_LLP</th><th>SOLE_PROPREITORSHIP</th><th>SMALL_AGRICULTURAL_COOPERATIVE</th><th>INTERNATIONAL_ORGANIZATION</th><th>ARCHITECTURE_AND_ENGINEERING</th><th>COMMUNITY_CORP_OWNED_FIRM</th><th>CONSTRUCTION_FIRM</th><th>DOMESTIC_SHELTER</th><th>FOUNDATION</th><th>MANUFACTURER_OF_GOODS</th><th>RESEARCH_AND_DEVELOPMENT</th><th>SERVICE_PROVIDER</th><th>VETERINARY_HOSPITAL</th><th>HISPANIC_SERVICING_INSTITUTION</th><th>LIMITED_LIABILITY_CORPORATION</th><th>CO_BUS_SIZE_DETERMINATION</th><th>PRINCIPAL_NAICS_CODE</th><th>PIID</th><th>CURRENT_CONTRACT_VALUE</th><th>NUMBER_OF_OFFERS_RECEIVED</th><th>EVALUATED_PREFERENCE</th><th>EXTENT_COMPETED</th><th>MODIFICATION_NUMBER</th><th>DATE_SIGNED</th><th>FUNDING_AGENCY_NAME</th><th>FUNDING_OFFICE_NAME</th><th>FUNDING_DEPARTMENT_NAME</th></tr><tr><td>str</td><td>str</td><td>str</td><td>str</td><td>str</td><td>str</td><td>str</td><td>str</td><td>datetime[ms]</td><td>datetime[ms]</td><td>i32</td><td>str</td><td>str</td><td>str</td><td>f64</td><td>str</td><td>str</td><td>str</td><td>str</td><td>str</td><td>str</td><td>str</td><td>str</td><td>str</td><td>str</td><td>str</td><td>str</td><td>str</td><td>str</td><td>str</td><td>str</td><td>str</td><td>str</td><td>str</td><td>str</td><td>str</td><td>str</td><td>str</td><td>str</td><td>str</td><td>str</td><td>str</td><td>str</td><td>f64</td><td>i32</td><td>str</td><td>str</td><td>str</td><td>datetime[ms]</td><td>str</td><td>str</td><td>str</td></tr></thead><tbody><tr><td>&quot;YES&quot;</td><td>&quot;NO&quot;</td><td>&quot;NO&quot;</td><td>&quot;2022&quot;</td><td>&quot;87MR5&quot;</td><td>&quot;DEFENSE LOGIST…</td><td>&quot;A&quot;</td><td>&quot;NONE&quot;</td><td>2019-04-23 00:00:00</td><td>2023-03-31 00:00:00</td><td>148</td><td>null</td><td>&quot;2022&quot;</td><td>&quot;P&quot;</td><td>null</td><td>&quot;G568KMLKNMC5&quot;</td><td>&quot;NONE&quot;</td><td>&quot;773032004&quot;</td><td>&quot;UNITED STATES&quot;</td><td>&quot;NO&quot;</td><td>&quot;NO&quot;</td><td>&quot;NO&quot;</td><td>&quot;NO&quot;</td><td>&quot;NO&quot;</td><td>&quot;NO&quot;</td><td>&quot;NO&quot;</td><td>&quot;YES&quot;</td><td>&quot;NO&quot;</td><td>&quot;NO&quot;</td><td>&quot;NO&quot;</td><td>&quot;NO&quot;</td><td>&quot;NO&quot;</td><td>&quot;NO&quot;</td><td>&quot;NO&quot;</td><td>&quot;NO&quot;</td><td>&quot;NO&quot;</td><td>&quot;NO&quot;</td><td>&quot;NO&quot;</td><td>&quot;NO&quot;</td><td>&quot;NO&quot;</td><td>&quot;SMALL BUSINESS…</td><td>&quot;324110&quot;</td><td>&quot;SPE60722FEULE&quot;</td><td>196.25</td><td>null</td><td>&quot;NONE&quot;</td><td>&quot;A&quot;</td><td>&quot;0&quot;</td><td>2022-08-05 00:00:00</td><td>&quot;DEFENSE LOGIST…</td><td>&quot;DLA ENERGY&quot;</td><td>&quot;DEPT OF DEFENS…</td></tr><tr><td>&quot;YES&quot;</td><td>&quot;NO&quot;</td><td>&quot;NO&quot;</td><td>&quot;2022&quot;</td><td>&quot;0R7C4&quot;</td><td>&quot;DEFENSE LOGIST…</td><td>&quot;A&quot;</td><td>&quot;NONE&quot;</td><td>2018-04-04 00:00:00</td><td>2022-03-31 00:00:00</td><td>1</td><td>null</td><td>&quot;2022&quot;</td><td>&quot;P&quot;</td><td>null</td><td>&quot;Z4SKYSSHK3Z9&quot;</td><td>&quot;NONE&quot;</td><td>&quot;891193257&quot;</td><td>&quot;UNITED STATES&quot;</td><td>&quot;NO&quot;</td><td>&quot;NO&quot;</td><td>&quot;NO&quot;</td><td>&quot;NO&quot;</td><td>&quot;NO&quot;</td><td>&quot;YES&quot;</td><td>&quot;NO&quot;</td><td>&quot;NO&quot;</td><td>&quot;NO&quot;</td><td>&quot;NO&quot;</td><td>&quot;NO&quot;</td><td>&quot;NO&quot;</td><td>&quot;NO&quot;</td><td>&quot;NO&quot;</td><td>&quot;NO&quot;</td><td>&quot;NO&quot;</td><td>&quot;NO&quot;</td><td>&quot;NO&quot;</td><td>&quot;NO&quot;</td><td>&quot;NO&quot;</td><td>&quot;NO&quot;</td><td>&quot;OTHER THAN SMA…</td><td>&quot;324110&quot;</td><td>&quot;SPE60722FD92Y&quot;</td><td>466.78</td><td>null</td><td>&quot;NONE&quot;</td><td>&quot;A&quot;</td><td>&quot;0&quot;</td><td>2022-04-20 00:00:00</td><td>&quot;DEFENSE LOGIST…</td><td>&quot;DLA ENERGY&quot;</td><td>&quot;DEPT OF DEFENS…</td></tr><tr><td>&quot;YES&quot;</td><td>&quot;NO&quot;</td><td>&quot;NO&quot;</td><td>&quot;2022&quot;</td><td>&quot;9T645&quot;</td><td>&quot;DEFENSE LOGIST…</td><td>&quot;A&quot;</td><td>&quot;NONE&quot;</td><td>2020-07-13 00:00:00</td><td>2023-08-05 00:00:00</td><td>2</td><td>null</td><td>&quot;2022&quot;</td><td>&quot;P&quot;</td><td>null</td><td>&quot;F88AH3GNC5T3&quot;</td><td>&quot;NONE&quot;</td><td>&quot;338803433&quot;</td><td>&quot;UNITED STATES&quot;</td><td>&quot;NO&quot;</td><td>&quot;NO&quot;</td><td>&quot;NO&quot;</td><td>&quot;NO&quot;</td><td>&quot;NO&quot;</td><td>&quot;YES&quot;</td><td>&quot;NO&quot;</td><td>&quot;NO&quot;</td><td>&quot;NO&quot;</td><td>&quot;NO&quot;</td><td>&quot;NO&quot;</td><td>&quot;NO&quot;</td><td>&quot;NO&quot;</td><td>&quot;NO&quot;</td><td>&quot;NO&quot;</td><td>&quot;YES&quot;</td><td>&quot;NO&quot;</td><td>&quot;NO&quot;</td><td>&quot;NO&quot;</td><td>&quot;NO&quot;</td><td>&quot;YES&quot;</td><td>&quot;SMALL BUSINESS…</td><td>&quot;311812&quot;</td><td>&quot;SPE30022F30FU&quot;</td><td>162.8</td><td>null</td><td>&quot;NONE&quot;</td><td>&quot;A&quot;</td><td>&quot;0&quot;</td><td>2022-02-23 00:00:00</td><td>&quot;DEFENSE LOGIST…</td><td>&quot;DLA TROOP SUPP…</td><td>&quot;DEPT OF DEFENS…</td></tr><tr><td>&quot;YES&quot;</td><td>&quot;NO&quot;</td><td>&quot;NO&quot;</td><td>&quot;2022&quot;</td><td>&quot;87MR5&quot;</td><td>&quot;DEFENSE LOGIST…</td><td>&quot;A&quot;</td><td>&quot;NONE&quot;</td><td>2019-04-23 00:00:00</td><td>2023-03-31 00:00:00</td><td>148</td><td>null</td><td>&quot;2022&quot;</td><td>&quot;P&quot;</td><td>null</td><td>&quot;G568KMLKNMC5&quot;</td><td>&quot;NONE&quot;</td><td>&quot;773032004&quot;</td><td>&quot;UNITED STATES&quot;</td><td>&quot;NO&quot;</td><td>&quot;NO&quot;</td><td>&quot;NO&quot;</td><td>&quot;NO&quot;</td><td>&quot;NO&quot;</td><td>&quot;NO&quot;</td><td>&quot;NO&quot;</td><td>&quot;YES&quot;</td><td>&quot;NO&quot;</td><td>&quot;NO&quot;</td><td>&quot;NO&quot;</td><td>&quot;NO&quot;</td><td>&quot;NO&quot;</td><td>&quot;NO&quot;</td><td>&quot;NO&quot;</td><td>&quot;NO&quot;</td><td>&quot;NO&quot;</td><td>&quot;NO&quot;</td><td>&quot;NO&quot;</td><td>&quot;NO&quot;</td><td>&quot;NO&quot;</td><td>&quot;SMALL BUSINESS…</td><td>&quot;324110&quot;</td><td>&quot;SPE60722FBG33&quot;</td><td>58.1</td><td>null</td><td>&quot;NONE&quot;</td><td>&quot;A&quot;</td><td>&quot;0&quot;</td><td>2022-01-04 00:00:00</td><td>&quot;DEFENSE LOGIST…</td><td>&quot;DLA ENERGY&quot;</td><td>&quot;DEPT OF DEFENS…</td></tr><tr><td>&quot;YES&quot;</td><td>&quot;NO&quot;</td><td>&quot;NO&quot;</td><td>&quot;2022&quot;</td><td>&quot;5P8G0&quot;</td><td>&quot;DEFENSE LOGIST…</td><td>&quot;A&quot;</td><td>&quot;NONE&quot;</td><td>2019-08-12 00:00:00</td><td>2023-03-31 00:00:00</td><td>145</td><td>null</td><td>&quot;2022&quot;</td><td>&quot;P&quot;</td><td>null</td><td>&quot;G9N5DJF9U275&quot;</td><td>&quot;NONE&quot;</td><td>&quot;365422818&quot;</td><td>&quot;UNITED STATES&quot;</td><td>&quot;NO&quot;</td><td>&quot;NO&quot;</td><td>&quot;NO&quot;</td><td>&quot;NO&quot;</td><td>&quot;NO&quot;</td><td>&quot;YES&quot;</td><td>&quot;NO&quot;</td><td>&quot;NO&quot;</td><td>&quot;NO&quot;</td><td>&quot;NO&quot;</td><td>&quot;NO&quot;</td><td>&quot;NO&quot;</td><td>&quot;NO&quot;</td><td>&quot;NO&quot;</td><td>&quot;NO&quot;</td><td>&quot;NO&quot;</td><td>&quot;NO&quot;</td><td>&quot;NO&quot;</td><td>&quot;NO&quot;</td><td>&quot;NO&quot;</td><td>&quot;NO&quot;</td><td>&quot;SMALL BUSINESS…</td><td>&quot;324110&quot;</td><td>&quot;SPE60722FC1X4&quot;</td><td>4144.78</td><td>null</td><td>&quot;NONE&quot;</td><td>&quot;A&quot;</td><td>&quot;0&quot;</td><td>2022-02-23 00:00:00</td><td>&quot;DEFENSE LOGIST…</td><td>&quot;DLA ENERGY&quot;</td><td>&quot;DEPT OF DEFENS…</td></tr><tr><td>&quot;YES&quot;</td><td>&quot;NO&quot;</td><td>&quot;NO&quot;</td><td>&quot;2022&quot;</td><td>&quot;9T645&quot;</td><td>&quot;DEFENSE LOGIST…</td><td>&quot;A&quot;</td><td>&quot;NONE&quot;</td><td>2020-07-13 00:00:00</td><td>2023-08-05 00:00:00</td><td>2</td><td>null</td><td>&quot;2022&quot;</td><td>&quot;P&quot;</td><td>null</td><td>&quot;F88AH3GNC5T3&quot;</td><td>&quot;NONE&quot;</td><td>&quot;338803433&quot;</td><td>&quot;UNITED STATES&quot;</td><td>&quot;NO&quot;</td><td>&quot;NO&quot;</td><td>&quot;NO&quot;</td><td>&quot;NO&quot;</td><td>&quot;NO&quot;</td><td>&quot;YES&quot;</td><td>&quot;NO&quot;</td><td>&quot;NO&quot;</td><td>&quot;NO&quot;</td><td>&quot;NO&quot;</td><td>&quot;NO&quot;</td><td>&quot;NO&quot;</td><td>&quot;NO&quot;</td><td>&quot;NO&quot;</td><td>&quot;NO&quot;</td><td>&quot;YES&quot;</td><td>&quot;NO&quot;</td><td>&quot;NO&quot;</td><td>&quot;NO&quot;</td><td>&quot;NO&quot;</td><td>&quot;YES&quot;</td><td>&quot;SMALL BUSINESS…</td><td>&quot;311812&quot;</td><td>&quot;SPE30022F3N66&quot;</td><td>153.0</td><td>null</td><td>&quot;NONE&quot;</td><td>&quot;A&quot;</td><td>&quot;0&quot;</td><td>2022-03-25 00:00:00</td><td>&quot;DEFENSE LOGIST…</td><td>&quot;DLA TROOP SUPP…</td><td>&quot;DEPT OF DEFENS…</td></tr><tr><td>&quot;YES&quot;</td><td>&quot;NO&quot;</td><td>&quot;NO&quot;</td><td>&quot;2022&quot;</td><td>&quot;1VZR7&quot;</td><td>&quot;DEFENSE LOGIST…</td><td>&quot;F&quot;</td><td>&quot;NONE&quot;</td><td>2013-11-07 00:00:00</td><td>2014-11-06 00:00:00</td><td>1</td><td>null</td><td>&quot;2022&quot;</td><td>&quot;P&quot;</td><td>null</td><td>&quot;Q5UVH3KMTMD8&quot;</td><td>&quot;SBA&quot;</td><td>&quot;494246407&quot;</td><td>&quot;UNITED STATES&quot;</td><td>&quot;NO&quot;</td><td>&quot;NO&quot;</td><td>&quot;YES&quot;</td><td>&quot;NO&quot;</td><td>&quot;NO&quot;</td><td>&quot;NO&quot;</td><td>&quot;YES&quot;</td><td>&quot;NO&quot;</td><td>&quot;NO&quot;</td><td>&quot;NO&quot;</td><td>&quot;NO&quot;</td><td>&quot;NO&quot;</td><td>&quot;NO&quot;</td><td>&quot;NO&quot;</td><td>&quot;NO&quot;</td><td>&quot;YES&quot;</td><td>&quot;NO&quot;</td><td>&quot;NO&quot;</td><td>&quot;NO&quot;</td><td>&quot;NO&quot;</td><td>&quot;NO&quot;</td><td>&quot;SMALL BUSINESS…</td><td>&quot;334419&quot;</td><td>&quot;SPE4A619F0659&quot;</td><td>-3226.79</td><td>null</td><td>&quot;NONE&quot;</td><td>&quot;F&quot;</td><td>&quot;P00001&quot;</td><td>2022-03-02 00:00:00</td><td>&quot;DEFENSE LOGIST…</td><td>&quot;DLA AVIATION&quot;</td><td>&quot;DEPT OF DEFENS…</td></tr><tr><td>&quot;YES&quot;</td><td>&quot;NO&quot;</td><td>&quot;NO&quot;</td><td>&quot;2022&quot;</td><td>&quot;5CFE9&quot;</td><td>null</td><td>null</td><td>null</td><td>null</td><td>null</td><td>null</td><td>null</td><td>&quot;2022&quot;</td><td>&quot;S&quot;</td><td>null</td><td>&quot;DLZVGV3MGF31&quot;</td><td>&quot;NONE&quot;</td><td>&quot;209014846&quot;</td><td>&quot;UNITED STATES&quot;</td><td>&quot;NO&quot;</td><td>&quot;NO&quot;</td><td>&quot;NO&quot;</td><td>&quot;NO&quot;</td><td>&quot;NO&quot;</td><td>&quot;NO&quot;</td><td>&quot;NO&quot;</td><td>&quot;YES&quot;</td><td>&quot;NO&quot;</td><td>&quot;NO&quot;</td><td>&quot;NO&quot;</td><td>&quot;NO&quot;</td><td>&quot;NO&quot;</td><td>&quot;NO&quot;</td><td>&quot;NO&quot;</td><td>&quot;NO&quot;</td><td>&quot;NO&quot;</td><td>&quot;NO&quot;</td><td>&quot;NO&quot;</td><td>&quot;NO&quot;</td><td>&quot;NO&quot;</td><td>&quot;SMALL BUSINESS…</td><td>&quot;711510&quot;</td><td>&quot;95170020P0012&quot;</td><td>-12250.0</td><td>1</td><td>&quot;NONE&quot;</td><td>&quot;G&quot;</td><td>&quot;P00004&quot;</td><td>2022-09-19 00:00:00</td><td>&quot;UNITED STATES …</td><td>&quot;VOA NEWS CENTE…</td><td>&quot;UNITED STATES …</td></tr><tr><td>&quot;YES&quot;</td><td>&quot;NO&quot;</td><td>&quot;YES&quot;</td><td>&quot;2022&quot;</td><td>&quot;7M0A2&quot;</td><td>null</td><td>null</td><td>null</td><td>null</td><td>null</td><td>null</td><td>null</td><td>&quot;2022&quot;</td><td>&quot;S&quot;</td><td>null</td><td>&quot;R4S8VME25J37&quot;</td><td>&quot;SBA&quot;</td><td>&quot;281179400&quot;</td><td>&quot;UNITED STATES&quot;</td><td>&quot;NO&quot;</td><td>&quot;NO&quot;</td><td>&quot;NO&quot;</td><td>&quot;NO&quot;</td><td>&quot;NO&quot;</td><td>&quot;YES&quot;</td><td>&quot;NO&quot;</td><td>&quot;NO&quot;</td><td>&quot;NO&quot;</td><td>&quot;NO&quot;</td><td>&quot;NO&quot;</td><td>&quot;NO&quot;</td><td>&quot;NO&quot;</td><td>&quot;NO&quot;</td><td>&quot;NO&quot;</td><td>&quot;NO&quot;</td><td>&quot;NO&quot;</td><td>&quot;NO&quot;</td><td>&quot;NO&quot;</td><td>&quot;NO&quot;</td><td>&quot;YES&quot;</td><td>&quot;SMALL BUSINESS…</td><td>&quot;336611&quot;</td><td>&quot;70Z08022PMECP0…</td><td>138653.0</td><td>4</td><td>&quot;NONE&quot;</td><td>&quot;F&quot;</td><td>&quot;0&quot;</td><td>2022-02-02 00:00:00</td><td>&quot;U.S. COAST GUA…</td><td>&quot;USCG FINANCE C…</td><td>&quot;HOMELAND SECUR…</td></tr><tr><td>&quot;YES&quot;</td><td>&quot;NO&quot;</td><td>&quot;NO&quot;</td><td>&quot;2022&quot;</td><td>&quot;8JF28&quot;</td><td>null</td><td>null</td><td>null</td><td>null</td><td>null</td><td>null</td><td>null</td><td>&quot;2022&quot;</td><td>&quot;S&quot;</td><td>null</td><td>&quot;C533SZKRAMH1&quot;</td><td>&quot;8AN&quot;</td><td>&quot;208522952&quot;</td><td>&quot;UNITED STATES&quot;</td><td>&quot;NO&quot;</td><td>&quot;NO&quot;</td><td>&quot;NO&quot;</td><td>&quot;YES&quot;</td><td>&quot;NO&quot;</td><td>&quot;YES&quot;</td><td>&quot;NO&quot;</td><td>&quot;NO&quot;</td><td>&quot;NO&quot;</td><td>&quot;NO&quot;</td><td>&quot;NO&quot;</td><td>&quot;NO&quot;</td><td>&quot;NO&quot;</td><td>&quot;NO&quot;</td><td>&quot;NO&quot;</td><td>&quot;NO&quot;</td><td>&quot;NO&quot;</td><td>&quot;NO&quot;</td><td>&quot;NO&quot;</td><td>&quot;NO&quot;</td><td>&quot;NO&quot;</td><td>&quot;SMALL BUSINESS…</td><td>&quot;541511&quot;</td><td>&quot;80GSFC20C0125&quot;</td><td>0.0</td><td>1</td><td>&quot;NONE&quot;</td><td>&quot;B&quot;</td><td>&quot;P00013&quot;</td><td>2021-11-09 00:00:00</td><td>&quot;NATIONAL AERON…</td><td>&quot;NASA GODDARD S…</td><td>&quot;NATIONAL AERON…</td></tr><tr><td>&quot;YES&quot;</td><td>&quot;NO&quot;</td><td>&quot;YES&quot;</td><td>&quot;2022&quot;</td><td>&quot;1WPT7&quot;</td><td>&quot;EQUAL EMPLOYME…</td><td>null</td><td>null</td><td>2016-09-16 00:00:00</td><td>2017-09-15 00:00:00</td><td>null</td><td>&quot;PART13&quot;</td><td>&quot;2022&quot;</td><td>&quot;S&quot;</td><td>null</td><td>&quot;P2XDMZECYL98&quot;</td><td>&quot;NONE&quot;</td><td>&quot;809206700&quot;</td><td>&quot;UNITED STATES&quot;</td><td>&quot;NO&quot;</td><td>&quot;NO&quot;</td><td>&quot;YES&quot;</td><td>&quot;NO&quot;</td><td>&quot;NO&quot;</td><td>&quot;NO&quot;</td><td>&quot;NO&quot;</td><td>&quot;NO&quot;</td><td>&quot;NO&quot;</td><td>&quot;NO&quot;</td><td>&quot;NO&quot;</td><td>&quot;NO&quot;</td><td>&quot;NO&quot;</td><td>&quot;NO&quot;</td><td>&quot;NO&quot;</td><td>&quot;NO&quot;</td><td>&quot;NO&quot;</td><td>&quot;NO&quot;</td><td>&quot;NO&quot;</td><td>&quot;NO&quot;</td><td>&quot;YES&quot;</td><td>&quot;SMALL BUSINESS…</td><td>&quot;541110&quot;</td><td>&quot;EEC45017F0059&quot;</td><td>-2520.0</td><td>1</td><td>&quot;NONE&quot;</td><td>&quot;G&quot;</td><td>&quot;P00001&quot;</td><td>2022-02-11 00:00:00</td><td>&quot;EQUAL EMPLOYME…</td><td>&quot;EQUAL EMPLOYME…</td><td>&quot;EQUAL EMPLOYME…</td></tr><tr><td>&quot;YES&quot;</td><td>&quot;NO&quot;</td><td>&quot;NO&quot;</td><td>&quot;2022&quot;</td><td>&quot;9T645&quot;</td><td>&quot;DEFENSE LOGIST…</td><td>&quot;A&quot;</td><td>&quot;NONE&quot;</td><td>2020-07-13 00:00:00</td><td>2023-08-05 00:00:00</td><td>2</td><td>null</td><td>&quot;2022&quot;</td><td>&quot;P&quot;</td><td>null</td><td>&quot;F88AH3GNC5T3&quot;</td><td>&quot;NONE&quot;</td><td>&quot;338803433&quot;</td><td>&quot;UNITED STATES&quot;</td><td>&quot;NO&quot;</td><td>&quot;NO&quot;</td><td>&quot;NO&quot;</td><td>&quot;NO&quot;</td><td>&quot;NO&quot;</td><td>&quot;YES&quot;</td><td>&quot;NO&quot;</td><td>&quot;NO&quot;</td><td>&quot;NO&quot;</td><td>&quot;NO&quot;</td><td>&quot;NO&quot;</td><td>&quot;NO&quot;</td><td>&quot;NO&quot;</td><td>&quot;NO&quot;</td><td>&quot;NO&quot;</td><td>&quot;YES&quot;</td><td>&quot;NO&quot;</td><td>&quot;NO&quot;</td><td>&quot;NO&quot;</td><td>&quot;NO&quot;</td><td>&quot;YES&quot;</td><td>&quot;SMALL BUSINESS…</td><td>&quot;311812&quot;</td><td>&quot;SPE30022F6LFP&quot;</td><td>143.34</td><td>null</td><td>&quot;NONE&quot;</td><td>&quot;A&quot;</td><td>&quot;0&quot;</td><td>2022-08-16 00:00:00</td><td>&quot;DEFENSE LOGIST…</td><td>&quot;DLA TROOP SUPP…</td><td>&quot;DEPT OF DEFENS…</td></tr><tr><td>&quot;YES&quot;</td><td>&quot;NO&quot;</td><td>&quot;NO&quot;</td><td>&quot;2022&quot;</td><td>&quot;0YJB5&quot;</td><td>null</td><td>null</td><td>null</td><td>null</td><td>null</td><td>null</td><td>null</td><td>&quot;2022&quot;</td><td>&quot;S&quot;</td><td>null</td><td>&quot;ZH4NVFG3Z526&quot;</td><td>&quot;NONE&quot;</td><td>&quot;920647103&quot;</td><td>&quot;UNITED STATES&quot;</td><td>&quot;NO&quot;</td><td>&quot;NO&quot;</td><td>&quot;NO&quot;</td><td>&quot;NO&quot;</td><td>&quot;NO&quot;</td><td>&quot;YES&quot;</td><td>&quot;NO&quot;</td><td>&quot;NO&quot;</td><td>&quot;NO&quot;</td><td>&quot;NO&quot;</td><td>&quot;NO&quot;</td><td>&quot;NO&quot;</td><td>&quot;NO&quot;</td><td>&quot;NO&quot;</td><td>&quot;NO&quot;</td><td>&quot;YES&quot;</td><td>&quot;NO&quot;</td><td>&quot;NO&quot;</td><td>&quot;NO&quot;</td><td>&quot;NO&quot;</td><td>&quot;NO&quot;</td><td>&quot;OTHER THAN SMA…</td><td>&quot;336411&quot;</td><td>&quot;W58RGZ19C0027&quot;</td><td>0.0</td><td>1</td><td>&quot;NONE&quot;</td><td>&quot;C&quot;</td><td>&quot;P00099&quot;</td><td>2021-11-09 00:00:00</td><td>&quot;DEPT OF THE AR…</td><td>&quot;USA PROGRAM EX…</td><td>&quot;DEPT OF DEFENS…</td></tr><tr><td>&quot;YES&quot;</td><td>&quot;NO&quot;</td><td>&quot;NO&quot;</td><td>&quot;2022&quot;</td><td>&quot;39RW5&quot;</td><td>null</td><td>null</td><td>null</td><td>null</td><td>null</td><td>null</td><td>null</td><td>&quot;2022&quot;</td><td>&quot;S&quot;</td><td>null</td><td>&quot;F59SMR86J7R8&quot;</td><td>&quot;NONE&quot;</td><td>&quot;504381237&quot;</td><td>&quot;UNITED STATES&quot;</td><td>&quot;NO&quot;</td><td>&quot;NO&quot;</td><td>&quot;NO&quot;</td><td>&quot;NO&quot;</td><td>&quot;NO&quot;</td><td>&quot;YES&quot;</td><td>&quot;NO&quot;</td><td>&quot;NO&quot;</td><td>&quot;NO&quot;</td><td>&quot;NO&quot;</td><td>&quot;NO&quot;</td><td>&quot;NO&quot;</td><td>&quot;NO&quot;</td><td>&quot;NO&quot;</td><td>&quot;NO&quot;</td><td>&quot;NO&quot;</td><td>&quot;NO&quot;</td><td>&quot;NO&quot;</td><td>&quot;NO&quot;</td><td>&quot;NO&quot;</td><td>&quot;NO&quot;</td><td>&quot;SMALL BUSINESS…</td><td>&quot;541990&quot;</td><td>&quot;DTFAWA14C00012…</td><td>0.0</td><td>1</td><td>&quot;NONE&quot;</td><td>&quot;C&quot;</td><td>&quot;P00057&quot;</td><td>2021-11-24 00:00:00</td><td>&quot;FEDERAL AVIATI…</td><td>&quot;FAA&quot;</td><td>&quot;TRANSPORTATION…</td></tr><tr><td>&quot;YES&quot;</td><td>&quot;NO&quot;</td><td>&quot;NO&quot;</td><td>&quot;2022&quot;</td><td>&quot;6C8U5&quot;</td><td>null</td><td>null</td><td>null</td><td>null</td><td>null</td><td>null</td><td>null</td><td>&quot;2022&quot;</td><td>&quot;S&quot;</td><td>null</td><td>&quot;LT2VFXJK6KC8&quot;</td><td>&quot;NONE&quot;</td><td>&quot;037661445&quot;</td><td>&quot;UNITED STATES&quot;</td><td>&quot;NO&quot;</td><td>&quot;NO&quot;</td><td>&quot;NO&quot;</td><td>&quot;NO&quot;</td><td>&quot;NO&quot;</td><td>&quot;YES&quot;</td><td>&quot;NO&quot;</td><td>&quot;NO&quot;</td><td>&quot;NO&quot;</td><td>&quot;NO&quot;</td><td>&quot;NO&quot;</td><td>&quot;NO&quot;</td><td>&quot;NO&quot;</td><td>&quot;NO&quot;</td><td>&quot;NO&quot;</td><td>&quot;NO&quot;</td><td>&quot;NO&quot;</td><td>&quot;NO&quot;</td><td>&quot;NO&quot;</td><td>&quot;NO&quot;</td><td>&quot;NO&quot;</td><td>&quot;SMALL BUSINESS…</td><td>&quot;332999&quot;</td><td>&quot;80NSSC22P0096&quot;</td><td>0.0</td><td>1</td><td>&quot;NONE&quot;</td><td>&quot;F&quot;</td><td>&quot;P00002&quot;</td><td>2021-11-02 00:00:00</td><td>&quot;NATIONAL AERON…</td><td>&quot;NASA SHARED SE…</td><td>&quot;NATIONAL AERON…</td></tr><tr><td>&quot;YES&quot;</td><td>&quot;NO&quot;</td><td>&quot;NO&quot;</td><td>&quot;2022&quot;</td><td>&quot;1Z458&quot;</td><td>null</td><td>null</td><td>null</td><td>null</td><td>null</td><td>null</td><td>null</td><td>&quot;2022&quot;</td><td>&quot;P&quot;</td><td>null</td><td>&quot;FMDGKULLPMQ8&quot;</td><td>&quot;NONE&quot;</td><td>&quot;432289641&quot;</td><td>&quot;UNITED STATES&quot;</td><td>&quot;NO&quot;</td><td>&quot;NO&quot;</td><td>&quot;NO&quot;</td><td>&quot;NO&quot;</td><td>&quot;NO&quot;</td><td>&quot;YES&quot;</td><td>&quot;NO&quot;</td><td>&quot;NO&quot;</td><td>&quot;NO&quot;</td><td>&quot;NO&quot;</td><td>&quot;NO&quot;</td><td>&quot;NO&quot;</td><td>&quot;NO&quot;</td><td>&quot;NO&quot;</td><td>&quot;NO&quot;</td><td>&quot;YES&quot;</td><td>&quot;NO&quot;</td><td>&quot;NO&quot;</td><td>&quot;NO&quot;</td><td>&quot;NO&quot;</td><td>&quot;NO&quot;</td><td>&quot;OTHER THAN SMA…</td><td>&quot;332991&quot;</td><td>&quot;SPE4A622V326V&quot;</td><td>1212.0</td><td>3</td><td>&quot;NONE&quot;</td><td>&quot;F&quot;</td><td>&quot;0&quot;</td><td>2022-05-20 00:00:00</td><td>&quot;DEFENSE LOGIST…</td><td>&quot;DLA AVIATION&quot;</td><td>&quot;DEPT OF DEFENS…</td></tr><tr><td>&quot;YES&quot;</td><td>&quot;NO&quot;</td><td>&quot;NO&quot;</td><td>&quot;2022&quot;</td><td>&quot;3XDT5&quot;</td><td>null</td><td>null</td><td>null</td><td>null</td><td>null</td><td>null</td><td>null</td><td>&quot;2022&quot;</td><td>&quot;S&quot;</td><td>null</td><td>&quot;HAYFEH7AD428&quot;</td><td>&quot;NONE&quot;</td><td>&quot;070802409&quot;</td><td>&quot;UNITED STATES&quot;</td><td>&quot;NO&quot;</td><td>&quot;NO&quot;</td><td>&quot;NO&quot;</td><td>&quot;NO&quot;</td><td>&quot;NO&quot;</td><td>&quot;NO&quot;</td><td>&quot;YES&quot;</td><td>&quot;NO&quot;</td><td>&quot;NO&quot;</td><td>&quot;NO&quot;</td><td>&quot;NO&quot;</td><td>&quot;NO&quot;</td><td>&quot;NO&quot;</td><td>&quot;NO&quot;</td><td>&quot;NO&quot;</td><td>&quot;NO&quot;</td><td>&quot;NO&quot;</td><td>&quot;NO&quot;</td><td>&quot;NO&quot;</td><td>&quot;NO&quot;</td><td>&quot;YES&quot;</td><td>&quot;SMALL BUSINESS…</td><td>&quot;325414&quot;</td><td>&quot;75N93019P01042…</td><td>-28310.04</td><td>1</td><td>&quot;NONE&quot;</td><td>&quot;G&quot;</td><td>&quot;P00001&quot;</td><td>2022-02-15 00:00:00</td><td>&quot;NATIONAL INSTI…</td><td>&quot;NATIONAL INSTI…</td><td>&quot;HEALTH AND HUM…</td></tr><tr><td>&quot;YES&quot;</td><td>&quot;NO&quot;</td><td>&quot;NO&quot;</td><td>&quot;2022&quot;</td><td>&quot;6GD25&quot;</td><td>null</td><td>null</td><td>null</td><td>null</td><td>null</td><td>null</td><td>null</td><td>&quot;2022&quot;</td><td>&quot;P&quot;</td><td>null</td><td>&quot;VTMLFLRC7BE5&quot;</td><td>&quot;NONE&quot;</td><td>&quot;503222002&quot;</td><td>&quot;UNITED STATES&quot;</td><td>&quot;NO&quot;</td><td>&quot;NO&quot;</td><td>&quot;NO&quot;</td><td>&quot;NO&quot;</td><td>&quot;NO&quot;</td><td>&quot;YES&quot;</td><td>&quot;NO&quot;</td><td>&quot;NO&quot;</td><td>&quot;NO&quot;</td><td>&quot;NO&quot;</td><td>&quot;NO&quot;</td><td>&quot;NO&quot;</td><td>&quot;NO&quot;</td><td>&quot;NO&quot;</td><td>&quot;NO&quot;</td><td>&quot;NO&quot;</td><td>&quot;NO&quot;</td><td>&quot;NO&quot;</td><td>&quot;NO&quot;</td><td>&quot;NO&quot;</td><td>&quot;NO&quot;</td><td>&quot;SMALL BUSINESS…</td><td>&quot;446120&quot;</td><td>&quot;47QSWA22P0QG7&quot;</td><td>1794.6</td><td>1</td><td>&quot;NONE&quot;</td><td>&quot;F&quot;</td><td>&quot;P00001&quot;</td><td>2022-06-03 00:00:00</td><td>&quot;FEDERAL ACQUIS…</td><td>&quot;GSA/FAS SCIENT…</td><td>&quot;GENERAL SERVIC…</td></tr><tr><td>&quot;YES&quot;</td><td>&quot;NO&quot;</td><td>&quot;NO&quot;</td><td>&quot;2022&quot;</td><td>&quot;0RMF7&quot;</td><td>null</td><td>null</td><td>null</td><td>null</td><td>null</td><td>null</td><td>null</td><td>&quot;2022&quot;</td><td>&quot;P&quot;</td><td>null</td><td>&quot;ME1NKSLXV5T7&quot;</td><td>&quot;SBA&quot;</td><td>&quot;080541566&quot;</td><td>&quot;UNITED STATES&quot;</td><td>&quot;NO&quot;</td><td>&quot;NO&quot;</td><td>&quot;NO&quot;</td><td>&quot;NO&quot;</td><td>&quot;NO&quot;</td><td>&quot;YES&quot;</td><td>&quot;NO&quot;</td><td>&quot;NO&quot;</td><td>&quot;NO&quot;</td><td>&quot;NO&quot;</td><td>&quot;NO&quot;</td><td>&quot;NO&quot;</td><td>&quot;NO&quot;</td><td>&quot;NO&quot;</td><td>&quot;NO&quot;</td><td>&quot;YES&quot;</td><td>&quot;NO&quot;</td><td>&quot;NO&quot;</td><td>&quot;NO&quot;</td><td>&quot;NO&quot;</td><td>&quot;NO&quot;</td><td>&quot;SMALL BUSINESS…</td><td>&quot;333991&quot;</td><td>&quot;SPE4A722PB153&quot;</td><td>24850.0</td><td>3</td><td>&quot;NONE&quot;</td><td>&quot;F&quot;</td><td>&quot;0&quot;</td><td>2022-06-02 00:00:00</td><td>&quot;DEFENSE LOGIST…</td><td>&quot;DLA AVIATION&quot;</td><td>&quot;DEPT OF DEFENS…</td></tr><tr><td>&quot;YES&quot;</td><td>&quot;NO&quot;</td><td>&quot;YES&quot;</td><td>&quot;2022&quot;</td><td>&quot;8EQ30&quot;</td><td>null</td><td>null</td><td>null</td><td>null</td><td>null</td><td>null</td><td>null</td><td>&quot;2022&quot;</td><td>&quot;P&quot;</td><td>null</td><td>&quot;M1WNFFFKYSX6&quot;</td><td>&quot;NONE&quot;</td><td>&quot;787023751&quot;</td><td>&quot;UNITED STATES&quot;</td><td>&quot;NO&quot;</td><td>&quot;NO&quot;</td><td>&quot;YES&quot;</td><td>&quot;NO&quot;</td><td>&quot;NO&quot;</td><td>&quot;YES&quot;</td><td>&quot;NO&quot;</td><td>&quot;NO&quot;</td><td>&quot;NO&quot;</td><td>&quot;NO&quot;</td><td>&quot;NO&quot;</td><td>&quot;NO&quot;</td><td>&quot;NO&quot;</td><td>&quot;NO&quot;</td><td>&quot;NO&quot;</td><td>&quot;NO&quot;</td><td>&quot;NO&quot;</td><td>&quot;NO&quot;</td><td>&quot;NO&quot;</td><td>&quot;NO&quot;</td><td>&quot;YES&quot;</td><td>&quot;SMALL BUSINESS…</td><td>&quot;334418&quot;</td><td>&quot;N6893622P0203&quot;</td><td>27084.27</td><td>2</td><td>&quot;NONE&quot;</td><td>&quot;F&quot;</td><td>&quot;0&quot;</td><td>2022-04-20 00:00:00</td><td>&quot;DEPT OF THE NA…</td><td>&quot;NAVAL AIR WARF…</td><td>&quot;DEPT OF DEFENS…</td></tr></tbody></table></div>"
      ],
      "text/plain": [
       "shape: (20, 52)\n",
       "┌────────────┬────────────┬─────┬────────────┬───┬────────────┬────────────┬───────────┬───────────┐\n",
       "│ FOR_PROFIT ┆ DOT_CERTIF ┆ SDB ┆ FISCAL_YEA ┆ … ┆ DATE_SIGNE ┆ FUNDING_AG ┆ FUNDING_O ┆ FUNDING_D │\n",
       "│ _ORGANIZAT ┆ IED_DISADV ┆ --- ┆ R          ┆   ┆ D          ┆ ENCY_NAME  ┆ FFICE_NAM ┆ EPARTMENT │\n",
       "│ ION        ┆ _BUS       ┆ str ┆ ---        ┆   ┆ ---        ┆ ---        ┆ E         ┆ _NAME     │\n",
       "│ ---        ┆ ---        ┆     ┆ str        ┆   ┆ datetime[m ┆ str        ┆ ---       ┆ ---       │\n",
       "│ str        ┆ str        ┆     ┆            ┆   ┆ s]         ┆            ┆ str       ┆ str       │\n",
       "╞════════════╪════════════╪═════╪════════════╪═══╪════════════╪════════════╪═══════════╪═══════════╡\n",
       "│ YES        ┆ NO         ┆ NO  ┆ 2022       ┆ … ┆ 2022-08-05 ┆ DEFENSE    ┆ DLA       ┆ DEPT OF   │\n",
       "│            ┆            ┆     ┆            ┆   ┆ 00:00:00   ┆ LOGISTICS  ┆ ENERGY    ┆ DEFENSE   │\n",
       "│            ┆            ┆     ┆            ┆   ┆            ┆ AGENCY     ┆           ┆           │\n",
       "│ YES        ┆ NO         ┆ NO  ┆ 2022       ┆ … ┆ 2022-04-20 ┆ DEFENSE    ┆ DLA       ┆ DEPT OF   │\n",
       "│            ┆            ┆     ┆            ┆   ┆ 00:00:00   ┆ LOGISTICS  ┆ ENERGY    ┆ DEFENSE   │\n",
       "│            ┆            ┆     ┆            ┆   ┆            ┆ AGENCY     ┆           ┆           │\n",
       "│ YES        ┆ NO         ┆ NO  ┆ 2022       ┆ … ┆ 2022-02-23 ┆ DEFENSE    ┆ DLA TROOP ┆ DEPT OF   │\n",
       "│            ┆            ┆     ┆            ┆   ┆ 00:00:00   ┆ LOGISTICS  ┆ SUPPORT   ┆ DEFENSE   │\n",
       "│            ┆            ┆     ┆            ┆   ┆            ┆ AGENCY     ┆           ┆           │\n",
       "│ YES        ┆ NO         ┆ NO  ┆ 2022       ┆ … ┆ 2022-01-04 ┆ DEFENSE    ┆ DLA       ┆ DEPT OF   │\n",
       "│            ┆            ┆     ┆            ┆   ┆ 00:00:00   ┆ LOGISTICS  ┆ ENERGY    ┆ DEFENSE   │\n",
       "│            ┆            ┆     ┆            ┆   ┆            ┆ AGENCY     ┆           ┆           │\n",
       "│ YES        ┆ NO         ┆ NO  ┆ 2022       ┆ … ┆ 2022-02-23 ┆ DEFENSE    ┆ DLA       ┆ DEPT OF   │\n",
       "│            ┆            ┆     ┆            ┆   ┆ 00:00:00   ┆ LOGISTICS  ┆ ENERGY    ┆ DEFENSE   │\n",
       "│            ┆            ┆     ┆            ┆   ┆            ┆ AGENCY     ┆           ┆           │\n",
       "│ YES        ┆ NO         ┆ NO  ┆ 2022       ┆ … ┆ 2022-03-25 ┆ DEFENSE    ┆ DLA TROOP ┆ DEPT OF   │\n",
       "│            ┆            ┆     ┆            ┆   ┆ 00:00:00   ┆ LOGISTICS  ┆ SUPPORT   ┆ DEFENSE   │\n",
       "│            ┆            ┆     ┆            ┆   ┆            ┆ AGENCY     ┆           ┆           │\n",
       "│ YES        ┆ NO         ┆ NO  ┆ 2022       ┆ … ┆ 2022-03-02 ┆ DEFENSE    ┆ DLA       ┆ DEPT OF   │\n",
       "│            ┆            ┆     ┆            ┆   ┆ 00:00:00   ┆ LOGISTICS  ┆ AVIATION  ┆ DEFENSE   │\n",
       "│            ┆            ┆     ┆            ┆   ┆            ┆ AGENCY     ┆           ┆           │\n",
       "│ YES        ┆ NO         ┆ NO  ┆ 2022       ┆ … ┆ 2022-09-19 ┆ UNITED     ┆ VOA NEWS  ┆ UNITED    │\n",
       "│            ┆            ┆     ┆            ┆   ┆ 00:00:00   ┆ STATES     ┆ CENTER    ┆ STATES    │\n",
       "│            ┆            ┆     ┆            ┆   ┆            ┆ AGENCY FOR ┆ DIVISION  ┆ AGENCY    │\n",
       "│            ┆            ┆     ┆            ┆   ┆            ┆ GLOBAL …   ┆           ┆ FOR       │\n",
       "│            ┆            ┆     ┆            ┆   ┆            ┆            ┆           ┆ GLOBAL …  │\n",
       "│ YES        ┆ NO         ┆ YES ┆ 2022       ┆ … ┆ 2022-02-02 ┆ U.S. COAST ┆ USCG      ┆ HOMELAND  │\n",
       "│            ┆            ┆     ┆            ┆   ┆ 00:00:00   ┆ GUARD      ┆ FINANCE   ┆ SECURITY, │\n",
       "│            ┆            ┆     ┆            ┆   ┆            ┆            ┆ CENTER    ┆ DEPARTMEN │\n",
       "│            ┆            ┆     ┆            ┆   ┆            ┆            ┆           ┆ T OF      │\n",
       "│ YES        ┆ NO         ┆ NO  ┆ 2022       ┆ … ┆ 2021-11-09 ┆ NATIONAL   ┆ NASA      ┆ NATIONAL  │\n",
       "│            ┆            ┆     ┆            ┆   ┆ 00:00:00   ┆ AERONAUTIC ┆ GODDARD   ┆ AERONAUTI │\n",
       "│            ┆            ┆     ┆            ┆   ┆            ┆ S AND      ┆ SPACE     ┆ CS AND    │\n",
       "│            ┆            ┆     ┆            ┆   ┆            ┆ SPACE A…   ┆ FLIGHT    ┆ SPACE A…  │\n",
       "│            ┆            ┆     ┆            ┆   ┆            ┆            ┆ CENTER    ┆           │\n",
       "│ YES        ┆ NO         ┆ YES ┆ 2022       ┆ … ┆ 2022-02-11 ┆ EQUAL      ┆ EQUAL EMP ┆ EQUAL EMP │\n",
       "│            ┆            ┆     ┆            ┆   ┆ 00:00:00   ┆ EMPLOYMENT ┆ LOYMENT   ┆ LOYMENT   │\n",
       "│            ┆            ┆     ┆            ┆   ┆            ┆ OPPORTUNIT ┆ OPPORTUNI ┆ OPPORTUNI │\n",
       "│            ┆            ┆     ┆            ┆   ┆            ┆ Y COM…     ┆ TY COM…   ┆ TY COM…   │\n",
       "│ YES        ┆ NO         ┆ NO  ┆ 2022       ┆ … ┆ 2022-08-16 ┆ DEFENSE    ┆ DLA TROOP ┆ DEPT OF   │\n",
       "│            ┆            ┆     ┆            ┆   ┆ 00:00:00   ┆ LOGISTICS  ┆ SUPPORT   ┆ DEFENSE   │\n",
       "│            ┆            ┆     ┆            ┆   ┆            ┆ AGENCY     ┆           ┆           │\n",
       "│ YES        ┆ NO         ┆ NO  ┆ 2022       ┆ … ┆ 2021-11-09 ┆ DEPT OF    ┆ USA       ┆ DEPT OF   │\n",
       "│            ┆            ┆     ┆            ┆   ┆ 00:00:00   ┆ THE ARMY   ┆ PROGRAM   ┆ DEFENSE   │\n",
       "│            ┆            ┆     ┆            ┆   ┆            ┆            ┆ EXECUTIVE ┆           │\n",
       "│            ┆            ┆     ┆            ┆   ┆            ┆            ┆ OFFICE,   ┆           │\n",
       "│            ┆            ┆     ┆            ┆   ┆            ┆            ┆ AV…       ┆           │\n",
       "│ YES        ┆ NO         ┆ NO  ┆ 2022       ┆ … ┆ 2021-11-24 ┆ FEDERAL    ┆ FAA       ┆ TRANSPORT │\n",
       "│            ┆            ┆     ┆            ┆   ┆ 00:00:00   ┆ AVIATION   ┆           ┆ ATION,    │\n",
       "│            ┆            ┆     ┆            ┆   ┆            ┆ ADMINISTRA ┆           ┆ DEPARTMEN │\n",
       "│            ┆            ┆     ┆            ┆   ┆            ┆ TION       ┆           ┆ T OF      │\n",
       "│ YES        ┆ NO         ┆ NO  ┆ 2022       ┆ … ┆ 2021-11-02 ┆ NATIONAL   ┆ NASA      ┆ NATIONAL  │\n",
       "│            ┆            ┆     ┆            ┆   ┆ 00:00:00   ┆ AERONAUTIC ┆ SHARED    ┆ AERONAUTI │\n",
       "│            ┆            ┆     ┆            ┆   ┆            ┆ S AND      ┆ SERVICES  ┆ CS AND    │\n",
       "│            ┆            ┆     ┆            ┆   ┆            ┆ SPACE A…   ┆ CENTER    ┆ SPACE A…  │\n",
       "│ YES        ┆ NO         ┆ NO  ┆ 2022       ┆ … ┆ 2022-05-20 ┆ DEFENSE    ┆ DLA       ┆ DEPT OF   │\n",
       "│            ┆            ┆     ┆            ┆   ┆ 00:00:00   ┆ LOGISTICS  ┆ AVIATION  ┆ DEFENSE   │\n",
       "│            ┆            ┆     ┆            ┆   ┆            ┆ AGENCY     ┆           ┆           │\n",
       "│ YES        ┆ NO         ┆ NO  ┆ 2022       ┆ … ┆ 2022-02-15 ┆ NATIONAL   ┆ NATIONAL  ┆ HEALTH    │\n",
       "│            ┆            ┆     ┆            ┆   ┆ 00:00:00   ┆ INSTITUTES ┆ INSTITUTE ┆ AND HUMAN │\n",
       "│            ┆            ┆     ┆            ┆   ┆            ┆ OF HEALTH  ┆ S OF      ┆ SERVICES, │\n",
       "│            ┆            ┆     ┆            ┆   ┆            ┆            ┆ HEALTH    ┆ DEPAR…    │\n",
       "│            ┆            ┆     ┆            ┆   ┆            ┆            ┆ NI…       ┆           │\n",
       "│ YES        ┆ NO         ┆ NO  ┆ 2022       ┆ … ┆ 2022-06-03 ┆ FEDERAL    ┆ GSA/FAS   ┆ GENERAL   │\n",
       "│            ┆            ┆     ┆            ┆   ┆ 00:00:00   ┆ ACQUISITIO ┆ SCIENTFC, ┆ SERVICES  │\n",
       "│            ┆            ┆     ┆            ┆   ┆            ┆ N SERVICE  ┆ TEMP SVCS ┆ ADMINISTR │\n",
       "│            ┆            ┆     ┆            ┆   ┆            ┆            ┆ ,ADINT    ┆ ATION     │\n",
       "│ YES        ┆ NO         ┆ NO  ┆ 2022       ┆ … ┆ 2022-06-02 ┆ DEFENSE    ┆ DLA       ┆ DEPT OF   │\n",
       "│            ┆            ┆     ┆            ┆   ┆ 00:00:00   ┆ LOGISTICS  ┆ AVIATION  ┆ DEFENSE   │\n",
       "│            ┆            ┆     ┆            ┆   ┆            ┆ AGENCY     ┆           ┆           │\n",
       "│ YES        ┆ NO         ┆ YES ┆ 2022       ┆ … ┆ 2022-04-20 ┆ DEPT OF    ┆ NAVAL AIR ┆ DEPT OF   │\n",
       "│            ┆            ┆     ┆            ┆   ┆ 00:00:00   ┆ THE NAVY   ┆ WARFARE   ┆ DEFENSE   │\n",
       "│            ┆            ┆     ┆            ┆   ┆            ┆            ┆ CENTER    ┆           │\n",
       "└────────────┴────────────┴─────┴────────────┴───┴────────────┴────────────┴───────────┴───────────┘"
      ]
     },
     "execution_count": 8,
     "metadata": {},
     "output_type": "execute_result"
    }
   ],
   "source": [
    "data2022.head(20)"
   ]
  },
  {
   "cell_type": "markdown",
   "id": "85511aec-5a3a-4a35-b105-2afc7f9a57a6",
   "metadata": {},
   "source": [
    "### Combine Funding Agency with Funding Office for a column output"
   ]
  },
  {
   "cell_type": "code",
   "execution_count": 9,
   "id": "8dfb8611-d7ab-4574-928d-8d8bc65257dd",
   "metadata": {
    "tags": []
   },
   "outputs": [],
   "source": [
    "data2022 = data2022.with_columns(\n",
    "    FUNDING_OFFICE =pl.col(\"FUNDING_OFFICE_NAME\") + \" - \" + pl.col(\"FUNDING_AGENCY_NAME\"))"
   ]
  },
  {
   "cell_type": "markdown",
   "id": "41a61fdb-e964-476a-b437-1bdc0e4e1f17",
   "metadata": {},
   "source": [
    "### Ensure the code above executed successfully"
   ]
  },
  {
   "cell_type": "code",
   "execution_count": 10,
   "id": "6e7c608a-b472-4d5b-b4c8-195a21204b52",
   "metadata": {
    "tags": []
   },
   "outputs": [
    {
     "data": {
      "text/plain": [
       "'DLA ENERGY - DEFENSE LOGISTICS AGENCY'"
      ]
     },
     "execution_count": 10,
     "metadata": {},
     "output_type": "execute_result"
    }
   ],
   "source": [
    "list(data2022.select(\"FUNDING_OFFICE\"))[0][0]"
   ]
  },
  {
   "cell_type": "markdown",
   "id": "07c91fee-dd73-4517-8f16-6bd4fcca3dff",
   "metadata": {},
   "source": [
    "***Another way to create this column, though it would need to be added back to the dataframe separately***"
   ]
  },
  {
   "cell_type": "code",
   "execution_count": 11,
   "id": "69f15e71-da66-4032-a905-b3a83ea46add",
   "metadata": {
    "tags": []
   },
   "outputs": [],
   "source": [
    "FUNDING_OFFICE = data2022.select([pl.concat_str([\"FUNDING_OFFICE_NAME\",\"FUNDING_AGENCY_NAME\"], \n",
    "separator = ' - ').alias('FUNDING_OFFICE')]) "
   ]
  },
  {
   "cell_type": "markdown",
   "id": "16218037-9ce9-4748-9bef-ce6efce64a3e",
   "metadata": {},
   "source": [
    "***Ensure the code above executed successfully, would need to add more code for dataframe aggregation***"
   ]
  },
  {
   "cell_type": "code",
   "execution_count": 12,
   "id": "4c5bf197-35c8-41ff-b659-aea680551b0b",
   "metadata": {
    "tags": []
   },
   "outputs": [
    {
     "data": {
      "text/plain": [
       "'DLA ENERGY - DEFENSE LOGISTICS AGENCY'"
      ]
     },
     "execution_count": 12,
     "metadata": {},
     "output_type": "execute_result"
    }
   ],
   "source": [
    "list(FUNDING_OFFICE)[0][0]"
   ]
  },
  {
   "cell_type": "markdown",
   "id": "c69052d9-b8a8-4ba2-9a4f-d3c876c956d8",
   "metadata": {},
   "source": [
    "## Automate the process for all the necessary parquet files\n",
    "### Create a list of relevant years given the parquet file names (ex. *2022.parquet*)"
   ]
  },
  {
   "cell_type": "code",
   "execution_count": 13,
   "id": "10f895e8-011f-474f-9808-01549560ec6e",
   "metadata": {
    "tags": []
   },
   "outputs": [],
   "source": [
    "year_list = list(range(2009,2023))"
   ]
  },
  {
   "cell_type": "markdown",
   "id": "ba1af8af-c698-480a-9132-e676c4f32af2",
   "metadata": {},
   "source": [
    "### Change the year values from an integer type to a string type"
   ]
  },
  {
   "cell_type": "code",
   "execution_count": 14,
   "id": "b951b831-4568-4e2c-9b60-7cd17f45a131",
   "metadata": {
    "tags": []
   },
   "outputs": [],
   "source": [
    "year_list = [str(year) for year in year_list]"
   ]
  },
  {
   "cell_type": "code",
   "execution_count": 15,
   "id": "229e4ead-f3a8-4945-9165-41d9c9858cc5",
   "metadata": {
    "tags": []
   },
   "outputs": [
    {
     "data": {
      "text/plain": [
       "['2009',\n",
       " '2010',\n",
       " '2011',\n",
       " '2012',\n",
       " '2013',\n",
       " '2014',\n",
       " '2015',\n",
       " '2016',\n",
       " '2017',\n",
       " '2018',\n",
       " '2019',\n",
       " '2020',\n",
       " '2021',\n",
       " '2022']"
      ]
     },
     "execution_count": 15,
     "metadata": {},
     "output_type": "execute_result"
    }
   ],
   "source": [
    "year_list"
   ]
  },
  {
   "cell_type": "markdown",
   "id": "a0e4f734-d5c4-400f-b560-f2552a42c7eb",
   "metadata": {},
   "source": [
    "### Create an empty dictionary to store all of the dataframes"
   ]
  },
  {
   "cell_type": "code",
   "execution_count": 16,
   "id": "d1644efc-b65f-45fc-bc8d-19b2d264cadb",
   "metadata": {
    "tags": []
   },
   "outputs": [],
   "source": [
    "d = {}"
   ]
  },
  {
   "cell_type": "markdown",
   "id": "c1542f9a-d719-4fae-98e6-f7ad18806a5a",
   "metadata": {},
   "source": [
    "### Run a for loop using the year list to read in all the parquet files into polars and perform the necessary changes for our purposes"
   ]
  },
  {
   "cell_type": "code",
   "execution_count": 17,
   "id": "5ff75ab3-0465-4d5e-a341-47a45d135efe",
   "metadata": {
    "tags": []
   },
   "outputs": [],
   "source": [
    "for x in year_list:\n",
    "    file = x + \".parquet\"\n",
    "    #df_name = \"df_\" + x\n",
    "    d[x] = pl.read_parquet(file, columns = all_cols, n_rows=15)\n",
    "    d[x] = d[x].with_columns(pl.col(\"FISCAL_YEAR\").fill_null(int(x)))\n",
    "    d[x] = d[x].with_columns(\n",
    "    FUNDING_OFFICE = pl.col(\"FUNDING_OFFICE_NAME\") + \" - \" + pl.col(\"FUNDING_AGENCY_NAME\")\n",
    "        )"
   ]
  },
  {
   "cell_type": "markdown",
   "id": "140a0031-ba8f-4ffb-831e-1f8db02c53d8",
   "metadata": {},
   "source": [
    "### Make a list to hold all of the dataframes in the dictionary"
   ]
  },
  {
   "cell_type": "code",
   "execution_count": 18,
   "id": "6afa1f4d-4042-44e3-ab0d-d640afc023e1",
   "metadata": {
    "tags": []
   },
   "outputs": [],
   "source": [
    "list_df_all = list(d.values())"
   ]
  },
  {
   "cell_type": "markdown",
   "id": "ea9c14f8-1ed7-418a-95aa-03fc3d0166fc",
   "metadata": {},
   "source": [
    "### Stack all of the dataframes to form one large dataframe"
   ]
  },
  {
   "cell_type": "code",
   "execution_count": 19,
   "id": "056990f2-91b8-48c3-b041-4b525a6320a2",
   "metadata": {},
   "outputs": [],
   "source": [
    "concatenated_dataframe = pl.concat(list_df_all, how=\"vertical_relaxed\")"
   ]
  },
  {
   "cell_type": "markdown",
   "id": "9761f049-1c3a-4725-a5b1-687eab158fcf",
   "metadata": {},
   "source": [
    "### Test to ensure the above code worked"
   ]
  },
  {
   "cell_type": "code",
   "execution_count": 20,
   "id": "08de51a9-9025-453a-8fc1-33b93b141bd6",
   "metadata": {
    "tags": []
   },
   "outputs": [
    {
     "data": {
      "text/html": [
       "<div><style>\n",
       ".dataframe > thead > tr,\n",
       ".dataframe > tbody > tr {\n",
       "  text-align: right;\n",
       "  white-space: pre-wrap;\n",
       "}\n",
       "</style>\n",
       "<small>shape: (20, 53)</small><table border=\"1\" class=\"dataframe\"><thead><tr><th>FOR_PROFIT_ORGANIZATION</th><th>DOT_CERTIFIED_DISADV_BUS</th><th>SDB</th><th>FISCAL_YEAR</th><th>CAGE_CODE</th><th>IDV_CONTRACTING_AGENCY_NAME</th><th>IDV_EXTENT_COMPETED</th><th>IDV_EVALUATED_PREFERENCE</th><th>IDV_SIGNED_DATE</th><th>IDV_LAST_DATE_TO_ORDER</th><th>IDV_NUMBER_OF_OFFERS</th><th>PART8_OR_PART13</th><th>AWARD_FISCAL_YEAR</th><th>PRODUCT_OR_SERVICE_TYPE</th><th>TOTAL_ESTIMATED_ORDER_VALUE</th><th>VENDOR_UEI</th><th>TYPE_OF_SET_ASIDE</th><th>VENDOR_ADDRESS_ZIP_CODE</th><th>VENDOR_ADDRESS_COUNTRY_NAME</th><th>EDUCATIONAL_INSTITUTION_FLAG</th><th>FIRM_8A_FLAG</th><th>WOMEN_OWNED_FLAG</th><th>FIRM8A_JOINT_VENTURE</th><th>FEDERALLY_FUNDED_R_AND_D_CORP</th><th>CORP_ENTITY_NOT_TAX_EXEMPT</th><th>PARTNERSHIP_OR_LLP</th><th>SOLE_PROPREITORSHIP</th><th>SMALL_AGRICULTURAL_COOPERATIVE</th><th>INTERNATIONAL_ORGANIZATION</th><th>ARCHITECTURE_AND_ENGINEERING</th><th>COMMUNITY_CORP_OWNED_FIRM</th><th>CONSTRUCTION_FIRM</th><th>DOMESTIC_SHELTER</th><th>FOUNDATION</th><th>MANUFACTURER_OF_GOODS</th><th>RESEARCH_AND_DEVELOPMENT</th><th>SERVICE_PROVIDER</th><th>VETERINARY_HOSPITAL</th><th>HISPANIC_SERVICING_INSTITUTION</th><th>LIMITED_LIABILITY_CORPORATION</th><th>CO_BUS_SIZE_DETERMINATION</th><th>PRINCIPAL_NAICS_CODE</th><th>PIID</th><th>CURRENT_CONTRACT_VALUE</th><th>NUMBER_OF_OFFERS_RECEIVED</th><th>EVALUATED_PREFERENCE</th><th>EXTENT_COMPETED</th><th>MODIFICATION_NUMBER</th><th>DATE_SIGNED</th><th>FUNDING_AGENCY_NAME</th><th>FUNDING_OFFICE_NAME</th><th>FUNDING_DEPARTMENT_NAME</th><th>FUNDING_OFFICE</th></tr><tr><td>str</td><td>str</td><td>str</td><td>str</td><td>str</td><td>str</td><td>str</td><td>str</td><td>datetime[ms]</td><td>datetime[ms]</td><td>i32</td><td>str</td><td>str</td><td>str</td><td>f64</td><td>str</td><td>str</td><td>str</td><td>str</td><td>str</td><td>str</td><td>str</td><td>str</td><td>str</td><td>str</td><td>str</td><td>str</td><td>str</td><td>str</td><td>str</td><td>str</td><td>str</td><td>str</td><td>str</td><td>str</td><td>str</td><td>str</td><td>str</td><td>str</td><td>str</td><td>str</td><td>str</td><td>str</td><td>f64</td><td>i32</td><td>str</td><td>str</td><td>str</td><td>datetime[ms]</td><td>str</td><td>str</td><td>str</td><td>str</td></tr></thead><tbody><tr><td>&quot;YES&quot;</td><td>&quot;NO&quot;</td><td>&quot;NO&quot;</td><td>&quot;2009&quot;</td><td>null</td><td>null</td><td>null</td><td>null</td><td>null</td><td>null</td><td>null</td><td>null</td><td>null</td><td>null</td><td>null</td><td>null</td><td>&quot;SBA&quot;</td><td>&quot;277090000&quot;</td><td>&quot;UNITED STATES&quot;</td><td>&quot;NO&quot;</td><td>&quot;NO&quot;</td><td>&quot;NO&quot;</td><td>&quot;NO&quot;</td><td>&quot;NO&quot;</td><td>&quot;NO&quot;</td><td>&quot;NO&quot;</td><td>&quot;NO&quot;</td><td>&quot;NO&quot;</td><td>&quot;NO&quot;</td><td>&quot;NO&quot;</td><td>&quot;NO&quot;</td><td>&quot;NO&quot;</td><td>&quot;NO&quot;</td><td>&quot;NO&quot;</td><td>&quot;NO&quot;</td><td>&quot;NO&quot;</td><td>&quot;YES&quot;</td><td>&quot;NO&quot;</td><td>&quot;NO&quot;</td><td>&quot;NO&quot;</td><td>&quot;SMALL BUSINESS…</td><td>&quot;541511&quot;</td><td>&quot;M0014609PH017&quot;</td><td>null</td><td>null</td><td>&quot;NONE&quot;</td><td>&quot;D&quot;</td><td>&quot;P00001&quot;</td><td>2008-11-04 00:00:00</td><td>&quot;DEPT OF THE NA…</td><td>&quot;FLEET READINES…</td><td>&quot;DEPT OF DEFENS…</td><td>&quot;FLEET READINES…</td></tr><tr><td>&quot;YES&quot;</td><td>&quot;NO&quot;</td><td>&quot;NO&quot;</td><td>&quot;2009&quot;</td><td>null</td><td>null</td><td>null</td><td>null</td><td>null</td><td>null</td><td>null</td><td>null</td><td>null</td><td>null</td><td>null</td><td>null</td><td>&quot;NONE&quot;</td><td>&quot;105094013&quot;</td><td>&quot;UNITED STATES&quot;</td><td>&quot;NO&quot;</td><td>&quot;NO&quot;</td><td>&quot;NO&quot;</td><td>&quot;NO&quot;</td><td>&quot;NO&quot;</td><td>&quot;NO&quot;</td><td>&quot;NO&quot;</td><td>&quot;NO&quot;</td><td>&quot;NO&quot;</td><td>&quot;NO&quot;</td><td>&quot;NO&quot;</td><td>&quot;NO&quot;</td><td>&quot;NO&quot;</td><td>&quot;NO&quot;</td><td>&quot;NO&quot;</td><td>&quot;NO&quot;</td><td>&quot;NO&quot;</td><td>&quot;NO&quot;</td><td>&quot;NO&quot;</td><td>&quot;NO&quot;</td><td>&quot;NO&quot;</td><td>&quot;OTHER THAN SMA…</td><td>&quot;811219&quot;</td><td>&quot;M0014609PR012&quot;</td><td>null</td><td>null</td><td>&quot;NONE&quot;</td><td>&quot;B&quot;</td><td>&quot;0&quot;</td><td>2008-11-05 00:00:00</td><td>&quot;DEPT OF THE NA…</td><td>&quot;FLEET READINES…</td><td>&quot;DEPT OF DEFENS…</td><td>&quot;FLEET READINES…</td></tr><tr><td>&quot;YES&quot;</td><td>&quot;NO&quot;</td><td>&quot;NO&quot;</td><td>&quot;2009&quot;</td><td>null</td><td>null</td><td>null</td><td>null</td><td>null</td><td>null</td><td>null</td><td>null</td><td>null</td><td>null</td><td>null</td><td>null</td><td>&quot;NONE&quot;</td><td>&quot;105094013&quot;</td><td>&quot;UNITED STATES&quot;</td><td>&quot;NO&quot;</td><td>&quot;NO&quot;</td><td>&quot;NO&quot;</td><td>&quot;NO&quot;</td><td>&quot;NO&quot;</td><td>&quot;NO&quot;</td><td>&quot;NO&quot;</td><td>&quot;NO&quot;</td><td>&quot;NO&quot;</td><td>&quot;NO&quot;</td><td>&quot;NO&quot;</td><td>&quot;NO&quot;</td><td>&quot;NO&quot;</td><td>&quot;NO&quot;</td><td>&quot;NO&quot;</td><td>&quot;NO&quot;</td><td>&quot;NO&quot;</td><td>&quot;NO&quot;</td><td>&quot;NO&quot;</td><td>&quot;NO&quot;</td><td>&quot;NO&quot;</td><td>&quot;OTHER THAN SMA…</td><td>&quot;811219&quot;</td><td>&quot;M0014609PR012&quot;</td><td>null</td><td>null</td><td>&quot;NONE&quot;</td><td>&quot;B&quot;</td><td>&quot;P00001&quot;</td><td>2008-11-05 00:00:00</td><td>&quot;DEPT OF THE NA…</td><td>&quot;FLEET READINES…</td><td>&quot;DEPT OF DEFENS…</td><td>&quot;FLEET READINES…</td></tr><tr><td>&quot;YES&quot;</td><td>&quot;NO&quot;</td><td>&quot;NO&quot;</td><td>&quot;2009&quot;</td><td>null</td><td>null</td><td>null</td><td>null</td><td>null</td><td>null</td><td>null</td><td>null</td><td>null</td><td>null</td><td>null</td><td>null</td><td>&quot;NONE&quot;</td><td>&quot;300923403&quot;</td><td>&quot;UNITED STATES&quot;</td><td>&quot;NO&quot;</td><td>&quot;NO&quot;</td><td>&quot;NO&quot;</td><td>&quot;NO&quot;</td><td>&quot;NO&quot;</td><td>&quot;NO&quot;</td><td>&quot;NO&quot;</td><td>&quot;NO&quot;</td><td>&quot;NO&quot;</td><td>&quot;NO&quot;</td><td>&quot;NO&quot;</td><td>&quot;NO&quot;</td><td>&quot;NO&quot;</td><td>&quot;NO&quot;</td><td>&quot;NO&quot;</td><td>&quot;YES&quot;</td><td>&quot;YES&quot;</td><td>&quot;YES&quot;</td><td>&quot;NO&quot;</td><td>&quot;NO&quot;</td><td>&quot;NO&quot;</td><td>&quot;SMALL BUSINESS…</td><td>&quot;332913&quot;</td><td>&quot;M0014609PR027&quot;</td><td>null</td><td>null</td><td>&quot;NONE&quot;</td><td>&quot;C&quot;</td><td>&quot;0&quot;</td><td>2008-12-12 00:00:00</td><td>&quot;DEPT OF THE NA…</td><td>&quot;FLEET READINES…</td><td>&quot;DEPT OF DEFENS…</td><td>&quot;FLEET READINES…</td></tr><tr><td>&quot;YES&quot;</td><td>&quot;NO&quot;</td><td>&quot;NO&quot;</td><td>&quot;2009&quot;</td><td>null</td><td>null</td><td>null</td><td>null</td><td>null</td><td>null</td><td>null</td><td>null</td><td>null</td><td>null</td><td>null</td><td>null</td><td>&quot;NONE&quot;</td><td>&quot;312167720&quot;</td><td>&quot;UNITED STATES&quot;</td><td>&quot;NO&quot;</td><td>&quot;NO&quot;</td><td>&quot;YES&quot;</td><td>&quot;NO&quot;</td><td>&quot;NO&quot;</td><td>&quot;NO&quot;</td><td>&quot;NO&quot;</td><td>&quot;NO&quot;</td><td>&quot;NO&quot;</td><td>&quot;NO&quot;</td><td>&quot;NO&quot;</td><td>&quot;NO&quot;</td><td>&quot;NO&quot;</td><td>&quot;NO&quot;</td><td>&quot;NO&quot;</td><td>&quot;NO&quot;</td><td>&quot;NO&quot;</td><td>&quot;NO&quot;</td><td>&quot;NO&quot;</td><td>&quot;NO&quot;</td><td>&quot;NO&quot;</td><td>&quot;SMALL BUSINESS…</td><td>&quot;423990&quot;</td><td>&quot;M0014609PD063&quot;</td><td>null</td><td>null</td><td>&quot;NONE&quot;</td><td>&quot;A&quot;</td><td>&quot;0&quot;</td><td>2008-11-05 00:00:00</td><td>&quot;DEPT OF THE NA…</td><td>&quot;FLEET READINES…</td><td>&quot;DEPT OF DEFENS…</td><td>&quot;FLEET READINES…</td></tr><tr><td>&quot;NO&quot;</td><td>&quot;NO&quot;</td><td>&quot;NO&quot;</td><td>&quot;2009&quot;</td><td>null</td><td>null</td><td>null</td><td>null</td><td>null</td><td>null</td><td>null</td><td>null</td><td>null</td><td>null</td><td>null</td><td>null</td><td>&quot;NONE&quot;</td><td>&quot;310237535&quot;</td><td>&quot;UNITED STATES&quot;</td><td>&quot;NO&quot;</td><td>&quot;NO&quot;</td><td>&quot;NO&quot;</td><td>&quot;NO&quot;</td><td>&quot;NO&quot;</td><td>&quot;NO&quot;</td><td>&quot;NO&quot;</td><td>&quot;NO&quot;</td><td>&quot;NO&quot;</td><td>&quot;NO&quot;</td><td>&quot;NO&quot;</td><td>&quot;NO&quot;</td><td>&quot;NO&quot;</td><td>&quot;NO&quot;</td><td>&quot;NO&quot;</td><td>&quot;YES&quot;</td><td>&quot;NO&quot;</td><td>&quot;YES&quot;</td><td>&quot;NO&quot;</td><td>&quot;NO&quot;</td><td>&quot;NO&quot;</td><td>&quot;SMALL BUSINESS…</td><td>&quot;336413&quot;</td><td>&quot;M0014609VF099&quot;</td><td>null</td><td>null</td><td>&quot;NONE&quot;</td><td>&quot;B&quot;</td><td>&quot;0&quot;</td><td>2008-12-09 00:00:00</td><td>&quot;DEPT OF THE NA…</td><td>&quot;FLEET READINES…</td><td>&quot;DEPT OF DEFENS…</td><td>&quot;FLEET READINES…</td></tr><tr><td>&quot;NO&quot;</td><td>&quot;NO&quot;</td><td>&quot;NO&quot;</td><td>&quot;2009&quot;</td><td>null</td><td>null</td><td>null</td><td>null</td><td>null</td><td>null</td><td>null</td><td>null</td><td>null</td><td>null</td><td>null</td><td>null</td><td>&quot;NONE&quot;</td><td>&quot;310237535&quot;</td><td>&quot;UNITED STATES&quot;</td><td>&quot;NO&quot;</td><td>&quot;NO&quot;</td><td>&quot;NO&quot;</td><td>&quot;NO&quot;</td><td>&quot;NO&quot;</td><td>&quot;NO&quot;</td><td>&quot;NO&quot;</td><td>&quot;NO&quot;</td><td>&quot;NO&quot;</td><td>&quot;NO&quot;</td><td>&quot;NO&quot;</td><td>&quot;NO&quot;</td><td>&quot;NO&quot;</td><td>&quot;NO&quot;</td><td>&quot;NO&quot;</td><td>&quot;YES&quot;</td><td>&quot;NO&quot;</td><td>&quot;YES&quot;</td><td>&quot;NO&quot;</td><td>&quot;NO&quot;</td><td>&quot;NO&quot;</td><td>&quot;SMALL BUSINESS…</td><td>&quot;423860&quot;</td><td>&quot;M0014609VW005&quot;</td><td>null</td><td>null</td><td>&quot;NONE&quot;</td><td>&quot;B&quot;</td><td>&quot;0&quot;</td><td>2008-10-15 00:00:00</td><td>&quot;DEPT OF THE NA…</td><td>&quot;FLEET READINES…</td><td>&quot;DEPT OF DEFENS…</td><td>&quot;FLEET READINES…</td></tr><tr><td>&quot;YES&quot;</td><td>&quot;NO&quot;</td><td>&quot;NO&quot;</td><td>&quot;2009&quot;</td><td>null</td><td>null</td><td>null</td><td>null</td><td>null</td><td>null</td><td>null</td><td>null</td><td>null</td><td>null</td><td>null</td><td>null</td><td>&quot;SBA&quot;</td><td>&quot;284458788&quot;</td><td>&quot;UNITED STATES&quot;</td><td>&quot;NO&quot;</td><td>&quot;NO&quot;</td><td>&quot;NO&quot;</td><td>&quot;NO&quot;</td><td>&quot;NO&quot;</td><td>&quot;NO&quot;</td><td>&quot;NO&quot;</td><td>&quot;NO&quot;</td><td>&quot;NO&quot;</td><td>&quot;NO&quot;</td><td>&quot;NO&quot;</td><td>&quot;NO&quot;</td><td>&quot;NO&quot;</td><td>&quot;NO&quot;</td><td>&quot;NO&quot;</td><td>&quot;YES&quot;</td><td>&quot;NO&quot;</td><td>&quot;YES&quot;</td><td>&quot;NO&quot;</td><td>&quot;NO&quot;</td><td>&quot;NO&quot;</td><td>&quot;SMALL BUSINESS…</td><td>&quot;423510&quot;</td><td>&quot;M0014609PD043&quot;</td><td>null</td><td>null</td><td>&quot;NONE&quot;</td><td>&quot;D&quot;</td><td>&quot;0&quot;</td><td>2008-10-27 00:00:00</td><td>&quot;DEPT OF THE NA…</td><td>&quot;FLEET READINES…</td><td>&quot;DEPT OF DEFENS…</td><td>&quot;FLEET READINES…</td></tr><tr><td>&quot;YES&quot;</td><td>&quot;NO&quot;</td><td>&quot;NO&quot;</td><td>&quot;2009&quot;</td><td>null</td><td>null</td><td>null</td><td>null</td><td>null</td><td>null</td><td>null</td><td>null</td><td>null</td><td>null</td><td>null</td><td>null</td><td>&quot;SBA&quot;</td><td>&quot;278035701&quot;</td><td>&quot;UNITED STATES&quot;</td><td>&quot;NO&quot;</td><td>&quot;NO&quot;</td><td>&quot;NO&quot;</td><td>&quot;NO&quot;</td><td>&quot;NO&quot;</td><td>&quot;NO&quot;</td><td>&quot;NO&quot;</td><td>&quot;NO&quot;</td><td>&quot;NO&quot;</td><td>&quot;NO&quot;</td><td>&quot;NO&quot;</td><td>&quot;NO&quot;</td><td>&quot;NO&quot;</td><td>&quot;NO&quot;</td><td>&quot;NO&quot;</td><td>&quot;NO&quot;</td><td>&quot;NO&quot;</td><td>&quot;YES&quot;</td><td>&quot;NO&quot;</td><td>&quot;NO&quot;</td><td>&quot;NO&quot;</td><td>&quot;SMALL BUSINESS…</td><td>&quot;811118&quot;</td><td>&quot;0001&quot;</td><td>null</td><td>null</td><td>&quot;NONE&quot;</td><td>&quot;D&quot;</td><td>&quot;0&quot;</td><td>2008-12-04 00:00:00</td><td>&quot;DEPT OF THE NA…</td><td>&quot;FLEET READINES…</td><td>&quot;DEPT OF DEFENS…</td><td>&quot;FLEET READINES…</td></tr><tr><td>&quot;YES&quot;</td><td>&quot;NO&quot;</td><td>&quot;NO&quot;</td><td>&quot;2009&quot;</td><td>null</td><td>null</td><td>null</td><td>null</td><td>null</td><td>null</td><td>null</td><td>null</td><td>null</td><td>null</td><td>null</td><td>null</td><td>&quot;NONE&quot;</td><td>&quot;285603227&quot;</td><td>&quot;UNITED STATES&quot;</td><td>&quot;NO&quot;</td><td>&quot;NO&quot;</td><td>&quot;YES&quot;</td><td>&quot;NO&quot;</td><td>&quot;NO&quot;</td><td>&quot;NO&quot;</td><td>&quot;NO&quot;</td><td>&quot;NO&quot;</td><td>&quot;NO&quot;</td><td>&quot;NO&quot;</td><td>&quot;NO&quot;</td><td>&quot;NO&quot;</td><td>&quot;NO&quot;</td><td>&quot;NO&quot;</td><td>&quot;NO&quot;</td><td>&quot;YES&quot;</td><td>&quot;NO&quot;</td><td>&quot;NO&quot;</td><td>&quot;NO&quot;</td><td>&quot;NO&quot;</td><td>&quot;NO&quot;</td><td>&quot;SMALL BUSINESS…</td><td>&quot;332312&quot;</td><td>&quot;M0014609PB004&quot;</td><td>null</td><td>null</td><td>&quot;NONE&quot;</td><td>&quot;A&quot;</td><td>&quot;0&quot;</td><td>2008-11-07 00:00:00</td><td>&quot;DEPT OF THE NA…</td><td>&quot;FLEET READINES…</td><td>&quot;DEPT OF DEFENS…</td><td>&quot;FLEET READINES…</td></tr><tr><td>&quot;NO&quot;</td><td>&quot;NO&quot;</td><td>&quot;NO&quot;</td><td>&quot;2009&quot;</td><td>null</td><td>null</td><td>null</td><td>null</td><td>null</td><td>null</td><td>null</td><td>null</td><td>null</td><td>null</td><td>null</td><td>null</td><td>&quot;NONE&quot;</td><td>&quot;28560&quot;</td><td>&quot;UNITED STATES&quot;</td><td>&quot;NO&quot;</td><td>&quot;NO&quot;</td><td>&quot;YES&quot;</td><td>&quot;NO&quot;</td><td>&quot;NO&quot;</td><td>&quot;NO&quot;</td><td>&quot;NO&quot;</td><td>&quot;NO&quot;</td><td>&quot;NO&quot;</td><td>&quot;NO&quot;</td><td>&quot;NO&quot;</td><td>&quot;NO&quot;</td><td>&quot;NO&quot;</td><td>&quot;NO&quot;</td><td>&quot;NO&quot;</td><td>&quot;NO&quot;</td><td>&quot;NO&quot;</td><td>&quot;NO&quot;</td><td>&quot;NO&quot;</td><td>&quot;NO&quot;</td><td>&quot;NO&quot;</td><td>&quot;SMALL BUSINESS…</td><td>&quot;561499&quot;</td><td>&quot;M0014605PX093&quot;</td><td>null</td><td>null</td><td>&quot;NONE&quot;</td><td>&quot;B&quot;</td><td>&quot;P00001&quot;</td><td>2008-12-05 00:00:00</td><td>&quot;DEPT OF THE NA…</td><td>&quot;FLEET READINES…</td><td>&quot;DEPT OF DEFENS…</td><td>&quot;FLEET READINES…</td></tr><tr><td>&quot;NO&quot;</td><td>&quot;NO&quot;</td><td>&quot;NO&quot;</td><td>&quot;2009&quot;</td><td>null</td><td>null</td><td>null</td><td>null</td><td>null</td><td>null</td><td>null</td><td>null</td><td>null</td><td>null</td><td>null</td><td>null</td><td>&quot;NONE&quot;</td><td>&quot;27104&quot;</td><td>&quot;UNITED STATES&quot;</td><td>&quot;NO&quot;</td><td>&quot;NO&quot;</td><td>&quot;NO&quot;</td><td>&quot;NO&quot;</td><td>&quot;NO&quot;</td><td>&quot;NO&quot;</td><td>&quot;NO&quot;</td><td>&quot;NO&quot;</td><td>&quot;NO&quot;</td><td>&quot;NO&quot;</td><td>&quot;NO&quot;</td><td>&quot;NO&quot;</td><td>&quot;NO&quot;</td><td>&quot;NO&quot;</td><td>&quot;NO&quot;</td><td>&quot;NO&quot;</td><td>&quot;NO&quot;</td><td>&quot;NO&quot;</td><td>&quot;NO&quot;</td><td>&quot;NO&quot;</td><td>&quot;NO&quot;</td><td>&quot;SMALL BUSINESS…</td><td>&quot;541330&quot;</td><td>&quot;M0014605PX129&quot;</td><td>null</td><td>null</td><td>&quot;NONE&quot;</td><td>&quot;B&quot;</td><td>&quot;P00001&quot;</td><td>2008-11-03 00:00:00</td><td>&quot;DEPT OF THE NA…</td><td>&quot;FLEET READINES…</td><td>&quot;DEPT OF DEFENS…</td><td>&quot;FLEET READINES…</td></tr><tr><td>&quot;NO&quot;</td><td>&quot;NO&quot;</td><td>&quot;NO&quot;</td><td>&quot;2009&quot;</td><td>null</td><td>null</td><td>null</td><td>null</td><td>null</td><td>null</td><td>null</td><td>null</td><td>null</td><td>null</td><td>null</td><td>null</td><td>&quot;NONE&quot;</td><td>&quot;271043828&quot;</td><td>&quot;UNITED STATES&quot;</td><td>&quot;NO&quot;</td><td>&quot;NO&quot;</td><td>&quot;NO&quot;</td><td>&quot;NO&quot;</td><td>&quot;NO&quot;</td><td>&quot;NO&quot;</td><td>&quot;NO&quot;</td><td>&quot;NO&quot;</td><td>&quot;NO&quot;</td><td>&quot;NO&quot;</td><td>&quot;YES&quot;</td><td>&quot;NO&quot;</td><td>&quot;NO&quot;</td><td>&quot;NO&quot;</td><td>&quot;NO&quot;</td><td>&quot;NO&quot;</td><td>&quot;NO&quot;</td><td>&quot;NO&quot;</td><td>&quot;NO&quot;</td><td>&quot;NO&quot;</td><td>&quot;NO&quot;</td><td>&quot;OTHER THAN SMA…</td><td>&quot;811219&quot;</td><td>&quot;M0014609PX001&quot;</td><td>null</td><td>null</td><td>&quot;NONE&quot;</td><td>&quot;C&quot;</td><td>&quot;0&quot;</td><td>2008-10-02 00:00:00</td><td>&quot;DEPT OF THE NA…</td><td>&quot;FLEET READINES…</td><td>&quot;DEPT OF DEFENS…</td><td>&quot;FLEET READINES…</td></tr><tr><td>&quot;YES&quot;</td><td>&quot;NO&quot;</td><td>&quot;NO&quot;</td><td>&quot;2009&quot;</td><td>null</td><td>null</td><td>null</td><td>null</td><td>null</td><td>null</td><td>null</td><td>null</td><td>null</td><td>null</td><td>null</td><td>null</td><td>&quot;NONE&quot;</td><td>&quot;234553633&quot;</td><td>&quot;UNITED STATES&quot;</td><td>&quot;NO&quot;</td><td>&quot;NO&quot;</td><td>&quot;NO&quot;</td><td>&quot;NO&quot;</td><td>&quot;NO&quot;</td><td>&quot;NO&quot;</td><td>&quot;NO&quot;</td><td>&quot;NO&quot;</td><td>&quot;NO&quot;</td><td>&quot;NO&quot;</td><td>&quot;NO&quot;</td><td>&quot;NO&quot;</td><td>&quot;NO&quot;</td><td>&quot;NO&quot;</td><td>&quot;NO&quot;</td><td>&quot;NO&quot;</td><td>&quot;NO&quot;</td><td>&quot;YES&quot;</td><td>&quot;NO&quot;</td><td>&quot;NO&quot;</td><td>&quot;NO&quot;</td><td>&quot;SMALL BUSINESS…</td><td>&quot;336413&quot;</td><td>&quot;M0014609VJ033&quot;</td><td>null</td><td>null</td><td>&quot;NONE&quot;</td><td>&quot;B&quot;</td><td>&quot;P00001&quot;</td><td>2008-10-28 00:00:00</td><td>&quot;DEPT OF THE NA…</td><td>&quot;FLEET READINES…</td><td>&quot;DEPT OF DEFENS…</td><td>&quot;FLEET READINES…</td></tr><tr><td>&quot;NO&quot;</td><td>&quot;NO&quot;</td><td>&quot;NO&quot;</td><td>&quot;2009&quot;</td><td>null</td><td>null</td><td>null</td><td>null</td><td>null</td><td>null</td><td>null</td><td>null</td><td>null</td><td>null</td><td>null</td><td>null</td><td>&quot;NONE&quot;</td><td>&quot;234626552&quot;</td><td>&quot;UNITED STATES&quot;</td><td>&quot;NO&quot;</td><td>&quot;NO&quot;</td><td>&quot;NO&quot;</td><td>&quot;NO&quot;</td><td>&quot;NO&quot;</td><td>&quot;NO&quot;</td><td>&quot;NO&quot;</td><td>&quot;NO&quot;</td><td>&quot;NO&quot;</td><td>&quot;NO&quot;</td><td>&quot;NO&quot;</td><td>&quot;NO&quot;</td><td>&quot;NO&quot;</td><td>&quot;NO&quot;</td><td>&quot;NO&quot;</td><td>&quot;NO&quot;</td><td>&quot;NO&quot;</td><td>&quot;NO&quot;</td><td>&quot;NO&quot;</td><td>&quot;NO&quot;</td><td>&quot;NO&quot;</td><td>&quot;SMALL BUSINESS…</td><td>&quot;423840&quot;</td><td>&quot;M0014607PX085&quot;</td><td>null</td><td>null</td><td>&quot;NONE&quot;</td><td>&quot;A&quot;</td><td>&quot;P00004&quot;</td><td>2008-12-01 00:00:00</td><td>&quot;DEPT OF THE NA…</td><td>&quot;FLEET READINES…</td><td>&quot;DEPT OF DEFENS…</td><td>&quot;FLEET READINES…</td></tr><tr><td>&quot;NO&quot;</td><td>&quot;NO&quot;</td><td>&quot;NO&quot;</td><td>&quot;2010&quot;</td><td>null</td><td>null</td><td>null</td><td>null</td><td>null</td><td>null</td><td>null</td><td>null</td><td>null</td><td>null</td><td>null</td><td>null</td><td>&quot;NONE&quot;</td><td>&quot;600856726&quot;</td><td>&quot;UNITED STATES&quot;</td><td>&quot;NO&quot;</td><td>&quot;NO&quot;</td><td>&quot;NO&quot;</td><td>&quot;NO&quot;</td><td>&quot;NO&quot;</td><td>&quot;NO&quot;</td><td>&quot;NO&quot;</td><td>&quot;NO&quot;</td><td>&quot;NO&quot;</td><td>&quot;NO&quot;</td><td>&quot;NO&quot;</td><td>&quot;NO&quot;</td><td>&quot;NO&quot;</td><td>&quot;NO&quot;</td><td>&quot;NO&quot;</td><td>&quot;NO&quot;</td><td>&quot;NO&quot;</td><td>&quot;NO&quot;</td><td>&quot;NO&quot;</td><td>&quot;NO&quot;</td><td>&quot;NO&quot;</td><td>&quot;OTHER THAN SMA…</td><td>&quot;423450&quot;</td><td>&quot;KE64&quot;</td><td>null</td><td>null</td><td>&quot;NONE&quot;</td><td>&quot;A&quot;</td><td>&quot;0&quot;</td><td>2009-11-24 00:00:00</td><td>&quot;DEFENSE LOGIST…</td><td>&quot;DLA TROOP SUPP…</td><td>&quot;DEPT OF DEFENS…</td><td>&quot;DLA TROOP SUPP…</td></tr><tr><td>&quot;NO&quot;</td><td>&quot;NO&quot;</td><td>&quot;NO&quot;</td><td>&quot;2010&quot;</td><td>null</td><td>null</td><td>null</td><td>null</td><td>null</td><td>null</td><td>null</td><td>null</td><td>null</td><td>null</td><td>null</td><td>null</td><td>&quot;NONE&quot;</td><td>&quot;600856726&quot;</td><td>&quot;UNITED STATES&quot;</td><td>&quot;NO&quot;</td><td>&quot;NO&quot;</td><td>&quot;NO&quot;</td><td>&quot;NO&quot;</td><td>&quot;NO&quot;</td><td>&quot;NO&quot;</td><td>&quot;NO&quot;</td><td>&quot;NO&quot;</td><td>&quot;NO&quot;</td><td>&quot;NO&quot;</td><td>&quot;NO&quot;</td><td>&quot;NO&quot;</td><td>&quot;NO&quot;</td><td>&quot;NO&quot;</td><td>&quot;NO&quot;</td><td>&quot;NO&quot;</td><td>&quot;NO&quot;</td><td>&quot;NO&quot;</td><td>&quot;NO&quot;</td><td>&quot;NO&quot;</td><td>&quot;NO&quot;</td><td>&quot;OTHER THAN SMA…</td><td>&quot;423450&quot;</td><td>&quot;KE66&quot;</td><td>null</td><td>null</td><td>&quot;NONE&quot;</td><td>&quot;A&quot;</td><td>&quot;0&quot;</td><td>2009-11-24 00:00:00</td><td>&quot;DEFENSE LOGIST…</td><td>&quot;DLA TROOP SUPP…</td><td>&quot;DEPT OF DEFENS…</td><td>&quot;DLA TROOP SUPP…</td></tr><tr><td>&quot;NO&quot;</td><td>&quot;NO&quot;</td><td>&quot;NO&quot;</td><td>&quot;2010&quot;</td><td>null</td><td>null</td><td>null</td><td>null</td><td>null</td><td>null</td><td>null</td><td>null</td><td>null</td><td>null</td><td>null</td><td>null</td><td>&quot;NONE&quot;</td><td>&quot;600856726&quot;</td><td>&quot;UNITED STATES&quot;</td><td>&quot;NO&quot;</td><td>&quot;NO&quot;</td><td>&quot;NO&quot;</td><td>&quot;NO&quot;</td><td>&quot;NO&quot;</td><td>&quot;NO&quot;</td><td>&quot;NO&quot;</td><td>&quot;NO&quot;</td><td>&quot;NO&quot;</td><td>&quot;NO&quot;</td><td>&quot;NO&quot;</td><td>&quot;NO&quot;</td><td>&quot;NO&quot;</td><td>&quot;NO&quot;</td><td>&quot;NO&quot;</td><td>&quot;NO&quot;</td><td>&quot;NO&quot;</td><td>&quot;NO&quot;</td><td>&quot;NO&quot;</td><td>&quot;NO&quot;</td><td>&quot;NO&quot;</td><td>&quot;OTHER THAN SMA…</td><td>&quot;423450&quot;</td><td>&quot;EU72&quot;</td><td>null</td><td>null</td><td>&quot;NONE&quot;</td><td>&quot;A&quot;</td><td>&quot;0&quot;</td><td>2009-11-25 00:00:00</td><td>&quot;DEFENSE LOGIST…</td><td>&quot;DLA TROOP SUPP…</td><td>&quot;DEPT OF DEFENS…</td><td>&quot;DLA TROOP SUPP…</td></tr><tr><td>&quot;NO&quot;</td><td>&quot;NO&quot;</td><td>&quot;NO&quot;</td><td>&quot;2010&quot;</td><td>null</td><td>null</td><td>null</td><td>null</td><td>null</td><td>null</td><td>null</td><td>null</td><td>null</td><td>null</td><td>null</td><td>null</td><td>&quot;NONE&quot;</td><td>&quot;600856726&quot;</td><td>&quot;UNITED STATES&quot;</td><td>&quot;NO&quot;</td><td>&quot;NO&quot;</td><td>&quot;NO&quot;</td><td>&quot;NO&quot;</td><td>&quot;NO&quot;</td><td>&quot;NO&quot;</td><td>&quot;NO&quot;</td><td>&quot;NO&quot;</td><td>&quot;NO&quot;</td><td>&quot;NO&quot;</td><td>&quot;NO&quot;</td><td>&quot;NO&quot;</td><td>&quot;NO&quot;</td><td>&quot;NO&quot;</td><td>&quot;NO&quot;</td><td>&quot;NO&quot;</td><td>&quot;NO&quot;</td><td>&quot;NO&quot;</td><td>&quot;NO&quot;</td><td>&quot;NO&quot;</td><td>&quot;NO&quot;</td><td>&quot;OTHER THAN SMA…</td><td>&quot;423450&quot;</td><td>&quot;B538&quot;</td><td>null</td><td>null</td><td>&quot;NONE&quot;</td><td>&quot;A&quot;</td><td>&quot;0&quot;</td><td>2009-12-18 00:00:00</td><td>&quot;DEFENSE LOGIST…</td><td>&quot;DLA TROOP SUPP…</td><td>&quot;DEPT OF DEFENS…</td><td>&quot;DLA TROOP SUPP…</td></tr><tr><td>&quot;NO&quot;</td><td>&quot;NO&quot;</td><td>&quot;NO&quot;</td><td>&quot;2010&quot;</td><td>null</td><td>null</td><td>null</td><td>null</td><td>null</td><td>null</td><td>null</td><td>null</td><td>null</td><td>null</td><td>null</td><td>null</td><td>&quot;NONE&quot;</td><td>&quot;600856726&quot;</td><td>&quot;UNITED STATES&quot;</td><td>&quot;NO&quot;</td><td>&quot;NO&quot;</td><td>&quot;NO&quot;</td><td>&quot;NO&quot;</td><td>&quot;NO&quot;</td><td>&quot;NO&quot;</td><td>&quot;NO&quot;</td><td>&quot;NO&quot;</td><td>&quot;NO&quot;</td><td>&quot;NO&quot;</td><td>&quot;NO&quot;</td><td>&quot;NO&quot;</td><td>&quot;NO&quot;</td><td>&quot;NO&quot;</td><td>&quot;NO&quot;</td><td>&quot;NO&quot;</td><td>&quot;NO&quot;</td><td>&quot;NO&quot;</td><td>&quot;NO&quot;</td><td>&quot;NO&quot;</td><td>&quot;NO&quot;</td><td>&quot;OTHER THAN SMA…</td><td>&quot;423450&quot;</td><td>&quot;B541&quot;</td><td>null</td><td>null</td><td>&quot;NONE&quot;</td><td>&quot;A&quot;</td><td>&quot;0&quot;</td><td>2009-12-18 00:00:00</td><td>&quot;DEFENSE LOGIST…</td><td>&quot;DLA TROOP SUPP…</td><td>&quot;DEPT OF DEFENS…</td><td>&quot;DLA TROOP SUPP…</td></tr></tbody></table></div>"
      ],
      "text/plain": [
       "shape: (20, 53)\n",
       "┌────────────┬────────────┬─────┬────────────┬───┬────────────┬────────────┬───────────┬───────────┐\n",
       "│ FOR_PROFIT ┆ DOT_CERTIF ┆ SDB ┆ FISCAL_YEA ┆ … ┆ FUNDING_AG ┆ FUNDING_OF ┆ FUNDING_D ┆ FUNDING_O │\n",
       "│ _ORGANIZAT ┆ IED_DISADV ┆ --- ┆ R          ┆   ┆ ENCY_NAME  ┆ FICE_NAME  ┆ EPARTMENT ┆ FFICE     │\n",
       "│ ION        ┆ _BUS       ┆ str ┆ ---        ┆   ┆ ---        ┆ ---        ┆ _NAME     ┆ ---       │\n",
       "│ ---        ┆ ---        ┆     ┆ str        ┆   ┆ str        ┆ str        ┆ ---       ┆ str       │\n",
       "│ str        ┆ str        ┆     ┆            ┆   ┆            ┆            ┆ str       ┆           │\n",
       "╞════════════╪════════════╪═════╪════════════╪═══╪════════════╪════════════╪═══════════╪═══════════╡\n",
       "│ YES        ┆ NO         ┆ NO  ┆ 2009       ┆ … ┆ DEPT OF    ┆ FLEET      ┆ DEPT OF   ┆ FLEET     │\n",
       "│            ┆            ┆     ┆            ┆   ┆ THE NAVY   ┆ READINESS  ┆ DEFENSE   ┆ READINESS │\n",
       "│            ┆            ┆     ┆            ┆   ┆            ┆ CENTER     ┆           ┆ CENTER    │\n",
       "│            ┆            ┆     ┆            ┆   ┆            ┆ EAST       ┆           ┆ EAST -    │\n",
       "│            ┆            ┆     ┆            ┆   ┆            ┆            ┆           ┆ DE…       │\n",
       "│ YES        ┆ NO         ┆ NO  ┆ 2009       ┆ … ┆ DEPT OF    ┆ FLEET      ┆ DEPT OF   ┆ FLEET     │\n",
       "│            ┆            ┆     ┆            ┆   ┆ THE NAVY   ┆ READINESS  ┆ DEFENSE   ┆ READINESS │\n",
       "│            ┆            ┆     ┆            ┆   ┆            ┆ CENTER     ┆           ┆ CENTER    │\n",
       "│            ┆            ┆     ┆            ┆   ┆            ┆ EAST       ┆           ┆ EAST -    │\n",
       "│            ┆            ┆     ┆            ┆   ┆            ┆            ┆           ┆ DE…       │\n",
       "│ YES        ┆ NO         ┆ NO  ┆ 2009       ┆ … ┆ DEPT OF    ┆ FLEET      ┆ DEPT OF   ┆ FLEET     │\n",
       "│            ┆            ┆     ┆            ┆   ┆ THE NAVY   ┆ READINESS  ┆ DEFENSE   ┆ READINESS │\n",
       "│            ┆            ┆     ┆            ┆   ┆            ┆ CENTER     ┆           ┆ CENTER    │\n",
       "│            ┆            ┆     ┆            ┆   ┆            ┆ EAST       ┆           ┆ EAST -    │\n",
       "│            ┆            ┆     ┆            ┆   ┆            ┆            ┆           ┆ DE…       │\n",
       "│ YES        ┆ NO         ┆ NO  ┆ 2009       ┆ … ┆ DEPT OF    ┆ FLEET      ┆ DEPT OF   ┆ FLEET     │\n",
       "│            ┆            ┆     ┆            ┆   ┆ THE NAVY   ┆ READINESS  ┆ DEFENSE   ┆ READINESS │\n",
       "│            ┆            ┆     ┆            ┆   ┆            ┆ CENTER     ┆           ┆ CENTER    │\n",
       "│            ┆            ┆     ┆            ┆   ┆            ┆ EAST       ┆           ┆ EAST -    │\n",
       "│            ┆            ┆     ┆            ┆   ┆            ┆            ┆           ┆ DE…       │\n",
       "│ YES        ┆ NO         ┆ NO  ┆ 2009       ┆ … ┆ DEPT OF    ┆ FLEET      ┆ DEPT OF   ┆ FLEET     │\n",
       "│            ┆            ┆     ┆            ┆   ┆ THE NAVY   ┆ READINESS  ┆ DEFENSE   ┆ READINESS │\n",
       "│            ┆            ┆     ┆            ┆   ┆            ┆ CENTER     ┆           ┆ CENTER    │\n",
       "│            ┆            ┆     ┆            ┆   ┆            ┆ EAST       ┆           ┆ EAST -    │\n",
       "│            ┆            ┆     ┆            ┆   ┆            ┆            ┆           ┆ DE…       │\n",
       "│ NO         ┆ NO         ┆ NO  ┆ 2009       ┆ … ┆ DEPT OF    ┆ FLEET      ┆ DEPT OF   ┆ FLEET     │\n",
       "│            ┆            ┆     ┆            ┆   ┆ THE NAVY   ┆ READINESS  ┆ DEFENSE   ┆ READINESS │\n",
       "│            ┆            ┆     ┆            ┆   ┆            ┆ CENTER     ┆           ┆ CENTER    │\n",
       "│            ┆            ┆     ┆            ┆   ┆            ┆ EAST       ┆           ┆ EAST -    │\n",
       "│            ┆            ┆     ┆            ┆   ┆            ┆            ┆           ┆ DE…       │\n",
       "│ NO         ┆ NO         ┆ NO  ┆ 2009       ┆ … ┆ DEPT OF    ┆ FLEET      ┆ DEPT OF   ┆ FLEET     │\n",
       "│            ┆            ┆     ┆            ┆   ┆ THE NAVY   ┆ READINESS  ┆ DEFENSE   ┆ READINESS │\n",
       "│            ┆            ┆     ┆            ┆   ┆            ┆ CENTER     ┆           ┆ CENTER    │\n",
       "│            ┆            ┆     ┆            ┆   ┆            ┆ EAST       ┆           ┆ EAST -    │\n",
       "│            ┆            ┆     ┆            ┆   ┆            ┆            ┆           ┆ DE…       │\n",
       "│ YES        ┆ NO         ┆ NO  ┆ 2009       ┆ … ┆ DEPT OF    ┆ FLEET      ┆ DEPT OF   ┆ FLEET     │\n",
       "│            ┆            ┆     ┆            ┆   ┆ THE NAVY   ┆ READINESS  ┆ DEFENSE   ┆ READINESS │\n",
       "│            ┆            ┆     ┆            ┆   ┆            ┆ CENTER     ┆           ┆ CENTER    │\n",
       "│            ┆            ┆     ┆            ┆   ┆            ┆ EAST       ┆           ┆ EAST -    │\n",
       "│            ┆            ┆     ┆            ┆   ┆            ┆            ┆           ┆ DE…       │\n",
       "│ YES        ┆ NO         ┆ NO  ┆ 2009       ┆ … ┆ DEPT OF    ┆ FLEET      ┆ DEPT OF   ┆ FLEET     │\n",
       "│            ┆            ┆     ┆            ┆   ┆ THE NAVY   ┆ READINESS  ┆ DEFENSE   ┆ READINESS │\n",
       "│            ┆            ┆     ┆            ┆   ┆            ┆ CENTER     ┆           ┆ CENTER    │\n",
       "│            ┆            ┆     ┆            ┆   ┆            ┆ EAST       ┆           ┆ EAST -    │\n",
       "│            ┆            ┆     ┆            ┆   ┆            ┆            ┆           ┆ DE…       │\n",
       "│ YES        ┆ NO         ┆ NO  ┆ 2009       ┆ … ┆ DEPT OF    ┆ FLEET      ┆ DEPT OF   ┆ FLEET     │\n",
       "│            ┆            ┆     ┆            ┆   ┆ THE NAVY   ┆ READINESS  ┆ DEFENSE   ┆ READINESS │\n",
       "│            ┆            ┆     ┆            ┆   ┆            ┆ CENTER     ┆           ┆ CENTER    │\n",
       "│            ┆            ┆     ┆            ┆   ┆            ┆ EAST       ┆           ┆ EAST -    │\n",
       "│            ┆            ┆     ┆            ┆   ┆            ┆            ┆           ┆ DE…       │\n",
       "│ NO         ┆ NO         ┆ NO  ┆ 2009       ┆ … ┆ DEPT OF    ┆ FLEET      ┆ DEPT OF   ┆ FLEET     │\n",
       "│            ┆            ┆     ┆            ┆   ┆ THE NAVY   ┆ READINESS  ┆ DEFENSE   ┆ READINESS │\n",
       "│            ┆            ┆     ┆            ┆   ┆            ┆ CENTER     ┆           ┆ CENTER    │\n",
       "│            ┆            ┆     ┆            ┆   ┆            ┆ EAST       ┆           ┆ EAST -    │\n",
       "│            ┆            ┆     ┆            ┆   ┆            ┆            ┆           ┆ DE…       │\n",
       "│ NO         ┆ NO         ┆ NO  ┆ 2009       ┆ … ┆ DEPT OF    ┆ FLEET      ┆ DEPT OF   ┆ FLEET     │\n",
       "│            ┆            ┆     ┆            ┆   ┆ THE NAVY   ┆ READINESS  ┆ DEFENSE   ┆ READINESS │\n",
       "│            ┆            ┆     ┆            ┆   ┆            ┆ CENTER     ┆           ┆ CENTER    │\n",
       "│            ┆            ┆     ┆            ┆   ┆            ┆ EAST       ┆           ┆ EAST -    │\n",
       "│            ┆            ┆     ┆            ┆   ┆            ┆            ┆           ┆ DE…       │\n",
       "│ NO         ┆ NO         ┆ NO  ┆ 2009       ┆ … ┆ DEPT OF    ┆ FLEET      ┆ DEPT OF   ┆ FLEET     │\n",
       "│            ┆            ┆     ┆            ┆   ┆ THE NAVY   ┆ READINESS  ┆ DEFENSE   ┆ READINESS │\n",
       "│            ┆            ┆     ┆            ┆   ┆            ┆ CENTER     ┆           ┆ CENTER    │\n",
       "│            ┆            ┆     ┆            ┆   ┆            ┆ EAST       ┆           ┆ EAST -    │\n",
       "│            ┆            ┆     ┆            ┆   ┆            ┆            ┆           ┆ DE…       │\n",
       "│ YES        ┆ NO         ┆ NO  ┆ 2009       ┆ … ┆ DEPT OF    ┆ FLEET      ┆ DEPT OF   ┆ FLEET     │\n",
       "│            ┆            ┆     ┆            ┆   ┆ THE NAVY   ┆ READINESS  ┆ DEFENSE   ┆ READINESS │\n",
       "│            ┆            ┆     ┆            ┆   ┆            ┆ CENTER     ┆           ┆ CENTER    │\n",
       "│            ┆            ┆     ┆            ┆   ┆            ┆ EAST       ┆           ┆ EAST -    │\n",
       "│            ┆            ┆     ┆            ┆   ┆            ┆            ┆           ┆ DE…       │\n",
       "│ NO         ┆ NO         ┆ NO  ┆ 2009       ┆ … ┆ DEPT OF    ┆ FLEET      ┆ DEPT OF   ┆ FLEET     │\n",
       "│            ┆            ┆     ┆            ┆   ┆ THE NAVY   ┆ READINESS  ┆ DEFENSE   ┆ READINESS │\n",
       "│            ┆            ┆     ┆            ┆   ┆            ┆ CENTER     ┆           ┆ CENTER    │\n",
       "│            ┆            ┆     ┆            ┆   ┆            ┆ EAST       ┆           ┆ EAST -    │\n",
       "│            ┆            ┆     ┆            ┆   ┆            ┆            ┆           ┆ DE…       │\n",
       "│ NO         ┆ NO         ┆ NO  ┆ 2010       ┆ … ┆ DEFENSE    ┆ DLA TROOP  ┆ DEPT OF   ┆ DLA TROOP │\n",
       "│            ┆            ┆     ┆            ┆   ┆ LOGISTICS  ┆ SUPPORT    ┆ DEFENSE   ┆ SUPPORT - │\n",
       "│            ┆            ┆     ┆            ┆   ┆ AGENCY     ┆            ┆           ┆ DEFENSE   │\n",
       "│            ┆            ┆     ┆            ┆   ┆            ┆            ┆           ┆ LOGI…     │\n",
       "│ NO         ┆ NO         ┆ NO  ┆ 2010       ┆ … ┆ DEFENSE    ┆ DLA TROOP  ┆ DEPT OF   ┆ DLA TROOP │\n",
       "│            ┆            ┆     ┆            ┆   ┆ LOGISTICS  ┆ SUPPORT    ┆ DEFENSE   ┆ SUPPORT - │\n",
       "│            ┆            ┆     ┆            ┆   ┆ AGENCY     ┆            ┆           ┆ DEFENSE   │\n",
       "│            ┆            ┆     ┆            ┆   ┆            ┆            ┆           ┆ LOGI…     │\n",
       "│ NO         ┆ NO         ┆ NO  ┆ 2010       ┆ … ┆ DEFENSE    ┆ DLA TROOP  ┆ DEPT OF   ┆ DLA TROOP │\n",
       "│            ┆            ┆     ┆            ┆   ┆ LOGISTICS  ┆ SUPPORT    ┆ DEFENSE   ┆ SUPPORT - │\n",
       "│            ┆            ┆     ┆            ┆   ┆ AGENCY     ┆            ┆           ┆ DEFENSE   │\n",
       "│            ┆            ┆     ┆            ┆   ┆            ┆            ┆           ┆ LOGI…     │\n",
       "│ NO         ┆ NO         ┆ NO  ┆ 2010       ┆ … ┆ DEFENSE    ┆ DLA TROOP  ┆ DEPT OF   ┆ DLA TROOP │\n",
       "│            ┆            ┆     ┆            ┆   ┆ LOGISTICS  ┆ SUPPORT    ┆ DEFENSE   ┆ SUPPORT - │\n",
       "│            ┆            ┆     ┆            ┆   ┆ AGENCY     ┆            ┆           ┆ DEFENSE   │\n",
       "│            ┆            ┆     ┆            ┆   ┆            ┆            ┆           ┆ LOGI…     │\n",
       "│ NO         ┆ NO         ┆ NO  ┆ 2010       ┆ … ┆ DEFENSE    ┆ DLA TROOP  ┆ DEPT OF   ┆ DLA TROOP │\n",
       "│            ┆            ┆     ┆            ┆   ┆ LOGISTICS  ┆ SUPPORT    ┆ DEFENSE   ┆ SUPPORT - │\n",
       "│            ┆            ┆     ┆            ┆   ┆ AGENCY     ┆            ┆           ┆ DEFENSE   │\n",
       "│            ┆            ┆     ┆            ┆   ┆            ┆            ┆           ┆ LOGI…     │\n",
       "└────────────┴────────────┴─────┴────────────┴───┴────────────┴────────────┴───────────┴───────────┘"
      ]
     },
     "execution_count": 20,
     "metadata": {},
     "output_type": "execute_result"
    }
   ],
   "source": [
    "concatenated_dataframe.head(20)"
   ]
  },
  {
   "cell_type": "markdown",
   "id": "6164635e-3907-41d2-9a50-74304015e94b",
   "metadata": {},
   "source": [
    "## *Sidebar: Ensuring the 2023 file could also be added to the larger dataframe successfully*"
   ]
  },
  {
   "cell_type": "code",
   "execution_count": 21,
   "id": "4a905622-5f0d-4912-8ace-071908d56d35",
   "metadata": {
    "tags": []
   },
   "outputs": [],
   "source": [
    "df_2023 = pl.read_parquet(\"FY23_SC_prelim.parquet\", columns = all_cols, n_rows=15)"
   ]
  },
  {
   "cell_type": "code",
   "execution_count": 22,
   "id": "158adf2c-dedd-4ba0-bee3-15aabd3c52ee",
   "metadata": {
    "tags": []
   },
   "outputs": [],
   "source": [
    "df_2023 = df_2023.with_columns(pl.col(\"FISCAL_YEAR\").fill_null(int(2023)))"
   ]
  },
  {
   "cell_type": "code",
   "execution_count": 23,
   "id": "d401577d-d6ae-4416-a190-a347ab884ed5",
   "metadata": {},
   "outputs": [],
   "source": [
    "df_2023 = df_2023.with_columns(\n",
    "    FUNDING_OFFICE = pl.col(\"FUNDING_OFFICE_NAME\") + \" - \" + pl.col(\"FUNDING_AGENCY_NAME\"))"
   ]
  },
  {
   "cell_type": "code",
   "execution_count": 24,
   "id": "2ec1aff0-1645-4c87-bf91-16bc68417cf0",
   "metadata": {},
   "outputs": [],
   "source": [
    "concatenated_dataframe_all = pl.concat([concatenated_dataframe, df_2023], how=\"vertical_relaxed\")"
   ]
  },
  {
   "cell_type": "markdown",
   "id": "8fbe29df-b260-4a3b-b9c7-803bfcaba2c6",
   "metadata": {},
   "source": [
    "## *It works!* "
   ]
  },
  {
   "cell_type": "code",
   "execution_count": 25,
   "id": "1c35b1c9-cb0a-40bd-b124-9af425e13c1c",
   "metadata": {
    "tags": []
   },
   "outputs": [
    {
     "data": {
      "text/html": [
       "<div><style>\n",
       ".dataframe > thead > tr,\n",
       ".dataframe > tbody > tr {\n",
       "  text-align: right;\n",
       "  white-space: pre-wrap;\n",
       "}\n",
       "</style>\n",
       "<small>shape: (15, 53)</small><table border=\"1\" class=\"dataframe\"><thead><tr><th>FOR_PROFIT_ORGANIZATION</th><th>DOT_CERTIFIED_DISADV_BUS</th><th>SDB</th><th>FISCAL_YEAR</th><th>CAGE_CODE</th><th>IDV_CONTRACTING_AGENCY_NAME</th><th>IDV_EXTENT_COMPETED</th><th>IDV_EVALUATED_PREFERENCE</th><th>IDV_SIGNED_DATE</th><th>IDV_LAST_DATE_TO_ORDER</th><th>IDV_NUMBER_OF_OFFERS</th><th>PART8_OR_PART13</th><th>AWARD_FISCAL_YEAR</th><th>PRODUCT_OR_SERVICE_TYPE</th><th>TOTAL_ESTIMATED_ORDER_VALUE</th><th>VENDOR_UEI</th><th>TYPE_OF_SET_ASIDE</th><th>VENDOR_ADDRESS_ZIP_CODE</th><th>VENDOR_ADDRESS_COUNTRY_NAME</th><th>EDUCATIONAL_INSTITUTION_FLAG</th><th>FIRM_8A_FLAG</th><th>WOMEN_OWNED_FLAG</th><th>FIRM8A_JOINT_VENTURE</th><th>FEDERALLY_FUNDED_R_AND_D_CORP</th><th>CORP_ENTITY_NOT_TAX_EXEMPT</th><th>PARTNERSHIP_OR_LLP</th><th>SOLE_PROPREITORSHIP</th><th>SMALL_AGRICULTURAL_COOPERATIVE</th><th>INTERNATIONAL_ORGANIZATION</th><th>ARCHITECTURE_AND_ENGINEERING</th><th>COMMUNITY_CORP_OWNED_FIRM</th><th>CONSTRUCTION_FIRM</th><th>DOMESTIC_SHELTER</th><th>FOUNDATION</th><th>MANUFACTURER_OF_GOODS</th><th>RESEARCH_AND_DEVELOPMENT</th><th>SERVICE_PROVIDER</th><th>VETERINARY_HOSPITAL</th><th>HISPANIC_SERVICING_INSTITUTION</th><th>LIMITED_LIABILITY_CORPORATION</th><th>CO_BUS_SIZE_DETERMINATION</th><th>PRINCIPAL_NAICS_CODE</th><th>PIID</th><th>CURRENT_CONTRACT_VALUE</th><th>NUMBER_OF_OFFERS_RECEIVED</th><th>EVALUATED_PREFERENCE</th><th>EXTENT_COMPETED</th><th>MODIFICATION_NUMBER</th><th>DATE_SIGNED</th><th>FUNDING_AGENCY_NAME</th><th>FUNDING_OFFICE_NAME</th><th>FUNDING_DEPARTMENT_NAME</th><th>FUNDING_OFFICE</th></tr><tr><td>str</td><td>str</td><td>str</td><td>str</td><td>str</td><td>str</td><td>str</td><td>str</td><td>datetime[ms]</td><td>datetime[ms]</td><td>i32</td><td>str</td><td>str</td><td>str</td><td>f64</td><td>str</td><td>str</td><td>str</td><td>str</td><td>str</td><td>str</td><td>str</td><td>str</td><td>str</td><td>str</td><td>str</td><td>str</td><td>str</td><td>str</td><td>str</td><td>str</td><td>str</td><td>str</td><td>str</td><td>str</td><td>str</td><td>str</td><td>str</td><td>str</td><td>str</td><td>str</td><td>str</td><td>str</td><td>f64</td><td>i32</td><td>str</td><td>str</td><td>str</td><td>datetime[ms]</td><td>str</td><td>str</td><td>str</td><td>str</td></tr></thead><tbody><tr><td>&quot;YES&quot;</td><td>&quot;NO&quot;</td><td>&quot;YES&quot;</td><td>&quot;2023&quot;</td><td>&quot;7X0Z6&quot;</td><td>null</td><td>null</td><td>null</td><td>null</td><td>null</td><td>null</td><td>null</td><td>&quot;2023&quot;</td><td>&quot;P&quot;</td><td>null</td><td>&quot;R757HCV7LJD6&quot;</td><td>&quot;8AN&quot;</td><td>&quot;890602722&quot;</td><td>&quot;UNITED STATES&quot;</td><td>&quot;NO&quot;</td><td>&quot;YES&quot;</td><td>&quot;YES&quot;</td><td>&quot;NO&quot;</td><td>&quot;NO&quot;</td><td>&quot;YES&quot;</td><td>&quot;NO&quot;</td><td>&quot;NO&quot;</td><td>&quot;NO&quot;</td><td>&quot;NO&quot;</td><td>&quot;NO&quot;</td><td>&quot;NO&quot;</td><td>&quot;NO&quot;</td><td>&quot;NO&quot;</td><td>&quot;NO&quot;</td><td>&quot;YES&quot;</td><td>&quot;NO&quot;</td><td>&quot;NO&quot;</td><td>&quot;NO&quot;</td><td>&quot;NO&quot;</td><td>&quot;YES&quot;</td><td>&quot;SMALL BUSINESS…</td><td>&quot;339991&quot;</td><td>&quot;SPE7M223P0353&quot;</td><td>20642.23</td><td>1</td><td>&quot;NONE&quot;</td><td>&quot;B&quot;</td><td>&quot;0&quot;</td><td>2022-11-01 00:00:00</td><td>&quot;DEFENSE LOGIST…</td><td>&quot;DLA LAND AND M…</td><td>&quot;DEPT OF DEFENS…</td><td>&quot;DLA LAND AND M…</td></tr><tr><td>&quot;YES&quot;</td><td>&quot;NO&quot;</td><td>&quot;NO&quot;</td><td>&quot;2023&quot;</td><td>&quot;7Y333&quot;</td><td>null</td><td>null</td><td>null</td><td>null</td><td>null</td><td>null</td><td>null</td><td>&quot;2023&quot;</td><td>&quot;P&quot;</td><td>null</td><td>&quot;ZT2XY79QF4M3&quot;</td><td>&quot;NONE&quot;</td><td>&quot;234553302&quot;</td><td>&quot;UNITED STATES&quot;</td><td>&quot;NO&quot;</td><td>&quot;NO&quot;</td><td>&quot;NO&quot;</td><td>&quot;NO&quot;</td><td>&quot;NO&quot;</td><td>&quot;YES&quot;</td><td>&quot;NO&quot;</td><td>&quot;NO&quot;</td><td>&quot;NO&quot;</td><td>&quot;NO&quot;</td><td>&quot;NO&quot;</td><td>&quot;NO&quot;</td><td>&quot;NO&quot;</td><td>&quot;NO&quot;</td><td>&quot;NO&quot;</td><td>&quot;NO&quot;</td><td>&quot;NO&quot;</td><td>&quot;NO&quot;</td><td>&quot;NO&quot;</td><td>&quot;NO&quot;</td><td>&quot;NO&quot;</td><td>&quot;SMALL BUSINESS…</td><td>&quot;335932&quot;</td><td>&quot;SPE7M523V0471&quot;</td><td>4354.1</td><td>1</td><td>&quot;NONE&quot;</td><td>&quot;F&quot;</td><td>&quot;0&quot;</td><td>2022-11-01 00:00:00</td><td>&quot;DEFENSE LOGIST…</td><td>&quot;DLA LAND AND M…</td><td>&quot;DEPT OF DEFENS…</td><td>&quot;DLA LAND AND M…</td></tr><tr><td>&quot;YES&quot;</td><td>&quot;NO&quot;</td><td>&quot;NO&quot;</td><td>&quot;2023&quot;</td><td>&quot;9DV74&quot;</td><td>null</td><td>null</td><td>null</td><td>null</td><td>null</td><td>null</td><td>null</td><td>&quot;2023&quot;</td><td>&quot;P&quot;</td><td>null</td><td>&quot;F28HDPCVHEL8&quot;</td><td>&quot;NONE&quot;</td><td>&quot;024533824&quot;</td><td>&quot;UNITED STATES&quot;</td><td>&quot;NO&quot;</td><td>&quot;NO&quot;</td><td>&quot;NO&quot;</td><td>&quot;NO&quot;</td><td>&quot;NO&quot;</td><td>&quot;YES&quot;</td><td>&quot;NO&quot;</td><td>&quot;NO&quot;</td><td>&quot;NO&quot;</td><td>&quot;NO&quot;</td><td>&quot;NO&quot;</td><td>&quot;NO&quot;</td><td>&quot;NO&quot;</td><td>&quot;NO&quot;</td><td>&quot;NO&quot;</td><td>&quot;YES&quot;</td><td>&quot;NO&quot;</td><td>&quot;NO&quot;</td><td>&quot;NO&quot;</td><td>&quot;NO&quot;</td><td>&quot;NO&quot;</td><td>&quot;OTHER THAN SMA…</td><td>&quot;334516&quot;</td><td>&quot;140G0323P0035&quot;</td><td>31561.25</td><td>5</td><td>&quot;NONE&quot;</td><td>&quot;F&quot;</td><td>&quot;0&quot;</td><td>2022-12-09 00:00:00</td><td>&quot;US GEOLOGICAL …</td><td>&quot;OFFICE OF ACQU…</td><td>&quot;INTERIOR, DEPA…</td><td>&quot;OFFICE OF ACQU…</td></tr><tr><td>&quot;YES&quot;</td><td>&quot;NO&quot;</td><td>&quot;NO&quot;</td><td>&quot;2023&quot;</td><td>&quot;3T8J4&quot;</td><td>null</td><td>null</td><td>null</td><td>null</td><td>null</td><td>null</td><td>null</td><td>&quot;2023&quot;</td><td>&quot;P&quot;</td><td>null</td><td>&quot;ZVLCLSN4LVF8&quot;</td><td>&quot;NONE&quot;</td><td>&quot;189743532&quot;</td><td>&quot;UNITED STATES&quot;</td><td>&quot;NO&quot;</td><td>&quot;NO&quot;</td><td>&quot;NO&quot;</td><td>&quot;NO&quot;</td><td>&quot;NO&quot;</td><td>&quot;YES&quot;</td><td>&quot;NO&quot;</td><td>&quot;NO&quot;</td><td>&quot;NO&quot;</td><td>&quot;NO&quot;</td><td>&quot;NO&quot;</td><td>&quot;NO&quot;</td><td>&quot;NO&quot;</td><td>&quot;NO&quot;</td><td>&quot;NO&quot;</td><td>&quot;YES&quot;</td><td>&quot;NO&quot;</td><td>&quot;NO&quot;</td><td>&quot;NO&quot;</td><td>&quot;NO&quot;</td><td>&quot;NO&quot;</td><td>&quot;SMALL BUSINESS…</td><td>&quot;334419&quot;</td><td>&quot;SPE4A623V1645&quot;</td><td>0.0</td><td>4</td><td>&quot;NONE&quot;</td><td>&quot;F&quot;</td><td>&quot;P00001&quot;</td><td>2022-10-25 00:00:00</td><td>&quot;DEFENSE LOGIST…</td><td>&quot;DLA AVIATION&quot;</td><td>&quot;DEPT OF DEFENS…</td><td>&quot;DLA AVIATION -…</td></tr><tr><td>&quot;YES&quot;</td><td>&quot;NO&quot;</td><td>&quot;NO&quot;</td><td>&quot;2023&quot;</td><td>&quot;329E3&quot;</td><td>null</td><td>null</td><td>null</td><td>null</td><td>null</td><td>null</td><td>null</td><td>&quot;2023&quot;</td><td>&quot;P&quot;</td><td>null</td><td>&quot;THJ1QWDKVS83&quot;</td><td>&quot;NONE&quot;</td><td>&quot;135022533&quot;</td><td>&quot;UNITED STATES&quot;</td><td>&quot;NO&quot;</td><td>&quot;NO&quot;</td><td>&quot;NO&quot;</td><td>&quot;NO&quot;</td><td>&quot;NO&quot;</td><td>&quot;YES&quot;</td><td>&quot;NO&quot;</td><td>&quot;NO&quot;</td><td>&quot;NO&quot;</td><td>&quot;NO&quot;</td><td>&quot;NO&quot;</td><td>&quot;NO&quot;</td><td>&quot;NO&quot;</td><td>&quot;NO&quot;</td><td>&quot;NO&quot;</td><td>&quot;NO&quot;</td><td>&quot;NO&quot;</td><td>&quot;NO&quot;</td><td>&quot;NO&quot;</td><td>&quot;NO&quot;</td><td>&quot;NO&quot;</td><td>&quot;SMALL BUSINESS…</td><td>&quot;332722&quot;</td><td>&quot;SPE7L123P0951&quot;</td><td>687.6</td><td>5</td><td>&quot;NONE&quot;</td><td>&quot;F&quot;</td><td>&quot;0&quot;</td><td>2022-10-27 00:00:00</td><td>&quot;DEFENSE LOGIST…</td><td>&quot;DLA LAND AND M…</td><td>&quot;DEPT OF DEFENS…</td><td>&quot;DLA LAND AND M…</td></tr><tr><td>&quot;YES&quot;</td><td>&quot;NO&quot;</td><td>&quot;NO&quot;</td><td>&quot;2023&quot;</td><td>&quot;62WS2&quot;</td><td>null</td><td>null</td><td>null</td><td>null</td><td>null</td><td>null</td><td>null</td><td>&quot;2023&quot;</td><td>&quot;P&quot;</td><td>null</td><td>&quot;D6J2UML3MAC4&quot;</td><td>&quot;NONE&quot;</td><td>&quot;481899064&quot;</td><td>&quot;UNITED STATES&quot;</td><td>&quot;NO&quot;</td><td>&quot;NO&quot;</td><td>&quot;NO&quot;</td><td>&quot;NO&quot;</td><td>&quot;NO&quot;</td><td>&quot;YES&quot;</td><td>&quot;NO&quot;</td><td>&quot;NO&quot;</td><td>&quot;NO&quot;</td><td>&quot;NO&quot;</td><td>&quot;NO&quot;</td><td>&quot;NO&quot;</td><td>&quot;NO&quot;</td><td>&quot;NO&quot;</td><td>&quot;NO&quot;</td><td>&quot;YES&quot;</td><td>&quot;NO&quot;</td><td>&quot;NO&quot;</td><td>&quot;NO&quot;</td><td>&quot;NO&quot;</td><td>&quot;NO&quot;</td><td>&quot;SMALL BUSINESS…</td><td>&quot;332119&quot;</td><td>&quot;SPE4A722PE662&quot;</td><td>-7580.82</td><td>8</td><td>&quot;NONE&quot;</td><td>&quot;F&quot;</td><td>&quot;P00001&quot;</td><td>2022-11-03 00:00:00</td><td>&quot;DEFENSE LOGIST…</td><td>&quot;DLA AVIATION&quot;</td><td>&quot;DEPT OF DEFENS…</td><td>&quot;DLA AVIATION -…</td></tr><tr><td>&quot;YES&quot;</td><td>&quot;NO&quot;</td><td>&quot;NO&quot;</td><td>&quot;2023&quot;</td><td>&quot;3JEH0&quot;</td><td>null</td><td>null</td><td>null</td><td>null</td><td>null</td><td>null</td><td>null</td><td>&quot;2023&quot;</td><td>&quot;S&quot;</td><td>null</td><td>&quot;KA5HQCLKUVW1&quot;</td><td>&quot;NONE&quot;</td><td>&quot;204050001&quot;</td><td>&quot;UNITED STATES&quot;</td><td>&quot;NO&quot;</td><td>&quot;NO&quot;</td><td>&quot;NO&quot;</td><td>&quot;NO&quot;</td><td>&quot;NO&quot;</td><td>&quot;NO&quot;</td><td>&quot;NO&quot;</td><td>&quot;NO&quot;</td><td>&quot;NO&quot;</td><td>&quot;NO&quot;</td><td>&quot;NO&quot;</td><td>&quot;NO&quot;</td><td>&quot;NO&quot;</td><td>&quot;NO&quot;</td><td>&quot;NO&quot;</td><td>&quot;NO&quot;</td><td>&quot;NO&quot;</td><td>&quot;NO&quot;</td><td>&quot;NO&quot;</td><td>&quot;NO&quot;</td><td>&quot;NO&quot;</td><td>&quot;OTHER THAN SMA…</td><td>&quot;561612&quot;</td><td>&quot;15M10223PA4700…</td><td>57720.0</td><td>1</td><td>&quot;NONE&quot;</td><td>&quot;F&quot;</td><td>&quot;0&quot;</td><td>2022-10-24 00:00:00</td><td>&quot;U.S. MARSHALS …</td><td>&quot;U.S. DEPT OF J…</td><td>&quot;JUSTICE, DEPAR…</td><td>&quot;U.S. DEPT OF J…</td></tr><tr><td>&quot;YES&quot;</td><td>&quot;NO&quot;</td><td>&quot;NO&quot;</td><td>&quot;2023&quot;</td><td>&quot;3BUS5&quot;</td><td>null</td><td>null</td><td>null</td><td>null</td><td>null</td><td>null</td><td>null</td><td>&quot;2023&quot;</td><td>&quot;P&quot;</td><td>null</td><td>&quot;HL5PZFB7KHV4&quot;</td><td>&quot;NONE&quot;</td><td>&quot;750622740&quot;</td><td>&quot;UNITED STATES&quot;</td><td>&quot;NO&quot;</td><td>&quot;NO&quot;</td><td>&quot;NO&quot;</td><td>&quot;NO&quot;</td><td>&quot;NO&quot;</td><td>&quot;YES&quot;</td><td>&quot;NO&quot;</td><td>&quot;NO&quot;</td><td>&quot;NO&quot;</td><td>&quot;NO&quot;</td><td>&quot;NO&quot;</td><td>&quot;NO&quot;</td><td>&quot;NO&quot;</td><td>&quot;NO&quot;</td><td>&quot;NO&quot;</td><td>&quot;NO&quot;</td><td>&quot;NO&quot;</td><td>&quot;NO&quot;</td><td>&quot;NO&quot;</td><td>&quot;NO&quot;</td><td>&quot;NO&quot;</td><td>&quot;OTHER THAN SMA…</td><td>&quot;332216&quot;</td><td>&quot;47QSHA23P0581&quot;</td><td>6732.98</td><td>1</td><td>&quot;NONE&quot;</td><td>&quot;G&quot;</td><td>&quot;0&quot;</td><td>2022-12-12 00:00:00</td><td>&quot;FEDERAL ACQUIS…</td><td>&quot;GSA/FAS HEARTL…</td><td>&quot;GENERAL SERVIC…</td><td>&quot;GSA/FAS HEARTL…</td></tr><tr><td>&quot;YES&quot;</td><td>&quot;NO&quot;</td><td>&quot;NO&quot;</td><td>&quot;2023&quot;</td><td>&quot;1H2F2&quot;</td><td>null</td><td>null</td><td>null</td><td>null</td><td>null</td><td>null</td><td>null</td><td>&quot;2023&quot;</td><td>&quot;S&quot;</td><td>null</td><td>&quot;L1WZRB6JKWJ4&quot;</td><td>&quot;NONE&quot;</td><td>&quot;968133916&quot;</td><td>&quot;UNITED STATES&quot;</td><td>&quot;NO&quot;</td><td>&quot;NO&quot;</td><td>&quot;NO&quot;</td><td>&quot;NO&quot;</td><td>&quot;NO&quot;</td><td>&quot;NO&quot;</td><td>&quot;YES&quot;</td><td>&quot;NO&quot;</td><td>&quot;NO&quot;</td><td>&quot;NO&quot;</td><td>&quot;NO&quot;</td><td>&quot;NO&quot;</td><td>&quot;NO&quot;</td><td>&quot;NO&quot;</td><td>&quot;NO&quot;</td><td>&quot;NO&quot;</td><td>&quot;NO&quot;</td><td>&quot;NO&quot;</td><td>&quot;NO&quot;</td><td>&quot;NO&quot;</td><td>&quot;YES&quot;</td><td>&quot;SMALL BUSINESS…</td><td>&quot;541715&quot;</td><td>&quot;N0001421C1122&quot;</td><td>0.0</td><td>999</td><td>&quot;NONE&quot;</td><td>&quot;A&quot;</td><td>&quot;ARZ998&quot;</td><td>2022-11-08 00:00:00</td><td>&quot;DEPT OF THE NA…</td><td>&quot;OFFICE OF NAVA…</td><td>&quot;DEPT OF DEFENS…</td><td>&quot;OFFICE OF NAVA…</td></tr><tr><td>&quot;YES&quot;</td><td>&quot;NO&quot;</td><td>&quot;NO&quot;</td><td>&quot;2023&quot;</td><td>&quot;35KC0&quot;</td><td>null</td><td>null</td><td>null</td><td>null</td><td>null</td><td>null</td><td>null</td><td>&quot;2023&quot;</td><td>&quot;S&quot;</td><td>null</td><td>&quot;LN9PU5M2YZN5&quot;</td><td>&quot;NONE&quot;</td><td>&quot;204050001&quot;</td><td>&quot;UNITED STATES&quot;</td><td>&quot;NO&quot;</td><td>&quot;NO&quot;</td><td>&quot;NO&quot;</td><td>&quot;NO&quot;</td><td>&quot;NO&quot;</td><td>&quot;NO&quot;</td><td>&quot;NO&quot;</td><td>&quot;NO&quot;</td><td>&quot;NO&quot;</td><td>&quot;NO&quot;</td><td>&quot;NO&quot;</td><td>&quot;NO&quot;</td><td>&quot;NO&quot;</td><td>&quot;NO&quot;</td><td>&quot;NO&quot;</td><td>&quot;NO&quot;</td><td>&quot;NO&quot;</td><td>&quot;NO&quot;</td><td>&quot;NO&quot;</td><td>&quot;NO&quot;</td><td>&quot;NO&quot;</td><td>&quot;OTHER THAN SMA…</td><td>&quot;721110&quot;</td><td>&quot;19KS7022P0613&quot;</td><td>-1045.45</td><td>1</td><td>&quot;NONE&quot;</td><td>&quot;G&quot;</td><td>&quot;P00002&quot;</td><td>2022-10-17 00:00:00</td><td>&quot;OFFICE OF THE …</td><td>&quot;OFFICE INSPECT…</td><td>&quot;HOMELAND SECUR…</td><td>&quot;OFFICE INSPECT…</td></tr><tr><td>&quot;YES&quot;</td><td>&quot;NO&quot;</td><td>&quot;YES&quot;</td><td>&quot;2023&quot;</td><td>&quot;6BW96&quot;</td><td>null</td><td>null</td><td>null</td><td>null</td><td>null</td><td>null</td><td>null</td><td>&quot;2023&quot;</td><td>&quot;P&quot;</td><td>null</td><td>&quot;H2CBG8BBYPL3&quot;</td><td>&quot;NONE&quot;</td><td>&quot;327508401&quot;</td><td>&quot;UNITED STATES&quot;</td><td>&quot;NO&quot;</td><td>&quot;NO&quot;</td><td>&quot;YES&quot;</td><td>&quot;NO&quot;</td><td>&quot;NO&quot;</td><td>&quot;NO&quot;</td><td>&quot;NO&quot;</td><td>&quot;YES&quot;</td><td>&quot;NO&quot;</td><td>&quot;NO&quot;</td><td>&quot;NO&quot;</td><td>&quot;NO&quot;</td><td>&quot;NO&quot;</td><td>&quot;NO&quot;</td><td>&quot;NO&quot;</td><td>&quot;NO&quot;</td><td>&quot;NO&quot;</td><td>&quot;NO&quot;</td><td>&quot;NO&quot;</td><td>&quot;NO&quot;</td><td>&quot;YES&quot;</td><td>&quot;SMALL BUSINESS…</td><td>&quot;332510&quot;</td><td>&quot;SPE4A623V5098&quot;</td><td>470.0</td><td>2</td><td>&quot;NONE&quot;</td><td>&quot;F&quot;</td><td>&quot;0&quot;</td><td>2022-12-09 00:00:00</td><td>&quot;DEFENSE LOGIST…</td><td>&quot;DLA AVIATION&quot;</td><td>&quot;DEPT OF DEFENS…</td><td>&quot;DLA AVIATION -…</td></tr><tr><td>&quot;NO&quot;</td><td>&quot;NO&quot;</td><td>&quot;NO&quot;</td><td>&quot;2023&quot;</td><td>&quot;3WGG5&quot;</td><td>null</td><td>null</td><td>null</td><td>null</td><td>null</td><td>null</td><td>null</td><td>&quot;2023&quot;</td><td>&quot;S&quot;</td><td>null</td><td>&quot;XXANKL4KRBA5&quot;</td><td>&quot;NONE&quot;</td><td>&quot;347692024&quot;</td><td>&quot;UNITED STATES&quot;</td><td>&quot;NO&quot;</td><td>&quot;NO&quot;</td><td>&quot;NO&quot;</td><td>&quot;NO&quot;</td><td>&quot;NO&quot;</td><td>&quot;NO&quot;</td><td>&quot;NO&quot;</td><td>&quot;NO&quot;</td><td>&quot;NO&quot;</td><td>&quot;NO&quot;</td><td>&quot;NO&quot;</td><td>&quot;NO&quot;</td><td>&quot;NO&quot;</td><td>&quot;NO&quot;</td><td>&quot;NO&quot;</td><td>&quot;NO&quot;</td><td>&quot;NO&quot;</td><td>&quot;NO&quot;</td><td>&quot;NO&quot;</td><td>&quot;NO&quot;</td><td>&quot;NO&quot;</td><td>&quot;OTHER THAN SMA…</td><td>&quot;621420&quot;</td><td>&quot;15BCTS21P00000…</td><td>110.0</td><td>1</td><td>&quot;NONE&quot;</td><td>&quot;F&quot;</td><td>&quot;P00006&quot;</td><td>2022-10-21 00:00:00</td><td>&quot;FEDERAL PRISON…</td><td>&quot;COMMUNITY TREA…</td><td>&quot;JUSTICE, DEPAR…</td><td>&quot;COMMUNITY TREA…</td></tr><tr><td>&quot;YES&quot;</td><td>&quot;NO&quot;</td><td>&quot;NO&quot;</td><td>&quot;2023&quot;</td><td>&quot;0FZB4&quot;</td><td>null</td><td>null</td><td>null</td><td>null</td><td>null</td><td>null</td><td>null</td><td>&quot;2023&quot;</td><td>&quot;S&quot;</td><td>null</td><td>&quot;JNXSY4EWJK71&quot;</td><td>&quot;NONE&quot;</td><td>&quot;200014089&quot;</td><td>&quot;UNITED STATES&quot;</td><td>&quot;NO&quot;</td><td>&quot;NO&quot;</td><td>&quot;NO&quot;</td><td>&quot;NO&quot;</td><td>&quot;NO&quot;</td><td>&quot;YES&quot;</td><td>&quot;NO&quot;</td><td>&quot;NO&quot;</td><td>&quot;NO&quot;</td><td>&quot;NO&quot;</td><td>&quot;NO&quot;</td><td>&quot;NO&quot;</td><td>&quot;NO&quot;</td><td>&quot;NO&quot;</td><td>&quot;NO&quot;</td><td>&quot;NO&quot;</td><td>&quot;NO&quot;</td><td>&quot;NO&quot;</td><td>&quot;NO&quot;</td><td>&quot;NO&quot;</td><td>&quot;NO&quot;</td><td>&quot;OTHER THAN SMA…</td><td>&quot;484122&quot;</td><td>&quot;15UMRN23P00000…</td><td>49582.22</td><td>1</td><td>&quot;NONE&quot;</td><td>&quot;F&quot;</td><td>&quot;0&quot;</td><td>2022-10-13 00:00:00</td><td>&quot;FEDERAL PRISON…</td><td>&quot;FEDERAL PRISON…</td><td>&quot;JUSTICE, DEPAR…</td><td>&quot;FEDERAL PRISON…</td></tr><tr><td>&quot;YES&quot;</td><td>&quot;NO&quot;</td><td>&quot;NO&quot;</td><td>&quot;2023&quot;</td><td>&quot;5D441&quot;</td><td>null</td><td>null</td><td>null</td><td>null</td><td>null</td><td>null</td><td>null</td><td>&quot;2023&quot;</td><td>&quot;P&quot;</td><td>null</td><td>&quot;LC55NELHATZ9&quot;</td><td>&quot;SBA&quot;</td><td>&quot;693611791&quot;</td><td>&quot;UNITED STATES&quot;</td><td>&quot;NO&quot;</td><td>&quot;NO&quot;</td><td>&quot;NO&quot;</td><td>&quot;NO&quot;</td><td>&quot;NO&quot;</td><td>&quot;YES&quot;</td><td>&quot;NO&quot;</td><td>&quot;NO&quot;</td><td>&quot;NO&quot;</td><td>&quot;NO&quot;</td><td>&quot;NO&quot;</td><td>&quot;NO&quot;</td><td>&quot;NO&quot;</td><td>&quot;NO&quot;</td><td>&quot;NO&quot;</td><td>&quot;NO&quot;</td><td>&quot;NO&quot;</td><td>&quot;NO&quot;</td><td>&quot;NO&quot;</td><td>&quot;NO&quot;</td><td>&quot;NO&quot;</td><td>&quot;SMALL BUSINESS…</td><td>&quot;311999&quot;</td><td>&quot;123J1422C0879&quot;</td><td>0.0</td><td>9</td><td>&quot;NONE&quot;</td><td>&quot;D&quot;</td><td>&quot;P00010&quot;</td><td>2022-11-30 00:00:00</td><td>&quot;AGRICULTURAL M…</td><td>&quot;USDA  AMS  3J1…</td><td>&quot;AGRICULTURE, D…</td><td>&quot;USDA  AMS  3J1…</td></tr><tr><td>&quot;YES&quot;</td><td>&quot;NO&quot;</td><td>&quot;NO&quot;</td><td>&quot;2023&quot;</td><td>&quot;2V484&quot;</td><td>null</td><td>null</td><td>null</td><td>null</td><td>null</td><td>null</td><td>null</td><td>&quot;2023&quot;</td><td>&quot;P&quot;</td><td>null</td><td>&quot;L6Q3WZQJCKK1&quot;</td><td>&quot;NONE&quot;</td><td>&quot;633682224&quot;</td><td>&quot;UNITED STATES&quot;</td><td>&quot;NO&quot;</td><td>&quot;NO&quot;</td><td>&quot;NO&quot;</td><td>&quot;NO&quot;</td><td>&quot;NO&quot;</td><td>&quot;YES&quot;</td><td>&quot;NO&quot;</td><td>&quot;NO&quot;</td><td>&quot;NO&quot;</td><td>&quot;NO&quot;</td><td>&quot;NO&quot;</td><td>&quot;NO&quot;</td><td>&quot;NO&quot;</td><td>&quot;NO&quot;</td><td>&quot;NO&quot;</td><td>&quot;NO&quot;</td><td>&quot;NO&quot;</td><td>&quot;NO&quot;</td><td>&quot;NO&quot;</td><td>&quot;NO&quot;</td><td>&quot;NO&quot;</td><td>&quot;OTHER THAN SMA…</td><td>&quot;332112&quot;</td><td>&quot;SPE4A623V4033&quot;</td><td>1043.0</td><td>2</td><td>&quot;NONE&quot;</td><td>&quot;F&quot;</td><td>&quot;0&quot;</td><td>2022-11-25 00:00:00</td><td>&quot;DEFENSE LOGIST…</td><td>&quot;DLA AVIATION&quot;</td><td>&quot;DEPT OF DEFENS…</td><td>&quot;DLA AVIATION -…</td></tr></tbody></table></div>"
      ],
      "text/plain": [
       "shape: (15, 53)\n",
       "┌────────────┬────────────┬─────┬────────────┬───┬────────────┬────────────┬───────────┬───────────┐\n",
       "│ FOR_PROFIT ┆ DOT_CERTIF ┆ SDB ┆ FISCAL_YEA ┆ … ┆ FUNDING_AG ┆ FUNDING_OF ┆ FUNDING_D ┆ FUNDING_O │\n",
       "│ _ORGANIZAT ┆ IED_DISADV ┆ --- ┆ R          ┆   ┆ ENCY_NAME  ┆ FICE_NAME  ┆ EPARTMENT ┆ FFICE     │\n",
       "│ ION        ┆ _BUS       ┆ str ┆ ---        ┆   ┆ ---        ┆ ---        ┆ _NAME     ┆ ---       │\n",
       "│ ---        ┆ ---        ┆     ┆ str        ┆   ┆ str        ┆ str        ┆ ---       ┆ str       │\n",
       "│ str        ┆ str        ┆     ┆            ┆   ┆            ┆            ┆ str       ┆           │\n",
       "╞════════════╪════════════╪═════╪════════════╪═══╪════════════╪════════════╪═══════════╪═══════════╡\n",
       "│ YES        ┆ NO         ┆ YES ┆ 2023       ┆ … ┆ DEFENSE    ┆ DLA LAND   ┆ DEPT OF   ┆ DLA LAND  │\n",
       "│            ┆            ┆     ┆            ┆   ┆ LOGISTICS  ┆ AND        ┆ DEFENSE   ┆ AND       │\n",
       "│            ┆            ┆     ┆            ┆   ┆ AGENCY     ┆ MARITIME   ┆           ┆ MARITIME  │\n",
       "│            ┆            ┆     ┆            ┆   ┆            ┆            ┆           ┆ - DEFENSE │\n",
       "│            ┆            ┆     ┆            ┆   ┆            ┆            ┆           ┆ …         │\n",
       "│ YES        ┆ NO         ┆ NO  ┆ 2023       ┆ … ┆ DEFENSE    ┆ DLA LAND   ┆ DEPT OF   ┆ DLA LAND  │\n",
       "│            ┆            ┆     ┆            ┆   ┆ LOGISTICS  ┆ AND        ┆ DEFENSE   ┆ AND       │\n",
       "│            ┆            ┆     ┆            ┆   ┆ AGENCY     ┆ MARITIME   ┆           ┆ MARITIME  │\n",
       "│            ┆            ┆     ┆            ┆   ┆            ┆            ┆           ┆ - DEFENSE │\n",
       "│            ┆            ┆     ┆            ┆   ┆            ┆            ┆           ┆ …         │\n",
       "│ YES        ┆ NO         ┆ NO  ┆ 2023       ┆ … ┆ US         ┆ OFFICE OF  ┆ INTERIOR, ┆ OFFICE OF │\n",
       "│            ┆            ┆     ┆            ┆   ┆ GEOLOGICAL ┆ ACQUISITON ┆ DEPARTMEN ┆ ACQUISITO │\n",
       "│            ┆            ┆     ┆            ┆   ┆ SURVEY     ┆ GRANTS     ┆ T OF THE  ┆ N  GRANTS │\n",
       "│            ┆            ┆     ┆            ┆   ┆            ┆            ┆           ┆ - U…      │\n",
       "│ YES        ┆ NO         ┆ NO  ┆ 2023       ┆ … ┆ DEFENSE    ┆ DLA        ┆ DEPT OF   ┆ DLA       │\n",
       "│            ┆            ┆     ┆            ┆   ┆ LOGISTICS  ┆ AVIATION   ┆ DEFENSE   ┆ AVIATION  │\n",
       "│            ┆            ┆     ┆            ┆   ┆ AGENCY     ┆            ┆           ┆ - DEFENSE │\n",
       "│            ┆            ┆     ┆            ┆   ┆            ┆            ┆           ┆ LOGISTICS │\n",
       "│            ┆            ┆     ┆            ┆   ┆            ┆            ┆           ┆ …         │\n",
       "│ YES        ┆ NO         ┆ NO  ┆ 2023       ┆ … ┆ DEFENSE    ┆ DLA LAND   ┆ DEPT OF   ┆ DLA LAND  │\n",
       "│            ┆            ┆     ┆            ┆   ┆ LOGISTICS  ┆ AND        ┆ DEFENSE   ┆ AND       │\n",
       "│            ┆            ┆     ┆            ┆   ┆ AGENCY     ┆ MARITIME   ┆           ┆ MARITIME  │\n",
       "│            ┆            ┆     ┆            ┆   ┆            ┆            ┆           ┆ - DEFENSE │\n",
       "│            ┆            ┆     ┆            ┆   ┆            ┆            ┆           ┆ …         │\n",
       "│ YES        ┆ NO         ┆ NO  ┆ 2023       ┆ … ┆ DEFENSE    ┆ DLA        ┆ DEPT OF   ┆ DLA       │\n",
       "│            ┆            ┆     ┆            ┆   ┆ LOGISTICS  ┆ AVIATION   ┆ DEFENSE   ┆ AVIATION  │\n",
       "│            ┆            ┆     ┆            ┆   ┆ AGENCY     ┆            ┆           ┆ - DEFENSE │\n",
       "│            ┆            ┆     ┆            ┆   ┆            ┆            ┆           ┆ LOGISTICS │\n",
       "│            ┆            ┆     ┆            ┆   ┆            ┆            ┆           ┆ …         │\n",
       "│ YES        ┆ NO         ┆ NO  ┆ 2023       ┆ … ┆ U.S.       ┆ U.S. DEPT  ┆ JUSTICE,  ┆ U.S. DEPT │\n",
       "│            ┆            ┆     ┆            ┆   ┆ MARSHALS   ┆ OF         ┆ DEPARTMEN ┆ OF        │\n",
       "│            ┆            ┆     ┆            ┆   ┆ SERVICE    ┆ JUSTICE,   ┆ T OF      ┆ JUSTICE,  │\n",
       "│            ┆            ┆     ┆            ┆   ┆            ┆ USM, W/MI  ┆           ┆ USM, W/MI │\n",
       "│            ┆            ┆     ┆            ┆   ┆            ┆            ┆           ┆ …         │\n",
       "│ YES        ┆ NO         ┆ NO  ┆ 2023       ┆ … ┆ FEDERAL    ┆ GSA/FAS    ┆ GENERAL   ┆ GSA/FAS   │\n",
       "│            ┆            ┆     ┆            ┆   ┆ ACQUISITIO ┆ HEARTLAND  ┆ SERVICES  ┆ HEARTLAND │\n",
       "│            ┆            ┆     ┆            ┆   ┆ N SERVICE  ┆ ACQUISITIO ┆ ADMINISTR ┆ ACQUISITI │\n",
       "│            ┆            ┆     ┆            ┆   ┆            ┆ N CE…      ┆ ATION     ┆ ON CE…    │\n",
       "│ YES        ┆ NO         ┆ NO  ┆ 2023       ┆ … ┆ DEPT OF    ┆ OFFICE OF  ┆ DEPT OF   ┆ OFFICE OF │\n",
       "│            ┆            ┆     ┆            ┆   ┆ THE NAVY   ┆ NAVAL      ┆ DEFENSE   ┆ NAVAL     │\n",
       "│            ┆            ┆     ┆            ┆   ┆            ┆ RESEARCH   ┆           ┆ RESEARCH  │\n",
       "│            ┆            ┆     ┆            ┆   ┆            ┆            ┆           ┆ - DEPT …  │\n",
       "│ YES        ┆ NO         ┆ NO  ┆ 2023       ┆ … ┆ OFFICE OF  ┆ OFFICE     ┆ HOMELAND  ┆ OFFICE    │\n",
       "│            ┆            ┆     ┆            ┆   ┆ THE        ┆ INSPECTOR  ┆ SECURITY, ┆ INSPECTOR │\n",
       "│            ┆            ┆     ┆            ┆   ┆ INSPECTOR  ┆ GENERAL    ┆ DEPARTMEN ┆ GENERAL - │\n",
       "│            ┆            ┆     ┆            ┆   ┆ GENERAL    ┆            ┆ T OF      ┆ OFFIC…    │\n",
       "│ YES        ┆ NO         ┆ YES ┆ 2023       ┆ … ┆ DEFENSE    ┆ DLA        ┆ DEPT OF   ┆ DLA       │\n",
       "│            ┆            ┆     ┆            ┆   ┆ LOGISTICS  ┆ AVIATION   ┆ DEFENSE   ┆ AVIATION  │\n",
       "│            ┆            ┆     ┆            ┆   ┆ AGENCY     ┆            ┆           ┆ - DEFENSE │\n",
       "│            ┆            ┆     ┆            ┆   ┆            ┆            ┆           ┆ LOGISTICS │\n",
       "│            ┆            ┆     ┆            ┆   ┆            ┆            ┆           ┆ …         │\n",
       "│ NO         ┆ NO         ┆ NO  ┆ 2023       ┆ … ┆ FEDERAL    ┆ COMMUNITY  ┆ JUSTICE,  ┆ COMMUNITY │\n",
       "│            ┆            ┆     ┆            ┆   ┆ PRISON     ┆ TREATMENT  ┆ DEPARTMEN ┆ TREATMENT │\n",
       "│            ┆            ┆     ┆            ┆   ┆ SYSTEM /   ┆ SERVICES - ┆ T OF      ┆ SERVICES  │\n",
       "│            ┆            ┆     ┆            ┆   ┆ BUREAU O…  ┆ C…         ┆           ┆ - C…      │\n",
       "│ YES        ┆ NO         ┆ NO  ┆ 2023       ┆ … ┆ FEDERAL    ┆ FEDERAL    ┆ JUSTICE,  ┆ FEDERAL   │\n",
       "│            ┆            ┆     ┆            ┆   ┆ PRISON IND ┆ PRISON IND ┆ DEPARTMEN ┆ PRISON    │\n",
       "│            ┆            ┆     ┆            ┆   ┆ USTRIES,   ┆ USTRIES,   ┆ T OF      ┆ INDUSTRIE │\n",
       "│            ┆            ┆     ┆            ┆   ┆ INC.       ┆ INC        ┆           ┆ S, INC -… │\n",
       "│ YES        ┆ NO         ┆ NO  ┆ 2023       ┆ … ┆ AGRICULTUR ┆ USDA  AMS  ┆ AGRICULTU ┆ USDA  AMS │\n",
       "│            ┆            ┆     ┆            ┆   ┆ AL         ┆ 3J14       ┆ RE, DEPAR ┆ 3J14 -    │\n",
       "│            ┆            ┆     ┆            ┆   ┆ MARKETING  ┆            ┆ TMENT OF  ┆ AGRICULTU │\n",
       "│            ┆            ┆     ┆            ┆   ┆ SERVICE    ┆            ┆           ┆ RAL M…    │\n",
       "│ YES        ┆ NO         ┆ NO  ┆ 2023       ┆ … ┆ DEFENSE    ┆ DLA        ┆ DEPT OF   ┆ DLA       │\n",
       "│            ┆            ┆     ┆            ┆   ┆ LOGISTICS  ┆ AVIATION   ┆ DEFENSE   ┆ AVIATION  │\n",
       "│            ┆            ┆     ┆            ┆   ┆ AGENCY     ┆            ┆           ┆ - DEFENSE │\n",
       "│            ┆            ┆     ┆            ┆   ┆            ┆            ┆           ┆ LOGISTICS │\n",
       "│            ┆            ┆     ┆            ┆   ┆            ┆            ┆           ┆ …         │\n",
       "└────────────┴────────────┴─────┴────────────┴───┴────────────┴────────────┴───────────┴───────────┘"
      ]
     },
     "execution_count": 25,
     "metadata": {},
     "output_type": "execute_result"
    }
   ],
   "source": [
    "concatenated_dataframe_all.tail(15)"
   ]
  },
  {
   "cell_type": "markdown",
   "id": "ddd3184b-2398-4a63-8a78-4fbf7d2d5f10",
   "metadata": {},
   "source": [
    "## **SAM Files** **(From Cert_Info notebook)**"
   ]
  },
  {
   "cell_type": "markdown",
   "id": "cc7299b5-b024-4907-bb92-6f1802d04b4e",
   "metadata": {},
   "source": [
    "### Pull column names from SAM extracting map"
   ]
  },
  {
   "cell_type": "code",
   "execution_count": 26,
   "id": "ac2a88d0-47a3-4d6b-9550-42213d254ea2",
   "metadata": {
    "tags": []
   },
   "outputs": [],
   "source": [
    "col_names = pl.read_excel('SAM_MASTER_EXTRACT_MAPPING_1Nov2023.xlsx', read_options={'skip_rows':3, 'null_values':'N/A'})\\\n",
    "    .filter(pl.col('Public')=='X')\\\n",
    "    .to_series()\\\n",
    "    .to_list()"
   ]
  },
  {
   "cell_type": "markdown",
   "id": "63a7a407-5764-438b-b171-a45116df0c84",
   "metadata": {},
   "source": [
    "### Read in the SAM data"
   ]
  },
  {
   "cell_type": "code",
   "execution_count": 27,
   "id": "6c7de461-1aa3-485d-af45-b1484a8e0a55",
   "metadata": {
    "tags": []
   },
   "outputs": [],
   "source": [
    "full_reg = pl.read_csv('SAM_PUBLIC_MONTHLY_V2_20240303.dat', has_header = False, separator='|', skip_rows=1,\n",
    "           missing_utf8_is_empty_string=True, ignore_errors=True, new_columns=col_names, truncate_ragged_lines=True)"
   ]
  },
  {
   "cell_type": "markdown",
   "id": "597c7167-b994-4335-abab-09c5bd3e467c",
   "metadata": {},
   "source": [
    "### Filter for relevant columns\n",
    "***CAGE CODE has the most values over more data sets compared to VENDOR UEI, therefore we should use CAGE CODE as our identifier moving forward***"
   ]
  },
  {
   "cell_type": "code",
   "execution_count": 28,
   "id": "ec9d1758-a0ed-412b-b8b3-1db31473bca7",
   "metadata": {
    "tags": []
   },
   "outputs": [],
   "source": [
    "full_reg=full_reg[['UNIQUE ENTITY ID','CAGE CODE', 'BUS TYPE STRING', 'SBA BUSINESS TYPES STRING']]"
   ]
  },
  {
   "cell_type": "code",
   "execution_count": 29,
   "id": "c3e6dba1-9a85-4df0-bba0-ea3727775407",
   "metadata": {
    "tags": []
   },
   "outputs": [
    {
     "data": {
      "text/html": [
       "<div><style>\n",
       ".dataframe > thead > tr,\n",
       ".dataframe > tbody > tr {\n",
       "  text-align: right;\n",
       "  white-space: pre-wrap;\n",
       "}\n",
       "</style>\n",
       "<small>shape: (50, 4)</small><table border=\"1\" class=\"dataframe\"><thead><tr><th>UNIQUE ENTITY ID</th><th>CAGE CODE</th><th>BUS TYPE STRING</th><th>SBA BUSINESS TYPES STRING</th></tr><tr><td>str</td><td>str</td><td>str</td><td>str</td></tr></thead><tbody><tr><td>&quot;C111ATT311C8&quot;</td><td>&quot;53YC5&quot;</td><td>&quot;2X~8W~A2~HQ~XS…</td><td>&quot;&quot;</td></tr><tr><td>&quot;C111BG66D155&quot;</td><td>&quot;6M9A6&quot;</td><td>&quot;A8&quot;</td><td>&quot;&quot;</td></tr><tr><td>&quot;C111FE1KRJF1&quot;</td><td>&quot;6T4Q4&quot;</td><td>&quot;A8&quot;</td><td>&quot;&quot;</td></tr><tr><td>&quot;C111JJBMS328&quot;</td><td>&quot;6PA87&quot;</td><td>&quot;2X~XS&quot;</td><td>&quot;&quot;</td></tr><tr><td>&quot;C112Q3D8VPM3&quot;</td><td>&quot;50JA8&quot;</td><td>&quot;2X~LJ~MF&quot;</td><td>&quot;&quot;</td></tr><tr><td>&quot;C112YNTNMG99&quot;</td><td>&quot;4PVE2&quot;</td><td>&quot;12~H6&quot;</td><td>&quot;&quot;</td></tr><tr><td>&quot;C112ZNS5HMR4&quot;</td><td>&quot;7UNS3&quot;</td><td>&quot;2X~8W~A2&quot;</td><td>&quot;&quot;</td></tr><tr><td>&quot;C113A7U19RD5&quot;</td><td>&quot;5LXD1&quot;</td><td>&quot;2X~LJ~MF&quot;</td><td>&quot;&quot;</td></tr><tr><td>&quot;C113E4798JC5&quot;</td><td>&quot;62EJ7&quot;</td><td>&quot;A8&quot;</td><td>&quot;&quot;</td></tr><tr><td>&quot;C113F9JLF4D9&quot;</td><td>&quot;6TSS5&quot;</td><td>&quot;27~2X&quot;</td><td>&quot;&quot;</td></tr><tr><td>&hellip;</td><td>&hellip;</td><td>&hellip;</td><td>&hellip;</td></tr><tr><td>&quot;C11CC7K9CGR7&quot;</td><td>&quot;6B2E0&quot;</td><td>&quot;A8&quot;</td><td>&quot;&quot;</td></tr><tr><td>&quot;C11CDBF54QK3&quot;</td><td>&quot;5ZJ15&quot;</td><td>&quot;2X&quot;</td><td>&quot;&quot;</td></tr><tr><td>&quot;C11CNE9GRTT5&quot;</td><td>&quot;4LUC3&quot;</td><td>&quot;12~C7&quot;</td><td>&quot;&quot;</td></tr><tr><td>&quot;C11CQMDVNWF3&quot;</td><td>&quot;5WJA9&quot;</td><td>&quot;12~C7&quot;</td><td>&quot;&quot;</td></tr><tr><td>&quot;C11CR8G26LG5&quot;</td><td>&quot;5R3Y5&quot;</td><td>&quot;12~C6~MG&quot;</td><td>&quot;&quot;</td></tr><tr><td>&quot;C11CSNQHCRQ6&quot;</td><td>&quot;6W5Q8&quot;</td><td>&quot;2X&quot;</td><td>&quot;&quot;</td></tr><tr><td>&quot;C11CU28JD8B8&quot;</td><td>&quot;3EUM2&quot;</td><td>&quot;12~C6~C8&quot;</td><td>&quot;&quot;</td></tr><tr><td>&quot;C11CVZMFEQ65&quot;</td><td>&quot;076G6&quot;</td><td>&quot;2X~8W~A2~MF&quot;</td><td>&quot;&quot;</td></tr><tr><td>&quot;C11DLLNQF2C7&quot;</td><td>&quot;7F3M6&quot;</td><td>&quot;12~C7&quot;</td><td>&quot;&quot;</td></tr><tr><td>&quot;C11DUJTHALU9&quot;</td><td>&quot;7T2Y6&quot;</td><td>&quot;2X&quot;</td><td>&quot;&quot;</td></tr></tbody></table></div>"
      ],
      "text/plain": [
       "shape: (50, 4)\n",
       "┌──────────────────┬───────────┬─────────────────┬───────────────────────────┐\n",
       "│ UNIQUE ENTITY ID ┆ CAGE CODE ┆ BUS TYPE STRING ┆ SBA BUSINESS TYPES STRING │\n",
       "│ ---              ┆ ---       ┆ ---             ┆ ---                       │\n",
       "│ str              ┆ str       ┆ str             ┆ str                       │\n",
       "╞══════════════════╪═══════════╪═════════════════╪═══════════════════════════╡\n",
       "│ C111ATT311C8     ┆ 53YC5     ┆ 2X~8W~A2~HQ~XS  ┆                           │\n",
       "│ C111BG66D155     ┆ 6M9A6     ┆ A8              ┆                           │\n",
       "│ C111FE1KRJF1     ┆ 6T4Q4     ┆ A8              ┆                           │\n",
       "│ C111JJBMS328     ┆ 6PA87     ┆ 2X~XS           ┆                           │\n",
       "│ C112Q3D8VPM3     ┆ 50JA8     ┆ 2X~LJ~MF        ┆                           │\n",
       "│ C112YNTNMG99     ┆ 4PVE2     ┆ 12~H6           ┆                           │\n",
       "│ C112ZNS5HMR4     ┆ 7UNS3     ┆ 2X~8W~A2        ┆                           │\n",
       "│ C113A7U19RD5     ┆ 5LXD1     ┆ 2X~LJ~MF        ┆                           │\n",
       "│ C113E4798JC5     ┆ 62EJ7     ┆ A8              ┆                           │\n",
       "│ C113F9JLF4D9     ┆ 6TSS5     ┆ 27~2X           ┆                           │\n",
       "│ …                ┆ …         ┆ …               ┆ …                         │\n",
       "│ C11CC7K9CGR7     ┆ 6B2E0     ┆ A8              ┆                           │\n",
       "│ C11CDBF54QK3     ┆ 5ZJ15     ┆ 2X              ┆                           │\n",
       "│ C11CNE9GRTT5     ┆ 4LUC3     ┆ 12~C7           ┆                           │\n",
       "│ C11CQMDVNWF3     ┆ 5WJA9     ┆ 12~C7           ┆                           │\n",
       "│ C11CR8G26LG5     ┆ 5R3Y5     ┆ 12~C6~MG        ┆                           │\n",
       "│ C11CSNQHCRQ6     ┆ 6W5Q8     ┆ 2X              ┆                           │\n",
       "│ C11CU28JD8B8     ┆ 3EUM2     ┆ 12~C6~C8        ┆                           │\n",
       "│ C11CVZMFEQ65     ┆ 076G6     ┆ 2X~8W~A2~MF     ┆                           │\n",
       "│ C11DLLNQF2C7     ┆ 7F3M6     ┆ 12~C7           ┆                           │\n",
       "│ C11DUJTHALU9     ┆ 7T2Y6     ┆ 2X              ┆                           │\n",
       "└──────────────────┴───────────┴─────────────────┴───────────────────────────┘"
      ]
     },
     "execution_count": 29,
     "metadata": {},
     "output_type": "execute_result"
    }
   ],
   "source": [
    "full_reg.head(50)"
   ]
  },
  {
   "cell_type": "markdown",
   "id": "f251a94a-9ced-40e7-9646-0faaf8b83d76",
   "metadata": {},
   "source": [
    "### Create business type columns using the SAM data dictionary file information"
   ]
  },
  {
   "cell_type": "markdown",
   "id": "e38d78e7-2173-4952-871f-4ffbec6add42",
   "metadata": {},
   "source": [
    "### 8(a)"
   ]
  },
  {
   "cell_type": "code",
   "execution_count": 30,
   "id": "71dd7bca-dc6f-498a-a39b-4d853c8d4b67",
   "metadata": {},
   "outputs": [],
   "source": [
    "# Minority-Owned Business\n",
    "self_8a_column = pl.col('BUS TYPE STRING').str.contains('23').map_elements(lambda x: 'YES' if x else 'NO').alias('SELF_8A')\n",
    "full_reg = full_reg.with_columns(self_8a_column)"
   ]
  },
  {
   "cell_type": "code",
   "execution_count": 31,
   "id": "4de7e562-d24c-4715-ae10-e83fab7d4952",
   "metadata": {},
   "outputs": [],
   "source": [
    "# SBA Certified 8(a) Program Participant\n",
    "cert_8a_column = pl.col('SBA BUSINESS TYPES STRING').str.contains('A6').map_elements(lambda x: 'YES' if x else 'NO').alias('CERT_8A')\n",
    "full_reg = full_reg.with_columns(cert_8a_column)"
   ]
  },
  {
   "cell_type": "markdown",
   "id": "a8eddf5e-dadd-464c-a2b4-b803bdb6d369",
   "metadata": {},
   "source": [
    "### HUBZone"
   ]
  },
  {
   "cell_type": "code",
   "execution_count": 32,
   "id": "e83ce144-defa-448f-bee1-a0246fca66b4",
   "metadata": {},
   "outputs": [],
   "source": [
    "# SBA Certified HUBZone Firm\n",
    "cert_HUBZone_column = pl.col('SBA BUSINESS TYPES STRING').str.contains('XX').map_elements(lambda x: 'YES' if x else 'NO').alias('CERT_HUBZone')\n",
    "full_reg = full_reg.with_columns(cert_HUBZone_column)"
   ]
  },
  {
   "cell_type": "markdown",
   "id": "85825b51-471f-4b74-a23a-8bf84c54fbf1",
   "metadata": {},
   "source": [
    "### Small Disadvantaged Business"
   ]
  },
  {
   "cell_type": "code",
   "execution_count": 33,
   "id": "86293fb3-bf7b-4f38-8a5c-c4e19cc82c12",
   "metadata": {},
   "outputs": [],
   "source": [
    "# Self Certified Small Disadvantaged Business\n",
    "self_SDB_column = pl.col('BUS TYPE STRING').str.contains('27').map_elements(lambda x: 'YES' if x else 'NO').alias('SELF_SDB')\n",
    "full_reg = full_reg.with_columns(self_SDB_column)"
   ]
  },
  {
   "cell_type": "code",
   "execution_count": 34,
   "id": "41ad4108-b8bd-49d0-b0f5-0147990876a2",
   "metadata": {},
   "outputs": [],
   "source": [
    "# SBA Certified Small Disadvantaged Business\n",
    "cert_SDB_column = pl.col('SBA BUSINESS TYPES STRING').str.contains('A4').map_elements(lambda x: 'YES' if x else 'NO').alias('CERT_SDB')\n",
    "full_reg = full_reg.with_columns(cert_SDB_column)"
   ]
  },
  {
   "cell_type": "markdown",
   "id": "1a0e5c83-04c9-49f0-8f30-01cbc7209151",
   "metadata": {},
   "source": [
    "### Women-Owned Small Business"
   ]
  },
  {
   "cell_type": "code",
   "execution_count": 35,
   "id": "665ddb17-64a2-4f12-95d3-8bd882869918",
   "metadata": {},
   "outputs": [],
   "source": [
    "# Self Certified Women-Owned Small Business\n",
    "self_WOSB_column = pl.col('BUS TYPE STRING').str.contains('8W').map_elements(lambda x: 'YES' if x else 'NO').alias('SELF_WOSB')\n",
    "full_reg = full_reg.with_columns(self_WOSB_column)"
   ]
  },
  {
   "cell_type": "code",
   "execution_count": 36,
   "id": "394c72f6-d26d-4001-802f-9fef392dd26b",
   "metadata": {},
   "outputs": [],
   "source": [
    "# SBA Certified Women-Owned Small Business\n",
    "cert_WOSB_column = pl.col('SBA BUSINESS TYPES STRING').str.contains('A9').map_elements(lambda x: 'YES' if x else 'NO').alias('CERT_WOSB')\n",
    "full_reg = full_reg.with_columns(cert_WOSB_column)"
   ]
  },
  {
   "cell_type": "markdown",
   "id": "2e20c082-ebc0-4070-84ee-1590f84e79da",
   "metadata": {},
   "source": [
    "### Economically Disadvantaged Women-Owned Small Business"
   ]
  },
  {
   "cell_type": "code",
   "execution_count": 37,
   "id": "29ab6955-550c-4883-8c21-41aae58e2130",
   "metadata": {},
   "outputs": [],
   "source": [
    "# Self Certified Economically Disadvantaged Women-Owned Small Business \n",
    "# Self Certified Women-Owned Small Business + Self Certified Small Disadvantaged Business\n",
    "self_EDWOSB_column = pl.col('BUS TYPE STRING').str.contains('8W|27').map_elements(lambda x: 'YES' if x else 'NO').alias('SELF_EDWOSB')\n",
    "full_reg = full_reg.with_columns(self_EDWOSB_column)"
   ]
  },
  {
   "cell_type": "code",
   "execution_count": 38,
   "id": "89485c49-c64d-41c1-bc42-f9868463437d",
   "metadata": {},
   "outputs": [],
   "source": [
    "# SBA Certified Economically Disadvantaged Women-Owned Small Business\n",
    "cert_EDWOSB_column = pl.col('SBA BUSINESS TYPES STRING').str.contains('A0').map_elements(lambda x: 'YES' if x else 'NO').alias('CERT_EDWOSB')\n",
    "full_reg = full_reg.with_columns(cert_EDWOSB_column)"
   ]
  },
  {
   "cell_type": "markdown",
   "id": "c0a4564c-f033-4d3d-9473-27384c45a3df",
   "metadata": {},
   "source": [
    "### Veteran-Owned Small Business (https://veterans.certify.sba.gov/#eligibility)"
   ]
  },
  {
   "cell_type": "code",
   "execution_count": 39,
   "id": "3499a33b-31fd-4507-94d6-6ab8a1f6fcde",
   "metadata": {},
   "outputs": [],
   "source": [
    "self_VOSB_column = pl.col('BUS TYPE STRING').str.contains('A5').map_elements(lambda x: 'YES' if x else 'NO').alias('SELF_VOSB')\n",
    "full_reg = full_reg.with_columns(self_VOSB_column) #Do we need to vet if a business is small?"
   ]
  },
  {
   "cell_type": "code",
   "execution_count": 40,
   "id": "dc321e2d-6178-4e95-baea-87b4d24ab971",
   "metadata": {
    "tags": []
   },
   "outputs": [],
   "source": [
    "self_SDVOSB_column = pl.col('BUS TYPE STRING').str.contains('QF').map_elements(lambda x: 'YES' if x else 'NO').alias('SELF_SDVOSB')\n",
    "full_reg = full_reg.with_columns(self_SDVOSB_column)"
   ]
  },
  {
   "cell_type": "code",
   "execution_count": 41,
   "id": "c026f86c-0414-457d-a4ae-630a8b589149",
   "metadata": {
    "tags": []
   },
   "outputs": [],
   "source": [
    "self_SDVOSBJV_column = pl.col('BUS TYPE STRING').str.contains('JV').map_elements(lambda x: 'YES' if x else 'NO').alias('SELF_SDVOSBJV')\n",
    "full_reg = full_reg.with_columns(self_SDVOSBJV_column)"
   ]
  },
  {
   "cell_type": "markdown",
   "id": "eaf03558-3bb3-4a3a-9d89-c88cb8c28585",
   "metadata": {},
   "source": [
    "### Ensure code above worked successfully"
   ]
  },
  {
   "cell_type": "code",
   "execution_count": 42,
   "id": "7e8ee1c4-e73a-4256-ace8-d6cfe5cbf831",
   "metadata": {
    "tags": []
   },
   "outputs": [
    {
     "data": {
      "text/plain": [
       "(643461, 16)"
      ]
     },
     "execution_count": 42,
     "metadata": {},
     "output_type": "execute_result"
    }
   ],
   "source": [
    "full_reg.shape"
   ]
  },
  {
   "cell_type": "code",
   "execution_count": 43,
   "id": "02c7833a-0b74-4ece-8240-eadcce96a807",
   "metadata": {
    "tags": []
   },
   "outputs": [
    {
     "data": {
      "text/html": [
       "<div><style>\n",
       ".dataframe > thead > tr,\n",
       ".dataframe > tbody > tr {\n",
       "  text-align: right;\n",
       "  white-space: pre-wrap;\n",
       "}\n",
       "</style>\n",
       "<small>shape: (20, 16)</small><table border=\"1\" class=\"dataframe\"><thead><tr><th>UNIQUE ENTITY ID</th><th>CAGE CODE</th><th>BUS TYPE STRING</th><th>SBA BUSINESS TYPES STRING</th><th>SELF_8A</th><th>CERT_8A</th><th>CERT_HUBZone</th><th>SELF_SDB</th><th>CERT_SDB</th><th>SELF_WOSB</th><th>CERT_WOSB</th><th>SELF_EDWOSB</th><th>CERT_EDWOSB</th><th>SELF_VOSB</th><th>SELF_SDVOSB</th><th>SELF_SDVOSBJV</th></tr><tr><td>str</td><td>str</td><td>str</td><td>str</td><td>str</td><td>str</td><td>str</td><td>str</td><td>str</td><td>str</td><td>str</td><td>str</td><td>str</td><td>str</td><td>str</td><td>str</td></tr></thead><tbody><tr><td>&quot;C111ATT311C8&quot;</td><td>&quot;53YC5&quot;</td><td>&quot;2X~8W~A2~HQ~XS…</td><td>&quot;&quot;</td><td>&quot;NO&quot;</td><td>&quot;NO&quot;</td><td>&quot;NO&quot;</td><td>&quot;NO&quot;</td><td>&quot;NO&quot;</td><td>&quot;YES&quot;</td><td>&quot;NO&quot;</td><td>&quot;YES&quot;</td><td>&quot;NO&quot;</td><td>&quot;NO&quot;</td><td>&quot;NO&quot;</td><td>&quot;NO&quot;</td></tr><tr><td>&quot;C111BG66D155&quot;</td><td>&quot;6M9A6&quot;</td><td>&quot;A8&quot;</td><td>&quot;&quot;</td><td>&quot;NO&quot;</td><td>&quot;NO&quot;</td><td>&quot;NO&quot;</td><td>&quot;NO&quot;</td><td>&quot;NO&quot;</td><td>&quot;NO&quot;</td><td>&quot;NO&quot;</td><td>&quot;NO&quot;</td><td>&quot;NO&quot;</td><td>&quot;NO&quot;</td><td>&quot;NO&quot;</td><td>&quot;NO&quot;</td></tr><tr><td>&quot;C111FE1KRJF1&quot;</td><td>&quot;6T4Q4&quot;</td><td>&quot;A8&quot;</td><td>&quot;&quot;</td><td>&quot;NO&quot;</td><td>&quot;NO&quot;</td><td>&quot;NO&quot;</td><td>&quot;NO&quot;</td><td>&quot;NO&quot;</td><td>&quot;NO&quot;</td><td>&quot;NO&quot;</td><td>&quot;NO&quot;</td><td>&quot;NO&quot;</td><td>&quot;NO&quot;</td><td>&quot;NO&quot;</td><td>&quot;NO&quot;</td></tr><tr><td>&quot;C111JJBMS328&quot;</td><td>&quot;6PA87&quot;</td><td>&quot;2X~XS&quot;</td><td>&quot;&quot;</td><td>&quot;NO&quot;</td><td>&quot;NO&quot;</td><td>&quot;NO&quot;</td><td>&quot;NO&quot;</td><td>&quot;NO&quot;</td><td>&quot;NO&quot;</td><td>&quot;NO&quot;</td><td>&quot;NO&quot;</td><td>&quot;NO&quot;</td><td>&quot;NO&quot;</td><td>&quot;NO&quot;</td><td>&quot;NO&quot;</td></tr><tr><td>&quot;C112Q3D8VPM3&quot;</td><td>&quot;50JA8&quot;</td><td>&quot;2X~LJ~MF&quot;</td><td>&quot;&quot;</td><td>&quot;NO&quot;</td><td>&quot;NO&quot;</td><td>&quot;NO&quot;</td><td>&quot;NO&quot;</td><td>&quot;NO&quot;</td><td>&quot;NO&quot;</td><td>&quot;NO&quot;</td><td>&quot;NO&quot;</td><td>&quot;NO&quot;</td><td>&quot;NO&quot;</td><td>&quot;NO&quot;</td><td>&quot;NO&quot;</td></tr><tr><td>&quot;C112YNTNMG99&quot;</td><td>&quot;4PVE2&quot;</td><td>&quot;12~H6&quot;</td><td>&quot;&quot;</td><td>&quot;NO&quot;</td><td>&quot;NO&quot;</td><td>&quot;NO&quot;</td><td>&quot;NO&quot;</td><td>&quot;NO&quot;</td><td>&quot;NO&quot;</td><td>&quot;NO&quot;</td><td>&quot;NO&quot;</td><td>&quot;NO&quot;</td><td>&quot;NO&quot;</td><td>&quot;NO&quot;</td><td>&quot;NO&quot;</td></tr><tr><td>&quot;C112ZNS5HMR4&quot;</td><td>&quot;7UNS3&quot;</td><td>&quot;2X~8W~A2&quot;</td><td>&quot;&quot;</td><td>&quot;NO&quot;</td><td>&quot;NO&quot;</td><td>&quot;NO&quot;</td><td>&quot;NO&quot;</td><td>&quot;NO&quot;</td><td>&quot;YES&quot;</td><td>&quot;NO&quot;</td><td>&quot;YES&quot;</td><td>&quot;NO&quot;</td><td>&quot;NO&quot;</td><td>&quot;NO&quot;</td><td>&quot;NO&quot;</td></tr><tr><td>&quot;C113A7U19RD5&quot;</td><td>&quot;5LXD1&quot;</td><td>&quot;2X~LJ~MF&quot;</td><td>&quot;&quot;</td><td>&quot;NO&quot;</td><td>&quot;NO&quot;</td><td>&quot;NO&quot;</td><td>&quot;NO&quot;</td><td>&quot;NO&quot;</td><td>&quot;NO&quot;</td><td>&quot;NO&quot;</td><td>&quot;NO&quot;</td><td>&quot;NO&quot;</td><td>&quot;NO&quot;</td><td>&quot;NO&quot;</td><td>&quot;NO&quot;</td></tr><tr><td>&quot;C113E4798JC5&quot;</td><td>&quot;62EJ7&quot;</td><td>&quot;A8&quot;</td><td>&quot;&quot;</td><td>&quot;NO&quot;</td><td>&quot;NO&quot;</td><td>&quot;NO&quot;</td><td>&quot;NO&quot;</td><td>&quot;NO&quot;</td><td>&quot;NO&quot;</td><td>&quot;NO&quot;</td><td>&quot;NO&quot;</td><td>&quot;NO&quot;</td><td>&quot;NO&quot;</td><td>&quot;NO&quot;</td><td>&quot;NO&quot;</td></tr><tr><td>&quot;C113F9JLF4D9&quot;</td><td>&quot;6TSS5&quot;</td><td>&quot;27~2X&quot;</td><td>&quot;&quot;</td><td>&quot;NO&quot;</td><td>&quot;NO&quot;</td><td>&quot;NO&quot;</td><td>&quot;YES&quot;</td><td>&quot;NO&quot;</td><td>&quot;NO&quot;</td><td>&quot;NO&quot;</td><td>&quot;YES&quot;</td><td>&quot;NO&quot;</td><td>&quot;NO&quot;</td><td>&quot;NO&quot;</td><td>&quot;NO&quot;</td></tr><tr><td>&quot;C113JMW3WGS7&quot;</td><td>&quot;1XN91&quot;</td><td>&quot;2X&quot;</td><td>&quot;&quot;</td><td>&quot;NO&quot;</td><td>&quot;NO&quot;</td><td>&quot;NO&quot;</td><td>&quot;NO&quot;</td><td>&quot;NO&quot;</td><td>&quot;NO&quot;</td><td>&quot;NO&quot;</td><td>&quot;NO&quot;</td><td>&quot;NO&quot;</td><td>&quot;NO&quot;</td><td>&quot;NO&quot;</td><td>&quot;NO&quot;</td></tr><tr><td>&quot;C113MJ7NGPT9&quot;</td><td>&quot;94JU8&quot;</td><td>&quot;2X~JX&quot;</td><td>&quot;&quot;</td><td>&quot;NO&quot;</td><td>&quot;NO&quot;</td><td>&quot;NO&quot;</td><td>&quot;NO&quot;</td><td>&quot;NO&quot;</td><td>&quot;NO&quot;</td><td>&quot;NO&quot;</td><td>&quot;NO&quot;</td><td>&quot;NO&quot;</td><td>&quot;NO&quot;</td><td>&quot;NO&quot;</td><td>&quot;NO&quot;</td></tr><tr><td>&quot;C113QWMDV467&quot;</td><td>&quot;8BL33&quot;</td><td>&quot;27~2X~8W~A2~PI…</td><td>&quot;&quot;</td><td>&quot;NO&quot;</td><td>&quot;NO&quot;</td><td>&quot;NO&quot;</td><td>&quot;YES&quot;</td><td>&quot;NO&quot;</td><td>&quot;YES&quot;</td><td>&quot;NO&quot;</td><td>&quot;YES&quot;</td><td>&quot;NO&quot;</td><td>&quot;NO&quot;</td><td>&quot;NO&quot;</td><td>&quot;NO&quot;</td></tr><tr><td>&quot;C113TVNE84A5&quot;</td><td>&quot;56UC6&quot;</td><td>&quot;A8&quot;</td><td>&quot;&quot;</td><td>&quot;NO&quot;</td><td>&quot;NO&quot;</td><td>&quot;NO&quot;</td><td>&quot;NO&quot;</td><td>&quot;NO&quot;</td><td>&quot;NO&quot;</td><td>&quot;NO&quot;</td><td>&quot;NO&quot;</td><td>&quot;NO&quot;</td><td>&quot;NO&quot;</td><td>&quot;NO&quot;</td><td>&quot;NO&quot;</td></tr><tr><td>&quot;C113Z4M6L444&quot;</td><td>&quot;818F7&quot;</td><td>&quot;2X~LJ&quot;</td><td>&quot;&quot;</td><td>&quot;NO&quot;</td><td>&quot;NO&quot;</td><td>&quot;NO&quot;</td><td>&quot;NO&quot;</td><td>&quot;NO&quot;</td><td>&quot;NO&quot;</td><td>&quot;NO&quot;</td><td>&quot;NO&quot;</td><td>&quot;NO&quot;</td><td>&quot;NO&quot;</td><td>&quot;NO&quot;</td><td>&quot;NO&quot;</td></tr><tr><td>&quot;C114HTL5ADV7&quot;</td><td>&quot;74884&quot;</td><td>&quot;2X~MF&quot;</td><td>&quot;&quot;</td><td>&quot;NO&quot;</td><td>&quot;NO&quot;</td><td>&quot;NO&quot;</td><td>&quot;NO&quot;</td><td>&quot;NO&quot;</td><td>&quot;NO&quot;</td><td>&quot;NO&quot;</td><td>&quot;NO&quot;</td><td>&quot;NO&quot;</td><td>&quot;NO&quot;</td><td>&quot;NO&quot;</td><td>&quot;NO&quot;</td></tr><tr><td>&quot;C114QV5R7YX8&quot;</td><td>&quot;0DVS0&quot;</td><td>&quot;2X~LJ~MF&quot;</td><td>&quot;&quot;</td><td>&quot;NO&quot;</td><td>&quot;NO&quot;</td><td>&quot;NO&quot;</td><td>&quot;NO&quot;</td><td>&quot;NO&quot;</td><td>&quot;NO&quot;</td><td>&quot;NO&quot;</td><td>&quot;NO&quot;</td><td>&quot;NO&quot;</td><td>&quot;NO&quot;</td><td>&quot;NO&quot;</td><td>&quot;NO&quot;</td></tr><tr><td>&quot;C114XHYBQA97&quot;</td><td>&quot;8KWV3&quot;</td><td>&quot;A8~H2&quot;</td><td>&quot;&quot;</td><td>&quot;NO&quot;</td><td>&quot;NO&quot;</td><td>&quot;NO&quot;</td><td>&quot;NO&quot;</td><td>&quot;NO&quot;</td><td>&quot;NO&quot;</td><td>&quot;NO&quot;</td><td>&quot;NO&quot;</td><td>&quot;NO&quot;</td><td>&quot;NO&quot;</td><td>&quot;NO&quot;</td><td>&quot;NO&quot;</td></tr><tr><td>&quot;C115HRKETCN8&quot;</td><td>&quot;6AYE2&quot;</td><td>&quot;2X~XS&quot;</td><td>&quot;&quot;</td><td>&quot;NO&quot;</td><td>&quot;NO&quot;</td><td>&quot;NO&quot;</td><td>&quot;NO&quot;</td><td>&quot;NO&quot;</td><td>&quot;NO&quot;</td><td>&quot;NO&quot;</td><td>&quot;NO&quot;</td><td>&quot;NO&quot;</td><td>&quot;NO&quot;</td><td>&quot;NO&quot;</td><td>&quot;NO&quot;</td></tr><tr><td>&quot;C115KDRBJH76&quot;</td><td>&quot;4N1Z2&quot;</td><td>&quot;27~2X~8E~8W~A2…</td><td>&quot;&quot;</td><td>&quot;NO&quot;</td><td>&quot;NO&quot;</td><td>&quot;NO&quot;</td><td>&quot;YES&quot;</td><td>&quot;NO&quot;</td><td>&quot;YES&quot;</td><td>&quot;NO&quot;</td><td>&quot;YES&quot;</td><td>&quot;NO&quot;</td><td>&quot;NO&quot;</td><td>&quot;NO&quot;</td><td>&quot;NO&quot;</td></tr></tbody></table></div>"
      ],
      "text/plain": [
       "shape: (20, 16)\n",
       "┌────────────┬───────┬────────────┬────────────┬───┬───────────┬───────────┬───────────┬───────────┐\n",
       "│ UNIQUE     ┆ CAGE  ┆ BUS TYPE   ┆ SBA        ┆ … ┆ CERT_EDWO ┆ SELF_VOSB ┆ SELF_SDVO ┆ SELF_SDVO │\n",
       "│ ENTITY ID  ┆ CODE  ┆ STRING     ┆ BUSINESS   ┆   ┆ SB        ┆ ---       ┆ SB        ┆ SBJV      │\n",
       "│ ---        ┆ ---   ┆ ---        ┆ TYPES      ┆   ┆ ---       ┆ str       ┆ ---       ┆ ---       │\n",
       "│ str        ┆ str   ┆ str        ┆ STRING     ┆   ┆ str       ┆           ┆ str       ┆ str       │\n",
       "│            ┆       ┆            ┆ ---        ┆   ┆           ┆           ┆           ┆           │\n",
       "│            ┆       ┆            ┆ str        ┆   ┆           ┆           ┆           ┆           │\n",
       "╞════════════╪═══════╪════════════╪════════════╪═══╪═══════════╪═══════════╪═══════════╪═══════════╡\n",
       "│ C111ATT311 ┆ 53YC5 ┆ 2X~8W~A2~H ┆            ┆ … ┆ NO        ┆ NO        ┆ NO        ┆ NO        │\n",
       "│ C8         ┆       ┆ Q~XS       ┆            ┆   ┆           ┆           ┆           ┆           │\n",
       "│ C111BG66D1 ┆ 6M9A6 ┆ A8         ┆            ┆ … ┆ NO        ┆ NO        ┆ NO        ┆ NO        │\n",
       "│ 55         ┆       ┆            ┆            ┆   ┆           ┆           ┆           ┆           │\n",
       "│ C111FE1KRJ ┆ 6T4Q4 ┆ A8         ┆            ┆ … ┆ NO        ┆ NO        ┆ NO        ┆ NO        │\n",
       "│ F1         ┆       ┆            ┆            ┆   ┆           ┆           ┆           ┆           │\n",
       "│ C111JJBMS3 ┆ 6PA87 ┆ 2X~XS      ┆            ┆ … ┆ NO        ┆ NO        ┆ NO        ┆ NO        │\n",
       "│ 28         ┆       ┆            ┆            ┆   ┆           ┆           ┆           ┆           │\n",
       "│ C112Q3D8VP ┆ 50JA8 ┆ 2X~LJ~MF   ┆            ┆ … ┆ NO        ┆ NO        ┆ NO        ┆ NO        │\n",
       "│ M3         ┆       ┆            ┆            ┆   ┆           ┆           ┆           ┆           │\n",
       "│ C112YNTNMG ┆ 4PVE2 ┆ 12~H6      ┆            ┆ … ┆ NO        ┆ NO        ┆ NO        ┆ NO        │\n",
       "│ 99         ┆       ┆            ┆            ┆   ┆           ┆           ┆           ┆           │\n",
       "│ C112ZNS5HM ┆ 7UNS3 ┆ 2X~8W~A2   ┆            ┆ … ┆ NO        ┆ NO        ┆ NO        ┆ NO        │\n",
       "│ R4         ┆       ┆            ┆            ┆   ┆           ┆           ┆           ┆           │\n",
       "│ C113A7U19R ┆ 5LXD1 ┆ 2X~LJ~MF   ┆            ┆ … ┆ NO        ┆ NO        ┆ NO        ┆ NO        │\n",
       "│ D5         ┆       ┆            ┆            ┆   ┆           ┆           ┆           ┆           │\n",
       "│ C113E4798J ┆ 62EJ7 ┆ A8         ┆            ┆ … ┆ NO        ┆ NO        ┆ NO        ┆ NO        │\n",
       "│ C5         ┆       ┆            ┆            ┆   ┆           ┆           ┆           ┆           │\n",
       "│ C113F9JLF4 ┆ 6TSS5 ┆ 27~2X      ┆            ┆ … ┆ NO        ┆ NO        ┆ NO        ┆ NO        │\n",
       "│ D9         ┆       ┆            ┆            ┆   ┆           ┆           ┆           ┆           │\n",
       "│ C113JMW3WG ┆ 1XN91 ┆ 2X         ┆            ┆ … ┆ NO        ┆ NO        ┆ NO        ┆ NO        │\n",
       "│ S7         ┆       ┆            ┆            ┆   ┆           ┆           ┆           ┆           │\n",
       "│ C113MJ7NGP ┆ 94JU8 ┆ 2X~JX      ┆            ┆ … ┆ NO        ┆ NO        ┆ NO        ┆ NO        │\n",
       "│ T9         ┆       ┆            ┆            ┆   ┆           ┆           ┆           ┆           │\n",
       "│ C113QWMDV4 ┆ 8BL33 ┆ 27~2X~8W~A ┆            ┆ … ┆ NO        ┆ NO        ┆ NO        ┆ NO        │\n",
       "│ 67         ┆       ┆ 2~PI       ┆            ┆   ┆           ┆           ┆           ┆           │\n",
       "│ C113TVNE84 ┆ 56UC6 ┆ A8         ┆            ┆ … ┆ NO        ┆ NO        ┆ NO        ┆ NO        │\n",
       "│ A5         ┆       ┆            ┆            ┆   ┆           ┆           ┆           ┆           │\n",
       "│ C113Z4M6L4 ┆ 818F7 ┆ 2X~LJ      ┆            ┆ … ┆ NO        ┆ NO        ┆ NO        ┆ NO        │\n",
       "│ 44         ┆       ┆            ┆            ┆   ┆           ┆           ┆           ┆           │\n",
       "│ C114HTL5AD ┆ 74884 ┆ 2X~MF      ┆            ┆ … ┆ NO        ┆ NO        ┆ NO        ┆ NO        │\n",
       "│ V7         ┆       ┆            ┆            ┆   ┆           ┆           ┆           ┆           │\n",
       "│ C114QV5R7Y ┆ 0DVS0 ┆ 2X~LJ~MF   ┆            ┆ … ┆ NO        ┆ NO        ┆ NO        ┆ NO        │\n",
       "│ X8         ┆       ┆            ┆            ┆   ┆           ┆           ┆           ┆           │\n",
       "│ C114XHYBQA ┆ 8KWV3 ┆ A8~H2      ┆            ┆ … ┆ NO        ┆ NO        ┆ NO        ┆ NO        │\n",
       "│ 97         ┆       ┆            ┆            ┆   ┆           ┆           ┆           ┆           │\n",
       "│ C115HRKETC ┆ 6AYE2 ┆ 2X~XS      ┆            ┆ … ┆ NO        ┆ NO        ┆ NO        ┆ NO        │\n",
       "│ N8         ┆       ┆            ┆            ┆   ┆           ┆           ┆           ┆           │\n",
       "│ C115KDRBJH ┆ 4N1Z2 ┆ 27~2X~8E~8 ┆            ┆ … ┆ NO        ┆ NO        ┆ NO        ┆ NO        │\n",
       "│ 76         ┆       ┆ W~A2~MF    ┆            ┆   ┆           ┆           ┆           ┆           │\n",
       "└────────────┴───────┴────────────┴────────────┴───┴───────────┴───────────┴───────────┴───────────┘"
      ]
     },
     "execution_count": 43,
     "metadata": {},
     "output_type": "execute_result"
    }
   ],
   "source": [
    "full_reg.head(20)"
   ]
  },
  {
   "cell_type": "markdown",
   "id": "6ed7bf0a-0275-4cf6-94a2-5ccb503f5780",
   "metadata": {},
   "source": [
    "### Rename Cage Code column for joining purposes"
   ]
  },
  {
   "cell_type": "code",
   "execution_count": 44,
   "id": "ab9186ad-2d9d-4101-ba3e-3ff945bc7db1",
   "metadata": {},
   "outputs": [],
   "source": [
    "full_reg = full_reg.rename({\"CAGE CODE\": \"CAGE_CODE\"})"
   ]
  },
  {
   "cell_type": "markdown",
   "id": "793c81e6-2c21-4307-8bc0-59d3e48f0a82",
   "metadata": {},
   "source": [
    "### Ensure code above worked"
   ]
  },
  {
   "cell_type": "code",
   "execution_count": 45,
   "id": "c3bedd74-966f-44af-9fe6-357438b95e3e",
   "metadata": {
    "tags": []
   },
   "outputs": [
    {
     "data": {
      "text/plain": [
       "['UNIQUE ENTITY ID',\n",
       " 'CAGE_CODE',\n",
       " 'BUS TYPE STRING',\n",
       " 'SBA BUSINESS TYPES STRING',\n",
       " 'SELF_8A',\n",
       " 'CERT_8A',\n",
       " 'CERT_HUBZone',\n",
       " 'SELF_SDB',\n",
       " 'CERT_SDB',\n",
       " 'SELF_WOSB',\n",
       " 'CERT_WOSB',\n",
       " 'SELF_EDWOSB',\n",
       " 'CERT_EDWOSB',\n",
       " 'SELF_VOSB',\n",
       " 'SELF_SDVOSB',\n",
       " 'SELF_SDVOSBJV']"
      ]
     },
     "execution_count": 45,
     "metadata": {},
     "output_type": "execute_result"
    }
   ],
   "source": [
    "full_reg.columns"
   ]
  },
  {
   "cell_type": "code",
   "execution_count": 46,
   "id": "e9b5a0d7-e5c6-4868-a798-52120341d768",
   "metadata": {
    "tags": []
   },
   "outputs": [
    {
     "data": {
      "text/html": [
       "<div><style>\n",
       ".dataframe > thead > tr,\n",
       ".dataframe > tbody > tr {\n",
       "  text-align: right;\n",
       "  white-space: pre-wrap;\n",
       "}\n",
       "</style>\n",
       "<small>shape: (20, 16)</small><table border=\"1\" class=\"dataframe\"><thead><tr><th>UNIQUE ENTITY ID</th><th>CAGE_CODE</th><th>BUS TYPE STRING</th><th>SBA BUSINESS TYPES STRING</th><th>SELF_8A</th><th>CERT_8A</th><th>CERT_HUBZone</th><th>SELF_SDB</th><th>CERT_SDB</th><th>SELF_WOSB</th><th>CERT_WOSB</th><th>SELF_EDWOSB</th><th>CERT_EDWOSB</th><th>SELF_VOSB</th><th>SELF_SDVOSB</th><th>SELF_SDVOSBJV</th></tr><tr><td>str</td><td>str</td><td>str</td><td>str</td><td>str</td><td>str</td><td>str</td><td>str</td><td>str</td><td>str</td><td>str</td><td>str</td><td>str</td><td>str</td><td>str</td><td>str</td></tr></thead><tbody><tr><td>&quot;C111ATT311C8&quot;</td><td>&quot;53YC5&quot;</td><td>&quot;2X~8W~A2~HQ~XS…</td><td>&quot;&quot;</td><td>&quot;NO&quot;</td><td>&quot;NO&quot;</td><td>&quot;NO&quot;</td><td>&quot;NO&quot;</td><td>&quot;NO&quot;</td><td>&quot;YES&quot;</td><td>&quot;NO&quot;</td><td>&quot;YES&quot;</td><td>&quot;NO&quot;</td><td>&quot;NO&quot;</td><td>&quot;NO&quot;</td><td>&quot;NO&quot;</td></tr><tr><td>&quot;C111BG66D155&quot;</td><td>&quot;6M9A6&quot;</td><td>&quot;A8&quot;</td><td>&quot;&quot;</td><td>&quot;NO&quot;</td><td>&quot;NO&quot;</td><td>&quot;NO&quot;</td><td>&quot;NO&quot;</td><td>&quot;NO&quot;</td><td>&quot;NO&quot;</td><td>&quot;NO&quot;</td><td>&quot;NO&quot;</td><td>&quot;NO&quot;</td><td>&quot;NO&quot;</td><td>&quot;NO&quot;</td><td>&quot;NO&quot;</td></tr><tr><td>&quot;C111FE1KRJF1&quot;</td><td>&quot;6T4Q4&quot;</td><td>&quot;A8&quot;</td><td>&quot;&quot;</td><td>&quot;NO&quot;</td><td>&quot;NO&quot;</td><td>&quot;NO&quot;</td><td>&quot;NO&quot;</td><td>&quot;NO&quot;</td><td>&quot;NO&quot;</td><td>&quot;NO&quot;</td><td>&quot;NO&quot;</td><td>&quot;NO&quot;</td><td>&quot;NO&quot;</td><td>&quot;NO&quot;</td><td>&quot;NO&quot;</td></tr><tr><td>&quot;C111JJBMS328&quot;</td><td>&quot;6PA87&quot;</td><td>&quot;2X~XS&quot;</td><td>&quot;&quot;</td><td>&quot;NO&quot;</td><td>&quot;NO&quot;</td><td>&quot;NO&quot;</td><td>&quot;NO&quot;</td><td>&quot;NO&quot;</td><td>&quot;NO&quot;</td><td>&quot;NO&quot;</td><td>&quot;NO&quot;</td><td>&quot;NO&quot;</td><td>&quot;NO&quot;</td><td>&quot;NO&quot;</td><td>&quot;NO&quot;</td></tr><tr><td>&quot;C112Q3D8VPM3&quot;</td><td>&quot;50JA8&quot;</td><td>&quot;2X~LJ~MF&quot;</td><td>&quot;&quot;</td><td>&quot;NO&quot;</td><td>&quot;NO&quot;</td><td>&quot;NO&quot;</td><td>&quot;NO&quot;</td><td>&quot;NO&quot;</td><td>&quot;NO&quot;</td><td>&quot;NO&quot;</td><td>&quot;NO&quot;</td><td>&quot;NO&quot;</td><td>&quot;NO&quot;</td><td>&quot;NO&quot;</td><td>&quot;NO&quot;</td></tr><tr><td>&quot;C112YNTNMG99&quot;</td><td>&quot;4PVE2&quot;</td><td>&quot;12~H6&quot;</td><td>&quot;&quot;</td><td>&quot;NO&quot;</td><td>&quot;NO&quot;</td><td>&quot;NO&quot;</td><td>&quot;NO&quot;</td><td>&quot;NO&quot;</td><td>&quot;NO&quot;</td><td>&quot;NO&quot;</td><td>&quot;NO&quot;</td><td>&quot;NO&quot;</td><td>&quot;NO&quot;</td><td>&quot;NO&quot;</td><td>&quot;NO&quot;</td></tr><tr><td>&quot;C112ZNS5HMR4&quot;</td><td>&quot;7UNS3&quot;</td><td>&quot;2X~8W~A2&quot;</td><td>&quot;&quot;</td><td>&quot;NO&quot;</td><td>&quot;NO&quot;</td><td>&quot;NO&quot;</td><td>&quot;NO&quot;</td><td>&quot;NO&quot;</td><td>&quot;YES&quot;</td><td>&quot;NO&quot;</td><td>&quot;YES&quot;</td><td>&quot;NO&quot;</td><td>&quot;NO&quot;</td><td>&quot;NO&quot;</td><td>&quot;NO&quot;</td></tr><tr><td>&quot;C113A7U19RD5&quot;</td><td>&quot;5LXD1&quot;</td><td>&quot;2X~LJ~MF&quot;</td><td>&quot;&quot;</td><td>&quot;NO&quot;</td><td>&quot;NO&quot;</td><td>&quot;NO&quot;</td><td>&quot;NO&quot;</td><td>&quot;NO&quot;</td><td>&quot;NO&quot;</td><td>&quot;NO&quot;</td><td>&quot;NO&quot;</td><td>&quot;NO&quot;</td><td>&quot;NO&quot;</td><td>&quot;NO&quot;</td><td>&quot;NO&quot;</td></tr><tr><td>&quot;C113E4798JC5&quot;</td><td>&quot;62EJ7&quot;</td><td>&quot;A8&quot;</td><td>&quot;&quot;</td><td>&quot;NO&quot;</td><td>&quot;NO&quot;</td><td>&quot;NO&quot;</td><td>&quot;NO&quot;</td><td>&quot;NO&quot;</td><td>&quot;NO&quot;</td><td>&quot;NO&quot;</td><td>&quot;NO&quot;</td><td>&quot;NO&quot;</td><td>&quot;NO&quot;</td><td>&quot;NO&quot;</td><td>&quot;NO&quot;</td></tr><tr><td>&quot;C113F9JLF4D9&quot;</td><td>&quot;6TSS5&quot;</td><td>&quot;27~2X&quot;</td><td>&quot;&quot;</td><td>&quot;NO&quot;</td><td>&quot;NO&quot;</td><td>&quot;NO&quot;</td><td>&quot;YES&quot;</td><td>&quot;NO&quot;</td><td>&quot;NO&quot;</td><td>&quot;NO&quot;</td><td>&quot;YES&quot;</td><td>&quot;NO&quot;</td><td>&quot;NO&quot;</td><td>&quot;NO&quot;</td><td>&quot;NO&quot;</td></tr><tr><td>&quot;C113JMW3WGS7&quot;</td><td>&quot;1XN91&quot;</td><td>&quot;2X&quot;</td><td>&quot;&quot;</td><td>&quot;NO&quot;</td><td>&quot;NO&quot;</td><td>&quot;NO&quot;</td><td>&quot;NO&quot;</td><td>&quot;NO&quot;</td><td>&quot;NO&quot;</td><td>&quot;NO&quot;</td><td>&quot;NO&quot;</td><td>&quot;NO&quot;</td><td>&quot;NO&quot;</td><td>&quot;NO&quot;</td><td>&quot;NO&quot;</td></tr><tr><td>&quot;C113MJ7NGPT9&quot;</td><td>&quot;94JU8&quot;</td><td>&quot;2X~JX&quot;</td><td>&quot;&quot;</td><td>&quot;NO&quot;</td><td>&quot;NO&quot;</td><td>&quot;NO&quot;</td><td>&quot;NO&quot;</td><td>&quot;NO&quot;</td><td>&quot;NO&quot;</td><td>&quot;NO&quot;</td><td>&quot;NO&quot;</td><td>&quot;NO&quot;</td><td>&quot;NO&quot;</td><td>&quot;NO&quot;</td><td>&quot;NO&quot;</td></tr><tr><td>&quot;C113QWMDV467&quot;</td><td>&quot;8BL33&quot;</td><td>&quot;27~2X~8W~A2~PI…</td><td>&quot;&quot;</td><td>&quot;NO&quot;</td><td>&quot;NO&quot;</td><td>&quot;NO&quot;</td><td>&quot;YES&quot;</td><td>&quot;NO&quot;</td><td>&quot;YES&quot;</td><td>&quot;NO&quot;</td><td>&quot;YES&quot;</td><td>&quot;NO&quot;</td><td>&quot;NO&quot;</td><td>&quot;NO&quot;</td><td>&quot;NO&quot;</td></tr><tr><td>&quot;C113TVNE84A5&quot;</td><td>&quot;56UC6&quot;</td><td>&quot;A8&quot;</td><td>&quot;&quot;</td><td>&quot;NO&quot;</td><td>&quot;NO&quot;</td><td>&quot;NO&quot;</td><td>&quot;NO&quot;</td><td>&quot;NO&quot;</td><td>&quot;NO&quot;</td><td>&quot;NO&quot;</td><td>&quot;NO&quot;</td><td>&quot;NO&quot;</td><td>&quot;NO&quot;</td><td>&quot;NO&quot;</td><td>&quot;NO&quot;</td></tr><tr><td>&quot;C113Z4M6L444&quot;</td><td>&quot;818F7&quot;</td><td>&quot;2X~LJ&quot;</td><td>&quot;&quot;</td><td>&quot;NO&quot;</td><td>&quot;NO&quot;</td><td>&quot;NO&quot;</td><td>&quot;NO&quot;</td><td>&quot;NO&quot;</td><td>&quot;NO&quot;</td><td>&quot;NO&quot;</td><td>&quot;NO&quot;</td><td>&quot;NO&quot;</td><td>&quot;NO&quot;</td><td>&quot;NO&quot;</td><td>&quot;NO&quot;</td></tr><tr><td>&quot;C114HTL5ADV7&quot;</td><td>&quot;74884&quot;</td><td>&quot;2X~MF&quot;</td><td>&quot;&quot;</td><td>&quot;NO&quot;</td><td>&quot;NO&quot;</td><td>&quot;NO&quot;</td><td>&quot;NO&quot;</td><td>&quot;NO&quot;</td><td>&quot;NO&quot;</td><td>&quot;NO&quot;</td><td>&quot;NO&quot;</td><td>&quot;NO&quot;</td><td>&quot;NO&quot;</td><td>&quot;NO&quot;</td><td>&quot;NO&quot;</td></tr><tr><td>&quot;C114QV5R7YX8&quot;</td><td>&quot;0DVS0&quot;</td><td>&quot;2X~LJ~MF&quot;</td><td>&quot;&quot;</td><td>&quot;NO&quot;</td><td>&quot;NO&quot;</td><td>&quot;NO&quot;</td><td>&quot;NO&quot;</td><td>&quot;NO&quot;</td><td>&quot;NO&quot;</td><td>&quot;NO&quot;</td><td>&quot;NO&quot;</td><td>&quot;NO&quot;</td><td>&quot;NO&quot;</td><td>&quot;NO&quot;</td><td>&quot;NO&quot;</td></tr><tr><td>&quot;C114XHYBQA97&quot;</td><td>&quot;8KWV3&quot;</td><td>&quot;A8~H2&quot;</td><td>&quot;&quot;</td><td>&quot;NO&quot;</td><td>&quot;NO&quot;</td><td>&quot;NO&quot;</td><td>&quot;NO&quot;</td><td>&quot;NO&quot;</td><td>&quot;NO&quot;</td><td>&quot;NO&quot;</td><td>&quot;NO&quot;</td><td>&quot;NO&quot;</td><td>&quot;NO&quot;</td><td>&quot;NO&quot;</td><td>&quot;NO&quot;</td></tr><tr><td>&quot;C115HRKETCN8&quot;</td><td>&quot;6AYE2&quot;</td><td>&quot;2X~XS&quot;</td><td>&quot;&quot;</td><td>&quot;NO&quot;</td><td>&quot;NO&quot;</td><td>&quot;NO&quot;</td><td>&quot;NO&quot;</td><td>&quot;NO&quot;</td><td>&quot;NO&quot;</td><td>&quot;NO&quot;</td><td>&quot;NO&quot;</td><td>&quot;NO&quot;</td><td>&quot;NO&quot;</td><td>&quot;NO&quot;</td><td>&quot;NO&quot;</td></tr><tr><td>&quot;C115KDRBJH76&quot;</td><td>&quot;4N1Z2&quot;</td><td>&quot;27~2X~8E~8W~A2…</td><td>&quot;&quot;</td><td>&quot;NO&quot;</td><td>&quot;NO&quot;</td><td>&quot;NO&quot;</td><td>&quot;YES&quot;</td><td>&quot;NO&quot;</td><td>&quot;YES&quot;</td><td>&quot;NO&quot;</td><td>&quot;YES&quot;</td><td>&quot;NO&quot;</td><td>&quot;NO&quot;</td><td>&quot;NO&quot;</td><td>&quot;NO&quot;</td></tr></tbody></table></div>"
      ],
      "text/plain": [
       "shape: (20, 16)\n",
       "┌───────────┬───────────┬───────────┬───────────┬───┬───────────┬───────────┬───────────┬──────────┐\n",
       "│ UNIQUE    ┆ CAGE_CODE ┆ BUS TYPE  ┆ SBA       ┆ … ┆ CERT_EDWO ┆ SELF_VOSB ┆ SELF_SDVO ┆ SELF_SDV │\n",
       "│ ENTITY ID ┆ ---       ┆ STRING    ┆ BUSINESS  ┆   ┆ SB        ┆ ---       ┆ SB        ┆ OSBJV    │\n",
       "│ ---       ┆ str       ┆ ---       ┆ TYPES     ┆   ┆ ---       ┆ str       ┆ ---       ┆ ---      │\n",
       "│ str       ┆           ┆ str       ┆ STRING    ┆   ┆ str       ┆           ┆ str       ┆ str      │\n",
       "│           ┆           ┆           ┆ ---       ┆   ┆           ┆           ┆           ┆          │\n",
       "│           ┆           ┆           ┆ str       ┆   ┆           ┆           ┆           ┆          │\n",
       "╞═══════════╪═══════════╪═══════════╪═══════════╪═══╪═══════════╪═══════════╪═══════════╪══════════╡\n",
       "│ C111ATT31 ┆ 53YC5     ┆ 2X~8W~A2~ ┆           ┆ … ┆ NO        ┆ NO        ┆ NO        ┆ NO       │\n",
       "│ 1C8       ┆           ┆ HQ~XS     ┆           ┆   ┆           ┆           ┆           ┆          │\n",
       "│ C111BG66D ┆ 6M9A6     ┆ A8        ┆           ┆ … ┆ NO        ┆ NO        ┆ NO        ┆ NO       │\n",
       "│ 155       ┆           ┆           ┆           ┆   ┆           ┆           ┆           ┆          │\n",
       "│ C111FE1KR ┆ 6T4Q4     ┆ A8        ┆           ┆ … ┆ NO        ┆ NO        ┆ NO        ┆ NO       │\n",
       "│ JF1       ┆           ┆           ┆           ┆   ┆           ┆           ┆           ┆          │\n",
       "│ C111JJBMS ┆ 6PA87     ┆ 2X~XS     ┆           ┆ … ┆ NO        ┆ NO        ┆ NO        ┆ NO       │\n",
       "│ 328       ┆           ┆           ┆           ┆   ┆           ┆           ┆           ┆          │\n",
       "│ C112Q3D8V ┆ 50JA8     ┆ 2X~LJ~MF  ┆           ┆ … ┆ NO        ┆ NO        ┆ NO        ┆ NO       │\n",
       "│ PM3       ┆           ┆           ┆           ┆   ┆           ┆           ┆           ┆          │\n",
       "│ C112YNTNM ┆ 4PVE2     ┆ 12~H6     ┆           ┆ … ┆ NO        ┆ NO        ┆ NO        ┆ NO       │\n",
       "│ G99       ┆           ┆           ┆           ┆   ┆           ┆           ┆           ┆          │\n",
       "│ C112ZNS5H ┆ 7UNS3     ┆ 2X~8W~A2  ┆           ┆ … ┆ NO        ┆ NO        ┆ NO        ┆ NO       │\n",
       "│ MR4       ┆           ┆           ┆           ┆   ┆           ┆           ┆           ┆          │\n",
       "│ C113A7U19 ┆ 5LXD1     ┆ 2X~LJ~MF  ┆           ┆ … ┆ NO        ┆ NO        ┆ NO        ┆ NO       │\n",
       "│ RD5       ┆           ┆           ┆           ┆   ┆           ┆           ┆           ┆          │\n",
       "│ C113E4798 ┆ 62EJ7     ┆ A8        ┆           ┆ … ┆ NO        ┆ NO        ┆ NO        ┆ NO       │\n",
       "│ JC5       ┆           ┆           ┆           ┆   ┆           ┆           ┆           ┆          │\n",
       "│ C113F9JLF ┆ 6TSS5     ┆ 27~2X     ┆           ┆ … ┆ NO        ┆ NO        ┆ NO        ┆ NO       │\n",
       "│ 4D9       ┆           ┆           ┆           ┆   ┆           ┆           ┆           ┆          │\n",
       "│ C113JMW3W ┆ 1XN91     ┆ 2X        ┆           ┆ … ┆ NO        ┆ NO        ┆ NO        ┆ NO       │\n",
       "│ GS7       ┆           ┆           ┆           ┆   ┆           ┆           ┆           ┆          │\n",
       "│ C113MJ7NG ┆ 94JU8     ┆ 2X~JX     ┆           ┆ … ┆ NO        ┆ NO        ┆ NO        ┆ NO       │\n",
       "│ PT9       ┆           ┆           ┆           ┆   ┆           ┆           ┆           ┆          │\n",
       "│ C113QWMDV ┆ 8BL33     ┆ 27~2X~8W~ ┆           ┆ … ┆ NO        ┆ NO        ┆ NO        ┆ NO       │\n",
       "│ 467       ┆           ┆ A2~PI     ┆           ┆   ┆           ┆           ┆           ┆          │\n",
       "│ C113TVNE8 ┆ 56UC6     ┆ A8        ┆           ┆ … ┆ NO        ┆ NO        ┆ NO        ┆ NO       │\n",
       "│ 4A5       ┆           ┆           ┆           ┆   ┆           ┆           ┆           ┆          │\n",
       "│ C113Z4M6L ┆ 818F7     ┆ 2X~LJ     ┆           ┆ … ┆ NO        ┆ NO        ┆ NO        ┆ NO       │\n",
       "│ 444       ┆           ┆           ┆           ┆   ┆           ┆           ┆           ┆          │\n",
       "│ C114HTL5A ┆ 74884     ┆ 2X~MF     ┆           ┆ … ┆ NO        ┆ NO        ┆ NO        ┆ NO       │\n",
       "│ DV7       ┆           ┆           ┆           ┆   ┆           ┆           ┆           ┆          │\n",
       "│ C114QV5R7 ┆ 0DVS0     ┆ 2X~LJ~MF  ┆           ┆ … ┆ NO        ┆ NO        ┆ NO        ┆ NO       │\n",
       "│ YX8       ┆           ┆           ┆           ┆   ┆           ┆           ┆           ┆          │\n",
       "│ C114XHYBQ ┆ 8KWV3     ┆ A8~H2     ┆           ┆ … ┆ NO        ┆ NO        ┆ NO        ┆ NO       │\n",
       "│ A97       ┆           ┆           ┆           ┆   ┆           ┆           ┆           ┆          │\n",
       "│ C115HRKET ┆ 6AYE2     ┆ 2X~XS     ┆           ┆ … ┆ NO        ┆ NO        ┆ NO        ┆ NO       │\n",
       "│ CN8       ┆           ┆           ┆           ┆   ┆           ┆           ┆           ┆          │\n",
       "│ C115KDRBJ ┆ 4N1Z2     ┆ 27~2X~8E~ ┆           ┆ … ┆ NO        ┆ NO        ┆ NO        ┆ NO       │\n",
       "│ H76       ┆           ┆ 8W~A2~MF  ┆           ┆   ┆           ┆           ┆           ┆          │\n",
       "└───────────┴───────────┴───────────┴───────────┴───┴───────────┴───────────┴───────────┴──────────┘"
      ]
     },
     "execution_count": 46,
     "metadata": {},
     "output_type": "execute_result"
    }
   ],
   "source": [
    "full_reg.head(20)"
   ]
  },
  {
   "cell_type": "markdown",
   "id": "438119f9-7f09-4855-bbbd-b75044916a98",
   "metadata": {},
   "source": [
    "## Merge SAM dataframes with each other"
   ]
  },
  {
   "cell_type": "markdown",
   "id": "9d197af5-0cff-458e-a49a-489bd2d52cc5",
   "metadata": {},
   "source": [
    "**The approach here is to perform anti joins to create dataframes that have unique rows not found by the main dataframe, which for our case will be the 0303 2024 SAM data file. From there we will concatenate the dataframes as performed above using a dictionary to create a data frame list. The dataframes will only contain CAGE CODE and BUSINESS TYPE STRING, and once merged, the cleaning performed to gather the relevant columns will be executed on the complete dataset.**\n",
    "\n",
    "***The trick here is finding a way to approach creating the data sets considering the naming conventation and column name collection isn't as straightfoward as it was for the parquet files.***"
   ]
  },
  {
   "cell_type": "code",
   "execution_count": 47,
   "id": "e6f7bcbb-67b3-4aec-8164-b9b3cc903006",
   "metadata": {
    "tags": []
   },
   "outputs": [],
   "source": [
    "SAM_column_mapping_files = ['SAM Mapping Public File Layout - Modified.xlsx',\n",
    "'SAM Mapping Public File Layout - Modified.xlsx', \n",
    "'SAM Mapping Public File Layout - Modified.xlsx',\n",
    "'SAM Mapping Public File Layout - Modified.xlsx', \n",
    "'SAM Mapping Public File Layout - Modified.xlsx',\n",
    "'SAM Mapping Public File Layout - Modified.xlsx',\n",
    "'SAM Mapping Public File Layout - Modified.xlsx',  \n",
    "'SAM Mapping Public File Layout - Modified.xlsx',    \n",
    "'SAM Mapping Public File Layout - Modified.xlsx',\n",
    "'SAM Mapping Public File Layout - Modified.xlsx', \n",
    "'SAM Mapping Public File Layout - Modified.xlsx', \n",
    "'SAM Mapping Public File Layout - Modified.xlsx', \n",
    "'SAM Mapping Public V2 File Layout - Modified.xlsx', \n",
    "'SAM Mapping Public V2 File Layout - Modified.xlsx', \n",
    "'SAM Mapping Public V2 File Layout - Modified.xlsx', \n",
    "'SAM_MASTER_EXTRACT_MAPPING_1Nov2023.xlsx',\n",
    "'SAM_MASTER_EXTRACT_MAPPING_1Nov2023.xlsx']\n"
   ]
  },
  {
   "cell_type": "code",
   "execution_count": 48,
   "id": "f93ff7a5-5798-4828-8d88-b6ff17d2d007",
   "metadata": {
    "tags": []
   },
   "outputs": [],
   "source": [
    "SAM_datafiles = ['SAM_PUBLIC_MONTHLY_2014_NOV_MODIFIED.dat', \n",
    "'SAM_PUBLIC_MONTHLY_2015_MAY_MODIFIED.dat', 'SAM_PUBLIC_MONTHLY_2015_NOV_MODIFIED.dat', \n",
    "'SAM_PUBLIC_MONTHLY_2016_MAY_MODIFIED.dat', 'SAM_PUBLIC_MONTHLY_2016_NOV_MODIFIED.dat', \n",
    "'SAM_PUBLIC_MONTHLY_2017_MAY_MODIFIED.dat', 'SAM_PUBLIC_MONTHLY_2017_NOV_MODIFIED.dat',\n",
    "'SAM_PUBLIC_MONTHLY_2018_MAY_MODIFIED.dat', 'SAM_PUBLIC_MONTHLY_2018_NOV_MODIFIED.dat', \n",
    "'SAM_PUBLIC_MONTHLY_2019_MAY_MODIFIED.dat', 'SAM_PUBLIC_MONTHLY_2019_NOV_MODIFIED.dat', \n",
    "'SAM_PUBLIC_MONTHLY_2020_MAY_MODIFIED.dat', 'SAM_PUBLIC_MONTHLY_2020_NOV_MODIFIED.dat', \n",
    "'SAM_PUBLIC_MONTHLY_2021_MAY_MODIFIED.dat', 'SAM_PUBLIC_MONTHLY_2021_NOV_MODIFIED.dat', \n",
    "'SAM_PUBLIC_MONTHLY_V2_20231105.dat', 'SAM_PUBLIC_MONTHLY_V2_20240204.dat']\n"
   ]
  },
  {
   "cell_type": "code",
   "execution_count": 49,
   "id": "e726a0eb-a66c-4ec5-9b98-96d6d4c8bdab",
   "metadata": {
    "tags": []
   },
   "outputs": [],
   "source": [
    "f = {}"
   ]
  },
  {
   "cell_type": "code",
   "execution_count": 50,
   "id": "444030d3-3a48-429d-a7ca-a0fbb62dad4c",
   "metadata": {
    "tags": []
   },
   "outputs": [],
   "source": [
    "col_names = pl.read_excel('SAM_MASTER_EXTRACT_MAPPING_1Nov2023.xlsx', read_options={'skip_rows':3, 'null_values':'N/A'})\\\n",
    "    .filter(pl.col('Public')=='X')\\\n",
    "    .to_series()\\\n",
    "    .to_list()"
   ]
  },
  {
   "cell_type": "code",
   "execution_count": 51,
   "id": "e59f0f93-e1b0-4d0e-979c-e2a392fedf1f",
   "metadata": {
    "tags": []
   },
   "outputs": [],
   "source": [
    "base_reg = pl.read_csv('SAM_PUBLIC_MONTHLY_V2_20240303.dat', has_header = False, separator='|', skip_rows=1,\n",
    "           missing_utf8_is_empty_string=True, ignore_errors=True, new_columns=col_names, truncate_ragged_lines=True)"
   ]
  },
  {
   "cell_type": "code",
   "execution_count": 52,
   "id": "654b3867-5b2b-4468-8bfb-57b79502be7b",
   "metadata": {
    "tags": []
   },
   "outputs": [],
   "source": [
    "base_reg = base_reg[['CAGE CODE', 'BUS TYPE STRING', 'SBA BUSINESS TYPES STRING']]"
   ]
  },
  {
   "cell_type": "code",
   "execution_count": 53,
   "id": "68c28ddc-767f-4b52-a4f9-5895c5f336ca",
   "metadata": {
    "tags": []
   },
   "outputs": [],
   "source": [
    "len_base = len(base_reg)"
   ]
  },
  {
   "cell_type": "code",
   "execution_count": 54,
   "id": "d8290bb7-5cf9-42be-8079-9a16c43a68f6",
   "metadata": {},
   "outputs": [
    {
     "data": {
      "text/plain": [
       "643461"
      ]
     },
     "execution_count": 54,
     "metadata": {},
     "output_type": "execute_result"
    }
   ],
   "source": [
    "len_base"
   ]
  },
  {
   "cell_type": "code",
   "execution_count": 55,
   "id": "d77f3586-d600-4e31-84ac-fdaf6ac31eb5",
   "metadata": {
    "tags": []
   },
   "outputs": [],
   "source": [
    "len_base_unique = len(base_reg['CAGE CODE'].unique())"
   ]
  },
  {
   "cell_type": "code",
   "execution_count": 56,
   "id": "ee7c75af-bba8-47e9-a8ad-20265ab2d1ed",
   "metadata": {},
   "outputs": [
    {
     "data": {
      "text/plain": [
       "587685"
      ]
     },
     "execution_count": 56,
     "metadata": {},
     "output_type": "execute_result"
    }
   ],
   "source": [
    "len_base_unique"
   ]
  },
  {
   "cell_type": "code",
   "execution_count": 57,
   "id": "a0899c97-481c-4ff8-a909-b386255d9450",
   "metadata": {
    "tags": []
   },
   "outputs": [
    {
     "data": {
      "text/plain": [
       "55776"
      ]
     },
     "execution_count": 57,
     "metadata": {},
     "output_type": "execute_result"
    }
   ],
   "source": [
    "len_base - len_base_unique"
   ]
  },
  {
   "cell_type": "code",
   "execution_count": 58,
   "id": "34d4556d-d75b-4c27-aba3-f30f22c1d2f0",
   "metadata": {
    "tags": []
   },
   "outputs": [],
   "source": [
    "for x in range(0,17):\n",
    "    col_file = SAM_column_mapping_files[x]\n",
    "    SAM_file = SAM_datafiles[x]\n",
    "    SAM_col_names = pl.read_excel(col_file, read_options={'skip_rows':3, 'null_values':'N/A'})\\\n",
    "    .filter(pl.col('Public')=='X')\\\n",
    "    .to_series()\\\n",
    "    .to_list()\n",
    "    f[x] = pl.read_csv(SAM_file, has_header = False, separator='|', skip_rows=1,\n",
    "           missing_utf8_is_empty_string=True, ignore_errors=True, new_columns=SAM_col_names, truncate_ragged_lines=True)\n",
    "    f[x] = f[x][['CAGE CODE', 'BUS TYPE STRING', 'SBA BUSINESS TYPES STRING']]\n",
    "    f[x] = f[x].join(base_reg, on=\"CAGE CODE\", how=\"anti\")\n",
    "    concat_list = [base_reg, f[x]]\n",
    "    # Code below updates the dataframe as each iteration occurs\n",
    "    base_reg = pl.concat(concat_list, how=\"vertical_relaxed\")"
   ]
  },
  {
   "cell_type": "markdown",
   "id": "970b926a-f88b-4287-8482-72c73892903f",
   "metadata": {},
   "source": [
    "**The mismatch in cage codes is inherent to the base dataframe used as seen by the before and after for loop mismatch number of rows. Every cage code added is unique, which is ideal for computational reasons.**"
   ]
  },
  {
   "cell_type": "code",
   "execution_count": 59,
   "id": "4b09bf05-ef4e-4276-81af-7e649068cc26",
   "metadata": {
    "tags": []
   },
   "outputs": [],
   "source": [
    "len_base = len(base_reg)"
   ]
  },
  {
   "cell_type": "code",
   "execution_count": 60,
   "id": "44e4457b-03d2-43ac-9d40-9efeecedd9e6",
   "metadata": {
    "tags": []
   },
   "outputs": [
    {
     "data": {
      "text/plain": [
       "1628235"
      ]
     },
     "execution_count": 60,
     "metadata": {},
     "output_type": "execute_result"
    }
   ],
   "source": [
    "len_base"
   ]
  },
  {
   "cell_type": "code",
   "execution_count": 61,
   "id": "ad234b72-50a3-4f32-abea-f2be2ef6fa94",
   "metadata": {
    "tags": []
   },
   "outputs": [],
   "source": [
    "len_base_unique = len(base_reg['CAGE CODE'].unique())"
   ]
  },
  {
   "cell_type": "code",
   "execution_count": 62,
   "id": "264c12e1-94cf-473e-a5e5-3e758b5d8fc1",
   "metadata": {
    "tags": []
   },
   "outputs": [
    {
     "data": {
      "text/plain": [
       "1572455"
      ]
     },
     "execution_count": 62,
     "metadata": {},
     "output_type": "execute_result"
    }
   ],
   "source": [
    "len_base_unique"
   ]
  },
  {
   "cell_type": "code",
   "execution_count": 63,
   "id": "93d5fe8b-8002-456c-bda0-2902683b1e16",
   "metadata": {
    "tags": []
   },
   "outputs": [
    {
     "data": {
      "text/plain": [
       "55780"
      ]
     },
     "execution_count": 63,
     "metadata": {},
     "output_type": "execute_result"
    }
   ],
   "source": [
    "len_base - len_base_unique"
   ]
  },
  {
   "cell_type": "code",
   "execution_count": 64,
   "id": "7c784bfa-1f6c-4bd8-8d71-97e54fb3ecdc",
   "metadata": {
    "tags": []
   },
   "outputs": [
    {
     "data": {
      "text/html": [
       "<div><style>\n",
       ".dataframe > thead > tr,\n",
       ".dataframe > tbody > tr {\n",
       "  text-align: right;\n",
       "  white-space: pre-wrap;\n",
       "}\n",
       "</style>\n",
       "<small>shape: (54_874, 3)</small><table border=\"1\" class=\"dataframe\"><thead><tr><th>CAGE CODE</th><th>BUS TYPE STRING</th><th>SBA BUSINESS TYPES STRING</th></tr><tr><td>str</td><td>str</td><td>str</td></tr></thead><tbody><tr><td>&quot;&quot;</td><td>&quot;2X~8E~8W~A2&quot;</td><td>&quot;&quot;</td></tr><tr><td>&quot;&quot;</td><td>&quot;A8&quot;</td><td>&quot;&quot;</td></tr><tr><td>&quot;&quot;</td><td>&quot;12~C6&quot;</td><td>&quot;&quot;</td></tr><tr><td>&quot;&quot;</td><td>&quot;2X&quot;</td><td>&quot;&quot;</td></tr><tr><td>&quot;&quot;</td><td>&quot;23~2X~PI&quot;</td><td>&quot;&quot;</td></tr><tr><td>&quot;&quot;</td><td>&quot;80~A8&quot;</td><td>&quot;&quot;</td></tr><tr><td>&quot;&quot;</td><td>&quot;80~A8&quot;</td><td>&quot;&quot;</td></tr><tr><td>&quot;&quot;</td><td>&quot;2X&quot;</td><td>&quot;&quot;</td></tr><tr><td>&quot;&quot;</td><td>&quot;2X~A2~LJ&quot;</td><td>&quot;&quot;</td></tr><tr><td>&quot;&quot;</td><td>&quot;A8&quot;</td><td>&quot;&quot;</td></tr><tr><td>&hellip;</td><td>&hellip;</td><td>&hellip;</td></tr><tr><td>&quot;&quot;</td><td>&quot;2U~LJ&quot;</td><td>&quot;&quot;</td></tr><tr><td>&quot;&quot;</td><td>&quot;A8~XS&quot;</td><td>&quot;&quot;</td></tr><tr><td>&quot;&quot;</td><td>&quot;23~2X~8E~8W~A2…</td><td>&quot;&quot;</td></tr><tr><td>&quot;&quot;</td><td>&quot;A8&quot;</td><td>&quot;&quot;</td></tr><tr><td>&quot;&quot;</td><td>&quot;A8~BZ&quot;</td><td>&quot;&quot;</td></tr><tr><td>&quot;&quot;</td><td>&quot;23~2X~G9&quot;</td><td>&quot;&quot;</td></tr><tr><td>&quot;&quot;</td><td>&quot;2X&quot;</td><td>&quot;&quot;</td></tr><tr><td>&quot;&quot;</td><td>&quot;2X~LJ&quot;</td><td>&quot;&quot;</td></tr><tr><td>&quot;&quot;</td><td>&quot;23~A8~OY&quot;</td><td>&quot;&quot;</td></tr><tr><td>&quot;&quot;</td><td>&quot;&quot;</td><td>&quot;&quot;</td></tr></tbody></table></div>"
      ],
      "text/plain": [
       "shape: (54_874, 3)\n",
       "┌───────────┬─────────────────────────┬───────────────────────────┐\n",
       "│ CAGE CODE ┆ BUS TYPE STRING         ┆ SBA BUSINESS TYPES STRING │\n",
       "│ ---       ┆ ---                     ┆ ---                       │\n",
       "│ str       ┆ str                     ┆ str                       │\n",
       "╞═══════════╪═════════════════════════╪═══════════════════════════╡\n",
       "│           ┆ 2X~8E~8W~A2             ┆                           │\n",
       "│           ┆ A8                      ┆                           │\n",
       "│           ┆ 12~C6                   ┆                           │\n",
       "│           ┆ 2X                      ┆                           │\n",
       "│           ┆ 23~2X~PI                ┆                           │\n",
       "│           ┆ 80~A8                   ┆                           │\n",
       "│           ┆ 80~A8                   ┆                           │\n",
       "│           ┆ 2X                      ┆                           │\n",
       "│           ┆ 2X~A2~LJ                ┆                           │\n",
       "│           ┆ A8                      ┆                           │\n",
       "│ …         ┆ …                       ┆ …                         │\n",
       "│           ┆ 2U~LJ                   ┆                           │\n",
       "│           ┆ A8~XS                   ┆                           │\n",
       "│           ┆ 23~2X~8E~8W~A2~H2~LJ~OY ┆                           │\n",
       "│           ┆ A8                      ┆                           │\n",
       "│           ┆ A8~BZ                   ┆                           │\n",
       "│           ┆ 23~2X~G9                ┆                           │\n",
       "│           ┆ 2X                      ┆                           │\n",
       "│           ┆ 2X~LJ                   ┆                           │\n",
       "│           ┆ 23~A8~OY                ┆                           │\n",
       "│           ┆                         ┆                           │\n",
       "└───────────┴─────────────────────────┴───────────────────────────┘"
      ]
     },
     "execution_count": 64,
     "metadata": {},
     "output_type": "execute_result"
    }
   ],
   "source": [
    "base_reg.filter(base_reg.is_duplicated())"
   ]
  },
  {
   "cell_type": "code",
   "execution_count": 65,
   "id": "24ab2bd0-3b45-4b18-94bd-946dc343b181",
   "metadata": {
    "tags": []
   },
   "outputs": [
    {
     "data": {
      "text/html": [
       "<div><style>\n",
       ".dataframe > thead > tr,\n",
       ".dataframe > tbody > tr {\n",
       "  text-align: right;\n",
       "  white-space: pre-wrap;\n",
       "}\n",
       "</style>\n",
       "<small>shape: (2,)</small><table border=\"1\" class=\"dataframe\"><thead><tr><th>CAGE CODE</th></tr><tr><td>str</td></tr></thead><tbody><tr><td>&quot;9RNB4&quot;</td></tr><tr><td>&quot;&quot;</td></tr></tbody></table></div>"
      ],
      "text/plain": [
       "shape: (2,)\n",
       "Series: 'CAGE CODE' [str]\n",
       "[\n",
       "\t\"9RNB4\"\n",
       "\t\"\"\n",
       "]"
      ]
     },
     "execution_count": 65,
     "metadata": {},
     "output_type": "execute_result"
    }
   ],
   "source": [
    "base_reg.filter(base_reg.is_duplicated())['CAGE CODE'].unique()"
   ]
  },
  {
   "cell_type": "code",
   "execution_count": 66,
   "id": "a916fd38-0562-49f8-981b-01d2017fd911",
   "metadata": {
    "tags": []
   },
   "outputs": [
    {
     "data": {
      "text/html": [
       "<div><style>\n",
       ".dataframe > thead > tr,\n",
       ".dataframe > tbody > tr {\n",
       "  text-align: right;\n",
       "  white-space: pre-wrap;\n",
       "}\n",
       "</style>\n",
       "<small>shape: (753,)</small><table border=\"1\" class=\"dataframe\"><thead><tr><th>BUS TYPE STRING</th></tr><tr><td>str</td></tr></thead><tbody><tr><td>&quot;2X~8C~8D~8W~A2…</td></tr><tr><td>&quot;23~2X~A5~FR~QF…</td></tr><tr><td>&quot;2X~H2~HK&quot;</td></tr><tr><td>&quot;23~2X~A2~PI&quot;</td></tr><tr><td>&quot;2X~6D~LJ&quot;</td></tr><tr><td>&quot;2X~A5~LJ~OY&quot;</td></tr><tr><td>&quot;23~2X~8E~8W~A2…</td></tr><tr><td>&quot;1R~2X~8W~A2~M8…</td></tr><tr><td>&quot;2F~80&quot;</td></tr><tr><td>&quot;20~2X~HQ&quot;</td></tr><tr><td>&hellip;</td></tr><tr><td>&quot;2X~8W~A2~OW&quot;</td></tr><tr><td>&quot;A2~A8~BZ~G9&quot;</td></tr><tr><td>&quot;1A~A8~M8~OY&quot;</td></tr><tr><td>&quot;23~2X~MF~PI&quot;</td></tr><tr><td>&quot;2X~8W~A2~PI~XS…</td></tr><tr><td>&quot;2U&quot;</td></tr><tr><td>&quot;23~2X~8C~8D~8E…</td></tr><tr><td>&quot;23~2X~A2~OY&quot;</td></tr><tr><td>&quot;20~A8~BZ&quot;</td></tr><tr><td>&quot;2X~LJ~MF~PI&quot;</td></tr></tbody></table></div>"
      ],
      "text/plain": [
       "shape: (753,)\n",
       "Series: 'BUS TYPE STRING' [str]\n",
       "[\n",
       "\t\"2X~8C~8D~8W~A2…\n",
       "\t\"23~2X~A5~FR~QF…\n",
       "\t\"2X~H2~HK\"\n",
       "\t\"23~2X~A2~PI\"\n",
       "\t\"2X~6D~LJ\"\n",
       "\t\"2X~A5~LJ~OY\"\n",
       "\t\"23~2X~8E~8W~A2…\n",
       "\t\"1R~2X~8W~A2~M8…\n",
       "\t\"2F~80\"\n",
       "\t\"20~2X~HQ\"\n",
       "\t…\n",
       "\t\"2X~8W~A2~OW\"\n",
       "\t\"A2~A8~BZ~G9\"\n",
       "\t\"1A~A8~M8~OY\"\n",
       "\t\"23~2X~MF~PI\"\n",
       "\t\"2X~8W~A2~PI~XS…\n",
       "\t\"2U\"\n",
       "\t\"23~2X~8C~8D~8E…\n",
       "\t\"23~2X~A2~OY\"\n",
       "\t\"20~A8~BZ\"\n",
       "\t\"2X~LJ~MF~PI\"\n",
       "]"
      ]
     },
     "execution_count": 66,
     "metadata": {},
     "output_type": "execute_result"
    }
   ],
   "source": [
    "base_reg.filter(base_reg.is_duplicated())['BUS TYPE STRING'].unique()"
   ]
  },
  {
   "cell_type": "markdown",
   "id": "85067cb2-f79a-43f4-a50c-c0b899b790fa",
   "metadata": {},
   "source": [
    "**The above code shows that the duplicate cage codes are actually empty strings**"
   ]
  },
  {
   "cell_type": "code",
   "execution_count": 67,
   "id": "ead5702b-21ec-42d4-bcec-58ba28b49a02",
   "metadata": {
    "tags": []
   },
   "outputs": [
    {
     "data": {
      "text/html": [
       "<div><style>\n",
       ".dataframe > thead > tr,\n",
       ".dataframe > tbody > tr {\n",
       "  text-align: right;\n",
       "  white-space: pre-wrap;\n",
       "}\n",
       "</style>\n",
       "<small>shape: (9, 4)</small><table border=\"1\" class=\"dataframe\"><thead><tr><th>statistic</th><th>CAGE CODE</th><th>BUS TYPE STRING</th><th>SBA BUSINESS TYPES STRING</th></tr><tr><td>str</td><td>str</td><td>str</td><td>str</td></tr></thead><tbody><tr><td>&quot;count&quot;</td><td>&quot;1628235&quot;</td><td>&quot;1628235&quot;</td><td>&quot;1628235&quot;</td></tr><tr><td>&quot;null_count&quot;</td><td>&quot;0&quot;</td><td>&quot;0&quot;</td><td>&quot;0&quot;</td></tr><tr><td>&quot;mean&quot;</td><td>null</td><td>null</td><td>null</td></tr><tr><td>&quot;std&quot;</td><td>null</td><td>null</td><td>null</td></tr><tr><td>&quot;min&quot;</td><td>&quot;&quot;</td><td>&quot;&quot;</td><td>&quot;&quot;</td></tr><tr><td>&quot;25%&quot;</td><td>null</td><td>null</td><td>null</td></tr><tr><td>&quot;50%&quot;</td><td>null</td><td>null</td><td>null</td></tr><tr><td>&quot;75%&quot;</td><td>null</td><td>null</td><td>null</td></tr><tr><td>&quot;max&quot;</td><td>&quot;ZY981&quot;</td><td>&quot;VW&quot;</td><td>&quot;XX20141020&quot;</td></tr></tbody></table></div>"
      ],
      "text/plain": [
       "shape: (9, 4)\n",
       "┌────────────┬───────────┬─────────────────┬───────────────────────────┐\n",
       "│ statistic  ┆ CAGE CODE ┆ BUS TYPE STRING ┆ SBA BUSINESS TYPES STRING │\n",
       "│ ---        ┆ ---       ┆ ---             ┆ ---                       │\n",
       "│ str        ┆ str       ┆ str             ┆ str                       │\n",
       "╞════════════╪═══════════╪═════════════════╪═══════════════════════════╡\n",
       "│ count      ┆ 1628235   ┆ 1628235         ┆ 1628235                   │\n",
       "│ null_count ┆ 0         ┆ 0               ┆ 0                         │\n",
       "│ mean       ┆ null      ┆ null            ┆ null                      │\n",
       "│ std        ┆ null      ┆ null            ┆ null                      │\n",
       "│ min        ┆           ┆                 ┆                           │\n",
       "│ 25%        ┆ null      ┆ null            ┆ null                      │\n",
       "│ 50%        ┆ null      ┆ null            ┆ null                      │\n",
       "│ 75%        ┆ null      ┆ null            ┆ null                      │\n",
       "│ max        ┆ ZY981     ┆ VW              ┆ XX20141020                │\n",
       "└────────────┴───────────┴─────────────────┴───────────────────────────┘"
      ]
     },
     "execution_count": 67,
     "metadata": {},
     "output_type": "execute_result"
    }
   ],
   "source": [
    "base_reg.describe()"
   ]
  },
  {
   "cell_type": "markdown",
   "id": "49f666f3-69ae-4d9e-8493-9e5520fb3744",
   "metadata": {},
   "source": [
    "## To get rid of duplicates, we can do the negation of the above and overwrite the dataframe\n",
    "**The reason for doing this is that we care that the join between the parquet data and SAM data is a many to one type of join. This will avoid messiness in the long run.**"
   ]
  },
  {
   "cell_type": "markdown",
   "id": "e64a9897-4d2e-4410-b591-28b04da83cab",
   "metadata": {},
   "source": [
    "### Get rid of duplicates"
   ]
  },
  {
   "cell_type": "code",
   "execution_count": 68,
   "id": "40d45efd-3191-4a89-b4e5-fc1f4f296ff6",
   "metadata": {
    "tags": []
   },
   "outputs": [
    {
     "data": {
      "text/html": [
       "<div><style>\n",
       ".dataframe > thead > tr,\n",
       ".dataframe > tbody > tr {\n",
       "  text-align: right;\n",
       "  white-space: pre-wrap;\n",
       "}\n",
       "</style>\n",
       "<small>shape: (1_573_361, 3)</small><table border=\"1\" class=\"dataframe\"><thead><tr><th>CAGE CODE</th><th>BUS TYPE STRING</th><th>SBA BUSINESS TYPES STRING</th></tr><tr><td>str</td><td>str</td><td>str</td></tr></thead><tbody><tr><td>&quot;53YC5&quot;</td><td>&quot;2X~8W~A2~HQ~XS…</td><td>&quot;&quot;</td></tr><tr><td>&quot;6M9A6&quot;</td><td>&quot;A8&quot;</td><td>&quot;&quot;</td></tr><tr><td>&quot;6T4Q4&quot;</td><td>&quot;A8&quot;</td><td>&quot;&quot;</td></tr><tr><td>&quot;6PA87&quot;</td><td>&quot;2X~XS&quot;</td><td>&quot;&quot;</td></tr><tr><td>&quot;50JA8&quot;</td><td>&quot;2X~LJ~MF&quot;</td><td>&quot;&quot;</td></tr><tr><td>&quot;4PVE2&quot;</td><td>&quot;12~H6&quot;</td><td>&quot;&quot;</td></tr><tr><td>&quot;7UNS3&quot;</td><td>&quot;2X~8W~A2&quot;</td><td>&quot;&quot;</td></tr><tr><td>&quot;5LXD1&quot;</td><td>&quot;2X~LJ~MF&quot;</td><td>&quot;&quot;</td></tr><tr><td>&quot;62EJ7&quot;</td><td>&quot;A8&quot;</td><td>&quot;&quot;</td></tr><tr><td>&quot;6TSS5&quot;</td><td>&quot;27~2X&quot;</td><td>&quot;&quot;</td></tr><tr><td>&hellip;</td><td>&hellip;</td><td>&hellip;</td></tr><tr><td>&quot;9CQU8&quot;</td><td>&quot;A8~H2&quot;</td><td>&quot;&quot;</td></tr><tr><td>&quot;9CM54&quot;</td><td>&quot;23~2X~8W~A2~FR…</td><td>&quot;&quot;</td></tr><tr><td>&quot;9CFP1&quot;</td><td>&quot;23~27~2X~A5~LJ…</td><td>&quot;&quot;</td></tr><tr><td>&quot;9C7U7&quot;</td><td>&quot;27~2X~A5~HQ~LJ…</td><td>&quot;&quot;</td></tr><tr><td>&quot;9CFR1&quot;</td><td>&quot;27~2X~A2~LJ&quot;</td><td>&quot;&quot;</td></tr><tr><td>&quot;9CG51&quot;</td><td>&quot;27~2X~LJ&quot;</td><td>&quot;&quot;</td></tr><tr><td>&quot;9CL57&quot;</td><td>&quot;27~2X~A5~LJ~OY…</td><td>&quot;&quot;</td></tr><tr><td>&quot;9CCA1&quot;</td><td>&quot;23~2X~MF~OY&quot;</td><td>&quot;&quot;</td></tr><tr><td>&quot;9BZ20&quot;</td><td>&quot;2F&quot;</td><td>&quot;&quot;</td></tr><tr><td>&quot;9CMJ0&quot;</td><td>&quot;23~27~2X~8E~8W…</td><td>&quot;&quot;</td></tr></tbody></table></div>"
      ],
      "text/plain": [
       "shape: (1_573_361, 3)\n",
       "┌───────────┬─────────────────────────┬───────────────────────────┐\n",
       "│ CAGE CODE ┆ BUS TYPE STRING         ┆ SBA BUSINESS TYPES STRING │\n",
       "│ ---       ┆ ---                     ┆ ---                       │\n",
       "│ str       ┆ str                     ┆ str                       │\n",
       "╞═══════════╪═════════════════════════╪═══════════════════════════╡\n",
       "│ 53YC5     ┆ 2X~8W~A2~HQ~XS          ┆                           │\n",
       "│ 6M9A6     ┆ A8                      ┆                           │\n",
       "│ 6T4Q4     ┆ A8                      ┆                           │\n",
       "│ 6PA87     ┆ 2X~XS                   ┆                           │\n",
       "│ 50JA8     ┆ 2X~LJ~MF                ┆                           │\n",
       "│ 4PVE2     ┆ 12~H6                   ┆                           │\n",
       "│ 7UNS3     ┆ 2X~8W~A2                ┆                           │\n",
       "│ 5LXD1     ┆ 2X~LJ~MF                ┆                           │\n",
       "│ 62EJ7     ┆ A8                      ┆                           │\n",
       "│ 6TSS5     ┆ 27~2X                   ┆                           │\n",
       "│ …         ┆ …                       ┆ …                         │\n",
       "│ 9CQU8     ┆ A8~H2                   ┆                           │\n",
       "│ 9CM54     ┆ 23~2X~8W~A2~FR~LJ       ┆                           │\n",
       "│ 9CFP1     ┆ 23~27~2X~A5~LJ~OY~QF    ┆                           │\n",
       "│ 9C7U7     ┆ 27~2X~A5~HQ~LJ          ┆                           │\n",
       "│ 9CFR1     ┆ 27~2X~A2~LJ             ┆                           │\n",
       "│ 9CG51     ┆ 27~2X~LJ                ┆                           │\n",
       "│ 9CL57     ┆ 27~2X~A5~LJ~OY          ┆                           │\n",
       "│ 9CCA1     ┆ 23~2X~MF~OY             ┆                           │\n",
       "│ 9BZ20     ┆ 2F                      ┆                           │\n",
       "│ 9CMJ0     ┆ 23~27~2X~8E~8W~A2~LJ~OY ┆                           │\n",
       "└───────────┴─────────────────────────┴───────────────────────────┘"
      ]
     },
     "execution_count": 68,
     "metadata": {},
     "output_type": "execute_result"
    }
   ],
   "source": [
    "base_reg.filter(~base_reg.is_duplicated())"
   ]
  },
  {
   "cell_type": "code",
   "execution_count": 69,
   "id": "5eec7f60-cd54-4178-9f7b-f80541cf7df7",
   "metadata": {
    "tags": []
   },
   "outputs": [],
   "source": [
    "base_reg = base_reg.filter(~base_reg.is_duplicated())"
   ]
  },
  {
   "cell_type": "code",
   "execution_count": 70,
   "id": "2dffa75f-12fb-4a2b-96dd-d7ba72123316",
   "metadata": {
    "tags": []
   },
   "outputs": [
    {
     "data": {
      "text/html": [
       "<div><style>\n",
       ".dataframe > thead > tr,\n",
       ".dataframe > tbody > tr {\n",
       "  text-align: right;\n",
       "  white-space: pre-wrap;\n",
       "}\n",
       "</style>\n",
       "<small>shape: (1_572_454,)</small><table border=\"1\" class=\"dataframe\"><thead><tr><th>CAGE CODE</th></tr><tr><td>str</td></tr></thead><tbody><tr><td>&quot;JSAN2&quot;</td></tr><tr><td>&quot;6H3M0&quot;</td></tr><tr><td>&quot;7ZX43&quot;</td></tr><tr><td>&quot;6MY24&quot;</td></tr><tr><td>&quot;0EBM3&quot;</td></tr><tr><td>&quot;961B6&quot;</td></tr><tr><td>&quot;91BL9&quot;</td></tr><tr><td>&quot;92AA5&quot;</td></tr><tr><td>&quot;6X1F6&quot;</td></tr><tr><td>&quot;9FNH6&quot;</td></tr><tr><td>&hellip;</td></tr><tr><td>&quot;5UHS8&quot;</td></tr><tr><td>&quot;4HQK9&quot;</td></tr><tr><td>&quot;8TGH3&quot;</td></tr><tr><td>&quot;4F9G4&quot;</td></tr><tr><td>&quot;6R6P7&quot;</td></tr><tr><td>&quot;6BAJ2&quot;</td></tr><tr><td>&quot;44Z70&quot;</td></tr><tr><td>&quot;589R7&quot;</td></tr><tr><td>&quot;51Y16&quot;</td></tr><tr><td>&quot;39NG5&quot;</td></tr></tbody></table></div>"
      ],
      "text/plain": [
       "shape: (1_572_454,)\n",
       "Series: 'CAGE CODE' [str]\n",
       "[\n",
       "\t\"JSAN2\"\n",
       "\t\"6H3M0\"\n",
       "\t\"7ZX43\"\n",
       "\t\"6MY24\"\n",
       "\t\"0EBM3\"\n",
       "\t\"961B6\"\n",
       "\t\"91BL9\"\n",
       "\t\"92AA5\"\n",
       "\t\"6X1F6\"\n",
       "\t\"9FNH6\"\n",
       "\t…\n",
       "\t\"5UHS8\"\n",
       "\t\"4HQK9\"\n",
       "\t\"8TGH3\"\n",
       "\t\"4F9G4\"\n",
       "\t\"6R6P7\"\n",
       "\t\"6BAJ2\"\n",
       "\t\"44Z70\"\n",
       "\t\"589R7\"\n",
       "\t\"51Y16\"\n",
       "\t\"39NG5\"\n",
       "]"
      ]
     },
     "execution_count": 70,
     "metadata": {},
     "output_type": "execute_result"
    }
   ],
   "source": [
    "base_reg['CAGE CODE'].unique()"
   ]
  },
  {
   "cell_type": "markdown",
   "id": "d86c2261-37e8-404f-a0a9-68da75962611",
   "metadata": {},
   "source": [
    "**Identify duplicates specific to Cage Code** "
   ]
  },
  {
   "cell_type": "code",
   "execution_count": 71,
   "id": "ebc3fa12-61f2-4b9f-a3bf-8433d6a23540",
   "metadata": {
    "tags": []
   },
   "outputs": [
    {
     "data": {
      "text/html": [
       "<div><style>\n",
       ".dataframe > thead > tr,\n",
       ".dataframe > tbody > tr {\n",
       "  text-align: right;\n",
       "  white-space: pre-wrap;\n",
       "}\n",
       "</style>\n",
       "<small>shape: (912, 3)</small><table border=\"1\" class=\"dataframe\"><thead><tr><th>CAGE CODE</th><th>BUS TYPE STRING</th><th>SBA BUSINESS TYPES STRING</th></tr><tr><td>str</td><td>str</td><td>str</td></tr></thead><tbody><tr><td>&quot;&quot;</td><td>&quot;23~2X~G9~HK~LJ…</td><td>&quot;&quot;</td></tr><tr><td>&quot;&quot;</td><td>&quot;23~8C~8D~A2~A5…</td><td>&quot;&quot;</td></tr><tr><td>&quot;&quot;</td><td>&quot;A2~A5~A8~H2&quot;</td><td>&quot;&quot;</td></tr><tr><td>&quot;&quot;</td><td>&quot;1D~1E~23~2X~8W…</td><td>&quot;&quot;</td></tr><tr><td>&quot;&quot;</td><td>&quot;A5~A8~H2~HK~LJ…</td><td>&quot;&quot;</td></tr><tr><td>&quot;&quot;</td><td>&quot;23~2X~8E~8W~A2…</td><td>&quot;&quot;</td></tr><tr><td>&quot;&quot;</td><td>&quot;A5~A8~BZ~LJ&quot;</td><td>&quot;&quot;</td></tr><tr><td>&quot;&quot;</td><td>&quot;20~23~2X~OY&quot;</td><td>&quot;&quot;</td></tr><tr><td>&quot;&quot;</td><td>&quot;23~2X~8D~OY&quot;</td><td>&quot;&quot;</td></tr><tr><td>&quot;&quot;</td><td>&quot;A2~A8~HQ~LJ&quot;</td><td>&quot;&quot;</td></tr><tr><td>&hellip;</td><td>&hellip;</td><td>&hellip;</td></tr><tr><td>&quot;&quot;</td><td>&quot;2X~HQ~QZ&quot;</td><td>&quot;&quot;</td></tr><tr><td>&quot;&quot;</td><td>&quot;23~2X~8D~8W~A2…</td><td>&quot;&quot;</td></tr><tr><td>&quot;6YN71&quot;</td><td>&quot;12~FO~VW&quot;</td><td>&quot;&quot;</td></tr><tr><td>&quot;6YN71&quot;</td><td>&quot;2X~VW&quot;</td><td>&quot;&quot;</td></tr><tr><td>&quot;72GF1&quot;</td><td>&quot;2X~M8~OH~V2&quot;</td><td>&quot;&quot;</td></tr><tr><td>&quot;72GF1&quot;</td><td>&quot;2X~VW~XS&quot;</td><td>&quot;&quot;</td></tr><tr><td>&quot;764X7&quot;</td><td>&quot;A8~VW&quot;</td><td>&quot;&quot;</td></tr><tr><td>&quot;764X7&quot;</td><td>&quot;2U~VW&quot;</td><td>&quot;&quot;</td></tr><tr><td>&quot;76GJ9&quot;</td><td>&quot;23~27~2X~A5~NB…</td><td>&quot;&quot;</td></tr><tr><td>&quot;76GJ9&quot;</td><td>&quot;2X~V2&quot;</td><td>&quot;&quot;</td></tr></tbody></table></div>"
      ],
      "text/plain": [
       "shape: (912, 3)\n",
       "┌───────────┬────────────────────────────┬───────────────────────────┐\n",
       "│ CAGE CODE ┆ BUS TYPE STRING            ┆ SBA BUSINESS TYPES STRING │\n",
       "│ ---       ┆ ---                        ┆ ---                       │\n",
       "│ str       ┆ str                        ┆ str                       │\n",
       "╞═══════════╪════════════════════════════╪═══════════════════════════╡\n",
       "│           ┆ 23~2X~G9~HK~LJ             ┆                           │\n",
       "│           ┆ 23~8C~8D~A2~A5~A8~HK~OY~QF ┆                           │\n",
       "│           ┆ A2~A5~A8~H2                ┆                           │\n",
       "│           ┆ 1D~1E~23~2X~8W~A2~H2~NB~OW ┆                           │\n",
       "│           ┆ A5~A8~H2~HK~LJ~QF          ┆                           │\n",
       "│           ┆ 23~2X~8E~8W~A2~FY~PI       ┆                           │\n",
       "│           ┆ A5~A8~BZ~LJ                ┆                           │\n",
       "│           ┆ 20~23~2X~OY                ┆                           │\n",
       "│           ┆ 23~2X~8D~OY                ┆                           │\n",
       "│           ┆ A2~A8~HQ~LJ                ┆                           │\n",
       "│ …         ┆ …                          ┆ …                         │\n",
       "│           ┆ 2X~HQ~QZ                   ┆                           │\n",
       "│           ┆ 23~2X~8D~8W~A2~FR~H2~LJ    ┆                           │\n",
       "│ 6YN71     ┆ 12~FO~VW                   ┆                           │\n",
       "│ 6YN71     ┆ 2X~VW                      ┆                           │\n",
       "│ 72GF1     ┆ 2X~M8~OH~V2                ┆                           │\n",
       "│ 72GF1     ┆ 2X~VW~XS                   ┆                           │\n",
       "│ 764X7     ┆ A8~VW                      ┆                           │\n",
       "│ 764X7     ┆ 2U~VW                      ┆                           │\n",
       "│ 76GJ9     ┆ 23~27~2X~A5~NB~OW~VW~XY    ┆                           │\n",
       "│ 76GJ9     ┆ 2X~V2                      ┆                           │\n",
       "└───────────┴────────────────────────────┴───────────────────────────┘"
      ]
     },
     "execution_count": 71,
     "metadata": {},
     "output_type": "execute_result"
    }
   ],
   "source": [
    "base_reg.filter(base_reg['CAGE CODE'].is_duplicated())"
   ]
  },
  {
   "cell_type": "markdown",
   "id": "5c2d906c-212d-40cf-92eb-10fc51b7b28a",
   "metadata": {},
   "source": [
    "**Get rid of duplicates.**"
   ]
  },
  {
   "cell_type": "code",
   "execution_count": 72,
   "id": "d4d1a0a2-2f4c-4c3c-80d4-a9d41e114866",
   "metadata": {
    "tags": []
   },
   "outputs": [],
   "source": [
    "base_reg = base_reg.filter(~base_reg['CAGE CODE'].is_duplicated())"
   ]
  },
  {
   "cell_type": "code",
   "execution_count": 73,
   "id": "8a844904-1bad-4490-8bc4-8a8ad9b4e299",
   "metadata": {
    "tags": []
   },
   "outputs": [
    {
     "data": {
      "text/plain": [
       "1572449"
      ]
     },
     "execution_count": 73,
     "metadata": {},
     "output_type": "execute_result"
    }
   ],
   "source": [
    "len(base_reg)"
   ]
  },
  {
   "cell_type": "code",
   "execution_count": 74,
   "id": "6f56e93d-4c9a-4382-bb48-adc35310b88a",
   "metadata": {
    "tags": []
   },
   "outputs": [
    {
     "data": {
      "text/plain": [
       "1572449"
      ]
     },
     "execution_count": 74,
     "metadata": {},
     "output_type": "execute_result"
    }
   ],
   "source": [
    "len(base_reg['CAGE CODE'].unique())"
   ]
  },
  {
   "cell_type": "markdown",
   "id": "2e99760a-68c2-40bb-84de-00106599043a",
   "metadata": {},
   "source": [
    "**PERFECT!! Now to clean up that dataframe and generate the relevant columns.**\n",
    "\n",
    "## 8(a)"
   ]
  },
  {
   "cell_type": "code",
   "execution_count": 75,
   "id": "ab774ec7-5ce0-4047-9a9c-0b50baa748a8",
   "metadata": {
    "tags": []
   },
   "outputs": [],
   "source": [
    "# Minority-Owned Business\n",
    "self_8a_column = pl.col('BUS TYPE STRING').str.contains('23').map_elements(lambda x: 'YES' if x else 'NO').alias('SELF_8A')\n",
    "base_reg = base_reg.with_columns(self_8a_column)\n",
    "\n",
    "# SBA Certified 8(a) Program Participant\n",
    "cert_8a_column = pl.col('SBA BUSINESS TYPES STRING').str.contains('A6').map_elements(lambda x: 'YES' if x else 'NO').alias('CERT_8A')\n",
    "base_reg = base_reg.with_columns(cert_8a_column)\n",
    "\n",
    "# SBA Certified HUBZone Firm\n",
    "cert_HUBZone_column = pl.col('SBA BUSINESS TYPES STRING').str.contains('XX').map_elements(lambda x: 'YES' if x else 'NO').alias('CERT_HUBZone')\n",
    "base_reg = base_reg.with_columns(cert_HUBZone_column)\n",
    "\n",
    "# Self Certified Small Disadvantaged Business\n",
    "self_SDB_column = pl.col('BUS TYPE STRING').str.contains('27').map_elements(lambda x: 'YES' if x else 'NO').alias('SELF_SDB')\n",
    "base_reg = base_reg.with_columns(self_SDB_column)\n",
    "\n",
    "# SBA Certified Small Disadvantaged Business\n",
    "cert_SDB_column = pl.col('SBA BUSINESS TYPES STRING').str.contains('A4').map_elements(lambda x: 'YES' if x else 'NO').alias('CERT_SDB')\n",
    "base_reg = base_reg.with_columns(cert_SDB_column)\n",
    "\n",
    "# Self Certified Women-Owned Small Business\n",
    "self_WOSB_column = pl.col('BUS TYPE STRING').str.contains('8W').map_elements(lambda x: 'YES' if x else 'NO').alias('SELF_WOSB')\n",
    "base_reg = base_reg.with_columns(self_WOSB_column)\n",
    "\n",
    "# SBA Certified Women-Owned Small Business\n",
    "cert_WOSB_column = pl.col('SBA BUSINESS TYPES STRING').str.contains('A9').map_elements(lambda x: 'YES' if x else 'NO').alias('CERT_WOSB')\n",
    "base_reg = base_reg.with_columns(cert_WOSB_column)\n",
    "\n",
    "# Self Certified Economically Disadvantaged Women-Owned Small Business \n",
    "# Self Certified Women-Owned Small Business + Self Certified Small Disadvantaged Business\n",
    "self_EDWOSB_column = pl.col('BUS TYPE STRING').str.contains('8W|27').map_elements(lambda x: 'YES' if x else 'NO').alias('SELF_EDWOSB')\n",
    "base_reg = base_reg.with_columns(self_EDWOSB_column)\n",
    "\n",
    "# SBA Certified Economically Disadvantaged Women-Owned Small Business\n",
    "cert_EDWOSB_column = pl.col('SBA BUSINESS TYPES STRING').str.contains('A0').map_elements(lambda x: 'YES' if x else 'NO').alias('CERT_EDWOSB')\n",
    "base_reg = base_reg.with_columns(cert_EDWOSB_column)\n",
    "\n",
    "self_VOSB_column = pl.col('BUS TYPE STRING').str.contains('A5').map_elements(lambda x: 'YES' if x else 'NO').alias('SELF_VOSB')\n",
    "base_reg = base_reg.with_columns(self_VOSB_column) #Do we need to vet if a business is small?\n",
    "\n",
    "self_SDVOSB_column = pl.col('BUS TYPE STRING').str.contains('QF').map_elements(lambda x: 'YES' if x else 'NO').alias('SELF_SDVOSB')\n",
    "base_reg = base_reg.with_columns(self_SDVOSB_column)\n",
    "\n",
    "self_SDVOSBJV_column = pl.col('BUS TYPE STRING').str.contains('JV').map_elements(lambda x: 'YES' if x else 'NO').alias('SELF_SDVOSBJV')\n",
    "base_reg = base_reg.with_columns(self_SDVOSBJV_column)"
   ]
  },
  {
   "cell_type": "markdown",
   "id": "6c1ed076-5c66-4281-a6d5-a395a6326cbb",
   "metadata": {},
   "source": [
    "**Rename CAGE CODE column for joining purposes**"
   ]
  },
  {
   "cell_type": "code",
   "execution_count": 76,
   "id": "e01141a7-d80d-4350-9fdd-aaec2513a2f4",
   "metadata": {
    "tags": []
   },
   "outputs": [],
   "source": [
    "base_reg = base_reg.rename({\"CAGE CODE\": \"CAGE_CODE\"})"
   ]
  },
  {
   "cell_type": "markdown",
   "id": "3b7b1959-d669-4a6c-b970-7ec82077924f",
   "metadata": {},
   "source": [
    "## Merge both the Parquet and SAM dataframes"
   ]
  },
  {
   "cell_type": "code",
   "execution_count": 77,
   "id": "c50ee863-fb40-4e9f-b0a9-42e5a5417840",
   "metadata": {},
   "outputs": [],
   "source": [
    "PSAM = concatenated_dataframe_all.join(base_reg, on=\"CAGE_CODE\", how=\"left\")"
   ]
  },
  {
   "cell_type": "code",
   "execution_count": 78,
   "id": "311ceb43-1ff5-4ad1-92a5-1dd0f3c87f81",
   "metadata": {},
   "outputs": [
    {
     "data": {
      "text/html": [
       "<div><style>\n",
       ".dataframe > thead > tr,\n",
       ".dataframe > tbody > tr {\n",
       "  text-align: right;\n",
       "  white-space: pre-wrap;\n",
       "}\n",
       "</style>\n",
       "<small>shape: (30, 67)</small><table border=\"1\" class=\"dataframe\"><thead><tr><th>FOR_PROFIT_ORGANIZATION</th><th>DOT_CERTIFIED_DISADV_BUS</th><th>SDB</th><th>FISCAL_YEAR</th><th>CAGE_CODE</th><th>IDV_CONTRACTING_AGENCY_NAME</th><th>IDV_EXTENT_COMPETED</th><th>IDV_EVALUATED_PREFERENCE</th><th>IDV_SIGNED_DATE</th><th>IDV_LAST_DATE_TO_ORDER</th><th>IDV_NUMBER_OF_OFFERS</th><th>PART8_OR_PART13</th><th>AWARD_FISCAL_YEAR</th><th>PRODUCT_OR_SERVICE_TYPE</th><th>TOTAL_ESTIMATED_ORDER_VALUE</th><th>VENDOR_UEI</th><th>TYPE_OF_SET_ASIDE</th><th>VENDOR_ADDRESS_ZIP_CODE</th><th>VENDOR_ADDRESS_COUNTRY_NAME</th><th>EDUCATIONAL_INSTITUTION_FLAG</th><th>FIRM_8A_FLAG</th><th>WOMEN_OWNED_FLAG</th><th>FIRM8A_JOINT_VENTURE</th><th>FEDERALLY_FUNDED_R_AND_D_CORP</th><th>CORP_ENTITY_NOT_TAX_EXEMPT</th><th>PARTNERSHIP_OR_LLP</th><th>SOLE_PROPREITORSHIP</th><th>SMALL_AGRICULTURAL_COOPERATIVE</th><th>INTERNATIONAL_ORGANIZATION</th><th>ARCHITECTURE_AND_ENGINEERING</th><th>COMMUNITY_CORP_OWNED_FIRM</th><th>CONSTRUCTION_FIRM</th><th>DOMESTIC_SHELTER</th><th>FOUNDATION</th><th>MANUFACTURER_OF_GOODS</th><th>RESEARCH_AND_DEVELOPMENT</th><th>SERVICE_PROVIDER</th><th>VETERINARY_HOSPITAL</th><th>HISPANIC_SERVICING_INSTITUTION</th><th>LIMITED_LIABILITY_CORPORATION</th><th>CO_BUS_SIZE_DETERMINATION</th><th>PRINCIPAL_NAICS_CODE</th><th>PIID</th><th>CURRENT_CONTRACT_VALUE</th><th>NUMBER_OF_OFFERS_RECEIVED</th><th>EVALUATED_PREFERENCE</th><th>EXTENT_COMPETED</th><th>MODIFICATION_NUMBER</th><th>DATE_SIGNED</th><th>FUNDING_AGENCY_NAME</th><th>FUNDING_OFFICE_NAME</th><th>FUNDING_DEPARTMENT_NAME</th><th>FUNDING_OFFICE</th><th>BUS TYPE STRING</th><th>SBA BUSINESS TYPES STRING</th><th>SELF_8A</th><th>CERT_8A</th><th>CERT_HUBZone</th><th>SELF_SDB</th><th>CERT_SDB</th><th>SELF_WOSB</th><th>CERT_WOSB</th><th>SELF_EDWOSB</th><th>CERT_EDWOSB</th><th>SELF_VOSB</th><th>SELF_SDVOSB</th><th>SELF_SDVOSBJV</th></tr><tr><td>str</td><td>str</td><td>str</td><td>str</td><td>str</td><td>str</td><td>str</td><td>str</td><td>datetime[ms]</td><td>datetime[ms]</td><td>i32</td><td>str</td><td>str</td><td>str</td><td>f64</td><td>str</td><td>str</td><td>str</td><td>str</td><td>str</td><td>str</td><td>str</td><td>str</td><td>str</td><td>str</td><td>str</td><td>str</td><td>str</td><td>str</td><td>str</td><td>str</td><td>str</td><td>str</td><td>str</td><td>str</td><td>str</td><td>str</td><td>str</td><td>str</td><td>str</td><td>str</td><td>str</td><td>str</td><td>f64</td><td>i32</td><td>str</td><td>str</td><td>str</td><td>datetime[ms]</td><td>str</td><td>str</td><td>str</td><td>str</td><td>str</td><td>str</td><td>str</td><td>str</td><td>str</td><td>str</td><td>str</td><td>str</td><td>str</td><td>str</td><td>str</td><td>str</td><td>str</td><td>str</td></tr></thead><tbody><tr><td>&quot;YES&quot;</td><td>&quot;NO&quot;</td><td>&quot;NO&quot;</td><td>&quot;2009&quot;</td><td>null</td><td>null</td><td>null</td><td>null</td><td>null</td><td>null</td><td>null</td><td>null</td><td>null</td><td>null</td><td>null</td><td>null</td><td>&quot;SBA&quot;</td><td>&quot;277090000&quot;</td><td>&quot;UNITED STATES&quot;</td><td>&quot;NO&quot;</td><td>&quot;NO&quot;</td><td>&quot;NO&quot;</td><td>&quot;NO&quot;</td><td>&quot;NO&quot;</td><td>&quot;NO&quot;</td><td>&quot;NO&quot;</td><td>&quot;NO&quot;</td><td>&quot;NO&quot;</td><td>&quot;NO&quot;</td><td>&quot;NO&quot;</td><td>&quot;NO&quot;</td><td>&quot;NO&quot;</td><td>&quot;NO&quot;</td><td>&quot;NO&quot;</td><td>&quot;NO&quot;</td><td>&quot;NO&quot;</td><td>&quot;YES&quot;</td><td>&quot;NO&quot;</td><td>&quot;NO&quot;</td><td>&quot;NO&quot;</td><td>&quot;SMALL BUSINESS…</td><td>&quot;541511&quot;</td><td>&quot;M0014609PH017&quot;</td><td>null</td><td>null</td><td>&quot;NONE&quot;</td><td>&quot;D&quot;</td><td>&quot;P00001&quot;</td><td>2008-11-04 00:00:00</td><td>&quot;DEPT OF THE NA…</td><td>&quot;FLEET READINES…</td><td>&quot;DEPT OF DEFENS…</td><td>&quot;FLEET READINES…</td><td>null</td><td>null</td><td>null</td><td>null</td><td>null</td><td>null</td><td>null</td><td>null</td><td>null</td><td>null</td><td>null</td><td>null</td><td>null</td><td>null</td></tr><tr><td>&quot;YES&quot;</td><td>&quot;NO&quot;</td><td>&quot;NO&quot;</td><td>&quot;2009&quot;</td><td>null</td><td>null</td><td>null</td><td>null</td><td>null</td><td>null</td><td>null</td><td>null</td><td>null</td><td>null</td><td>null</td><td>null</td><td>&quot;NONE&quot;</td><td>&quot;105094013&quot;</td><td>&quot;UNITED STATES&quot;</td><td>&quot;NO&quot;</td><td>&quot;NO&quot;</td><td>&quot;NO&quot;</td><td>&quot;NO&quot;</td><td>&quot;NO&quot;</td><td>&quot;NO&quot;</td><td>&quot;NO&quot;</td><td>&quot;NO&quot;</td><td>&quot;NO&quot;</td><td>&quot;NO&quot;</td><td>&quot;NO&quot;</td><td>&quot;NO&quot;</td><td>&quot;NO&quot;</td><td>&quot;NO&quot;</td><td>&quot;NO&quot;</td><td>&quot;NO&quot;</td><td>&quot;NO&quot;</td><td>&quot;NO&quot;</td><td>&quot;NO&quot;</td><td>&quot;NO&quot;</td><td>&quot;NO&quot;</td><td>&quot;OTHER THAN SMA…</td><td>&quot;811219&quot;</td><td>&quot;M0014609PR012&quot;</td><td>null</td><td>null</td><td>&quot;NONE&quot;</td><td>&quot;B&quot;</td><td>&quot;0&quot;</td><td>2008-11-05 00:00:00</td><td>&quot;DEPT OF THE NA…</td><td>&quot;FLEET READINES…</td><td>&quot;DEPT OF DEFENS…</td><td>&quot;FLEET READINES…</td><td>null</td><td>null</td><td>null</td><td>null</td><td>null</td><td>null</td><td>null</td><td>null</td><td>null</td><td>null</td><td>null</td><td>null</td><td>null</td><td>null</td></tr><tr><td>&quot;YES&quot;</td><td>&quot;NO&quot;</td><td>&quot;NO&quot;</td><td>&quot;2009&quot;</td><td>null</td><td>null</td><td>null</td><td>null</td><td>null</td><td>null</td><td>null</td><td>null</td><td>null</td><td>null</td><td>null</td><td>null</td><td>&quot;NONE&quot;</td><td>&quot;105094013&quot;</td><td>&quot;UNITED STATES&quot;</td><td>&quot;NO&quot;</td><td>&quot;NO&quot;</td><td>&quot;NO&quot;</td><td>&quot;NO&quot;</td><td>&quot;NO&quot;</td><td>&quot;NO&quot;</td><td>&quot;NO&quot;</td><td>&quot;NO&quot;</td><td>&quot;NO&quot;</td><td>&quot;NO&quot;</td><td>&quot;NO&quot;</td><td>&quot;NO&quot;</td><td>&quot;NO&quot;</td><td>&quot;NO&quot;</td><td>&quot;NO&quot;</td><td>&quot;NO&quot;</td><td>&quot;NO&quot;</td><td>&quot;NO&quot;</td><td>&quot;NO&quot;</td><td>&quot;NO&quot;</td><td>&quot;NO&quot;</td><td>&quot;OTHER THAN SMA…</td><td>&quot;811219&quot;</td><td>&quot;M0014609PR012&quot;</td><td>null</td><td>null</td><td>&quot;NONE&quot;</td><td>&quot;B&quot;</td><td>&quot;P00001&quot;</td><td>2008-11-05 00:00:00</td><td>&quot;DEPT OF THE NA…</td><td>&quot;FLEET READINES…</td><td>&quot;DEPT OF DEFENS…</td><td>&quot;FLEET READINES…</td><td>null</td><td>null</td><td>null</td><td>null</td><td>null</td><td>null</td><td>null</td><td>null</td><td>null</td><td>null</td><td>null</td><td>null</td><td>null</td><td>null</td></tr><tr><td>&quot;YES&quot;</td><td>&quot;NO&quot;</td><td>&quot;NO&quot;</td><td>&quot;2009&quot;</td><td>null</td><td>null</td><td>null</td><td>null</td><td>null</td><td>null</td><td>null</td><td>null</td><td>null</td><td>null</td><td>null</td><td>null</td><td>&quot;NONE&quot;</td><td>&quot;300923403&quot;</td><td>&quot;UNITED STATES&quot;</td><td>&quot;NO&quot;</td><td>&quot;NO&quot;</td><td>&quot;NO&quot;</td><td>&quot;NO&quot;</td><td>&quot;NO&quot;</td><td>&quot;NO&quot;</td><td>&quot;NO&quot;</td><td>&quot;NO&quot;</td><td>&quot;NO&quot;</td><td>&quot;NO&quot;</td><td>&quot;NO&quot;</td><td>&quot;NO&quot;</td><td>&quot;NO&quot;</td><td>&quot;NO&quot;</td><td>&quot;NO&quot;</td><td>&quot;YES&quot;</td><td>&quot;YES&quot;</td><td>&quot;YES&quot;</td><td>&quot;NO&quot;</td><td>&quot;NO&quot;</td><td>&quot;NO&quot;</td><td>&quot;SMALL BUSINESS…</td><td>&quot;332913&quot;</td><td>&quot;M0014609PR027&quot;</td><td>null</td><td>null</td><td>&quot;NONE&quot;</td><td>&quot;C&quot;</td><td>&quot;0&quot;</td><td>2008-12-12 00:00:00</td><td>&quot;DEPT OF THE NA…</td><td>&quot;FLEET READINES…</td><td>&quot;DEPT OF DEFENS…</td><td>&quot;FLEET READINES…</td><td>null</td><td>null</td><td>null</td><td>null</td><td>null</td><td>null</td><td>null</td><td>null</td><td>null</td><td>null</td><td>null</td><td>null</td><td>null</td><td>null</td></tr><tr><td>&quot;YES&quot;</td><td>&quot;NO&quot;</td><td>&quot;NO&quot;</td><td>&quot;2009&quot;</td><td>null</td><td>null</td><td>null</td><td>null</td><td>null</td><td>null</td><td>null</td><td>null</td><td>null</td><td>null</td><td>null</td><td>null</td><td>&quot;NONE&quot;</td><td>&quot;312167720&quot;</td><td>&quot;UNITED STATES&quot;</td><td>&quot;NO&quot;</td><td>&quot;NO&quot;</td><td>&quot;YES&quot;</td><td>&quot;NO&quot;</td><td>&quot;NO&quot;</td><td>&quot;NO&quot;</td><td>&quot;NO&quot;</td><td>&quot;NO&quot;</td><td>&quot;NO&quot;</td><td>&quot;NO&quot;</td><td>&quot;NO&quot;</td><td>&quot;NO&quot;</td><td>&quot;NO&quot;</td><td>&quot;NO&quot;</td><td>&quot;NO&quot;</td><td>&quot;NO&quot;</td><td>&quot;NO&quot;</td><td>&quot;NO&quot;</td><td>&quot;NO&quot;</td><td>&quot;NO&quot;</td><td>&quot;NO&quot;</td><td>&quot;SMALL BUSINESS…</td><td>&quot;423990&quot;</td><td>&quot;M0014609PD063&quot;</td><td>null</td><td>null</td><td>&quot;NONE&quot;</td><td>&quot;A&quot;</td><td>&quot;0&quot;</td><td>2008-11-05 00:00:00</td><td>&quot;DEPT OF THE NA…</td><td>&quot;FLEET READINES…</td><td>&quot;DEPT OF DEFENS…</td><td>&quot;FLEET READINES…</td><td>null</td><td>null</td><td>null</td><td>null</td><td>null</td><td>null</td><td>null</td><td>null</td><td>null</td><td>null</td><td>null</td><td>null</td><td>null</td><td>null</td></tr><tr><td>&quot;NO&quot;</td><td>&quot;NO&quot;</td><td>&quot;NO&quot;</td><td>&quot;2009&quot;</td><td>null</td><td>null</td><td>null</td><td>null</td><td>null</td><td>null</td><td>null</td><td>null</td><td>null</td><td>null</td><td>null</td><td>null</td><td>&quot;NONE&quot;</td><td>&quot;310237535&quot;</td><td>&quot;UNITED STATES&quot;</td><td>&quot;NO&quot;</td><td>&quot;NO&quot;</td><td>&quot;NO&quot;</td><td>&quot;NO&quot;</td><td>&quot;NO&quot;</td><td>&quot;NO&quot;</td><td>&quot;NO&quot;</td><td>&quot;NO&quot;</td><td>&quot;NO&quot;</td><td>&quot;NO&quot;</td><td>&quot;NO&quot;</td><td>&quot;NO&quot;</td><td>&quot;NO&quot;</td><td>&quot;NO&quot;</td><td>&quot;NO&quot;</td><td>&quot;YES&quot;</td><td>&quot;NO&quot;</td><td>&quot;YES&quot;</td><td>&quot;NO&quot;</td><td>&quot;NO&quot;</td><td>&quot;NO&quot;</td><td>&quot;SMALL BUSINESS…</td><td>&quot;336413&quot;</td><td>&quot;M0014609VF099&quot;</td><td>null</td><td>null</td><td>&quot;NONE&quot;</td><td>&quot;B&quot;</td><td>&quot;0&quot;</td><td>2008-12-09 00:00:00</td><td>&quot;DEPT OF THE NA…</td><td>&quot;FLEET READINES…</td><td>&quot;DEPT OF DEFENS…</td><td>&quot;FLEET READINES…</td><td>null</td><td>null</td><td>null</td><td>null</td><td>null</td><td>null</td><td>null</td><td>null</td><td>null</td><td>null</td><td>null</td><td>null</td><td>null</td><td>null</td></tr><tr><td>&quot;NO&quot;</td><td>&quot;NO&quot;</td><td>&quot;NO&quot;</td><td>&quot;2009&quot;</td><td>null</td><td>null</td><td>null</td><td>null</td><td>null</td><td>null</td><td>null</td><td>null</td><td>null</td><td>null</td><td>null</td><td>null</td><td>&quot;NONE&quot;</td><td>&quot;310237535&quot;</td><td>&quot;UNITED STATES&quot;</td><td>&quot;NO&quot;</td><td>&quot;NO&quot;</td><td>&quot;NO&quot;</td><td>&quot;NO&quot;</td><td>&quot;NO&quot;</td><td>&quot;NO&quot;</td><td>&quot;NO&quot;</td><td>&quot;NO&quot;</td><td>&quot;NO&quot;</td><td>&quot;NO&quot;</td><td>&quot;NO&quot;</td><td>&quot;NO&quot;</td><td>&quot;NO&quot;</td><td>&quot;NO&quot;</td><td>&quot;NO&quot;</td><td>&quot;YES&quot;</td><td>&quot;NO&quot;</td><td>&quot;YES&quot;</td><td>&quot;NO&quot;</td><td>&quot;NO&quot;</td><td>&quot;NO&quot;</td><td>&quot;SMALL BUSINESS…</td><td>&quot;423860&quot;</td><td>&quot;M0014609VW005&quot;</td><td>null</td><td>null</td><td>&quot;NONE&quot;</td><td>&quot;B&quot;</td><td>&quot;0&quot;</td><td>2008-10-15 00:00:00</td><td>&quot;DEPT OF THE NA…</td><td>&quot;FLEET READINES…</td><td>&quot;DEPT OF DEFENS…</td><td>&quot;FLEET READINES…</td><td>null</td><td>null</td><td>null</td><td>null</td><td>null</td><td>null</td><td>null</td><td>null</td><td>null</td><td>null</td><td>null</td><td>null</td><td>null</td><td>null</td></tr><tr><td>&quot;YES&quot;</td><td>&quot;NO&quot;</td><td>&quot;NO&quot;</td><td>&quot;2009&quot;</td><td>null</td><td>null</td><td>null</td><td>null</td><td>null</td><td>null</td><td>null</td><td>null</td><td>null</td><td>null</td><td>null</td><td>null</td><td>&quot;SBA&quot;</td><td>&quot;284458788&quot;</td><td>&quot;UNITED STATES&quot;</td><td>&quot;NO&quot;</td><td>&quot;NO&quot;</td><td>&quot;NO&quot;</td><td>&quot;NO&quot;</td><td>&quot;NO&quot;</td><td>&quot;NO&quot;</td><td>&quot;NO&quot;</td><td>&quot;NO&quot;</td><td>&quot;NO&quot;</td><td>&quot;NO&quot;</td><td>&quot;NO&quot;</td><td>&quot;NO&quot;</td><td>&quot;NO&quot;</td><td>&quot;NO&quot;</td><td>&quot;NO&quot;</td><td>&quot;YES&quot;</td><td>&quot;NO&quot;</td><td>&quot;YES&quot;</td><td>&quot;NO&quot;</td><td>&quot;NO&quot;</td><td>&quot;NO&quot;</td><td>&quot;SMALL BUSINESS…</td><td>&quot;423510&quot;</td><td>&quot;M0014609PD043&quot;</td><td>null</td><td>null</td><td>&quot;NONE&quot;</td><td>&quot;D&quot;</td><td>&quot;0&quot;</td><td>2008-10-27 00:00:00</td><td>&quot;DEPT OF THE NA…</td><td>&quot;FLEET READINES…</td><td>&quot;DEPT OF DEFENS…</td><td>&quot;FLEET READINES…</td><td>null</td><td>null</td><td>null</td><td>null</td><td>null</td><td>null</td><td>null</td><td>null</td><td>null</td><td>null</td><td>null</td><td>null</td><td>null</td><td>null</td></tr><tr><td>&quot;YES&quot;</td><td>&quot;NO&quot;</td><td>&quot;NO&quot;</td><td>&quot;2009&quot;</td><td>null</td><td>null</td><td>null</td><td>null</td><td>null</td><td>null</td><td>null</td><td>null</td><td>null</td><td>null</td><td>null</td><td>null</td><td>&quot;SBA&quot;</td><td>&quot;278035701&quot;</td><td>&quot;UNITED STATES&quot;</td><td>&quot;NO&quot;</td><td>&quot;NO&quot;</td><td>&quot;NO&quot;</td><td>&quot;NO&quot;</td><td>&quot;NO&quot;</td><td>&quot;NO&quot;</td><td>&quot;NO&quot;</td><td>&quot;NO&quot;</td><td>&quot;NO&quot;</td><td>&quot;NO&quot;</td><td>&quot;NO&quot;</td><td>&quot;NO&quot;</td><td>&quot;NO&quot;</td><td>&quot;NO&quot;</td><td>&quot;NO&quot;</td><td>&quot;NO&quot;</td><td>&quot;NO&quot;</td><td>&quot;YES&quot;</td><td>&quot;NO&quot;</td><td>&quot;NO&quot;</td><td>&quot;NO&quot;</td><td>&quot;SMALL BUSINESS…</td><td>&quot;811118&quot;</td><td>&quot;0001&quot;</td><td>null</td><td>null</td><td>&quot;NONE&quot;</td><td>&quot;D&quot;</td><td>&quot;0&quot;</td><td>2008-12-04 00:00:00</td><td>&quot;DEPT OF THE NA…</td><td>&quot;FLEET READINES…</td><td>&quot;DEPT OF DEFENS…</td><td>&quot;FLEET READINES…</td><td>null</td><td>null</td><td>null</td><td>null</td><td>null</td><td>null</td><td>null</td><td>null</td><td>null</td><td>null</td><td>null</td><td>null</td><td>null</td><td>null</td></tr><tr><td>&quot;YES&quot;</td><td>&quot;NO&quot;</td><td>&quot;NO&quot;</td><td>&quot;2009&quot;</td><td>null</td><td>null</td><td>null</td><td>null</td><td>null</td><td>null</td><td>null</td><td>null</td><td>null</td><td>null</td><td>null</td><td>null</td><td>&quot;NONE&quot;</td><td>&quot;285603227&quot;</td><td>&quot;UNITED STATES&quot;</td><td>&quot;NO&quot;</td><td>&quot;NO&quot;</td><td>&quot;YES&quot;</td><td>&quot;NO&quot;</td><td>&quot;NO&quot;</td><td>&quot;NO&quot;</td><td>&quot;NO&quot;</td><td>&quot;NO&quot;</td><td>&quot;NO&quot;</td><td>&quot;NO&quot;</td><td>&quot;NO&quot;</td><td>&quot;NO&quot;</td><td>&quot;NO&quot;</td><td>&quot;NO&quot;</td><td>&quot;NO&quot;</td><td>&quot;YES&quot;</td><td>&quot;NO&quot;</td><td>&quot;NO&quot;</td><td>&quot;NO&quot;</td><td>&quot;NO&quot;</td><td>&quot;NO&quot;</td><td>&quot;SMALL BUSINESS…</td><td>&quot;332312&quot;</td><td>&quot;M0014609PB004&quot;</td><td>null</td><td>null</td><td>&quot;NONE&quot;</td><td>&quot;A&quot;</td><td>&quot;0&quot;</td><td>2008-11-07 00:00:00</td><td>&quot;DEPT OF THE NA…</td><td>&quot;FLEET READINES…</td><td>&quot;DEPT OF DEFENS…</td><td>&quot;FLEET READINES…</td><td>null</td><td>null</td><td>null</td><td>null</td><td>null</td><td>null</td><td>null</td><td>null</td><td>null</td><td>null</td><td>null</td><td>null</td><td>null</td><td>null</td></tr><tr><td>&hellip;</td><td>&hellip;</td><td>&hellip;</td><td>&hellip;</td><td>&hellip;</td><td>&hellip;</td><td>&hellip;</td><td>&hellip;</td><td>&hellip;</td><td>&hellip;</td><td>&hellip;</td><td>&hellip;</td><td>&hellip;</td><td>&hellip;</td><td>&hellip;</td><td>&hellip;</td><td>&hellip;</td><td>&hellip;</td><td>&hellip;</td><td>&hellip;</td><td>&hellip;</td><td>&hellip;</td><td>&hellip;</td><td>&hellip;</td><td>&hellip;</td><td>&hellip;</td><td>&hellip;</td><td>&hellip;</td><td>&hellip;</td><td>&hellip;</td><td>&hellip;</td><td>&hellip;</td><td>&hellip;</td><td>&hellip;</td><td>&hellip;</td><td>&hellip;</td><td>&hellip;</td><td>&hellip;</td><td>&hellip;</td><td>&hellip;</td><td>&hellip;</td><td>&hellip;</td><td>&hellip;</td><td>&hellip;</td><td>&hellip;</td><td>&hellip;</td><td>&hellip;</td><td>&hellip;</td><td>&hellip;</td><td>&hellip;</td><td>&hellip;</td><td>&hellip;</td><td>&hellip;</td><td>&hellip;</td><td>&hellip;</td><td>&hellip;</td><td>&hellip;</td><td>&hellip;</td><td>&hellip;</td><td>&hellip;</td><td>&hellip;</td><td>&hellip;</td><td>&hellip;</td><td>&hellip;</td><td>&hellip;</td><td>&hellip;</td><td>&hellip;</td></tr><tr><td>&quot;NO&quot;</td><td>&quot;NO&quot;</td><td>&quot;NO&quot;</td><td>&quot;2010&quot;</td><td>null</td><td>null</td><td>null</td><td>null</td><td>null</td><td>null</td><td>null</td><td>null</td><td>null</td><td>null</td><td>null</td><td>null</td><td>&quot;NONE&quot;</td><td>&quot;600856726&quot;</td><td>&quot;UNITED STATES&quot;</td><td>&quot;NO&quot;</td><td>&quot;NO&quot;</td><td>&quot;NO&quot;</td><td>&quot;NO&quot;</td><td>&quot;NO&quot;</td><td>&quot;NO&quot;</td><td>&quot;NO&quot;</td><td>&quot;NO&quot;</td><td>&quot;NO&quot;</td><td>&quot;NO&quot;</td><td>&quot;NO&quot;</td><td>&quot;NO&quot;</td><td>&quot;NO&quot;</td><td>&quot;NO&quot;</td><td>&quot;NO&quot;</td><td>&quot;NO&quot;</td><td>&quot;NO&quot;</td><td>&quot;NO&quot;</td><td>&quot;NO&quot;</td><td>&quot;NO&quot;</td><td>&quot;NO&quot;</td><td>&quot;OTHER THAN SMA…</td><td>&quot;423450&quot;</td><td>&quot;B578&quot;</td><td>null</td><td>null</td><td>&quot;NONE&quot;</td><td>&quot;A&quot;</td><td>&quot;0&quot;</td><td>2009-12-18 00:00:00</td><td>&quot;DEFENSE LOGIST…</td><td>&quot;DLA TROOP SUPP…</td><td>&quot;DEPT OF DEFENS…</td><td>&quot;DLA TROOP SUPP…</td><td>null</td><td>null</td><td>null</td><td>null</td><td>null</td><td>null</td><td>null</td><td>null</td><td>null</td><td>null</td><td>null</td><td>null</td><td>null</td><td>null</td></tr><tr><td>&quot;NO&quot;</td><td>&quot;NO&quot;</td><td>&quot;NO&quot;</td><td>&quot;2010&quot;</td><td>null</td><td>null</td><td>null</td><td>null</td><td>null</td><td>null</td><td>null</td><td>null</td><td>null</td><td>null</td><td>null</td><td>null</td><td>&quot;NONE&quot;</td><td>&quot;600856726&quot;</td><td>&quot;UNITED STATES&quot;</td><td>&quot;NO&quot;</td><td>&quot;NO&quot;</td><td>&quot;NO&quot;</td><td>&quot;NO&quot;</td><td>&quot;NO&quot;</td><td>&quot;NO&quot;</td><td>&quot;NO&quot;</td><td>&quot;NO&quot;</td><td>&quot;NO&quot;</td><td>&quot;NO&quot;</td><td>&quot;NO&quot;</td><td>&quot;NO&quot;</td><td>&quot;NO&quot;</td><td>&quot;NO&quot;</td><td>&quot;NO&quot;</td><td>&quot;NO&quot;</td><td>&quot;NO&quot;</td><td>&quot;NO&quot;</td><td>&quot;NO&quot;</td><td>&quot;NO&quot;</td><td>&quot;NO&quot;</td><td>&quot;OTHER THAN SMA…</td><td>&quot;423450&quot;</td><td>&quot;KM66&quot;</td><td>null</td><td>null</td><td>&quot;NONE&quot;</td><td>&quot;A&quot;</td><td>&quot;0&quot;</td><td>2009-12-18 00:00:00</td><td>&quot;DEFENSE LOGIST…</td><td>&quot;DLA TROOP SUPP…</td><td>&quot;DEPT OF DEFENS…</td><td>&quot;DLA TROOP SUPP…</td><td>null</td><td>null</td><td>null</td><td>null</td><td>null</td><td>null</td><td>null</td><td>null</td><td>null</td><td>null</td><td>null</td><td>null</td><td>null</td><td>null</td></tr><tr><td>&quot;NO&quot;</td><td>&quot;NO&quot;</td><td>&quot;NO&quot;</td><td>&quot;2010&quot;</td><td>null</td><td>null</td><td>null</td><td>null</td><td>null</td><td>null</td><td>null</td><td>null</td><td>null</td><td>null</td><td>null</td><td>null</td><td>&quot;NONE&quot;</td><td>&quot;600856726&quot;</td><td>&quot;UNITED STATES&quot;</td><td>&quot;NO&quot;</td><td>&quot;NO&quot;</td><td>&quot;NO&quot;</td><td>&quot;NO&quot;</td><td>&quot;NO&quot;</td><td>&quot;NO&quot;</td><td>&quot;NO&quot;</td><td>&quot;NO&quot;</td><td>&quot;NO&quot;</td><td>&quot;NO&quot;</td><td>&quot;NO&quot;</td><td>&quot;NO&quot;</td><td>&quot;NO&quot;</td><td>&quot;NO&quot;</td><td>&quot;NO&quot;</td><td>&quot;NO&quot;</td><td>&quot;NO&quot;</td><td>&quot;NO&quot;</td><td>&quot;NO&quot;</td><td>&quot;NO&quot;</td><td>&quot;NO&quot;</td><td>&quot;OTHER THAN SMA…</td><td>&quot;423450&quot;</td><td>&quot;R423&quot;</td><td>null</td><td>null</td><td>&quot;NONE&quot;</td><td>&quot;A&quot;</td><td>&quot;0&quot;</td><td>2010-01-18 00:00:00</td><td>&quot;DEFENSE LOGIST…</td><td>&quot;DLA TROOP SUPP…</td><td>&quot;DEPT OF DEFENS…</td><td>&quot;DLA TROOP SUPP…</td><td>null</td><td>null</td><td>null</td><td>null</td><td>null</td><td>null</td><td>null</td><td>null</td><td>null</td><td>null</td><td>null</td><td>null</td><td>null</td><td>null</td></tr><tr><td>&quot;NO&quot;</td><td>&quot;NO&quot;</td><td>&quot;NO&quot;</td><td>&quot;2010&quot;</td><td>null</td><td>null</td><td>null</td><td>null</td><td>null</td><td>null</td><td>null</td><td>null</td><td>null</td><td>null</td><td>null</td><td>null</td><td>&quot;NONE&quot;</td><td>&quot;600856726&quot;</td><td>&quot;UNITED STATES&quot;</td><td>&quot;NO&quot;</td><td>&quot;NO&quot;</td><td>&quot;NO&quot;</td><td>&quot;NO&quot;</td><td>&quot;NO&quot;</td><td>&quot;NO&quot;</td><td>&quot;NO&quot;</td><td>&quot;NO&quot;</td><td>&quot;NO&quot;</td><td>&quot;NO&quot;</td><td>&quot;NO&quot;</td><td>&quot;NO&quot;</td><td>&quot;NO&quot;</td><td>&quot;NO&quot;</td><td>&quot;NO&quot;</td><td>&quot;NO&quot;</td><td>&quot;NO&quot;</td><td>&quot;NO&quot;</td><td>&quot;NO&quot;</td><td>&quot;NO&quot;</td><td>&quot;NO&quot;</td><td>&quot;OTHER THAN SMA…</td><td>&quot;423450&quot;</td><td>&quot;R426&quot;</td><td>null</td><td>null</td><td>&quot;NONE&quot;</td><td>&quot;A&quot;</td><td>&quot;0&quot;</td><td>2010-01-18 00:00:00</td><td>&quot;DEFENSE LOGIST…</td><td>&quot;DLA TROOP SUPP…</td><td>&quot;DEPT OF DEFENS…</td><td>&quot;DLA TROOP SUPP…</td><td>null</td><td>null</td><td>null</td><td>null</td><td>null</td><td>null</td><td>null</td><td>null</td><td>null</td><td>null</td><td>null</td><td>null</td><td>null</td><td>null</td></tr><tr><td>&quot;NO&quot;</td><td>&quot;NO&quot;</td><td>&quot;NO&quot;</td><td>&quot;2010&quot;</td><td>null</td><td>null</td><td>null</td><td>null</td><td>null</td><td>null</td><td>null</td><td>null</td><td>null</td><td>null</td><td>null</td><td>null</td><td>&quot;NONE&quot;</td><td>&quot;600856726&quot;</td><td>&quot;UNITED STATES&quot;</td><td>&quot;NO&quot;</td><td>&quot;NO&quot;</td><td>&quot;NO&quot;</td><td>&quot;NO&quot;</td><td>&quot;NO&quot;</td><td>&quot;NO&quot;</td><td>&quot;NO&quot;</td><td>&quot;NO&quot;</td><td>&quot;NO&quot;</td><td>&quot;NO&quot;</td><td>&quot;NO&quot;</td><td>&quot;NO&quot;</td><td>&quot;NO&quot;</td><td>&quot;NO&quot;</td><td>&quot;NO&quot;</td><td>&quot;NO&quot;</td><td>&quot;NO&quot;</td><td>&quot;NO&quot;</td><td>&quot;NO&quot;</td><td>&quot;NO&quot;</td><td>&quot;NO&quot;</td><td>&quot;OTHER THAN SMA…</td><td>&quot;423450&quot;</td><td>&quot;R428&quot;</td><td>null</td><td>null</td><td>&quot;NONE&quot;</td><td>&quot;A&quot;</td><td>&quot;0&quot;</td><td>2010-01-18 00:00:00</td><td>&quot;DEFENSE LOGIST…</td><td>&quot;DLA TROOP SUPP…</td><td>&quot;DEPT OF DEFENS…</td><td>&quot;DLA TROOP SUPP…</td><td>null</td><td>null</td><td>null</td><td>null</td><td>null</td><td>null</td><td>null</td><td>null</td><td>null</td><td>null</td><td>null</td><td>null</td><td>null</td><td>null</td></tr><tr><td>&quot;NO&quot;</td><td>&quot;NO&quot;</td><td>&quot;NO&quot;</td><td>&quot;2010&quot;</td><td>null</td><td>null</td><td>null</td><td>null</td><td>null</td><td>null</td><td>null</td><td>null</td><td>null</td><td>null</td><td>null</td><td>null</td><td>&quot;NONE&quot;</td><td>&quot;600856726&quot;</td><td>&quot;UNITED STATES&quot;</td><td>&quot;NO&quot;</td><td>&quot;NO&quot;</td><td>&quot;NO&quot;</td><td>&quot;NO&quot;</td><td>&quot;NO&quot;</td><td>&quot;NO&quot;</td><td>&quot;NO&quot;</td><td>&quot;NO&quot;</td><td>&quot;NO&quot;</td><td>&quot;NO&quot;</td><td>&quot;NO&quot;</td><td>&quot;NO&quot;</td><td>&quot;NO&quot;</td><td>&quot;NO&quot;</td><td>&quot;NO&quot;</td><td>&quot;NO&quot;</td><td>&quot;NO&quot;</td><td>&quot;NO&quot;</td><td>&quot;NO&quot;</td><td>&quot;NO&quot;</td><td>&quot;NO&quot;</td><td>&quot;OTHER THAN SMA…</td><td>&quot;423450&quot;</td><td>&quot;C006&quot;</td><td>null</td><td>null</td><td>&quot;NONE&quot;</td><td>&quot;A&quot;</td><td>&quot;0&quot;</td><td>2010-01-20 00:00:00</td><td>&quot;DEFENSE LOGIST…</td><td>&quot;DLA TROOP SUPP…</td><td>&quot;DEPT OF DEFENS…</td><td>&quot;DLA TROOP SUPP…</td><td>null</td><td>null</td><td>null</td><td>null</td><td>null</td><td>null</td><td>null</td><td>null</td><td>null</td><td>null</td><td>null</td><td>null</td><td>null</td><td>null</td></tr><tr><td>&quot;NO&quot;</td><td>&quot;NO&quot;</td><td>&quot;NO&quot;</td><td>&quot;2010&quot;</td><td>null</td><td>null</td><td>null</td><td>null</td><td>null</td><td>null</td><td>null</td><td>null</td><td>null</td><td>null</td><td>null</td><td>null</td><td>&quot;NONE&quot;</td><td>&quot;600856726&quot;</td><td>&quot;UNITED STATES&quot;</td><td>&quot;NO&quot;</td><td>&quot;NO&quot;</td><td>&quot;NO&quot;</td><td>&quot;NO&quot;</td><td>&quot;NO&quot;</td><td>&quot;NO&quot;</td><td>&quot;NO&quot;</td><td>&quot;NO&quot;</td><td>&quot;NO&quot;</td><td>&quot;NO&quot;</td><td>&quot;NO&quot;</td><td>&quot;NO&quot;</td><td>&quot;NO&quot;</td><td>&quot;NO&quot;</td><td>&quot;NO&quot;</td><td>&quot;NO&quot;</td><td>&quot;NO&quot;</td><td>&quot;NO&quot;</td><td>&quot;NO&quot;</td><td>&quot;NO&quot;</td><td>&quot;NO&quot;</td><td>&quot;OTHER THAN SMA…</td><td>&quot;423450&quot;</td><td>&quot;GM76&quot;</td><td>null</td><td>null</td><td>&quot;NONE&quot;</td><td>&quot;A&quot;</td><td>&quot;0&quot;</td><td>2009-10-26 00:00:00</td><td>&quot;DEFENSE LOGIST…</td><td>&quot;DLA TROOP SUPP…</td><td>&quot;DEPT OF DEFENS…</td><td>&quot;DLA TROOP SUPP…</td><td>null</td><td>null</td><td>null</td><td>null</td><td>null</td><td>null</td><td>null</td><td>null</td><td>null</td><td>null</td><td>null</td><td>null</td><td>null</td><td>null</td></tr><tr><td>&quot;NO&quot;</td><td>&quot;NO&quot;</td><td>&quot;NO&quot;</td><td>&quot;2010&quot;</td><td>null</td><td>null</td><td>null</td><td>null</td><td>null</td><td>null</td><td>null</td><td>null</td><td>null</td><td>null</td><td>null</td><td>null</td><td>&quot;NONE&quot;</td><td>&quot;600856726&quot;</td><td>&quot;UNITED STATES&quot;</td><td>&quot;NO&quot;</td><td>&quot;NO&quot;</td><td>&quot;NO&quot;</td><td>&quot;NO&quot;</td><td>&quot;NO&quot;</td><td>&quot;NO&quot;</td><td>&quot;NO&quot;</td><td>&quot;NO&quot;</td><td>&quot;NO&quot;</td><td>&quot;NO&quot;</td><td>&quot;NO&quot;</td><td>&quot;NO&quot;</td><td>&quot;NO&quot;</td><td>&quot;NO&quot;</td><td>&quot;NO&quot;</td><td>&quot;NO&quot;</td><td>&quot;NO&quot;</td><td>&quot;NO&quot;</td><td>&quot;NO&quot;</td><td>&quot;NO&quot;</td><td>&quot;NO&quot;</td><td>&quot;OTHER THAN SMA…</td><td>&quot;423450&quot;</td><td>&quot;GR47&quot;</td><td>null</td><td>null</td><td>&quot;NONE&quot;</td><td>&quot;A&quot;</td><td>&quot;0&quot;</td><td>2009-10-26 00:00:00</td><td>&quot;DEFENSE LOGIST…</td><td>&quot;DLA TROOP SUPP…</td><td>&quot;DEPT OF DEFENS…</td><td>&quot;DLA TROOP SUPP…</td><td>null</td><td>null</td><td>null</td><td>null</td><td>null</td><td>null</td><td>null</td><td>null</td><td>null</td><td>null</td><td>null</td><td>null</td><td>null</td><td>null</td></tr><tr><td>&quot;NO&quot;</td><td>&quot;NO&quot;</td><td>&quot;NO&quot;</td><td>&quot;2010&quot;</td><td>null</td><td>null</td><td>null</td><td>null</td><td>null</td><td>null</td><td>null</td><td>null</td><td>null</td><td>null</td><td>null</td><td>null</td><td>&quot;NONE&quot;</td><td>&quot;600856726&quot;</td><td>&quot;UNITED STATES&quot;</td><td>&quot;NO&quot;</td><td>&quot;NO&quot;</td><td>&quot;NO&quot;</td><td>&quot;NO&quot;</td><td>&quot;NO&quot;</td><td>&quot;NO&quot;</td><td>&quot;NO&quot;</td><td>&quot;NO&quot;</td><td>&quot;NO&quot;</td><td>&quot;NO&quot;</td><td>&quot;NO&quot;</td><td>&quot;NO&quot;</td><td>&quot;NO&quot;</td><td>&quot;NO&quot;</td><td>&quot;NO&quot;</td><td>&quot;NO&quot;</td><td>&quot;NO&quot;</td><td>&quot;NO&quot;</td><td>&quot;NO&quot;</td><td>&quot;NO&quot;</td><td>&quot;NO&quot;</td><td>&quot;OTHER THAN SMA…</td><td>&quot;423450&quot;</td><td>&quot;GR49&quot;</td><td>null</td><td>null</td><td>&quot;NONE&quot;</td><td>&quot;A&quot;</td><td>&quot;0&quot;</td><td>2009-10-26 00:00:00</td><td>&quot;DEFENSE LOGIST…</td><td>&quot;DLA TROOP SUPP…</td><td>&quot;DEPT OF DEFENS…</td><td>&quot;DLA TROOP SUPP…</td><td>null</td><td>null</td><td>null</td><td>null</td><td>null</td><td>null</td><td>null</td><td>null</td><td>null</td><td>null</td><td>null</td><td>null</td><td>null</td><td>null</td></tr><tr><td>&quot;NO&quot;</td><td>&quot;NO&quot;</td><td>&quot;NO&quot;</td><td>&quot;2010&quot;</td><td>null</td><td>null</td><td>null</td><td>null</td><td>null</td><td>null</td><td>null</td><td>null</td><td>null</td><td>null</td><td>null</td><td>null</td><td>&quot;NONE&quot;</td><td>&quot;600856726&quot;</td><td>&quot;UNITED STATES&quot;</td><td>&quot;NO&quot;</td><td>&quot;NO&quot;</td><td>&quot;NO&quot;</td><td>&quot;NO&quot;</td><td>&quot;NO&quot;</td><td>&quot;NO&quot;</td><td>&quot;NO&quot;</td><td>&quot;NO&quot;</td><td>&quot;NO&quot;</td><td>&quot;NO&quot;</td><td>&quot;NO&quot;</td><td>&quot;NO&quot;</td><td>&quot;NO&quot;</td><td>&quot;NO&quot;</td><td>&quot;NO&quot;</td><td>&quot;NO&quot;</td><td>&quot;NO&quot;</td><td>&quot;NO&quot;</td><td>&quot;NO&quot;</td><td>&quot;NO&quot;</td><td>&quot;NO&quot;</td><td>&quot;OTHER THAN SMA…</td><td>&quot;423450&quot;</td><td>&quot;H338&quot;</td><td>null</td><td>null</td><td>&quot;NONE&quot;</td><td>&quot;A&quot;</td><td>&quot;0&quot;</td><td>2009-10-27 00:00:00</td><td>&quot;DEFENSE LOGIST…</td><td>&quot;DLA TROOP SUPP…</td><td>&quot;DEPT OF DEFENS…</td><td>&quot;DLA TROOP SUPP…</td><td>null</td><td>null</td><td>null</td><td>null</td><td>null</td><td>null</td><td>null</td><td>null</td><td>null</td><td>null</td><td>null</td><td>null</td><td>null</td><td>null</td></tr></tbody></table></div>"
      ],
      "text/plain": [
       "shape: (30, 67)\n",
       "┌────────────┬────────────┬─────┬────────────┬───┬────────────┬───────────┬────────────┬───────────┐\n",
       "│ FOR_PROFIT ┆ DOT_CERTIF ┆ SDB ┆ FISCAL_YEA ┆ … ┆ CERT_EDWOS ┆ SELF_VOSB ┆ SELF_SDVOS ┆ SELF_SDVO │\n",
       "│ _ORGANIZAT ┆ IED_DISADV ┆ --- ┆ R          ┆   ┆ B          ┆ ---       ┆ B          ┆ SBJV      │\n",
       "│ ION        ┆ _BUS       ┆ str ┆ ---        ┆   ┆ ---        ┆ str       ┆ ---        ┆ ---       │\n",
       "│ ---        ┆ ---        ┆     ┆ str        ┆   ┆ str        ┆           ┆ str        ┆ str       │\n",
       "│ str        ┆ str        ┆     ┆            ┆   ┆            ┆           ┆            ┆           │\n",
       "╞════════════╪════════════╪═════╪════════════╪═══╪════════════╪═══════════╪════════════╪═══════════╡\n",
       "│ YES        ┆ NO         ┆ NO  ┆ 2009       ┆ … ┆ null       ┆ null      ┆ null       ┆ null      │\n",
       "│ YES        ┆ NO         ┆ NO  ┆ 2009       ┆ … ┆ null       ┆ null      ┆ null       ┆ null      │\n",
       "│ YES        ┆ NO         ┆ NO  ┆ 2009       ┆ … ┆ null       ┆ null      ┆ null       ┆ null      │\n",
       "│ YES        ┆ NO         ┆ NO  ┆ 2009       ┆ … ┆ null       ┆ null      ┆ null       ┆ null      │\n",
       "│ YES        ┆ NO         ┆ NO  ┆ 2009       ┆ … ┆ null       ┆ null      ┆ null       ┆ null      │\n",
       "│ NO         ┆ NO         ┆ NO  ┆ 2009       ┆ … ┆ null       ┆ null      ┆ null       ┆ null      │\n",
       "│ NO         ┆ NO         ┆ NO  ┆ 2009       ┆ … ┆ null       ┆ null      ┆ null       ┆ null      │\n",
       "│ YES        ┆ NO         ┆ NO  ┆ 2009       ┆ … ┆ null       ┆ null      ┆ null       ┆ null      │\n",
       "│ YES        ┆ NO         ┆ NO  ┆ 2009       ┆ … ┆ null       ┆ null      ┆ null       ┆ null      │\n",
       "│ YES        ┆ NO         ┆ NO  ┆ 2009       ┆ … ┆ null       ┆ null      ┆ null       ┆ null      │\n",
       "│ …          ┆ …          ┆ …   ┆ …          ┆ … ┆ …          ┆ …         ┆ …          ┆ …         │\n",
       "│ NO         ┆ NO         ┆ NO  ┆ 2010       ┆ … ┆ null       ┆ null      ┆ null       ┆ null      │\n",
       "│ NO         ┆ NO         ┆ NO  ┆ 2010       ┆ … ┆ null       ┆ null      ┆ null       ┆ null      │\n",
       "│ NO         ┆ NO         ┆ NO  ┆ 2010       ┆ … ┆ null       ┆ null      ┆ null       ┆ null      │\n",
       "│ NO         ┆ NO         ┆ NO  ┆ 2010       ┆ … ┆ null       ┆ null      ┆ null       ┆ null      │\n",
       "│ NO         ┆ NO         ┆ NO  ┆ 2010       ┆ … ┆ null       ┆ null      ┆ null       ┆ null      │\n",
       "│ NO         ┆ NO         ┆ NO  ┆ 2010       ┆ … ┆ null       ┆ null      ┆ null       ┆ null      │\n",
       "│ NO         ┆ NO         ┆ NO  ┆ 2010       ┆ … ┆ null       ┆ null      ┆ null       ┆ null      │\n",
       "│ NO         ┆ NO         ┆ NO  ┆ 2010       ┆ … ┆ null       ┆ null      ┆ null       ┆ null      │\n",
       "│ NO         ┆ NO         ┆ NO  ┆ 2010       ┆ … ┆ null       ┆ null      ┆ null       ┆ null      │\n",
       "│ NO         ┆ NO         ┆ NO  ┆ 2010       ┆ … ┆ null       ┆ null      ┆ null       ┆ null      │\n",
       "└────────────┴────────────┴─────┴────────────┴───┴────────────┴───────────┴────────────┴───────────┘"
      ]
     },
     "execution_count": 78,
     "metadata": {},
     "output_type": "execute_result"
    }
   ],
   "source": [
    "PSAM.head(30)"
   ]
  },
  {
   "cell_type": "code",
   "execution_count": 79,
   "id": "47a5abe1-ef21-48a3-a35f-bf10ca3ec178",
   "metadata": {},
   "outputs": [
    {
     "data": {
      "text/html": [
       "<div><style>\n",
       ".dataframe > thead > tr,\n",
       ".dataframe > tbody > tr {\n",
       "  text-align: right;\n",
       "  white-space: pre-wrap;\n",
       "}\n",
       "</style>\n",
       "<small>shape: (30, 67)</small><table border=\"1\" class=\"dataframe\"><thead><tr><th>FOR_PROFIT_ORGANIZATION</th><th>DOT_CERTIFIED_DISADV_BUS</th><th>SDB</th><th>FISCAL_YEAR</th><th>CAGE_CODE</th><th>IDV_CONTRACTING_AGENCY_NAME</th><th>IDV_EXTENT_COMPETED</th><th>IDV_EVALUATED_PREFERENCE</th><th>IDV_SIGNED_DATE</th><th>IDV_LAST_DATE_TO_ORDER</th><th>IDV_NUMBER_OF_OFFERS</th><th>PART8_OR_PART13</th><th>AWARD_FISCAL_YEAR</th><th>PRODUCT_OR_SERVICE_TYPE</th><th>TOTAL_ESTIMATED_ORDER_VALUE</th><th>VENDOR_UEI</th><th>TYPE_OF_SET_ASIDE</th><th>VENDOR_ADDRESS_ZIP_CODE</th><th>VENDOR_ADDRESS_COUNTRY_NAME</th><th>EDUCATIONAL_INSTITUTION_FLAG</th><th>FIRM_8A_FLAG</th><th>WOMEN_OWNED_FLAG</th><th>FIRM8A_JOINT_VENTURE</th><th>FEDERALLY_FUNDED_R_AND_D_CORP</th><th>CORP_ENTITY_NOT_TAX_EXEMPT</th><th>PARTNERSHIP_OR_LLP</th><th>SOLE_PROPREITORSHIP</th><th>SMALL_AGRICULTURAL_COOPERATIVE</th><th>INTERNATIONAL_ORGANIZATION</th><th>ARCHITECTURE_AND_ENGINEERING</th><th>COMMUNITY_CORP_OWNED_FIRM</th><th>CONSTRUCTION_FIRM</th><th>DOMESTIC_SHELTER</th><th>FOUNDATION</th><th>MANUFACTURER_OF_GOODS</th><th>RESEARCH_AND_DEVELOPMENT</th><th>SERVICE_PROVIDER</th><th>VETERINARY_HOSPITAL</th><th>HISPANIC_SERVICING_INSTITUTION</th><th>LIMITED_LIABILITY_CORPORATION</th><th>CO_BUS_SIZE_DETERMINATION</th><th>PRINCIPAL_NAICS_CODE</th><th>PIID</th><th>CURRENT_CONTRACT_VALUE</th><th>NUMBER_OF_OFFERS_RECEIVED</th><th>EVALUATED_PREFERENCE</th><th>EXTENT_COMPETED</th><th>MODIFICATION_NUMBER</th><th>DATE_SIGNED</th><th>FUNDING_AGENCY_NAME</th><th>FUNDING_OFFICE_NAME</th><th>FUNDING_DEPARTMENT_NAME</th><th>FUNDING_OFFICE</th><th>BUS TYPE STRING</th><th>SBA BUSINESS TYPES STRING</th><th>SELF_8A</th><th>CERT_8A</th><th>CERT_HUBZone</th><th>SELF_SDB</th><th>CERT_SDB</th><th>SELF_WOSB</th><th>CERT_WOSB</th><th>SELF_EDWOSB</th><th>CERT_EDWOSB</th><th>SELF_VOSB</th><th>SELF_SDVOSB</th><th>SELF_SDVOSBJV</th></tr><tr><td>str</td><td>str</td><td>str</td><td>str</td><td>str</td><td>str</td><td>str</td><td>str</td><td>datetime[ms]</td><td>datetime[ms]</td><td>i32</td><td>str</td><td>str</td><td>str</td><td>f64</td><td>str</td><td>str</td><td>str</td><td>str</td><td>str</td><td>str</td><td>str</td><td>str</td><td>str</td><td>str</td><td>str</td><td>str</td><td>str</td><td>str</td><td>str</td><td>str</td><td>str</td><td>str</td><td>str</td><td>str</td><td>str</td><td>str</td><td>str</td><td>str</td><td>str</td><td>str</td><td>str</td><td>str</td><td>f64</td><td>i32</td><td>str</td><td>str</td><td>str</td><td>datetime[ms]</td><td>str</td><td>str</td><td>str</td><td>str</td><td>str</td><td>str</td><td>str</td><td>str</td><td>str</td><td>str</td><td>str</td><td>str</td><td>str</td><td>str</td><td>str</td><td>str</td><td>str</td><td>str</td></tr></thead><tbody><tr><td>&quot;YES&quot;</td><td>&quot;NO&quot;</td><td>&quot;NO&quot;</td><td>&quot;2022&quot;</td><td>&quot;87MR5&quot;</td><td>&quot;DEFENSE LOGIST…</td><td>&quot;A&quot;</td><td>&quot;NONE&quot;</td><td>2019-04-23 00:00:00</td><td>2023-03-31 00:00:00</td><td>148</td><td>null</td><td>&quot;2022&quot;</td><td>&quot;P&quot;</td><td>null</td><td>&quot;G568KMLKNMC5&quot;</td><td>&quot;NONE&quot;</td><td>&quot;773032004&quot;</td><td>&quot;UNITED STATES&quot;</td><td>&quot;NO&quot;</td><td>&quot;NO&quot;</td><td>&quot;NO&quot;</td><td>&quot;NO&quot;</td><td>&quot;NO&quot;</td><td>&quot;NO&quot;</td><td>&quot;NO&quot;</td><td>&quot;YES&quot;</td><td>&quot;NO&quot;</td><td>&quot;NO&quot;</td><td>&quot;NO&quot;</td><td>&quot;NO&quot;</td><td>&quot;NO&quot;</td><td>&quot;NO&quot;</td><td>&quot;NO&quot;</td><td>&quot;NO&quot;</td><td>&quot;NO&quot;</td><td>&quot;NO&quot;</td><td>&quot;NO&quot;</td><td>&quot;NO&quot;</td><td>&quot;NO&quot;</td><td>&quot;SMALL BUSINESS…</td><td>&quot;324110&quot;</td><td>&quot;SPE60722FEULE&quot;</td><td>196.25</td><td>null</td><td>&quot;NONE&quot;</td><td>&quot;A&quot;</td><td>&quot;0&quot;</td><td>2022-08-05 00:00:00</td><td>&quot;DEFENSE LOGIST…</td><td>&quot;DLA ENERGY&quot;</td><td>&quot;DEPT OF DEFENS…</td><td>&quot;DLA ENERGY - D…</td><td>&quot;2X&quot;</td><td>&quot;&quot;</td><td>&quot;NO&quot;</td><td>&quot;NO&quot;</td><td>&quot;NO&quot;</td><td>&quot;NO&quot;</td><td>&quot;NO&quot;</td><td>&quot;NO&quot;</td><td>&quot;NO&quot;</td><td>&quot;NO&quot;</td><td>&quot;NO&quot;</td><td>&quot;NO&quot;</td><td>&quot;NO&quot;</td><td>&quot;NO&quot;</td></tr><tr><td>&quot;YES&quot;</td><td>&quot;NO&quot;</td><td>&quot;NO&quot;</td><td>&quot;2022&quot;</td><td>&quot;0R7C4&quot;</td><td>&quot;DEFENSE LOGIST…</td><td>&quot;A&quot;</td><td>&quot;NONE&quot;</td><td>2018-04-04 00:00:00</td><td>2022-03-31 00:00:00</td><td>1</td><td>null</td><td>&quot;2022&quot;</td><td>&quot;P&quot;</td><td>null</td><td>&quot;Z4SKYSSHK3Z9&quot;</td><td>&quot;NONE&quot;</td><td>&quot;891193257&quot;</td><td>&quot;UNITED STATES&quot;</td><td>&quot;NO&quot;</td><td>&quot;NO&quot;</td><td>&quot;NO&quot;</td><td>&quot;NO&quot;</td><td>&quot;NO&quot;</td><td>&quot;YES&quot;</td><td>&quot;NO&quot;</td><td>&quot;NO&quot;</td><td>&quot;NO&quot;</td><td>&quot;NO&quot;</td><td>&quot;NO&quot;</td><td>&quot;NO&quot;</td><td>&quot;NO&quot;</td><td>&quot;NO&quot;</td><td>&quot;NO&quot;</td><td>&quot;NO&quot;</td><td>&quot;NO&quot;</td><td>&quot;NO&quot;</td><td>&quot;NO&quot;</td><td>&quot;NO&quot;</td><td>&quot;NO&quot;</td><td>&quot;OTHER THAN SMA…</td><td>&quot;324110&quot;</td><td>&quot;SPE60722FD92Y&quot;</td><td>466.78</td><td>null</td><td>&quot;NONE&quot;</td><td>&quot;A&quot;</td><td>&quot;0&quot;</td><td>2022-04-20 00:00:00</td><td>&quot;DEFENSE LOGIST…</td><td>&quot;DLA ENERGY&quot;</td><td>&quot;DEPT OF DEFENS…</td><td>&quot;DLA ENERGY - D…</td><td>&quot;2X~VW&quot;</td><td>&quot;&quot;</td><td>&quot;NO&quot;</td><td>&quot;NO&quot;</td><td>&quot;NO&quot;</td><td>&quot;NO&quot;</td><td>&quot;NO&quot;</td><td>&quot;NO&quot;</td><td>&quot;NO&quot;</td><td>&quot;NO&quot;</td><td>&quot;NO&quot;</td><td>&quot;NO&quot;</td><td>&quot;NO&quot;</td><td>&quot;NO&quot;</td></tr><tr><td>&quot;YES&quot;</td><td>&quot;NO&quot;</td><td>&quot;NO&quot;</td><td>&quot;2022&quot;</td><td>&quot;9T645&quot;</td><td>&quot;DEFENSE LOGIST…</td><td>&quot;A&quot;</td><td>&quot;NONE&quot;</td><td>2020-07-13 00:00:00</td><td>2023-08-05 00:00:00</td><td>2</td><td>null</td><td>&quot;2022&quot;</td><td>&quot;P&quot;</td><td>null</td><td>&quot;F88AH3GNC5T3&quot;</td><td>&quot;NONE&quot;</td><td>&quot;338803433&quot;</td><td>&quot;UNITED STATES&quot;</td><td>&quot;NO&quot;</td><td>&quot;NO&quot;</td><td>&quot;NO&quot;</td><td>&quot;NO&quot;</td><td>&quot;NO&quot;</td><td>&quot;YES&quot;</td><td>&quot;NO&quot;</td><td>&quot;NO&quot;</td><td>&quot;NO&quot;</td><td>&quot;NO&quot;</td><td>&quot;NO&quot;</td><td>&quot;NO&quot;</td><td>&quot;NO&quot;</td><td>&quot;NO&quot;</td><td>&quot;NO&quot;</td><td>&quot;YES&quot;</td><td>&quot;NO&quot;</td><td>&quot;NO&quot;</td><td>&quot;NO&quot;</td><td>&quot;NO&quot;</td><td>&quot;YES&quot;</td><td>&quot;SMALL BUSINESS…</td><td>&quot;311812&quot;</td><td>&quot;SPE30022F30FU&quot;</td><td>162.8</td><td>null</td><td>&quot;NONE&quot;</td><td>&quot;A&quot;</td><td>&quot;0&quot;</td><td>2022-02-23 00:00:00</td><td>&quot;DEFENSE LOGIST…</td><td>&quot;DLA TROOP SUPP…</td><td>&quot;DEPT OF DEFENS…</td><td>&quot;DLA TROOP SUPP…</td><td>&quot;2X~LJ~MF~VW&quot;</td><td>&quot;&quot;</td><td>&quot;NO&quot;</td><td>&quot;NO&quot;</td><td>&quot;NO&quot;</td><td>&quot;NO&quot;</td><td>&quot;NO&quot;</td><td>&quot;NO&quot;</td><td>&quot;NO&quot;</td><td>&quot;NO&quot;</td><td>&quot;NO&quot;</td><td>&quot;NO&quot;</td><td>&quot;NO&quot;</td><td>&quot;NO&quot;</td></tr><tr><td>&quot;YES&quot;</td><td>&quot;NO&quot;</td><td>&quot;NO&quot;</td><td>&quot;2022&quot;</td><td>&quot;87MR5&quot;</td><td>&quot;DEFENSE LOGIST…</td><td>&quot;A&quot;</td><td>&quot;NONE&quot;</td><td>2019-04-23 00:00:00</td><td>2023-03-31 00:00:00</td><td>148</td><td>null</td><td>&quot;2022&quot;</td><td>&quot;P&quot;</td><td>null</td><td>&quot;G568KMLKNMC5&quot;</td><td>&quot;NONE&quot;</td><td>&quot;773032004&quot;</td><td>&quot;UNITED STATES&quot;</td><td>&quot;NO&quot;</td><td>&quot;NO&quot;</td><td>&quot;NO&quot;</td><td>&quot;NO&quot;</td><td>&quot;NO&quot;</td><td>&quot;NO&quot;</td><td>&quot;NO&quot;</td><td>&quot;YES&quot;</td><td>&quot;NO&quot;</td><td>&quot;NO&quot;</td><td>&quot;NO&quot;</td><td>&quot;NO&quot;</td><td>&quot;NO&quot;</td><td>&quot;NO&quot;</td><td>&quot;NO&quot;</td><td>&quot;NO&quot;</td><td>&quot;NO&quot;</td><td>&quot;NO&quot;</td><td>&quot;NO&quot;</td><td>&quot;NO&quot;</td><td>&quot;NO&quot;</td><td>&quot;SMALL BUSINESS…</td><td>&quot;324110&quot;</td><td>&quot;SPE60722FBG33&quot;</td><td>58.1</td><td>null</td><td>&quot;NONE&quot;</td><td>&quot;A&quot;</td><td>&quot;0&quot;</td><td>2022-01-04 00:00:00</td><td>&quot;DEFENSE LOGIST…</td><td>&quot;DLA ENERGY&quot;</td><td>&quot;DEPT OF DEFENS…</td><td>&quot;DLA ENERGY - D…</td><td>&quot;2X&quot;</td><td>&quot;&quot;</td><td>&quot;NO&quot;</td><td>&quot;NO&quot;</td><td>&quot;NO&quot;</td><td>&quot;NO&quot;</td><td>&quot;NO&quot;</td><td>&quot;NO&quot;</td><td>&quot;NO&quot;</td><td>&quot;NO&quot;</td><td>&quot;NO&quot;</td><td>&quot;NO&quot;</td><td>&quot;NO&quot;</td><td>&quot;NO&quot;</td></tr><tr><td>&quot;YES&quot;</td><td>&quot;NO&quot;</td><td>&quot;NO&quot;</td><td>&quot;2022&quot;</td><td>&quot;5P8G0&quot;</td><td>&quot;DEFENSE LOGIST…</td><td>&quot;A&quot;</td><td>&quot;NONE&quot;</td><td>2019-08-12 00:00:00</td><td>2023-03-31 00:00:00</td><td>145</td><td>null</td><td>&quot;2022&quot;</td><td>&quot;P&quot;</td><td>null</td><td>&quot;G9N5DJF9U275&quot;</td><td>&quot;NONE&quot;</td><td>&quot;365422818&quot;</td><td>&quot;UNITED STATES&quot;</td><td>&quot;NO&quot;</td><td>&quot;NO&quot;</td><td>&quot;NO&quot;</td><td>&quot;NO&quot;</td><td>&quot;NO&quot;</td><td>&quot;YES&quot;</td><td>&quot;NO&quot;</td><td>&quot;NO&quot;</td><td>&quot;NO&quot;</td><td>&quot;NO&quot;</td><td>&quot;NO&quot;</td><td>&quot;NO&quot;</td><td>&quot;NO&quot;</td><td>&quot;NO&quot;</td><td>&quot;NO&quot;</td><td>&quot;NO&quot;</td><td>&quot;NO&quot;</td><td>&quot;NO&quot;</td><td>&quot;NO&quot;</td><td>&quot;NO&quot;</td><td>&quot;NO&quot;</td><td>&quot;SMALL BUSINESS…</td><td>&quot;324110&quot;</td><td>&quot;SPE60722FC1X4&quot;</td><td>4144.78</td><td>null</td><td>&quot;NONE&quot;</td><td>&quot;A&quot;</td><td>&quot;0&quot;</td><td>2022-02-23 00:00:00</td><td>&quot;DEFENSE LOGIST…</td><td>&quot;DLA ENERGY&quot;</td><td>&quot;DEPT OF DEFENS…</td><td>&quot;DLA ENERGY - D…</td><td>&quot;2X~VW~XS&quot;</td><td>&quot;&quot;</td><td>&quot;NO&quot;</td><td>&quot;NO&quot;</td><td>&quot;NO&quot;</td><td>&quot;NO&quot;</td><td>&quot;NO&quot;</td><td>&quot;NO&quot;</td><td>&quot;NO&quot;</td><td>&quot;NO&quot;</td><td>&quot;NO&quot;</td><td>&quot;NO&quot;</td><td>&quot;NO&quot;</td><td>&quot;NO&quot;</td></tr><tr><td>&quot;YES&quot;</td><td>&quot;NO&quot;</td><td>&quot;NO&quot;</td><td>&quot;2022&quot;</td><td>&quot;9T645&quot;</td><td>&quot;DEFENSE LOGIST…</td><td>&quot;A&quot;</td><td>&quot;NONE&quot;</td><td>2020-07-13 00:00:00</td><td>2023-08-05 00:00:00</td><td>2</td><td>null</td><td>&quot;2022&quot;</td><td>&quot;P&quot;</td><td>null</td><td>&quot;F88AH3GNC5T3&quot;</td><td>&quot;NONE&quot;</td><td>&quot;338803433&quot;</td><td>&quot;UNITED STATES&quot;</td><td>&quot;NO&quot;</td><td>&quot;NO&quot;</td><td>&quot;NO&quot;</td><td>&quot;NO&quot;</td><td>&quot;NO&quot;</td><td>&quot;YES&quot;</td><td>&quot;NO&quot;</td><td>&quot;NO&quot;</td><td>&quot;NO&quot;</td><td>&quot;NO&quot;</td><td>&quot;NO&quot;</td><td>&quot;NO&quot;</td><td>&quot;NO&quot;</td><td>&quot;NO&quot;</td><td>&quot;NO&quot;</td><td>&quot;YES&quot;</td><td>&quot;NO&quot;</td><td>&quot;NO&quot;</td><td>&quot;NO&quot;</td><td>&quot;NO&quot;</td><td>&quot;YES&quot;</td><td>&quot;SMALL BUSINESS…</td><td>&quot;311812&quot;</td><td>&quot;SPE30022F3N66&quot;</td><td>153.0</td><td>null</td><td>&quot;NONE&quot;</td><td>&quot;A&quot;</td><td>&quot;0&quot;</td><td>2022-03-25 00:00:00</td><td>&quot;DEFENSE LOGIST…</td><td>&quot;DLA TROOP SUPP…</td><td>&quot;DEPT OF DEFENS…</td><td>&quot;DLA TROOP SUPP…</td><td>&quot;2X~LJ~MF~VW&quot;</td><td>&quot;&quot;</td><td>&quot;NO&quot;</td><td>&quot;NO&quot;</td><td>&quot;NO&quot;</td><td>&quot;NO&quot;</td><td>&quot;NO&quot;</td><td>&quot;NO&quot;</td><td>&quot;NO&quot;</td><td>&quot;NO&quot;</td><td>&quot;NO&quot;</td><td>&quot;NO&quot;</td><td>&quot;NO&quot;</td><td>&quot;NO&quot;</td></tr><tr><td>&quot;YES&quot;</td><td>&quot;NO&quot;</td><td>&quot;NO&quot;</td><td>&quot;2022&quot;</td><td>&quot;1VZR7&quot;</td><td>&quot;DEFENSE LOGIST…</td><td>&quot;F&quot;</td><td>&quot;NONE&quot;</td><td>2013-11-07 00:00:00</td><td>2014-11-06 00:00:00</td><td>1</td><td>null</td><td>&quot;2022&quot;</td><td>&quot;P&quot;</td><td>null</td><td>&quot;Q5UVH3KMTMD8&quot;</td><td>&quot;SBA&quot;</td><td>&quot;494246407&quot;</td><td>&quot;UNITED STATES&quot;</td><td>&quot;NO&quot;</td><td>&quot;NO&quot;</td><td>&quot;YES&quot;</td><td>&quot;NO&quot;</td><td>&quot;NO&quot;</td><td>&quot;NO&quot;</td><td>&quot;YES&quot;</td><td>&quot;NO&quot;</td><td>&quot;NO&quot;</td><td>&quot;NO&quot;</td><td>&quot;NO&quot;</td><td>&quot;NO&quot;</td><td>&quot;NO&quot;</td><td>&quot;NO&quot;</td><td>&quot;NO&quot;</td><td>&quot;YES&quot;</td><td>&quot;NO&quot;</td><td>&quot;NO&quot;</td><td>&quot;NO&quot;</td><td>&quot;NO&quot;</td><td>&quot;NO&quot;</td><td>&quot;SMALL BUSINESS…</td><td>&quot;334419&quot;</td><td>&quot;SPE4A619F0659&quot;</td><td>-3226.79</td><td>null</td><td>&quot;NONE&quot;</td><td>&quot;F&quot;</td><td>&quot;P00001&quot;</td><td>2022-03-02 00:00:00</td><td>&quot;DEFENSE LOGIST…</td><td>&quot;DLA AVIATION&quot;</td><td>&quot;DEPT OF DEFENS…</td><td>&quot;DLA AVIATION -…</td><td>&quot;2X~A2~MF~VW&quot;</td><td>&quot;&quot;</td><td>&quot;NO&quot;</td><td>&quot;NO&quot;</td><td>&quot;NO&quot;</td><td>&quot;NO&quot;</td><td>&quot;NO&quot;</td><td>&quot;NO&quot;</td><td>&quot;NO&quot;</td><td>&quot;NO&quot;</td><td>&quot;NO&quot;</td><td>&quot;NO&quot;</td><td>&quot;NO&quot;</td><td>&quot;NO&quot;</td></tr><tr><td>&quot;YES&quot;</td><td>&quot;NO&quot;</td><td>&quot;NO&quot;</td><td>&quot;2022&quot;</td><td>&quot;5CFE9&quot;</td><td>null</td><td>null</td><td>null</td><td>null</td><td>null</td><td>null</td><td>null</td><td>&quot;2022&quot;</td><td>&quot;S&quot;</td><td>null</td><td>&quot;DLZVGV3MGF31&quot;</td><td>&quot;NONE&quot;</td><td>&quot;209014846&quot;</td><td>&quot;UNITED STATES&quot;</td><td>&quot;NO&quot;</td><td>&quot;NO&quot;</td><td>&quot;NO&quot;</td><td>&quot;NO&quot;</td><td>&quot;NO&quot;</td><td>&quot;NO&quot;</td><td>&quot;NO&quot;</td><td>&quot;YES&quot;</td><td>&quot;NO&quot;</td><td>&quot;NO&quot;</td><td>&quot;NO&quot;</td><td>&quot;NO&quot;</td><td>&quot;NO&quot;</td><td>&quot;NO&quot;</td><td>&quot;NO&quot;</td><td>&quot;NO&quot;</td><td>&quot;NO&quot;</td><td>&quot;NO&quot;</td><td>&quot;NO&quot;</td><td>&quot;NO&quot;</td><td>&quot;NO&quot;</td><td>&quot;SMALL BUSINESS…</td><td>&quot;711510&quot;</td><td>&quot;95170020P0012&quot;</td><td>-12250.0</td><td>1</td><td>&quot;NONE&quot;</td><td>&quot;G&quot;</td><td>&quot;P00004&quot;</td><td>2022-09-19 00:00:00</td><td>&quot;UNITED STATES …</td><td>&quot;VOA NEWS CENTE…</td><td>&quot;UNITED STATES …</td><td>&quot;VOA NEWS CENTE…</td><td>&quot;2X&quot;</td><td>&quot;&quot;</td><td>&quot;NO&quot;</td><td>&quot;NO&quot;</td><td>&quot;NO&quot;</td><td>&quot;NO&quot;</td><td>&quot;NO&quot;</td><td>&quot;NO&quot;</td><td>&quot;NO&quot;</td><td>&quot;NO&quot;</td><td>&quot;NO&quot;</td><td>&quot;NO&quot;</td><td>&quot;NO&quot;</td><td>&quot;NO&quot;</td></tr><tr><td>&quot;YES&quot;</td><td>&quot;NO&quot;</td><td>&quot;YES&quot;</td><td>&quot;2022&quot;</td><td>&quot;7M0A2&quot;</td><td>null</td><td>null</td><td>null</td><td>null</td><td>null</td><td>null</td><td>null</td><td>&quot;2022&quot;</td><td>&quot;S&quot;</td><td>null</td><td>&quot;R4S8VME25J37&quot;</td><td>&quot;SBA&quot;</td><td>&quot;281179400&quot;</td><td>&quot;UNITED STATES&quot;</td><td>&quot;NO&quot;</td><td>&quot;NO&quot;</td><td>&quot;NO&quot;</td><td>&quot;NO&quot;</td><td>&quot;NO&quot;</td><td>&quot;YES&quot;</td><td>&quot;NO&quot;</td><td>&quot;NO&quot;</td><td>&quot;NO&quot;</td><td>&quot;NO&quot;</td><td>&quot;NO&quot;</td><td>&quot;NO&quot;</td><td>&quot;NO&quot;</td><td>&quot;NO&quot;</td><td>&quot;NO&quot;</td><td>&quot;NO&quot;</td><td>&quot;NO&quot;</td><td>&quot;NO&quot;</td><td>&quot;NO&quot;</td><td>&quot;NO&quot;</td><td>&quot;YES&quot;</td><td>&quot;SMALL BUSINESS…</td><td>&quot;336611&quot;</td><td>&quot;70Z08022PMECP0…</td><td>138653.0</td><td>4</td><td>&quot;NONE&quot;</td><td>&quot;F&quot;</td><td>&quot;0&quot;</td><td>2022-02-02 00:00:00</td><td>&quot;U.S. COAST GUA…</td><td>&quot;USCG FINANCE C…</td><td>&quot;HOMELAND SECUR…</td><td>&quot;USCG FINANCE C…</td><td>&quot;27~2X~A5~LJ~QF…</td><td>&quot;&quot;</td><td>&quot;NO&quot;</td><td>&quot;NO&quot;</td><td>&quot;NO&quot;</td><td>&quot;YES&quot;</td><td>&quot;NO&quot;</td><td>&quot;NO&quot;</td><td>&quot;NO&quot;</td><td>&quot;YES&quot;</td><td>&quot;NO&quot;</td><td>&quot;YES&quot;</td><td>&quot;YES&quot;</td><td>&quot;NO&quot;</td></tr><tr><td>&quot;YES&quot;</td><td>&quot;NO&quot;</td><td>&quot;NO&quot;</td><td>&quot;2022&quot;</td><td>&quot;8JF28&quot;</td><td>null</td><td>null</td><td>null</td><td>null</td><td>null</td><td>null</td><td>null</td><td>&quot;2022&quot;</td><td>&quot;S&quot;</td><td>null</td><td>&quot;C533SZKRAMH1&quot;</td><td>&quot;8AN&quot;</td><td>&quot;208522952&quot;</td><td>&quot;UNITED STATES&quot;</td><td>&quot;NO&quot;</td><td>&quot;NO&quot;</td><td>&quot;NO&quot;</td><td>&quot;YES&quot;</td><td>&quot;NO&quot;</td><td>&quot;YES&quot;</td><td>&quot;NO&quot;</td><td>&quot;NO&quot;</td><td>&quot;NO&quot;</td><td>&quot;NO&quot;</td><td>&quot;NO&quot;</td><td>&quot;NO&quot;</td><td>&quot;NO&quot;</td><td>&quot;NO&quot;</td><td>&quot;NO&quot;</td><td>&quot;NO&quot;</td><td>&quot;NO&quot;</td><td>&quot;NO&quot;</td><td>&quot;NO&quot;</td><td>&quot;NO&quot;</td><td>&quot;NO&quot;</td><td>&quot;SMALL BUSINESS…</td><td>&quot;541511&quot;</td><td>&quot;80GSFC20C0125&quot;</td><td>0.0</td><td>1</td><td>&quot;NONE&quot;</td><td>&quot;B&quot;</td><td>&quot;P00013&quot;</td><td>2021-11-09 00:00:00</td><td>&quot;NATIONAL AERON…</td><td>&quot;NASA GODDARD S…</td><td>&quot;NATIONAL AERON…</td><td>&quot;NASA GODDARD S…</td><td>&quot;23~2X~A5~OY&quot;</td><td>&quot;JT20220818&quot;</td><td>&quot;YES&quot;</td><td>&quot;NO&quot;</td><td>&quot;NO&quot;</td><td>&quot;NO&quot;</td><td>&quot;NO&quot;</td><td>&quot;NO&quot;</td><td>&quot;NO&quot;</td><td>&quot;NO&quot;</td><td>&quot;NO&quot;</td><td>&quot;YES&quot;</td><td>&quot;NO&quot;</td><td>&quot;NO&quot;</td></tr><tr><td>&hellip;</td><td>&hellip;</td><td>&hellip;</td><td>&hellip;</td><td>&hellip;</td><td>&hellip;</td><td>&hellip;</td><td>&hellip;</td><td>&hellip;</td><td>&hellip;</td><td>&hellip;</td><td>&hellip;</td><td>&hellip;</td><td>&hellip;</td><td>&hellip;</td><td>&hellip;</td><td>&hellip;</td><td>&hellip;</td><td>&hellip;</td><td>&hellip;</td><td>&hellip;</td><td>&hellip;</td><td>&hellip;</td><td>&hellip;</td><td>&hellip;</td><td>&hellip;</td><td>&hellip;</td><td>&hellip;</td><td>&hellip;</td><td>&hellip;</td><td>&hellip;</td><td>&hellip;</td><td>&hellip;</td><td>&hellip;</td><td>&hellip;</td><td>&hellip;</td><td>&hellip;</td><td>&hellip;</td><td>&hellip;</td><td>&hellip;</td><td>&hellip;</td><td>&hellip;</td><td>&hellip;</td><td>&hellip;</td><td>&hellip;</td><td>&hellip;</td><td>&hellip;</td><td>&hellip;</td><td>&hellip;</td><td>&hellip;</td><td>&hellip;</td><td>&hellip;</td><td>&hellip;</td><td>&hellip;</td><td>&hellip;</td><td>&hellip;</td><td>&hellip;</td><td>&hellip;</td><td>&hellip;</td><td>&hellip;</td><td>&hellip;</td><td>&hellip;</td><td>&hellip;</td><td>&hellip;</td><td>&hellip;</td><td>&hellip;</td><td>&hellip;</td></tr><tr><td>&quot;YES&quot;</td><td>&quot;NO&quot;</td><td>&quot;NO&quot;</td><td>&quot;2023&quot;</td><td>&quot;62WS2&quot;</td><td>null</td><td>null</td><td>null</td><td>null</td><td>null</td><td>null</td><td>null</td><td>&quot;2023&quot;</td><td>&quot;P&quot;</td><td>null</td><td>&quot;D6J2UML3MAC4&quot;</td><td>&quot;NONE&quot;</td><td>&quot;481899064&quot;</td><td>&quot;UNITED STATES&quot;</td><td>&quot;NO&quot;</td><td>&quot;NO&quot;</td><td>&quot;NO&quot;</td><td>&quot;NO&quot;</td><td>&quot;NO&quot;</td><td>&quot;YES&quot;</td><td>&quot;NO&quot;</td><td>&quot;NO&quot;</td><td>&quot;NO&quot;</td><td>&quot;NO&quot;</td><td>&quot;NO&quot;</td><td>&quot;NO&quot;</td><td>&quot;NO&quot;</td><td>&quot;NO&quot;</td><td>&quot;NO&quot;</td><td>&quot;YES&quot;</td><td>&quot;NO&quot;</td><td>&quot;NO&quot;</td><td>&quot;NO&quot;</td><td>&quot;NO&quot;</td><td>&quot;NO&quot;</td><td>&quot;SMALL BUSINESS…</td><td>&quot;332119&quot;</td><td>&quot;SPE4A722PE662&quot;</td><td>-7580.82</td><td>8</td><td>&quot;NONE&quot;</td><td>&quot;F&quot;</td><td>&quot;P00001&quot;</td><td>2022-11-03 00:00:00</td><td>&quot;DEFENSE LOGIST…</td><td>&quot;DLA AVIATION&quot;</td><td>&quot;DEPT OF DEFENS…</td><td>&quot;DLA AVIATION -…</td><td>&quot;2X~MF~VW~XS&quot;</td><td>&quot;&quot;</td><td>&quot;NO&quot;</td><td>&quot;NO&quot;</td><td>&quot;NO&quot;</td><td>&quot;NO&quot;</td><td>&quot;NO&quot;</td><td>&quot;NO&quot;</td><td>&quot;NO&quot;</td><td>&quot;NO&quot;</td><td>&quot;NO&quot;</td><td>&quot;NO&quot;</td><td>&quot;NO&quot;</td><td>&quot;NO&quot;</td></tr><tr><td>&quot;YES&quot;</td><td>&quot;NO&quot;</td><td>&quot;NO&quot;</td><td>&quot;2023&quot;</td><td>&quot;3JEH0&quot;</td><td>null</td><td>null</td><td>null</td><td>null</td><td>null</td><td>null</td><td>null</td><td>&quot;2023&quot;</td><td>&quot;S&quot;</td><td>null</td><td>&quot;KA5HQCLKUVW1&quot;</td><td>&quot;NONE&quot;</td><td>&quot;204050001&quot;</td><td>&quot;UNITED STATES&quot;</td><td>&quot;NO&quot;</td><td>&quot;NO&quot;</td><td>&quot;NO&quot;</td><td>&quot;NO&quot;</td><td>&quot;NO&quot;</td><td>&quot;NO&quot;</td><td>&quot;NO&quot;</td><td>&quot;NO&quot;</td><td>&quot;NO&quot;</td><td>&quot;NO&quot;</td><td>&quot;NO&quot;</td><td>&quot;NO&quot;</td><td>&quot;NO&quot;</td><td>&quot;NO&quot;</td><td>&quot;NO&quot;</td><td>&quot;NO&quot;</td><td>&quot;NO&quot;</td><td>&quot;NO&quot;</td><td>&quot;NO&quot;</td><td>&quot;NO&quot;</td><td>&quot;NO&quot;</td><td>&quot;OTHER THAN SMA…</td><td>&quot;561612&quot;</td><td>&quot;15M10223PA4700…</td><td>57720.0</td><td>1</td><td>&quot;NONE&quot;</td><td>&quot;F&quot;</td><td>&quot;0&quot;</td><td>2022-10-24 00:00:00</td><td>&quot;U.S. MARSHALS …</td><td>&quot;U.S. DEPT OF J…</td><td>&quot;JUSTICE, DEPAR…</td><td>&quot;U.S. DEPT OF J…</td><td>&quot;2X&quot;</td><td>&quot;&quot;</td><td>&quot;NO&quot;</td><td>&quot;NO&quot;</td><td>&quot;NO&quot;</td><td>&quot;NO&quot;</td><td>&quot;NO&quot;</td><td>&quot;NO&quot;</td><td>&quot;NO&quot;</td><td>&quot;NO&quot;</td><td>&quot;NO&quot;</td><td>&quot;NO&quot;</td><td>&quot;NO&quot;</td><td>&quot;NO&quot;</td></tr><tr><td>&quot;YES&quot;</td><td>&quot;NO&quot;</td><td>&quot;NO&quot;</td><td>&quot;2023&quot;</td><td>&quot;3BUS5&quot;</td><td>null</td><td>null</td><td>null</td><td>null</td><td>null</td><td>null</td><td>null</td><td>&quot;2023&quot;</td><td>&quot;P&quot;</td><td>null</td><td>&quot;HL5PZFB7KHV4&quot;</td><td>&quot;NONE&quot;</td><td>&quot;750622740&quot;</td><td>&quot;UNITED STATES&quot;</td><td>&quot;NO&quot;</td><td>&quot;NO&quot;</td><td>&quot;NO&quot;</td><td>&quot;NO&quot;</td><td>&quot;NO&quot;</td><td>&quot;YES&quot;</td><td>&quot;NO&quot;</td><td>&quot;NO&quot;</td><td>&quot;NO&quot;</td><td>&quot;NO&quot;</td><td>&quot;NO&quot;</td><td>&quot;NO&quot;</td><td>&quot;NO&quot;</td><td>&quot;NO&quot;</td><td>&quot;NO&quot;</td><td>&quot;NO&quot;</td><td>&quot;NO&quot;</td><td>&quot;NO&quot;</td><td>&quot;NO&quot;</td><td>&quot;NO&quot;</td><td>&quot;NO&quot;</td><td>&quot;OTHER THAN SMA…</td><td>&quot;332216&quot;</td><td>&quot;47QSHA23P0581&quot;</td><td>6732.98</td><td>1</td><td>&quot;NONE&quot;</td><td>&quot;G&quot;</td><td>&quot;0&quot;</td><td>2022-12-12 00:00:00</td><td>&quot;FEDERAL ACQUIS…</td><td>&quot;GSA/FAS HEARTL…</td><td>&quot;GENERAL SERVIC…</td><td>&quot;GSA/FAS HEARTL…</td><td>&quot;2X~VW&quot;</td><td>&quot;&quot;</td><td>&quot;NO&quot;</td><td>&quot;NO&quot;</td><td>&quot;NO&quot;</td><td>&quot;NO&quot;</td><td>&quot;NO&quot;</td><td>&quot;NO&quot;</td><td>&quot;NO&quot;</td><td>&quot;NO&quot;</td><td>&quot;NO&quot;</td><td>&quot;NO&quot;</td><td>&quot;NO&quot;</td><td>&quot;NO&quot;</td></tr><tr><td>&quot;YES&quot;</td><td>&quot;NO&quot;</td><td>&quot;NO&quot;</td><td>&quot;2023&quot;</td><td>&quot;1H2F2&quot;</td><td>null</td><td>null</td><td>null</td><td>null</td><td>null</td><td>null</td><td>null</td><td>&quot;2023&quot;</td><td>&quot;S&quot;</td><td>null</td><td>&quot;L1WZRB6JKWJ4&quot;</td><td>&quot;NONE&quot;</td><td>&quot;968133916&quot;</td><td>&quot;UNITED STATES&quot;</td><td>&quot;NO&quot;</td><td>&quot;NO&quot;</td><td>&quot;NO&quot;</td><td>&quot;NO&quot;</td><td>&quot;NO&quot;</td><td>&quot;NO&quot;</td><td>&quot;YES&quot;</td><td>&quot;NO&quot;</td><td>&quot;NO&quot;</td><td>&quot;NO&quot;</td><td>&quot;NO&quot;</td><td>&quot;NO&quot;</td><td>&quot;NO&quot;</td><td>&quot;NO&quot;</td><td>&quot;NO&quot;</td><td>&quot;NO&quot;</td><td>&quot;NO&quot;</td><td>&quot;NO&quot;</td><td>&quot;NO&quot;</td><td>&quot;NO&quot;</td><td>&quot;YES&quot;</td><td>&quot;SMALL BUSINESS…</td><td>&quot;541715&quot;</td><td>&quot;N0001421C1122&quot;</td><td>0.0</td><td>999</td><td>&quot;NONE&quot;</td><td>&quot;A&quot;</td><td>&quot;ARZ998&quot;</td><td>2022-11-08 00:00:00</td><td>&quot;DEPT OF THE NA…</td><td>&quot;OFFICE OF NAVA…</td><td>&quot;DEPT OF DEFENS…</td><td>&quot;OFFICE OF NAVA…</td><td>&quot;23~2X~FR~LJ&quot;</td><td>&quot;&quot;</td><td>&quot;YES&quot;</td><td>&quot;NO&quot;</td><td>&quot;NO&quot;</td><td>&quot;NO&quot;</td><td>&quot;NO&quot;</td><td>&quot;NO&quot;</td><td>&quot;NO&quot;</td><td>&quot;NO&quot;</td><td>&quot;NO&quot;</td><td>&quot;NO&quot;</td><td>&quot;NO&quot;</td><td>&quot;NO&quot;</td></tr><tr><td>&quot;YES&quot;</td><td>&quot;NO&quot;</td><td>&quot;NO&quot;</td><td>&quot;2023&quot;</td><td>&quot;35KC0&quot;</td><td>null</td><td>null</td><td>null</td><td>null</td><td>null</td><td>null</td><td>null</td><td>&quot;2023&quot;</td><td>&quot;S&quot;</td><td>null</td><td>&quot;LN9PU5M2YZN5&quot;</td><td>&quot;NONE&quot;</td><td>&quot;204050001&quot;</td><td>&quot;UNITED STATES&quot;</td><td>&quot;NO&quot;</td><td>&quot;NO&quot;</td><td>&quot;NO&quot;</td><td>&quot;NO&quot;</td><td>&quot;NO&quot;</td><td>&quot;NO&quot;</td><td>&quot;NO&quot;</td><td>&quot;NO&quot;</td><td>&quot;NO&quot;</td><td>&quot;NO&quot;</td><td>&quot;NO&quot;</td><td>&quot;NO&quot;</td><td>&quot;NO&quot;</td><td>&quot;NO&quot;</td><td>&quot;NO&quot;</td><td>&quot;NO&quot;</td><td>&quot;NO&quot;</td><td>&quot;NO&quot;</td><td>&quot;NO&quot;</td><td>&quot;NO&quot;</td><td>&quot;NO&quot;</td><td>&quot;OTHER THAN SMA…</td><td>&quot;721110&quot;</td><td>&quot;19KS7022P0613&quot;</td><td>-1045.45</td><td>1</td><td>&quot;NONE&quot;</td><td>&quot;G&quot;</td><td>&quot;P00002&quot;</td><td>2022-10-17 00:00:00</td><td>&quot;OFFICE OF THE …</td><td>&quot;OFFICE INSPECT…</td><td>&quot;HOMELAND SECUR…</td><td>&quot;OFFICE INSPECT…</td><td>&quot;2X&quot;</td><td>&quot;&quot;</td><td>&quot;NO&quot;</td><td>&quot;NO&quot;</td><td>&quot;NO&quot;</td><td>&quot;NO&quot;</td><td>&quot;NO&quot;</td><td>&quot;NO&quot;</td><td>&quot;NO&quot;</td><td>&quot;NO&quot;</td><td>&quot;NO&quot;</td><td>&quot;NO&quot;</td><td>&quot;NO&quot;</td><td>&quot;NO&quot;</td></tr><tr><td>&quot;YES&quot;</td><td>&quot;NO&quot;</td><td>&quot;YES&quot;</td><td>&quot;2023&quot;</td><td>&quot;6BW96&quot;</td><td>null</td><td>null</td><td>null</td><td>null</td><td>null</td><td>null</td><td>null</td><td>&quot;2023&quot;</td><td>&quot;P&quot;</td><td>null</td><td>&quot;H2CBG8BBYPL3&quot;</td><td>&quot;NONE&quot;</td><td>&quot;327508401&quot;</td><td>&quot;UNITED STATES&quot;</td><td>&quot;NO&quot;</td><td>&quot;NO&quot;</td><td>&quot;YES&quot;</td><td>&quot;NO&quot;</td><td>&quot;NO&quot;</td><td>&quot;NO&quot;</td><td>&quot;NO&quot;</td><td>&quot;YES&quot;</td><td>&quot;NO&quot;</td><td>&quot;NO&quot;</td><td>&quot;NO&quot;</td><td>&quot;NO&quot;</td><td>&quot;NO&quot;</td><td>&quot;NO&quot;</td><td>&quot;NO&quot;</td><td>&quot;NO&quot;</td><td>&quot;NO&quot;</td><td>&quot;NO&quot;</td><td>&quot;NO&quot;</td><td>&quot;NO&quot;</td><td>&quot;YES&quot;</td><td>&quot;SMALL BUSINESS…</td><td>&quot;332510&quot;</td><td>&quot;SPE4A623V5098&quot;</td><td>470.0</td><td>2</td><td>&quot;NONE&quot;</td><td>&quot;F&quot;</td><td>&quot;0&quot;</td><td>2022-12-09 00:00:00</td><td>&quot;DEFENSE LOGIST…</td><td>&quot;DLA AVIATION&quot;</td><td>&quot;DEPT OF DEFENS…</td><td>&quot;DLA AVIATION -…</td><td>&quot;23~27~2X~LJ~PI…</td><td>&quot;&quot;</td><td>&quot;YES&quot;</td><td>&quot;NO&quot;</td><td>&quot;NO&quot;</td><td>&quot;YES&quot;</td><td>&quot;NO&quot;</td><td>&quot;NO&quot;</td><td>&quot;NO&quot;</td><td>&quot;YES&quot;</td><td>&quot;NO&quot;</td><td>&quot;NO&quot;</td><td>&quot;NO&quot;</td><td>&quot;NO&quot;</td></tr><tr><td>&quot;NO&quot;</td><td>&quot;NO&quot;</td><td>&quot;NO&quot;</td><td>&quot;2023&quot;</td><td>&quot;3WGG5&quot;</td><td>null</td><td>null</td><td>null</td><td>null</td><td>null</td><td>null</td><td>null</td><td>&quot;2023&quot;</td><td>&quot;S&quot;</td><td>null</td><td>&quot;XXANKL4KRBA5&quot;</td><td>&quot;NONE&quot;</td><td>&quot;347692024&quot;</td><td>&quot;UNITED STATES&quot;</td><td>&quot;NO&quot;</td><td>&quot;NO&quot;</td><td>&quot;NO&quot;</td><td>&quot;NO&quot;</td><td>&quot;NO&quot;</td><td>&quot;NO&quot;</td><td>&quot;NO&quot;</td><td>&quot;NO&quot;</td><td>&quot;NO&quot;</td><td>&quot;NO&quot;</td><td>&quot;NO&quot;</td><td>&quot;NO&quot;</td><td>&quot;NO&quot;</td><td>&quot;NO&quot;</td><td>&quot;NO&quot;</td><td>&quot;NO&quot;</td><td>&quot;NO&quot;</td><td>&quot;NO&quot;</td><td>&quot;NO&quot;</td><td>&quot;NO&quot;</td><td>&quot;NO&quot;</td><td>&quot;OTHER THAN SMA…</td><td>&quot;621420&quot;</td><td>&quot;15BCTS21P00000…</td><td>110.0</td><td>1</td><td>&quot;NONE&quot;</td><td>&quot;F&quot;</td><td>&quot;P00006&quot;</td><td>2022-10-21 00:00:00</td><td>&quot;FEDERAL PRISON…</td><td>&quot;COMMUNITY TREA…</td><td>&quot;JUSTICE, DEPAR…</td><td>&quot;COMMUNITY TREA…</td><td>&quot;A8&quot;</td><td>&quot;&quot;</td><td>&quot;NO&quot;</td><td>&quot;NO&quot;</td><td>&quot;NO&quot;</td><td>&quot;NO&quot;</td><td>&quot;NO&quot;</td><td>&quot;NO&quot;</td><td>&quot;NO&quot;</td><td>&quot;NO&quot;</td><td>&quot;NO&quot;</td><td>&quot;NO&quot;</td><td>&quot;NO&quot;</td><td>&quot;NO&quot;</td></tr><tr><td>&quot;YES&quot;</td><td>&quot;NO&quot;</td><td>&quot;NO&quot;</td><td>&quot;2023&quot;</td><td>&quot;0FZB4&quot;</td><td>null</td><td>null</td><td>null</td><td>null</td><td>null</td><td>null</td><td>null</td><td>&quot;2023&quot;</td><td>&quot;S&quot;</td><td>null</td><td>&quot;JNXSY4EWJK71&quot;</td><td>&quot;NONE&quot;</td><td>&quot;200014089&quot;</td><td>&quot;UNITED STATES&quot;</td><td>&quot;NO&quot;</td><td>&quot;NO&quot;</td><td>&quot;NO&quot;</td><td>&quot;NO&quot;</td><td>&quot;NO&quot;</td><td>&quot;YES&quot;</td><td>&quot;NO&quot;</td><td>&quot;NO&quot;</td><td>&quot;NO&quot;</td><td>&quot;NO&quot;</td><td>&quot;NO&quot;</td><td>&quot;NO&quot;</td><td>&quot;NO&quot;</td><td>&quot;NO&quot;</td><td>&quot;NO&quot;</td><td>&quot;NO&quot;</td><td>&quot;NO&quot;</td><td>&quot;NO&quot;</td><td>&quot;NO&quot;</td><td>&quot;NO&quot;</td><td>&quot;NO&quot;</td><td>&quot;OTHER THAN SMA…</td><td>&quot;484122&quot;</td><td>&quot;15UMRN23P00000…</td><td>49582.22</td><td>1</td><td>&quot;NONE&quot;</td><td>&quot;F&quot;</td><td>&quot;0&quot;</td><td>2022-10-13 00:00:00</td><td>&quot;FEDERAL PRISON…</td><td>&quot;FEDERAL PRISON…</td><td>&quot;JUSTICE, DEPAR…</td><td>&quot;FEDERAL PRISON…</td><td>&quot;2X&quot;</td><td>&quot;&quot;</td><td>&quot;NO&quot;</td><td>&quot;NO&quot;</td><td>&quot;NO&quot;</td><td>&quot;NO&quot;</td><td>&quot;NO&quot;</td><td>&quot;NO&quot;</td><td>&quot;NO&quot;</td><td>&quot;NO&quot;</td><td>&quot;NO&quot;</td><td>&quot;NO&quot;</td><td>&quot;NO&quot;</td><td>&quot;NO&quot;</td></tr><tr><td>&quot;YES&quot;</td><td>&quot;NO&quot;</td><td>&quot;NO&quot;</td><td>&quot;2023&quot;</td><td>&quot;5D441&quot;</td><td>null</td><td>null</td><td>null</td><td>null</td><td>null</td><td>null</td><td>null</td><td>&quot;2023&quot;</td><td>&quot;P&quot;</td><td>null</td><td>&quot;LC55NELHATZ9&quot;</td><td>&quot;SBA&quot;</td><td>&quot;693611791&quot;</td><td>&quot;UNITED STATES&quot;</td><td>&quot;NO&quot;</td><td>&quot;NO&quot;</td><td>&quot;NO&quot;</td><td>&quot;NO&quot;</td><td>&quot;NO&quot;</td><td>&quot;YES&quot;</td><td>&quot;NO&quot;</td><td>&quot;NO&quot;</td><td>&quot;NO&quot;</td><td>&quot;NO&quot;</td><td>&quot;NO&quot;</td><td>&quot;NO&quot;</td><td>&quot;NO&quot;</td><td>&quot;NO&quot;</td><td>&quot;NO&quot;</td><td>&quot;NO&quot;</td><td>&quot;NO&quot;</td><td>&quot;NO&quot;</td><td>&quot;NO&quot;</td><td>&quot;NO&quot;</td><td>&quot;NO&quot;</td><td>&quot;SMALL BUSINESS…</td><td>&quot;311999&quot;</td><td>&quot;123J1422C0879&quot;</td><td>0.0</td><td>9</td><td>&quot;NONE&quot;</td><td>&quot;D&quot;</td><td>&quot;P00010&quot;</td><td>2022-11-30 00:00:00</td><td>&quot;AGRICULTURAL M…</td><td>&quot;USDA  AMS  3J1…</td><td>&quot;AGRICULTURE, D…</td><td>&quot;USDA  AMS  3J1…</td><td>&quot;2X&quot;</td><td>&quot;&quot;</td><td>&quot;NO&quot;</td><td>&quot;NO&quot;</td><td>&quot;NO&quot;</td><td>&quot;NO&quot;</td><td>&quot;NO&quot;</td><td>&quot;NO&quot;</td><td>&quot;NO&quot;</td><td>&quot;NO&quot;</td><td>&quot;NO&quot;</td><td>&quot;NO&quot;</td><td>&quot;NO&quot;</td><td>&quot;NO&quot;</td></tr><tr><td>&quot;YES&quot;</td><td>&quot;NO&quot;</td><td>&quot;NO&quot;</td><td>&quot;2023&quot;</td><td>&quot;2V484&quot;</td><td>null</td><td>null</td><td>null</td><td>null</td><td>null</td><td>null</td><td>null</td><td>&quot;2023&quot;</td><td>&quot;P&quot;</td><td>null</td><td>&quot;L6Q3WZQJCKK1&quot;</td><td>&quot;NONE&quot;</td><td>&quot;633682224&quot;</td><td>&quot;UNITED STATES&quot;</td><td>&quot;NO&quot;</td><td>&quot;NO&quot;</td><td>&quot;NO&quot;</td><td>&quot;NO&quot;</td><td>&quot;NO&quot;</td><td>&quot;YES&quot;</td><td>&quot;NO&quot;</td><td>&quot;NO&quot;</td><td>&quot;NO&quot;</td><td>&quot;NO&quot;</td><td>&quot;NO&quot;</td><td>&quot;NO&quot;</td><td>&quot;NO&quot;</td><td>&quot;NO&quot;</td><td>&quot;NO&quot;</td><td>&quot;NO&quot;</td><td>&quot;NO&quot;</td><td>&quot;NO&quot;</td><td>&quot;NO&quot;</td><td>&quot;NO&quot;</td><td>&quot;NO&quot;</td><td>&quot;OTHER THAN SMA…</td><td>&quot;332112&quot;</td><td>&quot;SPE4A623V4033&quot;</td><td>1043.0</td><td>2</td><td>&quot;NONE&quot;</td><td>&quot;F&quot;</td><td>&quot;0&quot;</td><td>2022-11-25 00:00:00</td><td>&quot;DEFENSE LOGIST…</td><td>&quot;DLA AVIATION&quot;</td><td>&quot;DEPT OF DEFENS…</td><td>&quot;DLA AVIATION -…</td><td>&quot;2X&quot;</td><td>&quot;&quot;</td><td>&quot;NO&quot;</td><td>&quot;NO&quot;</td><td>&quot;NO&quot;</td><td>&quot;NO&quot;</td><td>&quot;NO&quot;</td><td>&quot;NO&quot;</td><td>&quot;NO&quot;</td><td>&quot;NO&quot;</td><td>&quot;NO&quot;</td><td>&quot;NO&quot;</td><td>&quot;NO&quot;</td><td>&quot;NO&quot;</td></tr></tbody></table></div>"
      ],
      "text/plain": [
       "shape: (30, 67)\n",
       "┌────────────┬────────────┬─────┬────────────┬───┬────────────┬───────────┬────────────┬───────────┐\n",
       "│ FOR_PROFIT ┆ DOT_CERTIF ┆ SDB ┆ FISCAL_YEA ┆ … ┆ CERT_EDWOS ┆ SELF_VOSB ┆ SELF_SDVOS ┆ SELF_SDVO │\n",
       "│ _ORGANIZAT ┆ IED_DISADV ┆ --- ┆ R          ┆   ┆ B          ┆ ---       ┆ B          ┆ SBJV      │\n",
       "│ ION        ┆ _BUS       ┆ str ┆ ---        ┆   ┆ ---        ┆ str       ┆ ---        ┆ ---       │\n",
       "│ ---        ┆ ---        ┆     ┆ str        ┆   ┆ str        ┆           ┆ str        ┆ str       │\n",
       "│ str        ┆ str        ┆     ┆            ┆   ┆            ┆           ┆            ┆           │\n",
       "╞════════════╪════════════╪═════╪════════════╪═══╪════════════╪═══════════╪════════════╪═══════════╡\n",
       "│ YES        ┆ NO         ┆ NO  ┆ 2022       ┆ … ┆ NO         ┆ NO        ┆ NO         ┆ NO        │\n",
       "│ YES        ┆ NO         ┆ NO  ┆ 2022       ┆ … ┆ NO         ┆ NO        ┆ NO         ┆ NO        │\n",
       "│ YES        ┆ NO         ┆ NO  ┆ 2022       ┆ … ┆ NO         ┆ NO        ┆ NO         ┆ NO        │\n",
       "│ YES        ┆ NO         ┆ NO  ┆ 2022       ┆ … ┆ NO         ┆ NO        ┆ NO         ┆ NO        │\n",
       "│ YES        ┆ NO         ┆ NO  ┆ 2022       ┆ … ┆ NO         ┆ NO        ┆ NO         ┆ NO        │\n",
       "│ YES        ┆ NO         ┆ NO  ┆ 2022       ┆ … ┆ NO         ┆ NO        ┆ NO         ┆ NO        │\n",
       "│ YES        ┆ NO         ┆ NO  ┆ 2022       ┆ … ┆ NO         ┆ NO        ┆ NO         ┆ NO        │\n",
       "│ YES        ┆ NO         ┆ NO  ┆ 2022       ┆ … ┆ NO         ┆ NO        ┆ NO         ┆ NO        │\n",
       "│ YES        ┆ NO         ┆ YES ┆ 2022       ┆ … ┆ NO         ┆ YES       ┆ YES        ┆ NO        │\n",
       "│ YES        ┆ NO         ┆ NO  ┆ 2022       ┆ … ┆ NO         ┆ YES       ┆ NO         ┆ NO        │\n",
       "│ …          ┆ …          ┆ …   ┆ …          ┆ … ┆ …          ┆ …         ┆ …          ┆ …         │\n",
       "│ YES        ┆ NO         ┆ NO  ┆ 2023       ┆ … ┆ NO         ┆ NO        ┆ NO         ┆ NO        │\n",
       "│ YES        ┆ NO         ┆ NO  ┆ 2023       ┆ … ┆ NO         ┆ NO        ┆ NO         ┆ NO        │\n",
       "│ YES        ┆ NO         ┆ NO  ┆ 2023       ┆ … ┆ NO         ┆ NO        ┆ NO         ┆ NO        │\n",
       "│ YES        ┆ NO         ┆ NO  ┆ 2023       ┆ … ┆ NO         ┆ NO        ┆ NO         ┆ NO        │\n",
       "│ YES        ┆ NO         ┆ NO  ┆ 2023       ┆ … ┆ NO         ┆ NO        ┆ NO         ┆ NO        │\n",
       "│ YES        ┆ NO         ┆ YES ┆ 2023       ┆ … ┆ NO         ┆ NO        ┆ NO         ┆ NO        │\n",
       "│ NO         ┆ NO         ┆ NO  ┆ 2023       ┆ … ┆ NO         ┆ NO        ┆ NO         ┆ NO        │\n",
       "│ YES        ┆ NO         ┆ NO  ┆ 2023       ┆ … ┆ NO         ┆ NO        ┆ NO         ┆ NO        │\n",
       "│ YES        ┆ NO         ┆ NO  ┆ 2023       ┆ … ┆ NO         ┆ NO        ┆ NO         ┆ NO        │\n",
       "│ YES        ┆ NO         ┆ NO  ┆ 2023       ┆ … ┆ NO         ┆ NO        ┆ NO         ┆ NO        │\n",
       "└────────────┴────────────┴─────┴────────────┴───┴────────────┴───────────┴────────────┴───────────┘"
      ]
     },
     "execution_count": 79,
     "metadata": {},
     "output_type": "execute_result"
    }
   ],
   "source": [
    "PSAM.tail(30)"
   ]
  },
  {
   "cell_type": "markdown",
   "id": "45661a72-e532-494f-b8b5-2e31d47b4aaf",
   "metadata": {},
   "source": [
    "***SUCCESS!!!***"
   ]
  }
 ],
 "metadata": {
  "kernelspec": {
   "display_name": "Python 3 (ipykernel)",
   "language": "python",
   "name": "python3"
  },
  "language_info": {
   "codemirror_mode": {
    "name": "ipython",
    "version": 3
   },
   "file_extension": ".py",
   "mimetype": "text/x-python",
   "name": "python",
   "nbconvert_exporter": "python",
   "pygments_lexer": "ipython3",
   "version": "3.11.4"
  }
 },
 "nbformat": 4,
 "nbformat_minor": 5
}
