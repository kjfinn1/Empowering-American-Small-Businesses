{
 "cells": [
  {
   "cell_type": "code",
   "execution_count": 56,
   "id": "b5f3dc89-396b-417f-91e4-0df406514d48",
   "metadata": {},
   "outputs": [],
   "source": [
    "import pandas as pd\n",
    "import numpy as np\n",
    "import polars as pl"
   ]
  },
  {
   "cell_type": "code",
   "execution_count": 57,
   "id": "ebbea319-4d8b-48ae-9ec5-d10257bdfb5a",
   "metadata": {},
   "outputs": [],
   "source": [
    "cols = ['RESEARCH_AND_DEVELOPMENT',\n",
    " 'TOTAL_ESTIMATED_ORDER_VALUE',\n",
    " 'DOMESTIC_SHELTER',\n",
    " 'TYPE_OF_SET_ASIDE',\n",
    " 'SOLICITATION_ID',\n",
    " 'CONSTRUCTION_FIRM',\n",
    " 'IDV_EVALUATED_PREFERENCE',\n",
    " 'PART8_OR_PART13',\n",
    " 'NUMBER_OF_OFFERS_RECEIVED',\n",
    " 'CO_BUS_SIZE_DETERMINATION',\n",
    " 'CAGE_CODE',\n",
    " 'DATE_SIGNED',\n",
    " 'VETERAN_OWNED_FLAG',\n",
    " 'IDV_CONTRACTING_AGENCY_ID',\n",
    " 'CORP_ENTITY_NOT_TAX_EXEMPT',\n",
    " 'FUNDING_DEPARTMENT_ID',\n",
    " 'FUNDING_OFFICE_NAME',\n",
    " 'SERVICE_PROVIDER',\n",
    " 'PRODUCT_OR_SERVICE_TYPE',\n",
    " 'MODIFICATION_NUMBER',\n",
    " 'PIID',\n",
    " 'FOUNDATION',\n",
    " 'EVALUATED_PREFERENCE',\n",
    " 'SRDVOB_FLAG',\n",
    " 'CORP_ENTITY_TAX_EXEMPT',\n",
    " 'MANUFACTURER_OF_GOODS',\n",
    " 'VENDOR_ADDRESS_COUNTRY_NAME',\n",
    " 'VENDOR_ADDRESS_ZIP_CODE',\n",
    " 'SDB',\n",
    " 'VETERINARY_HOSPITAL',\n",
    " 'COMMUNITY_CORP_OWNED_FIRM',\n",
    " 'DOT_CERTIFIED_DISADV_BUS',\n",
    " 'PRINCIPAL_NAICS_CODE',\n",
    " 'EDUCATIONAL_INSTITUTION_FLAG',\n",
    " 'LIMITED_LIABILITY_CORPORATION',\n",
    " 'EXTENT_COMPETED',\n",
    " 'FEDERALLY_FUNDED_R_AND_D_CORP',\n",
    " 'SOLE_PROPREITORSHIP',\n",
    " 'WOMEN_OWNED_FLAG',\n",
    " 'ARCHITECTURE_AND_ENGINEERING',\n",
    " 'HISPANIC_SERVICING_INSTITUTION',\n",
    " 'VENDOR_UEI',\n",
    " 'IDV_PIID',\n",
    " 'PLACE_OF_MANUFACTURE',\n",
    " 'IDV_EXTENT_COMPETED',\n",
    " 'AWARD_FISCAL_YEAR',\n",
    " 'IDV_SIGNED_DATE',\n",
    " 'FIRM_8A_FLAG',\n",
    " 'SMALL_AGRICULTURAL_COOPERATIVE',\n",
    " 'INTERNATIONAL_ORGANIZATION',\n",
    " 'PARTNERSHIP_OR_LLP',\n",
    " 'DOLLARS_OBLIGATED',\n",
    " 'IDV_NUMBER_OF_OFFERS',\n",
    " 'FOR_PROFIT_ORGANIZATION',\n",
    " 'AWARD_OR_IDV',\n",
    " 'FIRM8A_JOINT_VENTURE',\n",
    " 'CONTRACTING_OFFICE_ID','IDV_CONTRACTING_AGENCY_NAME', 'CONTRACTING_OFFICE_NAME']"
   ]
  },
  {
   "cell_type": "code",
   "execution_count": 58,
   "id": "4b03009b-ec75-4a00-b4b6-316d519a2a76",
   "metadata": {
    "tags": []
   },
   "outputs": [],
   "source": [
    "SAM = pd.read_csv('SAM.csv')"
   ]
  },
  {
   "cell_type": "markdown",
   "id": "080cee3f-4669-47c8-b08a-bc0b996cb684",
   "metadata": {},
   "source": [
    "### 2019"
   ]
  },
  {
   "cell_type": "code",
   "execution_count": 59,
   "id": "d33e7e93-6cf1-4b71-b888-f71774df59d7",
   "metadata": {
    "tags": []
   },
   "outputs": [],
   "source": [
    "test_2019 = pd.read_parquet('2019.parquet', engine='pyarrow',columns=cols)"
   ]
  },
  {
   "cell_type": "code",
   "execution_count": 60,
   "id": "4eb1393d-733d-4190-9395-6b083c331172",
   "metadata": {
    "tags": []
   },
   "outputs": [],
   "source": [
    "test_2019 = test_2019[test_2019['CO_BUS_SIZE_DETERMINATION'] == \"SMALL BUSINESS\"]\n",
    "test_2019 = test_2019[test_2019['VENDOR_ADDRESS_COUNTRY_NAME'] == \"UNITED STATES\"]\n",
    "test_2019 = test_2019[test_2019['EXTENT_COMPETED'].isin([\"A\", \"D\", \"E\", \"CDO\"])]\n",
    "test_2019['FUNDING_DEPARTMENT_ID'] = test_2019['FUNDING_DEPARTMENT_ID'].str.strip()\n",
    "test_2019['IDV_PIID'] = test_2019['IDV_PIID'].str.strip()\n",
    "test_2019['PIID'] = test_2019['PIID'].str.strip()\n",
    "test_2019['DOLLARS_OBLIGATED'] = pd.to_numeric(test_2019['DOLLARS_OBLIGATED'], errors='coerce')\n",
    "m_2019 = pd.merge(test_2019, SAM, on=\"CAGE_CODE\", how=\"inner\")\n",
    "idx = m_2019.groupby(['SOLICITATION_ID','CAGE_CODE'])['DOLLARS_OBLIGATED'].idxmax()\n",
    "m_2019 = m_2019.loc[idx]\n",
    "m_2019 = m_2019[m_2019['DOLLARS_OBLIGATED'] > 0]"
   ]
  },
  {
   "cell_type": "code",
   "execution_count": 61,
   "id": "b7376a2c-bac9-4443-8953-2efa7bebc5cf",
   "metadata": {
    "tags": []
   },
   "outputs": [
    {
     "data": {
      "text/plain": [
       "(35241, 73)"
      ]
     },
     "execution_count": 61,
     "metadata": {},
     "output_type": "execute_result"
    }
   ],
   "source": [
    "m_2019.shape"
   ]
  },
  {
   "cell_type": "markdown",
   "id": "70454497-81d3-49a7-8652-d2ab1d997507",
   "metadata": {},
   "source": [
    "### 2020"
   ]
  },
  {
   "cell_type": "code",
   "execution_count": 62,
   "id": "8c023cef-6868-4a66-92f7-91525c662d1a",
   "metadata": {},
   "outputs": [],
   "source": [
    "test_2020 = pd.read_parquet('2020.parquet', engine='pyarrow',columns=cols)"
   ]
  },
  {
   "cell_type": "code",
   "execution_count": 63,
   "id": "f1a56de9-c682-4e89-801a-66914d5958ae",
   "metadata": {
    "tags": []
   },
   "outputs": [],
   "source": [
    "test_2020 = test_2020[test_2020['CO_BUS_SIZE_DETERMINATION'] == \"SMALL BUSINESS\"]\n",
    "test_2020 = test_2020[test_2020['VENDOR_ADDRESS_COUNTRY_NAME'] == \"UNITED STATES\"]\n",
    "test_2020 = test_2020[test_2020['EXTENT_COMPETED'].isin([\"A\", \"D\", \"E\", \"CDO\"])]\n",
    "test_2020['FUNDING_DEPARTMENT_ID'] = test_2020['FUNDING_DEPARTMENT_ID'].str.strip()\n",
    "test_2020['IDV_PIID'] = test_2020['IDV_PIID'].str.strip()\n",
    "test_2020['PIID'] = test_2020['PIID'].str.strip()\n",
    "test_2020['DOLLARS_OBLIGATED'] = pd.to_numeric(test_2020['DOLLARS_OBLIGATED'], errors='coerce')\n",
    "m_2020 = pd.merge(test_2020, SAM, on=\"CAGE_CODE\", how=\"inner\")\n",
    "idx = m_2020.groupby(['SOLICITATION_ID','CAGE_CODE'])['DOLLARS_OBLIGATED'].idxmax()\n",
    "m_2020 = m_2020.loc[idx]\n",
    "m_2020 = m_2020[m_2020['DOLLARS_OBLIGATED'] > 0]"
   ]
  },
  {
   "cell_type": "code",
   "execution_count": 64,
   "id": "37e5e66f-cb3a-4253-b447-118734095ac1",
   "metadata": {
    "tags": []
   },
   "outputs": [
    {
     "data": {
      "text/plain": [
       "(36674, 73)"
      ]
     },
     "execution_count": 64,
     "metadata": {},
     "output_type": "execute_result"
    }
   ],
   "source": [
    "m_2020.shape"
   ]
  },
  {
   "cell_type": "markdown",
   "id": "dee38102-d747-4d5c-b489-0888afee3dc8",
   "metadata": {},
   "source": [
    "### 2021"
   ]
  },
  {
   "cell_type": "code",
   "execution_count": 65,
   "id": "f64e5517-f82f-4be3-a51b-329566af40bd",
   "metadata": {
    "tags": []
   },
   "outputs": [],
   "source": [
    "test_2021 = pd.read_parquet('2021.parquet', engine='pyarrow',columns=cols)"
   ]
  },
  {
   "cell_type": "code",
   "execution_count": 66,
   "id": "2589967c-9eb4-4f68-997a-c763058183af",
   "metadata": {
    "tags": []
   },
   "outputs": [],
   "source": [
    "test_2021 = test_2021[test_2021['CO_BUS_SIZE_DETERMINATION'] == \"SMALL BUSINESS\"]\n",
    "test_2021 = test_2021[test_2021['VENDOR_ADDRESS_COUNTRY_NAME'] == \"UNITED STATES\"]\n",
    "test_2021 = test_2021[test_2021['EXTENT_COMPETED'].isin([\"A\", \"D\", \"E\", \"CDO\"])]\n",
    "test_2021['FUNDING_DEPARTMENT_ID'] = test_2021['FUNDING_DEPARTMENT_ID'].str.strip()\n",
    "test_2021['IDV_PIID'] = test_2021['IDV_PIID'].str.strip()\n",
    "test_2021['PIID'] = test_2021['PIID'].str.strip()\n",
    "test_2021['DOLLARS_OBLIGATED'] = pd.to_numeric(test_2021['DOLLARS_OBLIGATED'], errors='coerce')\n",
    "m_2021 = pd.merge(test_2021, SAM, on=\"CAGE_CODE\", how=\"inner\")\n",
    "idx = m_2021.groupby(['SOLICITATION_ID','CAGE_CODE'])['DOLLARS_OBLIGATED'].idxmax()\n",
    "m_2021 = m_2021.loc[idx]\n",
    "m_2021 = m_2021[m_2021['DOLLARS_OBLIGATED'] > 0]"
   ]
  },
  {
   "cell_type": "code",
   "execution_count": 67,
   "id": "ba820ff6-3359-4c40-855e-dd0dec238736",
   "metadata": {
    "tags": []
   },
   "outputs": [
    {
     "data": {
      "text/plain": [
       "(38526, 73)"
      ]
     },
     "execution_count": 67,
     "metadata": {},
     "output_type": "execute_result"
    }
   ],
   "source": [
    "m_2021.shape"
   ]
  },
  {
   "cell_type": "markdown",
   "id": "39380e2b-16a6-476f-b447-05552d1cf989",
   "metadata": {},
   "source": [
    "### 2022"
   ]
  },
  {
   "cell_type": "code",
   "execution_count": 68,
   "id": "8f319c20-66a9-455e-9f75-c8714aff1a7a",
   "metadata": {
    "tags": []
   },
   "outputs": [],
   "source": [
    "test_2022 = pd.read_parquet('2022.parquet', engine='pyarrow',columns=cols)"
   ]
  },
  {
   "cell_type": "code",
   "execution_count": 69,
   "id": "ba8a396c-3cfb-4bac-86e0-eba2f442eacb",
   "metadata": {
    "tags": []
   },
   "outputs": [],
   "source": [
    "test_2022 = test_2022[test_2022['CO_BUS_SIZE_DETERMINATION'] == \"SMALL BUSINESS\"]\n",
    "test_2022 = test_2022[test_2022['VENDOR_ADDRESS_COUNTRY_NAME'] == \"UNITED STATES\"]\n",
    "test_2022 = test_2022[test_2022['EXTENT_COMPETED'].isin([\"A\", \"D\", \"E\", \"CDO\"])]\n",
    "test_2022['FUNDING_DEPARTMENT_ID'] = test_2022['FUNDING_DEPARTMENT_ID'].str.strip()\n",
    "test_2022['IDV_PIID'] = test_2022['IDV_PIID'].str.strip()\n",
    "test_2022['PIID'] = test_2022['PIID'].str.strip()\n",
    "test_2022['DOLLARS_OBLIGATED'] = pd.to_numeric(test_2022['DOLLARS_OBLIGATED'], errors='coerce')\n",
    "m_2022 = pd.merge(test_2022, SAM, on=\"CAGE_CODE\", how=\"inner\")\n",
    "idx = m_2022.groupby(['SOLICITATION_ID','CAGE_CODE'])['DOLLARS_OBLIGATED'].idxmax()\n",
    "m_2022 = m_2022.loc[idx]\n",
    "m_2022 = m_2022[m_2022['DOLLARS_OBLIGATED'] > 0]"
   ]
  },
  {
   "cell_type": "code",
   "execution_count": 70,
   "id": "99c8b285-0d81-45c4-ad99-fc12bfd82b3e",
   "metadata": {
    "tags": []
   },
   "outputs": [
    {
     "data": {
      "text/plain": [
       "(38767, 73)"
      ]
     },
     "execution_count": 70,
     "metadata": {},
     "output_type": "execute_result"
    }
   ],
   "source": [
    "m_2022.shape"
   ]
  },
  {
   "cell_type": "markdown",
   "id": "360ee0f6-ab6b-4d76-9637-7f14db93bef6",
   "metadata": {},
   "source": [
    "### 2023"
   ]
  },
  {
   "cell_type": "code",
   "execution_count": 71,
   "id": "b6f5a356-02df-472d-bdda-674ed34681aa",
   "metadata": {
    "tags": []
   },
   "outputs": [],
   "source": [
    "test_2023 = pd.read_parquet('FY23_SC_prelim.parquet', engine='pyarrow',columns=cols)"
   ]
  },
  {
   "cell_type": "code",
   "execution_count": 72,
   "id": "da218265-822a-41d5-95f9-f76313e44afa",
   "metadata": {
    "tags": []
   },
   "outputs": [],
   "source": [
    "test_2023 = test_2023[test_2023['CO_BUS_SIZE_DETERMINATION'] == \"SMALL BUSINESS\"]\n",
    "test_2023 = test_2023[test_2023['VENDOR_ADDRESS_COUNTRY_NAME'] == \"UNITED STATES\"]\n",
    "test_2023 = test_2023[test_2023['EXTENT_COMPETED'].isin([\"A\", \"D\", \"E\", \"CDO\"])]\n",
    "test_2023['FUNDING_DEPARTMENT_ID'] = test_2023['FUNDING_DEPARTMENT_ID'].str.strip()\n",
    "test_2023['IDV_PIID'] = test_2023['IDV_PIID'].str.strip()\n",
    "test_2023['PIID'] = test_2023['PIID'].str.strip()\n",
    "test_2023['DOLLARS_OBLIGATED'] = pd.to_numeric(test_2023['DOLLARS_OBLIGATED'], errors='coerce')\n",
    "m_2023 = pd.merge(test_2023, SAM, on=\"CAGE_CODE\", how=\"inner\")\n",
    "idx = m_2023.groupby(['SOLICITATION_ID','CAGE_CODE'])['DOLLARS_OBLIGATED'].idxmax()\n",
    "m_2023 = m_2023.loc[idx]\n",
    "m_2023 = m_2023[m_2023['DOLLARS_OBLIGATED'] > 0]"
   ]
  },
  {
   "cell_type": "code",
   "execution_count": 73,
   "id": "6adb680f-b6b0-4cd4-9492-4ab1ede31672",
   "metadata": {
    "tags": []
   },
   "outputs": [
    {
     "data": {
      "text/plain": [
       "(41382, 73)"
      ]
     },
     "execution_count": 73,
     "metadata": {},
     "output_type": "execute_result"
    }
   ],
   "source": [
    "m_2023.shape"
   ]
  },
  {
   "cell_type": "markdown",
   "id": "4e024c1b-5b64-4bcf-ad57-0ad5c57b1b6b",
   "metadata": {},
   "source": [
    "### MERGE EVERYTHING"
   ]
  },
  {
   "cell_type": "code",
   "execution_count": 74,
   "id": "fa407d7a-f7da-4692-93a6-790f477137ec",
   "metadata": {
    "tags": []
   },
   "outputs": [],
   "source": [
    "merged_df = pd.concat([m_2019, m_2020, m_2021, m_2022, m_2023], ignore_index=True)"
   ]
  },
  {
   "cell_type": "code",
   "execution_count": 75,
   "id": "fa5392aa-75c5-470e-87ac-fed209006baa",
   "metadata": {
    "tags": []
   },
   "outputs": [
    {
     "data": {
      "text/plain": [
       "(190590, 73)"
      ]
     },
     "execution_count": 75,
     "metadata": {},
     "output_type": "execute_result"
    }
   ],
   "source": [
    "merged_df.shape"
   ]
  },
  {
   "cell_type": "code",
   "execution_count": 76,
   "id": "72a9e4be-6a4f-4881-a311-e9f6c66721fb",
   "metadata": {
    "tags": []
   },
   "outputs": [],
   "source": [
    "idx = merged_df.groupby(['SOLICITATION_ID','CAGE_CODE'])['DOLLARS_OBLIGATED'].idxmax()\n",
    "filtered_merged_df = merged_df.loc[idx]"
   ]
  },
  {
   "cell_type": "code",
   "execution_count": 77,
   "id": "e0a93199-3a1b-482d-ba10-6bdce379fd76",
   "metadata": {
    "tags": []
   },
   "outputs": [],
   "source": [
    "# PLACE_OF_MANUFACTURE\n",
    "# PLACE_OF_MANUFACTURE_CLASS\n",
    "# Make NaN into N/A\n",
    "filtered_merged_df['PLACE_OF_MANUFACTURE'] = filtered_merged_df['PLACE_OF_MANUFACTURE'].fillna('N/A')\n",
    "# create new  column \n",
    "# YES - made in US\n",
    "# NO - not made in US\n",
    "# NONE - Not selling a product \n",
    "\n",
    "def convert_place_of_manufacture(value):\n",
    "    if value == 'D':\n",
    "        return 'YES'\n",
    "    elif value == 'C':\n",
    "        return 'NO'\n",
    "    elif value in ['N/A', 'A', 'G', 'E', 'H', 'L', 'J', 'F', 'K', 'B', 'I']:\n",
    "        return 'NONE'\n",
    "    else:\n",
    "        return 'NONE'\n",
    "\n",
    "filtered_merged_df['PLACE_OF_MANUFACTURE_CLASS'] = filtered_merged_df['PLACE_OF_MANUFACTURE'].apply(convert_place_of_manufacture)\n"
   ]
  },
  {
   "cell_type": "code",
   "execution_count": 78,
   "id": "c1db4830-9e16-46b7-8310-cc03d80526a0",
   "metadata": {
    "tags": []
   },
   "outputs": [],
   "source": [
    "# zip code was in long format, change to standard 5 digits \n",
    "filtered_merged_df['VENDOR_ADDRESS_ZIP_CODE'] = filtered_merged_df['VENDOR_ADDRESS_ZIP_CODE'].astype(str).str[:5]"
   ]
  },
  {
   "cell_type": "code",
   "execution_count": 79,
   "id": "48bf6ca5-b076-4f32-8bb9-89fd6117ecf5",
   "metadata": {
    "tags": []
   },
   "outputs": [],
   "source": [
    "# assume missing values (not that many) are NONE\n",
    "filtered_merged_df['TYPE_OF_SET_ASIDE'] = filtered_merged_df['TYPE_OF_SET_ASIDE'].fillna('NONE')"
   ]
  },
  {
   "cell_type": "code",
   "execution_count": 80,
   "id": "3bab1911-dba5-4019-9d35-e8fb5c3b4281",
   "metadata": {
    "tags": []
   },
   "outputs": [],
   "source": [
    "filtered_merged_df['EVALUATED_PREFERENCE'] = filtered_merged_df['EVALUATED_PREFERENCE'].fillna('NONE')"
   ]
  },
  {
   "cell_type": "code",
   "execution_count": 81,
   "id": "770a94a3-6127-41be-aea8-256b5c05d3eb",
   "metadata": {
    "tags": []
   },
   "outputs": [],
   "source": [
    "filtered_merged_df = filtered_merged_df.dropna(subset=['CORP_ENTITY_NOT_TAX_EXEMPT'])"
   ]
  },
  {
   "cell_type": "code",
   "execution_count": 82,
   "id": "b03f3129-775c-426c-b42a-e78a68e45e8e",
   "metadata": {
    "tags": []
   },
   "outputs": [],
   "source": [
    "filtered_merged_df = filtered_merged_df.dropna(subset=['IDV_CONTRACTING_AGENCY_ID'])"
   ]
  },
  {
   "cell_type": "markdown",
   "id": "c16f4043-b3d0-423d-bc99-5352fbf0bf25",
   "metadata": {},
   "source": [
    "### FINAL SET FOR MODELING"
   ]
  },
  {
   "cell_type": "code",
   "execution_count": 83,
   "id": "50109685",
   "metadata": {},
   "outputs": [],
   "source": [
    "specific_columns_df = filtered_merged_df[['IDV_CONTRACTING_AGENCY_ID', 'IDV_CONTRACTING_AGENCY_NAME', 'CONTRACTING_OFFICE_ID', 'CONTRACTING_OFFICE_NAME']]\n",
    "\n",
    "# Save the selected columns to a CSV file\n",
    "specific_columns_df.to_csv('specific_columns.csv', index=False)"
   ]
  },
  {
   "cell_type": "code",
   "execution_count": 84,
   "id": "2615725e-abdf-49ed-9267-a353bc300372",
   "metadata": {
    "tags": []
   },
   "outputs": [],
   "source": [
    "final_df = filtered_merged_df[cols]"
   ]
  },
  {
   "cell_type": "code",
   "execution_count": 85,
   "id": "75cd3457-1fa1-414b-93a6-1f613b113cd2",
   "metadata": {
    "tags": []
   },
   "outputs": [
    {
     "name": "stderr",
     "output_type": "stream",
     "text": [
      "/var/folders/l2/yg146pls5_q015mz26q0pyfm0000gn/T/ipykernel_77237/563242062.py:1: SettingWithCopyWarning: \n",
      "A value is trying to be set on a copy of a slice from a DataFrame.\n",
      "Try using .loc[row_indexer,col_indexer] = value instead\n",
      "\n",
      "See the caveats in the documentation: https://pandas.pydata.org/pandas-docs/stable/user_guide/indexing.html#returning-a-view-versus-a-copy\n",
      "  final_df['DOLLARS_OBLIGATED'] = np.log(final_df['DOLLARS_OBLIGATED'])\n"
     ]
    }
   ],
   "source": [
    "final_df['DOLLARS_OBLIGATED'] = np.log(final_df['DOLLARS_OBLIGATED'])"
   ]
  },
  {
   "cell_type": "code",
   "execution_count": 86,
   "id": "5deeebd4",
   "metadata": {},
   "outputs": [
    {
     "name": "stdout",
     "output_type": "stream",
     "text": [
      "IDV_CONTRACTING_AGENCY_NAME\n",
      "FEDERAL ACQUISITION SERVICE                      26098\n",
      "NATIONAL AERONAUTICS AND SPACE ADMINISTRATION    14602\n",
      "PUBLIC BUILDINGS SERVICE                          6804\n",
      "DEPT OF THE NAVY                                  6799\n",
      "DEPT OF THE ARMY                                  5158\n",
      "OFFICE OF PROCUREMENT OPERATIONS                  2973\n",
      "VETERANS AFFAIRS, DEPARTMENT OF                   2846\n",
      "NATIONAL INSTITUTES OF HEALTH                     2336\n",
      "FOREST SERVICE                                    1604\n",
      "DEPT OF THE AIR FORCE                             1565\n",
      "Name: count, dtype: int64\n"
     ]
    }
   ],
   "source": [
    "top_10_agencies = final_df['IDV_CONTRACTING_AGENCY_NAME'].value_counts().nlargest(10)\n",
    "print(top_10_agencies)"
   ]
  },
  {
   "cell_type": "code",
   "execution_count": 87,
   "id": "98d1c7c6",
   "metadata": {},
   "outputs": [
    {
     "name": "stderr",
     "output_type": "stream",
     "text": [
      "/var/folders/l2/yg146pls5_q015mz26q0pyfm0000gn/T/ipykernel_77237/1100538990.py:6: SettingWithCopyWarning: \n",
      "A value is trying to be set on a copy of a slice from a DataFrame.\n",
      "Try using .loc[row_indexer,col_indexer] = value instead\n",
      "\n",
      "See the caveats in the documentation: https://pandas.pydata.org/pandas-docs/stable/user_guide/indexing.html#returning-a-view-versus-a-copy\n",
      "  final_df['Response_Variable'] = np.where(conditions, final_df['CONTRACTING_OFFICE_ID'], final_df['IDV_CONTRACTING_AGENCY_ID'])\n"
     ]
    }
   ],
   "source": [
    "conditions = (\n",
    "    (final_df['IDV_CONTRACTING_AGENCY_ID'] == '4732') |\n",
    "    (final_df['IDV_CONTRACTING_AGENCY_ID'] == '14602'))\n",
    "\n",
    "# Use np.where to assign 'CONTRACTING_OFFICE_NAME' or 'IDV_CONTRACTING_AGENCY_NAME' to the new column based on the condition\n",
    "final_df['Response_Variable'] = np.where(conditions, final_df['CONTRACTING_OFFICE_ID'], final_df['IDV_CONTRACTING_AGENCY_ID'])"
   ]
  },
  {
   "cell_type": "code",
   "execution_count": 88,
   "id": "96b46744",
   "metadata": {},
   "outputs": [],
   "source": [
    "value_counts = final_df['Response_Variable'].value_counts()\n",
    "\n",
    "# Filter 'value_counts' to find values that occur 2 or more times\n",
    "values_to_keep = value_counts[value_counts >= 15].index.tolist()\n",
    "\n",
    "# Filter the DataFrame to keep rows where 'Response_Variable' is in 'values_to_keep'\n",
    "final_df = final_df[final_df['Response_Variable'].isin(values_to_keep)]"
   ]
  },
  {
   "cell_type": "code",
   "execution_count": 89,
   "id": "4fd67982",
   "metadata": {},
   "outputs": [
    {
     "data": {
      "text/plain": [
       "(78091, 60)"
      ]
     },
     "execution_count": 89,
     "metadata": {},
     "output_type": "execute_result"
    }
   ],
   "source": [
    "final_df.shape"
   ]
  },
  {
   "cell_type": "code",
   "execution_count": 90,
   "id": "204fda98",
   "metadata": {},
   "outputs": [
    {
     "data": {
      "text/plain": [
       "Response_Variable\n",
       "8000      14602\n",
       "4740       6804\n",
       "1700       6799\n",
       "2100       5158\n",
       "7001       2973\n",
       "          ...  \n",
       "2041         15\n",
       "690567       15\n",
       "47PL02       15\n",
       "47PC02       15\n",
       "36C250       15\n",
       "Name: count, Length: 427, dtype: int64"
      ]
     },
     "execution_count": 90,
     "metadata": {},
     "output_type": "execute_result"
    }
   ],
   "source": [
    "final_df['Response_Variable'].value_counts()"
   ]
  },
  {
   "cell_type": "code",
   "execution_count": 91,
   "id": "7a98faae",
   "metadata": {},
   "outputs": [],
   "source": [
    "final_df['VENDOR_ADDRESS_ZIP_CODE'] = final_df['VENDOR_ADDRESS_ZIP_CODE'].str[:1]\n",
    "final_df['PRINCIPAL_NAICS_CODE'] = final_df['PRINCIPAL_NAICS_CODE'].str[:2]"
   ]
  },
  {
   "cell_type": "markdown",
   "id": "ab5d53cb",
   "metadata": {},
   "source": [
    "### Read in CSV"
   ]
  },
  {
   "cell_type": "code",
   "execution_count": 92,
   "id": "ed38ba19",
   "metadata": {},
   "outputs": [
    {
     "name": "stderr",
     "output_type": "stream",
     "text": [
      "/var/folders/l2/yg146pls5_q015mz26q0pyfm0000gn/T/ipykernel_77237/3405772643.py:1: DtypeWarning: Columns (15) have mixed types. Specify dtype option on import or set low_memory=False.\n",
      "  final_df = pd.read_csv('final_df.csv')\n"
     ]
    }
   ],
   "source": [
    "final_df = pd.read_csv('final_df.csv')"
   ]
  },
  {
   "cell_type": "markdown",
   "id": "16389045",
   "metadata": {},
   "source": []
  },
  {
   "cell_type": "code",
   "execution_count": 93,
   "id": "26333685",
   "metadata": {},
   "outputs": [],
   "source": [
    "frac = 0.4"
   ]
  },
  {
   "cell_type": "code",
   "execution_count": 94,
   "id": "85699c3b",
   "metadata": {},
   "outputs": [],
   "source": [
    "final_df_rev = final_df.sample(frac=frac, random_state=67)"
   ]
  },
  {
   "cell_type": "code",
   "execution_count": 95,
   "id": "404459e1",
   "metadata": {},
   "outputs": [],
   "source": [
    "Xy = final_df_rev[['RESEARCH_AND_DEVELOPMENT',\n",
    "'DOMESTIC_SHELTER',\n",
    "'TYPE_OF_SET_ASIDE',\n",
    "'CONSTRUCTION_FIRM',\n",
    "'IDV_EVALUATED_PREFERENCE',\n",
    "'CO_BUS_SIZE_DETERMINATION',\n",
    "'VETERAN_OWNED_FLAG',\n",
    "'CORP_ENTITY_NOT_TAX_EXEMPT',\n",
    "'SERVICE_PROVIDER',\n",
    "'PRODUCT_OR_SERVICE_TYPE',\n",
    "'FOUNDATION',\n",
    "'EVALUATED_PREFERENCE',\n",
    "'SRDVOB_FLAG',\n",
    "'CORP_ENTITY_TAX_EXEMPT',\n",
    "'MANUFACTURER_OF_GOODS',\n",
    "'VENDOR_ADDRESS_ZIP_CODE',\n",
    "'SDB',\n",
    "'VETERINARY_HOSPITAL',\n",
    "'COMMUNITY_CORP_OWNED_FIRM',\n",
    "'DOT_CERTIFIED_DISADV_BUS',\n",
    "'PRINCIPAL_NAICS_CODE',\n",
    "'EDUCATIONAL_INSTITUTION_FLAG',\n",
    "'LIMITED_LIABILITY_CORPORATION',\n",
    "'FEDERALLY_FUNDED_R_AND_D_CORP',\n",
    "'SOLE_PROPREITORSHIP',\n",
    "'WOMEN_OWNED_FLAG',\n",
    "'ARCHITECTURE_AND_ENGINEERING',\n",
    "'HISPANIC_SERVICING_INSTITUTION',\n",
    "'PLACE_OF_MANUFACTURE',\n",
    "'FIRM_8A_FLAG',\n",
    "'SMALL_AGRICULTURAL_COOPERATIVE',\n",
    "'INTERNATIONAL_ORGANIZATION',\n",
    "'PARTNERSHIP_OR_LLP',\n",
    "'FOR_PROFIT_ORGANIZATION',\n",
    "'FIRM8A_JOINT_VENTURE',\n",
    "'Response_Variable']].dropna()"
   ]
  },
  {
   "cell_type": "code",
   "execution_count": 96,
   "id": "4c5c1023",
   "metadata": {},
   "outputs": [],
   "source": [
    "from sklearn.preprocessing import LabelEncoder\n",
    "\n",
    "y = Xy['Response_Variable']\n",
    "y1 = Xy['Response_Variable']\n",
    "enc = LabelEncoder()\n",
    "y = enc.fit_transform(y)\n"
   ]
  },
  {
   "cell_type": "code",
   "execution_count": 97,
   "id": "233e6d45",
   "metadata": {},
   "outputs": [],
   "source": [
    "X = Xy.drop('Response_Variable', axis = 1)\n"
   ]
  },
  {
   "cell_type": "code",
   "execution_count": 98,
   "id": "8e1d181f",
   "metadata": {},
   "outputs": [],
   "source": [
    "from sklearn.linear_model import Lasso\n",
    "from sklearn.preprocessing import LabelEncoder\n",
    "enc = LabelEncoder()\n",
    "# Initialize LabelEncoder\n",
    "X['PRINCIPAL_NAICS_CODE'] = X['PRINCIPAL_NAICS_CODE'].astype(str)\n",
    "X['VENDOR_ADDRESS_ZIP_CODE'] = X['VENDOR_ADDRESS_ZIP_CODE'].astype(str)\n",
    "categorical_columns = [\n",
    "    'RESEARCH_AND_DEVELOPMENT',\n",
    "'DOMESTIC_SHELTER',\n",
    "'TYPE_OF_SET_ASIDE',\n",
    "'CONSTRUCTION_FIRM',\n",
    "'IDV_EVALUATED_PREFERENCE',\n",
    "'CO_BUS_SIZE_DETERMINATION',\n",
    "'VETERAN_OWNED_FLAG',\n",
    "'CORP_ENTITY_NOT_TAX_EXEMPT',\n",
    "'SERVICE_PROVIDER',\n",
    "'PRODUCT_OR_SERVICE_TYPE',\n",
    "'FOUNDATION',\n",
    "'EVALUATED_PREFERENCE',\n",
    "'SRDVOB_FLAG',\n",
    "'CORP_ENTITY_TAX_EXEMPT',\n",
    "'MANUFACTURER_OF_GOODS',\n",
    "'SDB',\n",
    "'VETERINARY_HOSPITAL',\n",
    "'COMMUNITY_CORP_OWNED_FIRM',\n",
    "'DOT_CERTIFIED_DISADV_BUS',\n",
    "'EDUCATIONAL_INSTITUTION_FLAG',\n",
    "'LIMITED_LIABILITY_CORPORATION',\n",
    "'FEDERALLY_FUNDED_R_AND_D_CORP',\n",
    "'SOLE_PROPREITORSHIP',\n",
    "'WOMEN_OWNED_FLAG',\n",
    "'ARCHITECTURE_AND_ENGINEERING',\n",
    "'HISPANIC_SERVICING_INSTITUTION',\n",
    "'PLACE_OF_MANUFACTURE',\n",
    "'FIRM_8A_FLAG',\n",
    "'SMALL_AGRICULTURAL_COOPERATIVE',\n",
    "'INTERNATIONAL_ORGANIZATION',\n",
    "'PARTNERSHIP_OR_LLP',\n",
    "'FOR_PROFIT_ORGANIZATION',\n",
    "'FIRM8A_JOINT_VENTURE',\n",
    "'VENDOR_ADDRESS_ZIP_CODE',\n",
    "'PRINCIPAL_NAICS_CODE'\n",
    "]\n",
    "\n",
    "# Create dummy variables\n",
    "X_dummies = pd.get_dummies(X[categorical_columns], drop_first=False)\n",
    "\n",
    "# If you need to include these dummies back into your original DataFrame, you can do:\n",
    "X = X_dummies\n",
    "\n",
    "# Ensure the 'VENDOR_ADDRESS_ZIP_CODE' column is properly encoded as well\n",
    "\n",
    "# Initialize the Lasso model\n",
    "lasso = Lasso(alpha=0.1)  # You can adjust the alpha parameter as needed\n",
    "\n",
    "# Fit the Lasso model to your data\n",
    "lasso.fit(X, y)\n",
    "\n",
    "# Get the coefficients of the features\n",
    "coefficients = lasso.coef_\n",
    "\n",
    "# Find the indices of non-zero coefficients\n",
    "non_zero_indices = [i for i, coef in enumerate(coefficients) if coef != 0]\n",
    "\n",
    "# Get the column names corresponding to non-zero coefficients\n",
    "non_zero_columns = X.columns[non_zero_indices]\n"
   ]
  },
  {
   "cell_type": "code",
   "execution_count": 99,
   "id": "60ce156a",
   "metadata": {},
   "outputs": [],
   "source": [
    "xfinal = X[non_zero_columns]\n"
   ]
  },
  {
   "cell_type": "code",
   "execution_count": 100,
   "id": "a238e783",
   "metadata": {},
   "outputs": [
    {
     "data": {
      "text/plain": [
       "{0,\n",
       " 1,\n",
       " 2,\n",
       " 3,\n",
       " 4,\n",
       " 5,\n",
       " 6,\n",
       " 7,\n",
       " 8,\n",
       " 9,\n",
       " 10,\n",
       " 11,\n",
       " 12,\n",
       " 13,\n",
       " 14,\n",
       " 15,\n",
       " 16,\n",
       " 17,\n",
       " 18,\n",
       " 19,\n",
       " 20,\n",
       " 21,\n",
       " 22,\n",
       " 23,\n",
       " 24,\n",
       " 25,\n",
       " 26,\n",
       " 27,\n",
       " 28,\n",
       " 29,\n",
       " 30,\n",
       " 31,\n",
       " 32,\n",
       " 33,\n",
       " 34,\n",
       " 35,\n",
       " 36,\n",
       " 37,\n",
       " 38,\n",
       " 39,\n",
       " 40,\n",
       " 41,\n",
       " 42,\n",
       " 43,\n",
       " 44,\n",
       " 45,\n",
       " 46,\n",
       " 47,\n",
       " 48,\n",
       " 49,\n",
       " 50,\n",
       " 51,\n",
       " 52,\n",
       " 53,\n",
       " 54,\n",
       " 55,\n",
       " 56,\n",
       " 57,\n",
       " 58,\n",
       " 59,\n",
       " 60,\n",
       " 61,\n",
       " 62,\n",
       " 63,\n",
       " 64,\n",
       " 65,\n",
       " 66,\n",
       " 67,\n",
       " 68,\n",
       " 69,\n",
       " 70,\n",
       " 71,\n",
       " 72,\n",
       " 73,\n",
       " 74,\n",
       " 75,\n",
       " 76,\n",
       " 77,\n",
       " 78,\n",
       " 79,\n",
       " 80,\n",
       " 81,\n",
       " 82,\n",
       " 83,\n",
       " 84,\n",
       " 85,\n",
       " 86,\n",
       " 87,\n",
       " 88,\n",
       " 89,\n",
       " 90,\n",
       " 91,\n",
       " 92,\n",
       " 93,\n",
       " 94,\n",
       " 95,\n",
       " 96,\n",
       " 97,\n",
       " 98,\n",
       " 99,\n",
       " 100,\n",
       " 101,\n",
       " 102,\n",
       " 103,\n",
       " 104,\n",
       " 105,\n",
       " 106,\n",
       " 107,\n",
       " 108,\n",
       " 109,\n",
       " 110,\n",
       " 111,\n",
       " 112,\n",
       " 113,\n",
       " 114,\n",
       " 115,\n",
       " 116,\n",
       " 117,\n",
       " 118,\n",
       " 119,\n",
       " 120,\n",
       " 121,\n",
       " 122,\n",
       " 123,\n",
       " 124,\n",
       " 125,\n",
       " 126,\n",
       " 127,\n",
       " 128,\n",
       " 129,\n",
       " 130,\n",
       " 131,\n",
       " 132,\n",
       " 133,\n",
       " 134,\n",
       " 135,\n",
       " 136,\n",
       " 137,\n",
       " 138,\n",
       " 139,\n",
       " 140,\n",
       " 141,\n",
       " 142,\n",
       " 143,\n",
       " 144,\n",
       " 145,\n",
       " 146,\n",
       " 147,\n",
       " 148,\n",
       " 149,\n",
       " 150,\n",
       " 151,\n",
       " 152,\n",
       " 153,\n",
       " 154,\n",
       " 155,\n",
       " 156,\n",
       " 157,\n",
       " 158,\n",
       " 159,\n",
       " 160,\n",
       " 161,\n",
       " 162,\n",
       " 163,\n",
       " 164,\n",
       " 165,\n",
       " 166,\n",
       " 167,\n",
       " 168,\n",
       " 169,\n",
       " 170,\n",
       " 171,\n",
       " 172,\n",
       " 173,\n",
       " 174,\n",
       " 175,\n",
       " 176,\n",
       " 177,\n",
       " 178,\n",
       " 179,\n",
       " 180,\n",
       " 181,\n",
       " 182,\n",
       " 183,\n",
       " 184,\n",
       " 185,\n",
       " 186,\n",
       " 187,\n",
       " 188,\n",
       " 189,\n",
       " 190,\n",
       " 191,\n",
       " 192,\n",
       " 193,\n",
       " 194,\n",
       " 195,\n",
       " 196,\n",
       " 197,\n",
       " 198,\n",
       " 199,\n",
       " 200,\n",
       " 201,\n",
       " 202,\n",
       " 203,\n",
       " 204,\n",
       " 205,\n",
       " 206,\n",
       " 207,\n",
       " 208,\n",
       " 209,\n",
       " 210,\n",
       " 211,\n",
       " 212,\n",
       " 213,\n",
       " 214,\n",
       " 215,\n",
       " 216,\n",
       " 217,\n",
       " 218,\n",
       " 219,\n",
       " 220,\n",
       " 221,\n",
       " 222,\n",
       " 223,\n",
       " 224,\n",
       " 225,\n",
       " 226,\n",
       " 227,\n",
       " 228,\n",
       " 229,\n",
       " 230,\n",
       " 231,\n",
       " 232,\n",
       " 233,\n",
       " 234,\n",
       " 235,\n",
       " 236,\n",
       " 237,\n",
       " 238,\n",
       " 239,\n",
       " 240,\n",
       " 241,\n",
       " 242,\n",
       " 243,\n",
       " 244,\n",
       " 245,\n",
       " 246,\n",
       " 247,\n",
       " 248,\n",
       " 249,\n",
       " 250,\n",
       " 251,\n",
       " 252,\n",
       " 253,\n",
       " 254,\n",
       " 255,\n",
       " 256,\n",
       " 257,\n",
       " 258,\n",
       " 259,\n",
       " 260,\n",
       " 261,\n",
       " 262,\n",
       " 263,\n",
       " 264,\n",
       " 265,\n",
       " 266,\n",
       " 267,\n",
       " 268,\n",
       " 269,\n",
       " 270,\n",
       " 271,\n",
       " 272,\n",
       " 273,\n",
       " 274,\n",
       " 275,\n",
       " 276,\n",
       " 277,\n",
       " 278,\n",
       " 279,\n",
       " 280,\n",
       " 281,\n",
       " 282,\n",
       " 283,\n",
       " 284,\n",
       " 285,\n",
       " 286,\n",
       " 287,\n",
       " 288,\n",
       " 289,\n",
       " 290,\n",
       " 291,\n",
       " 292,\n",
       " 293,\n",
       " 294,\n",
       " 295,\n",
       " 296,\n",
       " 297,\n",
       " 298,\n",
       " 299,\n",
       " 300,\n",
       " 301,\n",
       " 302,\n",
       " 303,\n",
       " 304,\n",
       " 305,\n",
       " 306,\n",
       " 307,\n",
       " 308,\n",
       " 309,\n",
       " 310,\n",
       " 311,\n",
       " 312,\n",
       " 313,\n",
       " 314,\n",
       " 315,\n",
       " 316,\n",
       " 317,\n",
       " 318,\n",
       " 319,\n",
       " 320,\n",
       " 321,\n",
       " 322,\n",
       " 323,\n",
       " 324,\n",
       " 325,\n",
       " 326,\n",
       " 327,\n",
       " 328,\n",
       " 329,\n",
       " 330,\n",
       " 331,\n",
       " 332,\n",
       " 333,\n",
       " 334,\n",
       " 335,\n",
       " 336,\n",
       " 337,\n",
       " 338,\n",
       " 339,\n",
       " 340,\n",
       " 341,\n",
       " 342,\n",
       " 343,\n",
       " 344,\n",
       " 345,\n",
       " 346,\n",
       " 347,\n",
       " 348,\n",
       " 349,\n",
       " 350,\n",
       " 351,\n",
       " 352,\n",
       " 353,\n",
       " 354,\n",
       " 355,\n",
       " 356,\n",
       " 357,\n",
       " 358,\n",
       " 359,\n",
       " 360,\n",
       " 361,\n",
       " 362,\n",
       " 363,\n",
       " 364,\n",
       " 365,\n",
       " 366,\n",
       " 367,\n",
       " 368,\n",
       " 369,\n",
       " 370,\n",
       " 371,\n",
       " 372,\n",
       " 373,\n",
       " 374,\n",
       " 375,\n",
       " 376,\n",
       " 377,\n",
       " 378,\n",
       " 379,\n",
       " 380,\n",
       " 381,\n",
       " 382,\n",
       " 383,\n",
       " 384,\n",
       " 385,\n",
       " 386,\n",
       " 387,\n",
       " 388,\n",
       " 389,\n",
       " 390,\n",
       " 391,\n",
       " 392,\n",
       " 393,\n",
       " 394,\n",
       " 395,\n",
       " 396,\n",
       " 397,\n",
       " 398,\n",
       " 399,\n",
       " 400,\n",
       " 401,\n",
       " 402,\n",
       " 403,\n",
       " 404,\n",
       " 405,\n",
       " 406,\n",
       " 407,\n",
       " 408,\n",
       " 409,\n",
       " 410,\n",
       " 411,\n",
       " 412,\n",
       " 413,\n",
       " 414,\n",
       " 415,\n",
       " 416,\n",
       " 417,\n",
       " 418,\n",
       " 419,\n",
       " 420,\n",
       " 421,\n",
       " 422,\n",
       " 423,\n",
       " 424,\n",
       " 425,\n",
       " 426}"
      ]
     },
     "execution_count": 100,
     "metadata": {},
     "output_type": "execute_result"
    }
   ],
   "source": [
    "set(y)\n"
   ]
  },
  {
   "cell_type": "code",
   "execution_count": 101,
   "id": "5c300b57",
   "metadata": {},
   "outputs": [
    {
     "data": {
      "text/plain": [
       "56772    33\n",
       "15230    33\n",
       "63422    23\n",
       "49484    33\n",
       "53584    54\n",
       "         ..\n",
       "16386    23\n",
       "32178    54\n",
       "8662     33\n",
       "67553    33\n",
       "50976    33\n",
       "Name: PRINCIPAL_NAICS_CODE, Length: 30808, dtype: int64"
      ]
     },
     "execution_count": 101,
     "metadata": {},
     "output_type": "execute_result"
    }
   ],
   "source": [
    "Xy['PRINCIPAL_NAICS_CODE']"
   ]
  },
  {
   "cell_type": "code",
   "execution_count": 102,
   "id": "be9948fc",
   "metadata": {},
   "outputs": [
    {
     "data": {
      "text/plain": [
       "Index(['TYPE_OF_SET_ASIDE_8A', 'TYPE_OF_SET_ASIDE_8AN',\n",
       "       'TYPE_OF_SET_ASIDE_HZC', 'TYPE_OF_SET_ASIDE_ISBEE',\n",
       "       'TYPE_OF_SET_ASIDE_NONE', 'TYPE_OF_SET_ASIDE_SBA',\n",
       "       'TYPE_OF_SET_ASIDE_SBP', 'TYPE_OF_SET_ASIDE_SDVOSBC',\n",
       "       'CORP_ENTITY_NOT_TAX_EXEMPT_NO', 'CORP_ENTITY_NOT_TAX_EXEMPT_YES',\n",
       "       'SERVICE_PROVIDER_NO', 'SERVICE_PROVIDER_YES',\n",
       "       'PRODUCT_OR_SERVICE_TYPE_P', 'PRODUCT_OR_SERVICE_TYPE_S',\n",
       "       'SRDVOB_FLAG_NO', 'SRDVOB_FLAG_YES', 'MANUFACTURER_OF_GOODS_NO',\n",
       "       'MANUFACTURER_OF_GOODS_YES', 'SDB_NO', 'SDB_YES',\n",
       "       'DOT_CERTIFIED_DISADV_BUS_NO', 'DOT_CERTIFIED_DISADV_BUS_YES',\n",
       "       'LIMITED_LIABILITY_CORPORATION_NO', 'LIMITED_LIABILITY_CORPORATION_YES',\n",
       "       'SOLE_PROPREITORSHIP_NO', 'SOLE_PROPREITORSHIP_YES',\n",
       "       'WOMEN_OWNED_FLAG_NO', 'WOMEN_OWNED_FLAG_YES', 'PLACE_OF_MANUFACTURE_C',\n",
       "       'PLACE_OF_MANUFACTURE_D', 'PLACE_OF_MANUFACTURE_L', 'FIRM_8A_FLAG_NO',\n",
       "       'FIRM_8A_FLAG_YES', 'PARTNERSHIP_OR_LLP_NO',\n",
       "       'FOR_PROFIT_ORGANIZATION_NO', 'FOR_PROFIT_ORGANIZATION_YES',\n",
       "       'VENDOR_ADDRESS_ZIP_CODE_0', 'VENDOR_ADDRESS_ZIP_CODE_1',\n",
       "       'VENDOR_ADDRESS_ZIP_CODE_2', 'VENDOR_ADDRESS_ZIP_CODE_3',\n",
       "       'VENDOR_ADDRESS_ZIP_CODE_4', 'VENDOR_ADDRESS_ZIP_CODE_6',\n",
       "       'VENDOR_ADDRESS_ZIP_CODE_8', 'VENDOR_ADDRESS_ZIP_CODE_9',\n",
       "       'PRINCIPAL_NAICS_CODE_11', 'PRINCIPAL_NAICS_CODE_23',\n",
       "       'PRINCIPAL_NAICS_CODE_31', 'PRINCIPAL_NAICS_CODE_32',\n",
       "       'PRINCIPAL_NAICS_CODE_33', 'PRINCIPAL_NAICS_CODE_48',\n",
       "       'PRINCIPAL_NAICS_CODE_54', 'PRINCIPAL_NAICS_CODE_56',\n",
       "       'PRINCIPAL_NAICS_CODE_61', 'PRINCIPAL_NAICS_CODE_62'],\n",
       "      dtype='object')"
      ]
     },
     "execution_count": 102,
     "metadata": {},
     "output_type": "execute_result"
    }
   ],
   "source": [
    "non_zero_columns"
   ]
  },
  {
   "cell_type": "code",
   "execution_count": 103,
   "id": "bb30dbf9",
   "metadata": {},
   "outputs": [
    {
     "name": "stderr",
     "output_type": "stream",
     "text": [
      "/Users/kevinfinn/anaconda3/lib/python3.10/site-packages/sklearn/linear_model/_logistic.py:458: ConvergenceWarning: lbfgs failed to converge (status=1):\n",
      "STOP: TOTAL NO. of ITERATIONS REACHED LIMIT.\n",
      "\n",
      "Increase the number of iterations (max_iter) or scale the data as shown in:\n",
      "    https://scikit-learn.org/stable/modules/preprocessing.html\n",
      "Please also refer to the documentation for alternative solver options:\n",
      "    https://scikit-learn.org/stable/modules/linear_model.html#logistic-regression\n",
      "  n_iter_i = _check_optimize_result(\n"
     ]
    },
    {
     "name": "stdout",
     "output_type": "stream",
     "text": [
      "Accuracy: 0.7690143892675538\n"
     ]
    }
   ],
   "source": [
    "from sklearn.metrics import accuracy_score\n",
    "import numpy as np\n",
    "from sklearn.model_selection import train_test_split\n",
    "from sklearn.linear_model import LogisticRegression\n",
    "\n",
    "# Split the data into training and testing sets\n",
    "X_train, X_test, y_train, y_test = train_test_split(xfinal, y, train_size=0.7)\n",
    "\n",
    "# Initialize the Logistic Regression model with softmax activation\n",
    "log_reg = LogisticRegression(multi_class='multinomial', solver='lbfgs', max_iter=100)\n",
    "\n",
    "# Train the Logistic Regression model on the training data\n",
    "log_reg.fit(X_train, y_train)\n",
    "\n",
    "# Predict probabilities for the testing data\n",
    "probabilities = log_reg.predict_proba(X_test)\n",
    "\n",
    "# Get the top 3 predicted classes for each sample\n",
    "top_15_indices = np.argsort(probabilities, axis=1)[:, -15:]\n",
    "\n",
    "# Check if the true label is in the top 3 predicted classes for each sample\n",
    "predicted_labels = log_reg.classes_[top_15_indices]\n",
    "accurate_predictions = np.any(predicted_labels == y_test[:, np.newaxis], axis=1)\n",
    "\n",
    "# Calculate accuracy based on whether the true label is in the top 3 predicted classes\n",
    "accuracy = np.mean(accurate_predictions)\n",
    "print(\"Accuracy:\", accuracy)"
   ]
  },
  {
   "cell_type": "code",
   "execution_count": 104,
   "id": "3c89ae51",
   "metadata": {},
   "outputs": [
    {
     "name": "stdout",
     "output_type": "stream",
     "text": [
      "Accuracy: 0.7800497673915395\n"
     ]
    }
   ],
   "source": [
    "from sklearn.metrics import accuracy_score\n",
    "import numpy as np\n",
    "from sklearn.model_selection import train_test_split\n",
    "from sklearn.ensemble import RandomForestClassifier\n",
    "\n",
    "# Assuming 'xfinal' and 'y' are your features and labels\n",
    "\n",
    "# Split the data into training and testing sets\n",
    "X_train, X_test, y_train, y_test = train_test_split(xfinal, y, train_size=0.7)\n",
    "\n",
    "# Initialize the Random Forest model\n",
    "random_forest = RandomForestClassifier(n_estimators=1000)\n",
    "\n",
    "# Train the Random Forest model on the training data\n",
    "random_forest.fit(X_train, y_train)\n",
    "\n",
    "# Predict probabilities for the testing data\n",
    "probabilities = random_forest.predict_proba(X_test)\n",
    "\n",
    "# Get the top 5 predicted classes for each sample\n",
    "top_15_indices = np.argsort(probabilities, axis=1)[:, -15:]\n",
    "\n",
    "# Check if the true label is in the top 5 predicted classes for each sample\n",
    "predicted_labels = random_forest.classes_[top_15_indices]\n",
    "accurate_predictions = np.any(predicted_labels == y_test[:, np.newaxis], axis=1)\n",
    "\n",
    "# Calculate accuracy based on whether the true label is in the top 5 predicted classes\n",
    "accuracy = np.mean(accurate_predictions)\n",
    "print(\"Accuracy:\", accuracy)"
   ]
  },
  {
   "cell_type": "code",
   "execution_count": 105,
   "id": "8ae9eae5",
   "metadata": {},
   "outputs": [],
   "source": [
    "input_data = {\n",
    "    # Set-aside types\n",
    "    'TYPE_OF_SET_ASIDE_8A': [0],\n",
    "    'TYPE_OF_SET_ASIDE_8AN': [0],\n",
    "    'TYPE_OF_SET_ASIDE_HZC': [0],\n",
    "    'TYPE_OF_SET_ASIDE_ISBEE': [0],\n",
    "    'TYPE_OF_SET_ASIDE_NONE': [1],  # Assuming 'None' is the applicable category for this observation\n",
    "    'TYPE_OF_SET_ASIDE_SBA': [0],\n",
    "    'TYPE_OF_SET_ASIDE_SBP': [0],\n",
    "    'TYPE_OF_SET_ASIDE_SDVOSBC': [0],\n",
    "    \n",
    "    # Corporate entity tax status\n",
    "    'CORP_ENTITY_NOT_TAX_EXEMPT_NO': [1],  # Assuming it's not tax-exempt\n",
    "    'CORP_ENTITY_NOT_TAX_EXEMPT_YES': [0],\n",
    "    \n",
    "    # Service provider status\n",
    "    'SERVICE_PROVIDER_NO': [1],  # Assuming it's not a service provider\n",
    "    'SERVICE_PROVIDER_YES': [0],\n",
    "    \n",
    "    # Product or Service type\n",
    "    'PRODUCT_OR_SERVICE_TYPE_P': [1],  # Assuming it's a product\n",
    "    'PRODUCT_OR_SERVICE_TYPE_S': [0],  # Not a service\n",
    "    \n",
    "    # SRDVOB flag\n",
    "    'SRDVOB_FLAG_NO': [1],\n",
    "    'SRDVOB_FLAG_YES': [0],\n",
    "    \n",
    "    # Manufacturer of goods\n",
    "    'MANUFACTURER_OF_GOODS_NO': [0],\n",
    "    'MANUFACTURER_OF_GOODS_YES': [1],  # Assuming it is a manufacturer\n",
    "    \n",
    "    # Small Disadvantaged Business\n",
    "    'SDB_NO': [1],\n",
    "    'SDB_YES': [0],\n",
    "    \n",
    "    # DOT Certified Disadvantaged Business\n",
    "    'DOT_CERTIFIED_DISADV_BUS_NO': [1],\n",
    "    'DOT_CERTIFIED_DISADV_BUS_YES': [0],\n",
    "    \n",
    "    # Limited Liability Corporation\n",
    "    'LIMITED_LIABILITY_CORPORATION_NO': [1],\n",
    "    'LIMITED_LIABILITY_CORPORATION_YES': [0],\n",
    "    \n",
    "    # Sole Proprietorship\n",
    "    'SOLE_PROPREITORSHIP_NO': [1],\n",
    "    'SOLE_PROPREITORSHIP_YES': [0],\n",
    "    \n",
    "    # Women-Owned Flag\n",
    "    'WOMEN_OWNED_FLAG_NO': [1],\n",
    "    'WOMEN_OWNED_FLAG_YES': [0],\n",
    "    \n",
    "    # Place of Manufacture\n",
    "    'PLACE_OF_MANUFACTURE_C': [0],\n",
    "    'PLACE_OF_MANUFACTURE_D': [1],  # Assuming 'D' is applicable\n",
    "    'PLACE_OF_MANUFACTURE_L': [0],\n",
    "    \n",
    "    # FIRM 8A Flag\n",
    "    'FIRM_8A_FLAG_NO': [1],\n",
    "    'FIRM_8A_FLAG_YES': [0],\n",
    "    \n",
    "    # Partnership or LLP\n",
    "    'PARTNERSHIP_OR_LLP_NO': [1],\n",
    "    \n",
    "    # For-Profit Organization\n",
    "    'FOR_PROFIT_ORGANIZATION_NO': [0],\n",
    "    'FOR_PROFIT_ORGANIZATION_YES': [1],  # Assuming it's a for-profit organization\n",
    "    \n",
    "    # Example encodings for ZIP codes and NAICS codes (these should match your model's encoding)\n",
    "    'VENDOR_ADDRESS_ZIP_CODE_0': [0],  # Only one of these should be 1 based on the input ZIP code\n",
    "    'VENDOR_ADDRESS_ZIP_CODE_1': [0],\n",
    "    'VENDOR_ADDRESS_ZIP_CODE_2': [0],\n",
    "    'VENDOR_ADDRESS_ZIP_CODE_3': [0],\n",
    "    'VENDOR_ADDRESS_ZIP_CODE_4': [0],\n",
    "    'VENDOR_ADDRESS_ZIP_CODE_6': [0],\n",
    "    'VENDOR_ADDRESS_ZIP_CODE_8': [0],\n",
    "    'VENDOR_ADDRESS_ZIP_CODE_9': [1],  # Example: assuming ZIP code category 9 is applicable\n",
    "    \n",
    "    'PRINCIPAL_NAICS_CODE_11': [0],  # Only one of these should be 1 based on the input NAICS code\n",
    "    'PRINCIPAL_NAICS_CODE_23': [0],\n",
    "    'PRINCIPAL_NAICS_CODE_31': [0],\n",
    "    'PRINCIPAL_NAICS_CODE_32': [0],\n",
    "    'PRINCIPAL_NAICS_CODE_33': [0],\n",
    "    'PRINCIPAL_NAICS_CODE_48': [0],\n",
    "    'PRINCIPAL_NAICS_CODE_54': [1],  # Example: assuming NAICS code category 54 is applicable\n",
    "    'PRINCIPAL_NAICS_CODE_56': [0],\n",
    "    'PRINCIPAL_NAICS_CODE_61': [0],\n",
    "    'PRINCIPAL_NAICS_CODE_62': [0]\n",
    "}\n",
    "\n",
    "# Convert dictionary to DataFrame\n",
    "X_input = pd.DataFrame.from_dict(input_data)"
   ]
  },
  {
   "cell_type": "code",
   "execution_count": 107,
   "id": "13db1792",
   "metadata": {},
   "outputs": [],
   "source": [
    "y = Xy['Response_Variable']\n",
    "\n",
    "# Initialize LabelEncoder\n",
    "enc = LabelEncoder()\n",
    "# Fit and transform 'y' to get encoded labels\n",
    "y_encoded = enc.fit_transform(y)\n",
    "\n",
    "# Create a dictionary that maps original labels to their encoded labels\n",
    "label_mapping = {original_label: encoded_label for original_label, encoded_label in zip(y, y_encoded)}\n",
    "reversed_dict = {value: key for key, value in label_mapping.items()}"
   ]
  },
  {
   "cell_type": "code",
   "execution_count": 108,
   "id": "a9fbaf01",
   "metadata": {},
   "outputs": [],
   "source": [
    "dict = pd.read_csv('specific_columns.csv')"
   ]
  },
  {
   "cell_type": "code",
   "execution_count": 109,
   "id": "4ac80432",
   "metadata": {},
   "outputs": [],
   "source": [
    "col1 = dict[['IDV_CONTRACTING_AGENCY_ID','IDV_CONTRACTING_AGENCY_NAME']]\n",
    "col1  = col1.rename(columns={'IDV_CONTRACTING_AGENCY_ID': 'ID'})\n",
    "col1  = col1.rename(columns={'IDV_CONTRACTING_AGENCY_NAME': 'NAME'})\n",
    "col1 = col1.drop_duplicates()"
   ]
  },
  {
   "cell_type": "code",
   "execution_count": 110,
   "id": "12dedc4f",
   "metadata": {},
   "outputs": [],
   "source": [
    "col2 = dict[['CONTRACTING_OFFICE_ID','CONTRACTING_OFFICE_NAME']]\n",
    "col2  = col2.rename(columns={'CONTRACTING_OFFICE_ID': 'ID'})\n",
    "col2  = col2.rename(columns={'CONTRACTING_OFFICE_NAME': 'NAME'})\n",
    "col2 = col2.drop_duplicates()"
   ]
  },
  {
   "cell_type": "code",
   "execution_count": 111,
   "id": "b5a0a1e4",
   "metadata": {},
   "outputs": [],
   "source": [
    "merged_col = pd.concat([col1,col2], ignore_index=True)"
   ]
  },
  {
   "cell_type": "code",
   "execution_count": 112,
   "id": "2b2294d5",
   "metadata": {},
   "outputs": [],
   "source": [
    "id_name_dict = merged_col.set_index('ID')['NAME'].to_dict()"
   ]
  },
  {
   "cell_type": "code",
   "execution_count": 113,
   "id": "4a78e881",
   "metadata": {},
   "outputs": [],
   "source": [
    "def contract_competition(*agencies):\n",
    "    results = {}  # Initialize an empty dictionary to hold results\n",
    "    for value in agencies:\n",
    "        agency_code = reversed_dict[value]\n",
    "    # Retrieve the full agency name using the agency code\n",
    "        agency_name = id_name_dict[agency_code]\n",
    "        small_df = final_df[final_df['Response_Variable'] == agency_code]\n",
    "        #small_df = small_df[small_df['TYPE_OF_SET_ASIDE'] == 'NONE']\n",
    "        \n",
    "        if not small_df.empty:\n",
    "            lower_quantile = round(small_df['NUMBER_OF_OFFERS_RECEIVED'].quantile(0.05),2)\n",
    "            upper_quantile = round(small_df['NUMBER_OF_OFFERS_RECEIVED'].quantile(0.95),2)\n",
    "            average = round(small_df['NUMBER_OF_OFFERS_RECEIVED'].mean(),2)\n",
    "            \n",
    "            results[value] = (lower_quantile, average, upper_quantile)\n",
    "        else:\n",
    "            results[value] = \"No data available\"\n",
    "    \n",
    "    return results"
   ]
  },
  {
   "cell_type": "code",
   "execution_count": 114,
   "id": "d498e73d",
   "metadata": {},
   "outputs": [
    {
     "name": "stdout",
     "output_type": "stream",
     "text": [
      "Agency: DEPT OF THE NAVY\n",
      "Competition: 5th percentile - 1.0, Average - 12.88, 95th percentile - 12.65\n",
      "\n",
      "Agency: NATIONAL INSTITUTES OF HEALTH NIDA\n",
      "Competition: 5th percentile - 1.0, Average - 2.77, 95th percentile - 7.0\n",
      "\n",
      "Agency: DEFENSE MEDIA ACTIVITY (DMA)\n",
      "Competition: 5th percentile - 1.0, Average - 2.23, 95th percentile - 3.0\n",
      "\n",
      "Agency: CDC OFFICE OF ACQUISITION SERVICES\n",
      "Competition: 5th percentile - 1.0, Average - 2.58, 95th percentile - 7.0\n",
      "\n",
      "Agency: FA4417 1 SOCONS\n",
      "Competition: 5th percentile - 1.0, Average - 3.0, 95th percentile - 7.6\n",
      "\n",
      "Agency: DEFENSE LOGISTICS AGENCY\n",
      "Competition: 5th percentile - 1.0, Average - 33.68, 95th percentile - 117.0\n",
      "\n",
      "Agency: CISA  ACQ DIV\n",
      "Competition: 5th percentile - 1.0, Average - 3.74, 95th percentile - 10.6\n",
      "\n",
      "Agency: NAVSUP FLT LOG CTR NORFOLK\n",
      "Competition: 5th percentile - 1.0, Average - 2.9, 95th percentile - 9.0\n",
      "\n",
      "Agency: NATIONAL AERONAUTICS AND SPACE ADMINISTRATION\n",
      "Competition: 5th percentile - 1.0, Average - 4.39, 95th percentile - 11.0\n",
      "\n",
      "Agency: GSA/FAS SCIENTFC,TEMP SVCS,ADINT\n",
      "Competition: 5th percentile - 999.0, Average - 997.83, 95th percentile - 999.0\n",
      "\n",
      "Agency: MRPBS MINNEAPOLIS MN\n",
      "Competition: 5th percentile - 1.0, Average - 2.66, 95th percentile - 5.65\n",
      "\n",
      "Agency: FEDERAL ACQUISITION SERVICE\n",
      "Competition: 5th percentile - 1.0, Average - 169.72, 95th percentile - 999.0\n",
      "\n",
      "Agency: NATIONAL INSTITUTES OF HEALTH\n",
      "Competition: 5th percentile - 1.0, Average - 3.75, 95th percentile - 9.0\n",
      "\n",
      "Agency: OFFICE OF PROCUREMENT OPERATIONS\n",
      "Competition: 5th percentile - 1.0, Average - 2.67, 95th percentile - 5.0\n",
      "\n",
      "Agency: W7NF USPFO ACTIVITY MI ARNG\n",
      "Competition: 5th percentile - 1.0, Average - 3.29, 95th percentile - 9.0\n",
      "\n"
     ]
    }
   ],
   "source": [
    "input_probabilities = random_forest.predict_proba(X_input)\n",
    "\n",
    "# Get the indices of the top 15 predicted classes for the input\n",
    "input_top_15_indices = np.argsort(input_probabilities, axis=1)[:, -15:]\n",
    "\n",
    "# Get the top 15 predicted classes for the input\n",
    "input_predicted_labels = random_forest.classes_[input_top_15_indices]\n",
    "\n",
    "# Get the top 15 probabilities for the input\n",
    "input_top_15_probabilities = np.take_along_axis(input_probabilities, input_top_15_indices, axis=1)\n",
    "\n",
    "top_15_agencies = input_predicted_labels[0].tolist()\n",
    "\n",
    "# Call the contract_competition function with the top 15 agencies\n",
    "competition_results = contract_competition(*top_15_agencies)\n",
    "\n",
    "# Format and print the results\n",
    "for agency, data in competition_results.items():\n",
    "    # Decode the agency's encoded label to get the original agency code\n",
    "    agency_code = reversed_dict.get(agency, \"Unknown Agency\")\n",
    "    # Retrieve the full agency name using the agency code\n",
    "    agency_name = id_name_dict.get(agency_code, \"Unknown Agency Name\")\n",
    "    \n",
    "    # Check if competition data is available for the agency\n",
    "    if isinstance(data, tuple):\n",
    "        # If data is a tuple, it contains the quantile information\n",
    "        lower_quantile, average, upper_quantile = data\n",
    "        print(f\"Agency: {agency_name}\\nCompetition: 5th percentile - {lower_quantile}, Average - {average}, 95th percentile - {upper_quantile}\\n\")\n",
    "    else:\n",
    "        # If data is not a tuple, it means \"No data available\" was returned\n",
    "        print(f\"Agency: {agency_name}\\nCompetition: {data}\\n\")"
   ]
  },
  {
   "cell_type": "code",
   "execution_count": 115,
   "id": "f781c8d7",
   "metadata": {},
   "outputs": [
    {
     "data": {
      "text/html": [
       "<div>\n",
       "<style scoped>\n",
       "    .dataframe tbody tr th:only-of-type {\n",
       "        vertical-align: middle;\n",
       "    }\n",
       "\n",
       "    .dataframe tbody tr th {\n",
       "        vertical-align: top;\n",
       "    }\n",
       "\n",
       "    .dataframe thead th {\n",
       "        text-align: right;\n",
       "    }\n",
       "</style>\n",
       "<table border=\"1\" class=\"dataframe\">\n",
       "  <thead>\n",
       "    <tr style=\"text-align: right;\">\n",
       "      <th></th>\n",
       "      <th>RESEARCH_AND_DEVELOPMENT</th>\n",
       "      <th>TOTAL_ESTIMATED_ORDER_VALUE</th>\n",
       "      <th>DOMESTIC_SHELTER</th>\n",
       "      <th>TYPE_OF_SET_ASIDE</th>\n",
       "      <th>SOLICITATION_ID</th>\n",
       "      <th>CONSTRUCTION_FIRM</th>\n",
       "      <th>IDV_EVALUATED_PREFERENCE</th>\n",
       "      <th>PART8_OR_PART13</th>\n",
       "      <th>NUMBER_OF_OFFERS_RECEIVED</th>\n",
       "      <th>CO_BUS_SIZE_DETERMINATION</th>\n",
       "      <th>...</th>\n",
       "      <th>PARTNERSHIP_OR_LLP</th>\n",
       "      <th>DOLLARS_OBLIGATED</th>\n",
       "      <th>IDV_NUMBER_OF_OFFERS</th>\n",
       "      <th>FOR_PROFIT_ORGANIZATION</th>\n",
       "      <th>AWARD_OR_IDV</th>\n",
       "      <th>FIRM8A_JOINT_VENTURE</th>\n",
       "      <th>CONTRACTING_OFFICE_ID</th>\n",
       "      <th>IDV_CONTRACTING_AGENCY_NAME</th>\n",
       "      <th>CONTRACTING_OFFICE_NAME</th>\n",
       "      <th>Response_Variable</th>\n",
       "    </tr>\n",
       "  </thead>\n",
       "  <tbody>\n",
       "    <tr>\n",
       "      <th>0</th>\n",
       "      <td>NO</td>\n",
       "      <td>NaN</td>\n",
       "      <td>NO</td>\n",
       "      <td>HZC</td>\n",
       "      <td># 254224</td>\n",
       "      <td>NO</td>\n",
       "      <td>NONE</td>\n",
       "      <td>NaN</td>\n",
       "      <td>9.0</td>\n",
       "      <td>SMALL BUSINESS</td>\n",
       "      <td>...</td>\n",
       "      <td>NO</td>\n",
       "      <td>8.341958</td>\n",
       "      <td>232.0</td>\n",
       "      <td>YES</td>\n",
       "      <td>AWARD</td>\n",
       "      <td>NO</td>\n",
       "      <td>140F1G</td>\n",
       "      <td>NATIONAL AERONAUTICS AND SPACE ADMINISTRATION</td>\n",
       "      <td>FWS, IT GOODS</td>\n",
       "      <td>8000</td>\n",
       "    </tr>\n",
       "    <tr>\n",
       "      <th>1</th>\n",
       "      <td>NO</td>\n",
       "      <td>NaN</td>\n",
       "      <td>NO</td>\n",
       "      <td>NONE</td>\n",
       "      <td>#003-4</td>\n",
       "      <td>NO</td>\n",
       "      <td>NONE</td>\n",
       "      <td>NaN</td>\n",
       "      <td>1.0</td>\n",
       "      <td>SMALL BUSINESS</td>\n",
       "      <td>...</td>\n",
       "      <td>NO</td>\n",
       "      <td>13.548069</td>\n",
       "      <td>3.0</td>\n",
       "      <td>YES</td>\n",
       "      <td>AWARD</td>\n",
       "      <td>NO</td>\n",
       "      <td>75N930</td>\n",
       "      <td>NATIONAL INSTITUTES OF HEALTH</td>\n",
       "      <td>NATIONAL INSTITUTES OF HEALTH NIAID</td>\n",
       "      <td>7529</td>\n",
       "    </tr>\n",
       "    <tr>\n",
       "      <th>2</th>\n",
       "      <td>NO</td>\n",
       "      <td>NaN</td>\n",
       "      <td>NO</td>\n",
       "      <td>SDVOSBC</td>\n",
       "      <td>#170039</td>\n",
       "      <td>NO</td>\n",
       "      <td>NONE</td>\n",
       "      <td>NaN</td>\n",
       "      <td>6.0</td>\n",
       "      <td>SMALL BUSINESS</td>\n",
       "      <td>...</td>\n",
       "      <td>NO</td>\n",
       "      <td>13.153435</td>\n",
       "      <td>232.0</td>\n",
       "      <td>YES</td>\n",
       "      <td>AWARD</td>\n",
       "      <td>NO</td>\n",
       "      <td>1333ND</td>\n",
       "      <td>NATIONAL AERONAUTICS AND SPACE ADMINISTRATION</td>\n",
       "      <td>DEPT OF COMMERCE NIST</td>\n",
       "      <td>8000</td>\n",
       "    </tr>\n",
       "    <tr>\n",
       "      <th>3</th>\n",
       "      <td>NO</td>\n",
       "      <td>NaN</td>\n",
       "      <td>NO</td>\n",
       "      <td>SBA</td>\n",
       "      <td>#233290</td>\n",
       "      <td>NO</td>\n",
       "      <td>NONE</td>\n",
       "      <td>NaN</td>\n",
       "      <td>2.0</td>\n",
       "      <td>SMALL BUSINESS</td>\n",
       "      <td>...</td>\n",
       "      <td>NO</td>\n",
       "      <td>13.739958</td>\n",
       "      <td>232.0</td>\n",
       "      <td>YES</td>\n",
       "      <td>AWARD</td>\n",
       "      <td>NO</td>\n",
       "      <td>140F07</td>\n",
       "      <td>NATIONAL AERONAUTICS AND SPACE ADMINISTRATION</td>\n",
       "      <td>FWS ALASKA REGIONAL OFFICE</td>\n",
       "      <td>8000</td>\n",
       "    </tr>\n",
       "    <tr>\n",
       "      <th>4</th>\n",
       "      <td>NO</td>\n",
       "      <td>NaN</td>\n",
       "      <td>NO</td>\n",
       "      <td>WOSB</td>\n",
       "      <td>#263973</td>\n",
       "      <td>NO</td>\n",
       "      <td>NONE</td>\n",
       "      <td>NaN</td>\n",
       "      <td>3.0</td>\n",
       "      <td>SMALL BUSINESS</td>\n",
       "      <td>...</td>\n",
       "      <td>NO</td>\n",
       "      <td>12.911365</td>\n",
       "      <td>232.0</td>\n",
       "      <td>YES</td>\n",
       "      <td>AWARD</td>\n",
       "      <td>NO</td>\n",
       "      <td>491004</td>\n",
       "      <td>NATIONAL AERONAUTICS AND SPACE ADMINISTRATION</td>\n",
       "      <td>DIV OF ACQ AND COOPERATIVE SUPPORT</td>\n",
       "      <td>8000</td>\n",
       "    </tr>\n",
       "    <tr>\n",
       "      <th>...</th>\n",
       "      <td>...</td>\n",
       "      <td>...</td>\n",
       "      <td>...</td>\n",
       "      <td>...</td>\n",
       "      <td>...</td>\n",
       "      <td>...</td>\n",
       "      <td>...</td>\n",
       "      <td>...</td>\n",
       "      <td>...</td>\n",
       "      <td>...</td>\n",
       "      <td>...</td>\n",
       "      <td>...</td>\n",
       "      <td>...</td>\n",
       "      <td>...</td>\n",
       "      <td>...</td>\n",
       "      <td>...</td>\n",
       "      <td>...</td>\n",
       "      <td>...</td>\n",
       "      <td>...</td>\n",
       "      <td>...</td>\n",
       "      <td>...</td>\n",
       "    </tr>\n",
       "    <tr>\n",
       "      <th>78086</th>\n",
       "      <td>NO</td>\n",
       "      <td>NaN</td>\n",
       "      <td>NO</td>\n",
       "      <td>SBA</td>\n",
       "      <td>YA1323KD210031</td>\n",
       "      <td>NO</td>\n",
       "      <td>NONE</td>\n",
       "      <td>NaN</td>\n",
       "      <td>2.0</td>\n",
       "      <td>SMALL BUSINESS</td>\n",
       "      <td>...</td>\n",
       "      <td>NO</td>\n",
       "      <td>14.496218</td>\n",
       "      <td>999.0</td>\n",
       "      <td>YES</td>\n",
       "      <td>AWARD</td>\n",
       "      <td>NO</td>\n",
       "      <td>1333LB</td>\n",
       "      <td>FEDERAL ACQUISITION SERVICE</td>\n",
       "      <td>DEPT OF COMMERCE CENSUS</td>\n",
       "      <td>1333LB</td>\n",
       "    </tr>\n",
       "    <tr>\n",
       "      <th>78087</th>\n",
       "      <td>NO</td>\n",
       "      <td>NaN</td>\n",
       "      <td>NO</td>\n",
       "      <td>NONE</td>\n",
       "      <td>Z0Z040Q57050B00</td>\n",
       "      <td>NO</td>\n",
       "      <td>NONE</td>\n",
       "      <td>NaN</td>\n",
       "      <td>NaN</td>\n",
       "      <td>SMALL BUSINESS</td>\n",
       "      <td>...</td>\n",
       "      <td>NO</td>\n",
       "      <td>6.345636</td>\n",
       "      <td>1.0</td>\n",
       "      <td>YES</td>\n",
       "      <td>AWARD</td>\n",
       "      <td>NO</td>\n",
       "      <td>70Z040</td>\n",
       "      <td>U.S. COAST GUARD</td>\n",
       "      <td>SFLC PROCUREMENT BRANCH 3(00040)</td>\n",
       "      <td>7008</td>\n",
       "    </tr>\n",
       "    <tr>\n",
       "      <th>78088</th>\n",
       "      <td>NO</td>\n",
       "      <td>NaN</td>\n",
       "      <td>NO</td>\n",
       "      <td>8A</td>\n",
       "      <td>Z0Z08720RPJT99700</td>\n",
       "      <td>NO</td>\n",
       "      <td>NONE</td>\n",
       "      <td>NaN</td>\n",
       "      <td>3.0</td>\n",
       "      <td>SMALL BUSINESS</td>\n",
       "      <td>...</td>\n",
       "      <td>YES</td>\n",
       "      <td>13.749827</td>\n",
       "      <td>12.0</td>\n",
       "      <td>YES</td>\n",
       "      <td>AWARD</td>\n",
       "      <td>NO</td>\n",
       "      <td>70Z087</td>\n",
       "      <td>U.S. COAST GUARD</td>\n",
       "      <td>CEU JUNEAU(00087)</td>\n",
       "      <td>7008</td>\n",
       "    </tr>\n",
       "    <tr>\n",
       "      <th>78089</th>\n",
       "      <td>NO</td>\n",
       "      <td>NaN</td>\n",
       "      <td>NO</td>\n",
       "      <td>NONE</td>\n",
       "      <td>Z1393923PAPUANG0028</td>\n",
       "      <td>NO</td>\n",
       "      <td>NONE</td>\n",
       "      <td>NaN</td>\n",
       "      <td>3.0</td>\n",
       "      <td>SMALL BUSINESS</td>\n",
       "      <td>...</td>\n",
       "      <td>NO</td>\n",
       "      <td>11.813030</td>\n",
       "      <td>36.0</td>\n",
       "      <td>YES</td>\n",
       "      <td>AWARD</td>\n",
       "      <td>NO</td>\n",
       "      <td>70Z084</td>\n",
       "      <td>DEPT OF THE NAVY</td>\n",
       "      <td>DOL-9</td>\n",
       "      <td>1700</td>\n",
       "    </tr>\n",
       "    <tr>\n",
       "      <th>78090</th>\n",
       "      <td>NO</td>\n",
       "      <td>NaN</td>\n",
       "      <td>NO</td>\n",
       "      <td>NONE</td>\n",
       "      <td>Z141022021PANAMA0001</td>\n",
       "      <td>NO</td>\n",
       "      <td>NONE</td>\n",
       "      <td>NaN</td>\n",
       "      <td>5.0</td>\n",
       "      <td>SMALL BUSINESS</td>\n",
       "      <td>...</td>\n",
       "      <td>NO</td>\n",
       "      <td>11.541070</td>\n",
       "      <td>36.0</td>\n",
       "      <td>YES</td>\n",
       "      <td>AWARD</td>\n",
       "      <td>NO</td>\n",
       "      <td>70Z085</td>\n",
       "      <td>DEPT OF THE NAVY</td>\n",
       "      <td>SFLC PROCUREMENT BRANCH 2(00085)</td>\n",
       "      <td>1700</td>\n",
       "    </tr>\n",
       "  </tbody>\n",
       "</table>\n",
       "<p>78091 rows × 60 columns</p>\n",
       "</div>"
      ],
      "text/plain": [
       "      RESEARCH_AND_DEVELOPMENT  TOTAL_ESTIMATED_ORDER_VALUE DOMESTIC_SHELTER  \\\n",
       "0                           NO                          NaN               NO   \n",
       "1                           NO                          NaN               NO   \n",
       "2                           NO                          NaN               NO   \n",
       "3                           NO                          NaN               NO   \n",
       "4                           NO                          NaN               NO   \n",
       "...                        ...                          ...              ...   \n",
       "78086                       NO                          NaN               NO   \n",
       "78087                       NO                          NaN               NO   \n",
       "78088                       NO                          NaN               NO   \n",
       "78089                       NO                          NaN               NO   \n",
       "78090                       NO                          NaN               NO   \n",
       "\n",
       "      TYPE_OF_SET_ASIDE       SOLICITATION_ID CONSTRUCTION_FIRM  \\\n",
       "0                   HZC              # 254224                NO   \n",
       "1                  NONE                #003-4                NO   \n",
       "2               SDVOSBC               #170039                NO   \n",
       "3                   SBA               #233290                NO   \n",
       "4                  WOSB               #263973                NO   \n",
       "...                 ...                   ...               ...   \n",
       "78086               SBA        YA1323KD210031                NO   \n",
       "78087              NONE       Z0Z040Q57050B00                NO   \n",
       "78088                8A     Z0Z08720RPJT99700                NO   \n",
       "78089              NONE   Z1393923PAPUANG0028                NO   \n",
       "78090              NONE  Z141022021PANAMA0001                NO   \n",
       "\n",
       "      IDV_EVALUATED_PREFERENCE PART8_OR_PART13  NUMBER_OF_OFFERS_RECEIVED  \\\n",
       "0                         NONE             NaN                        9.0   \n",
       "1                         NONE             NaN                        1.0   \n",
       "2                         NONE             NaN                        6.0   \n",
       "3                         NONE             NaN                        2.0   \n",
       "4                         NONE             NaN                        3.0   \n",
       "...                        ...             ...                        ...   \n",
       "78086                     NONE             NaN                        2.0   \n",
       "78087                     NONE             NaN                        NaN   \n",
       "78088                     NONE             NaN                        3.0   \n",
       "78089                     NONE             NaN                        3.0   \n",
       "78090                     NONE             NaN                        5.0   \n",
       "\n",
       "      CO_BUS_SIZE_DETERMINATION  ... PARTNERSHIP_OR_LLP DOLLARS_OBLIGATED  \\\n",
       "0                SMALL BUSINESS  ...                 NO          8.341958   \n",
       "1                SMALL BUSINESS  ...                 NO         13.548069   \n",
       "2                SMALL BUSINESS  ...                 NO         13.153435   \n",
       "3                SMALL BUSINESS  ...                 NO         13.739958   \n",
       "4                SMALL BUSINESS  ...                 NO         12.911365   \n",
       "...                         ...  ...                ...               ...   \n",
       "78086            SMALL BUSINESS  ...                 NO         14.496218   \n",
       "78087            SMALL BUSINESS  ...                 NO          6.345636   \n",
       "78088            SMALL BUSINESS  ...                YES         13.749827   \n",
       "78089            SMALL BUSINESS  ...                 NO         11.813030   \n",
       "78090            SMALL BUSINESS  ...                 NO         11.541070   \n",
       "\n",
       "      IDV_NUMBER_OF_OFFERS FOR_PROFIT_ORGANIZATION AWARD_OR_IDV  \\\n",
       "0                    232.0                     YES        AWARD   \n",
       "1                      3.0                     YES        AWARD   \n",
       "2                    232.0                     YES        AWARD   \n",
       "3                    232.0                     YES        AWARD   \n",
       "4                    232.0                     YES        AWARD   \n",
       "...                    ...                     ...          ...   \n",
       "78086                999.0                     YES        AWARD   \n",
       "78087                  1.0                     YES        AWARD   \n",
       "78088                 12.0                     YES        AWARD   \n",
       "78089                 36.0                     YES        AWARD   \n",
       "78090                 36.0                     YES        AWARD   \n",
       "\n",
       "      FIRM8A_JOINT_VENTURE CONTRACTING_OFFICE_ID  \\\n",
       "0                       NO                140F1G   \n",
       "1                       NO                75N930   \n",
       "2                       NO                1333ND   \n",
       "3                       NO                140F07   \n",
       "4                       NO                491004   \n",
       "...                    ...                   ...   \n",
       "78086                   NO                1333LB   \n",
       "78087                   NO                70Z040   \n",
       "78088                   NO                70Z087   \n",
       "78089                   NO                70Z084   \n",
       "78090                   NO                70Z085   \n",
       "\n",
       "                         IDV_CONTRACTING_AGENCY_NAME  \\\n",
       "0      NATIONAL AERONAUTICS AND SPACE ADMINISTRATION   \n",
       "1                      NATIONAL INSTITUTES OF HEALTH   \n",
       "2      NATIONAL AERONAUTICS AND SPACE ADMINISTRATION   \n",
       "3      NATIONAL AERONAUTICS AND SPACE ADMINISTRATION   \n",
       "4      NATIONAL AERONAUTICS AND SPACE ADMINISTRATION   \n",
       "...                                              ...   \n",
       "78086                    FEDERAL ACQUISITION SERVICE   \n",
       "78087                               U.S. COAST GUARD   \n",
       "78088                               U.S. COAST GUARD   \n",
       "78089                               DEPT OF THE NAVY   \n",
       "78090                               DEPT OF THE NAVY   \n",
       "\n",
       "                   CONTRACTING_OFFICE_NAME Response_Variable  \n",
       "0                            FWS, IT GOODS              8000  \n",
       "1      NATIONAL INSTITUTES OF HEALTH NIAID              7529  \n",
       "2                    DEPT OF COMMERCE NIST              8000  \n",
       "3               FWS ALASKA REGIONAL OFFICE              8000  \n",
       "4       DIV OF ACQ AND COOPERATIVE SUPPORT              8000  \n",
       "...                                    ...               ...  \n",
       "78086              DEPT OF COMMERCE CENSUS            1333LB  \n",
       "78087     SFLC PROCUREMENT BRANCH 3(00040)              7008  \n",
       "78088                    CEU JUNEAU(00087)              7008  \n",
       "78089                                DOL-9              1700  \n",
       "78090     SFLC PROCUREMENT BRANCH 2(00085)              1700  \n",
       "\n",
       "[78091 rows x 60 columns]"
      ]
     },
     "execution_count": 115,
     "metadata": {},
     "output_type": "execute_result"
    }
   ],
   "source": [
    "final_df"
   ]
  }
 ],
 "metadata": {
  "kernelspec": {
   "display_name": "Python 3 (ipykernel)",
   "language": "python",
   "name": "python3"
  },
  "language_info": {
   "codemirror_mode": {
    "name": "ipython",
    "version": 3
   },
   "file_extension": ".py",
   "mimetype": "text/x-python",
   "name": "python",
   "nbconvert_exporter": "python",
   "pygments_lexer": "ipython3",
   "version": "3.11.4"
  }
 },
 "nbformat": 4,
 "nbformat_minor": 5
}
