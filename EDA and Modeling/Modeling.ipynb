{
 "cells": [
  {
   "cell_type": "code",
   "execution_count": 1,
   "id": "2fdd896f-ea73-4f3b-9ab6-8d5095362919",
   "metadata": {
    "tags": []
   },
   "outputs": [],
   "source": [
    "import polars as pl\n",
    "import pandas as pd\n",
    "import plotly.express as px\n",
    "import numpy as np\n",
    "\n",
    "pd.options.mode.chained_assignment = None"
   ]
  },
  {
   "cell_type": "code",
   "execution_count": 2,
   "id": "e680aa45-f8c1-4e78-a36c-78575febd2e5",
   "metadata": {
    "tags": []
   },
   "outputs": [],
   "source": [
    "cols = [# RESPONSE VARIABLE\n",
    "        #'FUNDING_AGENCY_NAME',\n",
    "        'FUNDING_OFFICE_NAME', # use for main model \n",
    "        #'FUNDING_DEPARTMENT_NAME',\n",
    "    \n",
    "        # IDENTIFIERS\n",
    "        'PIID',\n",
    "        'IDV_PIID', # Indefinite delivery vehicle procurement instrument identifiers\n",
    "        'FUNDING_DEPARTMENT_ID',\n",
    "        # Funding Department ID + IDV PIID + PIID concatenated should give unique ID for a contract\n",
    "        # null IDV PIID + PIID gives the non-IDV contracts\n",
    "        'CAGE_CODE', # Code for the entity\n",
    "        # CAGE Code has been used for the entire dataset so can act as a unique entity ID\n",
    "        # Unique Entity ID\n",
    "        #'VENDOR_UEI', # these two don't match about half the time \n",
    "        #'ULTIMATE_UEI', # check previous years - DUNS before 2022\n",
    "        'SOLICITATION_ID',\n",
    "\n",
    "        # OTHER\n",
    "        'AWARD_FISCAL_YEAR',\n",
    "        'VENDOR_ADDRESS_ZIP_CODE', #use only first 5 digits, drop NAs, least amount of NAs \n",
    "        'TYPE_OF_SET_ASIDE', # Type of Set Aside determined for the contract action 10N in dictionary \n",
    "        'DATE_SIGNED', # The date that a mutually binding agreement was reached. \"2022-09-15\"\n",
    "        'EVALUATED_PREFERENCE', #------------\n",
    "        # Evaluated Preference makes all non-HUBZone entities’ bid prices up 10% when evaluating\n",
    "    \n",
    "        # Number of Offers\n",
    "        'NUMBER_OF_OFFERS_RECEIVED', #a lot of NaNs\n",
    "        # The number of actual offers/bids received in response to the solicitation.\n",
    "        'IDV_NUMBER_OF_OFFERS',\n",
    "        'AWARD_OR_IDV', # award or IDV - mostly Award \n",
    "\n",
    "        # FILTERING\n",
    "        'CO_BUS_SIZE_DETERMINATION', # ==\"SMALL BUSSINES\" / \"OTHER THAN SMALL BUSINESS\"\n",
    "        'VENDOR_ADDRESS_COUNTRY_NAME', # == USA filter \n",
    "        'MODIFICATION_NUMBER', # filtering == 0 \n",
    "        'EXTENT_COMPETED', # see notes, possibly filter by A,D,E,CDO\n",
    "\n",
    "        # CONTRACT VALUE\n",
    "        #'ULTIMATE_CONTRACT_VALUE', # Mutually agreed upon TOTAL contract value including all options \n",
    "        #(also includes estimated value of all potential orders for IDVs)\n",
    "        'DOLLARS_OBLIGATED',\n",
    "    \n",
    "        # NAICS\n",
    "        'PRINCIPAL_NAICS_CODE', # 'number' (NAICS codes are updated every 5 years(2012,2017,2022), incosistencies? \n",
    "        #The first two digits of the code designate the sector, the third digit designates the subsector, \n",
    "        #the fourth digit designates the industry group, the fifth digit designates the NAICS industry, \n",
    "        #and the sixth digit designates the national industry. \n",
    "\n",
    "        ## GENERAL BUSINESS QUESTIONS\n",
    "        'CORP_ENTITY_NOT_TAX_EXEMPT', #YES/NO, no nan\n",
    "        'CORP_ENTITY_TAX_EXEMPT', #YES/NO, no nan \n",
    "        'LIMITED_LIABILITY_CORPORATION', #YES/NO, no nan\n",
    "        'PARTNERSHIP_OR_LLP', #YES/NO, no nan\n",
    "        'SOLE_PROPREITORSHIP', #YES/NO, no nan\n",
    "        'SMALL_AGRICULTURAL_COOPERATIVE', #YES/NO, no nan\n",
    "        'INTERNATIONAL_ORGANIZATION',  #YES/NO, no nan\n",
    "        'ARCHITECTURE_AND_ENGINEERING', #YES/NO, no nan\n",
    "        'COMMUNITY_CORP_OWNED_FIRM', #YES/NO, no nan\n",
    "        'CONSTRUCTION_FIRM', #YES/NO, no nan\n",
    "        'DOMESTIC_SHELTER', #YES/NO, no nan\n",
    "        'FOUNDATION', #YES/NO, no nan\n",
    "        'RESEARCH_AND_DEVELOPMENT', #YES/NO, no nan\n",
    "        'VETERINARY_HOSPITAL', #YES/NO, no nan\n",
    "        'HISPANIC_SERVICING_INSTITUTION', #YES/NO, no nan\n",
    "        'FOR_PROFIT_ORGANIZATION', #YES/NO, no nan\n",
    "        'EDUCATIONAL_INSTITUTION_FLAG', #YES/NO, no nan\n",
    "        'MANUFACTURER_OF_GOODS', #YES/NO, no nan\n",
    "        'SERVICE_PROVIDER', #YES/NO, no nan\n",
    "        'INDIAN_TRIBE', #YES/NO, no nan # Buy Indian\n",
    "\n",
    "        # MANUFACTURE - is the product you're selling made in the US \n",
    "        # YES, NO, Not a manufactured end product \n",
    "        # 'PLACE_OF_MANUFACTURE_CLASS'\n",
    "        'PLACE_OF_MANUFACTURE', \n",
    "        \n",
    "        # NON-CERTIFIED \n",
    "        #Veteran-Owned Business\n",
    "        'VETERAN_OWNED_FLAG',\n",
    "        #Service-Disabled Veteran-Owned Business\n",
    "        'SRDVOB_FLAG',\n",
    "        # Women-Owned Business\n",
    "        'WOMEN_OWNED_FLAG',\n",
    "        'ANNUAL_REVENUE',\n",
    "        'NUMBER_OF_EMPLOYEES']"
   ]
  },
  {
   "cell_type": "code",
   "execution_count": 23,
   "id": "ce5244ca-f6cb-43ba-b3c1-cd8815f84eaa",
   "metadata": {
    "tags": []
   },
   "outputs": [],
   "source": [
    "columns = [\n",
    "    'CONTRACTING_OFFICE_NAME', 'SOLICITATION_ID', 'EVALUATED_PREFERENCE', 'PLACE_OF_MANUFACTURE', \n",
    "    'IDV_PIID', 'CAGE_CODE', 'FUNDING_DEPARTMENT_ID', 'DOLLARS_OBLIGATED', 'EXTENT_COMPETED', \n",
    "    'VENDOR_UEI', 'TYPE_OF_SET_ASIDE', 'VENDOR_ADDRESS_ZIP_CODE', 'VENDOR_ADDRESS_COUNTRY_NAME', \n",
    "    'EDUCATIONAL_INSTITUTION_FLAG', 'FIRM_8A_FLAG', 'WOMEN_OWNED_FLAG', 'FIRM8A_JOINT_VENTURE', \n",
    "    'FEDERALLY_FUNDED_R_AND_D_CORP', 'CORP_ENTITY_NOT_TAX_EXEMPT', 'CORP_ENTITY_TAX_EXEMPT', \n",
    "    'PARTNERSHIP_OR_LLP', 'SOLE_PROPREITORSHIP', 'SMALL_AGRICULTURAL_COOPERATIVE', \n",
    "    'INTERNATIONAL_ORGANIZATION', 'ARCHITECTURE_AND_ENGINEERING', 'COMMUNITY_CORP_OWNED_FIRM', \n",
    "    'CONSTRUCTION_FIRM', 'DOMESTIC_SHELTER', 'FOUNDATION', 'MANUFACTURER_OF_GOODS', \n",
    "    'RESEARCH_AND_DEVELOPMENT', 'SERVICE_PROVIDER', 'VETERINARY_HOSPITAL', \n",
    "    'HISPANIC_SERVICING_INSTITUTION', 'LIMITED_LIABILITY_CORPORATION', \n",
    "    'IDV_CONTRACTING_AGENCY_NAME', 'IDV_EXTENT_COMPETED', 'IDV_EVALUATED_PREFERENCE', \n",
    "    'IDV_SIGNED_DATE', 'PART8_OR_PART13', 'AWARD_FISCAL_YEAR', 'PRODUCT_OR_SERVICE_TYPE', \n",
    "    'TOTAL_ESTIMATED_ORDER_VALUE', 'FOR_PROFIT_ORGANIZATION', 'DOT_CERTIFIED_DISADV_BUS', 'SDB', \n",
    "    'CO_BUS_SIZE_DETERMINATION', 'PRINCIPAL_NAICS_CODE', 'PIID', 'FUNDING_OFFICE_NAME', 'PIID', \n",
    "    'IDV_PIID', 'FUNDING_DEPARTMENT_ID', 'CAGE_CODE', 'SOLICITATION_ID', 'AWARD_FISCAL_YEAR', \n",
    "    'VENDOR_ADDRESS_ZIP_CODE', 'TYPE_OF_SET_ASIDE', 'DATE_SIGNED', 'EVALUATED_PREFERENCE', \n",
    "    'NUMBER_OF_OFFERS_RECEIVED', 'IDV_NUMBER_OF_OFFERS', 'AWARD_OR_IDV', 'CO_BUS_SIZE_DETERMINATION', \n",
    "    'VENDOR_ADDRESS_COUNTRY_NAME', 'MODIFICATION_NUMBER', 'EXTENT_COMPETED', 'DOLLARS_OBLIGATED', \n",
    "    'PRINCIPAL_NAICS_CODE', 'CORP_ENTITY_NOT_TAX_EXEMPT', 'CORP_ENTITY_TAX_EXEMPT', \n",
    "    'LIMITED_LIABILITY_CORPORATION', 'PARTNERSHIP_OR_LLP', 'SOLE_PROPREITORSHIP', \n",
    "    'SMALL_AGRICULTURAL_COOPERATIVE', 'INTERNATIONAL_ORGANIZATION', 'ARCHITECTURE_AND_ENGINEERING', \n",
    "    'COMMUNITY_CORP_OWNED_FIRM', 'CONSTRUCTION_FIRM', 'DOMESTIC_SHELTER', 'FOUNDATION', \n",
    "    'MANUFACTURER_OF_GOODS', 'RESEARCH_AND_DEVELOPMENT', 'SERVICE_PROVIDER', 'VETERINARY_HOSPITAL', \n",
    "    'HISPANIC_SERVICING_INSTITUTION', 'FOR_PROFIT_ORGANIZATION', 'PLACE_OF_MANUFACTURE', \n",
    "    'VETERAN_OWNED_FLAG', 'SRDVOB_FLAG', 'WOMEN_OWNED_FLAG', 'ANNUAL_REVENUE', 'NUMBER_OF_EMPLOYEES'\n",
    "]\n",
    "\n",
    "# Eliminate duplicates by converting the list to a set, then back to a list\n",
    "cols = list(set(columns))\n"
   ]
  },
  {
   "cell_type": "code",
   "execution_count": 4,
   "id": "77655055-db26-4649-b3b3-9165f360fcb0",
   "metadata": {
    "tags": []
   },
   "outputs": [
    {
     "name": "stdout",
     "output_type": "stream",
     "text": [
      "CPU times: user 11.3 s, sys: 1.46 s, total: 12.7 s\n",
      "Wall time: 7.62 s\n"
     ]
    }
   ],
   "source": [
    "%%time\n",
    "df0 = pd.read_parquet('fy2023.parquet', columns=cols)"
   ]
  },
  {
   "cell_type": "code",
   "execution_count": 6,
   "id": "743cad97-7b59-4164-8d5d-07cc96a5928a",
   "metadata": {
    "tags": []
   },
   "outputs": [
    {
     "data": {
      "text/plain": [
       "(5988988, 59)"
      ]
     },
     "execution_count": 6,
     "metadata": {},
     "output_type": "execute_result"
    }
   ],
   "source": [
    "df0.shape"
   ]
  },
  {
   "cell_type": "code",
   "execution_count": 7,
   "id": "ff8f17b0-786f-4214-953d-45ee703bafb3",
   "metadata": {
    "tags": []
   },
   "outputs": [],
   "source": [
    "SAM = pd.read_csv('../../Documents/College/Capstone/SBA-Capstone/SAM.csv')"
   ]
  },
  {
   "cell_type": "code",
   "execution_count": 8,
   "id": "5aaf088f-a840-483c-a3e8-eb7cbd3b5e98",
   "metadata": {
    "tags": []
   },
   "outputs": [
    {
     "data": {
      "text/plain": [
       "(1194092, 15)"
      ]
     },
     "execution_count": 8,
     "metadata": {},
     "output_type": "execute_result"
    }
   ],
   "source": [
    "SAM.shape"
   ]
  },
  {
   "cell_type": "code",
   "execution_count": 34,
   "id": "353dac77-2354-411e-8cbe-3c865afe33ad",
   "metadata": {
    "tags": []
   },
   "outputs": [],
   "source": [
    "df = df0.copy()\n",
    "df = df[df['CO_BUS_SIZE_DETERMINATION'] == \"SMALL BUSINESS\"]\n",
    "df = df[df['VENDOR_ADDRESS_COUNTRY_NAME'] == \"UNITED STATES\"]\n",
    "df = df[df['EXTENT_COMPETED'].isin([\"A\", \"D\", \"E\", \"CDO\"])]\n",
    "df['FUNDING_DEPARTMENT_ID'] = df['FUNDING_DEPARTMENT_ID'].str.strip()\n",
    "df['IDV_PIID'] = df['IDV_PIID'].str.strip()\n",
    "df['PIID'] = df['PIID'].str.strip()\n",
    "df['DOLLARS_OBLIGATED'] = pd.to_numeric(df['DOLLARS_OBLIGATED'], errors='coerce')\n",
    "# m_2023 = pd.merge(df, SAM, on=\"CAGE_CODE\", how=\"inner\")\n",
    "idx = df.groupby(['SOLICITATION_ID','CAGE_CODE'])['DOLLARS_OBLIGATED'].idxmax()\n",
    "df = df.loc[idx]\n",
    "#df = df[df['DOLLARS_OBLIGATED'] > 0]"
   ]
  },
  {
   "cell_type": "code",
   "execution_count": 35,
   "id": "adbf96e9-646a-4a4e-b3ae-8cb7935eb480",
   "metadata": {
    "tags": []
   },
   "outputs": [
    {
     "data": {
      "text/plain": [
       "(79829, 59)"
      ]
     },
     "execution_count": 35,
     "metadata": {},
     "output_type": "execute_result"
    }
   ],
   "source": [
    "df.shape"
   ]
  },
  {
   "cell_type": "markdown",
   "id": "10e12180-32b7-4ec7-8fea-7847a527fd27",
   "metadata": {
    "jp-MarkdownHeadingCollapsed": true,
    "tags": []
   },
   "source": [
    "## Feature Engineering"
   ]
  },
  {
   "cell_type": "code",
   "execution_count": null,
   "id": "eed1de98-4e65-4e73-98df-02fdd6768fdf",
   "metadata": {
    "tags": []
   },
   "outputs": [],
   "source": [
    "df = df[df['ANNUAL_REVENUE'] < 100000000] #make less than 100,000,000\n",
    "df = df[df['NUMBER_OF_EMPLOYEES'] < 1000] #have less than 1,000 employees\n",
    "df.shape"
   ]
  },
  {
   "cell_type": "code",
   "execution_count": null,
   "id": "6ee5f230-7148-45ff-9fbc-a0df46bf964d",
   "metadata": {
    "tags": []
   },
   "outputs": [],
   "source": [
    "px.scatter(df, x='NUMBER_OF_EMPLOYEES', y='ANNUAL_REVENUE')"
   ]
  },
  {
   "cell_type": "markdown",
   "id": "c8428660-3a58-4be9-ac25-26fbff0c4688",
   "metadata": {},
   "source": [
    "## Model"
   ]
  },
  {
   "cell_type": "code",
   "execution_count": 36,
   "id": "3d91cbce-04ff-4381-8e9a-c0529fc32564",
   "metadata": {
    "tags": []
   },
   "outputs": [],
   "source": [
    "# PLACE_OF_MANUFACTURE\n",
    "# PLACE_OF_MANUFACTURE_CLASS\n",
    "# Make NaN into N/A\n",
    "df['PLACE_OF_MANUFACTURE'] = df['PLACE_OF_MANUFACTURE'].fillna('N/A')\n",
    "# create new  column \n",
    "# YES - made in US\n",
    "# NO - not made in US\n",
    "# NONE - Not selling a product \n",
    "\n",
    "def convert_place_of_manufacture(value):\n",
    "    if value == 'D':\n",
    "        return 'YES'\n",
    "    elif value == 'C':\n",
    "        return 'NO'\n",
    "    elif value in ['N/A', 'A', 'G', 'E', 'H', 'L', 'J', 'F', 'K', 'B', 'I']:\n",
    "        return 'NONE'\n",
    "    else:\n",
    "        return 'NONE'\n",
    "\n",
    "df['PLACE_OF_MANUFACTURE_CLASS'] = df['PLACE_OF_MANUFACTURE'].apply(convert_place_of_manufacture)\n"
   ]
  },
  {
   "cell_type": "code",
   "execution_count": 37,
   "id": "2ef976a6-7687-435a-89be-70d53ff3f881",
   "metadata": {
    "tags": []
   },
   "outputs": [],
   "source": [
    "# zip code was in long format, change to standard 5 digits \n",
    "df['VENDOR_ADDRESS_ZIP_CODE'] = df['VENDOR_ADDRESS_ZIP_CODE'].astype(str).str[:5]"
   ]
  },
  {
   "cell_type": "code",
   "execution_count": 38,
   "id": "9467f2f7-7845-419d-b6a7-ffbf625a7b45",
   "metadata": {
    "tags": []
   },
   "outputs": [],
   "source": [
    "# assume missing values (not that many) are NONE\n",
    "df['TYPE_OF_SET_ASIDE'] = df['TYPE_OF_SET_ASIDE'].fillna('NONE')"
   ]
  },
  {
   "cell_type": "code",
   "execution_count": 39,
   "id": "330c5d9a-76aa-4023-8d45-565d8ec9752a",
   "metadata": {
    "tags": []
   },
   "outputs": [],
   "source": [
    "df['EVALUATED_PREFERENCE'] = df['EVALUATED_PREFERENCE'].fillna('NONE')"
   ]
  },
  {
   "cell_type": "code",
   "execution_count": 40,
   "id": "f256bd47-4502-4d2e-843b-fd762232f6e1",
   "metadata": {
    "tags": []
   },
   "outputs": [],
   "source": [
    "df = df.dropna(subset=['CORP_ENTITY_NOT_TAX_EXEMPT'])"
   ]
  },
  {
   "cell_type": "code",
   "execution_count": 41,
   "id": "944b38b2-3679-48f8-aac9-1812a053b1cd",
   "metadata": {
    "tags": []
   },
   "outputs": [],
   "source": [
    "df = df.dropna(subset=['FUNDING_OFFICE_NAME'])"
   ]
  },
  {
   "cell_type": "code",
   "execution_count": 57,
   "id": "d3baba98-5946-4abe-a7c6-23133fcdb945",
   "metadata": {
    "tags": []
   },
   "outputs": [
    {
     "data": {
      "text/plain": [
       "(78846, 59)"
      ]
     },
     "execution_count": 57,
     "metadata": {},
     "output_type": "execute_result"
    }
   ],
   "source": [
    "final_df = df.drop('PLACE_OF_MANUFACTURE', axis=1)\n",
    "final_df.shape"
   ]
  },
  {
   "cell_type": "code",
   "execution_count": 58,
   "id": "e6edc467-c7e6-4956-a4e8-519f6d179379",
   "metadata": {
    "tags": []
   },
   "outputs": [
    {
     "data": {
      "text/plain": [
       "(77309, 59)"
      ]
     },
     "execution_count": 58,
     "metadata": {},
     "output_type": "execute_result"
    }
   ],
   "source": [
    "offices_bool = (final_df['FUNDING_OFFICE_NAME'].value_counts() > 1)\n",
    "offices = offices_bool[offices_bool].index\n",
    "final_df = final_df[final_df['FUNDING_OFFICE_NAME'].isin(offices)]\n",
    "final_df.shape"
   ]
  },
  {
   "cell_type": "code",
   "execution_count": 59,
   "id": "73f8d94e-d20b-461b-9214-6bff2b0bf6bf",
   "metadata": {
    "tags": []
   },
   "outputs": [],
   "source": [
    "# #final_df = final_df[final_df['DOLLARS_OBLIGATED']>10000]\n",
    "# final_df['DOLLARS_OBLIGATED'] = np.log(final_df['DOLLARS_OBLIGATED']) #change this to hyperbolic whatever tf terry said\n",
    "# final_df.shape"
   ]
  },
  {
   "cell_type": "code",
   "execution_count": 74,
   "id": "fc1ec807-5930-4669-8037-084cbf99e1af",
   "metadata": {
    "tags": []
   },
   "outputs": [
    {
     "data": {
      "text/plain": [
       "(77309, 59)"
      ]
     },
     "execution_count": 74,
     "metadata": {},
     "output_type": "execute_result"
    }
   ],
   "source": [
    "final_df_sample = final_df.sample(frac=1, random_state=67)\n",
    "final_df_sample.shape"
   ]
  },
  {
   "cell_type": "code",
   "execution_count": 75,
   "id": "1454393b-82aa-453d-9814-4cd1d4359fb4",
   "metadata": {
    "tags": []
   },
   "outputs": [],
   "source": [
    "final_df_sample['VENDOR_ADDRESS_ZIP_CODE'] = final_df_sample['VENDOR_ADDRESS_ZIP_CODE'].str[:1]\n",
    "final_df_sample['PRINCIPAL_NAICS_CODE'] = final_df_sample['PRINCIPAL_NAICS_CODE'].str[:2]"
   ]
  },
  {
   "cell_type": "code",
   "execution_count": 76,
   "id": "0394c070-0a01-4437-b024-849b4a4ceecf",
   "metadata": {
    "tags": []
   },
   "outputs": [],
   "source": [
    "from sklearn.preprocessing import StandardScaler\n",
    "Xy = final_df_sample[['FUNDING_OFFICE_NAME',\n",
    " 'EVALUATED_PREFERENCE',\n",
    " 'PLACE_OF_MANUFACTURE_CLASS', #instead of PLACE_OF_MANUFACTURE\n",
    " #'DOLLARS_OBLIGATED',\n",
    " 'EXTENT_COMPETED',\n",
    " 'TYPE_OF_SET_ASIDE',\n",
    " 'VENDOR_ADDRESS_ZIP_CODE',\n",
    " 'EDUCATIONAL_INSTITUTION_FLAG',\n",
    " 'FIRM_8A_FLAG',\n",
    " 'WOMEN_OWNED_FLAG',\n",
    " 'FIRM8A_JOINT_VENTURE',\n",
    " 'FEDERALLY_FUNDED_R_AND_D_CORP',\n",
    " 'CORP_ENTITY_NOT_TAX_EXEMPT',\n",
    " 'CORP_ENTITY_TAX_EXEMPT',\n",
    " 'PARTNERSHIP_OR_LLP',\n",
    " 'SOLE_PROPREITORSHIP',\n",
    " 'SMALL_AGRICULTURAL_COOPERATIVE',\n",
    " 'INTERNATIONAL_ORGANIZATION',\n",
    " 'ARCHITECTURE_AND_ENGINEERING',\n",
    " 'COMMUNITY_CORP_OWNED_FIRM',\n",
    " 'CONSTRUCTION_FIRM',\n",
    " 'DOMESTIC_SHELTER',\n",
    " 'FOUNDATION',\n",
    " 'MANUFACTURER_OF_GOODS',\n",
    " 'RESEARCH_AND_DEVELOPMENT',\n",
    " 'SERVICE_PROVIDER',\n",
    " 'VETERINARY_HOSPITAL',\n",
    " 'HISPANIC_SERVICING_INSTITUTION',\n",
    " 'LIMITED_LIABILITY_CORPORATION',\n",
    " 'PRODUCT_OR_SERVICE_TYPE',\n",
    " 'FOR_PROFIT_ORGANIZATION',\n",
    " 'DOT_CERTIFIED_DISADV_BUS',\n",
    " 'SDB',\n",
    " 'PRINCIPAL_NAICS_CODE',\n",
    "    'ANNUAL_REVENUE', 'NUMBER_OF_EMPLOYEES'\n",
    "]].dropna()\n",
    "X = Xy.drop('FUNDING_OFFICE_NAME', axis=1)\n",
    "\n",
    "scaler = StandardScaler()\n",
    "X['NUMBER_OF_EMPLOYEES'] = scaler.fit_transform(np.asarray(X['NUMBER_OF_EMPLOYEES']).reshape(-1, 1))\n",
    "scaler2 = StandardScaler()\n",
    "X['ANNUAL_REVENUE'] = scaler.fit_transform(np.asarray(X['ANNUAL_REVENUE']).reshape(-1, 1))"
   ]
  },
  {
   "cell_type": "code",
   "execution_count": 77,
   "id": "85b96f97-8fa8-4f2e-a9ca-30893f8eaee3",
   "metadata": {
    "tags": []
   },
   "outputs": [],
   "source": [
    "from sklearn.preprocessing import LabelEncoder, OneHotEncoder\n",
    "\n",
    "y = Xy['FUNDING_OFFICE_NAME']\n",
    "# enc = LabelEncoder()\n",
    "# y = enc.fit_transform(y)\n"
   ]
  },
  {
   "cell_type": "code",
   "execution_count": 78,
   "id": "409302bb-304d-4477-8f7e-798bb80a1eec",
   "metadata": {
    "tags": []
   },
   "outputs": [
    {
     "name": "stdout",
     "output_type": "stream",
     "text": [
      "Columns not pushed to zero by Lasso regression:\n",
      "Index(['ANNUAL_REVENUE', 'NUMBER_OF_EMPLOYEES',\n",
      "       'PLACE_OF_MANUFACTURE_CLASS_NONE', 'PLACE_OF_MANUFACTURE_CLASS_YES',\n",
      "       'EXTENT_COMPETED_A', 'EXTENT_COMPETED_D', 'TYPE_OF_SET_ASIDE_HZC',\n",
      "       'TYPE_OF_SET_ASIDE_ISBEE', 'TYPE_OF_SET_ASIDE_SBA',\n",
      "       'TYPE_OF_SET_ASIDE_SBP', 'TYPE_OF_SET_ASIDE_SDVOSBC',\n",
      "       'VENDOR_ADDRESS_ZIP_CODE_0', 'VENDOR_ADDRESS_ZIP_CODE_1',\n",
      "       'VENDOR_ADDRESS_ZIP_CODE_2', 'VENDOR_ADDRESS_ZIP_CODE_3',\n",
      "       'VENDOR_ADDRESS_ZIP_CODE_4', 'VENDOR_ADDRESS_ZIP_CODE_6',\n",
      "       'VENDOR_ADDRESS_ZIP_CODE_7', 'VENDOR_ADDRESS_ZIP_CODE_8',\n",
      "       'VENDOR_ADDRESS_ZIP_CODE_9', 'WOMEN_OWNED_FLAG_NO',\n",
      "       'MANUFACTURER_OF_GOODS_NO', 'MANUFACTURER_OF_GOODS_YES',\n",
      "       'LIMITED_LIABILITY_CORPORATION_NO', 'LIMITED_LIABILITY_CORPORATION_YES',\n",
      "       'PRODUCT_OR_SERVICE_TYPE_P', 'PRODUCT_OR_SERVICE_TYPE_S',\n",
      "       'FOR_PROFIT_ORGANIZATION_NO', 'FOR_PROFIT_ORGANIZATION_YES', 'SDB_NO',\n",
      "       'SDB_YES', 'PRINCIPAL_NAICS_CODE_11', 'PRINCIPAL_NAICS_CODE_23',\n",
      "       'PRINCIPAL_NAICS_CODE_31', 'PRINCIPAL_NAICS_CODE_33',\n",
      "       'PRINCIPAL_NAICS_CODE_48', 'PRINCIPAL_NAICS_CODE_54',\n",
      "       'PRINCIPAL_NAICS_CODE_56', 'PRINCIPAL_NAICS_CODE_62',\n",
      "       'PRINCIPAL_NAICS_CODE_81'],\n",
      "      dtype='object')\n"
     ]
    }
   ],
   "source": [
    "from sklearn.linear_model import Lasso\n",
    "from sklearn.preprocessing import LabelEncoder\n",
    "\n",
    "# # Initialize LabelEncoder\n",
    "# enc = LabelEncoder()\n",
    "\n",
    "# # Encode categorical columns individually\n",
    "# for col in X:\n",
    "#     X[col] = enc.fit_transform(X[col])\n",
    "\n",
    "# using OneHot\n",
    "X = pd.get_dummies(X, drop_first=False)\n",
    "enc = LabelEncoder()\n",
    "y = enc.fit_transform(y)\n",
    "\n",
    "\n",
    "# Initialize the Lasso model\n",
    "lasso = Lasso(alpha=0.9)  # You can adjust the alpha parameter as needed\n",
    "\n",
    "# Fit the Lasso model to your data\n",
    "lasso.fit(X, y)\n",
    "\n",
    "# Get the coefficients of the features\n",
    "coefficients = lasso.coef_\n",
    "\n",
    "# Find the indices of non-zero coefficients\n",
    "non_zero_indices = [i for i, coef in enumerate(coefficients) if coef != 0]\n",
    "\n",
    "# Get the column names corresponding to non-zero coefficients\n",
    "non_zero_columns = X.columns[non_zero_indices]\n",
    "\n",
    "# Print the column names that were not pushed to zero\n",
    "print(\"Columns not pushed to zero by Lasso regression:\")\n",
    "print(non_zero_columns)"
   ]
  },
  {
   "cell_type": "code",
   "execution_count": 79,
   "id": "e5eec226-de51-4192-9965-4c3ffe121d52",
   "metadata": {
    "tags": []
   },
   "outputs": [],
   "source": [
    "X_dum = pd.get_dummies(X, drop_first=True)\n",
    "xfinal = X_dum[['ANNUAL_REVENUE', 'NUMBER_OF_EMPLOYEES',\n",
    "       'PLACE_OF_MANUFACTURE_CLASS_NONE', 'PLACE_OF_MANUFACTURE_CLASS_YES',\n",
    "       'EXTENT_COMPETED_A', 'EXTENT_COMPETED_D', 'TYPE_OF_SET_ASIDE_HZC',\n",
    "       'TYPE_OF_SET_ASIDE_ISBEE', 'TYPE_OF_SET_ASIDE_SBA',\n",
    "       'TYPE_OF_SET_ASIDE_SBP', 'TYPE_OF_SET_ASIDE_SDVOSBC',\n",
    "       'VENDOR_ADDRESS_ZIP_CODE_0', 'VENDOR_ADDRESS_ZIP_CODE_1',\n",
    "       'VENDOR_ADDRESS_ZIP_CODE_2', 'VENDOR_ADDRESS_ZIP_CODE_3',\n",
    "       'VENDOR_ADDRESS_ZIP_CODE_4', 'VENDOR_ADDRESS_ZIP_CODE_6',\n",
    "       'VENDOR_ADDRESS_ZIP_CODE_7', 'VENDOR_ADDRESS_ZIP_CODE_8',\n",
    "       'VENDOR_ADDRESS_ZIP_CODE_9', 'WOMEN_OWNED_FLAG_NO',\n",
    "       'MANUFACTURER_OF_GOODS_NO', 'MANUFACTURER_OF_GOODS_YES',\n",
    "       'LIMITED_LIABILITY_CORPORATION_NO', 'LIMITED_LIABILITY_CORPORATION_YES',\n",
    "       'PRODUCT_OR_SERVICE_TYPE_P', 'PRODUCT_OR_SERVICE_TYPE_S',\n",
    "       'FOR_PROFIT_ORGANIZATION_NO', 'FOR_PROFIT_ORGANIZATION_YES', 'SDB_NO',\n",
    "       'SDB_YES', 'PRINCIPAL_NAICS_CODE_11', 'PRINCIPAL_NAICS_CODE_23',\n",
    "       'PRINCIPAL_NAICS_CODE_31', 'PRINCIPAL_NAICS_CODE_33',\n",
    "       'PRINCIPAL_NAICS_CODE_48', 'PRINCIPAL_NAICS_CODE_54',\n",
    "       'PRINCIPAL_NAICS_CODE_56', 'PRINCIPAL_NAICS_CODE_62',\n",
    "       'PRINCIPAL_NAICS_CODE_81']]\n",
    "\n",
    "# xfinal = X[['PLACE_OF_MANUFACTURE', 'DOLLARS_OBLIGATED', 'EXTENT_COMPETED',\n",
    "#        'TYPE_OF_SET_ASIDE', 'VENDOR_ADDRESS_ZIP_CODE', 'FIRM_8A_FLAG',\n",
    "#        'WOMEN_OWNED_FLAG', 'CORP_ENTITY_NOT_TAX_EXEMPT', 'PARTNERSHIP_OR_LLP',\n",
    "#        'MANUFACTURER_OF_GOODS', 'LIMITED_LIABILITY_CORPORATION',\n",
    "#        'IDV_EXTENT_COMPETED', 'IDV_EVALUATED_PREFERENCE', 'PART8_OR_PART13',\n",
    "#        'TOTAL_ESTIMATED_ORDER_VALUE', 'DOT_CERTIFIED_DISADV_BUS', 'SDB',\n",
    "#        'PRINCIPAL_NAICS_CODE', #'ANNUAL_REVENUE', 'NUMBER_OF_EMPLOYEES'\n",
    "#            ]]"
   ]
  },
  {
   "cell_type": "code",
   "execution_count": 80,
   "id": "f73c1f3a-1088-4f2d-bdbe-68d8a0a83e85",
   "metadata": {
    "tags": []
   },
   "outputs": [
    {
     "name": "stderr",
     "output_type": "stream",
     "text": [
      "/Users/silashayes/anaconda3/lib/python3.11/site-packages/sklearn/linear_model/_logistic.py:460: ConvergenceWarning: lbfgs failed to converge (status=1):\n",
      "STOP: TOTAL NO. of ITERATIONS REACHED LIMIT.\n",
      "\n",
      "Increase the number of iterations (max_iter) or scale the data as shown in:\n",
      "    https://scikit-learn.org/stable/modules/preprocessing.html\n",
      "Please also refer to the documentation for alternative solver options:\n",
      "    https://scikit-learn.org/stable/modules/linear_model.html#logistic-regression\n",
      "  n_iter_i = _check_optimize_result(\n"
     ]
    },
    {
     "name": "stdout",
     "output_type": "stream",
     "text": [
      "Accuracy: 0.42890027797081304\n",
      "CPU times: user 17min 3s, sys: 7min, total: 24min 3s\n",
      "Wall time: 5min 51s\n"
     ]
    }
   ],
   "source": [
    "%%time\n",
    "from sklearn.metrics import accuracy_score\n",
    "import numpy as np\n",
    "from sklearn.model_selection import train_test_split\n",
    "from sklearn.linear_model import LogisticRegression\n",
    "\n",
    "# Split the data into training and testing sets\n",
    "X_train, X_test, y_train, y_test = train_test_split(xfinal, y, train_size=0.7)\n",
    "\n",
    "# Initialize the Logistic Regression model with softmax activation\n",
    "log_reg = LogisticRegression(multi_class='multinomial', solver='lbfgs', max_iter=200)\n",
    "\n",
    "# Train the Logistic Regression model on the training data\n",
    "log_reg.fit(X_train, y_train)\n",
    "\n",
    "# Predict probabilities for the testing data\n",
    "probabilities = log_reg.predict_proba(X_test)\n",
    "\n",
    "# Get the top 3 predicted classes for each sample\n",
    "top_5_indices = np.argsort(probabilities, axis=1)[:, -5:]\n",
    "\n",
    "# Check if the true label is in the top 5 predicted classes for each sample\n",
    "predicted_labels = log_reg.classes_[top_5_indices]\n",
    "accurate_predictions = np.any(predicted_labels == y_test[:, np.newaxis], axis=1)\n",
    "\n",
    "# Calculate accuracy based on whether the true label is in the top 3 predicted classes\n",
    "accuracy = np.mean(accurate_predictions)\n",
    "print(\"Accuracy:\", accuracy)"
   ]
  },
  {
   "cell_type": "markdown",
   "id": "df14453b-c938-444a-9178-1854385c320d",
   "metadata": {},
   "source": [
    "**With Funding Office**\n",
    "\n",
    "43.29% top-5 accuracy"
   ]
  },
  {
   "cell_type": "markdown",
   "id": "34c394ee-9072-47a8-892c-94a67bf0fa28",
   "metadata": {},
   "source": [
    "**With Contracting Office**\n",
    "\n",
    "43.21% top-5 accuracy\n",
    "\n",
    "52.23% top-10 accuracy\n",
    "\n",
    "73.61% top-50 accuracy"
   ]
  }
 ],
 "metadata": {
  "kernelspec": {
   "display_name": "Python 3 (ipykernel)",
   "language": "python",
   "name": "python3"
  },
  "language_info": {
   "codemirror_mode": {
    "name": "ipython",
    "version": 3
   },
   "file_extension": ".py",
   "mimetype": "text/x-python",
   "name": "python",
   "nbconvert_exporter": "python",
   "pygments_lexer": "ipython3",
   "version": "3.11.4"
  }
 },
 "nbformat": 4,
 "nbformat_minor": 5
}
