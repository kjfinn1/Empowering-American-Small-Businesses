{
 "cells": [
  {
   "cell_type": "code",
   "execution_count": 1,
   "id": "17a51973-de41-49c0-927a-00c49a274bd5",
   "metadata": {},
   "outputs": [],
   "source": [
    "import pandas as pd\n",
    "import numpy as np"
   ]
  },
  {
   "cell_type": "code",
   "execution_count": 2,
   "id": "f77b3b9e-b108-478a-a520-02ebe3855ce7",
   "metadata": {},
   "outputs": [],
   "source": [
    "cols = ['AWARD_OR_IDV', 'AWARD_IDV_TYPE_DESCRIPTION', 'CLAIMANT_PROGRAM_CODE', 'CO_BUS_SIZE_DETERMINATION', \n",
    "        'CONTRACTING_AGENCY_ID', 'CONTRACTING_AGENCY_NAME', 'CONTRACTING_DEPARTMENT_ID',\n",
    "'CONTRACTING_DEPARTMENT_NAME', 'CONTRACTING_OFFICE_ID', 'CONTRACTING_OFFICE_NAME', 'REGION_CODE',\n",
    "'AWARD_COUNTRY_NAME', 'FUNDING_AGENCY_ID','FUNDING_AGENCY_NAME', 'FUNDING_OFFICE_ID','FUNDING_OFFICE_NAME', \n",
    "        'FUNDING_DEPARTMENT_ID', 'FUNDING_DEPARTMENT_NAME', 'PLACE_OF_PERFORM_STATE_CODE','POP_COUNTY_CODE', \n",
    "        'PLACE_OF_PERFORM_ZIP_CODE', 'PRINCIPAL_NAICS_CODE', 'PRINCIPAL_NAICS_DESCRIPTION', 'PIID', \n",
    "        'PRODUCT_OR_SERVICE_CODE', 'PRODUCT_OR_SERVICE_DESCRIPTION']"
   ]
  },
  {
   "cell_type": "code",
   "execution_count": 3,
   "id": "f986c8a0-727a-4fe4-9fcc-ce9864d06ebe",
   "metadata": {},
   "outputs": [
    {
     "name": "stdout",
     "output_type": "stream",
     "text": [
      "/Users/karolina/Desktop/SBA\n"
     ]
    }
   ],
   "source": [
    "cd /Users/karolina/Desktop/SBA"
   ]
  },
  {
   "cell_type": "code",
   "execution_count": 4,
   "id": "5d69ba7f-6168-4591-8230-469b31f30503",
   "metadata": {},
   "outputs": [],
   "source": [
    "test_2022 = pd.read_parquet('2022.parquet', engine='pyarrow',columns=cols)"
   ]
  },
  {
   "cell_type": "code",
   "execution_count": 6,
   "id": "4d941481-4792-47bc-867e-503063a5d141",
   "metadata": {},
   "outputs": [
    {
     "data": {
      "text/plain": [
       "AWARD_OR_IDV\n",
       "AWARD    5845398\n",
       "IDV       243056\n",
       "Name: count, dtype: int64"
      ]
     },
     "execution_count": 6,
     "metadata": {},
     "output_type": "execute_result"
    }
   ],
   "source": [
    "test_2022['AWARD_OR_IDV'].value_counts()"
   ]
  },
  {
   "cell_type": "code",
   "execution_count": 7,
   "id": "3d48ee13-bd5e-47f5-ac4c-c10fb85f4f55",
   "metadata": {},
   "outputs": [
    {
     "data": {
      "text/plain": [
       "AWARD_IDV_TYPE_DESCRIPTION\n",
       "DELIVERY ORDER         4032885\n",
       "BPA CALL                905787\n",
       "PURCHASE ORDER          741414\n",
       "DEFINITIVE CONTRACT     165312\n",
       "IDC                     106375\n",
       "FSS                     101279\n",
       "BPA                      26747\n",
       "GWAC                      5782\n",
       "BOA                       2873\n",
       "Name: count, dtype: int64"
      ]
     },
     "execution_count": 7,
     "metadata": {},
     "output_type": "execute_result"
    }
   ],
   "source": [
    "test_2022['AWARD_IDV_TYPE_DESCRIPTION'].value_counts()"
   ]
  },
  {
   "cell_type": "code",
   "execution_count": 8,
   "id": "3b8f38df-2d41-4dc3-9cac-aa136e403366",
   "metadata": {},
   "outputs": [
    {
     "data": {
      "text/plain": [
       "CO_BUS_SIZE_DETERMINATION\n",
       "SMALL BUSINESS               3167065\n",
       "OTHER THAN SMALL BUSINESS    2921380\n",
       "Name: count, dtype: int64"
      ]
     },
     "execution_count": 8,
     "metadata": {},
     "output_type": "execute_result"
    }
   ],
   "source": [
    "test_2022['CO_BUS_SIZE_DETERMINATION'].value_counts()"
   ]
  },
  {
   "cell_type": "code",
   "execution_count": 12,
   "id": "4eee05cb-1141-4f3e-b247-b09555ac5e3d",
   "metadata": {},
   "outputs": [
    {
     "data": {
      "text/plain": [
       "5326512"
      ]
     },
     "execution_count": 12,
     "metadata": {},
     "output_type": "execute_result"
    }
   ],
   "source": [
    "test_2022['PIID'].nunique()"
   ]
  },
  {
   "cell_type": "code",
   "execution_count": 22,
   "id": "a644e77a-1d67-4c64-b4cb-6f4b4585e56b",
   "metadata": {},
   "outputs": [
    {
     "data": {
      "text/plain": [
       "AWARD_OR_IDV                            0\n",
       "AWARD_IDV_TYPE_DESCRIPTION              0\n",
       "CLAIMANT_PROGRAM_CODE             1960470\n",
       "CO_BUS_SIZE_DETERMINATION               9\n",
       "CONTRACTING_AGENCY_ID                   0\n",
       "CONTRACTING_AGENCY_NAME                 0\n",
       "CONTRACTING_DEPARTMENT_ID               0\n",
       "CONTRACTING_DEPARTMENT_NAME             0\n",
       "CONTRACTING_OFFICE_ID                   0\n",
       "CONTRACTING_OFFICE_NAME                 0\n",
       "REGION_CODE                             0\n",
       "AWARD_COUNTRY_NAME                    728\n",
       "FUNDING_AGENCY_ID                       0\n",
       "FUNDING_AGENCY_NAME                     0\n",
       "FUNDING_OFFICE_ID                       0\n",
       "FUNDING_OFFICE_NAME                 14612\n",
       "FUNDING_DEPARTMENT_ID                   0\n",
       "FUNDING_DEPARTMENT_NAME                 0\n",
       "PLACE_OF_PERFORM_STATE_CODE        309677\n",
       "POP_COUNTY_CODE                    309677\n",
       "PLACE_OF_PERFORM_ZIP_CODE          300704\n",
       "PRINCIPAL_NAICS_CODE                  253\n",
       "PRINCIPAL_NAICS_DESCRIPTION          7800\n",
       "PIID                                    0\n",
       "PRODUCT_OR_SERVICE_CODE                46\n",
       "PRODUCT_OR_SERVICE_DESCRIPTION        368\n",
       "dtype: int64"
      ]
     },
     "execution_count": 22,
     "metadata": {},
     "output_type": "execute_result"
    }
   ],
   "source": [
    "test_2022.isna().sum()"
   ]
  },
  {
   "cell_type": "markdown",
   "id": "68cfb265-cc86-42ad-8db6-d59c77e98219",
   "metadata": {},
   "source": [
    "## Final"
   ]
  },
  {
   "cell_type": "code",
   "execution_count": null,
   "id": "66517ca2-ceb0-4afd-a9f9-079b9ae73faf",
   "metadata": {},
   "outputs": [],
   "source": [
    "cols = ['AWARD_OR_IDV','CO_BUS_SIZE_DETERMINATION','PRINCIPAL_NAICS_CODE','PRODUCT_OR_SERVICE_CODE']"
   ]
  },
  {
   "cell_type": "markdown",
   "id": "ce356cd3-dbad-4160-bfac-ebffd355365a",
   "metadata": {},
   "source": [
    "1. **AWARD_OR_IDV** "
   ]
  },
  {
   "cell_type": "code",
   "execution_count": 13,
   "id": "a7942729-3df6-4ef6-8095-9f8f7560c5ec",
   "metadata": {},
   "outputs": [
    {
     "data": {
      "text/plain": [
       "AWARD_OR_IDV\n",
       "AWARD    5845398\n",
       "IDV       243056\n",
       "Name: count, dtype: int64"
      ]
     },
     "execution_count": 13,
     "metadata": {},
     "output_type": "execute_result"
    }
   ],
   "source": [
    "test_2022['AWARD_OR_IDV'].value_counts()"
   ]
  },
  {
   "cell_type": "markdown",
   "id": "1ae83a08-2023-4071-a428-c90e530c3e71",
   "metadata": {},
   "source": [
    "2. **CO_BUS_SIZE_DETERMINATION**"
   ]
  },
  {
   "cell_type": "code",
   "execution_count": 14,
   "id": "d509c88b-648d-4efc-8b1c-6278ff2b5934",
   "metadata": {},
   "outputs": [
    {
     "data": {
      "text/plain": [
       "CO_BUS_SIZE_DETERMINATION\n",
       "SMALL BUSINESS               3167065\n",
       "OTHER THAN SMALL BUSINESS    2921380\n",
       "Name: count, dtype: int64"
      ]
     },
     "execution_count": 14,
     "metadata": {},
     "output_type": "execute_result"
    }
   ],
   "source": [
    "test_2022['CO_BUS_SIZE_DETERMINATION'].value_counts()"
   ]
  },
  {
   "cell_type": "markdown",
   "id": "f48b814c-66df-421b-ab1d-3e383032a1fd",
   "metadata": {},
   "source": [
    "3. **PRINCIPAL_NAICS_CODE** + (PRINCIPAL_NAICS_DESCRIPTION)"
   ]
  },
  {
   "cell_type": "code",
   "execution_count": 16,
   "id": "5d9bc5bc-279d-4685-a37f-3fd8a46400ac",
   "metadata": {},
   "outputs": [
    {
     "data": {
      "text/plain": [
       "253"
      ]
     },
     "execution_count": 16,
     "metadata": {},
     "output_type": "execute_result"
    }
   ],
   "source": [
    "test_2022['PRINCIPAL_NAICS_CODE'].isna().sum()"
   ]
  },
  {
   "cell_type": "code",
   "execution_count": 17,
   "id": "5477cb79-51ea-425e-9aa5-2e2679ab4d0b",
   "metadata": {},
   "outputs": [
    {
     "data": {
      "text/plain": [
       "7800"
      ]
     },
     "execution_count": 17,
     "metadata": {},
     "output_type": "execute_result"
    }
   ],
   "source": [
    "test_2022['PRINCIPAL_NAICS_DESCRIPTION'].isna().sum()"
   ]
  },
  {
   "cell_type": "markdown",
   "id": "0c3e32c3-df9a-4a66-be24-8c8d589b4e65",
   "metadata": {},
   "source": [
    "4. **PRODUCT_OR_SERVICE_CODE** + (PRODUCT_OR_SERVICE_DESCRIPTION)"
   ]
  },
  {
   "cell_type": "code",
   "execution_count": 18,
   "id": "c2f74347-21c8-45de-beed-065c72e70c19",
   "metadata": {},
   "outputs": [
    {
     "data": {
      "text/plain": [
       "46"
      ]
     },
     "execution_count": 18,
     "metadata": {},
     "output_type": "execute_result"
    }
   ],
   "source": [
    "test_2022['PRODUCT_OR_SERVICE_CODE'].isna().sum()"
   ]
  },
  {
   "cell_type": "code",
   "execution_count": 19,
   "id": "05234d13-15aa-45c3-805b-f05c439bc35d",
   "metadata": {},
   "outputs": [
    {
     "data": {
      "text/plain": [
       "368"
      ]
     },
     "execution_count": 19,
     "metadata": {},
     "output_type": "execute_result"
    }
   ],
   "source": [
    "test_2022['PRODUCT_OR_SERVICE_DESCRIPTION'].isna().sum()"
   ]
  },
  {
   "cell_type": "markdown",
   "id": "698d9fc1-73df-477d-9794-149098ed2303",
   "metadata": {},
   "source": [
    "## Unique ID for contract"
   ]
  },
  {
   "cell_type": "markdown",
   "id": "fc110bdf-37fa-4eac-9a3c-5d974cfa3518",
   "metadata": {},
   "source": [
    "### Funding Department ID + IDV PIID + PIID concatenated should give unique ID for a contract (null IDV PIID + PIID gives the non-IDV contracts)\n"
   ]
  },
  {
   "cell_type": "markdown",
   "id": "6129a5c1-0dbe-4f1b-bc57-fd9d88a3bf8c",
   "metadata": {},
   "source": [
    "### Modification=0 is a new contract"
   ]
  },
  {
   "cell_type": "code",
   "execution_count": 23,
   "id": "cab77d6f-4741-406d-91fe-b67326f29081",
   "metadata": {},
   "outputs": [],
   "source": [
    "cols = ['FUNDING_DEPARTMENT_ID','PIID','IDV_PIID','MODIFICATION_NUMBER']"
   ]
  },
  {
   "cell_type": "code",
   "execution_count": 24,
   "id": "7aee21c0-33d2-4d83-b4b7-655c6de00598",
   "metadata": {},
   "outputs": [],
   "source": [
    "test_2022 = pd.read_parquet('2022.parquet', engine='pyarrow',columns=cols)"
   ]
  },
  {
   "cell_type": "code",
   "execution_count": 25,
   "id": "77350107-a659-4033-bbd1-f20eccf73bd1",
   "metadata": {},
   "outputs": [
    {
     "data": {
      "text/html": [
       "<div>\n",
       "<style scoped>\n",
       "    .dataframe tbody tr th:only-of-type {\n",
       "        vertical-align: middle;\n",
       "    }\n",
       "\n",
       "    .dataframe tbody tr th {\n",
       "        vertical-align: top;\n",
       "    }\n",
       "\n",
       "    .dataframe thead th {\n",
       "        text-align: right;\n",
       "    }\n",
       "</style>\n",
       "<table border=\"1\" class=\"dataframe\">\n",
       "  <thead>\n",
       "    <tr style=\"text-align: right;\">\n",
       "      <th></th>\n",
       "      <th>FUNDING_DEPARTMENT_ID</th>\n",
       "      <th>PIID</th>\n",
       "      <th>IDV_PIID</th>\n",
       "      <th>MODIFICATION_NUMBER</th>\n",
       "    </tr>\n",
       "  </thead>\n",
       "  <tbody>\n",
       "    <tr>\n",
       "      <th>0</th>\n",
       "      <td>9700</td>\n",
       "      <td>SPE60722FEULE</td>\n",
       "      <td>SPE60719D0066</td>\n",
       "      <td>0</td>\n",
       "    </tr>\n",
       "    <tr>\n",
       "      <th>1</th>\n",
       "      <td>9700</td>\n",
       "      <td>SPE60722FD92Y</td>\n",
       "      <td>SPE60718D0014</td>\n",
       "      <td>0</td>\n",
       "    </tr>\n",
       "    <tr>\n",
       "      <th>2</th>\n",
       "      <td>9700</td>\n",
       "      <td>SPE30022F30FU</td>\n",
       "      <td>SPE30020DV374</td>\n",
       "      <td>0</td>\n",
       "    </tr>\n",
       "    <tr>\n",
       "      <th>3</th>\n",
       "      <td>9700</td>\n",
       "      <td>SPE60722FBG33</td>\n",
       "      <td>SPE60719D0066</td>\n",
       "      <td>0</td>\n",
       "    </tr>\n",
       "    <tr>\n",
       "      <th>4</th>\n",
       "      <td>9700</td>\n",
       "      <td>SPE60722FC1X4</td>\n",
       "      <td>SPE60719D0121</td>\n",
       "      <td>0</td>\n",
       "    </tr>\n",
       "    <tr>\n",
       "      <th>...</th>\n",
       "      <td>...</td>\n",
       "      <td>...</td>\n",
       "      <td>...</td>\n",
       "      <td>...</td>\n",
       "    </tr>\n",
       "    <tr>\n",
       "      <th>6088449</th>\n",
       "      <td>9700</td>\n",
       "      <td>SP450022F4699</td>\n",
       "      <td>SP450022D0008</td>\n",
       "      <td>P00004</td>\n",
       "    </tr>\n",
       "    <tr>\n",
       "      <th>6088450</th>\n",
       "      <td>9700</td>\n",
       "      <td>W9126015C0001</td>\n",
       "      <td>None</td>\n",
       "      <td>P00111</td>\n",
       "    </tr>\n",
       "    <tr>\n",
       "      <th>6088451</th>\n",
       "      <td>4700</td>\n",
       "      <td>47QSEA22FA07M</td>\n",
       "      <td>47QSEA20A000C</td>\n",
       "      <td>0</td>\n",
       "    </tr>\n",
       "    <tr>\n",
       "      <th>6088452</th>\n",
       "      <td>7000</td>\n",
       "      <td>70Z03822FR0000206</td>\n",
       "      <td>70Z03819DJ0000002</td>\n",
       "      <td>0</td>\n",
       "    </tr>\n",
       "    <tr>\n",
       "      <th>6088453</th>\n",
       "      <td>9543</td>\n",
       "      <td>95332418C0224</td>\n",
       "      <td>None</td>\n",
       "      <td>P00008</td>\n",
       "    </tr>\n",
       "  </tbody>\n",
       "</table>\n",
       "<p>6088454 rows × 4 columns</p>\n",
       "</div>"
      ],
      "text/plain": [
       "        FUNDING_DEPARTMENT_ID               PIID           IDV_PIID  \\\n",
       "0                  9700            SPE60722FEULE      SPE60719D0066   \n",
       "1                  9700            SPE60722FD92Y      SPE60718D0014   \n",
       "2                  9700            SPE30022F30FU      SPE30020DV374   \n",
       "3                  9700            SPE60722FBG33      SPE60719D0066   \n",
       "4                  9700            SPE60722FC1X4      SPE60719D0121   \n",
       "...                       ...                ...                ...   \n",
       "6088449            9700            SP450022F4699      SP450022D0008   \n",
       "6088450            9700            W9126015C0001               None   \n",
       "6088451            4700            47QSEA22FA07M      47QSEA20A000C   \n",
       "6088452            7000        70Z03822FR0000206  70Z03819DJ0000002   \n",
       "6088453            9543            95332418C0224               None   \n",
       "\n",
       "        MODIFICATION_NUMBER  \n",
       "0                         0  \n",
       "1                         0  \n",
       "2                         0  \n",
       "3                         0  \n",
       "4                         0  \n",
       "...                     ...  \n",
       "6088449              P00004  \n",
       "6088450              P00111  \n",
       "6088451                   0  \n",
       "6088452                   0  \n",
       "6088453              P00008  \n",
       "\n",
       "[6088454 rows x 4 columns]"
      ]
     },
     "execution_count": 25,
     "metadata": {},
     "output_type": "execute_result"
    }
   ],
   "source": [
    "test_2022"
   ]
  },
  {
   "cell_type": "code",
   "execution_count": 26,
   "id": "39b0d809-87bb-41d3-808d-22c2b8e7c5c4",
   "metadata": {},
   "outputs": [
    {
     "data": {
      "text/plain": [
       "0"
      ]
     },
     "execution_count": 26,
     "metadata": {},
     "output_type": "execute_result"
    }
   ],
   "source": [
    "test_2022['FUNDING_DEPARTMENT_ID'].isna().sum()"
   ]
  },
  {
   "cell_type": "code",
   "execution_count": 27,
   "id": "ee134cf9-2075-4555-9b07-8f902faed559",
   "metadata": {},
   "outputs": [
    {
     "data": {
      "text/plain": [
       "0"
      ]
     },
     "execution_count": 27,
     "metadata": {},
     "output_type": "execute_result"
    }
   ],
   "source": [
    "test_2022['PIID'].isna().sum()"
   ]
  },
  {
   "cell_type": "markdown",
   "id": "89590357-b2a0-4fbc-9e6e-13efa54e2ead",
   "metadata": {},
   "source": [
    "### null IDV PIID + PIID gives the non-IDV contracts"
   ]
  },
  {
   "cell_type": "code",
   "execution_count": 28,
   "id": "9530f1c3-7f20-4867-a975-133714b6a0c9",
   "metadata": {},
   "outputs": [
    {
     "data": {
      "text/plain": [
       "1142067"
      ]
     },
     "execution_count": 28,
     "metadata": {},
     "output_type": "execute_result"
    }
   ],
   "source": [
    "test_2022['IDV_PIID'].isna().sum()"
   ]
  },
  {
   "cell_type": "code",
   "execution_count": 30,
   "id": "ad52f3ad-d0ee-48bd-90ef-dd7d4e99b1f4",
   "metadata": {},
   "outputs": [
    {
     "data": {
      "text/plain": [
       "0"
      ]
     },
     "execution_count": 30,
     "metadata": {},
     "output_type": "execute_result"
    }
   ],
   "source": [
    "test_2022['MODIFICATION_NUMBER'].isna().sum()"
   ]
  },
  {
   "cell_type": "code",
   "execution_count": null,
   "id": "3bc901ee-c779-4d7f-8114-e7389cd0d086",
   "metadata": {},
   "outputs": [],
   "source": []
  }
 ],
 "metadata": {
  "kernelspec": {
   "display_name": "Python 3 (ipykernel)",
   "language": "python",
   "name": "python3"
  },
  "language_info": {
   "codemirror_mode": {
    "name": "ipython",
    "version": 3
   },
   "file_extension": ".py",
   "mimetype": "text/x-python",
   "name": "python",
   "nbconvert_exporter": "python",
   "pygments_lexer": "ipython3",
   "version": "3.11.4"
  }
 },
 "nbformat": 4,
 "nbformat_minor": 5
}
