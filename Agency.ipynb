{
 "cells": [
  {
   "cell_type": "code",
   "execution_count": 2,
   "id": "baff46f5-694c-496a-9c76-c6c3781f16c6",
   "metadata": {},
   "outputs": [],
   "source": [
    "import pandas as pd\n",
    "import numpy as np"
   ]
  },
  {
   "cell_type": "code",
   "execution_count": 39,
   "id": "6f3c80eb-9372-4bdc-817e-fa2b13e100c6",
   "metadata": {},
   "outputs": [],
   "source": [
    "cols = [ 'CONTRACTING_AGENCY_ID', \n",
    "        'CONTRACTING_AGENCY_NAME', \n",
    "        'FUNDING_AGENCY_ID',\n",
    "        'FUNDING_AGENCY_NAME',\n",
    "        'AGENCY_CODE',\n",
    "        'PIID_AGENCY_NAME',\n",
    "        'ORIGINAL_AGENCY_CODE',\n",
    "        'REFERENCE_AGENCY_CODE',\n",
    "        'FEDERAL_AGENCY',\n",
    "        'AGENCY',\n",
    "        'AGENCY_IDENTIFIER',\n",
    "        'IDV_CONTRACTING_AGENCY_ID',\n",
    "        'IDV_CONTRACTING_AGENCY_NAME',\n",
    "        'IDV_REF_IDV_AGENCY_CODE',\n",
    "        'CLOSED_BY']"
   ]
  },
  {
   "cell_type": "code",
   "execution_count": 3,
   "id": "68e5c7c8-5850-4085-9abd-bf39ef84c824",
   "metadata": {},
   "outputs": [
    {
     "name": "stdout",
     "output_type": "stream",
     "text": [
      "/Users/karolina/Desktop/SBA\n"
     ]
    }
   ],
   "source": [
    "cd /Users/karolina/Desktop/SBA"
   ]
  },
  {
   "cell_type": "code",
   "execution_count": 40,
   "id": "6f77e969-61ff-4ce8-b07e-0b852dc371b1",
   "metadata": {},
   "outputs": [],
   "source": [
    "test_2022 = pd.read_parquet('2022.parquet', engine='pyarrow',columns=cols)"
   ]
  },
  {
   "cell_type": "code",
   "execution_count": 5,
   "id": "d8c3da6f-844c-4d5c-9237-50ffe69537b7",
   "metadata": {},
   "outputs": [
    {
     "data": {
      "text/html": [
       "<div>\n",
       "<style scoped>\n",
       "    .dataframe tbody tr th:only-of-type {\n",
       "        vertical-align: middle;\n",
       "    }\n",
       "\n",
       "    .dataframe tbody tr th {\n",
       "        vertical-align: top;\n",
       "    }\n",
       "\n",
       "    .dataframe thead th {\n",
       "        text-align: right;\n",
       "    }\n",
       "</style>\n",
       "<table border=\"1\" class=\"dataframe\">\n",
       "  <thead>\n",
       "    <tr style=\"text-align: right;\">\n",
       "      <th></th>\n",
       "      <th>CONTRACTING_AGENCY_ID</th>\n",
       "      <th>CONTRACTING_AGENCY_NAME</th>\n",
       "      <th>FUNDING_AGENCY_ID</th>\n",
       "      <th>FUNDING_AGENCY_NAME</th>\n",
       "      <th>AGENCY_CODE</th>\n",
       "      <th>PIID_AGENCY_NAME</th>\n",
       "      <th>ORIGINAL_AGENCY_CODE</th>\n",
       "      <th>REFERENCE_AGENCY_CODE</th>\n",
       "      <th>FEDERAL_AGENCY</th>\n",
       "      <th>AGENCY</th>\n",
       "      <th>AGENCY_IDENTIFIER</th>\n",
       "      <th>IDV_CONTRACTING_AGENCY_ID</th>\n",
       "      <th>IDV_CONTRACTING_AGENCY_NAME</th>\n",
       "      <th>IDV_REF_IDV_AGENCY_CODE</th>\n",
       "      <th>CLOSED_BY</th>\n",
       "    </tr>\n",
       "  </thead>\n",
       "  <tbody>\n",
       "    <tr>\n",
       "      <th>0</th>\n",
       "      <td>97AS</td>\n",
       "      <td>DEFENSE LOGISTICS AGENCY</td>\n",
       "      <td>97AS</td>\n",
       "      <td>DEFENSE LOGISTICS AGENCY</td>\n",
       "      <td>9700</td>\n",
       "      <td>DEPT OF DEFENSE</td>\n",
       "      <td>None</td>\n",
       "      <td>9700</td>\n",
       "      <td>NO</td>\n",
       "      <td>ORG-2116</td>\n",
       "      <td>None</td>\n",
       "      <td>97AS</td>\n",
       "      <td>DEFENSE LOGISTICS AGENCY</td>\n",
       "      <td>None</td>\n",
       "      <td>DOD_CLOSEOUT</td>\n",
       "    </tr>\n",
       "    <tr>\n",
       "      <th>1</th>\n",
       "      <td>97AS</td>\n",
       "      <td>DEFENSE LOGISTICS AGENCY</td>\n",
       "      <td>97AS</td>\n",
       "      <td>DEFENSE LOGISTICS AGENCY</td>\n",
       "      <td>9700</td>\n",
       "      <td>DEPT OF DEFENSE</td>\n",
       "      <td>None</td>\n",
       "      <td>9700</td>\n",
       "      <td>NO</td>\n",
       "      <td>ORG-2116</td>\n",
       "      <td>None</td>\n",
       "      <td>97AS</td>\n",
       "      <td>DEFENSE LOGISTICS AGENCY</td>\n",
       "      <td>None</td>\n",
       "      <td>None</td>\n",
       "    </tr>\n",
       "    <tr>\n",
       "      <th>2</th>\n",
       "      <td>97AS</td>\n",
       "      <td>DEFENSE LOGISTICS AGENCY</td>\n",
       "      <td>97AS</td>\n",
       "      <td>DEFENSE LOGISTICS AGENCY</td>\n",
       "      <td>9700</td>\n",
       "      <td>DEPT OF DEFENSE</td>\n",
       "      <td>None</td>\n",
       "      <td>9700</td>\n",
       "      <td>NO</td>\n",
       "      <td>ORG-2116</td>\n",
       "      <td>None</td>\n",
       "      <td>97AS</td>\n",
       "      <td>DEFENSE LOGISTICS AGENCY</td>\n",
       "      <td>None</td>\n",
       "      <td>DOD_CLOSEOUT</td>\n",
       "    </tr>\n",
       "    <tr>\n",
       "      <th>3</th>\n",
       "      <td>97AS</td>\n",
       "      <td>DEFENSE LOGISTICS AGENCY</td>\n",
       "      <td>97AS</td>\n",
       "      <td>DEFENSE LOGISTICS AGENCY</td>\n",
       "      <td>9700</td>\n",
       "      <td>DEPT OF DEFENSE</td>\n",
       "      <td>None</td>\n",
       "      <td>9700</td>\n",
       "      <td>NO</td>\n",
       "      <td>ORG-2116</td>\n",
       "      <td>None</td>\n",
       "      <td>97AS</td>\n",
       "      <td>DEFENSE LOGISTICS AGENCY</td>\n",
       "      <td>None</td>\n",
       "      <td>DOD_CLOSEOUT</td>\n",
       "    </tr>\n",
       "    <tr>\n",
       "      <th>4</th>\n",
       "      <td>97AS</td>\n",
       "      <td>DEFENSE LOGISTICS AGENCY</td>\n",
       "      <td>97AS</td>\n",
       "      <td>DEFENSE LOGISTICS AGENCY</td>\n",
       "      <td>9700</td>\n",
       "      <td>DEPT OF DEFENSE</td>\n",
       "      <td>None</td>\n",
       "      <td>9700</td>\n",
       "      <td>NO</td>\n",
       "      <td>ORG-2116</td>\n",
       "      <td>None</td>\n",
       "      <td>97AS</td>\n",
       "      <td>DEFENSE LOGISTICS AGENCY</td>\n",
       "      <td>None</td>\n",
       "      <td>DOD_CLOSEOUT</td>\n",
       "    </tr>\n",
       "    <tr>\n",
       "      <th>...</th>\n",
       "      <td>...</td>\n",
       "      <td>...</td>\n",
       "      <td>...</td>\n",
       "      <td>...</td>\n",
       "      <td>...</td>\n",
       "      <td>...</td>\n",
       "      <td>...</td>\n",
       "      <td>...</td>\n",
       "      <td>...</td>\n",
       "      <td>...</td>\n",
       "      <td>...</td>\n",
       "      <td>...</td>\n",
       "      <td>...</td>\n",
       "      <td>...</td>\n",
       "      <td>...</td>\n",
       "    </tr>\n",
       "    <tr>\n",
       "      <th>6088449</th>\n",
       "      <td>97AS</td>\n",
       "      <td>DEFENSE LOGISTICS AGENCY</td>\n",
       "      <td>97AS</td>\n",
       "      <td>DEFENSE LOGISTICS AGENCY</td>\n",
       "      <td>9700</td>\n",
       "      <td>DEPT OF DEFENSE</td>\n",
       "      <td>None</td>\n",
       "      <td>9700</td>\n",
       "      <td>NO</td>\n",
       "      <td>ORG-2116</td>\n",
       "      <td>None</td>\n",
       "      <td>97AS</td>\n",
       "      <td>DEFENSE LOGISTICS AGENCY</td>\n",
       "      <td>None</td>\n",
       "      <td>None</td>\n",
       "    </tr>\n",
       "    <tr>\n",
       "      <th>6088450</th>\n",
       "      <td>2100</td>\n",
       "      <td>DEPT OF THE ARMY</td>\n",
       "      <td>2100</td>\n",
       "      <td>DEPT OF THE ARMY</td>\n",
       "      <td>9700</td>\n",
       "      <td>DEPT OF DEFENSE</td>\n",
       "      <td>None</td>\n",
       "      <td>None</td>\n",
       "      <td>NO</td>\n",
       "      <td>ORG-2398</td>\n",
       "      <td>21</td>\n",
       "      <td>None</td>\n",
       "      <td>None</td>\n",
       "      <td>None</td>\n",
       "      <td>None</td>\n",
       "    </tr>\n",
       "    <tr>\n",
       "      <th>6088451</th>\n",
       "      <td>4732</td>\n",
       "      <td>FEDERAL ACQUISITION SERVICE</td>\n",
       "      <td>4732</td>\n",
       "      <td>FEDERAL ACQUISITION SERVICE</td>\n",
       "      <td>4732</td>\n",
       "      <td>FEDERAL ACQUISITION SERVICE</td>\n",
       "      <td>None</td>\n",
       "      <td>4732</td>\n",
       "      <td>NO</td>\n",
       "      <td>ORG-4530</td>\n",
       "      <td>None</td>\n",
       "      <td>4732</td>\n",
       "      <td>FEDERAL ACQUISITION SERVICE</td>\n",
       "      <td>4732</td>\n",
       "      <td>None</td>\n",
       "    </tr>\n",
       "    <tr>\n",
       "      <th>6088452</th>\n",
       "      <td>7008</td>\n",
       "      <td>U.S. COAST GUARD</td>\n",
       "      <td>7008</td>\n",
       "      <td>U.S. COAST GUARD</td>\n",
       "      <td>7008</td>\n",
       "      <td>U.S. COAST GUARD</td>\n",
       "      <td>None</td>\n",
       "      <td>7008</td>\n",
       "      <td>NO</td>\n",
       "      <td>ORG-2367</td>\n",
       "      <td>None</td>\n",
       "      <td>7008</td>\n",
       "      <td>U.S. COAST GUARD</td>\n",
       "      <td>None</td>\n",
       "      <td>None</td>\n",
       "    </tr>\n",
       "    <tr>\n",
       "      <th>6088453</th>\n",
       "      <td>9543</td>\n",
       "      <td>MILLENNIUM CHALLENGE CORPORATION</td>\n",
       "      <td>9543</td>\n",
       "      <td>MILLENNIUM CHALLENGE CORPORATION</td>\n",
       "      <td>9543</td>\n",
       "      <td>MILLENNIUM CHALLENGE CORPORATION</td>\n",
       "      <td>None</td>\n",
       "      <td>None</td>\n",
       "      <td>NO</td>\n",
       "      <td>ORG-1412</td>\n",
       "      <td>95</td>\n",
       "      <td>None</td>\n",
       "      <td>None</td>\n",
       "      <td>None</td>\n",
       "      <td>None</td>\n",
       "    </tr>\n",
       "  </tbody>\n",
       "</table>\n",
       "<p>6088454 rows × 15 columns</p>\n",
       "</div>"
      ],
      "text/plain": [
       "        CONTRACTING_AGENCY_ID           CONTRACTING_AGENCY_NAME  \\\n",
       "0                        97AS          DEFENSE LOGISTICS AGENCY   \n",
       "1                        97AS          DEFENSE LOGISTICS AGENCY   \n",
       "2                        97AS          DEFENSE LOGISTICS AGENCY   \n",
       "3                        97AS          DEFENSE LOGISTICS AGENCY   \n",
       "4                        97AS          DEFENSE LOGISTICS AGENCY   \n",
       "...                       ...                               ...   \n",
       "6088449                  97AS          DEFENSE LOGISTICS AGENCY   \n",
       "6088450                  2100                  DEPT OF THE ARMY   \n",
       "6088451                  4732       FEDERAL ACQUISITION SERVICE   \n",
       "6088452                  7008                  U.S. COAST GUARD   \n",
       "6088453                  9543  MILLENNIUM CHALLENGE CORPORATION   \n",
       "\n",
       "        FUNDING_AGENCY_ID               FUNDING_AGENCY_NAME AGENCY_CODE  \\\n",
       "0                    97AS          DEFENSE LOGISTICS AGENCY        9700   \n",
       "1                    97AS          DEFENSE LOGISTICS AGENCY        9700   \n",
       "2                    97AS          DEFENSE LOGISTICS AGENCY        9700   \n",
       "3                    97AS          DEFENSE LOGISTICS AGENCY        9700   \n",
       "4                    97AS          DEFENSE LOGISTICS AGENCY        9700   \n",
       "...                   ...                               ...         ...   \n",
       "6088449              97AS          DEFENSE LOGISTICS AGENCY        9700   \n",
       "6088450              2100                  DEPT OF THE ARMY        9700   \n",
       "6088451              4732       FEDERAL ACQUISITION SERVICE        4732   \n",
       "6088452              7008                  U.S. COAST GUARD        7008   \n",
       "6088453              9543  MILLENNIUM CHALLENGE CORPORATION        9543   \n",
       "\n",
       "                         PIID_AGENCY_NAME ORIGINAL_AGENCY_CODE  \\\n",
       "0                         DEPT OF DEFENSE                 None   \n",
       "1                         DEPT OF DEFENSE                 None   \n",
       "2                         DEPT OF DEFENSE                 None   \n",
       "3                         DEPT OF DEFENSE                 None   \n",
       "4                         DEPT OF DEFENSE                 None   \n",
       "...                                   ...                  ...   \n",
       "6088449                   DEPT OF DEFENSE                 None   \n",
       "6088450                   DEPT OF DEFENSE                 None   \n",
       "6088451       FEDERAL ACQUISITION SERVICE                 None   \n",
       "6088452                  U.S. COAST GUARD                 None   \n",
       "6088453  MILLENNIUM CHALLENGE CORPORATION                 None   \n",
       "\n",
       "        REFERENCE_AGENCY_CODE FEDERAL_AGENCY    AGENCY AGENCY_IDENTIFIER  \\\n",
       "0                        9700             NO  ORG-2116              None   \n",
       "1                        9700             NO  ORG-2116              None   \n",
       "2                        9700             NO  ORG-2116              None   \n",
       "3                        9700             NO  ORG-2116              None   \n",
       "4                        9700             NO  ORG-2116              None   \n",
       "...                       ...            ...       ...               ...   \n",
       "6088449                  9700             NO  ORG-2116              None   \n",
       "6088450                  None             NO  ORG-2398                21   \n",
       "6088451                  4732             NO  ORG-4530              None   \n",
       "6088452                  7008             NO  ORG-2367              None   \n",
       "6088453                  None             NO  ORG-1412                95   \n",
       "\n",
       "        IDV_CONTRACTING_AGENCY_ID  IDV_CONTRACTING_AGENCY_NAME  \\\n",
       "0                            97AS     DEFENSE LOGISTICS AGENCY   \n",
       "1                            97AS     DEFENSE LOGISTICS AGENCY   \n",
       "2                            97AS     DEFENSE LOGISTICS AGENCY   \n",
       "3                            97AS     DEFENSE LOGISTICS AGENCY   \n",
       "4                            97AS     DEFENSE LOGISTICS AGENCY   \n",
       "...                           ...                          ...   \n",
       "6088449                      97AS     DEFENSE LOGISTICS AGENCY   \n",
       "6088450                      None                         None   \n",
       "6088451                      4732  FEDERAL ACQUISITION SERVICE   \n",
       "6088452                      7008             U.S. COAST GUARD   \n",
       "6088453                      None                         None   \n",
       "\n",
       "        IDV_REF_IDV_AGENCY_CODE     CLOSED_BY  \n",
       "0                          None  DOD_CLOSEOUT  \n",
       "1                          None          None  \n",
       "2                          None  DOD_CLOSEOUT  \n",
       "3                          None  DOD_CLOSEOUT  \n",
       "4                          None  DOD_CLOSEOUT  \n",
       "...                         ...           ...  \n",
       "6088449                    None          None  \n",
       "6088450                    None          None  \n",
       "6088451                    4732          None  \n",
       "6088452                    None          None  \n",
       "6088453                    None          None  \n",
       "\n",
       "[6088454 rows x 15 columns]"
      ]
     },
     "execution_count": 5,
     "metadata": {},
     "output_type": "execute_result"
    }
   ],
   "source": [
    "test_2022"
   ]
  },
  {
   "cell_type": "code",
   "execution_count": 6,
   "id": "e0a3083e-53e1-4e5e-9e43-3551bdb6da41",
   "metadata": {},
   "outputs": [
    {
     "data": {
      "text/plain": [
       "CONTRACTING_AGENCY_ID                0\n",
       "CONTRACTING_AGENCY_NAME              0\n",
       "FUNDING_AGENCY_ID                    0\n",
       "FUNDING_AGENCY_NAME                  0\n",
       "AGENCY_CODE                          0\n",
       "PIID_AGENCY_NAME                     0\n",
       "ORIGINAL_AGENCY_CODE           6088454\n",
       "REFERENCE_AGENCY_CODE          1142128\n",
       "FEDERAL_AGENCY                       0\n",
       "AGENCY                               0\n",
       "AGENCY_IDENTIFIER              5899329\n",
       "IDV_CONTRACTING_AGENCY_ID      1142172\n",
       "IDV_CONTRACTING_AGENCY_NAME    1142172\n",
       "IDV_REF_IDV_AGENCY_CODE        5262532\n",
       "CLOSED_BY                      3063154\n",
       "dtype: int64"
      ]
     },
     "execution_count": 6,
     "metadata": {},
     "output_type": "execute_result"
    }
   ],
   "source": [
    "test_2022.isna().sum()"
   ]
  },
  {
   "cell_type": "code",
   "execution_count": 10,
   "id": "2e070726-4f40-4741-80c9-37821f10d008",
   "metadata": {},
   "outputs": [
    {
     "data": {
      "text/plain": [
       "True     5906289\n",
       "False     182165\n",
       "Name: count, dtype: int64"
      ]
     },
     "execution_count": 10,
     "metadata": {},
     "output_type": "execute_result"
    }
   ],
   "source": [
    "(test_2022['CONTRACTING_AGENCY_ID']==test_2022['FUNDING_AGENCY_ID']).value_counts()"
   ]
  },
  {
   "cell_type": "code",
   "execution_count": 11,
   "id": "b3825bb8-ce6f-4b23-9bd1-b9e74752b9c4",
   "metadata": {},
   "outputs": [
    {
     "data": {
      "text/plain": [
       "True     5906289\n",
       "False     182165\n",
       "Name: count, dtype: int64"
      ]
     },
     "execution_count": 11,
     "metadata": {},
     "output_type": "execute_result"
    }
   ],
   "source": [
    "(test_2022['CONTRACTING_AGENCY_NAME']==test_2022['FUNDING_AGENCY_NAME']).value_counts()"
   ]
  },
  {
   "cell_type": "code",
   "execution_count": 12,
   "id": "e62759a9-8c86-4714-a7da-9e3275103386",
   "metadata": {},
   "outputs": [
    {
     "data": {
      "text/plain": [
       "True     4733716\n",
       "False    1354738\n",
       "Name: count, dtype: int64"
      ]
     },
     "execution_count": 12,
     "metadata": {},
     "output_type": "execute_result"
    }
   ],
   "source": [
    "(test_2022['AGENCY_CODE']==test_2022['REFERENCE_AGENCY_CODE']).value_counts()"
   ]
  },
  {
   "cell_type": "code",
   "execution_count": 14,
   "id": "73129f68-e476-4d9b-ac0c-cd7f3ea3051c",
   "metadata": {},
   "outputs": [
    {
     "data": {
      "text/plain": [
       "False    4135313\n",
       "True     1953141\n",
       "Name: count, dtype: int64"
      ]
     },
     "execution_count": 14,
     "metadata": {},
     "output_type": "execute_result"
    }
   ],
   "source": [
    "(test_2022['CONTRACTING_AGENCY_NAME']==test_2022['PIID_AGENCY_NAME']).value_counts()"
   ]
  },
  {
   "cell_type": "code",
   "execution_count": 27,
   "id": "78b7aefe-e360-4efc-a1a6-730140d4d2b8",
   "metadata": {},
   "outputs": [
    {
     "data": {
      "text/plain": [
       "PIID_AGENCY_NAME\n",
       "DEPT OF DEFENSE                              4133421\n",
       "FEDERAL ACQUISITION SERVICE                  1206172\n",
       "VETERANS AFFAIRS, DEPARTMENT OF               129060\n",
       "STATE, DEPARTMENT OF                           67487\n",
       "FEDERAL PRISON SYSTEM / BUREAU OF PRISONS      43349\n",
       "                                              ...   \n",
       "HEALTH AND HUMAN SERVICES, DEPARTMENT OF           2\n",
       "FEDERAL HOUSING FINANCE AGENCY                     2\n",
       "COMMERCE, DEPARTMENT OF                            1\n",
       "TECHNOLOGY TRANSFORMATION SERVICE                  1\n",
       "TRANSPORTATION, DEPARTMENT OF                      1\n",
       "Name: count, Length: 143, dtype: int64"
      ]
     },
     "execution_count": 27,
     "metadata": {},
     "output_type": "execute_result"
    }
   ],
   "source": [
    "test_2022['PIID_AGENCY_NAME'].value_counts()"
   ]
  },
  {
   "cell_type": "code",
   "execution_count": 28,
   "id": "feb56fd1-c4bb-4738-83c6-cfd9079c7c2b",
   "metadata": {},
   "outputs": [
    {
     "data": {
      "text/plain": [
       "CONTRACTING_AGENCY_NAME\n",
       "DEFENSE LOGISTICS AGENCY                          3613050\n",
       "FEDERAL ACQUISITION SERVICE                       1206172\n",
       "DEPT OF THE NAVY                                   177759\n",
       "DEPT OF THE ARMY                                   135390\n",
       "VETERANS AFFAIRS, DEPARTMENT OF                    129062\n",
       "                                                   ...   \n",
       "INSPECTOR GENERAL, OFFICE OF                            8\n",
       "ADMINISTRATIVE CONFERENCE OF THE U. S.                  7\n",
       "CHEMICAL SAFETY AND HAZARD INVESTIGATION BOARD          7\n",
       "FEDERAL HOUSING FINANCE AGENCY                          2\n",
       "TECHNOLOGY TRANSFORMATION SERVICE                       1\n",
       "Name: count, Length: 161, dtype: int64"
      ]
     },
     "execution_count": 28,
     "metadata": {},
     "output_type": "execute_result"
    }
   ],
   "source": [
    "test_2022['CONTRACTING_AGENCY_NAME'].value_counts()"
   ]
  },
  {
   "cell_type": "code",
   "execution_count": 23,
   "id": "20cc907e-6f6e-48d5-806a-24421dfc77b8",
   "metadata": {},
   "outputs": [
    {
     "data": {
      "text/plain": [
       "True     4716606\n",
       "False    1371848\n",
       "Name: count, dtype: int64"
      ]
     },
     "execution_count": 23,
     "metadata": {},
     "output_type": "execute_result"
    }
   ],
   "source": [
    "(test_2022['IDV_CONTRACTING_AGENCY_ID']==test_2022['CONTRACTING_AGENCY_ID']).value_counts()"
   ]
  },
  {
   "cell_type": "code",
   "execution_count": 21,
   "id": "96cab119-2afc-4055-88ff-3af95b30911d",
   "metadata": {},
   "outputs": [
    {
     "data": {
      "text/plain": [
       "FEDERAL_AGENCY\n",
       "NO     6083912\n",
       "YES       4542\n",
       "Name: count, dtype: int64"
      ]
     },
     "execution_count": 21,
     "metadata": {},
     "output_type": "execute_result"
    }
   ],
   "source": [
    "test_2022['FEDERAL_AGENCY'].value_counts()"
   ]
  },
  {
   "cell_type": "code",
   "execution_count": 22,
   "id": "1811558f-acdf-4738-b44b-925b720ca4f3",
   "metadata": {},
   "outputs": [
    {
     "data": {
      "text/plain": [
       "AGENCY\n",
       "ORG-2116    3613050\n",
       "ORG-4530    1206172\n",
       "ORG-2410     177759\n",
       "ORG-2398     135390\n",
       "ORG-1408     129062\n",
       "             ...   \n",
       "ORG-2123          8\n",
       "ORG-1338          7\n",
       "ORG-1415          7\n",
       "ORG-4327          2\n",
       "ORG-5502          1\n",
       "Name: count, Length: 168, dtype: int64"
      ]
     },
     "execution_count": 22,
     "metadata": {},
     "output_type": "execute_result"
    }
   ],
   "source": [
    "test_2022['AGENCY'].value_counts()"
   ]
  },
  {
   "cell_type": "code",
   "execution_count": 24,
   "id": "462313a4-a855-43b8-b957-0a0ec97245ee",
   "metadata": {},
   "outputs": [
    {
     "data": {
      "text/plain": [
       "CONTRACTING_AGENCY_ID\n",
       "97AS    3613050\n",
       "4732    1206172\n",
       "1700     177759\n",
       "2100     135390\n",
       "3600     129062\n",
       "         ...   \n",
       "97EX          8\n",
       "9515          7\n",
       "9565          7\n",
       "9542          2\n",
       "4775          1\n",
       "Name: count, Length: 168, dtype: int64"
      ]
     },
     "execution_count": 24,
     "metadata": {},
     "output_type": "execute_result"
    }
   ],
   "source": [
    "test_2022['CONTRACTING_AGENCY_ID'].value_counts()"
   ]
  },
  {
   "cell_type": "code",
   "execution_count": 25,
   "id": "73d642d4-f1ae-49e4-99a2-b8afb81debb1",
   "metadata": {},
   "outputs": [
    {
     "data": {
      "text/plain": [
       "AGENCY_CODE\n",
       "9700    4133421\n",
       "4732    1181648\n",
       "3600     129060\n",
       "1900      67487\n",
       "1540      43349\n",
       "         ...   \n",
       "9542          2\n",
       "5940          1\n",
       "1300          1\n",
       "4775          1\n",
       "6900          1\n",
       "Name: count, Length: 153, dtype: int64"
      ]
     },
     "execution_count": 25,
     "metadata": {},
     "output_type": "execute_result"
    }
   ],
   "source": [
    "test_2022['AGENCY_CODE'].value_counts()"
   ]
  },
  {
   "cell_type": "markdown",
   "id": "bac43aef-8ee0-4994-b532-420fd97a8265",
   "metadata": {},
   "source": [
    "## Notes"
   ]
  },
  {
   "cell_type": "markdown",
   "id": "919bf688-af6f-42f7-84aa-1f80be1782da",
   "metadata": {},
   "source": [
    "**CONTRACTING_AGENCY_ID**            0 - don't always match with funding agency ID\n",
    "CONTRACTING_AGENCY_NAME              0\n",
    "FUNDING_AGENCY_ID                    0\n",
    "FUNDING_AGENCY_NAME                  0\n",
    "**AGENCY_CODE**                      0 - different than ID\n",
    "PIID_AGENCY_NAME                     0 - looks like its department\n",
    "ORIGINAL_AGENCY_CODE           6088454 - almost all missing\n",
    "REFERENCE_AGENCY_CODE          1142128 - same as AGENCY_CODE but with missing values \n",
    "FEDERAL_AGENCY                       0 - Yes or No \n",
    "**AGENCY**                           0 - different ID for agency - but match \n",
    "AGENCY_IDENTIFIER              5899329 - almost all missing \n",
    "IDV_CONTRACTING_AGENCY_ID      1142172 - mostly same as CONTRACTING_AGENCY_ID\n",
    "IDV_CONTRACTING_AGENCY_NAME    1142172 - mostly same as CONTRACTING_AGENCY_NAME\n",
    "IDV_REF_IDV_AGENCY_CODE        5262532 - almosy all missing \n",
    "CLOSED_BY                      3063154 - half missing "
   ]
  },
  {
   "cell_type": "code",
   "execution_count": 13,
   "id": "3da77fa0-ca9b-4e50-b796-53c458a9811b",
   "metadata": {},
   "outputs": [
    {
     "data": {
      "text/plain": [
       "(6088454, 15)"
      ]
     },
     "execution_count": 13,
     "metadata": {},
     "output_type": "execute_result"
    }
   ],
   "source": [
    "test_2022.shape"
   ]
  },
  {
   "cell_type": "code",
   "execution_count": 20,
   "id": "0bf0bdd6-ef28-49bd-ad0d-181cdb0520d1",
   "metadata": {},
   "outputs": [
    {
     "data": {
      "text/plain": [
       "1142128"
      ]
     },
     "execution_count": 20,
     "metadata": {},
     "output_type": "execute_result"
    }
   ],
   "source": [
    "test_2022['REFERENCE_AGENCY_CODE'].isna().sum()"
   ]
  },
  {
   "cell_type": "markdown",
   "id": "172fac9b-41d4-4b77-8591-bab7aa853725",
   "metadata": {},
   "source": [
    "### Notes"
   ]
  },
  {
   "cell_type": "code",
   "execution_count": 46,
   "id": "12a0a4ed-3258-4816-acb2-3af5fb3a60c3",
   "metadata": {},
   "outputs": [
    {
     "data": {
      "text/html": [
       "<div>\n",
       "<style scoped>\n",
       "    .dataframe tbody tr th:only-of-type {\n",
       "        vertical-align: middle;\n",
       "    }\n",
       "\n",
       "    .dataframe tbody tr th {\n",
       "        vertical-align: top;\n",
       "    }\n",
       "\n",
       "    .dataframe thead th {\n",
       "        text-align: right;\n",
       "    }\n",
       "</style>\n",
       "<table border=\"1\" class=\"dataframe\">\n",
       "  <thead>\n",
       "    <tr style=\"text-align: right;\">\n",
       "      <th></th>\n",
       "      <th>CONTRACTING_AGENCY_ID</th>\n",
       "      <th>AGENCY_CODE</th>\n",
       "      <th>AGENCY</th>\n",
       "    </tr>\n",
       "  </thead>\n",
       "  <tbody>\n",
       "    <tr>\n",
       "      <th>0</th>\n",
       "      <td>97AS</td>\n",
       "      <td>9700</td>\n",
       "      <td>ORG-2116</td>\n",
       "    </tr>\n",
       "    <tr>\n",
       "      <th>1</th>\n",
       "      <td>97AS</td>\n",
       "      <td>9700</td>\n",
       "      <td>ORG-2116</td>\n",
       "    </tr>\n",
       "    <tr>\n",
       "      <th>2</th>\n",
       "      <td>97AS</td>\n",
       "      <td>9700</td>\n",
       "      <td>ORG-2116</td>\n",
       "    </tr>\n",
       "    <tr>\n",
       "      <th>3</th>\n",
       "      <td>97AS</td>\n",
       "      <td>9700</td>\n",
       "      <td>ORG-2116</td>\n",
       "    </tr>\n",
       "    <tr>\n",
       "      <th>4</th>\n",
       "      <td>97AS</td>\n",
       "      <td>9700</td>\n",
       "      <td>ORG-2116</td>\n",
       "    </tr>\n",
       "    <tr>\n",
       "      <th>...</th>\n",
       "      <td>...</td>\n",
       "      <td>...</td>\n",
       "      <td>...</td>\n",
       "    </tr>\n",
       "    <tr>\n",
       "      <th>6088449</th>\n",
       "      <td>97AS</td>\n",
       "      <td>9700</td>\n",
       "      <td>ORG-2116</td>\n",
       "    </tr>\n",
       "    <tr>\n",
       "      <th>6088450</th>\n",
       "      <td>2100</td>\n",
       "      <td>9700</td>\n",
       "      <td>ORG-2398</td>\n",
       "    </tr>\n",
       "    <tr>\n",
       "      <th>6088451</th>\n",
       "      <td>4732</td>\n",
       "      <td>4732</td>\n",
       "      <td>ORG-4530</td>\n",
       "    </tr>\n",
       "    <tr>\n",
       "      <th>6088452</th>\n",
       "      <td>7008</td>\n",
       "      <td>7008</td>\n",
       "      <td>ORG-2367</td>\n",
       "    </tr>\n",
       "    <tr>\n",
       "      <th>6088453</th>\n",
       "      <td>9543</td>\n",
       "      <td>9543</td>\n",
       "      <td>ORG-1412</td>\n",
       "    </tr>\n",
       "  </tbody>\n",
       "</table>\n",
       "<p>6088454 rows × 3 columns</p>\n",
       "</div>"
      ],
      "text/plain": [
       "        CONTRACTING_AGENCY_ID AGENCY_CODE    AGENCY\n",
       "0                        97AS        9700  ORG-2116\n",
       "1                        97AS        9700  ORG-2116\n",
       "2                        97AS        9700  ORG-2116\n",
       "3                        97AS        9700  ORG-2116\n",
       "4                        97AS        9700  ORG-2116\n",
       "...                       ...         ...       ...\n",
       "6088449                  97AS        9700  ORG-2116\n",
       "6088450                  2100        9700  ORG-2398\n",
       "6088451                  4732        4732  ORG-4530\n",
       "6088452                  7008        7008  ORG-2367\n",
       "6088453                  9543        9543  ORG-1412\n",
       "\n",
       "[6088454 rows x 3 columns]"
      ]
     },
     "execution_count": 46,
     "metadata": {},
     "output_type": "execute_result"
    }
   ],
   "source": [
    "test_2022[['CONTRACTING_AGENCY_ID','AGENCY_CODE','AGENCY']]"
   ]
  },
  {
   "cell_type": "code",
   "execution_count": 41,
   "id": "58fee2cd-9a57-454e-8391-8fc5243a2c29",
   "metadata": {},
   "outputs": [
    {
     "data": {
      "text/plain": [
       "False    4159838\n",
       "True     1928616\n",
       "Name: count, dtype: int64"
      ]
     },
     "execution_count": 41,
     "metadata": {},
     "output_type": "execute_result"
    }
   ],
   "source": [
    "(test_2022['CONTRACTING_AGENCY_ID']==test_2022['AGENCY_CODE']).value_counts()"
   ]
  },
  {
   "cell_type": "code",
   "execution_count": 42,
   "id": "842bc90a-4997-4f79-94d7-1587ba6a0bae",
   "metadata": {},
   "outputs": [
    {
     "data": {
      "text/plain": [
       "False    6088454\n",
       "Name: count, dtype: int64"
      ]
     },
     "execution_count": 42,
     "metadata": {},
     "output_type": "execute_result"
    }
   ],
   "source": [
    "(test_2022['CONTRACTING_AGENCY_ID']==test_2022['AGENCY']).value_counts()"
   ]
  },
  {
   "cell_type": "code",
   "execution_count": 43,
   "id": "55ecb19e-a7c8-4e51-b9a5-82471bb4578a",
   "metadata": {},
   "outputs": [
    {
     "data": {
      "text/plain": [
       "False    6088454\n",
       "Name: count, dtype: int64"
      ]
     },
     "execution_count": 43,
     "metadata": {},
     "output_type": "execute_result"
    }
   ],
   "source": [
    "(test_2022['AGENCY_CODE']==test_2022['AGENCY']).value_counts()"
   ]
  },
  {
   "cell_type": "code",
   "execution_count": null,
   "id": "4b4e737b-2244-4685-9f74-bc9a652f0cc1",
   "metadata": {},
   "outputs": [],
   "source": []
  },
  {
   "cell_type": "code",
   "execution_count": null,
   "id": "80b5bb5d-d123-4dec-83e4-9f9d4d2842b4",
   "metadata": {},
   "outputs": [],
   "source": []
  }
 ],
 "metadata": {
  "kernelspec": {
   "display_name": "Python 3 (ipykernel)",
   "language": "python",
   "name": "python3"
  },
  "language_info": {
   "codemirror_mode": {
    "name": "ipython",
    "version": 3
   },
   "file_extension": ".py",
   "mimetype": "text/x-python",
   "name": "python",
   "nbconvert_exporter": "python",
   "pygments_lexer": "ipython3",
   "version": "3.11.4"
  }
 },
 "nbformat": 4,
 "nbformat_minor": 5
}
