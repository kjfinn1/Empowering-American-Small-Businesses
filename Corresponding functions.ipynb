{
 "cells": [
  {
   "cell_type": "markdown",
   "metadata": {},
   "source": [
    "### This code requires master data wrangling !!!"
   ]
  },
  {
   "cell_type": "code",
   "execution_count": null,
   "metadata": {},
   "outputs": [],
   "source": [
    "input_probabilities = random_forest.predict_proba(X_input)\n",
    "\n",
    "# Get the indices of the top 15 predicted classes for the input\n",
    "input_top_15_indices = np.argsort(input_probabilities, axis=1)[:, -15:]\n",
    "\n",
    "# Get the top 15 predicted classes for the input\n",
    "input_predicted_labels = random_forest.classes_[input_top_15_indices]\n",
    "\n",
    "# Get the top 15 probabilities for the input\n",
    "input_top_15_probabilities = np.take_along_axis(input_probabilities, input_top_15_indices, axis=1)\n",
    "\n",
    "top_15_agencies = input_predicted_labels[0].tolist()\n",
    "\n",
    "# Call the contract_competition function with the top 15 agencies\n",
    "contract_competition(*top_15_agencies)\n",
    "\n",
    "\n",
    "competition_results = contract_competition(*top_15_agencies)\n",
    "\n",
    "# Format and print the results\n",
    "for agency, data in competition_results.items():\n",
    "    if data == \"No data available\":\n",
    "        print(f\"Agency: {agency}\\nCompetition: {data}\\n\")\n",
    "    else:\n",
    "        lower_quantile, upper_quantile = data\n",
    "        print(f\"Agency: {agency}\\nCompetition: 5th percentile - {lower_quantile}, 95th percentile - {upper_quantile}\\n\")"
   ]
  },
  {
   "cell_type": "code",
   "execution_count": null,
   "metadata": {},
   "outputs": [],
   "source": [
    "def contract_competition(*agencies):\n",
    "    results = {}  # Initialize an empty dictionary to hold results\n",
    "    for value in agencies:\n",
    "        # Assuming 'final_df' and other necessary variables are defined and accessible\n",
    "        small_df = final_df[final_df['Response_Variable'] == value]\n",
    "        small_df = small_df[small_df['TYPE_OF_SET_ASIDE'] == 'NONE']\n",
    "        if not small_df.empty:\n",
    "            lower_quantile = small_df['NUMBER_OF_OFFERS_RECEIVED'].quantile(0.05)\n",
    "            upper_quantile = small_df['NUMBER_OF_OFFERS_RECEIVED'].quantile(0.95)\n",
    "            # Add the information to the results dictionary\n",
    "            results[value] = (lower_quantile, upper_quantile)\n",
    "        else:\n",
    "            # Handle case where there's no data for an agency\n",
    "            results[value] = \"No data available\"\n",
    "    return results"
   ]
  }
 ],
 "metadata": {
  "kernelspec": {
   "display_name": "Python 3 (ipykernel)",
   "language": "python",
   "name": "python3"
  },
  "language_info": {
   "codemirror_mode": {
    "name": "ipython",
    "version": 3
   },
   "file_extension": ".py",
   "mimetype": "text/x-python",
   "name": "python",
   "nbconvert_exporter": "python",
   "pygments_lexer": "ipython3",
   "version": "3.11.4"
  }
 },
 "nbformat": 4,
 "nbformat_minor": 4
}
