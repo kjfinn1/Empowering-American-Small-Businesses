{
 "cells": [
  {
   "cell_type": "code",
   "execution_count": 7,
   "id": "b5f3dc89-396b-417f-91e4-0df406514d48",
   "metadata": {},
   "outputs": [],
   "source": [
    "import pandas as pd\n",
    "import numpy as np\n",
    "import polars as pl"
   ]
  },
  {
   "cell_type": "code",
   "execution_count": 8,
   "id": "ebbea319-4d8b-48ae-9ec5-d10257bdfb5a",
   "metadata": {},
   "outputs": [],
   "source": [
    "cols = ['RESEARCH_AND_DEVELOPMENT',\n",
    " 'TOTAL_ESTIMATED_ORDER_VALUE',\n",
    " 'DOMESTIC_SHELTER',\n",
    " 'TYPE_OF_SET_ASIDE',\n",
    " 'SOLICITATION_ID',\n",
    " 'CONSTRUCTION_FIRM',\n",
    " 'IDV_EVALUATED_PREFERENCE',\n",
    " 'PART8_OR_PART13',\n",
    " 'NUMBER_OF_OFFERS_RECEIVED',\n",
    " 'CO_BUS_SIZE_DETERMINATION',\n",
    " 'CAGE_CODE',\n",
    " 'DATE_SIGNED',\n",
    " 'VETERAN_OWNED_FLAG',\n",
    " 'IDV_CONTRACTING_AGENCY_ID',\n",
    " 'CORP_ENTITY_NOT_TAX_EXEMPT',\n",
    " 'FUNDING_DEPARTMENT_ID',\n",
    " 'FUNDING_OFFICE_NAME',\n",
    " 'SERVICE_PROVIDER',\n",
    " 'PRODUCT_OR_SERVICE_TYPE',\n",
    " 'MODIFICATION_NUMBER',\n",
    " 'PIID',\n",
    " 'FOUNDATION',\n",
    " 'EVALUATED_PREFERENCE',\n",
    " 'SRDVOB_FLAG',\n",
    " 'CORP_ENTITY_TAX_EXEMPT',\n",
    " 'MANUFACTURER_OF_GOODS',\n",
    " 'VENDOR_ADDRESS_COUNTRY_NAME',\n",
    " 'VENDOR_ADDRESS_ZIP_CODE',\n",
    " 'SDB',\n",
    " 'VETERINARY_HOSPITAL',\n",
    " 'COMMUNITY_CORP_OWNED_FIRM',\n",
    " 'DOT_CERTIFIED_DISADV_BUS',\n",
    " 'PRINCIPAL_NAICS_CODE',\n",
    " 'EDUCATIONAL_INSTITUTION_FLAG',\n",
    " 'LIMITED_LIABILITY_CORPORATION',\n",
    " 'EXTENT_COMPETED',\n",
    " 'FEDERALLY_FUNDED_R_AND_D_CORP',\n",
    " 'SOLE_PROPREITORSHIP',\n",
    " 'WOMEN_OWNED_FLAG',\n",
    " 'ARCHITECTURE_AND_ENGINEERING',\n",
    " 'HISPANIC_SERVICING_INSTITUTION',\n",
    " 'VENDOR_UEI',\n",
    " 'IDV_PIID',\n",
    " 'PLACE_OF_MANUFACTURE',\n",
    " 'IDV_EXTENT_COMPETED',\n",
    " 'AWARD_FISCAL_YEAR',\n",
    " 'IDV_SIGNED_DATE',\n",
    " 'FIRM_8A_FLAG',\n",
    " 'SMALL_AGRICULTURAL_COOPERATIVE',\n",
    " 'INTERNATIONAL_ORGANIZATION',\n",
    " 'PARTNERSHIP_OR_LLP',\n",
    " 'DOLLARS_OBLIGATED',\n",
    " 'IDV_NUMBER_OF_OFFERS',\n",
    " 'FOR_PROFIT_ORGANIZATION',\n",
    " 'AWARD_OR_IDV',\n",
    " 'FIRM8A_JOINT_VENTURE',\n",
    " 'CONTRACTING_OFFICE_ID','IDV_CONTRACTING_AGENCY_NAME', 'CONTRACTING_OFFICE_NAME']"
   ]
  },
  {
   "cell_type": "code",
   "execution_count": 9,
   "id": "4b03009b-ec75-4a00-b4b6-316d519a2a76",
   "metadata": {
    "tags": []
   },
   "outputs": [],
   "source": [
    "SAM = pd.read_csv('SAM.csv')"
   ]
  },
  {
   "attachments": {},
   "cell_type": "markdown",
   "id": "080cee3f-4669-47c8-b08a-bc0b996cb684",
   "metadata": {},
   "source": [
    "### 2019"
   ]
  },
  {
   "cell_type": "code",
   "execution_count": 10,
   "id": "d33e7e93-6cf1-4b71-b888-f71774df59d7",
   "metadata": {
    "tags": []
   },
   "outputs": [],
   "source": [
    "test_2019 = pd.read_parquet('2019.parquet', engine='pyarrow',columns=cols)"
   ]
  },
  {
   "cell_type": "code",
   "execution_count": null,
   "id": "4eb1393d-733d-4190-9395-6b083c331172",
   "metadata": {
    "tags": []
   },
   "outputs": [],
   "source": [
    "test_2019 = test_2019[test_2019['CO_BUS_SIZE_DETERMINATION'] == \"SMALL BUSINESS\"]\n",
    "test_2019 = test_2019[test_2019['VENDOR_ADDRESS_COUNTRY_NAME'] == \"UNITED STATES\"]\n",
    "test_2019 = test_2019[test_2019['EXTENT_COMPETED'].isin([\"A\", \"D\", \"E\", \"CDO\"])]\n",
    "test_2019['FUNDING_DEPARTMENT_ID'] = test_2019['FUNDING_DEPARTMENT_ID'].str.strip()\n",
    "test_2019['IDV_PIID'] = test_2019['IDV_PIID'].str.strip()\n",
    "test_2019['PIID'] = test_2019['PIID'].str.strip()\n",
    "test_2019['DOLLARS_OBLIGATED'] = pd.to_numeric(test_2019['DOLLARS_OBLIGATED'], errors='coerce')\n",
    "m_2019 = pd.merge(test_2019, SAM, on=\"CAGE_CODE\", how=\"inner\")\n",
    "idx = m_2019.groupby(['SOLICITATION_ID','CAGE_CODE'])['DOLLARS_OBLIGATED'].idxmax()\n",
    "m_2019 = m_2019.loc[idx]\n",
    "m_2019 = m_2019[m_2019['DOLLARS_OBLIGATED'] > 0]"
   ]
  },
  {
   "cell_type": "code",
   "execution_count": null,
   "id": "b7376a2c-bac9-4443-8953-2efa7bebc5cf",
   "metadata": {
    "tags": []
   },
   "outputs": [
    {
     "data": {
      "text/plain": [
       "(35241, 73)"
      ]
     },
     "execution_count": 6,
     "metadata": {},
     "output_type": "execute_result"
    }
   ],
   "source": [
    "m_2019.shape"
   ]
  },
  {
   "attachments": {},
   "cell_type": "markdown",
   "id": "70454497-81d3-49a7-8652-d2ab1d997507",
   "metadata": {},
   "source": [
    "### 2020"
   ]
  },
  {
   "cell_type": "code",
   "execution_count": null,
   "id": "8c023cef-6868-4a66-92f7-91525c662d1a",
   "metadata": {},
   "outputs": [],
   "source": [
    "test_2020 = pd.read_parquet('2020.parquet', engine='pyarrow',columns=cols)"
   ]
  },
  {
   "cell_type": "code",
   "execution_count": null,
   "id": "f1a56de9-c682-4e89-801a-66914d5958ae",
   "metadata": {
    "tags": []
   },
   "outputs": [],
   "source": [
    "test_2020 = test_2020[test_2020['CO_BUS_SIZE_DETERMINATION'] == \"SMALL BUSINESS\"]\n",
    "test_2020 = test_2020[test_2020['VENDOR_ADDRESS_COUNTRY_NAME'] == \"UNITED STATES\"]\n",
    "test_2020 = test_2020[test_2020['EXTENT_COMPETED'].isin([\"A\", \"D\", \"E\", \"CDO\"])]\n",
    "test_2020['FUNDING_DEPARTMENT_ID'] = test_2020['FUNDING_DEPARTMENT_ID'].str.strip()\n",
    "test_2020['IDV_PIID'] = test_2020['IDV_PIID'].str.strip()\n",
    "test_2020['PIID'] = test_2020['PIID'].str.strip()\n",
    "test_2020['DOLLARS_OBLIGATED'] = pd.to_numeric(test_2020['DOLLARS_OBLIGATED'], errors='coerce')\n",
    "m_2020 = pd.merge(test_2020, SAM, on=\"CAGE_CODE\", how=\"inner\")\n",
    "idx = m_2020.groupby(['SOLICITATION_ID','CAGE_CODE'])['DOLLARS_OBLIGATED'].idxmax()\n",
    "m_2020 = m_2020.loc[idx]\n",
    "m_2020 = m_2020[m_2020['DOLLARS_OBLIGATED'] > 0]"
   ]
  },
  {
   "cell_type": "code",
   "execution_count": null,
   "id": "37e5e66f-cb3a-4253-b447-118734095ac1",
   "metadata": {
    "tags": []
   },
   "outputs": [
    {
     "data": {
      "text/plain": [
       "(36674, 73)"
      ]
     },
     "execution_count": 9,
     "metadata": {},
     "output_type": "execute_result"
    }
   ],
   "source": [
    "m_2020.shape"
   ]
  },
  {
   "attachments": {},
   "cell_type": "markdown",
   "id": "dee38102-d747-4d5c-b489-0888afee3dc8",
   "metadata": {},
   "source": [
    "### 2021"
   ]
  },
  {
   "cell_type": "code",
   "execution_count": null,
   "id": "f64e5517-f82f-4be3-a51b-329566af40bd",
   "metadata": {
    "tags": []
   },
   "outputs": [],
   "source": [
    "test_2021 = pd.read_parquet('2021.parquet', engine='pyarrow',columns=cols)"
   ]
  },
  {
   "cell_type": "code",
   "execution_count": null,
   "id": "2589967c-9eb4-4f68-997a-c763058183af",
   "metadata": {
    "tags": []
   },
   "outputs": [],
   "source": [
    "test_2021 = test_2021[test_2021['CO_BUS_SIZE_DETERMINATION'] == \"SMALL BUSINESS\"]\n",
    "test_2021 = test_2021[test_2021['VENDOR_ADDRESS_COUNTRY_NAME'] == \"UNITED STATES\"]\n",
    "test_2021 = test_2021[test_2021['EXTENT_COMPETED'].isin([\"A\", \"D\", \"E\", \"CDO\"])]\n",
    "test_2021['FUNDING_DEPARTMENT_ID'] = test_2021['FUNDING_DEPARTMENT_ID'].str.strip()\n",
    "test_2021['IDV_PIID'] = test_2021['IDV_PIID'].str.strip()\n",
    "test_2021['PIID'] = test_2021['PIID'].str.strip()\n",
    "test_2021['DOLLARS_OBLIGATED'] = pd.to_numeric(test_2021['DOLLARS_OBLIGATED'], errors='coerce')\n",
    "m_2021 = pd.merge(test_2021, SAM, on=\"CAGE_CODE\", how=\"inner\")\n",
    "idx = m_2021.groupby(['SOLICITATION_ID','CAGE_CODE'])['DOLLARS_OBLIGATED'].idxmax()\n",
    "m_2021 = m_2021.loc[idx]\n",
    "m_2021 = m_2021[m_2021['DOLLARS_OBLIGATED'] > 0]"
   ]
  },
  {
   "cell_type": "code",
   "execution_count": null,
   "id": "ba820ff6-3359-4c40-855e-dd0dec238736",
   "metadata": {
    "tags": []
   },
   "outputs": [
    {
     "data": {
      "text/plain": [
       "(38526, 71)"
      ]
     },
     "execution_count": 160,
     "metadata": {},
     "output_type": "execute_result"
    }
   ],
   "source": [
    "m_2021.shape"
   ]
  },
  {
   "attachments": {},
   "cell_type": "markdown",
   "id": "39380e2b-16a6-476f-b447-05552d1cf989",
   "metadata": {},
   "source": [
    "### 2022"
   ]
  },
  {
   "cell_type": "code",
   "execution_count": null,
   "id": "8f319c20-66a9-455e-9f75-c8714aff1a7a",
   "metadata": {
    "tags": []
   },
   "outputs": [],
   "source": [
    "test_2022 = pd.read_parquet('2022.parquet', engine='pyarrow',columns=cols)"
   ]
  },
  {
   "cell_type": "code",
   "execution_count": null,
   "id": "ba8a396c-3cfb-4bac-86e0-eba2f442eacb",
   "metadata": {
    "tags": []
   },
   "outputs": [],
   "source": [
    "test_2022 = test_2022[test_2022['CO_BUS_SIZE_DETERMINATION'] == \"SMALL BUSINESS\"]\n",
    "test_2022 = test_2022[test_2022['VENDOR_ADDRESS_COUNTRY_NAME'] == \"UNITED STATES\"]\n",
    "test_2022 = test_2022[test_2022['EXTENT_COMPETED'].isin([\"A\", \"D\", \"E\", \"CDO\"])]\n",
    "test_2022['FUNDING_DEPARTMENT_ID'] = test_2022['FUNDING_DEPARTMENT_ID'].str.strip()\n",
    "test_2022['IDV_PIID'] = test_2022['IDV_PIID'].str.strip()\n",
    "test_2022['PIID'] = test_2022['PIID'].str.strip()\n",
    "test_2022['DOLLARS_OBLIGATED'] = pd.to_numeric(test_2022['DOLLARS_OBLIGATED'], errors='coerce')\n",
    "m_2022 = pd.merge(test_2022, SAM, on=\"CAGE_CODE\", how=\"inner\")\n",
    "idx = m_2022.groupby(['SOLICITATION_ID','CAGE_CODE'])['DOLLARS_OBLIGATED'].idxmax()\n",
    "m_2022 = m_2022.loc[idx]\n",
    "m_2022 = m_2022[m_2022['DOLLARS_OBLIGATED'] > 0]"
   ]
  },
  {
   "cell_type": "code",
   "execution_count": null,
   "id": "99c8b285-0d81-45c4-ad99-fc12bfd82b3e",
   "metadata": {
    "tags": []
   },
   "outputs": [
    {
     "data": {
      "text/plain": [
       "(38767, 71)"
      ]
     },
     "execution_count": 163,
     "metadata": {},
     "output_type": "execute_result"
    }
   ],
   "source": [
    "m_2022.shape"
   ]
  },
  {
   "attachments": {},
   "cell_type": "markdown",
   "id": "360ee0f6-ab6b-4d76-9637-7f14db93bef6",
   "metadata": {},
   "source": [
    "### 2023"
   ]
  },
  {
   "cell_type": "code",
   "execution_count": null,
   "id": "b6f5a356-02df-472d-bdda-674ed34681aa",
   "metadata": {
    "tags": []
   },
   "outputs": [],
   "source": [
    "test_2023 = pd.read_parquet('FY23_SC_prelim.parquet', engine='pyarrow',columns=cols)"
   ]
  },
  {
   "cell_type": "code",
   "execution_count": null,
   "id": "da218265-822a-41d5-95f9-f76313e44afa",
   "metadata": {
    "tags": []
   },
   "outputs": [],
   "source": [
    "test_2023 = test_2023[test_2023['CO_BUS_SIZE_DETERMINATION'] == \"SMALL BUSINESS\"]\n",
    "test_2023 = test_2023[test_2023['VENDOR_ADDRESS_COUNTRY_NAME'] == \"UNITED STATES\"]\n",
    "test_2023 = test_2023[test_2023['EXTENT_COMPETED'].isin([\"A\", \"D\", \"E\", \"CDO\"])]\n",
    "test_2023['FUNDING_DEPARTMENT_ID'] = test_2023['FUNDING_DEPARTMENT_ID'].str.strip()\n",
    "test_2023['IDV_PIID'] = test_2023['IDV_PIID'].str.strip()\n",
    "test_2023['PIID'] = test_2023['PIID'].str.strip()\n",
    "test_2023['DOLLARS_OBLIGATED'] = pd.to_numeric(test_2023['DOLLARS_OBLIGATED'], errors='coerce')\n",
    "m_2023 = pd.merge(test_2023, SAM, on=\"CAGE_CODE\", how=\"inner\")\n",
    "idx = m_2023.groupby(['SOLICITATION_ID','CAGE_CODE'])['DOLLARS_OBLIGATED'].idxmax()\n",
    "m_2023 = m_2023.loc[idx]\n",
    "m_2023 = m_2023[m_2023['DOLLARS_OBLIGATED'] > 0]"
   ]
  },
  {
   "cell_type": "code",
   "execution_count": null,
   "id": "6adb680f-b6b0-4cd4-9492-4ab1ede31672",
   "metadata": {
    "tags": []
   },
   "outputs": [
    {
     "data": {
      "text/plain": [
       "(41382, 71)"
      ]
     },
     "execution_count": 166,
     "metadata": {},
     "output_type": "execute_result"
    }
   ],
   "source": [
    "m_2023.shape"
   ]
  },
  {
   "attachments": {},
   "cell_type": "markdown",
   "id": "4e024c1b-5b64-4bcf-ad57-0ad5c57b1b6b",
   "metadata": {},
   "source": [
    "### MERGE EVERYTHING"
   ]
  },
  {
   "cell_type": "code",
   "execution_count": null,
   "id": "fa407d7a-f7da-4692-93a6-790f477137ec",
   "metadata": {
    "tags": []
   },
   "outputs": [],
   "source": [
    "merged_df = pd.concat([m_2019, m_2020, m_2021, m_2022, m_2023], ignore_index=True)"
   ]
  },
  {
   "cell_type": "code",
   "execution_count": null,
   "id": "fa5392aa-75c5-470e-87ac-fed209006baa",
   "metadata": {
    "tags": []
   },
   "outputs": [
    {
     "data": {
      "text/plain": [
       "(190590, 71)"
      ]
     },
     "execution_count": 168,
     "metadata": {},
     "output_type": "execute_result"
    }
   ],
   "source": [
    "merged_df.shape"
   ]
  },
  {
   "cell_type": "code",
   "execution_count": null,
   "id": "72a9e4be-6a4f-4881-a311-e9f6c66721fb",
   "metadata": {
    "tags": []
   },
   "outputs": [],
   "source": [
    "idx = merged_df.groupby(['SOLICITATION_ID','CAGE_CODE'])['DOLLARS_OBLIGATED'].idxmax()\n",
    "filtered_merged_df = merged_df.loc[idx]"
   ]
  },
  {
   "cell_type": "code",
   "execution_count": null,
   "id": "e0a93199-3a1b-482d-ba10-6bdce379fd76",
   "metadata": {
    "tags": []
   },
   "outputs": [],
   "source": [
    "# PLACE_OF_MANUFACTURE\n",
    "# PLACE_OF_MANUFACTURE_CLASS\n",
    "# Make NaN into N/A\n",
    "filtered_merged_df['PLACE_OF_MANUFACTURE'] = filtered_merged_df['PLACE_OF_MANUFACTURE'].fillna('N/A')\n",
    "# create new  column \n",
    "# YES - made in US\n",
    "# NO - not made in US\n",
    "# NONE - Not selling a product \n",
    "\n",
    "def convert_place_of_manufacture(value):\n",
    "    if value == 'D':\n",
    "        return 'YES'\n",
    "    elif value == 'C':\n",
    "        return 'NO'\n",
    "    elif value in ['N/A', 'A', 'G', 'E', 'H', 'L', 'J', 'F', 'K', 'B', 'I']:\n",
    "        return 'NONE'\n",
    "    else:\n",
    "        return 'NONE'\n",
    "\n",
    "filtered_merged_df['PLACE_OF_MANUFACTURE_CLASS'] = filtered_merged_df['PLACE_OF_MANUFACTURE'].apply(convert_place_of_manufacture)\n"
   ]
  },
  {
   "cell_type": "code",
   "execution_count": null,
   "id": "c1db4830-9e16-46b7-8310-cc03d80526a0",
   "metadata": {
    "tags": []
   },
   "outputs": [],
   "source": [
    "# zip code was in long format, change to standard 5 digits \n",
    "filtered_merged_df['VENDOR_ADDRESS_ZIP_CODE'] = filtered_merged_df['VENDOR_ADDRESS_ZIP_CODE'].astype(str).str[:5]"
   ]
  },
  {
   "cell_type": "code",
   "execution_count": null,
   "id": "48bf6ca5-b076-4f32-8bb9-89fd6117ecf5",
   "metadata": {
    "tags": []
   },
   "outputs": [],
   "source": [
    "# assume missing values (not that many) are NONE\n",
    "filtered_merged_df['TYPE_OF_SET_ASIDE'] = filtered_merged_df['TYPE_OF_SET_ASIDE'].fillna('NONE')"
   ]
  },
  {
   "cell_type": "code",
   "execution_count": null,
   "id": "3bab1911-dba5-4019-9d35-e8fb5c3b4281",
   "metadata": {
    "tags": []
   },
   "outputs": [],
   "source": [
    "filtered_merged_df['EVALUATED_PREFERENCE'] = filtered_merged_df['EVALUATED_PREFERENCE'].fillna('NONE')"
   ]
  },
  {
   "cell_type": "code",
   "execution_count": null,
   "id": "770a94a3-6127-41be-aea8-256b5c05d3eb",
   "metadata": {
    "tags": []
   },
   "outputs": [],
   "source": [
    "filtered_merged_df = filtered_merged_df.dropna(subset=['CORP_ENTITY_NOT_TAX_EXEMPT'])"
   ]
  },
  {
   "cell_type": "code",
   "execution_count": null,
   "id": "b03f3129-775c-426c-b42a-e78a68e45e8e",
   "metadata": {
    "tags": []
   },
   "outputs": [],
   "source": [
    "filtered_merged_df = filtered_merged_df.dropna(subset=['IDV_CONTRACTING_AGENCY_ID'])"
   ]
  },
  {
   "attachments": {},
   "cell_type": "markdown",
   "id": "c16f4043-b3d0-423d-bc99-5352fbf0bf25",
   "metadata": {},
   "source": [
    "### FINAL SET FOR MODELING"
   ]
  },
  {
   "cell_type": "code",
   "execution_count": null,
   "id": "50109685",
   "metadata": {},
   "outputs": [
    {
     "ename": "KeyError",
     "evalue": "\"['IDV_CONTRACTING_AGENCY_NAME', 'CONTRACTING_OFFICE_NAME'] not in index\"",
     "output_type": "error",
     "traceback": [
      "\u001b[0;31m---------------------------------------------------------------------------\u001b[0m",
      "\u001b[0;31mKeyError\u001b[0m                                  Traceback (most recent call last)",
      "Cell \u001b[0;32mIn[245], line 1\u001b[0m\n\u001b[0;32m----> 1\u001b[0m specific_columns_df \u001b[39m=\u001b[39m filtered_merged_df[[\u001b[39m'\u001b[39;49m\u001b[39mIDV_CONTRACTING_AGENCY_ID\u001b[39;49m\u001b[39m'\u001b[39;49m, \u001b[39m'\u001b[39;49m\u001b[39mIDV_CONTRACTING_AGENCY_NAME\u001b[39;49m\u001b[39m'\u001b[39;49m, \u001b[39m'\u001b[39;49m\u001b[39mCONTRACTING_OFFICE_ID\u001b[39;49m\u001b[39m'\u001b[39;49m, \u001b[39m'\u001b[39;49m\u001b[39mCONTRACTING_OFFICE_NAME\u001b[39;49m\u001b[39m'\u001b[39;49m]]\n\u001b[1;32m      3\u001b[0m \u001b[39m# Save the selected columns to a CSV file\u001b[39;00m\n\u001b[1;32m      4\u001b[0m specific_columns_df\u001b[39m.\u001b[39mto_csv(\u001b[39m'\u001b[39m\u001b[39mspecific_columns.csv\u001b[39m\u001b[39m'\u001b[39m, index\u001b[39m=\u001b[39m\u001b[39mFalse\u001b[39;00m)\n",
      "File \u001b[0;32m~/anaconda3/lib/python3.10/site-packages/pandas/core/frame.py:3767\u001b[0m, in \u001b[0;36mDataFrame.__getitem__\u001b[0;34m(self, key)\u001b[0m\n\u001b[1;32m   3765\u001b[0m     \u001b[39mif\u001b[39;00m is_iterator(key):\n\u001b[1;32m   3766\u001b[0m         key \u001b[39m=\u001b[39m \u001b[39mlist\u001b[39m(key)\n\u001b[0;32m-> 3767\u001b[0m     indexer \u001b[39m=\u001b[39m \u001b[39mself\u001b[39;49m\u001b[39m.\u001b[39;49mcolumns\u001b[39m.\u001b[39;49m_get_indexer_strict(key, \u001b[39m\"\u001b[39;49m\u001b[39mcolumns\u001b[39;49m\u001b[39m\"\u001b[39;49m)[\u001b[39m1\u001b[39m]\n\u001b[1;32m   3769\u001b[0m \u001b[39m# take() does not accept boolean indexers\u001b[39;00m\n\u001b[1;32m   3770\u001b[0m \u001b[39mif\u001b[39;00m \u001b[39mgetattr\u001b[39m(indexer, \u001b[39m\"\u001b[39m\u001b[39mdtype\u001b[39m\u001b[39m\"\u001b[39m, \u001b[39mNone\u001b[39;00m) \u001b[39m==\u001b[39m \u001b[39mbool\u001b[39m:\n",
      "File \u001b[0;32m~/anaconda3/lib/python3.10/site-packages/pandas/core/indexes/base.py:5877\u001b[0m, in \u001b[0;36mIndex._get_indexer_strict\u001b[0;34m(self, key, axis_name)\u001b[0m\n\u001b[1;32m   5874\u001b[0m \u001b[39melse\u001b[39;00m:\n\u001b[1;32m   5875\u001b[0m     keyarr, indexer, new_indexer \u001b[39m=\u001b[39m \u001b[39mself\u001b[39m\u001b[39m.\u001b[39m_reindex_non_unique(keyarr)\n\u001b[0;32m-> 5877\u001b[0m \u001b[39mself\u001b[39;49m\u001b[39m.\u001b[39;49m_raise_if_missing(keyarr, indexer, axis_name)\n\u001b[1;32m   5879\u001b[0m keyarr \u001b[39m=\u001b[39m \u001b[39mself\u001b[39m\u001b[39m.\u001b[39mtake(indexer)\n\u001b[1;32m   5880\u001b[0m \u001b[39mif\u001b[39;00m \u001b[39misinstance\u001b[39m(key, Index):\n\u001b[1;32m   5881\u001b[0m     \u001b[39m# GH 42790 - Preserve name from an Index\u001b[39;00m\n",
      "File \u001b[0;32m~/anaconda3/lib/python3.10/site-packages/pandas/core/indexes/base.py:5941\u001b[0m, in \u001b[0;36mIndex._raise_if_missing\u001b[0;34m(self, key, indexer, axis_name)\u001b[0m\n\u001b[1;32m   5938\u001b[0m     \u001b[39mraise\u001b[39;00m \u001b[39mKeyError\u001b[39;00m(\u001b[39mf\u001b[39m\u001b[39m\"\u001b[39m\u001b[39mNone of [\u001b[39m\u001b[39m{\u001b[39;00mkey\u001b[39m}\u001b[39;00m\u001b[39m] are in the [\u001b[39m\u001b[39m{\u001b[39;00maxis_name\u001b[39m}\u001b[39;00m\u001b[39m]\u001b[39m\u001b[39m\"\u001b[39m)\n\u001b[1;32m   5940\u001b[0m not_found \u001b[39m=\u001b[39m \u001b[39mlist\u001b[39m(ensure_index(key)[missing_mask\u001b[39m.\u001b[39mnonzero()[\u001b[39m0\u001b[39m]]\u001b[39m.\u001b[39munique())\n\u001b[0;32m-> 5941\u001b[0m \u001b[39mraise\u001b[39;00m \u001b[39mKeyError\u001b[39;00m(\u001b[39mf\u001b[39m\u001b[39m\"\u001b[39m\u001b[39m{\u001b[39;00mnot_found\u001b[39m}\u001b[39;00m\u001b[39m not in index\u001b[39m\u001b[39m\"\u001b[39m)\n",
      "\u001b[0;31mKeyError\u001b[0m: \"['IDV_CONTRACTING_AGENCY_NAME', 'CONTRACTING_OFFICE_NAME'] not in index\""
     ]
    }
   ],
   "source": [
    "specific_columns_df = filtered_merged_df[['IDV_CONTRACTING_AGENCY_ID', 'IDV_CONTRACTING_AGENCY_NAME', 'CONTRACTING_OFFICE_ID', 'CONTRACTING_OFFICE_NAME']]\n",
    "\n",
    "# Save the selected columns to a CSV file\n",
    "specific_columns_df.to_csv('specific_columns.csv', index=False)"
   ]
  },
  {
   "cell_type": "code",
   "execution_count": null,
   "id": "2615725e-abdf-49ed-9267-a353bc300372",
   "metadata": {
    "tags": []
   },
   "outputs": [],
   "source": [
    "final_df = filtered_merged_df[cols]"
   ]
  },
  {
   "cell_type": "code",
   "execution_count": null,
   "id": "75cd3457-1fa1-414b-93a6-1f613b113cd2",
   "metadata": {
    "tags": []
   },
   "outputs": [
    {
     "name": "stderr",
     "output_type": "stream",
     "text": [
      "/var/folders/l2/yg146pls5_q015mz26q0pyfm0000gn/T/ipykernel_51786/563242062.py:1: SettingWithCopyWarning: \n",
      "A value is trying to be set on a copy of a slice from a DataFrame.\n",
      "Try using .loc[row_indexer,col_indexer] = value instead\n",
      "\n",
      "See the caveats in the documentation: https://pandas.pydata.org/pandas-docs/stable/user_guide/indexing.html#returning-a-view-versus-a-copy\n",
      "  final_df['DOLLARS_OBLIGATED'] = np.log(final_df['DOLLARS_OBLIGATED'])\n"
     ]
    }
   ],
   "source": [
    "final_df['DOLLARS_OBLIGATED'] = np.log(final_df['DOLLARS_OBLIGATED'])"
   ]
  },
  {
   "cell_type": "code",
   "execution_count": null,
   "id": "5deeebd4",
   "metadata": {},
   "outputs": [
    {
     "name": "stdout",
     "output_type": "stream",
     "text": [
      "IDV_CONTRACTING_AGENCY_ID\n",
      "4732    23545\n",
      "8000    14602\n",
      "4740     6804\n",
      "1700     6799\n",
      "2100     5158\n",
      "7001     2973\n",
      "3600     2846\n",
      "4730     2553\n",
      "7529     2336\n",
      "12C2     1604\n",
      "Name: count, dtype: int64\n"
     ]
    }
   ],
   "source": [
    "top_10_agencies = final_df['IDV_CONTRACTING_AGENCY_ID'].value_counts().nlargest(10)\n",
    "print(top_10_agencies)"
   ]
  },
  {
   "cell_type": "code",
   "execution_count": null,
   "id": "98d1c7c6",
   "metadata": {},
   "outputs": [
    {
     "name": "stderr",
     "output_type": "stream",
     "text": [
      "/var/folders/l2/yg146pls5_q015mz26q0pyfm0000gn/T/ipykernel_51786/3240328190.py:7: SettingWithCopyWarning: \n",
      "A value is trying to be set on a copy of a slice from a DataFrame.\n",
      "Try using .loc[row_indexer,col_indexer] = value instead\n",
      "\n",
      "See the caveats in the documentation: https://pandas.pydata.org/pandas-docs/stable/user_guide/indexing.html#returning-a-view-versus-a-copy\n",
      "  final_df['Response_Variable'] = np.where(conditions, final_df['CONTRACTING_OFFICE_ID'], final_df['IDV_CONTRACTING_AGENCY_ID'])\n"
     ]
    }
   ],
   "source": [
    "conditions = (\n",
    "    (final_df['IDV_CONTRACTING_AGENCY_ID'] == '4732') |\n",
    "    (final_df['IDV_CONTRACTING_AGENCY_ID'] == '14602'))\n",
    "\n",
    "# Use np.where to assign 'CONTRACTING_OFFICE_NAME' or 'IDV_CONTRACTING_AGENCY_NAME' to the new column based on the condition\n",
    "final_df['Response_Variable'] = np.where(conditions, final_df['CONTRACTING_OFFICE_ID'], final_df['IDV_CONTRACTING_AGENCY_ID'])"
   ]
  },
  {
   "cell_type": "code",
   "execution_count": null,
   "id": "96b46744",
   "metadata": {},
   "outputs": [],
   "source": [
    "value_counts = final_df['Response_Variable'].value_counts()\n",
    "\n",
    "# Filter 'value_counts' to find values that occur 2 or more times\n",
    "values_to_keep = value_counts[value_counts >= 15].index.tolist()\n",
    "\n",
    "# Filter the DataFrame to keep rows where 'Response_Variable' is in 'values_to_keep'\n",
    "final_df = final_df[final_df['Response_Variable'].isin(values_to_keep)]"
   ]
  },
  {
   "cell_type": "code",
   "execution_count": null,
   "id": "4fd67982",
   "metadata": {},
   "outputs": [
    {
     "data": {
      "text/plain": [
       "(78091, 58)"
      ]
     },
     "execution_count": 228,
     "metadata": {},
     "output_type": "execute_result"
    }
   ],
   "source": [
    "final_df.shape"
   ]
  },
  {
   "cell_type": "code",
   "execution_count": null,
   "id": "204fda98",
   "metadata": {},
   "outputs": [
    {
     "data": {
      "text/plain": [
       "Response_Variable\n",
       "8000      14602\n",
       "4740       6804\n",
       "1700       6799\n",
       "2100       5158\n",
       "7001       2973\n",
       "          ...  \n",
       "2041         15\n",
       "690567       15\n",
       "47PL02       15\n",
       "47PC02       15\n",
       "36C250       15\n",
       "Name: count, Length: 427, dtype: int64"
      ]
     },
     "execution_count": 229,
     "metadata": {},
     "output_type": "execute_result"
    }
   ],
   "source": [
    "final_df['Response_Variable'].value_counts()"
   ]
  },
  {
   "cell_type": "code",
   "execution_count": null,
   "id": "7a98faae",
   "metadata": {},
   "outputs": [],
   "source": [
    "final_df['VENDOR_ADDRESS_ZIP_CODE'] = final_df['VENDOR_ADDRESS_ZIP_CODE'].str[:1]\n",
    "final_df['PRINCIPAL_NAICS_CODE'] = final_df['PRINCIPAL_NAICS_CODE'].str[:2]"
   ]
  },
  {
   "cell_type": "code",
   "execution_count": null,
   "id": "26333685",
   "metadata": {},
   "outputs": [],
   "source": [
    "frac = 0.4"
   ]
  },
  {
   "cell_type": "code",
   "execution_count": null,
   "id": "85699c3b",
   "metadata": {},
   "outputs": [],
   "source": [
    "final_df = final_df.sample(frac=frac, random_state=67)"
   ]
  },
  {
   "cell_type": "code",
   "execution_count": null,
   "id": "404459e1",
   "metadata": {},
   "outputs": [],
   "source": [
    "Xy = final_df[['RESEARCH_AND_DEVELOPMENT',\n",
    "'DOMESTIC_SHELTER',\n",
    "'TYPE_OF_SET_ASIDE',\n",
    "'CONSTRUCTION_FIRM',\n",
    "'IDV_EVALUATED_PREFERENCE',\n",
    "'CO_BUS_SIZE_DETERMINATION',\n",
    "'VETERAN_OWNED_FLAG',\n",
    "'CORP_ENTITY_NOT_TAX_EXEMPT',\n",
    "'SERVICE_PROVIDER',\n",
    "'PRODUCT_OR_SERVICE_TYPE',\n",
    "'FOUNDATION',\n",
    "'EVALUATED_PREFERENCE',\n",
    "'SRDVOB_FLAG',\n",
    "'CORP_ENTITY_TAX_EXEMPT',\n",
    "'MANUFACTURER_OF_GOODS',\n",
    "'VENDOR_ADDRESS_ZIP_CODE',\n",
    "'SDB',\n",
    "'VETERINARY_HOSPITAL',\n",
    "'COMMUNITY_CORP_OWNED_FIRM',\n",
    "'DOT_CERTIFIED_DISADV_BUS',\n",
    "'PRINCIPAL_NAICS_CODE',\n",
    "'EDUCATIONAL_INSTITUTION_FLAG',\n",
    "'LIMITED_LIABILITY_CORPORATION',\n",
    "'EXTENT_COMPETED',\n",
    "'FEDERALLY_FUNDED_R_AND_D_CORP',\n",
    "'SOLE_PROPREITORSHIP',\n",
    "'WOMEN_OWNED_FLAG',\n",
    "'ARCHITECTURE_AND_ENGINEERING',\n",
    "'HISPANIC_SERVICING_INSTITUTION',\n",
    "'PLACE_OF_MANUFACTURE',\n",
    "'IDV_EXTENT_COMPETED',\n",
    "'FIRM_8A_FLAG',\n",
    "'SMALL_AGRICULTURAL_COOPERATIVE',\n",
    "'INTERNATIONAL_ORGANIZATION',\n",
    "'PARTNERSHIP_OR_LLP',\n",
    "'DOLLARS_OBLIGATED',\n",
    "'IDV_NUMBER_OF_OFFERS',\n",
    "'FOR_PROFIT_ORGANIZATION',\n",
    "'FIRM8A_JOINT_VENTURE',\n",
    "'Response_Variable']].dropna()"
   ]
  },
  {
   "cell_type": "code",
   "execution_count": null,
   "id": "4c5c1023",
   "metadata": {},
   "outputs": [],
   "source": [
    "from sklearn.preprocessing import LabelEncoder\n",
    "\n",
    "y = Xy['Response_Variable']\n",
    "enc = LabelEncoder()\n",
    "y = enc.fit_transform(y)"
   ]
  },
  {
   "cell_type": "code",
   "execution_count": null,
   "id": "233e6d45",
   "metadata": {},
   "outputs": [],
   "source": [
    "X = Xy.drop('Response_Variable', axis = 1)"
   ]
  },
  {
   "cell_type": "code",
   "execution_count": null,
   "id": "8e1d181f",
   "metadata": {},
   "outputs": [],
   "source": [
    "from sklearn.linear_model import Lasso\n",
    "from sklearn.preprocessing import LabelEncoder\n",
    "enc = LabelEncoder()\n",
    "# Initialize LabelEncoder\n",
    "X = pd.get_dummies(X, drop_first=False)\n",
    "# Encode target variable y\n",
    "\n",
    "# Initialize the Lasso model\n",
    "lasso = Lasso(alpha=0.1)  # You can adjust the alpha parameter as needed\n",
    "\n",
    "# Fit the Lasso model to your data\n",
    "lasso.fit(X, y)\n",
    "\n",
    "# Get the coefficients of the features\n",
    "coefficients = lasso.coef_\n",
    "\n",
    "# Find the indices of non-zero coefficients\n",
    "non_zero_indices = [i for i, coef in enumerate(coefficients) if coef != 0]\n",
    "\n",
    "# Get the column names corresponding to non-zero coefficients\n",
    "non_zero_columns = X.columns[non_zero_indices]\n"
   ]
  },
  {
   "cell_type": "code",
   "execution_count": null,
   "id": "60ce156a",
   "metadata": {},
   "outputs": [],
   "source": [
    "xfinal = X[non_zero_columns]"
   ]
  },
  {
   "cell_type": "code",
   "execution_count": null,
   "id": "3d23468f",
   "metadata": {},
   "outputs": [
    {
     "data": {
      "text/plain": [
       "Index(['DOLLARS_OBLIGATED', 'IDV_NUMBER_OF_OFFERS', 'TYPE_OF_SET_ASIDE_8A',\n",
       "       'TYPE_OF_SET_ASIDE_HZC', 'TYPE_OF_SET_ASIDE_ISBEE',\n",
       "       'TYPE_OF_SET_ASIDE_NONE', 'TYPE_OF_SET_ASIDE_SBA',\n",
       "       'TYPE_OF_SET_ASIDE_SBP', 'TYPE_OF_SET_ASIDE_SDVOSBC',\n",
       "       'CORP_ENTITY_NOT_TAX_EXEMPT_NO', 'CORP_ENTITY_NOT_TAX_EXEMPT_YES',\n",
       "       'PRODUCT_OR_SERVICE_TYPE_P', 'PRODUCT_OR_SERVICE_TYPE_S',\n",
       "       'SRDVOB_FLAG_NO', 'MANUFACTURER_OF_GOODS_NO',\n",
       "       'MANUFACTURER_OF_GOODS_YES', 'VENDOR_ADDRESS_ZIP_CODE_0',\n",
       "       'VENDOR_ADDRESS_ZIP_CODE_2', 'VENDOR_ADDRESS_ZIP_CODE_3',\n",
       "       'VENDOR_ADDRESS_ZIP_CODE_4', 'VENDOR_ADDRESS_ZIP_CODE_6',\n",
       "       'VENDOR_ADDRESS_ZIP_CODE_8', 'VENDOR_ADDRESS_ZIP_CODE_9', 'SDB_NO',\n",
       "       'SDB_YES', 'DOT_CERTIFIED_DISADV_BUS_NO',\n",
       "       'DOT_CERTIFIED_DISADV_BUS_YES', 'PRINCIPAL_NAICS_CODE_11',\n",
       "       'PRINCIPAL_NAICS_CODE_23', 'PRINCIPAL_NAICS_CODE_31',\n",
       "       'PRINCIPAL_NAICS_CODE_32', 'PRINCIPAL_NAICS_CODE_33',\n",
       "       'PRINCIPAL_NAICS_CODE_48', 'PRINCIPAL_NAICS_CODE_54',\n",
       "       'PRINCIPAL_NAICS_CODE_56', 'PRINCIPAL_NAICS_CODE_61',\n",
       "       'PRINCIPAL_NAICS_CODE_62', 'LIMITED_LIABILITY_CORPORATION_NO',\n",
       "       'LIMITED_LIABILITY_CORPORATION_YES', 'SOLE_PROPREITORSHIP_NO',\n",
       "       'SOLE_PROPREITORSHIP_YES', 'WOMEN_OWNED_FLAG_NO',\n",
       "       'WOMEN_OWNED_FLAG_YES', 'PLACE_OF_MANUFACTURE_C',\n",
       "       'PLACE_OF_MANUFACTURE_D', 'PLACE_OF_MANUFACTURE_L', 'FIRM_8A_FLAG_NO',\n",
       "       'FIRM_8A_FLAG_YES', 'PARTNERSHIP_OR_LLP_NO', 'PARTNERSHIP_OR_LLP_YES',\n",
       "       'FOR_PROFIT_ORGANIZATION_NO', 'FOR_PROFIT_ORGANIZATION_YES'],\n",
       "      dtype='object')"
      ]
     },
     "execution_count": 242,
     "metadata": {},
     "output_type": "execute_result"
    }
   ],
   "source": [
    "non_zero_columns"
   ]
  },
  {
   "cell_type": "code",
   "execution_count": null,
   "id": "bb30dbf9",
   "metadata": {},
   "outputs": [
    {
     "name": "stdout",
     "output_type": "stream",
     "text": [
      "Accuracy: 0.7130331240528253\n"
     ]
    },
    {
     "name": "stderr",
     "output_type": "stream",
     "text": [
      "/Users/kevinfinn/anaconda3/lib/python3.10/site-packages/sklearn/linear_model/_logistic.py:458: ConvergenceWarning: lbfgs failed to converge (status=1):\n",
      "STOP: TOTAL NO. of ITERATIONS REACHED LIMIT.\n",
      "\n",
      "Increase the number of iterations (max_iter) or scale the data as shown in:\n",
      "    https://scikit-learn.org/stable/modules/preprocessing.html\n",
      "Please also refer to the documentation for alternative solver options:\n",
      "    https://scikit-learn.org/stable/modules/linear_model.html#logistic-regression\n",
      "  n_iter_i = _check_optimize_result(\n"
     ]
    }
   ],
   "source": [
    "from sklearn.metrics import accuracy_score\n",
    "import numpy as np\n",
    "from sklearn.model_selection import train_test_split\n",
    "from sklearn.linear_model import LogisticRegression\n",
    "\n",
    "# Split the data into training and testing sets\n",
    "X_train, X_test, y_train, y_test = train_test_split(xfinal, y, train_size=0.7)\n",
    "\n",
    "# Initialize the Logistic Regression model with softmax activation\n",
    "log_reg = LogisticRegression(multi_class='multinomial', solver='lbfgs', max_iter=100)\n",
    "\n",
    "# Train the Logistic Regression model on the training data\n",
    "log_reg.fit(X_train, y_train)\n",
    "\n",
    "# Predict probabilities for the testing data\n",
    "probabilities = log_reg.predict_proba(X_test)\n",
    "\n",
    "# Get the top 3 predicted classes for each sample\n",
    "top_15_indices = np.argsort(probabilities, axis=1)[:, -15:]\n",
    "\n",
    "# Check if the true label is in the top 3 predicted classes for each sample\n",
    "predicted_labels = log_reg.classes_[top_15_indices]\n",
    "accurate_predictions = np.any(predicted_labels == y_test[:, np.newaxis], axis=1)\n",
    "\n",
    "# Calculate accuracy based on whether the true label is in the top 3 predicted classes\n",
    "accuracy = np.mean(accurate_predictions)\n",
    "print(\"Accuracy:\", accuracy)"
   ]
  },
  {
   "cell_type": "code",
   "execution_count": null,
   "id": "3c89ae51",
   "metadata": {},
   "outputs": [
    {
     "name": "stdout",
     "output_type": "stream",
     "text": [
      "Accuracy: 0.8240961247023165\n"
     ]
    }
   ],
   "source": [
    "from sklearn.metrics import accuracy_score\n",
    "import numpy as np\n",
    "from sklearn.model_selection import train_test_split\n",
    "from sklearn.ensemble import RandomForestClassifier\n",
    "\n",
    "# Assuming 'xfinal' and 'y' are your features and labels\n",
    "\n",
    "# Split the data into training and testing sets\n",
    "X_train, X_test, y_train, y_test = train_test_split(xfinal, y, train_size=0.7)\n",
    "\n",
    "# Initialize the Random Forest model\n",
    "random_forest = RandomForestClassifier(n_estimators=1000)\n",
    "\n",
    "# Train the Random Forest model on the training data\n",
    "random_forest.fit(X_train, y_train)\n",
    "\n",
    "# Predict probabilities for the testing data\n",
    "probabilities = random_forest.predict_proba(X_test)\n",
    "\n",
    "# Get the top 5 predicted classes for each sample\n",
    "top_15_indices = np.argsort(probabilities, axis=1)[:, -15:]\n",
    "\n",
    "# Check if the true label is in the top 5 predicted classes for each sample\n",
    "predicted_labels = random_forest.classes_[top_15_indices]\n",
    "accurate_predictions = np.any(predicted_labels == y_test[:, np.newaxis], axis=1)\n",
    "\n",
    "# Calculate accuracy based on whether the true label is in the top 5 predicted classes\n",
    "accuracy = np.mean(accurate_predictions)\n",
    "print(\"Accuracy:\", accuracy)"
   ]
  }
 ],
 "metadata": {
  "kernelspec": {
   "display_name": "Python 3 (ipykernel)",
   "language": "python",
   "name": "python3"
  },
  "language_info": {
   "codemirror_mode": {
    "name": "ipython",
    "version": 3
   },
   "file_extension": ".py",
   "mimetype": "text/x-python",
   "name": "python",
   "nbconvert_exporter": "python",
   "pygments_lexer": "ipython3",
   "version": "3.10.9"
  }
 },
 "nbformat": 4,
 "nbformat_minor": 5
}
