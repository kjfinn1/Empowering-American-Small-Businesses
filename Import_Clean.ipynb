{
 "cells": [
  {
   "cell_type": "markdown",
   "id": "88d32fa5-3aba-47f1-b0dc-c0cf359a43d5",
   "metadata": {},
   "source": [
    "## Import & Basic Clean"
   ]
  },
  {
   "cell_type": "code",
   "execution_count": 1,
   "id": "4bf656f0-5082-4df3-a7ac-d4f65ab1e1a0",
   "metadata": {
    "tags": []
   },
   "outputs": [
    {
     "name": "stderr",
     "output_type": "stream",
     "text": [
      "/Users/silashayes/anaconda3/lib/python3.11/site-packages/pandas/core/arrays/masked.py:60: UserWarning: Pandas requires version '1.3.6' or newer of 'bottleneck' (version '1.3.5' currently installed).\n",
      "  from pandas.core import (\n"
     ]
    }
   ],
   "source": [
    "import pandas as pd\n",
    "import polars as pl\n",
    "import numpy as np"
   ]
  },
  {
   "cell_type": "code",
   "execution_count": 2,
   "id": "84170324-09ff-457a-9605-23666da7b794",
   "metadata": {
    "tags": []
   },
   "outputs": [],
   "source": [
    "cols = ['TYPE_OF_SET_ASIDE', 'VENDOR_UEI', 'VENDOR_ADDRESS_ZIP_CODE',\n",
    "        'VENDOR_ADDRESS_COUNTRY_NAME', 'EDUCATIONAL_INSTITUTION_FLAG', \n",
    "        'FIRM_8A_FLAG', 'WOMEN_OWNED_FLAG', \n",
    "        'WOSB_FLAG', 'JVWOSB_FLAG', 'EDWOSB_FLAG', 'EDJVWOSB_FLAG', \n",
    "        'FIRM8A_JOINT_VENTURE', 'FEDERALLY_FUNDED_R_AND_D_CORP', 'CORP_ENTITY_NOT_TAX_EXEMPT', 'CORP_ENTITY_TAX_EXEMPT', \n",
    "        'PARTNERSHIP_OR_LLP', 'SOLE_PROPREITORSHIP', 'SMALL_AGRICULTURAL_COOPERATIVE', 'INTERNATIONAL_ORGANIZATION', \n",
    "        'ARCHITECTURE_AND_ENGINEERING', 'COMMUNITY_CORP_OWNED_FIRM', 'CONSTRUCTION_FIRM', 'DOMESTIC_SHELTER', \n",
    "        'FOUNDATION', 'MANUFACTURER_OF_GOODS', 'RESEARCH_AND_DEVELOPMENT', 'SERVICE_PROVIDER', \n",
    "        'VETERINARY_HOSPITAL', 'HISPANIC_SERVICING_INSTITUTION', 'LIMITED_LIABILITY_CORPORATION']"
   ]
  },
  {
   "cell_type": "code",
   "execution_count": 3,
   "id": "7e54458d-35b1-45a3-b333-a20c07da9e39",
   "metadata": {
    "tags": []
   },
   "outputs": [
    {
     "name": "stdout",
     "output_type": "stream",
     "text": [
      "CPU times: user 4.8 s, sys: 11 s, total: 15.8 s\n",
      "Wall time: 7.25 s\n"
     ]
    }
   ],
   "source": [
    "%%time\n",
    "test_2022 = pl.read_parquet('2022.parquet', columns=cols)"
   ]
  },
  {
   "cell_type": "code",
   "execution_count": 4,
   "id": "d19c33fb-82a0-40a3-9508-8a2e020eff35",
   "metadata": {
    "tags": []
   },
   "outputs": [
    {
     "data": {
      "text/plain": [
       "(6088454, 30)"
      ]
     },
     "execution_count": 4,
     "metadata": {},
     "output_type": "execute_result"
    }
   ],
   "source": [
    "test_2022.shape"
   ]
  },
  {
   "cell_type": "code",
   "execution_count": 5,
   "id": "047e0c96-1cc3-47b9-b8d9-614640d7ee58",
   "metadata": {
    "tags": []
   },
   "outputs": [
    {
     "data": {
      "text/html": [
       "<div><style>\n",
       ".dataframe > thead > tr > th,\n",
       ".dataframe > tbody > tr > td {\n",
       "  text-align: right;\n",
       "  white-space: pre-wrap;\n",
       "}\n",
       "</style>\n",
       "<small>shape: (9, 31)</small><table border=\"1\" class=\"dataframe\"><thead><tr><th>describe</th><th>TYPE_OF_SET_ASIDE</th><th>VENDOR_UEI</th><th>VENDOR_ADDRESS_ZIP_CODE</th><th>VENDOR_ADDRESS_COUNTRY_NAME</th><th>EDUCATIONAL_INSTITUTION_FLAG</th><th>FIRM_8A_FLAG</th><th>WOMEN_OWNED_FLAG</th><th>WOSB_FLAG</th><th>JVWOSB_FLAG</th><th>EDWOSB_FLAG</th><th>EDJVWOSB_FLAG</th><th>FIRM8A_JOINT_VENTURE</th><th>FEDERALLY_FUNDED_R_AND_D_CORP</th><th>CORP_ENTITY_NOT_TAX_EXEMPT</th><th>CORP_ENTITY_TAX_EXEMPT</th><th>PARTNERSHIP_OR_LLP</th><th>SOLE_PROPREITORSHIP</th><th>SMALL_AGRICULTURAL_COOPERATIVE</th><th>INTERNATIONAL_ORGANIZATION</th><th>ARCHITECTURE_AND_ENGINEERING</th><th>COMMUNITY_CORP_OWNED_FIRM</th><th>CONSTRUCTION_FIRM</th><th>DOMESTIC_SHELTER</th><th>FOUNDATION</th><th>MANUFACTURER_OF_GOODS</th><th>RESEARCH_AND_DEVELOPMENT</th><th>SERVICE_PROVIDER</th><th>VETERINARY_HOSPITAL</th><th>HISPANIC_SERVICING_INSTITUTION</th><th>LIMITED_LIABILITY_CORPORATION</th></tr><tr><td>str</td><td>str</td><td>str</td><td>str</td><td>str</td><td>str</td><td>str</td><td>str</td><td>str</td><td>str</td><td>str</td><td>str</td><td>str</td><td>str</td><td>str</td><td>str</td><td>str</td><td>str</td><td>str</td><td>str</td><td>str</td><td>str</td><td>str</td><td>str</td><td>str</td><td>str</td><td>str</td><td>str</td><td>str</td><td>str</td><td>str</td></tr></thead><tbody><tr><td>&quot;count&quot;</td><td>&quot;6088454&quot;</td><td>&quot;6088454&quot;</td><td>&quot;6088454&quot;</td><td>&quot;6088454&quot;</td><td>&quot;6088454&quot;</td><td>&quot;6088454&quot;</td><td>&quot;6088454&quot;</td><td>&quot;6088454&quot;</td><td>&quot;6088454&quot;</td><td>&quot;6088454&quot;</td><td>&quot;6088454&quot;</td><td>&quot;6088454&quot;</td><td>&quot;6088454&quot;</td><td>&quot;6088454&quot;</td><td>&quot;6088454&quot;</td><td>&quot;6088454&quot;</td><td>&quot;6088454&quot;</td><td>&quot;6088454&quot;</td><td>&quot;6088454&quot;</td><td>&quot;6088454&quot;</td><td>&quot;6088454&quot;</td><td>&quot;6088454&quot;</td><td>&quot;6088454&quot;</td><td>&quot;6088454&quot;</td><td>&quot;6088454&quot;</td><td>&quot;6088454&quot;</td><td>&quot;6088454&quot;</td><td>&quot;6088454&quot;</td><td>&quot;6088454&quot;</td><td>&quot;6088454&quot;</td></tr><tr><td>&quot;null_count&quot;</td><td>&quot;940684&quot;</td><td>&quot;0&quot;</td><td>&quot;10325&quot;</td><td>&quot;297&quot;</td><td>&quot;0&quot;</td><td>&quot;0&quot;</td><td>&quot;0&quot;</td><td>&quot;0&quot;</td><td>&quot;0&quot;</td><td>&quot;0&quot;</td><td>&quot;0&quot;</td><td>&quot;0&quot;</td><td>&quot;0&quot;</td><td>&quot;0&quot;</td><td>&quot;0&quot;</td><td>&quot;0&quot;</td><td>&quot;0&quot;</td><td>&quot;0&quot;</td><td>&quot;0&quot;</td><td>&quot;0&quot;</td><td>&quot;0&quot;</td><td>&quot;0&quot;</td><td>&quot;0&quot;</td><td>&quot;0&quot;</td><td>&quot;0&quot;</td><td>&quot;0&quot;</td><td>&quot;0&quot;</td><td>&quot;0&quot;</td><td>&quot;0&quot;</td><td>&quot;0&quot;</td></tr><tr><td>&quot;mean&quot;</td><td>null</td><td>null</td><td>null</td><td>null</td><td>null</td><td>null</td><td>null</td><td>null</td><td>null</td><td>null</td><td>null</td><td>null</td><td>null</td><td>null</td><td>null</td><td>null</td><td>null</td><td>null</td><td>null</td><td>null</td><td>null</td><td>null</td><td>null</td><td>null</td><td>null</td><td>null</td><td>null</td><td>null</td><td>null</td><td>null</td></tr><tr><td>&quot;std&quot;</td><td>null</td><td>null</td><td>null</td><td>null</td><td>null</td><td>null</td><td>null</td><td>null</td><td>null</td><td>null</td><td>null</td><td>null</td><td>null</td><td>null</td><td>null</td><td>null</td><td>null</td><td>null</td><td>null</td><td>null</td><td>null</td><td>null</td><td>null</td><td>null</td><td>null</td><td>null</td><td>null</td><td>null</td><td>null</td><td>null</td></tr><tr><td>&quot;min&quot;</td><td>&quot;8A&quot;</td><td>&quot;C112ZNS5HMR4&quot;</td><td>&quot;0&quot;</td><td>&quot;AFGHANISTAN&quot;</td><td>&quot;NO&quot;</td><td>&quot;NO&quot;</td><td>&quot;NO&quot;</td><td>&quot;NO&quot;</td><td>&quot;NO&quot;</td><td>&quot;NO&quot;</td><td>&quot;NO&quot;</td><td>&quot;NO&quot;</td><td>&quot;NO&quot;</td><td>&quot;NO&quot;</td><td>&quot;NO&quot;</td><td>&quot;NO&quot;</td><td>&quot;NO&quot;</td><td>&quot;NO&quot;</td><td>&quot;NO&quot;</td><td>&quot;NO&quot;</td><td>&quot;NO&quot;</td><td>&quot;NO&quot;</td><td>&quot;NO&quot;</td><td>&quot;NO&quot;</td><td>&quot;NO&quot;</td><td>&quot;NO&quot;</td><td>&quot;NO&quot;</td><td>&quot;NO&quot;</td><td>&quot;NO&quot;</td><td>&quot;NO&quot;</td></tr><tr><td>&quot;25%&quot;</td><td>null</td><td>null</td><td>null</td><td>null</td><td>null</td><td>null</td><td>null</td><td>null</td><td>null</td><td>null</td><td>null</td><td>null</td><td>null</td><td>null</td><td>null</td><td>null</td><td>null</td><td>null</td><td>null</td><td>null</td><td>null</td><td>null</td><td>null</td><td>null</td><td>null</td><td>null</td><td>null</td><td>null</td><td>null</td><td>null</td></tr><tr><td>&quot;50%&quot;</td><td>null</td><td>null</td><td>null</td><td>null</td><td>null</td><td>null</td><td>null</td><td>null</td><td>null</td><td>null</td><td>null</td><td>null</td><td>null</td><td>null</td><td>null</td><td>null</td><td>null</td><td>null</td><td>null</td><td>null</td><td>null</td><td>null</td><td>null</td><td>null</td><td>null</td><td>null</td><td>null</td><td>null</td><td>null</td><td>null</td></tr><tr><td>&quot;75%&quot;</td><td>null</td><td>null</td><td>null</td><td>null</td><td>null</td><td>null</td><td>null</td><td>null</td><td>null</td><td>null</td><td>null</td><td>null</td><td>null</td><td>null</td><td>null</td><td>null</td><td>null</td><td>null</td><td>null</td><td>null</td><td>null</td><td>null</td><td>null</td><td>null</td><td>null</td><td>null</td><td>null</td><td>null</td><td>null</td><td>null</td></tr><tr><td>&quot;max&quot;</td><td>&quot;WOSBSS&quot;</td><td>&quot;ZZZVZZB9ML33&quot;</td><td>&quot;Z01D4T1&quot;</td><td>&quot;ZIMBABWE&quot;</td><td>&quot;YES&quot;</td><td>&quot;YES&quot;</td><td>&quot;YES&quot;</td><td>&quot;YES&quot;</td><td>&quot;YES&quot;</td><td>&quot;YES&quot;</td><td>&quot;YES&quot;</td><td>&quot;YES&quot;</td><td>&quot;YES&quot;</td><td>&quot;YES&quot;</td><td>&quot;YES&quot;</td><td>&quot;YES&quot;</td><td>&quot;YES&quot;</td><td>&quot;YES&quot;</td><td>&quot;YES&quot;</td><td>&quot;YES&quot;</td><td>&quot;YES&quot;</td><td>&quot;YES&quot;</td><td>&quot;YES&quot;</td><td>&quot;YES&quot;</td><td>&quot;YES&quot;</td><td>&quot;YES&quot;</td><td>&quot;YES&quot;</td><td>&quot;YES&quot;</td><td>&quot;YES&quot;</td><td>&quot;YES&quot;</td></tr></tbody></table></div>"
      ],
      "text/plain": [
       "shape: (9, 31)\n",
       "┌───────────┬───────────┬───────────┬───────────┬───┬───────────┬───────────┬───────────┬──────────┐\n",
       "│ describe  ┆ TYPE_OF_S ┆ VENDOR_UE ┆ VENDOR_AD ┆ … ┆ SERVICE_P ┆ VETERINAR ┆ HISPANIC_ ┆ LIMITED_ │\n",
       "│ ---       ┆ ET_ASIDE  ┆ I         ┆ DRESS_ZIP ┆   ┆ ROVIDER   ┆ Y_HOSPITA ┆ SERVICING ┆ LIABILIT │\n",
       "│ str       ┆ ---       ┆ ---       ┆ _CODE     ┆   ┆ ---       ┆ L         ┆ _INSTITUT ┆ Y_CORPOR │\n",
       "│           ┆ str       ┆ str       ┆ ---       ┆   ┆ str       ┆ ---       ┆ ION       ┆ ATION    │\n",
       "│           ┆           ┆           ┆ str       ┆   ┆           ┆ str       ┆ ---       ┆ ---      │\n",
       "│           ┆           ┆           ┆           ┆   ┆           ┆           ┆ str       ┆ str      │\n",
       "╞═══════════╪═══════════╪═══════════╪═══════════╪═══╪═══════════╪═══════════╪═══════════╪══════════╡\n",
       "│ count     ┆ 6088454   ┆ 6088454   ┆ 6088454   ┆ … ┆ 6088454   ┆ 6088454   ┆ 6088454   ┆ 6088454  │\n",
       "│ null_coun ┆ 940684    ┆ 0         ┆ 10325     ┆ … ┆ 0         ┆ 0         ┆ 0         ┆ 0        │\n",
       "│ t         ┆           ┆           ┆           ┆   ┆           ┆           ┆           ┆          │\n",
       "│ mean      ┆ null      ┆ null      ┆ null      ┆ … ┆ null      ┆ null      ┆ null      ┆ null     │\n",
       "│ std       ┆ null      ┆ null      ┆ null      ┆ … ┆ null      ┆ null      ┆ null      ┆ null     │\n",
       "│ min       ┆ 8A        ┆ C112ZNS5H ┆ 0         ┆ … ┆ NO        ┆ NO        ┆ NO        ┆ NO       │\n",
       "│           ┆           ┆ MR4       ┆           ┆   ┆           ┆           ┆           ┆          │\n",
       "│ 25%       ┆ null      ┆ null      ┆ null      ┆ … ┆ null      ┆ null      ┆ null      ┆ null     │\n",
       "│ 50%       ┆ null      ┆ null      ┆ null      ┆ … ┆ null      ┆ null      ┆ null      ┆ null     │\n",
       "│ 75%       ┆ null      ┆ null      ┆ null      ┆ … ┆ null      ┆ null      ┆ null      ┆ null     │\n",
       "│ max       ┆ WOSBSS    ┆ ZZZVZZB9M ┆ Z01D4T1   ┆ … ┆ YES       ┆ YES       ┆ YES       ┆ YES      │\n",
       "│           ┆           ┆ L33       ┆           ┆   ┆           ┆           ┆           ┆          │\n",
       "└───────────┴───────────┴───────────┴───────────┴───┴───────────┴───────────┴───────────┴──────────┘"
      ]
     },
     "execution_count": 5,
     "metadata": {},
     "output_type": "execute_result"
    }
   ],
   "source": [
    "test_2022.describe()"
   ]
  },
  {
   "cell_type": "markdown",
   "id": "75aa219e-b063-42d3-8d51-2bd1774f047a",
   "metadata": {},
   "source": [
    "### Convert Yes/No to 1/0"
   ]
  },
  {
   "cell_type": "code",
   "execution_count": 6,
   "id": "ffc5a10b-c1ed-45d6-8273-5a045f08d43e",
   "metadata": {
    "tags": []
   },
   "outputs": [
    {
     "data": {
      "text/html": [
       "<div><style>\n",
       ".dataframe > thead > tr > th,\n",
       ".dataframe > tbody > tr > td {\n",
       "  text-align: right;\n",
       "  white-space: pre-wrap;\n",
       "}\n",
       "</style>\n",
       "<small>shape: (9, 31)</small><table border=\"1\" class=\"dataframe\"><thead><tr><th>describe</th><th>TYPE_OF_SET_ASIDE</th><th>VENDOR_UEI</th><th>VENDOR_ADDRESS_ZIP_CODE</th><th>VENDOR_ADDRESS_COUNTRY_NAME</th><th>EDUCATIONAL_INSTITUTION_FLAG</th><th>FIRM_8A_FLAG</th><th>WOMEN_OWNED_FLAG</th><th>WOSB_FLAG</th><th>JVWOSB_FLAG</th><th>EDWOSB_FLAG</th><th>EDJVWOSB_FLAG</th><th>FIRM8A_JOINT_VENTURE</th><th>FEDERALLY_FUNDED_R_AND_D_CORP</th><th>CORP_ENTITY_NOT_TAX_EXEMPT</th><th>CORP_ENTITY_TAX_EXEMPT</th><th>PARTNERSHIP_OR_LLP</th><th>SOLE_PROPREITORSHIP</th><th>SMALL_AGRICULTURAL_COOPERATIVE</th><th>INTERNATIONAL_ORGANIZATION</th><th>ARCHITECTURE_AND_ENGINEERING</th><th>COMMUNITY_CORP_OWNED_FIRM</th><th>CONSTRUCTION_FIRM</th><th>DOMESTIC_SHELTER</th><th>FOUNDATION</th><th>MANUFACTURER_OF_GOODS</th><th>RESEARCH_AND_DEVELOPMENT</th><th>SERVICE_PROVIDER</th><th>VETERINARY_HOSPITAL</th><th>HISPANIC_SERVICING_INSTITUTION</th><th>LIMITED_LIABILITY_CORPORATION</th></tr><tr><td>str</td><td>str</td><td>str</td><td>str</td><td>str</td><td>f64</td><td>f64</td><td>f64</td><td>f64</td><td>f64</td><td>f64</td><td>f64</td><td>f64</td><td>f64</td><td>f64</td><td>f64</td><td>f64</td><td>f64</td><td>f64</td><td>f64</td><td>f64</td><td>f64</td><td>f64</td><td>f64</td><td>f64</td><td>f64</td><td>f64</td><td>f64</td><td>f64</td><td>f64</td><td>f64</td></tr></thead><tbody><tr><td>&quot;count&quot;</td><td>&quot;6088454&quot;</td><td>&quot;6088454&quot;</td><td>&quot;6088454&quot;</td><td>&quot;6088454&quot;</td><td>6.088454e6</td><td>6.088454e6</td><td>6.088454e6</td><td>6.088454e6</td><td>6.088454e6</td><td>6.088454e6</td><td>6.088454e6</td><td>6.088454e6</td><td>6.088454e6</td><td>6.088454e6</td><td>6.088454e6</td><td>6.088454e6</td><td>6.088454e6</td><td>6.088454e6</td><td>6.088454e6</td><td>6.088454e6</td><td>6.088454e6</td><td>6.088454e6</td><td>6.088454e6</td><td>6.088454e6</td><td>6.088454e6</td><td>6.088454e6</td><td>6.088454e6</td><td>6.088454e6</td><td>6.088454e6</td><td>6.088454e6</td></tr><tr><td>&quot;null_count&quot;</td><td>&quot;940684&quot;</td><td>&quot;0&quot;</td><td>&quot;10325&quot;</td><td>&quot;297&quot;</td><td>0.0</td><td>0.0</td><td>0.0</td><td>0.0</td><td>0.0</td><td>0.0</td><td>0.0</td><td>0.0</td><td>0.0</td><td>0.0</td><td>0.0</td><td>0.0</td><td>0.0</td><td>0.0</td><td>0.0</td><td>0.0</td><td>0.0</td><td>0.0</td><td>0.0</td><td>0.0</td><td>0.0</td><td>0.0</td><td>0.0</td><td>0.0</td><td>0.0</td><td>0.0</td></tr><tr><td>&quot;mean&quot;</td><td>null</td><td>null</td><td>null</td><td>null</td><td>0.003331</td><td>0.026497</td><td>0.101212</td><td>0.076977</td><td>0.001066</td><td>0.024848</td><td>0.00073</td><td>0.001644</td><td>0.000026</td><td>0.793155</td><td>0.010072</td><td>0.056546</td><td>0.015039</td><td>0.000156</td><td>0.002914</td><td>0.001529</td><td>0.000521</td><td>0.000324</td><td>0.000137</td><td>0.000228</td><td>0.141475</td><td>0.000537</td><td>0.00263</td><td>0.00004</td><td>0.000115</td><td>0.193194</td></tr><tr><td>&quot;std&quot;</td><td>null</td><td>null</td><td>null</td><td>null</td><td>0.057621</td><td>0.160608</td><td>0.301609</td><td>0.266555</td><td>0.032639</td><td>0.15566</td><td>0.027016</td><td>0.040508</td><td>0.005062</td><td>0.405044</td><td>0.099854</td><td>0.230973</td><td>0.121708</td><td>0.01249</td><td>0.053906</td><td>0.039076</td><td>0.022816</td><td>0.01799</td><td>0.011689</td><td>0.015108</td><td>0.348511</td><td>0.023158</td><td>0.05122</td><td>0.006304</td><td>0.010722</td><td>0.394804</td></tr><tr><td>&quot;min&quot;</td><td>&quot;8A&quot;</td><td>&quot;C112ZNS5HMR4&quot;</td><td>&quot;0&quot;</td><td>&quot;AFGHANISTAN&quot;</td><td>0.0</td><td>0.0</td><td>0.0</td><td>0.0</td><td>0.0</td><td>0.0</td><td>0.0</td><td>0.0</td><td>0.0</td><td>0.0</td><td>0.0</td><td>0.0</td><td>0.0</td><td>0.0</td><td>0.0</td><td>0.0</td><td>0.0</td><td>0.0</td><td>0.0</td><td>0.0</td><td>0.0</td><td>0.0</td><td>0.0</td><td>0.0</td><td>0.0</td><td>0.0</td></tr><tr><td>&quot;25%&quot;</td><td>null</td><td>null</td><td>null</td><td>null</td><td>0.0</td><td>0.0</td><td>0.0</td><td>0.0</td><td>0.0</td><td>0.0</td><td>0.0</td><td>0.0</td><td>0.0</td><td>1.0</td><td>0.0</td><td>0.0</td><td>0.0</td><td>0.0</td><td>0.0</td><td>0.0</td><td>0.0</td><td>0.0</td><td>0.0</td><td>0.0</td><td>0.0</td><td>0.0</td><td>0.0</td><td>0.0</td><td>0.0</td><td>0.0</td></tr><tr><td>&quot;50%&quot;</td><td>null</td><td>null</td><td>null</td><td>null</td><td>0.0</td><td>0.0</td><td>0.0</td><td>0.0</td><td>0.0</td><td>0.0</td><td>0.0</td><td>0.0</td><td>0.0</td><td>1.0</td><td>0.0</td><td>0.0</td><td>0.0</td><td>0.0</td><td>0.0</td><td>0.0</td><td>0.0</td><td>0.0</td><td>0.0</td><td>0.0</td><td>0.0</td><td>0.0</td><td>0.0</td><td>0.0</td><td>0.0</td><td>0.0</td></tr><tr><td>&quot;75%&quot;</td><td>null</td><td>null</td><td>null</td><td>null</td><td>0.0</td><td>0.0</td><td>0.0</td><td>0.0</td><td>0.0</td><td>0.0</td><td>0.0</td><td>0.0</td><td>0.0</td><td>1.0</td><td>0.0</td><td>0.0</td><td>0.0</td><td>0.0</td><td>0.0</td><td>0.0</td><td>0.0</td><td>0.0</td><td>0.0</td><td>0.0</td><td>0.0</td><td>0.0</td><td>0.0</td><td>0.0</td><td>0.0</td><td>0.0</td></tr><tr><td>&quot;max&quot;</td><td>&quot;WOSBSS&quot;</td><td>&quot;ZZZVZZB9ML33&quot;</td><td>&quot;Z01D4T1&quot;</td><td>&quot;ZIMBABWE&quot;</td><td>1.0</td><td>1.0</td><td>1.0</td><td>1.0</td><td>1.0</td><td>1.0</td><td>1.0</td><td>1.0</td><td>1.0</td><td>1.0</td><td>1.0</td><td>1.0</td><td>1.0</td><td>1.0</td><td>1.0</td><td>1.0</td><td>1.0</td><td>1.0</td><td>1.0</td><td>1.0</td><td>1.0</td><td>1.0</td><td>1.0</td><td>1.0</td><td>1.0</td><td>1.0</td></tr></tbody></table></div>"
      ],
      "text/plain": [
       "shape: (9, 31)\n",
       "┌───────────┬───────────┬───────────┬───────────┬───┬───────────┬───────────┬───────────┬──────────┐\n",
       "│ describe  ┆ TYPE_OF_S ┆ VENDOR_UE ┆ VENDOR_AD ┆ … ┆ SERVICE_P ┆ VETERINAR ┆ HISPANIC_ ┆ LIMITED_ │\n",
       "│ ---       ┆ ET_ASIDE  ┆ I         ┆ DRESS_ZIP ┆   ┆ ROVIDER   ┆ Y_HOSPITA ┆ SERVICING ┆ LIABILIT │\n",
       "│ str       ┆ ---       ┆ ---       ┆ _CODE     ┆   ┆ ---       ┆ L         ┆ _INSTITUT ┆ Y_CORPOR │\n",
       "│           ┆ str       ┆ str       ┆ ---       ┆   ┆ f64       ┆ ---       ┆ ION       ┆ ATION    │\n",
       "│           ┆           ┆           ┆ str       ┆   ┆           ┆ f64       ┆ ---       ┆ ---      │\n",
       "│           ┆           ┆           ┆           ┆   ┆           ┆           ┆ f64       ┆ f64      │\n",
       "╞═══════════╪═══════════╪═══════════╪═══════════╪═══╪═══════════╪═══════════╪═══════════╪══════════╡\n",
       "│ count     ┆ 6088454   ┆ 6088454   ┆ 6088454   ┆ … ┆ 6.088454e ┆ 6.088454e ┆ 6.088454e ┆ 6.088454 │\n",
       "│           ┆           ┆           ┆           ┆   ┆ 6         ┆ 6         ┆ 6         ┆ e6       │\n",
       "│ null_coun ┆ 940684    ┆ 0         ┆ 10325     ┆ … ┆ 0.0       ┆ 0.0       ┆ 0.0       ┆ 0.0      │\n",
       "│ t         ┆           ┆           ┆           ┆   ┆           ┆           ┆           ┆          │\n",
       "│ mean      ┆ null      ┆ null      ┆ null      ┆ … ┆ 0.00263   ┆ 0.00004   ┆ 0.000115  ┆ 0.193194 │\n",
       "│ std       ┆ null      ┆ null      ┆ null      ┆ … ┆ 0.05122   ┆ 0.006304  ┆ 0.010722  ┆ 0.394804 │\n",
       "│ min       ┆ 8A        ┆ C112ZNS5H ┆ 0         ┆ … ┆ 0.0       ┆ 0.0       ┆ 0.0       ┆ 0.0      │\n",
       "│           ┆           ┆ MR4       ┆           ┆   ┆           ┆           ┆           ┆          │\n",
       "│ 25%       ┆ null      ┆ null      ┆ null      ┆ … ┆ 0.0       ┆ 0.0       ┆ 0.0       ┆ 0.0      │\n",
       "│ 50%       ┆ null      ┆ null      ┆ null      ┆ … ┆ 0.0       ┆ 0.0       ┆ 0.0       ┆ 0.0      │\n",
       "│ 75%       ┆ null      ┆ null      ┆ null      ┆ … ┆ 0.0       ┆ 0.0       ┆ 0.0       ┆ 0.0      │\n",
       "│ max       ┆ WOSBSS    ┆ ZZZVZZB9M ┆ Z01D4T1   ┆ … ┆ 1.0       ┆ 1.0       ┆ 1.0       ┆ 1.0      │\n",
       "│           ┆           ┆ L33       ┆           ┆   ┆           ┆           ┆           ┆          │\n",
       "└───────────┴───────────┴───────────┴───────────┴───┴───────────┴───────────┴───────────┴──────────┘"
      ]
     },
     "execution_count": 6,
     "metadata": {},
     "output_type": "execute_result"
    }
   ],
   "source": [
    "def replace_yes_no_values(column):\n",
    "    return column.map_elements(lambda x: 1 if x == 'YES' else (0 if x == 'NO' else x))\n",
    "\n",
    "flag_columns = ['EDUCATIONAL_INSTITUTION_FLAG', 'FIRM_8A_FLAG', 'WOMEN_OWNED_FLAG',\n",
    "                'WOSB_FLAG', 'JVWOSB_FLAG', 'EDWOSB_FLAG', 'EDJVWOSB_FLAG',\n",
    "                'FIRM8A_JOINT_VENTURE', 'FEDERALLY_FUNDED_R_AND_D_CORP',\n",
    "                'CORP_ENTITY_NOT_TAX_EXEMPT', 'CORP_ENTITY_TAX_EXEMPT',\n",
    "                'PARTNERSHIP_OR_LLP', 'SOLE_PROPREITORSHIP', 'SMALL_AGRICULTURAL_COOPERATIVE',\n",
    "                'INTERNATIONAL_ORGANIZATION', 'ARCHITECTURE_AND_ENGINEERING',\n",
    "                'COMMUNITY_CORP_OWNED_FIRM', 'CONSTRUCTION_FIRM', 'DOMESTIC_SHELTER',\n",
    "                'FOUNDATION', 'MANUFACTURER_OF_GOODS', 'RESEARCH_AND_DEVELOPMENT',\n",
    "                'SERVICE_PROVIDER', 'VETERINARY_HOSPITAL', 'HISPANIC_SERVICING_INSTITUTION',\n",
    "                'LIMITED_LIABILITY_CORPORATION']\n",
    "\n",
    "for col in flag_columns:\n",
    "    test_2022 = test_2022.with_columns(replace_yes_no_values(test_2022[col]))\n",
    "\n",
    "test_2022.describe()"
   ]
  },
  {
   "cell_type": "markdown",
   "id": "f49a1021-f257-4601-a28b-7d1b300cba77",
   "metadata": {
    "tags": []
   },
   "source": [
    "## Feature Engineering"
   ]
  },
  {
   "cell_type": "code",
   "execution_count": 7,
   "id": "4ad7f64a-58fe-4cbe-b178-1c916fef137d",
   "metadata": {
    "tags": []
   },
   "outputs": [
    {
     "data": {
      "text/plain": [
       "(6088454, 26)"
      ]
     },
     "execution_count": 7,
     "metadata": {},
     "output_type": "execute_result"
    }
   ],
   "source": [
    "#combine women-owned columns into one\n",
    "women_summed = test_2022.select(['WOMEN_OWNED_FLAG', 'WOSB_FLAG', 'JVWOSB_FLAG', 'EDWOSB_FLAG', 'EDJVWOSB_FLAG']).transpose().sum().transpose()\n",
    "test_2022 = test_2022.with_columns(women_summed[\"column_0\"].map_elements(lambda x: 1 if x > 0 else 0).alias(\"WOMEN_OWNED_FLAG\"))\n",
    "test_2022 = test_2022.drop(['WOSB_FLAG', 'JVWOSB_FLAG', 'EDWOSB_FLAG', 'EDJVWOSB_FLAG'])\n",
    "test_2022.shape"
   ]
  },
  {
   "cell_type": "markdown",
   "id": "74148c62-6222-44d0-9a88-8eaf22d2b338",
   "metadata": {},
   "source": [
    "## Filters"
   ]
  },
  {
   "cell_type": "code",
   "execution_count": null,
   "id": "d169214e-f78e-4c6d-897f-f12a06017b89",
   "metadata": {},
   "outputs": [],
   "source": [
    "test_2022.select('VENDOR_ADDRESS_ZIP_CODE')"
   ]
  },
  {
   "cell_type": "code",
   "execution_count": 67,
   "id": "82167e51-aa90-4b1c-91af-83028c168006",
   "metadata": {
    "tags": []
   },
   "outputs": [
    {
     "data": {
      "text/html": [
       "<div><style>\n",
       ".dataframe > thead > tr > th,\n",
       ".dataframe > tbody > tr > td {\n",
       "  text-align: right;\n",
       "  white-space: pre-wrap;\n",
       "}\n",
       "</style>\n",
       "<small>shape: (297, 26)</small><table border=\"1\" class=\"dataframe\"><thead><tr><th>TYPE_OF_SET_ASIDE</th><th>VENDOR_UEI</th><th>VENDOR_ADDRESS_ZIP_CODE</th><th>VENDOR_ADDRESS_COUNTRY_NAME</th><th>EDUCATIONAL_INSTITUTION_FLAG</th><th>FIRM_8A_FLAG</th><th>WOMEN_OWNED_FLAG</th><th>FIRM8A_JOINT_VENTURE</th><th>FEDERALLY_FUNDED_R_AND_D_CORP</th><th>CORP_ENTITY_NOT_TAX_EXEMPT</th><th>CORP_ENTITY_TAX_EXEMPT</th><th>PARTNERSHIP_OR_LLP</th><th>SOLE_PROPREITORSHIP</th><th>SMALL_AGRICULTURAL_COOPERATIVE</th><th>INTERNATIONAL_ORGANIZATION</th><th>ARCHITECTURE_AND_ENGINEERING</th><th>COMMUNITY_CORP_OWNED_FIRM</th><th>CONSTRUCTION_FIRM</th><th>DOMESTIC_SHELTER</th><th>FOUNDATION</th><th>MANUFACTURER_OF_GOODS</th><th>RESEARCH_AND_DEVELOPMENT</th><th>SERVICE_PROVIDER</th><th>VETERINARY_HOSPITAL</th><th>HISPANIC_SERVICING_INSTITUTION</th><th>LIMITED_LIABILITY_CORPORATION</th></tr><tr><td>str</td><td>str</td><td>str</td><td>str</td><td>i64</td><td>i64</td><td>i64</td><td>i64</td><td>i64</td><td>i64</td><td>i64</td><td>i64</td><td>i64</td><td>i64</td><td>i64</td><td>i64</td><td>i64</td><td>i64</td><td>i64</td><td>i64</td><td>i64</td><td>i64</td><td>i64</td><td>i64</td><td>i64</td><td>i64</td></tr></thead><tbody><tr><td>&quot;NONE&quot;</td><td>&quot;S57RMSLGR1B7&quot;</td><td>&quot;232180010&quot;</td><td>null</td><td>1</td><td>0</td><td>0</td><td>0</td><td>0</td><td>0</td><td>0</td><td>0</td><td>0</td><td>0</td><td>0</td><td>0</td><td>0</td><td>0</td><td>0</td><td>0</td><td>0</td><td>0</td><td>0</td><td>0</td><td>0</td><td>0</td></tr><tr><td>&quot;NONE&quot;</td><td>&quot;S7VQLMHYXEM7&quot;</td><td>&quot;402021739&quot;</td><td>null</td><td>1</td><td>1</td><td>0</td><td>0</td><td>0</td><td>0</td><td>0</td><td>0</td><td>0</td><td>0</td><td>0</td><td>0</td><td>0</td><td>0</td><td>0</td><td>0</td><td>0</td><td>0</td><td>0</td><td>0</td><td>0</td><td>0</td></tr><tr><td>&quot;8AN&quot;</td><td>&quot;K6TWJ9B5DYM4&quot;</td><td>&quot;641102499&quot;</td><td>null</td><td>1</td><td>0</td><td>0</td><td>0</td><td>0</td><td>0</td><td>0</td><td>0</td><td>0</td><td>0</td><td>0</td><td>0</td><td>0</td><td>0</td><td>0</td><td>0</td><td>0</td><td>0</td><td>0</td><td>0</td><td>0</td><td>0</td></tr><tr><td>&quot;8AN&quot;</td><td>&quot;V731MPDBSRL8&quot;</td><td>&quot;481090600&quot;</td><td>null</td><td>1</td><td>0</td><td>0</td><td>0</td><td>0</td><td>0</td><td>0</td><td>0</td><td>0</td><td>0</td><td>0</td><td>0</td><td>0</td><td>0</td><td>0</td><td>0</td><td>0</td><td>0</td><td>0</td><td>0</td><td>0</td><td>0</td></tr><tr><td>&quot;NONE&quot;</td><td>&quot;S57RMSLGR1B7&quot;</td><td>&quot;232180010&quot;</td><td>null</td><td>1</td><td>0</td><td>0</td><td>0</td><td>0</td><td>0</td><td>0</td><td>0</td><td>0</td><td>0</td><td>0</td><td>0</td><td>0</td><td>0</td><td>0</td><td>0</td><td>0</td><td>0</td><td>0</td><td>0</td><td>0</td><td>0</td></tr><tr><td>&quot;NONE&quot;</td><td>&quot;MLU3KBGDNWZ8&quot;</td><td>&quot;10000&quot;</td><td>null</td><td>0</td><td>0</td><td>0</td><td>0</td><td>0</td><td>0</td><td>0</td><td>0</td><td>0</td><td>0</td><td>0</td><td>0</td><td>0</td><td>0</td><td>0</td><td>0</td><td>0</td><td>0</td><td>0</td><td>0</td><td>0</td><td>0</td></tr><tr><td>&quot;8AN&quot;</td><td>&quot;D7VCKYC47XF3&quot;</td><td>&quot;551043427&quot;</td><td>null</td><td>1</td><td>0</td><td>0</td><td>0</td><td>0</td><td>0</td><td>0</td><td>0</td><td>0</td><td>0</td><td>0</td><td>0</td><td>0</td><td>0</td><td>0</td><td>0</td><td>0</td><td>0</td><td>0</td><td>0</td><td>0</td><td>0</td></tr><tr><td>&quot;NONE&quot;</td><td>&quot;S7VQLMHYXEM7&quot;</td><td>&quot;402021739&quot;</td><td>null</td><td>1</td><td>1</td><td>0</td><td>0</td><td>0</td><td>0</td><td>0</td><td>0</td><td>0</td><td>0</td><td>0</td><td>0</td><td>0</td><td>0</td><td>0</td><td>0</td><td>0</td><td>0</td><td>0</td><td>0</td><td>0</td><td>0</td></tr><tr><td>&quot;8AN&quot;</td><td>&quot;K6TWJ9B5DYM4&quot;</td><td>&quot;641102499&quot;</td><td>null</td><td>1</td><td>0</td><td>0</td><td>0</td><td>0</td><td>0</td><td>0</td><td>0</td><td>0</td><td>0</td><td>0</td><td>0</td><td>0</td><td>0</td><td>0</td><td>0</td><td>0</td><td>0</td><td>0</td><td>0</td><td>0</td><td>0</td></tr><tr><td>&quot;8AN&quot;</td><td>&quot;V731MPDBSRL8&quot;</td><td>&quot;481090600&quot;</td><td>null</td><td>1</td><td>0</td><td>0</td><td>0</td><td>0</td><td>0</td><td>0</td><td>0</td><td>0</td><td>0</td><td>0</td><td>0</td><td>0</td><td>0</td><td>0</td><td>0</td><td>0</td><td>0</td><td>0</td><td>0</td><td>0</td><td>0</td></tr><tr><td>&quot;NONE&quot;</td><td>&quot;S3F8L568BKK8&quot;</td><td>&quot;27301&quot;</td><td>null</td><td>0</td><td>0</td><td>0</td><td>0</td><td>0</td><td>0</td><td>0</td><td>0</td><td>0</td><td>0</td><td>0</td><td>0</td><td>0</td><td>0</td><td>0</td><td>0</td><td>0</td><td>0</td><td>0</td><td>0</td><td>0</td><td>0</td></tr><tr><td>&quot;NONE&quot;</td><td>&quot;Z7UEK3L6GVW8&quot;</td><td>&quot;507 70&quot;</td><td>null</td><td>0</td><td>0</td><td>0</td><td>0</td><td>0</td><td>0</td><td>0</td><td>0</td><td>0</td><td>0</td><td>0</td><td>0</td><td>0</td><td>0</td><td>0</td><td>0</td><td>0</td><td>0</td><td>0</td><td>0</td><td>0</td><td>0</td></tr><tr><td>&hellip;</td><td>&hellip;</td><td>&hellip;</td><td>&hellip;</td><td>&hellip;</td><td>&hellip;</td><td>&hellip;</td><td>&hellip;</td><td>&hellip;</td><td>&hellip;</td><td>&hellip;</td><td>&hellip;</td><td>&hellip;</td><td>&hellip;</td><td>&hellip;</td><td>&hellip;</td><td>&hellip;</td><td>&hellip;</td><td>&hellip;</td><td>&hellip;</td><td>&hellip;</td><td>&hellip;</td><td>&hellip;</td><td>&hellip;</td><td>&hellip;</td><td>&hellip;</td></tr><tr><td>&quot;NONE&quot;</td><td>&quot;JVP4V8QFNHD7&quot;</td><td>&quot;856169610&quot;</td><td>null</td><td>0</td><td>0</td><td>0</td><td>0</td><td>0</td><td>0</td><td>0</td><td>0</td><td>0</td><td>0</td><td>0</td><td>0</td><td>0</td><td>0</td><td>0</td><td>0</td><td>0</td><td>0</td><td>0</td><td>0</td><td>0</td><td>0</td></tr><tr><td>&quot;NONE&quot;</td><td>&quot;MJWJPN628AE7&quot;</td><td>null</td><td>null</td><td>0</td><td>0</td><td>0</td><td>0</td><td>0</td><td>0</td><td>0</td><td>0</td><td>1</td><td>0</td><td>0</td><td>0</td><td>0</td><td>0</td><td>0</td><td>0</td><td>0</td><td>0</td><td>0</td><td>0</td><td>0</td><td>0</td></tr><tr><td>&quot;NONE&quot;</td><td>&quot;CJXLJMB8S231&quot;</td><td>null</td><td>null</td><td>0</td><td>0</td><td>0</td><td>0</td><td>0</td><td>0</td><td>0</td><td>0</td><td>0</td><td>0</td><td>0</td><td>0</td><td>0</td><td>0</td><td>0</td><td>0</td><td>0</td><td>0</td><td>0</td><td>0</td><td>0</td><td>0</td></tr><tr><td>&quot;NONE&quot;</td><td>&quot;MJWJPN628AE7&quot;</td><td>null</td><td>null</td><td>0</td><td>0</td><td>0</td><td>0</td><td>0</td><td>0</td><td>0</td><td>0</td><td>1</td><td>0</td><td>0</td><td>0</td><td>0</td><td>0</td><td>0</td><td>0</td><td>0</td><td>0</td><td>0</td><td>0</td><td>0</td><td>0</td></tr><tr><td>&quot;NONE&quot;</td><td>&quot;Z4JEXXWCLD11&quot;</td><td>null</td><td>null</td><td>0</td><td>0</td><td>0</td><td>0</td><td>0</td><td>0</td><td>0</td><td>0</td><td>1</td><td>0</td><td>0</td><td>0</td><td>0</td><td>0</td><td>0</td><td>0</td><td>0</td><td>0</td><td>0</td><td>0</td><td>0</td><td>0</td></tr><tr><td>&quot;NONE&quot;</td><td>&quot;MGXADJ6SCLJ5&quot;</td><td>null</td><td>null</td><td>0</td><td>0</td><td>0</td><td>0</td><td>0</td><td>1</td><td>0</td><td>0</td><td>0</td><td>0</td><td>0</td><td>0</td><td>0</td><td>0</td><td>0</td><td>0</td><td>0</td><td>0</td><td>0</td><td>0</td><td>0</td><td>0</td></tr><tr><td>&quot;NONE&quot;</td><td>&quot;HSSGPZY5H5A6&quot;</td><td>null</td><td>null</td><td>0</td><td>0</td><td>0</td><td>0</td><td>0</td><td>0</td><td>0</td><td>1</td><td>0</td><td>0</td><td>0</td><td>0</td><td>0</td><td>0</td><td>0</td><td>0</td><td>0</td><td>0</td><td>0</td><td>0</td><td>0</td><td>1</td></tr><tr><td>&quot;NONE&quot;</td><td>&quot;L5N9ZFZEFBN3&quot;</td><td>null</td><td>null</td><td>0</td><td>0</td><td>0</td><td>0</td><td>0</td><td>0</td><td>0</td><td>0</td><td>0</td><td>0</td><td>0</td><td>0</td><td>0</td><td>0</td><td>0</td><td>0</td><td>0</td><td>0</td><td>0</td><td>0</td><td>0</td><td>0</td></tr><tr><td>&quot;NONE&quot;</td><td>&quot;HDJ6L7LB3B98&quot;</td><td>null</td><td>null</td><td>0</td><td>1</td><td>0</td><td>0</td><td>0</td><td>1</td><td>0</td><td>0</td><td>0</td><td>0</td><td>0</td><td>0</td><td>0</td><td>0</td><td>0</td><td>0</td><td>0</td><td>0</td><td>0</td><td>0</td><td>0</td><td>0</td></tr><tr><td>&quot;HZC&quot;</td><td>&quot;HLV6HLGGFEC6&quot;</td><td>&quot;07005&quot;</td><td>null</td><td>0</td><td>0</td><td>0</td><td>0</td><td>0</td><td>0</td><td>0</td><td>0</td><td>0</td><td>0</td><td>0</td><td>0</td><td>0</td><td>0</td><td>0</td><td>0</td><td>0</td><td>0</td><td>0</td><td>0</td><td>0</td><td>0</td></tr><tr><td>&quot;NONE&quot;</td><td>&quot;TG38EK4TJQ73&quot;</td><td>null</td><td>null</td><td>0</td><td>0</td><td>0</td><td>0</td><td>0</td><td>1</td><td>0</td><td>0</td><td>0</td><td>0</td><td>0</td><td>0</td><td>0</td><td>0</td><td>0</td><td>0</td><td>1</td><td>0</td><td>0</td><td>0</td><td>0</td><td>0</td></tr><tr><td>&quot;NONE&quot;</td><td>&quot;URAWZCAL5KM7&quot;</td><td>null</td><td>null</td><td>0</td><td>0</td><td>0</td><td>0</td><td>0</td><td>1</td><td>0</td><td>0</td><td>0</td><td>0</td><td>0</td><td>0</td><td>0</td><td>0</td><td>0</td><td>0</td><td>0</td><td>0</td><td>0</td><td>0</td><td>0</td><td>0</td></tr></tbody></table></div>"
      ],
      "text/plain": [
       "shape: (297, 26)\n",
       "┌───────────┬───────────┬───────────┬───────────┬───┬───────────┬───────────┬───────────┬──────────┐\n",
       "│ TYPE_OF_S ┆ VENDOR_UE ┆ VENDOR_AD ┆ VENDOR_AD ┆ … ┆ SERVICE_P ┆ VETERINAR ┆ HISPANIC_ ┆ LIMITED_ │\n",
       "│ ET_ASIDE  ┆ I         ┆ DRESS_ZIP ┆ DRESS_COU ┆   ┆ ROVIDER   ┆ Y_HOSPITA ┆ SERVICING ┆ LIABILIT │\n",
       "│ ---       ┆ ---       ┆ _CODE     ┆ NTRY_NAME ┆   ┆ ---       ┆ L         ┆ _INSTITUT ┆ Y_CORPOR │\n",
       "│ str       ┆ str       ┆ ---       ┆ ---       ┆   ┆ i64       ┆ ---       ┆ ION       ┆ ATION    │\n",
       "│           ┆           ┆ str       ┆ str       ┆   ┆           ┆ i64       ┆ ---       ┆ ---      │\n",
       "│           ┆           ┆           ┆           ┆   ┆           ┆           ┆ i64       ┆ i64      │\n",
       "╞═══════════╪═══════════╪═══════════╪═══════════╪═══╪═══════════╪═══════════╪═══════════╪══════════╡\n",
       "│ NONE      ┆ S57RMSLGR ┆ 232180010 ┆ null      ┆ … ┆ 0         ┆ 0         ┆ 0         ┆ 0        │\n",
       "│           ┆ 1B7       ┆           ┆           ┆   ┆           ┆           ┆           ┆          │\n",
       "│ NONE      ┆ S7VQLMHYX ┆ 402021739 ┆ null      ┆ … ┆ 0         ┆ 0         ┆ 0         ┆ 0        │\n",
       "│           ┆ EM7       ┆           ┆           ┆   ┆           ┆           ┆           ┆          │\n",
       "│ 8AN       ┆ K6TWJ9B5D ┆ 641102499 ┆ null      ┆ … ┆ 0         ┆ 0         ┆ 0         ┆ 0        │\n",
       "│           ┆ YM4       ┆           ┆           ┆   ┆           ┆           ┆           ┆          │\n",
       "│ 8AN       ┆ V731MPDBS ┆ 481090600 ┆ null      ┆ … ┆ 0         ┆ 0         ┆ 0         ┆ 0        │\n",
       "│           ┆ RL8       ┆           ┆           ┆   ┆           ┆           ┆           ┆          │\n",
       "│ …         ┆ …         ┆ …         ┆ …         ┆ … ┆ …         ┆ …         ┆ …         ┆ …        │\n",
       "│ NONE      ┆ HDJ6L7LB3 ┆ null      ┆ null      ┆ … ┆ 0         ┆ 0         ┆ 0         ┆ 0        │\n",
       "│           ┆ B98       ┆           ┆           ┆   ┆           ┆           ┆           ┆          │\n",
       "│ HZC       ┆ HLV6HLGGF ┆ 07005     ┆ null      ┆ … ┆ 0         ┆ 0         ┆ 0         ┆ 0        │\n",
       "│           ┆ EC6       ┆           ┆           ┆   ┆           ┆           ┆           ┆          │\n",
       "│ NONE      ┆ TG38EK4TJ ┆ null      ┆ null      ┆ … ┆ 0         ┆ 0         ┆ 0         ┆ 0        │\n",
       "│           ┆ Q73       ┆           ┆           ┆   ┆           ┆           ┆           ┆          │\n",
       "│ NONE      ┆ URAWZCAL5 ┆ null      ┆ null      ┆ … ┆ 0         ┆ 0         ┆ 0         ┆ 0        │\n",
       "│           ┆ KM7       ┆           ┆           ┆   ┆           ┆           ┆           ┆          │\n",
       "└───────────┴───────────┴───────────┴───────────┴───┴───────────┴───────────┴───────────┴──────────┘"
      ]
     },
     "execution_count": 67,
     "metadata": {},
     "output_type": "execute_result"
    }
   ],
   "source": [
    "test_2022.filter(pl.col('VENDOR_ADDRESS_COUNTRY_NAME').is_null())"
   ]
  },
  {
   "cell_type": "markdown",
   "id": "c8c59abe-9182-45ed-a4c1-fe087726ba78",
   "metadata": {
    "tags": []
   },
   "source": [
    "## Imputing Nulls"
   ]
  },
  {
   "cell_type": "code",
   "execution_count": 59,
   "id": "097e97dc-c86c-46e4-9940-46e34b801ecb",
   "metadata": {
    "tags": []
   },
   "outputs": [
    {
     "data": {
      "text/html": [
       "<div><style>\n",
       ".dataframe > thead > tr > th,\n",
       ".dataframe > tbody > tr > td {\n",
       "  text-align: right;\n",
       "  white-space: pre-wrap;\n",
       "}\n",
       "</style>\n",
       "<small>shape: (1, 26)</small><table border=\"1\" class=\"dataframe\"><thead><tr><th>TYPE_OF_SET_ASIDE</th><th>VENDOR_UEI</th><th>VENDOR_ADDRESS_ZIP_CODE</th><th>VENDOR_ADDRESS_COUNTRY_NAME</th><th>EDUCATIONAL_INSTITUTION_FLAG</th><th>FIRM_8A_FLAG</th><th>WOMEN_OWNED_FLAG</th><th>FIRM8A_JOINT_VENTURE</th><th>FEDERALLY_FUNDED_R_AND_D_CORP</th><th>CORP_ENTITY_NOT_TAX_EXEMPT</th><th>CORP_ENTITY_TAX_EXEMPT</th><th>PARTNERSHIP_OR_LLP</th><th>SOLE_PROPREITORSHIP</th><th>SMALL_AGRICULTURAL_COOPERATIVE</th><th>INTERNATIONAL_ORGANIZATION</th><th>ARCHITECTURE_AND_ENGINEERING</th><th>COMMUNITY_CORP_OWNED_FIRM</th><th>CONSTRUCTION_FIRM</th><th>DOMESTIC_SHELTER</th><th>FOUNDATION</th><th>MANUFACTURER_OF_GOODS</th><th>RESEARCH_AND_DEVELOPMENT</th><th>SERVICE_PROVIDER</th><th>VETERINARY_HOSPITAL</th><th>HISPANIC_SERVICING_INSTITUTION</th><th>LIMITED_LIABILITY_CORPORATION</th></tr><tr><td>u32</td><td>u32</td><td>u32</td><td>u32</td><td>u32</td><td>u32</td><td>u32</td><td>u32</td><td>u32</td><td>u32</td><td>u32</td><td>u32</td><td>u32</td><td>u32</td><td>u32</td><td>u32</td><td>u32</td><td>u32</td><td>u32</td><td>u32</td><td>u32</td><td>u32</td><td>u32</td><td>u32</td><td>u32</td><td>u32</td></tr></thead><tbody><tr><td>940684</td><td>0</td><td>10325</td><td>297</td><td>0</td><td>0</td><td>0</td><td>0</td><td>0</td><td>0</td><td>0</td><td>0</td><td>0</td><td>0</td><td>0</td><td>0</td><td>0</td><td>0</td><td>0</td><td>0</td><td>0</td><td>0</td><td>0</td><td>0</td><td>0</td><td>0</td></tr></tbody></table></div>"
      ],
      "text/plain": [
       "shape: (1, 26)\n",
       "┌───────────┬───────────┬───────────┬───────────┬───┬───────────┬───────────┬───────────┬──────────┐\n",
       "│ TYPE_OF_S ┆ VENDOR_UE ┆ VENDOR_AD ┆ VENDOR_AD ┆ … ┆ SERVICE_P ┆ VETERINAR ┆ HISPANIC_ ┆ LIMITED_ │\n",
       "│ ET_ASIDE  ┆ I         ┆ DRESS_ZIP ┆ DRESS_COU ┆   ┆ ROVIDER   ┆ Y_HOSPITA ┆ SERVICING ┆ LIABILIT │\n",
       "│ ---       ┆ ---       ┆ _CODE     ┆ NTRY_NAME ┆   ┆ ---       ┆ L         ┆ _INSTITUT ┆ Y_CORPOR │\n",
       "│ u32       ┆ u32       ┆ ---       ┆ ---       ┆   ┆ u32       ┆ ---       ┆ ION       ┆ ATION    │\n",
       "│           ┆           ┆ u32       ┆ u32       ┆   ┆           ┆ u32       ┆ ---       ┆ ---      │\n",
       "│           ┆           ┆           ┆           ┆   ┆           ┆           ┆ u32       ┆ u32      │\n",
       "╞═══════════╪═══════════╪═══════════╪═══════════╪═══╪═══════════╪═══════════╪═══════════╪══════════╡\n",
       "│ 940684    ┆ 0         ┆ 10325     ┆ 297       ┆ … ┆ 0         ┆ 0         ┆ 0         ┆ 0        │\n",
       "└───────────┴───────────┴───────────┴───────────┴───┴───────────┴───────────┴───────────┴──────────┘"
      ]
     },
     "execution_count": 59,
     "metadata": {},
     "output_type": "execute_result"
    }
   ],
   "source": [
    "test_2022.null_count()"
   ]
  },
  {
   "cell_type": "code",
   "execution_count": 65,
   "id": "bc5bd180-9d4b-49da-8ff5-cb12f6a9800a",
   "metadata": {
    "tags": []
   },
   "outputs": [],
   "source": [
    "#impute nulls for type_of_set_aside\n",
    "test_2022 = test_2022.with_columns(test_2022.select('TYPE_OF_SET_ASIDE').fill_null(\"NONE\"))"
   ]
  },
  {
   "cell_type": "code",
   "execution_count": 57,
   "id": "c4abeb07-feb4-4c15-99ec-8f40e8ee38b0",
   "metadata": {
    "tags": []
   },
   "outputs": [],
   "source": [
    "from pyzipcode import ZipCodeDatabase"
   ]
  }
 ],
 "metadata": {
  "kernelspec": {
   "display_name": "Python 3 (ipykernel)",
   "language": "python",
   "name": "python3"
  },
  "language_info": {
   "codemirror_mode": {
    "name": "ipython",
    "version": 3
   },
   "file_extension": ".py",
   "mimetype": "text/x-python",
   "name": "python",
   "nbconvert_exporter": "python",
   "pygments_lexer": "ipython3",
   "version": "3.11.4"
  }
 },
 "nbformat": 4,
 "nbformat_minor": 5
}
