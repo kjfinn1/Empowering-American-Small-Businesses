{
 "cells": [
  {
   "cell_type": "code",
   "execution_count": 1,
   "metadata": {},
   "outputs": [],
   "source": [
    "import pandas as pd\n",
    "import numpy as np\n",
    "import sklearn"
   ]
  },
  {
   "cell_type": "code",
   "execution_count": 2,
   "metadata": {},
   "outputs": [],
   "source": [
    "y2022 = pd.read_parquet(\"/Users/kevinfinn/Downloads/2022.parquet\", columns=\n",
    "                        ['CONTRACTING_OFFICE_NAME', 'VENDOR_UEI', 'TYPE_OF_SET_ASIDE', 'VENDOR_ADDRESS_ZIP_CODE', 'VENDOR_ADDRESS_COUNTRY_NAME', 'EDUCATIONAL_INSTITUTION_FLAG', 'FIRM_8A_FLAG', 'WOMEN_OWNED_FLAG', 'FIRM8A_JOINT_VENTURE', 'FEDERALLY_FUNDED_R_AND_D_CORP', 'CORP_ENTITY_NOT_TAX_EXEMPT', 'CORP_ENTITY_TAX_EXEMPT', 'PARTNERSHIP_OR_LLP', 'SOLE_PROPREITORSHIP', 'SMALL_AGRICULTURAL_COOPERATIVE', 'INTERNATIONAL_ORGANIZATION', 'ARCHITECTURE_AND_ENGINEERING', 'COMMUNITY_CORP_OWNED_FIRM', 'CONSTRUCTION_FIRM', 'DOMESTIC_SHELTER', 'FOUNDATION', 'MANUFACTURER_OF_GOODS', 'RESEARCH_AND_DEVELOPMENT', 'SERVICE_PROVIDER', 'VETERINARY_HOSPITAL', 'HISPANIC_SERVICING_INSTITUTION', 'LIMITED_LIABILITY_CORPORATION', 'IDV_CONTRACTING_AGENCY_NAME', 'IDV_EXTENT_COMPETED', 'IDV_EVALUATED_PREFERENCE', 'IDV_SIGNED_DATE', 'PART8_OR_PART13', 'AWARD_FISCAL_YEAR', 'PRODUCT_OR_SERVICE_TYPE', 'TOTAL_ESTIMATED_ORDER_VALUE', 'FOR_PROFIT_ORGANIZATION', 'DOT_CERTIFIED_DISADV_BUS', 'SDB', 'CO_BUS_SIZE_DETERMINATION', 'PRINCIPAL_NAICS_CODE', 'PIID'\n",
    "])\n",
    "#y2021 = pd.read_parquet(\"/Users/kevinfinn/Downloads/2021.parquet\", columns=\n",
    "  #                      ['CONTRACTING_OFFICE_NAME', 'VENDOR_UEI', 'TYPE_OF_SET_ASIDE', 'VENDOR_ADDRESS_ZIP_CODE', 'VENDOR_ADDRESS_COUNTRY_NAME', 'EDUCATIONAL_INSTITUTION_FLAG', 'FIRM_8A_FLAG', 'WOMEN_OWNED_FLAG', 'FIRM8A_JOINT_VENTURE', 'FEDERALLY_FUNDED_R_AND_D_CORP', 'CORP_ENTITY_NOT_TAX_EXEMPT', 'CORP_ENTITY_TAX_EXEMPT', 'PARTNERSHIP_OR_LLP', 'SOLE_PROPREITORSHIP', 'SMALL_AGRICULTURAL_COOPERATIVE', 'INTERNATIONAL_ORGANIZATION', 'ARCHITECTURE_AND_ENGINEERING', 'COMMUNITY_CORP_OWNED_FIRM', 'CONSTRUCTION_FIRM', 'DOMESTIC_SHELTER', 'FOUNDATION', 'MANUFACTURER_OF_GOODS', 'RESEARCH_AND_DEVELOPMENT', 'SERVICE_PROVIDER', 'VETERINARY_HOSPITAL', 'HISPANIC_SERVICING_INSTITUTION', 'LIMITED_LIABILITY_CORPORATION', 'IDV_CONTRACTING_AGENCY_NAME', 'IDV_EXTENT_COMPETED', 'IDV_EVALUATED_PREFERENCE', 'IDV_SIGNED_DATE', 'PART8_OR_PART13', 'AWARD_FISCAL_YEAR', 'PRODUCT_OR_SERVICE_TYPE', 'TOTAL_ESTIMATED_ORDER_VALUE', 'FOR_PROFIT_ORGANIZATION', 'DOT_CERTIFIED_DISADV_BUS', 'SDB', 'CO_BUS_SIZE_DETERMINATION', 'PRINCIPAL_NAICS_CODE', 'PIID'\n",
    "#])\n",
    "#y2020 = pd.read_parquet(\"/Users/kevinfinn/Downloads/2020.parquet\", columns=\n",
    "   #                     ['CONTRACTING_OFFICE_NAME', 'VENDOR_UEI', 'TYPE_OF_SET_ASIDE', 'VENDOR_ADDRESS_ZIP_CODE', 'VENDOR_ADDRESS_COUNTRY_NAME', 'EDUCATIONAL_INSTITUTION_FLAG', 'FIRM_8A_FLAG', 'WOMEN_OWNED_FLAG', 'FIRM8A_JOINT_VENTURE', 'FEDERALLY_FUNDED_R_AND_D_CORP', 'CORP_ENTITY_NOT_TAX_EXEMPT', 'CORP_ENTITY_TAX_EXEMPT', 'PARTNERSHIP_OR_LLP', 'SOLE_PROPREITORSHIP', 'SMALL_AGRICULTURAL_COOPERATIVE', 'INTERNATIONAL_ORGANIZATION', 'ARCHITECTURE_AND_ENGINEERING', 'COMMUNITY_CORP_OWNED_FIRM', 'CONSTRUCTION_FIRM', 'DOMESTIC_SHELTER', 'FOUNDATION', 'MANUFACTURER_OF_GOODS', 'RESEARCH_AND_DEVELOPMENT', 'SERVICE_PROVIDER', 'VETERINARY_HOSPITAL', 'HISPANIC_SERVICING_INSTITUTION', 'LIMITED_LIABILITY_CORPORATION', 'IDV_CONTRACTING_AGENCY_NAME', 'IDV_EXTENT_COMPETED', 'IDV_EVALUATED_PREFERENCE', 'IDV_SIGNED_DATE', 'PART8_OR_PART13', 'AWARD_FISCAL_YEAR', 'PRODUCT_OR_SERVICE_TYPE', 'TOTAL_ESTIMATED_ORDER_VALUE', 'FOR_PROFIT_ORGANIZATION', 'DOT_CERTIFIED_DISADV_BUS', 'SDB', 'CO_BUS_SIZE_DETERMINATION', 'PRINCIPAL_NAICS_CODE', 'PIID'\n",
    "#])\n",
    "#y2019 = pd.read_parquet(\"/Users/kevinfinn/Downloads/2019.parquet\", columns=\n",
    " #                       ['CONTRACTING_OFFICE_NAME', 'VENDOR_UEI', 'TYPE_OF_SET_ASIDE', 'VENDOR_ADDRESS_ZIP_CODE', 'VENDOR_ADDRESS_COUNTRY_NAME', 'EDUCATIONAL_INSTITUTION_FLAG', 'FIRM_8A_FLAG', 'WOMEN_OWNED_FLAG', 'FIRM8A_JOINT_VENTURE', 'FEDERALLY_FUNDED_R_AND_D_CORP', 'CORP_ENTITY_NOT_TAX_EXEMPT', 'CORP_ENTITY_TAX_EXEMPT', 'PARTNERSHIP_OR_LLP', 'SOLE_PROPREITORSHIP', 'SMALL_AGRICULTURAL_COOPERATIVE', 'INTERNATIONAL_ORGANIZATION', 'ARCHITECTURE_AND_ENGINEERING', 'COMMUNITY_CORP_OWNED_FIRM', 'CONSTRUCTION_FIRM', 'DOMESTIC_SHELTER', 'FOUNDATION', 'MANUFACTURER_OF_GOODS', 'RESEARCH_AND_DEVELOPMENT', 'SERVICE_PROVIDER', 'VETERINARY_HOSPITAL', 'HISPANIC_SERVICING_INSTITUTION', 'LIMITED_LIABILITY_CORPORATION', 'IDV_CONTRACTING_AGENCY_NAME', 'IDV_EXTENT_COMPETED', 'IDV_EVALUATED_PREFERENCE', 'IDV_SIGNED_DATE', 'PART8_OR_PART13', 'AWARD_FISCAL_YEAR', 'PRODUCT_OR_SERVICE_TYPE', 'TOTAL_ESTIMATED_ORDER_VALUE', 'FOR_PROFIT_ORGANIZATION', 'DOT_CERTIFIED_DISADV_BUS', 'SDB', 'CO_BUS_SIZE_DETERMINATION', 'PRINCIPAL_NAICS_CODE', 'PIID'\n",
    "#])\n",
    "#y2018 = pd.read_parquet(\"/Users/kevinfinn/Downloads/2018.parquet\", columns=\n",
    " #                       ['CONTRACTING_OFFICE_NAME', 'VENDOR_UEI', 'TYPE_OF_SET_ASIDE', 'VENDOR_ADDRESS_ZIP_CODE', 'VENDOR_ADDRESS_COUNTRY_NAME', 'EDUCATIONAL_INSTITUTION_FLAG', 'FIRM_8A_FLAG', 'WOMEN_OWNED_FLAG', 'FIRM8A_JOINT_VENTURE', 'FEDERALLY_FUNDED_R_AND_D_CORP', 'CORP_ENTITY_NOT_TAX_EXEMPT', 'CORP_ENTITY_TAX_EXEMPT', 'PARTNERSHIP_OR_LLP', 'SOLE_PROPREITORSHIP', 'SMALL_AGRICULTURAL_COOPERATIVE', 'INTERNATIONAL_ORGANIZATION', 'ARCHITECTURE_AND_ENGINEERING', 'COMMUNITY_CORP_OWNED_FIRM', 'CONSTRUCTION_FIRM', 'DOMESTIC_SHELTER', 'FOUNDATION', 'MANUFACTURER_OF_GOODS', 'RESEARCH_AND_DEVELOPMENT', 'SERVICE_PROVIDER', 'VETERINARY_HOSPITAL', 'HISPANIC_SERVICING_INSTITUTION', 'LIMITED_LIABILITY_CORPORATION', 'IDV_CONTRACTING_AGENCY_NAME', 'IDV_EXTENT_COMPETED', 'IDV_EVALUATED_PREFERENCE', 'IDV_SIGNED_DATE', 'PART8_OR_PART13', 'AWARD_FISCAL_YEAR', 'PRODUCT_OR_SERVICE_TYPE', 'TOTAL_ESTIMATED_ORDER_VALUE', 'FOR_PROFIT_ORGANIZATION', 'DOT_CERTIFIED_DISADV_BUS', 'SDB', 'CO_BUS_SIZE_DETERMINATION', 'PRINCIPAL_NAICS_CODE', 'PIID'\n",
    "#])\n",
    "#y2017 = pd.read_parquet(\"/Users/kevinfinn/Downloads/2017.parquet\", columns=\n",
    "#                        ['CONTRACTING_OFFICE_NAME', 'VENDOR_UEI', 'TYPE_OF_SET_ASIDE', 'VENDOR_ADDRESS_ZIP_CODE', 'VENDOR_ADDRESS_COUNTRY_NAME', 'EDUCATIONAL_INSTITUTION_FLAG', 'FIRM_8A_FLAG', 'WOMEN_OWNED_FLAG', 'FIRM8A_JOINT_VENTURE', 'FEDERALLY_FUNDED_R_AND_D_CORP', 'CORP_ENTITY_NOT_TAX_EXEMPT', 'CORP_ENTITY_TAX_EXEMPT', 'PARTNERSHIP_OR_LLP', 'SOLE_PROPREITORSHIP', 'SMALL_AGRICULTURAL_COOPERATIVE', 'INTERNATIONAL_ORGANIZATION', 'ARCHITECTURE_AND_ENGINEERING', 'COMMUNITY_CORP_OWNED_FIRM', 'CONSTRUCTION_FIRM', 'DOMESTIC_SHELTER', 'FOUNDATION', 'MANUFACTURER_OF_GOODS', 'RESEARCH_AND_DEVELOPMENT', 'SERVICE_PROVIDER', 'VETERINARY_HOSPITAL', 'HISPANIC_SERVICING_INSTITUTION', 'LIMITED_LIABILITY_CORPORATION', 'IDV_CONTRACTING_AGENCY_NAME', 'IDV_EXTENT_COMPETED', 'IDV_EVALUATED_PREFERENCE', 'IDV_SIGNED_DATE', 'PART8_OR_PART13', 'AWARD_FISCAL_YEAR', 'PRODUCT_OR_SERVICE_TYPE', 'TOTAL_ESTIMATED_ORDER_VALUE', 'FOR_PROFIT_ORGANIZATION', 'DOT_CERTIFIED_DISADV_BUS', 'SDB', 'CO_BUS_SIZE_DETERMINATION', 'PRINCIPAL_NAICS_CODE', 'PIID'\n",
    "#])\n",
    "#y2016 = pd.read_parquet(\"/Users/kevinfinn/Downloads/2016.parquet\", columns=\n",
    " #                       ['CONTRACTING_OFFICE_NAME', 'VENDOR_UEI', 'TYPE_OF_SET_ASIDE', 'VENDOR_ADDRESS_ZIP_CODE', 'VENDOR_ADDRESS_COUNTRY_NAME', 'EDUCATIONAL_INSTITUTION_FLAG', 'FIRM_8A_FLAG', 'WOMEN_OWNED_FLAG', 'FIRM8A_JOINT_VENTURE', 'FEDERALLY_FUNDED_R_AND_D_CORP', 'CORP_ENTITY_NOT_TAX_EXEMPT', 'CORP_ENTITY_TAX_EXEMPT', 'PARTNERSHIP_OR_LLP', 'SOLE_PROPREITORSHIP', 'SMALL_AGRICULTURAL_COOPERATIVE', 'INTERNATIONAL_ORGANIZATION', 'ARCHITECTURE_AND_ENGINEERING', 'COMMUNITY_CORP_OWNED_FIRM', 'CONSTRUCTION_FIRM', 'DOMESTIC_SHELTER', 'FOUNDATION', 'MANUFACTURER_OF_GOODS', 'RESEARCH_AND_DEVELOPMENT', 'SERVICE_PROVIDER', 'VETERINARY_HOSPITAL', 'HISPANIC_SERVICING_INSTITUTION', 'LIMITED_LIABILITY_CORPORATION', 'IDV_CONTRACTING_AGENCY_NAME', 'IDV_EXTENT_COMPETED', 'IDV_EVALUATED_PREFERENCE', 'IDV_SIGNED_DATE', 'PART8_OR_PART13', 'AWARD_FISCAL_YEAR', 'PRODUCT_OR_SERVICE_TYPE', 'TOTAL_ESTIMATED_ORDER_VALUE', 'FOR_PROFIT_ORGANIZATION', 'DOT_CERTIFIED_DISADV_BUS', 'SDB', 'CO_BUS_SIZE_DETERMINATION', 'PRINCIPAL_NAICS_CODE', 'PIID'\n",
    "#])\n",
    "#y2015 = pd.read_parquet(\"/Users/kevinfinn/Downloads/2015.parquet\", columns=\n",
    " #                       ['CONTRACTING_OFFICE_NAME', 'VENDOR_UEI', 'TYPE_OF_SET_ASIDE', 'VENDOR_ADDRESS_ZIP_CODE', 'VENDOR_ADDRESS_COUNTRY_NAME', 'EDUCATIONAL_INSTITUTION_FLAG', 'FIRM_8A_FLAG', 'WOMEN_OWNED_FLAG', 'FIRM8A_JOINT_VENTURE', 'FEDERALLY_FUNDED_R_AND_D_CORP', 'CORP_ENTITY_NOT_TAX_EXEMPT', 'CORP_ENTITY_TAX_EXEMPT', 'PARTNERSHIP_OR_LLP', 'SOLE_PROPREITORSHIP', 'SMALL_AGRICULTURAL_COOPERATIVE', 'INTERNATIONAL_ORGANIZATION', 'ARCHITECTURE_AND_ENGINEERING', 'COMMUNITY_CORP_OWNED_FIRM', 'CONSTRUCTION_FIRM', 'DOMESTIC_SHELTER', 'FOUNDATION', 'MANUFACTURER_OF_GOODS', 'RESEARCH_AND_DEVELOPMENT', 'SERVICE_PROVIDER', 'VETERINARY_HOSPITAL', 'HISPANIC_SERVICING_INSTITUTION', 'LIMITED_LIABILITY_CORPORATION', 'IDV_CONTRACTING_AGENCY_NAME', 'IDV_EXTENT_COMPETED', 'IDV_EVALUATED_PREFERENCE', 'IDV_SIGNED_DATE', 'PART8_OR_PART13', 'AWARD_FISCAL_YEAR', 'PRODUCT_OR_SERVICE_TYPE', 'TOTAL_ESTIMATED_ORDER_VALUE', 'FOR_PROFIT_ORGANIZATION', 'DOT_CERTIFIED_DISADV_BUS', 'SDB', 'CO_BUS_SIZE_DETERMINATION', 'PRINCIPAL_NAICS_CODE', 'PIID'\n",
    "#])\n",
    "#y2014 = pd.read_parquet(\"/Users/kevinfinn/Downloads/2014.parquet\", columns=\n",
    " #                       ['CONTRACTING_OFFICE_NAME', 'VENDOR_UEI', 'TYPE_OF_SET_ASIDE', 'VENDOR_ADDRESS_ZIP_CODE', 'VENDOR_ADDRESS_COUNTRY_NAME', 'EDUCATIONAL_INSTITUTION_FLAG', 'FIRM_8A_FLAG', 'WOMEN_OWNED_FLAG', 'FIRM8A_JOINT_VENTURE', 'FEDERALLY_FUNDED_R_AND_D_CORP', 'CORP_ENTITY_NOT_TAX_EXEMPT', 'CORP_ENTITY_TAX_EXEMPT', 'PARTNERSHIP_OR_LLP', 'SOLE_PROPREITORSHIP', 'SMALL_AGRICULTURAL_COOPERATIVE', 'INTERNATIONAL_ORGANIZATION', 'ARCHITECTURE_AND_ENGINEERING', 'COMMUNITY_CORP_OWNED_FIRM', 'CONSTRUCTION_FIRM', 'DOMESTIC_SHELTER', 'FOUNDATION', 'MANUFACTURER_OF_GOODS', 'RESEARCH_AND_DEVELOPMENT', 'SERVICE_PROVIDER', 'VETERINARY_HOSPITAL', 'HISPANIC_SERVICING_INSTITUTION', 'LIMITED_LIABILITY_CORPORATION', 'IDV_CONTRACTING_AGENCY_NAME', 'IDV_EXTENT_COMPETED', 'IDV_EVALUATED_PREFERENCE', 'IDV_SIGNED_DATE', 'PART8_OR_PART13', 'AWARD_FISCAL_YEAR', 'PRODUCT_OR_SERVICE_TYPE', 'TOTAL_ESTIMATED_ORDER_VALUE', 'FOR_PROFIT_ORGANIZATION', 'DOT_CERTIFIED_DISADV_BUS', 'SDB', 'CO_BUS_SIZE_DETERMINATION', 'PRINCIPAL_NAICS_CODE', 'PIID'\n",
    "#])\n",
    "#y2013 = pd.read_parquet(\"/Users/kevinfinn/Downloads/2013.parquet\", columns=\n",
    " #                       ['CONTRACTING_OFFICE_NAME', 'VENDOR_UEI', 'TYPE_OF_SET_ASIDE', 'VENDOR_ADDRESS_ZIP_CODE', 'VENDOR_ADDRESS_COUNTRY_NAME', 'EDUCATIONAL_INSTITUTION_FLAG', 'FIRM_8A_FLAG', 'WOMEN_OWNED_FLAG', 'FIRM8A_JOINT_VENTURE', 'FEDERALLY_FUNDED_R_AND_D_CORP', 'CORP_ENTITY_NOT_TAX_EXEMPT', 'CORP_ENTITY_TAX_EXEMPT', 'PARTNERSHIP_OR_LLP', 'SOLE_PROPREITORSHIP', 'SMALL_AGRICULTURAL_COOPERATIVE', 'INTERNATIONAL_ORGANIZATION', 'ARCHITECTURE_AND_ENGINEERING', 'COMMUNITY_CORP_OWNED_FIRM', 'CONSTRUCTION_FIRM', 'DOMESTIC_SHELTER', 'FOUNDATION', 'MANUFACTURER_OF_GOODS', 'RESEARCH_AND_DEVELOPMENT', 'SERVICE_PROVIDER', 'VETERINARY_HOSPITAL', 'HISPANIC_SERVICING_INSTITUTION', 'LIMITED_LIABILITY_CORPORATION', 'IDV_CONTRACTING_AGENCY_NAME', 'IDV_EXTENT_COMPETED', 'IDV_EVALUATED_PREFERENCE', 'IDV_SIGNED_DATE', 'PART8_OR_PART13', 'AWARD_FISCAL_YEAR', 'PRODUCT_OR_SERVICE_TYPE', 'TOTAL_ESTIMATED_ORDER_VALUE', 'FOR_PROFIT_ORGANIZATION', 'DOT_CERTIFIED_DISADV_BUS', 'SDB', 'CO_BUS_SIZE_DETERMINATION', 'PRINCIPAL_NAICS_CODE', 'PIID'\n",
    "#])\n",
    "#y2012 = pd.read_parquet(\"/Users/kevinfinn/Downloads/2012.parquet\", columns=\n",
    " #                       ['CONTRACTING_OFFICE_NAME', 'VENDOR_UEI', 'TYPE_OF_SET_ASIDE', 'VENDOR_ADDRESS_ZIP_CODE', 'VENDOR_ADDRESS_COUNTRY_NAME', 'EDUCATIONAL_INSTITUTION_FLAG', 'FIRM_8A_FLAG', 'WOMEN_OWNED_FLAG', 'FIRM8A_JOINT_VENTURE', 'FEDERALLY_FUNDED_R_AND_D_CORP', 'CORP_ENTITY_NOT_TAX_EXEMPT', 'CORP_ENTITY_TAX_EXEMPT', 'PARTNERSHIP_OR_LLP', 'SOLE_PROPREITORSHIP', 'SMALL_AGRICULTURAL_COOPERATIVE', 'INTERNATIONAL_ORGANIZATION', 'ARCHITECTURE_AND_ENGINEERING', 'COMMUNITY_CORP_OWNED_FIRM', 'CONSTRUCTION_FIRM', 'DOMESTIC_SHELTER', 'FOUNDATION', 'MANUFACTURER_OF_GOODS', 'RESEARCH_AND_DEVELOPMENT', 'SERVICE_PROVIDER', 'VETERINARY_HOSPITAL', 'HISPANIC_SERVICING_INSTITUTION', 'LIMITED_LIABILITY_CORPORATION', 'IDV_CONTRACTING_AGENCY_NAME', 'IDV_EXTENT_COMPETED', 'IDV_EVALUATED_PREFERENCE', 'IDV_SIGNED_DATE', 'PART8_OR_PART13', 'AWARD_FISCAL_YEAR', 'PRODUCT_OR_SERVICE_TYPE', 'TOTAL_ESTIMATED_ORDER_VALUE', 'FOR_PROFIT_ORGANIZATION', 'DOT_CERTIFIED_DISADV_BUS', 'SDB', 'CO_BUS_SIZE_DETERMINATION', 'PRINCIPAL_NAICS_CODE', 'PIID'\n",
    "#])\n",
    "#y2011 = pd.read_parquet(\"/Users/kevinfinn/Downloads/2011.parquet\", columns=\n",
    "#                        ['CONTRACTING_OFFICE_NAME', 'VENDOR_UEI', 'TYPE_OF_SET_ASIDE', 'VENDOR_ADDRESS_ZIP_CODE', 'VENDOR_ADDRESS_COUNTRY_NAME', 'EDUCATIONAL_INSTITUTION_FLAG', 'FIRM_8A_FLAG', 'WOMEN_OWNED_FLAG', 'FIRM8A_JOINT_VENTURE', 'FEDERALLY_FUNDED_R_AND_D_CORP', 'CORP_ENTITY_NOT_TAX_EXEMPT', 'CORP_ENTITY_TAX_EXEMPT', 'PARTNERSHIP_OR_LLP', 'SOLE_PROPREITORSHIP', 'SMALL_AGRICULTURAL_COOPERATIVE', 'INTERNATIONAL_ORGANIZATION', 'ARCHITECTURE_AND_ENGINEERING', 'COMMUNITY_CORP_OWNED_FIRM', 'CONSTRUCTION_FIRM', 'DOMESTIC_SHELTER', 'FOUNDATION', 'MANUFACTURER_OF_GOODS', 'RESEARCH_AND_DEVELOPMENT', 'SERVICE_PROVIDER', 'VETERINARY_HOSPITAL', 'HISPANIC_SERVICING_INSTITUTION', 'LIMITED_LIABILITY_CORPORATION', 'IDV_CONTRACTING_AGENCY_NAME', 'IDV_EXTENT_COMPETED', 'IDV_EVALUATED_PREFERENCE', 'IDV_SIGNED_DATE', 'PART8_OR_PART13', 'AWARD_FISCAL_YEAR', 'PRODUCT_OR_SERVICE_TYPE', 'TOTAL_ESTIMATED_ORDER_VALUE', 'FOR_PROFIT_ORGANIZATION', 'DOT_CERTIFIED_DISADV_BUS', 'SDB', 'CO_BUS_SIZE_DETERMINATION', 'PRINCIPAL_NAICS_CODE', 'PIID'\n",
    "#])\n",
    "#y2010 = pd.read_parquet(\"/Users/kevinfinn/Downloads/2010.parquet\", columns=\n",
    " #                       ['CONTRACTING_OFFICE_NAME', 'VENDOR_UEI', 'TYPE_OF_SET_ASIDE', 'VENDOR_ADDRESS_ZIP_CODE', 'VENDOR_ADDRESS_COUNTRY_NAME', 'EDUCATIONAL_INSTITUTION_FLAG', 'FIRM_8A_FLAG', 'WOMEN_OWNED_FLAG', 'FIRM8A_JOINT_VENTURE', 'FEDERALLY_FUNDED_R_AND_D_CORP', 'CORP_ENTITY_NOT_TAX_EXEMPT', 'CORP_ENTITY_TAX_EXEMPT', 'PARTNERSHIP_OR_LLP', 'SOLE_PROPREITORSHIP', 'SMALL_AGRICULTURAL_COOPERATIVE', 'INTERNATIONAL_ORGANIZATION', 'ARCHITECTURE_AND_ENGINEERING', 'COMMUNITY_CORP_OWNED_FIRM', 'CONSTRUCTION_FIRM', 'DOMESTIC_SHELTER', 'FOUNDATION', 'MANUFACTURER_OF_GOODS', 'RESEARCH_AND_DEVELOPMENT', 'SERVICE_PROVIDER', 'VETERINARY_HOSPITAL', 'HISPANIC_SERVICING_INSTITUTION', 'LIMITED_LIABILITY_CORPORATION', 'IDV_CONTRACTING_AGENCY_NAME', 'IDV_EXTENT_COMPETED', 'IDV_EVALUATED_PREFERENCE', 'IDV_SIGNED_DATE', 'PART8_OR_PART13', 'AWARD_FISCAL_YEAR', 'PRODUCT_OR_SERVICE_TYPE', 'TOTAL_ESTIMATED_ORDER_VALUE', 'FOR_PROFIT_ORGANIZATION', 'DOT_CERTIFIED_DISADV_BUS', 'SDB', 'CO_BUS_SIZE_DETERMINATION', 'PRINCIPAL_NAICS_CODE', 'PIID'\n",
    "#])\n",
    "#y2009 = pd.read_parquet(\"/Users/kevinfinn/Downloads/2009.parquet\", columns=\n",
    "#                        ['CONTRACTING_OFFICE_NAME', 'VENDOR_UEI', 'TYPE_OF_SET_ASIDE', 'VENDOR_ADDRESS_ZIP_CODE', 'VENDOR_ADDRESS_COUNTRY_NAME', 'EDUCATIONAL_INSTITUTION_FLAG', 'FIRM_8A_FLAG', 'WOMEN_OWNED_FLAG', 'FIRM8A_JOINT_VENTURE', 'FEDERALLY_FUNDED_R_AND_D_CORP', 'CORP_ENTITY_NOT_TAX_EXEMPT', 'CORP_ENTITY_TAX_EXEMPT', 'PARTNERSHIP_OR_LLP', 'SOLE_PROPREITORSHIP', 'SMALL_AGRICULTURAL_COOPERATIVE', 'INTERNATIONAL_ORGANIZATION', 'ARCHITECTURE_AND_ENGINEERING', 'COMMUNITY_CORP_OWNED_FIRM', 'CONSTRUCTION_FIRM', 'DOMESTIC_SHELTER', 'FOUNDATION', 'MANUFACTURER_OF_GOODS', 'RESEARCH_AND_DEVELOPMENT', 'SERVICE_PROVIDER', 'VETERINARY_HOSPITAL', 'HISPANIC_SERVICING_INSTITUTION', 'LIMITED_LIABILITY_CORPORATION', 'IDV_CONTRACTING_AGENCY_NAME', 'IDV_EXTENT_COMPETED', 'IDV_EVALUATED_PREFERENCE', 'IDV_SIGNED_DATE', 'PART8_OR_PART13', 'AWARD_FISCAL_YEAR', 'PRODUCT_OR_SERVICE_TYPE', 'TOTAL_ESTIMATED_ORDER_VALUE', 'FOR_PROFIT_ORGANIZATION', 'DOT_CERTIFIED_DISADV_BUS', 'SDB', 'CO_BUS_SIZE_DETERMINATION', 'PRINCIPAL_NAICS_CODE', 'PIID'\n",
    "#])\n",
    "#y2023 = pd.read_parquet(\"/Users/kevinfinn/Downloads/FY23_SC_prelim.parquet\", columns=\n",
    " #                       ['CONTRACTING_OFFICE_NAME', 'VENDOR_UEI', 'TYPE_OF_SET_ASIDE', 'VENDOR_ADDRESS_ZIP_CODE', 'VENDOR_ADDRESS_COUNTRY_NAME', 'EDUCATIONAL_INSTITUTION_FLAG', 'FIRM_8A_FLAG', 'WOMEN_OWNED_FLAG', 'FIRM8A_JOINT_VENTURE', 'FEDERALLY_FUNDED_R_AND_D_CORP', 'CORP_ENTITY_NOT_TAX_EXEMPT', 'CORP_ENTITY_TAX_EXEMPT', 'PARTNERSHIP_OR_LLP', 'SOLE_PROPREITORSHIP', 'SMALL_AGRICULTURAL_COOPERATIVE', 'INTERNATIONAL_ORGANIZATION', 'ARCHITECTURE_AND_ENGINEERING', 'COMMUNITY_CORP_OWNED_FIRM', 'CONSTRUCTION_FIRM', 'DOMESTIC_SHELTER', 'FOUNDATION', 'MANUFACTURER_OF_GOODS', 'RESEARCH_AND_DEVELOPMENT', 'SERVICE_PROVIDER', 'VETERINARY_HOSPITAL', 'HISPANIC_SERVICING_INSTITUTION', 'LIMITED_LIABILITY_CORPORATION', 'IDV_CONTRACTING_AGENCY_NAME', 'IDV_EXTENT_COMPETED', 'IDV_EVALUATED_PREFERENCE', 'IDV_SIGNED_DATE', 'PART8_OR_PART13', 'AWARD_FISCAL_YEAR', 'PRODUCT_OR_SERVICE_TYPE', 'TOTAL_ESTIMATED_ORDER_VALUE', 'FOR_PROFIT_ORGANIZATION', 'DOT_CERTIFIED_DISADV_BUS', 'SDB', 'CO_BUS_SIZE_DETERMINATION', 'PRINCIPAL_NAICS_CODE', 'PIID'\n",
    "#])"
   ]
  },
  {
   "attachments": {},
   "cell_type": "markdown",
   "metadata": {},
   "source": [
    "# Sample"
   ]
  },
  {
   "cell_type": "code",
   "execution_count": 3,
   "metadata": {},
   "outputs": [],
   "source": [
    "y2022 = y2022.sample(frac=0.01, random_state=42)"
   ]
  },
  {
   "attachments": {},
   "cell_type": "markdown",
   "metadata": {},
   "source": [
    "# Drop foreign companies"
   ]
  },
  {
   "cell_type": "code",
   "execution_count": 4,
   "metadata": {},
   "outputs": [],
   "source": [
    "y2022 = y2022[y2022.VENDOR_ADDRESS_COUNTRY_NAME == 'UNITED STATES']"
   ]
  },
  {
   "attachments": {},
   "cell_type": "markdown",
   "metadata": {},
   "source": [
    "# replace yes/no"
   ]
  },
  {
   "cell_type": "code",
   "execution_count": 5,
   "metadata": {},
   "outputs": [],
   "source": [
    "y2022.replace({'yes': 1, 'no': 0, 'YES': 1, 'NO': 0, 'Yes': 1, 'No': 0}, inplace=True)"
   ]
  },
  {
   "attachments": {},
   "cell_type": "markdown",
   "metadata": {},
   "source": [
    "# categorize zip codes"
   ]
  },
  {
   "cell_type": "code",
   "execution_count": 18,
   "metadata": {},
   "outputs": [],
   "source": [
    "y2022['Region'] = y2022['VENDOR_ADDRESS_ZIP_CODE'].str[:1]"
   ]
  },
  {
   "attachments": {},
   "cell_type": "markdown",
   "metadata": {},
   "source": [
    "# only grab some columns"
   ]
  },
  {
   "cell_type": "code",
   "execution_count": 6,
   "metadata": {},
   "outputs": [],
   "source": [
    "columns = ['TYPE_OF_SET_ASIDE', 'EDUCATIONAL_INSTITUTION_FLAG', 'FIRM_8A_FLAG', 'WOMEN_OWNED_FLAG', 'FIRM8A_JOINT_VENTURE', \n",
    "             'FEDERALLY_FUNDED_R_AND_D_CORP', 'CORP_ENTITY_NOT_TAX_EXEMPT', 'CORP_ENTITY_TAX_EXEMPT', 'PARTNERSHIP_OR_LLP', \n",
    "             'SOLE_PROPREITORSHIP', 'SMALL_AGRICULTURAL_COOPERATIVE', 'INTERNATIONAL_ORGANIZATION', 'ARCHITECTURE_AND_ENGINEERING', \n",
    "             'COMMUNITY_CORP_OWNED_FIRM', 'CONSTRUCTION_FIRM', 'DOMESTIC_SHELTER', 'FOUNDATION', 'MANUFACTURER_OF_GOODS', \n",
    "             'RESEARCH_AND_DEVELOPMENT', 'SERVICE_PROVIDER', 'VETERINARY_HOSPITAL', 'HISPANIC_SERVICING_INSTITUTION', \n",
    "             'LIMITED_LIABILITY_CORPORATION', 'FOR_PROFIT_ORGANIZATION', 'DOT_CERTIFIED_DISADV_BUS', \n",
    "             'SDB', 'PRODUCT_OR_SERVICE_TYPE', 'CO_BUS_SIZE_DETERMINATION','VENDOR_ADDRESS_ZIP_CODE', 'CONTRACTING_OFFICE_NAME']\n",
    "\n",
    "y_2022_rev = y2022[columns]"
   ]
  },
  {
   "attachments": {},
   "cell_type": "markdown",
   "metadata": {},
   "source": [
    "# fill na"
   ]
  },
  {
   "cell_type": "code",
   "execution_count": 7,
   "metadata": {},
   "outputs": [
    {
     "name": "stderr",
     "output_type": "stream",
     "text": [
      "/var/folders/l2/yg146pls5_q015mz26q0pyfm0000gn/T/ipykernel_70319/3491859210.py:1: SettingWithCopyWarning: \n",
      "A value is trying to be set on a copy of a slice from a DataFrame.\n",
      "Try using .loc[row_indexer,col_indexer] = value instead\n",
      "\n",
      "See the caveats in the documentation: https://pandas.pydata.org/pandas-docs/stable/user_guide/indexing.html#returning-a-view-versus-a-copy\n",
      "  y_2022_rev['TYPE_OF_SET_ASIDE'] = y_2022_rev['TYPE_OF_SET_ASIDE'].fillna('None')\n"
     ]
    }
   ],
   "source": [
    "y_2022_rev['TYPE_OF_SET_ASIDE'] = y_2022_rev['TYPE_OF_SET_ASIDE'].fillna('None')"
   ]
  },
  {
   "attachments": {},
   "cell_type": "markdown",
   "metadata": {},
   "source": [
    "# drop na"
   ]
  },
  {
   "cell_type": "code",
   "execution_count": 8,
   "metadata": {},
   "outputs": [],
   "source": [
    "y_2022_rev = y_2022_rev.dropna()"
   ]
  },
  {
   "attachments": {},
   "cell_type": "markdown",
   "metadata": {},
   "source": [
    "# One hot"
   ]
  },
  {
   "cell_type": "code",
   "execution_count": 9,
   "metadata": {},
   "outputs": [],
   "source": [
    "from sklearn.preprocessing import LabelEncoder\n",
    "\n",
    "y = y_2022_rev['CONTRACTING_OFFICE_NAME']\n",
    "enc = LabelEncoder()\n",
    "y = enc.fit_transform(y)\n"
   ]
  },
  {
   "attachments": {},
   "cell_type": "markdown",
   "metadata": {},
   "source": [
    "# matrixize"
   ]
  },
  {
   "cell_type": "code",
   "execution_count": 10,
   "metadata": {},
   "outputs": [],
   "source": [
    "X = y_2022_rev[['TYPE_OF_SET_ASIDE', 'EDUCATIONAL_INSTITUTION_FLAG', 'FIRM_8A_FLAG', 'WOMEN_OWNED_FLAG', 'FIRM8A_JOINT_VENTURE', \n",
    "             'FEDERALLY_FUNDED_R_AND_D_CORP', 'CORP_ENTITY_NOT_TAX_EXEMPT', 'CORP_ENTITY_TAX_EXEMPT', 'PARTNERSHIP_OR_LLP', \n",
    "             'SOLE_PROPREITORSHIP', 'SMALL_AGRICULTURAL_COOPERATIVE', 'INTERNATIONAL_ORGANIZATION', 'ARCHITECTURE_AND_ENGINEERING', \n",
    "             'COMMUNITY_CORP_OWNED_FIRM', 'CONSTRUCTION_FIRM', 'DOMESTIC_SHELTER', 'FOUNDATION', 'MANUFACTURER_OF_GOODS', \n",
    "             'RESEARCH_AND_DEVELOPMENT', 'SERVICE_PROVIDER', 'VETERINARY_HOSPITAL', 'HISPANIC_SERVICING_INSTITUTION', \n",
    "             'LIMITED_LIABILITY_CORPORATION', 'FOR_PROFIT_ORGANIZATION', 'DOT_CERTIFIED_DISADV_BUS', \n",
    "             'SDB', 'PRODUCT_OR_SERVICE_TYPE', 'CO_BUS_SIZE_DETERMINATION']]"
   ]
  },
  {
   "attachments": {},
   "cell_type": "markdown",
   "metadata": {},
   "source": [
    "# one hot x values and lasso"
   ]
  },
  {
   "cell_type": "code",
   "execution_count": 11,
   "metadata": {},
   "outputs": [
    {
     "name": "stdout",
     "output_type": "stream",
     "text": [
      "Columns not pushed to zero by Lasso regression:\n",
      "Index(['TYPE_OF_SET_ASIDE', 'FIRM_8A_FLAG', 'WOMEN_OWNED_FLAG',\n",
      "       'CORP_ENTITY_NOT_TAX_EXEMPT', 'PARTNERSHIP_OR_LLP',\n",
      "       'MANUFACTURER_OF_GOODS', 'LIMITED_LIABILITY_CORPORATION',\n",
      "       'FOR_PROFIT_ORGANIZATION', 'SDB', 'PRODUCT_OR_SERVICE_TYPE',\n",
      "       'CO_BUS_SIZE_DETERMINATION'],\n",
      "      dtype='object')\n"
     ]
    },
    {
     "name": "stderr",
     "output_type": "stream",
     "text": [
      "/var/folders/l2/yg146pls5_q015mz26q0pyfm0000gn/T/ipykernel_70319/1144268802.py:20: SettingWithCopyWarning: \n",
      "A value is trying to be set on a copy of a slice from a DataFrame.\n",
      "Try using .loc[row_indexer,col_indexer] = value instead\n",
      "\n",
      "See the caveats in the documentation: https://pandas.pydata.org/pandas-docs/stable/user_guide/indexing.html#returning-a-view-versus-a-copy\n",
      "  X[col] = enc.fit_transform(X[col])\n",
      "/var/folders/l2/yg146pls5_q015mz26q0pyfm0000gn/T/ipykernel_70319/1144268802.py:20: SettingWithCopyWarning: \n",
      "A value is trying to be set on a copy of a slice from a DataFrame.\n",
      "Try using .loc[row_indexer,col_indexer] = value instead\n",
      "\n",
      "See the caveats in the documentation: https://pandas.pydata.org/pandas-docs/stable/user_guide/indexing.html#returning-a-view-versus-a-copy\n",
      "  X[col] = enc.fit_transform(X[col])\n",
      "/var/folders/l2/yg146pls5_q015mz26q0pyfm0000gn/T/ipykernel_70319/1144268802.py:20: SettingWithCopyWarning: \n",
      "A value is trying to be set on a copy of a slice from a DataFrame.\n",
      "Try using .loc[row_indexer,col_indexer] = value instead\n",
      "\n",
      "See the caveats in the documentation: https://pandas.pydata.org/pandas-docs/stable/user_guide/indexing.html#returning-a-view-versus-a-copy\n",
      "  X[col] = enc.fit_transform(X[col])\n",
      "/var/folders/l2/yg146pls5_q015mz26q0pyfm0000gn/T/ipykernel_70319/1144268802.py:20: SettingWithCopyWarning: \n",
      "A value is trying to be set on a copy of a slice from a DataFrame.\n",
      "Try using .loc[row_indexer,col_indexer] = value instead\n",
      "\n",
      "See the caveats in the documentation: https://pandas.pydata.org/pandas-docs/stable/user_guide/indexing.html#returning-a-view-versus-a-copy\n",
      "  X[col] = enc.fit_transform(X[col])\n",
      "/var/folders/l2/yg146pls5_q015mz26q0pyfm0000gn/T/ipykernel_70319/1144268802.py:20: SettingWithCopyWarning: \n",
      "A value is trying to be set on a copy of a slice from a DataFrame.\n",
      "Try using .loc[row_indexer,col_indexer] = value instead\n",
      "\n",
      "See the caveats in the documentation: https://pandas.pydata.org/pandas-docs/stable/user_guide/indexing.html#returning-a-view-versus-a-copy\n",
      "  X[col] = enc.fit_transform(X[col])\n",
      "/var/folders/l2/yg146pls5_q015mz26q0pyfm0000gn/T/ipykernel_70319/1144268802.py:20: SettingWithCopyWarning: \n",
      "A value is trying to be set on a copy of a slice from a DataFrame.\n",
      "Try using .loc[row_indexer,col_indexer] = value instead\n",
      "\n",
      "See the caveats in the documentation: https://pandas.pydata.org/pandas-docs/stable/user_guide/indexing.html#returning-a-view-versus-a-copy\n",
      "  X[col] = enc.fit_transform(X[col])\n",
      "/var/folders/l2/yg146pls5_q015mz26q0pyfm0000gn/T/ipykernel_70319/1144268802.py:20: SettingWithCopyWarning: \n",
      "A value is trying to be set on a copy of a slice from a DataFrame.\n",
      "Try using .loc[row_indexer,col_indexer] = value instead\n",
      "\n",
      "See the caveats in the documentation: https://pandas.pydata.org/pandas-docs/stable/user_guide/indexing.html#returning-a-view-versus-a-copy\n",
      "  X[col] = enc.fit_transform(X[col])\n",
      "/var/folders/l2/yg146pls5_q015mz26q0pyfm0000gn/T/ipykernel_70319/1144268802.py:20: SettingWithCopyWarning: \n",
      "A value is trying to be set on a copy of a slice from a DataFrame.\n",
      "Try using .loc[row_indexer,col_indexer] = value instead\n",
      "\n",
      "See the caveats in the documentation: https://pandas.pydata.org/pandas-docs/stable/user_guide/indexing.html#returning-a-view-versus-a-copy\n",
      "  X[col] = enc.fit_transform(X[col])\n",
      "/var/folders/l2/yg146pls5_q015mz26q0pyfm0000gn/T/ipykernel_70319/1144268802.py:20: SettingWithCopyWarning: \n",
      "A value is trying to be set on a copy of a slice from a DataFrame.\n",
      "Try using .loc[row_indexer,col_indexer] = value instead\n",
      "\n",
      "See the caveats in the documentation: https://pandas.pydata.org/pandas-docs/stable/user_guide/indexing.html#returning-a-view-versus-a-copy\n",
      "  X[col] = enc.fit_transform(X[col])\n",
      "/var/folders/l2/yg146pls5_q015mz26q0pyfm0000gn/T/ipykernel_70319/1144268802.py:20: SettingWithCopyWarning: \n",
      "A value is trying to be set on a copy of a slice from a DataFrame.\n",
      "Try using .loc[row_indexer,col_indexer] = value instead\n",
      "\n",
      "See the caveats in the documentation: https://pandas.pydata.org/pandas-docs/stable/user_guide/indexing.html#returning-a-view-versus-a-copy\n",
      "  X[col] = enc.fit_transform(X[col])\n",
      "/var/folders/l2/yg146pls5_q015mz26q0pyfm0000gn/T/ipykernel_70319/1144268802.py:20: SettingWithCopyWarning: \n",
      "A value is trying to be set on a copy of a slice from a DataFrame.\n",
      "Try using .loc[row_indexer,col_indexer] = value instead\n",
      "\n",
      "See the caveats in the documentation: https://pandas.pydata.org/pandas-docs/stable/user_guide/indexing.html#returning-a-view-versus-a-copy\n",
      "  X[col] = enc.fit_transform(X[col])\n",
      "/var/folders/l2/yg146pls5_q015mz26q0pyfm0000gn/T/ipykernel_70319/1144268802.py:20: SettingWithCopyWarning: \n",
      "A value is trying to be set on a copy of a slice from a DataFrame.\n",
      "Try using .loc[row_indexer,col_indexer] = value instead\n",
      "\n",
      "See the caveats in the documentation: https://pandas.pydata.org/pandas-docs/stable/user_guide/indexing.html#returning-a-view-versus-a-copy\n",
      "  X[col] = enc.fit_transform(X[col])\n",
      "/var/folders/l2/yg146pls5_q015mz26q0pyfm0000gn/T/ipykernel_70319/1144268802.py:20: SettingWithCopyWarning: \n",
      "A value is trying to be set on a copy of a slice from a DataFrame.\n",
      "Try using .loc[row_indexer,col_indexer] = value instead\n",
      "\n",
      "See the caveats in the documentation: https://pandas.pydata.org/pandas-docs/stable/user_guide/indexing.html#returning-a-view-versus-a-copy\n",
      "  X[col] = enc.fit_transform(X[col])\n",
      "/var/folders/l2/yg146pls5_q015mz26q0pyfm0000gn/T/ipykernel_70319/1144268802.py:20: SettingWithCopyWarning: \n",
      "A value is trying to be set on a copy of a slice from a DataFrame.\n",
      "Try using .loc[row_indexer,col_indexer] = value instead\n",
      "\n",
      "See the caveats in the documentation: https://pandas.pydata.org/pandas-docs/stable/user_guide/indexing.html#returning-a-view-versus-a-copy\n",
      "  X[col] = enc.fit_transform(X[col])\n",
      "/var/folders/l2/yg146pls5_q015mz26q0pyfm0000gn/T/ipykernel_70319/1144268802.py:20: SettingWithCopyWarning: \n",
      "A value is trying to be set on a copy of a slice from a DataFrame.\n",
      "Try using .loc[row_indexer,col_indexer] = value instead\n",
      "\n",
      "See the caveats in the documentation: https://pandas.pydata.org/pandas-docs/stable/user_guide/indexing.html#returning-a-view-versus-a-copy\n",
      "  X[col] = enc.fit_transform(X[col])\n",
      "/var/folders/l2/yg146pls5_q015mz26q0pyfm0000gn/T/ipykernel_70319/1144268802.py:20: SettingWithCopyWarning: \n",
      "A value is trying to be set on a copy of a slice from a DataFrame.\n",
      "Try using .loc[row_indexer,col_indexer] = value instead\n",
      "\n",
      "See the caveats in the documentation: https://pandas.pydata.org/pandas-docs/stable/user_guide/indexing.html#returning-a-view-versus-a-copy\n",
      "  X[col] = enc.fit_transform(X[col])\n",
      "/var/folders/l2/yg146pls5_q015mz26q0pyfm0000gn/T/ipykernel_70319/1144268802.py:20: SettingWithCopyWarning: \n",
      "A value is trying to be set on a copy of a slice from a DataFrame.\n",
      "Try using .loc[row_indexer,col_indexer] = value instead\n",
      "\n",
      "See the caveats in the documentation: https://pandas.pydata.org/pandas-docs/stable/user_guide/indexing.html#returning-a-view-versus-a-copy\n",
      "  X[col] = enc.fit_transform(X[col])\n",
      "/var/folders/l2/yg146pls5_q015mz26q0pyfm0000gn/T/ipykernel_70319/1144268802.py:20: SettingWithCopyWarning: \n",
      "A value is trying to be set on a copy of a slice from a DataFrame.\n",
      "Try using .loc[row_indexer,col_indexer] = value instead\n",
      "\n",
      "See the caveats in the documentation: https://pandas.pydata.org/pandas-docs/stable/user_guide/indexing.html#returning-a-view-versus-a-copy\n",
      "  X[col] = enc.fit_transform(X[col])\n",
      "/var/folders/l2/yg146pls5_q015mz26q0pyfm0000gn/T/ipykernel_70319/1144268802.py:20: SettingWithCopyWarning: \n",
      "A value is trying to be set on a copy of a slice from a DataFrame.\n",
      "Try using .loc[row_indexer,col_indexer] = value instead\n",
      "\n",
      "See the caveats in the documentation: https://pandas.pydata.org/pandas-docs/stable/user_guide/indexing.html#returning-a-view-versus-a-copy\n",
      "  X[col] = enc.fit_transform(X[col])\n",
      "/var/folders/l2/yg146pls5_q015mz26q0pyfm0000gn/T/ipykernel_70319/1144268802.py:20: SettingWithCopyWarning: \n",
      "A value is trying to be set on a copy of a slice from a DataFrame.\n",
      "Try using .loc[row_indexer,col_indexer] = value instead\n",
      "\n",
      "See the caveats in the documentation: https://pandas.pydata.org/pandas-docs/stable/user_guide/indexing.html#returning-a-view-versus-a-copy\n",
      "  X[col] = enc.fit_transform(X[col])\n",
      "/var/folders/l2/yg146pls5_q015mz26q0pyfm0000gn/T/ipykernel_70319/1144268802.py:20: SettingWithCopyWarning: \n",
      "A value is trying to be set on a copy of a slice from a DataFrame.\n",
      "Try using .loc[row_indexer,col_indexer] = value instead\n",
      "\n",
      "See the caveats in the documentation: https://pandas.pydata.org/pandas-docs/stable/user_guide/indexing.html#returning-a-view-versus-a-copy\n",
      "  X[col] = enc.fit_transform(X[col])\n",
      "/var/folders/l2/yg146pls5_q015mz26q0pyfm0000gn/T/ipykernel_70319/1144268802.py:20: SettingWithCopyWarning: \n",
      "A value is trying to be set on a copy of a slice from a DataFrame.\n",
      "Try using .loc[row_indexer,col_indexer] = value instead\n",
      "\n",
      "See the caveats in the documentation: https://pandas.pydata.org/pandas-docs/stable/user_guide/indexing.html#returning-a-view-versus-a-copy\n",
      "  X[col] = enc.fit_transform(X[col])\n",
      "/var/folders/l2/yg146pls5_q015mz26q0pyfm0000gn/T/ipykernel_70319/1144268802.py:20: SettingWithCopyWarning: \n",
      "A value is trying to be set on a copy of a slice from a DataFrame.\n",
      "Try using .loc[row_indexer,col_indexer] = value instead\n",
      "\n",
      "See the caveats in the documentation: https://pandas.pydata.org/pandas-docs/stable/user_guide/indexing.html#returning-a-view-versus-a-copy\n",
      "  X[col] = enc.fit_transform(X[col])\n",
      "/var/folders/l2/yg146pls5_q015mz26q0pyfm0000gn/T/ipykernel_70319/1144268802.py:20: SettingWithCopyWarning: \n",
      "A value is trying to be set on a copy of a slice from a DataFrame.\n",
      "Try using .loc[row_indexer,col_indexer] = value instead\n",
      "\n",
      "See the caveats in the documentation: https://pandas.pydata.org/pandas-docs/stable/user_guide/indexing.html#returning-a-view-versus-a-copy\n",
      "  X[col] = enc.fit_transform(X[col])\n",
      "/var/folders/l2/yg146pls5_q015mz26q0pyfm0000gn/T/ipykernel_70319/1144268802.py:20: SettingWithCopyWarning: \n",
      "A value is trying to be set on a copy of a slice from a DataFrame.\n",
      "Try using .loc[row_indexer,col_indexer] = value instead\n",
      "\n",
      "See the caveats in the documentation: https://pandas.pydata.org/pandas-docs/stable/user_guide/indexing.html#returning-a-view-versus-a-copy\n",
      "  X[col] = enc.fit_transform(X[col])\n",
      "/var/folders/l2/yg146pls5_q015mz26q0pyfm0000gn/T/ipykernel_70319/1144268802.py:20: SettingWithCopyWarning: \n",
      "A value is trying to be set on a copy of a slice from a DataFrame.\n",
      "Try using .loc[row_indexer,col_indexer] = value instead\n",
      "\n",
      "See the caveats in the documentation: https://pandas.pydata.org/pandas-docs/stable/user_guide/indexing.html#returning-a-view-versus-a-copy\n",
      "  X[col] = enc.fit_transform(X[col])\n",
      "/var/folders/l2/yg146pls5_q015mz26q0pyfm0000gn/T/ipykernel_70319/1144268802.py:20: SettingWithCopyWarning: \n",
      "A value is trying to be set on a copy of a slice from a DataFrame.\n",
      "Try using .loc[row_indexer,col_indexer] = value instead\n",
      "\n",
      "See the caveats in the documentation: https://pandas.pydata.org/pandas-docs/stable/user_guide/indexing.html#returning-a-view-versus-a-copy\n",
      "  X[col] = enc.fit_transform(X[col])\n",
      "/var/folders/l2/yg146pls5_q015mz26q0pyfm0000gn/T/ipykernel_70319/1144268802.py:20: SettingWithCopyWarning: \n",
      "A value is trying to be set on a copy of a slice from a DataFrame.\n",
      "Try using .loc[row_indexer,col_indexer] = value instead\n",
      "\n",
      "See the caveats in the documentation: https://pandas.pydata.org/pandas-docs/stable/user_guide/indexing.html#returning-a-view-versus-a-copy\n",
      "  X[col] = enc.fit_transform(X[col])\n"
     ]
    }
   ],
   "source": [
    "from sklearn.linear_model import Lasso\n",
    "from sklearn.preprocessing import LabelEncoder\n",
    "\n",
    "# Initialize LabelEncoder\n",
    "enc = LabelEncoder()\n",
    "\n",
    "# Encode categorical columns individually\n",
    "for col in ['TYPE_OF_SET_ASIDE', 'EDUCATIONAL_INSTITUTION_FLAG', 'FIRM_8A_FLAG',\n",
    "            'WOMEN_OWNED_FLAG', 'FIRM8A_JOINT_VENTURE',\n",
    "            'FEDERALLY_FUNDED_R_AND_D_CORP', 'CORP_ENTITY_NOT_TAX_EXEMPT',\n",
    "            'CORP_ENTITY_TAX_EXEMPT', 'PARTNERSHIP_OR_LLP', 'SOLE_PROPREITORSHIP',\n",
    "            'SMALL_AGRICULTURAL_COOPERATIVE', 'INTERNATIONAL_ORGANIZATION',\n",
    "            'ARCHITECTURE_AND_ENGINEERING', 'COMMUNITY_CORP_OWNED_FIRM',\n",
    "            'CONSTRUCTION_FIRM', 'DOMESTIC_SHELTER', 'FOUNDATION',\n",
    "            'MANUFACTURER_OF_GOODS', 'RESEARCH_AND_DEVELOPMENT', 'SERVICE_PROVIDER',\n",
    "            'VETERINARY_HOSPITAL', 'HISPANIC_SERVICING_INSTITUTION',\n",
    "            'LIMITED_LIABILITY_CORPORATION', 'FOR_PROFIT_ORGANIZATION',\n",
    "            'DOT_CERTIFIED_DISADV_BUS', 'SDB',\n",
    "            'PRODUCT_OR_SERVICE_TYPE', 'CO_BUS_SIZE_DETERMINATION']:\n",
    "    X[col] = enc.fit_transform(X[col])\n",
    "\n",
    "# Encode target variable y\n",
    "y = enc.fit_transform(y)\n",
    "\n",
    "# Initialize the Lasso model\n",
    "lasso = Lasso(alpha=0.999)  # You can adjust the alpha parameter as needed\n",
    "\n",
    "# Fit the Lasso model to your data\n",
    "lasso.fit(X, y)\n",
    "\n",
    "# Get the coefficients of the features\n",
    "coefficients = lasso.coef_\n",
    "\n",
    "# Find the indices of non-zero coefficients\n",
    "non_zero_indices = [i for i, coef in enumerate(coefficients) if coef != 0]\n",
    "\n",
    "# Get the column names corresponding to non-zero coefficients\n",
    "non_zero_columns = X.columns[non_zero_indices]\n",
    "\n",
    "# Print the column names that were not pushed to zero\n",
    "print(\"Columns not pushed to zero by Lasso regression:\")\n",
    "print(non_zero_columns)"
   ]
  },
  {
   "attachments": {},
   "cell_type": "markdown",
   "metadata": {},
   "source": [
    "# relevant x values"
   ]
  },
  {
   "cell_type": "code",
   "execution_count": 12,
   "metadata": {},
   "outputs": [],
   "source": [
    "xfinal = X[['TYPE_OF_SET_ASIDE', 'FIRM_8A_FLAG', 'WOMEN_OWNED_FLAG',\n",
    "       'CORP_ENTITY_NOT_TAX_EXEMPT', 'CORP_ENTITY_TAX_EXEMPT',\n",
    "       'PARTNERSHIP_OR_LLP', 'MANUFACTURER_OF_GOODS',\n",
    "       'LIMITED_LIABILITY_CORPORATION', 'FOR_PROFIT_ORGANIZATION',\n",
    "       'DOT_CERTIFIED_DISADV_BUS', 'SDB', 'PRODUCT_OR_SERVICE_TYPE',\n",
    "       'CO_BUS_SIZE_DETERMINATION']]"
   ]
  },
  {
   "attachments": {},
   "cell_type": "markdown",
   "metadata": {},
   "source": [
    "# fit model"
   ]
  },
  {
   "cell_type": "code",
   "execution_count": 15,
   "metadata": {},
   "outputs": [
    {
     "name": "stderr",
     "output_type": "stream",
     "text": [
      "/Users/kevinfinn/anaconda3/lib/python3.10/site-packages/sklearn/linear_model/_logistic.py:458: ConvergenceWarning: lbfgs failed to converge (status=1):\n",
      "STOP: TOTAL NO. of ITERATIONS REACHED LIMIT.\n",
      "\n",
      "Increase the number of iterations (max_iter) or scale the data as shown in:\n",
      "    https://scikit-learn.org/stable/modules/preprocessing.html\n",
      "Please also refer to the documentation for alternative solver options:\n",
      "    https://scikit-learn.org/stable/modules/linear_model.html#logistic-regression\n",
      "  n_iter_i = _check_optimize_result(\n"
     ]
    },
    {
     "name": "stdout",
     "output_type": "stream",
     "text": [
      "Accuracy: 0.741919470490899\n"
     ]
    }
   ],
   "source": [
    "from sklearn.metrics import accuracy_score\n",
    "import numpy as np\n",
    "from sklearn.model_selection import train_test_split\n",
    "from sklearn.linear_model import LogisticRegression\n",
    "\n",
    "# Split the data into training and testing sets\n",
    "X_train, X_test, y_train, y_test = train_test_split(xfinal, y, train_size=0.7)\n",
    "\n",
    "# Initialize the Logistic Regression model with softmax activation\n",
    "log_reg = LogisticRegression(multi_class='multinomial', solver='lbfgs')\n",
    "\n",
    "# Train the Logistic Regression model on the training data\n",
    "log_reg.fit(X_train, y_train)\n",
    "\n",
    "# Predict probabilities for the testing data\n",
    "probabilities = log_reg.predict_proba(X_test)\n",
    "\n",
    "# Get the top 3 predicted classes for each sample\n",
    "top_5_indices = np.argsort(probabilities, axis=1)[:, -5:]\n",
    "\n",
    "# Check if the true label is in the top 3 predicted classes for each sample\n",
    "predicted_labels = log_reg.classes_[top_5_indices]\n",
    "accurate_predictions = np.any(predicted_labels == y_test[:, np.newaxis], axis=1)\n",
    "\n",
    "# Calculate accuracy based on whether the true label is in the top 3 predicted classes\n",
    "accuracy = np.mean(accurate_predictions)\n",
    "print(\"Accuracy:\", accuracy)"
   ]
  },
  {
   "cell_type": "code",
   "execution_count": null,
   "metadata": {},
   "outputs": [],
   "source": []
  }
 ],
 "metadata": {
  "kernelspec": {
   "display_name": "base",
   "language": "python",
   "name": "python3"
  },
  "language_info": {
   "codemirror_mode": {
    "name": "ipython",
    "version": 3
   },
   "file_extension": ".py",
   "mimetype": "text/x-python",
   "name": "python",
   "nbconvert_exporter": "python",
   "pygments_lexer": "ipython3",
   "version": "3.10.9"
  },
  "orig_nbformat": 4
 },
 "nbformat": 4,
 "nbformat_minor": 2
}
