{
 "cells": [
  {
   "cell_type": "code",
   "execution_count": 1,
   "id": "a7567599-6822-47cc-8d91-1f766a7dfe30",
   "metadata": {
    "tags": []
   },
   "outputs": [],
   "source": [
    "import pandas as pd\n",
    "import numpy as np\n",
    "from sklearn.preprocessing import LabelEncoder, StandardScaler\n",
    "from sklearn.linear_model import LogisticRegression, SGDClassifier\n",
    "from sklearn.ensemble import RandomForestClassifier\n",
    "from sklearn.model_selection import train_test_split\n",
    "from sklearn.metrics import accuracy_score\n",
    "import pickle"
   ]
  },
  {
   "cell_type": "code",
   "execution_count": 31,
   "id": "9953c042-7298-4887-8695-bc6d5e7fecc2",
   "metadata": {
    "tags": []
   },
   "outputs": [],
   "source": [
    "seed = 23\n",
    "protected = False\n",
    "sam = False\n",
    "import_cols = [\n",
    "    'RESEARCH_AND_DEVELOPMENT',\n",
    "    'DOMESTIC_SHELTER',\n",
    "    'TYPE_OF_SET_ASIDE',\n",
    "    'SOLICITATION_ID',\n",
    "    'CONSTRUCTION_FIRM',\n",
    "    'CO_BUS_SIZE_DETERMINATION',\n",
    "    'CAGE_CODE',\n",
    "    'VETERAN_OWNED_FLAG',\n",
    "    'CORP_ENTITY_NOT_TAX_EXEMPT',\n",
    "    'FUNDING_DEPARTMENT_ID',\n",
    "    # 'FUNDING_AGENCY_NAME',\n",
    "    'FUNDING_AGENCY_ID',\n",
    "    # 'FUNDING_OFFICE_NAME',\n",
    "    # 'FUNDING_OFFICE_ID',\n",
    "    'SERVICE_PROVIDER',\n",
    "    'PRODUCT_OR_SERVICE_TYPE',\n",
    "    # 'MODIFICATION_NUMBER',\n",
    "    'PIID',\n",
    "    'FOUNDATION',\n",
    "    # 'EVALUATED_PREFERENCE',\n",
    "    'SRDVOB_FLAG',\n",
    "    'CORP_ENTITY_TAX_EXEMPT',\n",
    "    'MANUFACTURER_OF_GOODS',\n",
    "    'VENDOR_ADDRESS_COUNTRY_NAME',\n",
    "    'VENDOR_ADDRESS_ZIP_CODE',\n",
    "    'SDB',\n",
    "    'VETERINARY_HOSPITAL',\n",
    "    'COMMUNITY_CORP_OWNED_FIRM',\n",
    "    'DOT_CERTIFIED_DISADV_BUS',\n",
    "    'PRINCIPAL_NAICS_CODE',\n",
    "    'EDUCATIONAL_INSTITUTION_FLAG',\n",
    "    'LIMITED_LIABILITY_CORPORATION',\n",
    "    'EXTENT_COMPETED',\n",
    "    'FEDERALLY_FUNDED_R_AND_D_CORP',\n",
    "    'SOLE_PROPREITORSHIP',\n",
    "    'WOMEN_OWNED_FLAG',\n",
    "    'ARCHITECTURE_AND_ENGINEERING',\n",
    "    'HISPANIC_SERVICING_INSTITUTION',\n",
    "    'IDV_PIID',\n",
    "    'PLACE_OF_MANUFACTURE',\n",
    "    # 'IDV_EXTENT_COMPETED',\n",
    "    'AWARD_FISCAL_YEAR',\n",
    "    # 'IDV_SIGNED_DATE',\n",
    "    'FIRM_8A_FLAG',\n",
    "    'SMALL_AGRICULTURAL_COOPERATIVE',\n",
    "    'PARTNERSHIP_OR_LLP',\n",
    "    'DOLLARS_OBLIGATED',\n",
    "    # 'IDV_NUMBER_OF_OFFERS',\n",
    "    'FOR_PROFIT_ORGANIZATION',\n",
    "    # 'AWARD_OR_IDV',\n",
    "    'FIRM8A_JOINT_VENTURE',\n",
    "    # 'IDV_CONTRACTING_AGENCY_ID',\n",
    "    'NUMBER_OF_OFFERS_RECEIVED'\n",
    "]\n",
    "if protected:\n",
    "    import_cols = import_cols + ['ANNUAL_REVENUE', 'NUMBER_OF_EMPLOYEES']\n",
    "\n",
    "\n",
    "import_years = [2019, 2020, 2021, 2022, 2023]\n",
    "top_n_agencies = 0\n",
    "min_class_size = 20\n",
    "\n",
    "model_cols = [\n",
    "    'RESPONSE',\n",
    "    'RESEARCH_AND_DEVELOPMENT',\n",
    "    'DOMESTIC_SHELTER',\n",
    "    # 'TYPE_OF_SET_ASIDE',\n",
    "    'CONSTRUCTION_FIRM',\n",
    "    'VETERAN_OWNED_FLAG',\n",
    "    'CORP_ENTITY_NOT_TAX_EXEMPT',\n",
    "    'SERVICE_PROVIDER',\n",
    "    'PRODUCT_OR_SERVICE_TYPE',\n",
    "    # 'MODIFICATION_NUMBER',\n",
    "    # 'PIID',\n",
    "    'FOUNDATION',\n",
    "    # 'EVALUATED_PREFERENCE',\n",
    "    'SRDVOB_FLAG',\n",
    "    'CORP_ENTITY_TAX_EXEMPT',\n",
    "    'MANUFACTURER_OF_GOODS',\n",
    "    'VENDOR_ADDRESS_ZIP_CODE',\n",
    "    #'VENDOR_STATE', #FEATURE ENGINEERED BELOW\n",
    "    'SDB',\n",
    "    'VETERINARY_HOSPITAL',\n",
    "    'COMMUNITY_CORP_OWNED_FIRM',\n",
    "    'DOT_CERTIFIED_DISADV_BUS',\n",
    "    'PRINCIPAL_NAICS_CODE',\n",
    "    'EDUCATIONAL_INSTITUTION_FLAG',\n",
    "    'LIMITED_LIABILITY_CORPORATION',\n",
    "    'FEDERALLY_FUNDED_R_AND_D_CORP',\n",
    "    'SOLE_PROPREITORSHIP',\n",
    "    'WOMEN_OWNED_FLAG',\n",
    "    'ARCHITECTURE_AND_ENGINEERING',\n",
    "    'HISPANIC_SERVICING_INSTITUTION',\n",
    "    # 'IDV_PIID',\n",
    "    'PLACE_OF_MANUFACTURE_CLASS',\n",
    "    # 'IDV_EXTENT_COMPETED',\n",
    "    # 'AWARD_FISCAL_YEAR',\n",
    "    # 'IDV_SIGNED_DATE',\n",
    "    'FIRM_8A_FLAG',\n",
    "    'SMALL_AGRICULTURAL_COOPERATIVE',\n",
    "    'PARTNERSHIP_OR_LLP',\n",
    "    # 'IDV_NUMBER_OF_OFFERS',\n",
    "    'FOR_PROFIT_ORGANIZATION',\n",
    "    # 'AWARD_OR_IDV',\n",
    "    'FIRM8A_JOINT_VENTURE',\n",
    "    # 'IDV_CONTRACTING_AGENCY_ID',\n",
    "    'CONTRACTS_PER_YEAR'\n",
    "]\n",
    "if protected:\n",
    "    model_cols = model_cols + ['ANNUAL_REVENUE', 'NUMBER_OF_EMPLOYEES']\n",
    "\n",
    "min_importance = 0.001 #at 0.015 we finally get zip, \n",
    "col_tree_depth = 10\n",
    "hard = False\n",
    "\n",
    "n_trees = 1000\n",
    "max_depth = 25\n",
    "top_n_classes = 20"
   ]
  },
  {
   "cell_type": "markdown",
   "id": "76be4b50-c018-47a9-982d-c5ea6df2d27a",
   "metadata": {
    "tags": []
   },
   "source": [
    "## Import Data"
   ]
  },
  {
   "cell_type": "code",
   "execution_count": 3,
   "id": "84a5ca4b-b84a-464b-9831-838bfbc93793",
   "metadata": {
    "tags": []
   },
   "outputs": [],
   "source": [
    "def import_dataset(import_cols, years, sam=True):\n",
    "    \"\"\"\n",
    "    Imports, cleans, and joins our data with specified columns and years\n",
    "    Inputs: \n",
    "        import_cols (list [str] of column names)\n",
    "        years (list [int] of years to import)\n",
    "        sam (bool of whether to merge with sam dataset)\n",
    "    Output:\n",
    "        Cleaned, filtered, and joined dataframe\n",
    "    \"\"\"\n",
    "    if sam:\n",
    "        SAM = pd.read_csv('SAM.CSV') #imports SAM df\n",
    "    \n",
    "    year_dfs = []\n",
    "    for year in years:\n",
    "        if protected: #whether we're using protected columns or not\n",
    "            temp_df = pd.read_parquet('fy' + str(year) + '.parquet', columns=import_cols)\n",
    "        else:\n",
    "            temp_df = pd.read_parquet(str(year) + '.parquet', columns=import_cols) #import year's data\n",
    "        \n",
    "        temp_df = temp_df[temp_df['CO_BUS_SIZE_DETERMINATION'] == \"SMALL BUSINESS\"] #filter for small business\n",
    "        temp_df = temp_df[temp_df['VENDOR_ADDRESS_COUNTRY_NAME'] == \"UNITED STATES\"] #filter for US\n",
    "        temp_df = temp_df[temp_df['EXTENT_COMPETED'].isin([\"A\", \"D\", \"E\", \"CDO\"])] #filter for competition\n",
    "        \n",
    "        # temp_df['DOLLARS_OBLIGATED'] = pd.to_numeric(temp_df['DOLLARS_OBLIGATED'], errors='coerce') #make numeric\n",
    "        \n",
    "        if sam:\n",
    "            temp_m = pd.merge(temp_df, SAM, on=\"CAGE_CODE\", how=\"inner\") #merge with SAM\n",
    "        else:\n",
    "            temp_m = temp_df\n",
    "        \n",
    "        # idx = temp_m.groupby(['SOLICITATION_ID','CAGE_CODE'])['DOLLARS_OBLIGATED'].idxmax() #find initial contract win\n",
    "        # temp_m = temp_m.loc[idx] #filter to initial contract win\n",
    "        \n",
    "        temp_m = temp_m[temp_m['DOLLARS_OBLIGATED'] > 0] #filter DOLLARS_OBLIGATED\n",
    "        \n",
    "        print(f'{year} shape: {temp_m.shape}')\n",
    "        year_dfs.append(temp_m) #append year dataset to list of year datasets\n",
    "    \n",
    "    merged_df = pd.concat(year_dfs, ignore_index=True) #merge all years\n",
    "    \n",
    "    for df in year_dfs:\n",
    "        del df\n",
    "    del year_dfs #delete the individual dfs from memory\n",
    "    \n",
    "    merged_df['contract_id'] = merged_df['PIID'] + merged_df['IDV_PIID']\n",
    "    # idx = merged_df.groupby(['SOLICITATION_ID','CAGE_CODE'])['DOLLARS_OBLIGATED'].idxmax() #find initial contracts\n",
    "    idx = merged_df.groupby(['contract_id', 'CAGE_CODE'])['DOLLARS_OBLIGATED'].idxmax() #find initial contracts a different way lmao\n",
    "    filtered_merged_df = merged_df.loc[idx] #filter to initial contract\n",
    "    \n",
    "    print(f'total shape: {filtered_merged_df.shape}')\n",
    "    \n",
    "    #place of manufacture conversion\n",
    "    def convert_place_of_manufacture(value):\n",
    "        if value == 'D':\n",
    "            return 'YES' #manufactured in US\n",
    "        elif value == 'C':\n",
    "            return 'NO' #not manufactured in US\n",
    "        elif value in ['N/A', 'A', 'G', 'E', 'H', 'L', 'J', 'F', 'K', 'B', 'I']:\n",
    "            return 'NONE'\n",
    "        else:\n",
    "            return 'NONE' #N/A (provides a service or doesn't qualify fully)\n",
    "    \n",
    "    #clean up individual columns\n",
    "    filtered_merged_df['FUNDING_DEPARTMENT_ID'] = filtered_merged_df['FUNDING_DEPARTMENT_ID'].str.strip() #clean dept ID\n",
    "    if protected:\n",
    "        filtered_merged_df['ANNUAL_REVENUE'] = filtered_merged_df['ANNUAL_REVENUE'].astype(float)\n",
    "    # filtered_merged_df['IDV_PIID'] = filtered_merged_df['IDV_PIID'].str.strip() #clean IDV PIID\n",
    "    # filtered_merged_df['PIID'] = filtered_merged_df['PIID'].str.strip() #clean PIID\n",
    "    filtered_merged_df['PLACE_OF_MANUFACTURE_CLASS'] = filtered_merged_df['PLACE_OF_MANUFACTURE'].apply(convert_place_of_manufacture) #clean PLACE_OF_MANUFACTURE\n",
    "    filtered_merged_df['VENDOR_ADDRESS_ZIP_CODE'] = filtered_merged_df['VENDOR_ADDRESS_ZIP_CODE'].astype(str).str[:5] #clean ZIP to 5-digit\n",
    "    filtered_merged_df = filtered_merged_df[filtered_merged_df['VENDOR_ADDRESS_ZIP_CODE'].str.len()==5]\n",
    "    filtered_merged_df['TYPE_OF_SET_ASIDE'] = filtered_merged_df['TYPE_OF_SET_ASIDE'].fillna('NONE') #assume NA = NONE\n",
    "    \n",
    "    filtered_merged_df = filtered_merged_df.dropna(subset=filtered_merged_df.columns.difference(['PLACE_OF_MANUFACTURE'])) #remove rows with NAs here\n",
    "    \n",
    "    print(f'total filtered shape: {filtered_merged_df.shape}')\n",
    "    \n",
    "    return filtered_merged_df"
   ]
  },
  {
   "cell_type": "code",
   "execution_count": 4,
   "id": "71bba759-cbc7-4b36-8485-5d8917b84b64",
   "metadata": {
    "tags": []
   },
   "outputs": [
    {
     "name": "stdout",
     "output_type": "stream",
     "text": [
      "2019 shape: (1772611, 43)\n",
      "2020 shape: (1659942, 43)\n",
      "2021 shape: (1916684, 43)\n",
      "2022 shape: (1979453, 43)\n",
      "2023 shape: (1866515, 43)\n",
      "total shape: (8616491, 44)\n",
      "total filtered shape: (266059, 45)\n"
     ]
    }
   ],
   "source": [
    "df0 = import_dataset(import_cols, import_years, sam=False)"
   ]
  },
  {
   "cell_type": "markdown",
   "id": "e3a8884c-b6ef-41af-b341-6cfcc43bb5c4",
   "metadata": {},
   "source": [
    "## Create Response Variable"
   ]
  },
  {
   "cell_type": "code",
   "execution_count": 5,
   "id": "d268a00c-1948-4892-a58e-16b4e44e9c5b",
   "metadata": {
    "tags": []
   },
   "outputs": [],
   "source": [
    "def response_var(df, top_n, min_class_size=1):\n",
    "    \"\"\"\n",
    "    Creates a new response variable by splitting the top_n most common agencies into their respective offices,\n",
    "    then filter the dataframe so only classes with at least min_class_size rows remain\n",
    "    Inputs:\n",
    "        df (dataframe output from import_dataset())\n",
    "        top_n (integer of top n agencies [0, max])\n",
    "        min_class_size (integer of minimum # of observations a class can have to be a valid response)\n",
    "    Outputs:\n",
    "        dataframe with additional RESPONSE column, filtered\n",
    "    \"\"\"\n",
    "    if top_n > 0:\n",
    "        n_agencies = df['FUNDING_AGENCY_ID'].value_counts().nlargest(top_n).index #get top n most common agencies\n",
    "        df['RESPONSE'] = np.where(df['FUNDING_AGENCY_ID'].isin(n_agencies), df['FUNDING_OFFICE_ID'], df['FUNDING_AGENCY_ID']) #make RESPONSE, splitting most common agencies into offices\n",
    "    else:\n",
    "        df['RESPONSE'] = df['FUNDING_AGENCY_ID']\n",
    "    \n",
    "    class_sizes = df['RESPONSE'].value_counts()\n",
    "    classes_to_keep = class_sizes[class_sizes >= min_class_size].index\n",
    "    df = df[df['RESPONSE'].isin(classes_to_keep)]\n",
    "    \n",
    "    print(f\"{df['RESPONSE'].nunique()} unique response classes\")\n",
    "    \n",
    "    return df"
   ]
  },
  {
   "cell_type": "code",
   "execution_count": 6,
   "id": "d90eb80d-0e0d-49a7-b486-28ab54e2ce7d",
   "metadata": {
    "tags": []
   },
   "outputs": [
    {
     "name": "stdout",
     "output_type": "stream",
     "text": [
      "163 unique response classes\n"
     ]
    }
   ],
   "source": [
    "df = response_var(df0, top_n_agencies, min_class_size)"
   ]
  },
  {
   "cell_type": "markdown",
   "id": "43a874cb-a36f-42ca-a833-9a60be8a10aa",
   "metadata": {
    "tags": []
   },
   "source": [
    "## Perform any Feature Engineering Here"
   ]
  },
  {
   "cell_type": "code",
   "execution_count": 7,
   "id": "137138e1-db8d-497f-a259-a6b28afb932b",
   "metadata": {
    "tags": []
   },
   "outputs": [],
   "source": [
    "df.loc[:,'PRINCIPAL_NAICS_CODE'] = df['PRINCIPAL_NAICS_CODE'].str[:4]"
   ]
  },
  {
   "cell_type": "code",
   "execution_count": 8,
   "id": "ac23690b-4c0a-44e5-a494-7acd9de0c570",
   "metadata": {
    "tags": []
   },
   "outputs": [],
   "source": [
    "contracts_per_year = df.groupby(['CAGE_CODE', 'AWARD_FISCAL_YEAR']).size().to_frame().reset_index()\n",
    "contracts_per_year.columns = list(contracts_per_year.columns[:2]) + ['CONTRACTS_PER_YEAR']\n",
    "df = df.merge(contracts_per_year, on=['CAGE_CODE', 'AWARD_FISCAL_YEAR'])"
   ]
  },
  {
   "cell_type": "code",
   "execution_count": 9,
   "id": "642153ea-6493-4264-a173-394bde3815e6",
   "metadata": {},
   "outputs": [],
   "source": [
    "# zip_df = pd.read_csv('zip_code_database.csv', converters={'zip': str})\n",
    "# zcdb = pd.Series(zip_df['state'].values,index=zip_df['zip']).to_dict()\n",
    "# df.loc[:,'VENDOR_STATE'] = df[\"VENDOR_ADDRESS_ZIP_CODE\"].map(zcdb, na_action='ignore')\n",
    "# df = df[~df['VENDOR_STATE'].isna()]"
   ]
  },
  {
   "cell_type": "code",
   "execution_count": 10,
   "id": "986640f6-82f4-4b0b-b7fb-55f8311cb57e",
   "metadata": {
    "tags": []
   },
   "outputs": [],
   "source": [
    "df.loc[:,'VENDOR_ADDRESS_ZIP_CODE'] = df['VENDOR_ADDRESS_ZIP_CODE'].str[:1]"
   ]
  },
  {
   "cell_type": "markdown",
   "id": "a90ed638-19e0-428f-9330-accc4a386ebf",
   "metadata": {},
   "source": [
    "## Model Preprocessing"
   ]
  },
  {
   "cell_type": "code",
   "execution_count": 11,
   "id": "93bee125-8a6d-4e68-a854-9881f44ccb0a",
   "metadata": {
    "tags": []
   },
   "outputs": [],
   "source": [
    "def preprocess_data(df, model_cols, train_test=True, train_size=0.8, scale_quant=True):\n",
    "    \"\"\"\n",
    "    Preprocesses the dataframe appropriately after creating the response variable and after feature engineering\n",
    "    Input:\n",
    "        df (dataframe output from response_var())\n",
    "        model_cols (list [str] of cols to use to model)\n",
    "        train_test (bool of whether to split the data into train/test groups)\n",
    "        train_size (float [0, 1] of proportion of training data to whole data)\n",
    "        scale_quant (bool of whether to scale quantitative variables)\n",
    "        \n",
    "    Output:\n",
    "        X (df of X values to be used in modeling, dummy encoded & scaled)\n",
    "        y (series of y values for modeling, label encoded)\n",
    "    \"\"\"\n",
    "    Xy = df[model_cols] #select only the modeling columns\n",
    "    \n",
    "    y = Xy['RESPONSE'] #initialize y\n",
    "    X = Xy.drop('RESPONSE', axis=1) #initialize X\n",
    "    \n",
    "    enc = LabelEncoder()\n",
    "    y = enc.fit_transform(y) #transform y into labeled column\n",
    "    global class_ids \n",
    "    class_ids = enc.classes_\n",
    "    \n",
    "    categoricals = X.select_dtypes(include=['object', 'category']).columns.tolist()\n",
    "    X_cat = pd.get_dummies(X[categoricals]) #one-hot encode categorical columns\n",
    "    \n",
    "    quantitatives = X.columns.difference(categoricals)\n",
    "    if scale_quant and len(quantitatives) > 0:\n",
    "        global scaler\n",
    "        scaler = StandardScaler()\n",
    "        X_quant = scaler.fit_transform(X[quantitatives]) #scale quantitative columns\n",
    "        X_quant = pd.DataFrame(X_quant, columns=quantitatives)\n",
    "        X_cat = X_cat.reset_index()\n",
    "    else:\n",
    "        X_quant = X[quantitatives]\n",
    "    \n",
    "    X = pd.concat([X_cat, X_quant], axis=1).drop('index', axis=1) #combine quant & cat subsets back into one df\n",
    "    \n",
    "    if train_test:\n",
    "        X_train, X_test, y_train, y_test = train_test_split(X, y, train_size=train_size, random_state=seed)\n",
    "        return X_train, X_test, y_train, y_test\n",
    "    else:\n",
    "        return X, y"
   ]
  },
  {
   "cell_type": "code",
   "execution_count": 12,
   "id": "11239654-d63c-42fe-ac27-d1442a559317",
   "metadata": {},
   "outputs": [],
   "source": [
    "X_train, X_test, y_train, y_test = preprocess_data(df, model_cols, train_test=True, train_size=0.8, scale_quant=True)"
   ]
  },
  {
   "cell_type": "code",
   "execution_count": 13,
   "id": "c3557618-094f-4537-87b6-86e9a18c7911",
   "metadata": {
    "tags": []
   },
   "outputs": [],
   "source": [
    "# pickle.dump(scaler, open('Dashboard_Scaler.pkl', 'wb'))"
   ]
  },
  {
   "cell_type": "markdown",
   "id": "84c81611-8879-4b83-9224-b3f76152fc6f",
   "metadata": {},
   "source": [
    "## Column Selection"
   ]
  },
  {
   "cell_type": "code",
   "execution_count": 14,
   "id": "08945871-0cd4-483e-bbb4-9624c1726bbd",
   "metadata": {
    "tags": []
   },
   "outputs": [],
   "source": [
    "def column_selection(X, y, col_tree_depth, cutoff=0.01, hard=True):\n",
    "    \"\"\"\n",
    "    Takes in a preprocessed X and y, returning the columns selected by feature importance.\n",
    "    If hard=True, the returned columns are exactly the variables above the cutoff value.\n",
    "    If hard=False, returned columns will add ones that belong to the same group as those output (e.g.\n",
    "    if ZIP_1, ZIP_0 are significant will also return the other ZIP_x variables)\n",
    "    Input:\n",
    "        X (df preprocessed by preprocess_data())\n",
    "        y (series preprocessed by preprocess_data())\n",
    "        col_tree_depth (int that dictates tree depth)\n",
    "        cutoff (float [0,1] that controls the minimum importance)\n",
    "        hard (bool that controls whether to only include columns above cutoff if True or adds \n",
    "        columns within the same group if False)\n",
    "    Output:\n",
    "        cols (list [str] of columns selected as significant)\n",
    "    \"\"\"\n",
    "    \n",
    "    forest = RandomForestClassifier(random_state=seed, max_depth=col_tree_depth)\n",
    "    forest.fit(X, y)\n",
    "    importances = forest.feature_importances_\n",
    "    #std = np.std([tree.feature_importances_ for tree in forest.estimators_], axis=0)\n",
    "    forest_importances = pd.Series(importances, index=X.columns)\n",
    "    \n",
    "    important_cols = forest_importances[forest_importances >= cutoff].index\n",
    "    \n",
    "    if hard:\n",
    "        print(len(important_cols))\n",
    "        return sorted(list(important_cols)) #return only above cutoff columns\n",
    "    if not hard:\n",
    "        zips = []\n",
    "        naics_codes = []\n",
    "        set_asides = []\n",
    "        \n",
    "        if any(important_cols.str.startswith('VENDOR_ADDRESS_ZIP_CODE')): #add in all zip columns\n",
    "            zips = ['VENDOR_ADDRESS_ZIP_CODE_' + str(i) for i in range(10)]\n",
    "            \n",
    "        if any(important_cols.str.startswith('PRINCIPAL_NAICS_CODE')): #add in all NAICS columns\n",
    "            naics_codes = pd.Series(X.columns)[pd.Series(X.columns).str.startswith('PRINCIPAL')].to_list()\n",
    "        \n",
    "        final_cols = sorted(list(set(list(important_cols) + zips + naics_codes)))\n",
    "        print(len(final_cols))\n",
    "        return final_cols"
   ]
  },
  {
   "cell_type": "code",
   "execution_count": 15,
   "id": "967e4d0e-841e-4681-b7bf-878c31509611",
   "metadata": {
    "tags": []
   },
   "outputs": [
    {
     "name": "stdout",
     "output_type": "stream",
     "text": [
      "239\n"
     ]
    }
   ],
   "source": [
    "final_cols = column_selection(X_train, y_train, col_tree_depth=col_tree_depth,\n",
    "                              cutoff=min_importance, hard=hard)"
   ]
  },
  {
   "cell_type": "code",
   "execution_count": 35,
   "id": "3901b7a6-3842-4e61-96e5-dc822913b0c9",
   "metadata": {
    "tags": []
   },
   "outputs": [],
   "source": [
    "# final_cols"
   ]
  },
  {
   "cell_type": "code",
   "execution_count": 17,
   "id": "fbda5b23-c18a-4822-be84-f1f89449307f",
   "metadata": {
    "tags": []
   },
   "outputs": [],
   "source": [
    "# pickle.dump(final_cols, open('Dashboard_Columns.pkl', 'wb'))"
   ]
  },
  {
   "cell_type": "code",
   "execution_count": 37,
   "id": "97a914cf-5255-4512-bdb6-7e0ffd5e9113",
   "metadata": {
    "tags": []
   },
   "outputs": [
    {
     "data": {
      "text/plain": [
       "(53046, 267)"
      ]
     },
     "execution_count": 37,
     "metadata": {},
     "output_type": "execute_result"
    }
   ],
   "source": [
    "X_test.shape"
   ]
  },
  {
   "cell_type": "markdown",
   "id": "e6aac910-f0d1-49bc-8e99-9f092f617172",
   "metadata": {
    "tags": []
   },
   "source": [
    "## Train Random Forest & Assess"
   ]
  },
  {
   "cell_type": "code",
   "execution_count": 18,
   "id": "001f085e-f80a-4a32-8694-fc8784cfdfc0",
   "metadata": {
    "tags": []
   },
   "outputs": [],
   "source": [
    "def train_models(X_train, X_test, y_train, y_test, columns, top_n_classes, n_trees=1000, max_depth=2):\n",
    "    X_train = X_train[columns]\n",
    "    X_test = X_test[columns]\n",
    "    \n",
    "    # Initialize the Random Forest model\n",
    "    random_forest = RandomForestClassifier(n_estimators=n_trees, max_depth=max_depth, random_state=seed,\n",
    "                                           criterion=\"log_loss\", class_weight=\"balanced_subsample\",\n",
    "                                           n_jobs=-1)\n",
    "\n",
    "    # Train the Random Forest model on the training data\n",
    "    random_forest.fit(X_train, y_train)\n",
    "    \n",
    "    return random_forest"
   ]
  },
  {
   "cell_type": "code",
   "execution_count": 19,
   "id": "bcfe3bbc-2c3a-46a0-9a40-18951ccdeb4e",
   "metadata": {
    "tags": []
   },
   "outputs": [],
   "source": [
    "def assess_models(model):\n",
    "    top_ns = []\n",
    "    accuracies = []\n",
    "    probabilities = model.predict_proba(X_test[final_cols])\n",
    "    for i in [1, 5, 10, 15, 20]:\n",
    "        # Get the top n predicted classes for each sample\n",
    "        top_n_indices = np.argsort(probabilities, axis=1)[:, -i:]\n",
    "\n",
    "        # Check if the true label is in the top n predicted classes for each sample\n",
    "        predicted_labels = model.classes_[top_n_indices]\n",
    "        accurate_predictions = np.any(predicted_labels == y_test[:, np.newaxis], axis=1)\n",
    "\n",
    "        # Calculate accuracy based on whether the true label is in the top n predicted classes\n",
    "        accuracy = np.mean(accurate_predictions)\n",
    "        accuracies += [accuracy]\n",
    "        top_ns += [i]\n",
    "    \n",
    "    return pd.DataFrame({'Top-n': top_ns, 'Accuracy': accuracies})"
   ]
  },
  {
   "cell_type": "code",
   "execution_count": 32,
   "id": "c7bfe4b6-b898-43f4-85cd-845622afe238",
   "metadata": {
    "tags": []
   },
   "outputs": [
    {
     "name": "stdout",
     "output_type": "stream",
     "text": [
      "CPU times: user 9min 34s, sys: 14.4 s, total: 9min 48s\n",
      "Wall time: 1min 37s\n"
     ]
    }
   ],
   "source": [
    "%%time\n",
    "forest_model = train_models(X_train, X_test, y_train, y_test,\n",
    "                            columns=final_cols, top_n_classes=top_n_classes,\n",
    "                            n_trees=n_trees, max_depth=max_depth)"
   ]
  },
  {
   "cell_type": "code",
   "execution_count": 33,
   "id": "752a06f9-efb1-41e4-b02f-00b1e1cd7618",
   "metadata": {
    "tags": []
   },
   "outputs": [],
   "source": [
    "# dfs = []\n",
    "# for depth in [12, 14, 16, 18]:\n",
    "#     for trees in [250, 500, 750, 1000]:\n",
    "#         b, forest_model = train_models(X_train, X_test, y_train, y_test,\n",
    "#                                                 columns=final_cols, top_n_classes=top_n_classes,\n",
    "#                                                 n_trees=trees, max_depth=depth)\n",
    "#         t_df = assess_models(forest_model)\n",
    "#         t_df['Depth'] = depth\n",
    "#         t_df['N_Trees'] = trees\n",
    "#         dfs += [t_df]\n",
    "\n",
    "# tuning_df = pd.concat(dfs).sort_values('Accuracy', ascending=False)"
   ]
  },
  {
   "cell_type": "code",
   "execution_count": 34,
   "id": "35f17337-aa4f-44a9-b662-f2ae7deb47da",
   "metadata": {
    "tags": []
   },
   "outputs": [
    {
     "data": {
      "text/html": [
       "<div>\n",
       "<style scoped>\n",
       "    .dataframe tbody tr th:only-of-type {\n",
       "        vertical-align: middle;\n",
       "    }\n",
       "\n",
       "    .dataframe tbody tr th {\n",
       "        vertical-align: top;\n",
       "    }\n",
       "\n",
       "    .dataframe thead th {\n",
       "        text-align: right;\n",
       "    }\n",
       "</style>\n",
       "<table border=\"1\" class=\"dataframe\">\n",
       "  <thead>\n",
       "    <tr style=\"text-align: right;\">\n",
       "      <th></th>\n",
       "      <th>Top-n</th>\n",
       "      <th>Accuracy</th>\n",
       "    </tr>\n",
       "  </thead>\n",
       "  <tbody>\n",
       "    <tr>\n",
       "      <th>0</th>\n",
       "      <td>1</td>\n",
       "      <td>0.723184</td>\n",
       "    </tr>\n",
       "    <tr>\n",
       "      <th>1</th>\n",
       "      <td>5</td>\n",
       "      <td>0.872658</td>\n",
       "    </tr>\n",
       "    <tr>\n",
       "      <th>2</th>\n",
       "      <td>10</td>\n",
       "      <td>0.907024</td>\n",
       "    </tr>\n",
       "    <tr>\n",
       "      <th>3</th>\n",
       "      <td>15</td>\n",
       "      <td>0.924349</td>\n",
       "    </tr>\n",
       "    <tr>\n",
       "      <th>4</th>\n",
       "      <td>20</td>\n",
       "      <td>0.935792</td>\n",
       "    </tr>\n",
       "  </tbody>\n",
       "</table>\n",
       "</div>"
      ],
      "text/plain": [
       "   Top-n  Accuracy\n",
       "0      1  0.723184\n",
       "1      5  0.872658\n",
       "2     10  0.907024\n",
       "3     15  0.924349\n",
       "4     20  0.935792"
      ]
     },
     "execution_count": 34,
     "metadata": {},
     "output_type": "execute_result"
    }
   ],
   "source": [
    "assess_df = assess_models(forest_model) #20 depth (93.1%), 25 depth (93.6%), 30 depth (93.8%)\n",
    "assess_df"
   ]
  },
  {
   "cell_type": "code",
   "execution_count": 23,
   "id": "c37942f7-2d39-4058-91ec-4783eb3555ea",
   "metadata": {
    "tags": []
   },
   "outputs": [
    {
     "data": {
      "text/plain": [
       "<Axes: >"
      ]
     },
     "execution_count": 23,
     "metadata": {},
     "output_type": "execute_result"
    },
    {
     "data": {
      "image/png": "[encoded data removed]",
      "text/plain": [
       "<Figure size 640x480 with 1 Axes>"
      ]
     },
     "metadata": {},
     "output_type": "display_data"
    }
   ],
   "source": [
    "pd.Series(forest_model.predict_proba(X_test[final_cols])[12]).sort_values(ascending=False).head(20).plot.barh()"
   ]
  },
  {
   "cell_type": "code",
   "execution_count": 24,
   "id": "1c7cbe5a-7352-4e8a-a406-24b0f11bc55f",
   "metadata": {
    "tags": []
   },
   "outputs": [],
   "source": [
    "def contract_competition(agencies):\n",
    "    results = {}\n",
    "    for agency in agencies:\n",
    "        subset_df = df0[df0['RESPONSE']==agency]\n",
    "        if not subset_df.empty:\n",
    "            lower_quantile = round(subset_df['NUMBER_OF_OFFERS_RECEIVED'].quantile(0.05),1)\n",
    "            upper_quantile = round(subset_df['NUMBER_OF_OFFERS_RECEIVED'].quantile(0.95),1)\n",
    "            average = round(subset_df['NUMBER_OF_OFFERS_RECEIVED'].mean(),1)\n",
    "\n",
    "            results[agency] = (lower_quantile, average, upper_quantile)\n",
    "        else:\n",
    "            results[agency] = \"No data available\"\n",
    "    return results"
   ]
  },
  {
   "cell_type": "code",
   "execution_count": 25,
   "id": "f150b811-a8d0-4f03-a190-892a883bdab8",
   "metadata": {
    "tags": []
   },
   "outputs": [],
   "source": [
    "all_agencies = list(df0['RESPONSE'].unique())"
   ]
  },
  {
   "cell_type": "code",
   "execution_count": 26,
   "id": "cd215ad3-3360-4f76-bfc5-87548eb084b8",
   "metadata": {
    "tags": []
   },
   "outputs": [],
   "source": [
    "n_contracts = contract_competition(all_agencies)"
   ]
  },
  {
   "cell_type": "code",
   "execution_count": 27,
   "id": "3189b2cf-65cf-4e2b-aa20-fa8f89b8bfc6",
   "metadata": {
    "tags": []
   },
   "outputs": [],
   "source": [
    "# pickle.dump(n_contracts, open('Agency_Contracts.pkl', 'wb'))"
   ]
  },
  {
   "cell_type": "code",
   "execution_count": 28,
   "id": "1f0b9e29-760f-4ff4-a9ba-7e82923dd6b7",
   "metadata": {
    "tags": []
   },
   "outputs": [],
   "source": [
    "# pickle.dump(forest_model, open('Agency_Model_250.pkl', 'wb'))"
   ]
  },
  {
   "cell_type": "code",
   "execution_count": 29,
   "id": "1827406f-909e-4591-9d4d-5a0db5e5c642",
   "metadata": {
    "tags": []
   },
   "outputs": [],
   "source": [
    "class_id_dict = {}\n",
    "for i, v in enumerate(class_ids):\n",
    "    class_id_dict[i] = v"
   ]
  },
  {
   "cell_type": "code",
   "execution_count": 30,
   "id": "93730e64-1881-4ad4-8ef2-f4f183e1043d",
   "metadata": {
    "tags": []
   },
   "outputs": [],
   "source": [
    "# pickle.dump(class_id_dict, open('Class_IDs.pkl', 'wb'))"
   ]
  },
  {
   "cell_type": "code",
   "execution_count": null,
   "id": "84a8248b-8cd5-41f6-bee0-40658f5dfe30",
   "metadata": {},
   "outputs": [],
   "source": []
  }
 ],
 "metadata": {
  "kernelspec": {
   "display_name": "Python 3 (ipykernel)",
   "language": "python",
   "name": "python3"
  },
  "language_info": {
   "codemirror_mode": {
    "name": "ipython",
    "version": 3
   },
   "file_extension": ".py",
   "mimetype": "text/x-python",
   "name": "python",
   "nbconvert_exporter": "python",
   "pygments_lexer": "ipython3",
   "version": "3.11.4"
  }
 },
 "nbformat": 4,
 "nbformat_minor": 5
}
